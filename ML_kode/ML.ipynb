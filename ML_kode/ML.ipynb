{
 "cells": [
  {
   "cell_type": "markdown",
   "metadata": {},
   "source": [
    "# Indlæser pakker"
   ]
  },
  {
   "cell_type": "code",
   "execution_count": 82,
   "metadata": {},
   "outputs": [],
   "source": [
    "import pandas as pd\n",
    "import matplotlib.pyplot as plt\n",
    "import seaborn as sns\n",
    "import numpy as np\n",
    "import geopandas as gpd\n",
    "from pathlib import Path # To make relative paths\n",
    "import plotly.express as px\n",
    "pd.options.display.max_columns = None\n",
    "import plotly.express as px\n",
    "import plotly.io as pio\n",
    "\n",
    "pio.renderers.default = 'browser'  # or 'browser', 'notebook_connected', etc., depending on your environment\n",
    "\n",
    "px.set_mapbox_access_token('your_mapbox_access_token_here')\n",
    "\n",
    "import pandas as pd\n",
    "from sklearn.model_selection import cross_val_score, KFold\n",
    "from sklearn.linear_model import Lasso\n",
    "from sklearn.preprocessing import StandardScaler\n",
    "from sklearn.pipeline import Pipeline\n",
    "from sklearn.model_selection import train_test_split\n",
    "from sklearn.pipeline import make_pipeline\n",
    "from sklearn.preprocessing import PolynomialFeatures, StandardScaler\n",
    "from sklearn.linear_model import LinearRegression\n",
    "from sklearn.metrics import mean_squared_error as mse\n",
    "import statistics as stat\n",
    "import warnings\n",
    "from sklearn.exceptions import ConvergenceWarning\n",
    "warnings.filterwarnings(action='ignore', category=ConvergenceWarning)\n",
    "\n"
   ]
  },
  {
   "cell_type": "markdown",
   "metadata": {},
   "source": [
    "# Sætter paths"
   ]
  },
  {
   "cell_type": "code",
   "execution_count": 2,
   "metadata": {},
   "outputs": [
    {
     "data": {
      "text/plain": [
       "WindowsPath('C:/Users/nld/Introduction to Data Science/Exam Project/Data')"
      ]
     },
     "execution_count": 2,
     "metadata": {},
     "output_type": "execute_result"
    }
   ],
   "source": [
    "my_path = Path.cwd() # Path to current directory\n",
    "project_path = my_path.parents[0] # Path to project directory\n",
    "data_path = project_path / 'Data' # Path to data folder\n",
    "data_path"
   ]
  },
  {
   "cell_type": "markdown",
   "metadata": {},
   "source": [
    "# Indlæser data"
   ]
  },
  {
   "cell_type": "code",
   "execution_count": 83,
   "metadata": {},
   "outputs": [],
   "source": [
    "# Samlet data\n",
    "final_df = pd.read_parquet(data_path/'ML_Dataset.parquet', engine='pyarrow')"
   ]
  },
  {
   "cell_type": "markdown",
   "metadata": {},
   "source": [
    "# ML"
   ]
  },
  {
   "cell_type": "markdown",
   "metadata": {},
   "source": [
    "## Klargør data til ML"
   ]
  },
  {
   "cell_type": "code",
   "execution_count": 84,
   "metadata": {},
   "outputs": [],
   "source": [
    "# Dividerer pris med 1 mio.\n",
    "final_df['priceMil'] = final_df['priceCash']/1000000"
   ]
  },
  {
   "cell_type": "code",
   "execution_count": 98,
   "metadata": {},
   "outputs": [],
   "source": [
    "# Udvælger variable\n",
    "model_df = final_df[['priceMil', 'job_density', 'distance_to_nearest_station', 'departures_per_hour', \n",
    "                    'distance_to_job_center', 'propertyType', 'energyClass', \n",
    "                     'rooms', 'size', 'lotSize', 'basementSize', 'exp',\n",
    "                   'buildYear', \n",
    "                     'municipality']].reset_index(drop=True)"
   ]
  },
  {
   "cell_type": "code",
   "execution_count": 99,
   "metadata": {},
   "outputs": [],
   "source": [
    "# Make dummy variables\n",
    "# Create dummy variables for propertyType, energyClass, and area\n",
    "model_df_dummies = pd.get_dummies(model_df, columns=['propertyType', 'energyClass', 'municipality'], drop_first=True)"
   ]
  },
  {
   "cell_type": "code",
   "execution_count": 101,
   "metadata": {},
   "outputs": [
    {
     "data": {
      "text/plain": [
       "Index(['job_density', 'distance_to_nearest_station', 'departures_per_hour',\n",
       "       'distance_to_job_center', 'rooms', 'size', 'lotSize', 'basementSize',\n",
       "       'exp', 'buildYear',\n",
       "       ...\n",
       "       'municipality_791.0', 'municipality_810.0', 'municipality_813.0',\n",
       "       'municipality_820.0', 'municipality_825.0', 'municipality_840.0',\n",
       "       'municipality_846.0', 'municipality_849.0', 'municipality_851.0',\n",
       "       'municipality_860.0'],\n",
       "      dtype='object', length=122)"
      ]
     },
     "execution_count": 101,
     "metadata": {},
     "output_type": "execute_result"
    }
   ],
   "source": [
    "# Define x and y variables\n",
    "X = model_df_dummies.drop('priceMil', axis=1)  # Features (drop the target variable)\n",
    "y = model_df_dummies['priceMil']               # Target variable"
   ]
  },
  {
   "cell_type": "code",
   "execution_count": 89,
   "metadata": {},
   "outputs": [],
   "source": [
    "# 1. Split data data into development and test\n",
    "X_dev, X_test, y_dev, y_test = train_test_split(X, y, test_size=1/3, random_state=161193)"
   ]
  },
  {
   "cell_type": "code",
   "execution_count": 90,
   "metadata": {},
   "outputs": [],
   "source": [
    "X_dev = X_dev.reset_index(drop = True)\n",
    "y_dev = y_dev.reset_index(drop = True)\n"
   ]
  },
  {
   "cell_type": "markdown",
   "metadata": {},
   "source": [
    "## LASSO"
   ]
  },
  {
   "cell_type": "code",
   "execution_count": 94,
   "metadata": {},
   "outputs": [
    {
     "name": "stdout",
     "output_type": "stream",
     "text": [
      "[6.253951989293123]\n",
      "[6.253951989293123, 8.174921492890059]\n",
      "[5.04907801506138]\n",
      "[5.04907801506138, 7.647996555565021]\n",
      "[4.04731295238682]\n",
      "[4.04731295238682, 5.313900419231829]\n",
      "[3.829401734257237]\n",
      "[3.829401734257237, 4.533756866534232]\n",
      "[4.649052615845205]\n",
      "[4.649052615845205, 5.0811967838667575]\n",
      "[5.859676662699008]\n",
      "[5.859676662699008, 7.20874697192688]\n",
      "[12.488078492894525]\n",
      "[12.488078492894525, 13.956862760059712]\n",
      "[12.488078492894525]\n",
      "[12.488078492894525, 13.956862760059712]\n",
      "[12.488078492894525]\n",
      "[12.488078492894525, 13.956862760059712]\n",
      "[12.488078492894525]\n",
      "[12.488078492894525, 13.956862760059712]\n",
      "[12.488078492894525]\n",
      "[12.488078492894525, 13.956862760059712]\n",
      "[12.488078492894525]\n",
      "[12.488078492894525, 13.956862760059712]\n"
     ]
    }
   ],
   "source": [
    "from sklearn.model_selection import KFold\n",
    "kfolds = KFold(n_splits=2)\n",
    "folds = list(kfolds.split(X_dev, y_dev))\n",
    "folds\n",
    "\n",
    "# Define lambds\n",
    "lambdas =  np.logspace(-4, 4, 12)\n",
    "\n",
    "# Outer loop: lambdas\n",
    "mseCV = []\n",
    "for lambda_ in lambdas:    \n",
    "    \n",
    "    # Inner loop: folds\n",
    "    mseCV_ = []    \n",
    "    for train_idx, val_idx in folds:        \n",
    "        \n",
    "        # Train model and compute MSE on test fold\n",
    "        # Make pipeline\n",
    "        pipe_lasso = make_pipeline(PolynomialFeatures(degree = 2, include_bias=False),\n",
    "                                     StandardScaler(),\n",
    "                                     Lasso(alpha=lambda_, random_state=161193))   \n",
    "        # Split development data into training and validation data\n",
    "        X_train, y_train = X_dev.iloc[train_idx], y_dev[train_idx]\n",
    "        X_val, y_val = X_dev.iloc[val_idx], y_dev[val_idx] \n",
    "        \n",
    "        # Train the model using pipe_lasso\n",
    "        pipe_lasso.fit(X_train, y_train)\n",
    "        \n",
    "        # Calculate MSE for validation data\n",
    "        mseCV_.append(mse(pipe_lasso.predict(X_val), y_val))    \n",
    "        print(mseCV_)\n",
    "    \n",
    "    # Calculate average mean squared error in validation data\n",
    "    avg_mse = stat.mean(mseCV_) \n",
    "\n",
    "    # Store result    \n",
    "    mseCV.append(avg_mse) \n",
    "    \n"
   ]
  },
  {
   "cell_type": "code",
   "execution_count": 97,
   "metadata": {},
   "outputs": [
    {
     "name": "stdout",
     "output_type": "stream",
     "text": [
      "The optimal lambda (alpha) that gives the lowest test AMSE is: 0.01519911082952933\n",
      "The lowest test AMSE is: 4.181579300395734\n"
     ]
    },
    {
     "data": {
      "text/html": [
       "<div>\n",
       "<style scoped>\n",
       "    .dataframe tbody tr th:only-of-type {\n",
       "        vertical-align: middle;\n",
       "    }\n",
       "\n",
       "    .dataframe tbody tr th {\n",
       "        vertical-align: top;\n",
       "    }\n",
       "\n",
       "    .dataframe thead th {\n",
       "        text-align: right;\n",
       "    }\n",
       "</style>\n",
       "<table border=\"1\" class=\"dataframe\">\n",
       "  <thead>\n",
       "    <tr style=\"text-align: right;\">\n",
       "      <th></th>\n",
       "      <th>0</th>\n",
       "    </tr>\n",
       "  </thead>\n",
       "  <tbody>\n",
       "    <tr>\n",
       "      <th>0.000100</th>\n",
       "      <td>7.214437</td>\n",
       "    </tr>\n",
       "    <tr>\n",
       "      <th>0.000534</th>\n",
       "      <td>6.348537</td>\n",
       "    </tr>\n",
       "    <tr>\n",
       "      <th>0.002848</th>\n",
       "      <td>4.680607</td>\n",
       "    </tr>\n",
       "    <tr>\n",
       "      <th>0.015199</th>\n",
       "      <td>4.181579</td>\n",
       "    </tr>\n",
       "    <tr>\n",
       "      <th>0.081113</th>\n",
       "      <td>4.865125</td>\n",
       "    </tr>\n",
       "    <tr>\n",
       "      <th>0.432876</th>\n",
       "      <td>6.534212</td>\n",
       "    </tr>\n",
       "    <tr>\n",
       "      <th>2.310130</th>\n",
       "      <td>13.222471</td>\n",
       "    </tr>\n",
       "    <tr>\n",
       "      <th>12.328467</th>\n",
       "      <td>13.222471</td>\n",
       "    </tr>\n",
       "    <tr>\n",
       "      <th>65.793322</th>\n",
       "      <td>13.222471</td>\n",
       "    </tr>\n",
       "    <tr>\n",
       "      <th>351.119173</th>\n",
       "      <td>13.222471</td>\n",
       "    </tr>\n",
       "    <tr>\n",
       "      <th>1873.817423</th>\n",
       "      <td>13.222471</td>\n",
       "    </tr>\n",
       "    <tr>\n",
       "      <th>10000.000000</th>\n",
       "      <td>13.222471</td>\n",
       "    </tr>\n",
       "  </tbody>\n",
       "</table>\n",
       "</div>"
      ],
      "text/plain": [
       "                      0\n",
       "0.000100       7.214437\n",
       "0.000534       6.348537\n",
       "0.002848       4.680607\n",
       "0.015199       4.181579\n",
       "0.081113       4.865125\n",
       "0.432876       6.534212\n",
       "2.310130      13.222471\n",
       "12.328467     13.222471\n",
       "65.793322     13.222471\n",
       "351.119173    13.222471\n",
       "1873.817423   13.222471\n",
       "10000.000000  13.222471"
      ]
     },
     "execution_count": 97,
     "metadata": {},
     "output_type": "execute_result"
    }
   ],
   "source": [
    "# Convert to DataFrame\n",
    "lambdaCV = pd.DataFrame(mseCV, index=lambdas)\n",
    "lambdaCV\n",
    "\n",
    "# Find the index of the minimum RMSE for the test set\n",
    "min_mse_val_index = np.argmin(mseCV)\n",
    "\n",
    "# Find the corresponding lambda value\n",
    "optimal_lambda = lambdas[min_mse_val_index]\n",
    "\n",
    "# Find the corresponding minimum RMSE value\n",
    "min_mse_val = mseCV[min_mse_val_index]\n",
    "\n",
    "print(f\"The optimal lambda (alpha) that gives the lowest test AMSE is: {optimal_lambda}\")\n",
    "print(f\"The lowest test AMSE is: {min_mse_val}\")\n",
    "lambdaCV"
   ]
  },
  {
   "cell_type": "code",
   "execution_count": 102,
   "metadata": {},
   "outputs": [
    {
     "name": "stdout",
     "output_type": "stream",
     "text": [
      "lambda\n",
      "0.015199    4.181579\n",
      "Name: Validation, dtype: float64\n"
     ]
    }
   ],
   "source": [
    "# LOAD FROM SCIKIT-LEARN\n",
    "from sklearn.model_selection import validation_curve\n",
    "\n",
    "# Define lambds\n",
    "lambdas =  np.logspace(-4, 4, 12)\n",
    "\n",
    "# FIT AND EVALUATE FOR DIFFERENT LAMBDAS\n",
    "train_scores, test_scores = \\\n",
    "    validation_curve(estimator=pipe_lasso,\n",
    "                     X=X_dev,\n",
    "                     y=y_dev,\n",
    "                     param_name='lasso__alpha', #built-in name of hyperparameter\n",
    "                     param_range=lambdas, #values to consider\n",
    "                     scoring='neg_mean_squared_error',                 \n",
    "                     cv=2)\n",
    "\n",
    "# OBTAIN MSE FOR DIFFERENT LAMBDAS AND PRINT BEST\n",
    "mse_score = pd.DataFrame({'Train':-train_scores.mean(axis=1),\n",
    "                          'Validation':-test_scores.mean(axis=1),\n",
    "                          'lambda':lambdas})\\\n",
    "              .set_index('lambda')   \n",
    "print(mse_score.Validation.nsmallest(1))\n",
    "\n",
    "# YAY we get the same result as in the previous excercise"
   ]
  },
  {
   "cell_type": "code",
   "execution_count": 119,
   "metadata": {},
   "outputs": [
    {
     "data": {
      "image/png": "[encoded data removed]",
      "text/plain": [
       "<Figure size 720x432 with 1 Axes>"
      ]
     },
     "metadata": {
      "needs_background": "light"
     },
     "output_type": "display_data"
    }
   ],
   "source": [
    "# Plot average MSE for train and test data against different values of lambda\n",
    "plt.figure(figsize=(10, 6))\n",
    "plt.plot(lambdas, np.sqrt(mse_score['Train']), label='Train MSE')\n",
    "plt.plot(lambdas, np.sqrt(mse_score['Validation']), label='Validation MSE')\n",
    "plt.xscale('log')\n",
    "plt.xlabel('Lambda (Alpha)')\n",
    "plt.ylabel('Average Mean Squared Error')\n",
    "plt.title('Average RMSE vs Lambda for Lasso Regression')\n",
    "plt.legend()\n",
    "plt.grid(True)"
   ]
  },
  {
   "cell_type": "code",
   "execution_count": 104,
   "metadata": {},
   "outputs": [
    {
     "name": "stdout",
     "output_type": "stream",
     "text": [
      "Beta coefficients: [ 0. -0.  0. ...  0.  0. -0.]\n",
      "Intercept: 3.086554841353516\n"
     ]
    }
   ],
   "source": [
    "from sklearn.linear_model import Lasso\n",
    "from sklearn.pipeline import make_pipeline\n",
    "from sklearn.preprocessing import StandardScaler\n",
    "\n",
    "# Suppose you have chosen a specific lambda value from the mse_score DataFrame\n",
    "chosen_lambda = mse_score.Validation.idxmin()  # Selects the lambda with the smallest validation error\n",
    "\n",
    "# Recreate the pipeline (if not already defined)\n",
    "pipe_lasso = make_pipeline(PolynomialFeatures(degree = 2, include_bias=False),\n",
    "                                     StandardScaler(),\n",
    "                                     Lasso(alpha=chosen_lambda, random_state=161193))   \n",
    "\n",
    "# Fit the model on the entire development set (or a training set)\n",
    "pipe_lasso.fit(X_dev, y_dev)\n",
    "\n",
    "# Access the coefficients (beta parameters)\n",
    "beta_parameters = pipe_lasso.named_steps['lasso'].coef_\n",
    "\n",
    "# Optionally, you can also access the intercept\n",
    "intercept = pipe_lasso.named_steps['lasso'].intercept_\n",
    "\n",
    "print(\"Beta coefficients:\", beta_parameters)\n",
    "print(\"Intercept:\", intercept)\n"
   ]
  },
  {
   "cell_type": "code",
   "execution_count": 118,
   "metadata": {},
   "outputs": [
    {
     "data": {
      "text/html": [
       "<div>\n",
       "<style scoped>\n",
       "    .dataframe tbody tr th:only-of-type {\n",
       "        vertical-align: middle;\n",
       "    }\n",
       "\n",
       "    .dataframe tbody tr th {\n",
       "        vertical-align: top;\n",
       "    }\n",
       "\n",
       "    .dataframe thead th {\n",
       "        text-align: right;\n",
       "    }\n",
       "</style>\n",
       "<table border=\"1\" class=\"dataframe\">\n",
       "  <thead>\n",
       "    <tr style=\"text-align: right;\">\n",
       "      <th></th>\n",
       "      <th>Feature</th>\n",
       "      <th>Coefficient</th>\n",
       "    </tr>\n",
       "  </thead>\n",
       "  <tbody>\n",
       "    <tr>\n",
       "      <th>290</th>\n",
       "      <td>buildYear municipality_230.0</td>\n",
       "      <td>-0.431723</td>\n",
       "    </tr>\n",
       "    <tr>\n",
       "      <th>6</th>\n",
       "      <td>job_density departures_per_hour</td>\n",
       "      <td>-0.430651</td>\n",
       "    </tr>\n",
       "    <tr>\n",
       "      <th>16</th>\n",
       "      <td>job_density municipality_157.0</td>\n",
       "      <td>-0.398970</td>\n",
       "    </tr>\n",
       "    <tr>\n",
       "      <th>251</th>\n",
       "      <td>basementSize propertyType_3</td>\n",
       "      <td>-0.377399</td>\n",
       "    </tr>\n",
       "    <tr>\n",
       "      <th>83</th>\n",
       "      <td>departures_per_hour municipality_157.0</td>\n",
       "      <td>-0.290839</td>\n",
       "    </tr>\n",
       "    <tr>\n",
       "      <th>...</th>\n",
       "      <td>...</td>\n",
       "      <td>...</td>\n",
       "    </tr>\n",
       "    <tr>\n",
       "      <th>158</th>\n",
       "      <td>size buildYear</td>\n",
       "      <td>0.573807</td>\n",
       "    </tr>\n",
       "    <tr>\n",
       "      <th>172</th>\n",
       "      <td>size municipality_157.0</td>\n",
       "      <td>0.710202</td>\n",
       "    </tr>\n",
       "    <tr>\n",
       "      <th>7</th>\n",
       "      <td>job_density size</td>\n",
       "      <td>0.858217</td>\n",
       "    </tr>\n",
       "    <tr>\n",
       "      <th>182</th>\n",
       "      <td>size municipality_230.0</td>\n",
       "      <td>1.218915</td>\n",
       "    </tr>\n",
       "    <tr>\n",
       "      <th>76</th>\n",
       "      <td>departures_per_hour size</td>\n",
       "      <td>1.260380</td>\n",
       "    </tr>\n",
       "  </tbody>\n",
       "</table>\n",
       "<p>442 rows × 2 columns</p>\n",
       "</div>"
      ],
      "text/plain": [
       "                                    Feature  Coefficient\n",
       "290            buildYear municipality_230.0    -0.431723\n",
       "6           job_density departures_per_hour    -0.430651\n",
       "16           job_density municipality_157.0    -0.398970\n",
       "251             basementSize propertyType_3    -0.377399\n",
       "83   departures_per_hour municipality_157.0    -0.290839\n",
       "..                                      ...          ...\n",
       "158                          size buildYear     0.573807\n",
       "172                 size municipality_157.0     0.710202\n",
       "7                          job_density size     0.858217\n",
       "182                 size municipality_230.0     1.218915\n",
       "76                 departures_per_hour size     1.260380\n",
       "\n",
       "[442 rows x 2 columns]"
      ]
     },
     "execution_count": 118,
     "metadata": {},
     "output_type": "execute_result"
    }
   ],
   "source": [
    "#  Retrieve the feature names from the PolynomialFeatures step\n",
    "feature_names = pipe_lasso.named_steps['polynomialfeatures'].get_feature_names_out(input_features=X_dev.columns)\n",
    "\n",
    "# # Identify the non-zero coefficients\n",
    "non_zero_indices = beta_parameters != 0\n",
    "non_zero_coefficients = beta_parameters[non_zero_indices]\n",
    "\n",
    "# Get corresponding feature names for non-zero coefficients\n",
    "selected_features = feature_names[non_zero_indices]\n",
    "\n",
    "# Create a DataFrame for easy visualization\n",
    "non_zero_df = pd.DataFrame({\n",
    "    'Feature': selected_features,\n",
    "    'Coefficient': non_zero_coefficients\n",
    "})\n",
    "\n",
    "# print(non_zero_df)\n",
    "non_zero_df.sort_values('Coefficient')"
   ]
  },
  {
   "cell_type": "code",
   "execution_count": 130,
   "metadata": {},
   "outputs": [
    {
     "data": {
      "text/html": [
       "<div>\n",
       "<style scoped>\n",
       "    .dataframe tbody tr th:only-of-type {\n",
       "        vertical-align: middle;\n",
       "    }\n",
       "\n",
       "    .dataframe tbody tr th {\n",
       "        vertical-align: top;\n",
       "    }\n",
       "\n",
       "    .dataframe thead th {\n",
       "        text-align: right;\n",
       "    }\n",
       "</style>\n",
       "<table border=\"1\" class=\"dataframe\">\n",
       "  <thead>\n",
       "    <tr style=\"text-align: right;\">\n",
       "      <th></th>\n",
       "      <th>Feature</th>\n",
       "      <th>Coefficient</th>\n",
       "    </tr>\n",
       "  </thead>\n",
       "  <tbody>\n",
       "    <tr>\n",
       "      <th>6</th>\n",
       "      <td>lotSize</td>\n",
       "      <td>0.176418</td>\n",
       "    </tr>\n",
       "    <tr>\n",
       "      <th>23</th>\n",
       "      <td>energyClass_F</td>\n",
       "      <td>-0.079420</td>\n",
       "    </tr>\n",
       "    <tr>\n",
       "      <th>39</th>\n",
       "      <td>municipality_185.0</td>\n",
       "      <td>0.007145</td>\n",
       "    </tr>\n",
       "    <tr>\n",
       "      <th>45</th>\n",
       "      <td>municipality_219.0</td>\n",
       "      <td>0.025000</td>\n",
       "    </tr>\n",
       "    <tr>\n",
       "      <th>94</th>\n",
       "      <td>municipality_665.0</td>\n",
       "      <td>-0.000079</td>\n",
       "    </tr>\n",
       "    <tr>\n",
       "      <th>105</th>\n",
       "      <td>municipality_756.0</td>\n",
       "      <td>-0.017397</td>\n",
       "    </tr>\n",
       "  </tbody>\n",
       "</table>\n",
       "</div>"
      ],
      "text/plain": [
       "                Feature  Coefficient\n",
       "6               lotSize     0.176418\n",
       "23        energyClass_F    -0.079420\n",
       "39   municipality_185.0     0.007145\n",
       "45   municipality_219.0     0.025000\n",
       "94   municipality_665.0    -0.000079\n",
       "105  municipality_756.0    -0.017397"
      ]
     },
     "execution_count": 130,
     "metadata": {},
     "output_type": "execute_result"
    }
   ],
   "source": [
    "# Create a DataFrame for easy visualization\n",
    "all_betas = pd.DataFrame({\n",
    "    'Feature': feature_names,\n",
    "    'Coefficient': beta_parameters\n",
    "})\n",
    "all_betas[0:121][all_betas[0:121]['Coefficient']!=0]"
   ]
  },
  {
   "cell_type": "code",
   "execution_count": null,
   "metadata": {},
   "outputs": [],
   "source": []
  }
 ],
 "metadata": {
  "kernelspec": {
   "display_name": "Python 3",
   "language": "python",
   "name": "python3"
  },
  "language_info": {
   "codemirror_mode": {
    "name": "ipython",
    "version": 3
   },
   "file_extension": ".py",
   "mimetype": "text/x-python",
   "name": "python",
   "nbconvert_exporter": "python",
   "pygments_lexer": "ipython3",
   "version": "3.8.5"
  }
 },
 "nbformat": 4,
 "nbformat_minor": 4
}
