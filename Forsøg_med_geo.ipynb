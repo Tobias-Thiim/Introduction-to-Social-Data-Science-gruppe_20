{
 "cells": [
  {
   "cell_type": "code",
   "execution_count": 2,
   "id": "1baeb48c-d4db-4311-8877-b5cbc49d2f44",
   "metadata": {},
   "outputs": [
    {
     "name": "stdout",
     "output_type": "stream",
     "text": [
      "Afstanden mellem adresserne er 15.47 kilometer.\n"
     ]
    }
   ],
   "source": [
    "from geopy.geocoders import Nominatim\n",
    "from geopy.distance import geodesic\n",
    "\n",
    "# Initialiser geocoder\n",
    "geolocator = Nominatim(user_agent=\"geoapiExercises\")\n",
    "\n",
    "# Funktion til at geokode en adresse\n",
    "def geocode_address(address):\n",
    "    location = geolocator.geocode(address)\n",
    "    return (location.latitude, location.longitude)\n",
    "\n",
    "# Adresser\n",
    "address1 = \"Lyngbakkevej 4, 8654 Bryrup, Denmark\"\n",
    "address2 = \"Vejlsøvej 55, 8600 Silkeborg, Denmark\"\n",
    "\n",
    "# Geokode adresser\n",
    "coords1 = geocode_address(address1)\n",
    "coords2 = geocode_address(address2)\n",
    "\n",
    "# Beregn afstanden\n",
    "distance = geodesic(coords1, coords2).kilometers\n",
    "\n",
    "print(f\"Afstanden mellem adresserne er {distance:.2f} kilometer.\")\n"
   ]
  }
 ],
 "metadata": {
  "kernelspec": {
   "display_name": "Python 3 (ipykernel)",
   "language": "python",
   "name": "python3"
  },
  "language_info": {
   "codemirror_mode": {
    "name": "ipython",
    "version": 3
   },
   "file_extension": ".py",
   "mimetype": "text/x-python",
   "name": "python",
   "nbconvert_exporter": "python",
   "pygments_lexer": "ipython3",
   "version": "3.11.7"
  }
 },
 "nbformat": 4,
 "nbformat_minor": 5
}
