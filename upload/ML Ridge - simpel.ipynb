{
 "cells": [
  {
   "cell_type": "code",
   "execution_count": null,
   "metadata": {},
   "outputs": [],
   "source": []
  },
  {
   "cell_type": "markdown",
   "metadata": {},
   "source": [
    "# Indlæser pakker"
   ]
  },
  {
   "cell_type": "code",
   "execution_count": 21,
   "metadata": {},
   "outputs": [],
   "source": [
    "import pandas as pd\n",
    "pd.options.display.max_columns = None\n",
    "import matplotlib.pyplot as plt\n",
    "import numpy as np\n",
    "from pathlib import Path # To make relative paths\n",
    "\n",
    "from sklearn.model_selection import cross_val_score, KFold\n",
    "from sklearn.model_selection import train_test_split\n",
    "\n",
    "from sklearn.linear_model import Lasso\n",
    "from sklearn.linear_model import Ridge\n",
    "\n",
    "from sklearn.preprocessing import StandardScaler\n",
    "from sklearn.preprocessing import PolynomialFeatures, StandardScaler\n",
    "\n",
    "from sklearn.pipeline import Pipeline\n",
    "from sklearn.pipeline import make_pipeline\n",
    "\n",
    "from sklearn.metrics import mean_squared_error as mse\n",
    "import statistics as stat\n",
    "import warnings\n",
    "from sklearn.exceptions import ConvergenceWarning\n",
    "warnings.filterwarnings(action='ignore', category=ConvergenceWarning)"
   ]
  },
  {
   "cell_type": "markdown",
   "metadata": {},
   "source": [
    "# Sætter paths"
   ]
  },
  {
   "cell_type": "code",
   "execution_count": 22,
   "metadata": {},
   "outputs": [
    {
     "data": {
      "text/plain": [
       "WindowsPath('C:/Users/nld/Introduction to Data Science/Exam Project/Data')"
      ]
     },
     "execution_count": 22,
     "metadata": {},
     "output_type": "execute_result"
    }
   ],
   "source": [
    "my_path = Path.cwd() # Path to current directory\n",
    "project_path = my_path.parents[0] # Path to project directory\n",
    "data_path = project_path / 'Data' # Path to data folder\n",
    "figure_path = project_path / 'Figures' # Path to data folder\n",
    "\n",
    "data_path"
   ]
  },
  {
   "cell_type": "markdown",
   "metadata": {},
   "source": [
    "# Indlæser data"
   ]
  },
  {
   "cell_type": "code",
   "execution_count": 23,
   "metadata": {},
   "outputs": [],
   "source": [
    "# Samlet data\n",
    "final_df = pd.read_parquet(data_path/'ML_Dataset.parquet', engine='pyarrow')"
   ]
  },
  {
   "cell_type": "markdown",
   "metadata": {},
   "source": [
    "# ML"
   ]
  },
  {
   "cell_type": "markdown",
   "metadata": {},
   "source": [
    "## Klargør data til ML"
   ]
  },
  {
   "cell_type": "code",
   "execution_count": 24,
   "metadata": {},
   "outputs": [],
   "source": [
    "# Dividerer pris med 1 mio.\n",
    "final_df['priceMil'] = final_df['priceCash']/1000000"
   ]
  },
  {
   "cell_type": "code",
   "execution_count": 25,
   "metadata": {},
   "outputs": [],
   "source": [
    "# Udvælger variable\n",
    "model_df = final_df[['priceMil', 'propertyType', 'energyClass', \n",
    "                     'rooms', 'size', 'lotSize', 'basementSize', 'exp',\n",
    "                   'buildYear', \n",
    "                     'municipality']].reset_index(drop=True)"
   ]
  },
  {
   "cell_type": "code",
   "execution_count": 26,
   "metadata": {},
   "outputs": [
    {
     "data": {
      "text/plain": [
       "42709"
      ]
     },
     "execution_count": 26,
     "metadata": {},
     "output_type": "execute_result"
    }
   ],
   "source": [
    "# Fjerner observationer med fejl i expenses\n",
    "model_df = model_df[(model_df['exp']<100000) & (model_df['exp']!=0)]\n",
    "len(model_df)\n"
   ]
  },
  {
   "cell_type": "code",
   "execution_count": 27,
   "metadata": {},
   "outputs": [],
   "source": [
    "# Make dummy variables\n",
    "# Create dummy variables for propertyType, energyClass, and area\n",
    "model_df_dummies = pd.get_dummies(model_df, columns=['propertyType', 'energyClass', 'municipality'], drop_first=True)"
   ]
  },
  {
   "cell_type": "code",
   "execution_count": 28,
   "metadata": {},
   "outputs": [],
   "source": [
    "# Define x and y variables\n",
    "X = model_df_dummies.drop('priceMil', axis=1)  # Features (drop the target variable)\n",
    "y = model_df_dummies['priceMil']               # Target variable"
   ]
  },
  {
   "cell_type": "code",
   "execution_count": 29,
   "metadata": {},
   "outputs": [],
   "source": [
    "# 1. Split data data into development and test\n",
    "X_dev, X_test, y_dev, y_test = train_test_split(X, y, test_size=1/3, random_state=161193)"
   ]
  },
  {
   "cell_type": "code",
   "execution_count": 30,
   "metadata": {},
   "outputs": [],
   "source": [
    "X_dev = X_dev.reset_index(drop = True)\n",
    "y_dev = y_dev.reset_index(drop = True)\n"
   ]
  },
  {
   "cell_type": "markdown",
   "metadata": {},
   "source": [
    "## Ridge"
   ]
  },
  {
   "cell_type": "markdown",
   "metadata": {},
   "source": [
    "### 1. Cross validation\n",
    "Laver k-fold cross validation med forskellige parametre af lambda for at finde optimalt lambda"
   ]
  },
  {
   "cell_type": "code",
   "execution_count": 31,
   "metadata": {},
   "outputs": [
    {
     "name": "stdout",
     "output_type": "stream",
     "text": [
      "[5.804795662244842]\n",
      "[5.804795662244842, 5.5392109620577505]\n",
      "[3.856087805360606]\n",
      "[3.856087805360606, 4.272492334953958]\n",
      "[2.8160534033386817]\n",
      "[2.8160534033386817, 3.7121302265928824]\n",
      "[2.701506306942553]\n",
      "[2.701506306942553, 4.025956245940518]\n",
      "[2.702071328291736]\n",
      "[2.702071328291736, 4.01930563585325]\n",
      "[3.8439091757591393]\n",
      "[3.8439091757591393, 3.311862545615724]\n",
      "[8.886122019776636]\n",
      "[8.886122019776636, 7.030680623525166]\n",
      "[13.76359564167562]\n",
      "[13.76359564167562, 12.308194260444541]\n",
      "[14.857295291509036]\n",
      "[14.857295291509036, 13.58804189636587]\n",
      "[15.005331207275194]\n",
      "[15.005331207275194, 13.76345013063359]\n",
      "[15.023800873430508]\n",
      "[15.023800873430508, 13.78537008282439]\n",
      "[15.026081268125994]\n",
      "[15.026081268125994, 13.788077013073302]\n"
     ]
    }
   ],
   "source": [
    "from sklearn.model_selection import KFold\n",
    "kfolds = KFold(n_splits=2)\n",
    "folds = list(kfolds.split(X_dev, y_dev))\n",
    "folds\n",
    "\n",
    "# Define lambds\n",
    "lambdas =  np.logspace(0, 10, 12)\n",
    "\n",
    "# Outer loop: lambdas\n",
    "mseCV = []\n",
    "for lambda_ in lambdas:    \n",
    "    \n",
    "    # Inner loop: folds\n",
    "    mseCV_ = []    \n",
    "    for train_idx, val_idx in folds:        \n",
    "        \n",
    "        # Train model and compute MSE on test fold\n",
    "        # Make pipeline\n",
    "        pipe_ridge = make_pipeline(PolynomialFeatures(degree = 2, include_bias=False),\n",
    "                                     StandardScaler(),\n",
    "                                     Ridge(alpha=lambda_, random_state=161193))   \n",
    "        # Split development data into training and validation data\n",
    "        X_train, y_train = X_dev.iloc[train_idx], y_dev[train_idx]\n",
    "        X_val, y_val = X_dev.iloc[val_idx], y_dev[val_idx] \n",
    "        \n",
    "        # Train the model using pipe_lasso\n",
    "        pipe_ridge.fit(X_train, y_train)\n",
    "        \n",
    "        # Calculate MSE for validation data\n",
    "        mseCV_.append(mse(pipe_ridge.predict(X_val), y_val))    \n",
    "        print(mseCV_)\n",
    "    \n",
    "    # Calculate average mean squared error in validation data\n",
    "    avg_mse = stat.mean(mseCV_) \n",
    "\n",
    "    # Store result    \n",
    "    mseCV.append(avg_mse) \n",
    "    \n"
   ]
  },
  {
   "cell_type": "code",
   "execution_count": 32,
   "metadata": {},
   "outputs": [
    {
     "name": "stdout",
     "output_type": "stream",
     "text": [
      "The optimal lambda (alpha) that gives the lowest test AMSE is: 65.79332246575679\n",
      "The lowest test AMSE is: 3.264091814965782\n"
     ]
    },
    {
     "data": {
      "text/html": [
       "<div>\n",
       "<style scoped>\n",
       "    .dataframe tbody tr th:only-of-type {\n",
       "        vertical-align: middle;\n",
       "    }\n",
       "\n",
       "    .dataframe tbody tr th {\n",
       "        vertical-align: top;\n",
       "    }\n",
       "\n",
       "    .dataframe thead th {\n",
       "        text-align: right;\n",
       "    }\n",
       "</style>\n",
       "<table border=\"1\" class=\"dataframe\">\n",
       "  <thead>\n",
       "    <tr style=\"text-align: right;\">\n",
       "      <th></th>\n",
       "      <th>0</th>\n",
       "    </tr>\n",
       "  </thead>\n",
       "  <tbody>\n",
       "    <tr>\n",
       "      <th>1.000000e+00</th>\n",
       "      <td>5.672003</td>\n",
       "    </tr>\n",
       "    <tr>\n",
       "      <th>8.111308e+00</th>\n",
       "      <td>4.064290</td>\n",
       "    </tr>\n",
       "    <tr>\n",
       "      <th>6.579332e+01</th>\n",
       "      <td>3.264092</td>\n",
       "    </tr>\n",
       "    <tr>\n",
       "      <th>5.336699e+02</th>\n",
       "      <td>3.363731</td>\n",
       "    </tr>\n",
       "    <tr>\n",
       "      <th>4.328761e+03</th>\n",
       "      <td>3.360688</td>\n",
       "    </tr>\n",
       "    <tr>\n",
       "      <th>3.511192e+04</th>\n",
       "      <td>3.577886</td>\n",
       "    </tr>\n",
       "    <tr>\n",
       "      <th>2.848036e+05</th>\n",
       "      <td>7.958401</td>\n",
       "    </tr>\n",
       "    <tr>\n",
       "      <th>2.310130e+06</th>\n",
       "      <td>13.035895</td>\n",
       "    </tr>\n",
       "    <tr>\n",
       "      <th>1.873817e+07</th>\n",
       "      <td>14.222669</td>\n",
       "    </tr>\n",
       "    <tr>\n",
       "      <th>1.519911e+08</th>\n",
       "      <td>14.384391</td>\n",
       "    </tr>\n",
       "    <tr>\n",
       "      <th>1.232847e+09</th>\n",
       "      <td>14.404585</td>\n",
       "    </tr>\n",
       "    <tr>\n",
       "      <th>1.000000e+10</th>\n",
       "      <td>14.407079</td>\n",
       "    </tr>\n",
       "  </tbody>\n",
       "</table>\n",
       "</div>"
      ],
      "text/plain": [
       "                      0\n",
       "1.000000e+00   5.672003\n",
       "8.111308e+00   4.064290\n",
       "6.579332e+01   3.264092\n",
       "5.336699e+02   3.363731\n",
       "4.328761e+03   3.360688\n",
       "3.511192e+04   3.577886\n",
       "2.848036e+05   7.958401\n",
       "2.310130e+06  13.035895\n",
       "1.873817e+07  14.222669\n",
       "1.519911e+08  14.384391\n",
       "1.232847e+09  14.404585\n",
       "1.000000e+10  14.407079"
      ]
     },
     "execution_count": 32,
     "metadata": {},
     "output_type": "execute_result"
    }
   ],
   "source": [
    "# Convert to DataFrame\n",
    "lambdaCV = pd.DataFrame(mseCV, index=lambdas)\n",
    "lambdaCV\n",
    "\n",
    "# Find the index of the minimum RMSE for the test set\n",
    "min_mse_val_index = np.argmin(mseCV)\n",
    "\n",
    "# Find the corresponding lambda value\n",
    "optimal_lambda = lambdas[min_mse_val_index]\n",
    "\n",
    "# Find the corresponding minimum RMSE value\n",
    "min_mse_val = mseCV[min_mse_val_index]\n",
    "\n",
    "print(f\"The optimal lambda (alpha) that gives the lowest test AMSE is: {optimal_lambda}\")\n",
    "print(f\"The lowest test AMSE is: {min_mse_val}\")\n",
    "lambdaCV"
   ]
  },
  {
   "cell_type": "code",
   "execution_count": 33,
   "metadata": {},
   "outputs": [
    {
     "name": "stdout",
     "output_type": "stream",
     "text": [
      "lambda\n",
      "316.227766    2.571808\n",
      "Name: Validation, dtype: float64\n"
     ]
    }
   ],
   "source": [
    "# LOAD FROM SCIKIT-LEARN\n",
    "from sklearn.model_selection import validation_curve\n",
    "\n",
    "# Define lambds\n",
    "lambdas =  np.logspace(0, 10, 25)\n",
    "\n",
    "# FIT AND EVALUATE FOR DIFFERENT LAMBDAS\n",
    "train_scores, test_scores = \\\n",
    "    validation_curve(estimator=pipe_ridge,\n",
    "                     X=X_dev,\n",
    "                     y=y_dev,\n",
    "                     param_name='ridge__alpha', #built-in name of hyperparameter\n",
    "                     param_range=lambdas, #values to consider\n",
    "                     scoring='neg_mean_squared_error',                 \n",
    "                     cv=5)\n",
    "\n",
    "# OBTAIN MSE FOR DIFFERENT LAMBDAS AND PRINT BEST\n",
    "mse_score = pd.DataFrame({'Train':-train_scores.mean(axis=1),\n",
    "                          'Validation':-test_scores.mean(axis=1),\n",
    "                          'lambda':lambdas})\\\n",
    "              .set_index('lambda')   \n",
    "print(mse_score.Validation.nsmallest(1))\n",
    "\n",
    "# YAY we get the same result as in the previous excercise"
   ]
  },
  {
   "cell_type": "markdown",
   "metadata": {},
   "source": [
    "### 2. Plotter MSE for forskellige værdier af lambda"
   ]
  },
  {
   "cell_type": "code",
   "execution_count": 34,
   "metadata": {},
   "outputs": [
    {
     "data": {
      "image/png": "[encoded data removed]",
      "text/plain": [
       "<Figure size 720x432 with 1 Axes>"
      ]
     },
     "metadata": {
      "needs_background": "light"
     },
     "output_type": "display_data"
    }
   ],
   "source": [
    "# Plot average MSE for train and test data against different values of lambda\n",
    "plt.figure(figsize=(10, 6))\n",
    "plt.plot(lambdas, np.sqrt(mse_score['Train']), label='Train', color = '#003f5c')\n",
    "plt.plot(lambdas, np.sqrt(mse_score['Validation']), label='Validation', color = '#ffa600')\n",
    "plt.xscale('log')\n",
    "plt.xlabel('Lambda (Alpha)', fontsize = 12)\n",
    "plt.ylabel('Average Root Mean Squared Error', fontsize = 12)\n",
    "plt.title('Average RMSE vs Lambda for Lasso Regression', fontsize = 16)\n",
    "plt.legend()\n",
    "# Save the plot as a PNG file\n",
    "plt.savefig(figure_path/'ridge_full_model_validation_curve_title.jpg', dpi=300, bbox_inches='tight')\n"
   ]
  },
  {
   "cell_type": "code",
   "execution_count": 51,
   "metadata": {},
   "outputs": [
    {
     "data": {
      "image/png": "[encoded data removed]",
      "text/plain": [
       "<Figure size 720x432 with 1 Axes>"
      ]
     },
     "metadata": {
      "needs_background": "light"
     },
     "output_type": "display_data"
    }
   ],
   "source": [
    "# Assuming lambdas and mse_score are already defined\n",
    "plt.figure(figsize=(10, 6))\n",
    "plt.plot(lambdas, np.sqrt(mse_score['Train']), label='Train', color='#2b8cbe')\n",
    "plt.plot(lambdas, np.sqrt(mse_score['Validation']), label='Validation', color='#a8ddb5')\n",
    "plt.xscale('log')\n",
    "plt.xlabel('Lambda (Alpha)', font='Georgia', fontsize=14)\n",
    "plt.ylabel('Average Root Mean Squared Error', font='Georgia', fontsize=14)\n",
    "plt.title('Simple model', font='Georgia', fontsize=16)\n",
    "plt.legend(fontsize=14)  # Set legend font to Georgia\n",
    "plt.xticks(fontsize=14)\n",
    "plt.yticks(fontsize=14)\n",
    "# Save the plot as a PNG file\n",
    "plt.savefig(figure_path/'ridge_simple_model_validation_curve.jpg', dpi=300, bbox_inches='tight')\n"
   ]
  },
  {
   "cell_type": "markdown",
   "metadata": {},
   "source": [
    "### 3. Fitter model på hele træningsdata"
   ]
  },
  {
   "cell_type": "code",
   "execution_count": 35,
   "metadata": {},
   "outputs": [
    {
     "name": "stdout",
     "output_type": "stream",
     "text": [
      "Beta coefficients: [ 0.05749241  0.2940843   0.11083672 ... -0.03535812  0.\n",
      " -0.05945703]\n",
      "Intercept: 3.142992070279566\n"
     ]
    }
   ],
   "source": [
    "from sklearn.linear_model import Lasso\n",
    "from sklearn.pipeline import make_pipeline\n",
    "from sklearn.preprocessing import StandardScaler\n",
    "\n",
    "# Suppose you have chosen a specific lambda value from the mse_score DataFrame\n",
    "chosen_lambda = mse_score.Validation.idxmin()  # Selects the lambda with the smallest validation error\n",
    "\n",
    "# Recreate the pipeline (if not already defined)\n",
    "pipe_ridge = make_pipeline(PolynomialFeatures(degree = 2, include_bias=False),\n",
    "                                     StandardScaler(),\n",
    "                                     Ridge(alpha=chosen_lambda, random_state=161193))   \n",
    "\n",
    "# Fit the model on the entire development set (or a training set)\n",
    "pipe_ridge.fit(X_dev, y_dev)\n",
    "\n",
    "# Access the coefficients (beta parameters)\n",
    "beta_parameters = pipe_ridge.named_steps['ridge'].coef_\n",
    "\n",
    "# Optionally, you can also access the intercept\n",
    "intercept = pipe_ridge.named_steps['ridge'].intercept_\n",
    "\n",
    "print(\"Beta coefficients:\", beta_parameters)\n",
    "print(\"Intercept:\", intercept)\n"
   ]
  },
  {
   "cell_type": "markdown",
   "metadata": {},
   "source": [
    "### 4. Tester på model"
   ]
  },
  {
   "cell_type": "code",
   "execution_count": 36,
   "metadata": {},
   "outputs": [
    {
     "name": "stdout",
     "output_type": "stream",
     "text": [
      "MSE: 12.3432\n",
      "R2: 0.4209\n"
     ]
    }
   ],
   "source": [
    "from sklearn.metrics import r2_score\n",
    "\n",
    "# Beregner MSE på baggrund af testdata\n",
    "mse(pipe_ridge.predict(X_test), y_test)\n",
    "\n",
    "# Calculate predictions\n",
    "y_pred = pipe_ridge.predict(X_test)\n",
    "\n",
    "# Beregner MSE på baggrund af testdata\n",
    "print(f\"MSE: {mse(y_pred, y_test):.4f}\")\n",
    "print(f\"R2: {r2_score(y_pred, y_test, sample_weight=None, multioutput=None):.4f}\")\n",
    "\n",
    "# print(f\"MSE: {mse(y_test, y_pred):.4f}\")\n",
    "# print(f\"R2: {r2_score(y_test, y_pred, sample_weight=None, multioutput=None):.4f}\")\n",
    "\n"
   ]
  },
  {
   "cell_type": "markdown",
   "metadata": {},
   "source": [
    "### 5. Finder parameterestimater"
   ]
  },
  {
   "cell_type": "code",
   "execution_count": 38,
   "metadata": {},
   "outputs": [
    {
     "data": {
      "text/html": [
       "<div>\n",
       "<style scoped>\n",
       "    .dataframe tbody tr th:only-of-type {\n",
       "        vertical-align: middle;\n",
       "    }\n",
       "\n",
       "    .dataframe tbody tr th {\n",
       "        vertical-align: top;\n",
       "    }\n",
       "\n",
       "    .dataframe thead th {\n",
       "        text-align: right;\n",
       "    }\n",
       "</style>\n",
       "<table border=\"1\" class=\"dataframe\">\n",
       "  <thead>\n",
       "    <tr style=\"text-align: right;\">\n",
       "      <th></th>\n",
       "      <th>Feature</th>\n",
       "      <th>Coefficient</th>\n",
       "    </tr>\n",
       "  </thead>\n",
       "  <tbody>\n",
       "    <tr>\n",
       "      <th>589</th>\n",
       "      <td>exp propertyType_3</td>\n",
       "      <td>-0.610280</td>\n",
       "    </tr>\n",
       "    <tr>\n",
       "      <th>697</th>\n",
       "      <td>exp municipality_846.0</td>\n",
       "      <td>-0.457667</td>\n",
       "    </tr>\n",
       "    <tr>\n",
       "      <th>121</th>\n",
       "      <td>rooms lotSize</td>\n",
       "      <td>-0.360065</td>\n",
       "    </tr>\n",
       "    <tr>\n",
       "      <th>590</th>\n",
       "      <td>exp propertyType_6</td>\n",
       "      <td>-0.357472</td>\n",
       "    </tr>\n",
       "    <tr>\n",
       "      <th>475</th>\n",
       "      <td>basementSize propertyType_3</td>\n",
       "      <td>-0.320951</td>\n",
       "    </tr>\n",
       "    <tr>\n",
       "      <th>...</th>\n",
       "      <td>...</td>\n",
       "      <td>...</td>\n",
       "    </tr>\n",
       "    <tr>\n",
       "      <th>244</th>\n",
       "      <td>size propertyType_3</td>\n",
       "      <td>0.466553</td>\n",
       "    </tr>\n",
       "    <tr>\n",
       "      <th>123</th>\n",
       "      <td>rooms exp</td>\n",
       "      <td>0.495574</td>\n",
       "    </tr>\n",
       "    <tr>\n",
       "      <th>239</th>\n",
       "      <td>size lotSize</td>\n",
       "      <td>0.532513</td>\n",
       "    </tr>\n",
       "    <tr>\n",
       "      <th>587</th>\n",
       "      <td>exp buildYear</td>\n",
       "      <td>0.961912</td>\n",
       "    </tr>\n",
       "    <tr>\n",
       "      <th>4</th>\n",
       "      <td>exp</td>\n",
       "      <td>1.224325</td>\n",
       "    </tr>\n",
       "  </tbody>\n",
       "</table>\n",
       "<p>2120 rows × 2 columns</p>\n",
       "</div>"
      ],
      "text/plain": [
       "                         Feature  Coefficient\n",
       "589           exp propertyType_3    -0.610280\n",
       "697       exp municipality_846.0    -0.457667\n",
       "121                rooms lotSize    -0.360065\n",
       "590           exp propertyType_6    -0.357472\n",
       "475  basementSize propertyType_3    -0.320951\n",
       "..                           ...          ...\n",
       "244          size propertyType_3     0.466553\n",
       "123                    rooms exp     0.495574\n",
       "239                 size lotSize     0.532513\n",
       "587                exp buildYear     0.961912\n",
       "4                            exp     1.224325\n",
       "\n",
       "[2120 rows x 2 columns]"
      ]
     },
     "execution_count": 38,
     "metadata": {},
     "output_type": "execute_result"
    }
   ],
   "source": [
    "#  Retrieve the feature names from the PolynomialFeatures step\n",
    "feature_names = pipe_ridge.named_steps['polynomialfeatures'].get_feature_names_out(input_features=X_dev.columns)\n",
    "\n",
    "# # Identify the non-zero coefficients\n",
    "non_zero_indices = beta_parameters != 0\n",
    "non_zero_coefficients = beta_parameters[non_zero_indices]\n",
    "\n",
    "# Get corresponding feature names for non-zero coefficients\n",
    "selected_features = feature_names[non_zero_indices]\n",
    "\n",
    "# Create a DataFrame for easy visualization\n",
    "non_zero_df = pd.DataFrame({\n",
    "    'Feature': selected_features,\n",
    "    'Coefficient': non_zero_coefficients\n",
    "})\n",
    "\n",
    "# print(non_zero_df)\n",
    "non_zero_df.sort_values('Coefficient')"
   ]
  },
  {
   "cell_type": "code",
   "execution_count": 39,
   "metadata": {},
   "outputs": [
    {
     "data": {
      "text/html": [
       "<div>\n",
       "<style scoped>\n",
       "    .dataframe tbody tr th:only-of-type {\n",
       "        vertical-align: middle;\n",
       "    }\n",
       "\n",
       "    .dataframe tbody tr th {\n",
       "        vertical-align: top;\n",
       "    }\n",
       "\n",
       "    .dataframe thead th {\n",
       "        text-align: right;\n",
       "    }\n",
       "</style>\n",
       "<table border=\"1\" class=\"dataframe\">\n",
       "  <thead>\n",
       "    <tr style=\"text-align: right;\">\n",
       "      <th></th>\n",
       "      <th>Feature</th>\n",
       "      <th>Coefficient</th>\n",
       "    </tr>\n",
       "  </thead>\n",
       "  <tbody>\n",
       "    <tr>\n",
       "      <th>120</th>\n",
       "      <td>rooms size</td>\n",
       "      <td>-0.202801</td>\n",
       "    </tr>\n",
       "    <tr>\n",
       "      <th>119</th>\n",
       "      <td>rooms^2</td>\n",
       "      <td>-0.099378</td>\n",
       "    </tr>\n",
       "    <tr>\n",
       "      <th>81</th>\n",
       "      <td>municipality_561.0</td>\n",
       "      <td>-0.096567</td>\n",
       "    </tr>\n",
       "    <tr>\n",
       "      <th>99</th>\n",
       "      <td>municipality_740.0</td>\n",
       "      <td>-0.091015</td>\n",
       "    </tr>\n",
       "    <tr>\n",
       "      <th>85</th>\n",
       "      <td>municipality_580.0</td>\n",
       "      <td>-0.066738</td>\n",
       "    </tr>\n",
       "    <tr>\n",
       "      <th>...</th>\n",
       "      <td>...</td>\n",
       "      <td>...</td>\n",
       "    </tr>\n",
       "    <tr>\n",
       "      <th>7</th>\n",
       "      <td>propertyType_3</td>\n",
       "      <td>0.071010</td>\n",
       "    </tr>\n",
       "    <tr>\n",
       "      <th>3</th>\n",
       "      <td>basementSize</td>\n",
       "      <td>0.102035</td>\n",
       "    </tr>\n",
       "    <tr>\n",
       "      <th>2</th>\n",
       "      <td>lotSize</td>\n",
       "      <td>0.110837</td>\n",
       "    </tr>\n",
       "    <tr>\n",
       "      <th>1</th>\n",
       "      <td>size</td>\n",
       "      <td>0.294084</td>\n",
       "    </tr>\n",
       "    <tr>\n",
       "      <th>4</th>\n",
       "      <td>exp</td>\n",
       "      <td>1.224325</td>\n",
       "    </tr>\n",
       "  </tbody>\n",
       "</table>\n",
       "<p>121 rows × 2 columns</p>\n",
       "</div>"
      ],
      "text/plain": [
       "                Feature  Coefficient\n",
       "120          rooms size    -0.202801\n",
       "119             rooms^2    -0.099378\n",
       "81   municipality_561.0    -0.096567\n",
       "99   municipality_740.0    -0.091015\n",
       "85   municipality_580.0    -0.066738\n",
       "..                  ...          ...\n",
       "7        propertyType_3     0.071010\n",
       "3          basementSize     0.102035\n",
       "2               lotSize     0.110837\n",
       "1                  size     0.294084\n",
       "4                   exp     1.224325\n",
       "\n",
       "[121 rows x 2 columns]"
      ]
     },
     "execution_count": 39,
     "metadata": {},
     "output_type": "execute_result"
    }
   ],
   "source": [
    "# Create a DataFrame for easy visualization\n",
    "all_betas = pd.DataFrame({\n",
    "    'Feature': feature_names,\n",
    "    'Coefficient': beta_parameters\n",
    "})\n",
    "all_betas[0:121][all_betas[0:121]['Coefficient']!=0].sort_values('Coefficient')"
   ]
  },
  {
   "cell_type": "markdown",
   "metadata": {},
   "source": [
    "### 6. Plotter predicted values med actual prices"
   ]
  },
  {
   "cell_type": "code",
   "execution_count": 40,
   "metadata": {},
   "outputs": [],
   "source": [
    "y_predict = pipe_ridge.predict(X_test)"
   ]
  },
  {
   "cell_type": "code",
   "execution_count": 54,
   "metadata": {},
   "outputs": [
    {
     "data": {
      "image/png": "[encoded data removed]",
      "text/plain": [
       "<Figure size 720x432 with 1 Axes>"
      ]
     },
     "metadata": {
      "needs_background": "light"
     },
     "output_type": "display_data"
    }
   ],
   "source": [
    "# Create the plot\n",
    "plt.figure(figsize=(10, 6))\n",
    "\n",
    "# You can use either a line plot or a scatter plot depending on your data\n",
    "plt.plot(y_test, y_predict, 'o', label='Data points', color = '#2b8cbe', alpha = 0.5)  # 'o' for scatter plot\n",
    "# plt.scatter(y_test, y_pred, label='Data points')  # Alternative scatter plot\n",
    "\n",
    "# Plot the perfect correlation line (y = x)\n",
    "min_value = min(min(y_test), min(y_predict))\n",
    "max_value = max(max(y_test), max(y_predict))\n",
    "\n",
    "plt.plot([min_value, max_value], [min_value, max_value], color='red', label='Perfect correlation (predicted = actual)', linestyle='--')\n",
    "\n",
    "\n",
    "# Add labels and title\n",
    "plt.xlabel('Actual values in test data set', font = 'Georgia', fontsize = 14)\n",
    "plt.ylabel('Predicted values in test data set', font = 'Georgia', fontsize = 14)\n",
    "plt.title('Simple Model', font = 'Georgia', fontsize = 16)\n",
    "plt.xticks(fontsize = 14)\n",
    "plt.yticks(fontsize = 14)\n",
    "plt.xlim(-2,110)\n",
    "# plt.ylim(-2,110)\n",
    "\n",
    "\n",
    "# Add a legend\n",
    "plt.legend()\n",
    "\n",
    "# Save the plot as a PNG file\n",
    "plt.savefig(figure_path/'ridge_simple_model_prediction.jpg', dpi=300, bbox_inches='tight')\n"
   ]
  },
  {
   "cell_type": "code",
   "execution_count": null,
   "metadata": {},
   "outputs": [],
   "source": [
    "# Næste skridt:\n",
    "# 1. Fit model på hele træningsdata\n",
    "# 2. Predict på test data og regn RMSE\n",
    "# 3. Sammenlign med andre fx Ridge\n",
    "# 4. Plot predicted og actual prices"
   ]
  },
  {
   "cell_type": "code",
   "execution_count": 57,
   "metadata": {},
   "outputs": [],
   "source": []
  },
  {
   "cell_type": "code",
   "execution_count": null,
   "metadata": {},
   "outputs": [],
   "source": []
  }
 ],
 "metadata": {
  "kernelspec": {
   "display_name": "Python 3",
   "language": "python",
   "name": "python3"
  },
  "language_info": {
   "codemirror_mode": {
    "name": "ipython",
    "version": 3
   },
   "file_extension": ".py",
   "mimetype": "text/x-python",
   "name": "python",
   "nbconvert_exporter": "python",
   "pygments_lexer": "ipython3",
   "version": "3.8.5"
  }
 },
 "nbformat": 4,
 "nbformat_minor": 4
}
