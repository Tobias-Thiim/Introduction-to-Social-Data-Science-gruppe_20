{
 "cells": [
  {
   "cell_type": "code",
   "execution_count": 53,
   "id": "487f84ed-c69d-4ae5-aedb-158ec6714d87",
   "metadata": {},
   "outputs": [
    {
     "ename": "NameError",
     "evalue": "name 'Final_Real_Estate_Pos' is not defined",
     "output_type": "error",
     "traceback": [
      "\u001b[1;31m---------------------------------------------------------------------------\u001b[0m",
      "\u001b[1;31mNameError\u001b[0m                                 Traceback (most recent call last)",
      "Cell \u001b[1;32mIn[53], line 14\u001b[0m\n\u001b[0;32m     11\u001b[0m \u001b[38;5;28;01mfrom\u001b[39;00m \u001b[38;5;21;01msklearn\u001b[39;00m\u001b[38;5;21;01m.\u001b[39;00m\u001b[38;5;21;01mlinear_model\u001b[39;00m \u001b[38;5;28;01mimport\u001b[39;00m LinearRegression\n\u001b[0;32m     13\u001b[0m \u001b[38;5;66;03m# Mocking up the DataFrame with the additional columns\u001b[39;00m\n\u001b[1;32m---> 14\u001b[0m Final_Real_Estate_Pos\n",
      "\u001b[1;31mNameError\u001b[0m: name 'Final_Real_Estate_Pos' is not defined"
     ]
    }
   ],
   "source": [
    "import os\n",
    "import json\n",
    "import time\n",
    "import requests\n",
    "import tqdm\n",
    "import pandas as pd\n",
    "from scipy.spatial import KDTree\n",
    "from geopy.distance import geodesic\n",
    "import matplotlib.pyplot as plt\n",
    "import seaborn as sns\n",
    "from sklearn.linear_model import LinearRegression\n",
    "\n",
    "# Mocking up the DataFrame with the additional columns\n",
    "Final_Real_Estate_Pos"
   ]
  },
  {
   "cell_type": "code",
   "execution_count": 15,
   "id": "df188be6-41e1-4a39-8e7b-c50b85ae3426",
   "metadata": {},
   "outputs": [],
   "source": [
    "property_types = [\n",
    "    \"villa\", \"condo\", \"terraced house\", \"holiday house\", \"cooperative\",\n",
    "    \"farm\", \"hobby farm\", \"full year plot\", \"villa apartment\", \n",
    "    \"holiday plot\", \"houseboat\"\n",
    "]\n"
   ]
  },
  {
   "cell_type": "code",
   "execution_count": 16,
   "id": "8c3cff7e-472e-4bdb-a385-69fbdabe00c8",
   "metadata": {},
   "outputs": [],
   "source": [
    "# Load already completed pages if available\n",
    "completed_pages_file = 'completed_pages.json'\n",
    "completed_pages = {}\n",
    "\n",
    "if os.path.exists(completed_pages_file):\n",
    "    try:\n",
    "        with open(completed_pages_file, 'r') as f:\n",
    "            completed_pages = json.load(f)\n",
    "            # Convert lists back to sets\n",
    "            for key in completed_pages:\n",
    "                completed_pages[key] = set(completed_pages[key])\n",
    "    except json.JSONDecodeError:\n",
    "        print(f\"Warning: Could not decode JSON from {completed_pages_file}. Initializing a new empty dictionary.\")\n"
   ]
  },
  {
   "cell_type": "code",
   "execution_count": 17,
   "id": "c17c9f8c-c079-40b2-a87b-821620bdbcfb",
   "metadata": {},
   "outputs": [
    {
     "name": "stdout",
     "output_type": "stream",
     "text": [
      "Scraping data for: villa\n",
      "Scraping data for: condo\n",
      "Scraping data for: terraced house\n",
      "Scraping data for: holiday house\n",
      "Scraping data for: cooperative\n",
      "Scraping data for: farm\n",
      "Scraping data for: hobby farm\n",
      "Scraping data for: full year plot\n",
      "Scraping data for: villa apartment\n",
      "Scraping data for: holiday plot\n",
      "Scraping data for: houseboat\n",
      "Skipping already downloaded page 200 for houseboat\n"
     ]
    }
   ],
   "source": [
    "all_dataframes = []  # List to store DataFrames for each property type\n",
    "\n",
    "for property_type in property_types:\n",
    "    print(f\"Scraping data for: {property_type}\")\n",
    "    property_links = []\n",
    "    \n",
    "    for page in range(1, 201):  # Iterate over the first 200 pages for each property type\n",
    "        if completed_pages.get(property_type, set()).issuperset({page}):\n",
    "            print(f\"Skipping already downloaded page {page} for {property_type}\")\n",
    "            continue\n",
    "        \n",
    "        url = f'https://api.boligsiden.dk/search/cases?addressTypes={property_type.replace(\" \", \"%20\")}&per_page=50&page={page}&sortAscending=true&sortBy=timeOnMarket'\n",
    "        property_links.append((url, page))\n"
   ]
  },
  {
   "cell_type": "code",
   "execution_count": 18,
   "id": "6e5504d2-2caa-4344-91a0-55221bc4c72b",
   "metadata": {
    "scrolled": true
   },
   "outputs": [
    {
     "name": "stderr",
     "output_type": "stream",
     "text": [
      "  1%|▊                                                                                 | 2/199 [00:02<04:14,  1.29s/it]"
     ]
    },
    {
     "name": "stdout",
     "output_type": "stream",
     "text": [
      "Warning: Received 'None' for postings at page 2 for houseboat\n"
     ]
    },
    {
     "name": "stderr",
     "output_type": "stream",
     "text": [
      "  2%|█▏                                                                                | 3/199 [00:03<04:03,  1.24s/it]"
     ]
    },
    {
     "name": "stdout",
     "output_type": "stream",
     "text": [
      "Warning: Received 'None' for postings at page 3 for houseboat\n"
     ]
    },
    {
     "name": "stderr",
     "output_type": "stream",
     "text": [
      "  2%|█▋                                                                                | 4/199 [00:04<03:53,  1.20s/it]"
     ]
    },
    {
     "name": "stdout",
     "output_type": "stream",
     "text": [
      "Warning: Received 'None' for postings at page 4 for houseboat\n"
     ]
    },
    {
     "name": "stderr",
     "output_type": "stream",
     "text": [
      "  3%|██                                                                                | 5/199 [00:06<03:50,  1.19s/it]"
     ]
    },
    {
     "name": "stdout",
     "output_type": "stream",
     "text": [
      "Warning: Received 'None' for postings at page 5 for houseboat\n"
     ]
    },
    {
     "name": "stderr",
     "output_type": "stream",
     "text": [
      "  3%|██▍                                                                               | 6/199 [00:07<03:47,  1.18s/it]"
     ]
    },
    {
     "name": "stdout",
     "output_type": "stream",
     "text": [
      "Warning: Received 'None' for postings at page 6 for houseboat\n"
     ]
    },
    {
     "name": "stderr",
     "output_type": "stream",
     "text": [
      "  4%|██▉                                                                               | 7/199 [00:08<03:46,  1.18s/it]"
     ]
    },
    {
     "name": "stdout",
     "output_type": "stream",
     "text": [
      "Warning: Received 'None' for postings at page 7 for houseboat\n"
     ]
    },
    {
     "name": "stderr",
     "output_type": "stream",
     "text": [
      "  4%|███▎                                                                              | 8/199 [00:09<03:44,  1.17s/it]"
     ]
    },
    {
     "name": "stdout",
     "output_type": "stream",
     "text": [
      "Warning: Received 'None' for postings at page 8 for houseboat\n"
     ]
    },
    {
     "name": "stderr",
     "output_type": "stream",
     "text": [
      "  5%|███▋                                                                              | 9/199 [00:10<03:42,  1.17s/it]"
     ]
    },
    {
     "name": "stdout",
     "output_type": "stream",
     "text": [
      "Warning: Received 'None' for postings at page 9 for houseboat\n"
     ]
    },
    {
     "name": "stderr",
     "output_type": "stream",
     "text": [
      "  5%|████                                                                             | 10/199 [00:11<03:39,  1.16s/it]"
     ]
    },
    {
     "name": "stdout",
     "output_type": "stream",
     "text": [
      "Warning: Received 'None' for postings at page 10 for houseboat\n"
     ]
    },
    {
     "name": "stderr",
     "output_type": "stream",
     "text": [
      "  6%|████▍                                                                            | 11/199 [00:13<03:36,  1.15s/it]"
     ]
    },
    {
     "name": "stdout",
     "output_type": "stream",
     "text": [
      "Warning: Received 'None' for postings at page 11 for houseboat\n"
     ]
    },
    {
     "name": "stderr",
     "output_type": "stream",
     "text": [
      "  6%|████▉                                                                            | 12/199 [00:14<03:34,  1.15s/it]"
     ]
    },
    {
     "name": "stdout",
     "output_type": "stream",
     "text": [
      "Warning: Received 'None' for postings at page 12 for houseboat\n"
     ]
    },
    {
     "name": "stderr",
     "output_type": "stream",
     "text": [
      "  7%|█████▎                                                                           | 13/199 [00:15<03:35,  1.16s/it]"
     ]
    },
    {
     "name": "stdout",
     "output_type": "stream",
     "text": [
      "Warning: Received 'None' for postings at page 13 for houseboat\n"
     ]
    },
    {
     "name": "stderr",
     "output_type": "stream",
     "text": [
      "  7%|█████▋                                                                           | 14/199 [00:16<03:33,  1.15s/it]"
     ]
    },
    {
     "name": "stdout",
     "output_type": "stream",
     "text": [
      "Warning: Received 'None' for postings at page 14 for houseboat\n"
     ]
    },
    {
     "name": "stderr",
     "output_type": "stream",
     "text": [
      "  8%|██████                                                                           | 15/199 [00:17<03:30,  1.15s/it]"
     ]
    },
    {
     "name": "stdout",
     "output_type": "stream",
     "text": [
      "Warning: Received 'None' for postings at page 15 for houseboat\n"
     ]
    },
    {
     "name": "stderr",
     "output_type": "stream",
     "text": [
      "  8%|██████▌                                                                          | 16/199 [00:18<03:30,  1.15s/it]"
     ]
    },
    {
     "name": "stdout",
     "output_type": "stream",
     "text": [
      "Warning: Received 'None' for postings at page 16 for houseboat\n"
     ]
    },
    {
     "name": "stderr",
     "output_type": "stream",
     "text": [
      "  9%|██████▉                                                                          | 17/199 [00:19<03:29,  1.15s/it]"
     ]
    },
    {
     "name": "stdout",
     "output_type": "stream",
     "text": [
      "Warning: Received 'None' for postings at page 17 for houseboat\n"
     ]
    },
    {
     "name": "stderr",
     "output_type": "stream",
     "text": [
      "  9%|███████▎                                                                         | 18/199 [00:21<03:29,  1.15s/it]"
     ]
    },
    {
     "name": "stdout",
     "output_type": "stream",
     "text": [
      "Warning: Received 'None' for postings at page 18 for houseboat\n"
     ]
    },
    {
     "name": "stderr",
     "output_type": "stream",
     "text": [
      " 10%|███████▋                                                                         | 19/199 [00:22<03:28,  1.16s/it]"
     ]
    },
    {
     "name": "stdout",
     "output_type": "stream",
     "text": [
      "Warning: Received 'None' for postings at page 19 for houseboat\n"
     ]
    },
    {
     "name": "stderr",
     "output_type": "stream",
     "text": [
      " 10%|████████▏                                                                        | 20/199 [00:23<03:28,  1.17s/it]"
     ]
    },
    {
     "name": "stdout",
     "output_type": "stream",
     "text": [
      "Warning: Received 'None' for postings at page 20 for houseboat\n"
     ]
    },
    {
     "name": "stderr",
     "output_type": "stream",
     "text": [
      " 11%|████████▌                                                                        | 21/199 [00:24<03:29,  1.18s/it]"
     ]
    },
    {
     "name": "stdout",
     "output_type": "stream",
     "text": [
      "Warning: Received 'None' for postings at page 21 for houseboat\n"
     ]
    },
    {
     "name": "stderr",
     "output_type": "stream",
     "text": [
      " 11%|████████▉                                                                        | 22/199 [00:25<03:30,  1.19s/it]"
     ]
    },
    {
     "name": "stdout",
     "output_type": "stream",
     "text": [
      "Warning: Received 'None' for postings at page 22 for houseboat\n"
     ]
    },
    {
     "name": "stderr",
     "output_type": "stream",
     "text": [
      " 12%|█████████▎                                                                       | 23/199 [00:27<03:29,  1.19s/it]"
     ]
    },
    {
     "name": "stdout",
     "output_type": "stream",
     "text": [
      "Warning: Received 'None' for postings at page 23 for houseboat\n"
     ]
    },
    {
     "name": "stderr",
     "output_type": "stream",
     "text": [
      " 12%|█████████▊                                                                       | 24/199 [00:28<03:27,  1.19s/it]"
     ]
    },
    {
     "name": "stdout",
     "output_type": "stream",
     "text": [
      "Warning: Received 'None' for postings at page 24 for houseboat\n"
     ]
    },
    {
     "name": "stderr",
     "output_type": "stream",
     "text": [
      " 13%|██████████▏                                                                      | 25/199 [00:29<03:23,  1.17s/it]"
     ]
    },
    {
     "name": "stdout",
     "output_type": "stream",
     "text": [
      "Warning: Received 'None' for postings at page 25 for houseboat\n"
     ]
    },
    {
     "name": "stderr",
     "output_type": "stream",
     "text": [
      " 13%|██████████▌                                                                      | 26/199 [00:30<03:22,  1.17s/it]"
     ]
    },
    {
     "name": "stdout",
     "output_type": "stream",
     "text": [
      "Warning: Received 'None' for postings at page 26 for houseboat\n"
     ]
    },
    {
     "name": "stderr",
     "output_type": "stream",
     "text": [
      " 14%|██████████▉                                                                      | 27/199 [00:31<03:20,  1.16s/it]"
     ]
    },
    {
     "name": "stdout",
     "output_type": "stream",
     "text": [
      "Warning: Received 'None' for postings at page 27 for houseboat\n"
     ]
    },
    {
     "name": "stderr",
     "output_type": "stream",
     "text": [
      " 14%|███████████▍                                                                     | 28/199 [00:32<03:20,  1.17s/it]"
     ]
    },
    {
     "name": "stdout",
     "output_type": "stream",
     "text": [
      "Warning: Received 'None' for postings at page 28 for houseboat\n"
     ]
    },
    {
     "name": "stderr",
     "output_type": "stream",
     "text": [
      " 15%|███████████▊                                                                     | 29/199 [00:34<03:18,  1.17s/it]"
     ]
    },
    {
     "name": "stdout",
     "output_type": "stream",
     "text": [
      "Warning: Received 'None' for postings at page 29 for houseboat\n"
     ]
    },
    {
     "name": "stderr",
     "output_type": "stream",
     "text": [
      " 15%|████████████▏                                                                    | 30/199 [00:35<03:18,  1.17s/it]"
     ]
    },
    {
     "name": "stdout",
     "output_type": "stream",
     "text": [
      "Warning: Received 'None' for postings at page 30 for houseboat\n"
     ]
    },
    {
     "name": "stderr",
     "output_type": "stream",
     "text": [
      " 16%|████████████▌                                                                    | 31/199 [00:36<03:15,  1.17s/it]"
     ]
    },
    {
     "name": "stdout",
     "output_type": "stream",
     "text": [
      "Warning: Received 'None' for postings at page 31 for houseboat\n"
     ]
    },
    {
     "name": "stderr",
     "output_type": "stream",
     "text": [
      " 16%|█████████████                                                                    | 32/199 [00:37<03:13,  1.16s/it]"
     ]
    },
    {
     "name": "stdout",
     "output_type": "stream",
     "text": [
      "Warning: Received 'None' for postings at page 32 for houseboat\n"
     ]
    },
    {
     "name": "stderr",
     "output_type": "stream",
     "text": [
      " 17%|█████████████▍                                                                   | 33/199 [00:38<03:12,  1.16s/it]"
     ]
    },
    {
     "name": "stdout",
     "output_type": "stream",
     "text": [
      "Warning: Received 'None' for postings at page 33 for houseboat\n"
     ]
    },
    {
     "name": "stderr",
     "output_type": "stream",
     "text": [
      " 17%|█████████████▊                                                                   | 34/199 [00:39<03:11,  1.16s/it]"
     ]
    },
    {
     "name": "stdout",
     "output_type": "stream",
     "text": [
      "Warning: Received 'None' for postings at page 34 for houseboat\n"
     ]
    },
    {
     "name": "stderr",
     "output_type": "stream",
     "text": [
      " 18%|██████████████▏                                                                  | 35/199 [00:41<03:09,  1.16s/it]"
     ]
    },
    {
     "name": "stdout",
     "output_type": "stream",
     "text": [
      "Warning: Received 'None' for postings at page 35 for houseboat\n"
     ]
    },
    {
     "name": "stderr",
     "output_type": "stream",
     "text": [
      " 18%|██████████████▋                                                                  | 36/199 [00:42<03:10,  1.17s/it]"
     ]
    },
    {
     "name": "stdout",
     "output_type": "stream",
     "text": [
      "Warning: Received 'None' for postings at page 36 for houseboat\n"
     ]
    },
    {
     "name": "stderr",
     "output_type": "stream",
     "text": [
      " 19%|███████████████                                                                  | 37/199 [00:43<03:09,  1.17s/it]"
     ]
    },
    {
     "name": "stdout",
     "output_type": "stream",
     "text": [
      "Warning: Received 'None' for postings at page 37 for houseboat\n"
     ]
    },
    {
     "name": "stderr",
     "output_type": "stream",
     "text": [
      " 19%|███████████████▍                                                                 | 38/199 [00:44<03:06,  1.16s/it]"
     ]
    },
    {
     "name": "stdout",
     "output_type": "stream",
     "text": [
      "Warning: Received 'None' for postings at page 38 for houseboat\n"
     ]
    },
    {
     "name": "stderr",
     "output_type": "stream",
     "text": [
      " 20%|███████████████▊                                                                 | 39/199 [00:45<03:05,  1.16s/it]"
     ]
    },
    {
     "name": "stdout",
     "output_type": "stream",
     "text": [
      "Warning: Received 'None' for postings at page 39 for houseboat\n"
     ]
    },
    {
     "name": "stderr",
     "output_type": "stream",
     "text": [
      " 20%|████████████████▎                                                                | 40/199 [00:46<03:04,  1.16s/it]"
     ]
    },
    {
     "name": "stdout",
     "output_type": "stream",
     "text": [
      "Warning: Received 'None' for postings at page 40 for houseboat\n"
     ]
    },
    {
     "name": "stderr",
     "output_type": "stream",
     "text": [
      " 21%|████████████████▋                                                                | 41/199 [00:48<03:04,  1.17s/it]"
     ]
    },
    {
     "name": "stdout",
     "output_type": "stream",
     "text": [
      "Warning: Received 'None' for postings at page 41 for houseboat\n"
     ]
    },
    {
     "name": "stderr",
     "output_type": "stream",
     "text": [
      " 21%|█████████████████                                                                | 42/199 [00:49<03:01,  1.16s/it]"
     ]
    },
    {
     "name": "stdout",
     "output_type": "stream",
     "text": [
      "Warning: Received 'None' for postings at page 42 for houseboat\n"
     ]
    },
    {
     "name": "stderr",
     "output_type": "stream",
     "text": [
      " 22%|█████████████████▌                                                               | 43/199 [00:50<03:02,  1.17s/it]"
     ]
    },
    {
     "name": "stdout",
     "output_type": "stream",
     "text": [
      "Warning: Received 'None' for postings at page 43 for houseboat\n"
     ]
    },
    {
     "name": "stderr",
     "output_type": "stream",
     "text": [
      " 22%|█████████████████▉                                                               | 44/199 [00:51<03:00,  1.16s/it]"
     ]
    },
    {
     "name": "stdout",
     "output_type": "stream",
     "text": [
      "Warning: Received 'None' for postings at page 44 for houseboat\n"
     ]
    },
    {
     "name": "stderr",
     "output_type": "stream",
     "text": [
      " 23%|██████████████████▎                                                              | 45/199 [00:52<02:57,  1.16s/it]"
     ]
    },
    {
     "name": "stdout",
     "output_type": "stream",
     "text": [
      "Warning: Received 'None' for postings at page 45 for houseboat\n"
     ]
    },
    {
     "name": "stderr",
     "output_type": "stream",
     "text": [
      " 23%|██████████████████▋                                                              | 46/199 [00:53<02:56,  1.15s/it]"
     ]
    },
    {
     "name": "stdout",
     "output_type": "stream",
     "text": [
      "Warning: Received 'None' for postings at page 46 for houseboat\n"
     ]
    },
    {
     "name": "stderr",
     "output_type": "stream",
     "text": [
      " 24%|███████████████████▏                                                             | 47/199 [00:54<02:55,  1.16s/it]"
     ]
    },
    {
     "name": "stdout",
     "output_type": "stream",
     "text": [
      "Warning: Received 'None' for postings at page 47 for houseboat\n"
     ]
    },
    {
     "name": "stderr",
     "output_type": "stream",
     "text": [
      " 24%|███████████████████▌                                                             | 48/199 [00:56<02:55,  1.16s/it]"
     ]
    },
    {
     "name": "stdout",
     "output_type": "stream",
     "text": [
      "Warning: Received 'None' for postings at page 48 for houseboat\n"
     ]
    },
    {
     "name": "stderr",
     "output_type": "stream",
     "text": [
      " 25%|███████████████████▉                                                             | 49/199 [00:57<02:54,  1.16s/it]"
     ]
    },
    {
     "name": "stdout",
     "output_type": "stream",
     "text": [
      "Warning: Received 'None' for postings at page 49 for houseboat\n"
     ]
    },
    {
     "name": "stderr",
     "output_type": "stream",
     "text": [
      " 25%|████████████████████▎                                                            | 50/199 [00:58<02:52,  1.16s/it]"
     ]
    },
    {
     "name": "stdout",
     "output_type": "stream",
     "text": [
      "Warning: Received 'None' for postings at page 50 for houseboat\n"
     ]
    },
    {
     "name": "stderr",
     "output_type": "stream",
     "text": [
      " 26%|████████████████████▊                                                            | 51/199 [00:59<02:50,  1.15s/it]"
     ]
    },
    {
     "name": "stdout",
     "output_type": "stream",
     "text": [
      "Warning: Received 'None' for postings at page 51 for houseboat\n"
     ]
    },
    {
     "name": "stderr",
     "output_type": "stream",
     "text": [
      " 26%|█████████████████████▏                                                           | 52/199 [01:00<02:49,  1.15s/it]"
     ]
    },
    {
     "name": "stdout",
     "output_type": "stream",
     "text": [
      "Warning: Received 'None' for postings at page 52 for houseboat\n"
     ]
    },
    {
     "name": "stderr",
     "output_type": "stream",
     "text": [
      " 27%|█████████████████████▌                                                           | 53/199 [01:01<02:49,  1.16s/it]"
     ]
    },
    {
     "name": "stdout",
     "output_type": "stream",
     "text": [
      "Warning: Received 'None' for postings at page 53 for houseboat\n"
     ]
    },
    {
     "name": "stderr",
     "output_type": "stream",
     "text": [
      " 27%|█████████████████████▉                                                           | 54/199 [01:03<02:46,  1.15s/it]"
     ]
    },
    {
     "name": "stdout",
     "output_type": "stream",
     "text": [
      "Warning: Received 'None' for postings at page 54 for houseboat\n"
     ]
    },
    {
     "name": "stderr",
     "output_type": "stream",
     "text": [
      " 28%|██████████████████████▍                                                          | 55/199 [01:04<02:46,  1.16s/it]"
     ]
    },
    {
     "name": "stdout",
     "output_type": "stream",
     "text": [
      "Warning: Received 'None' for postings at page 55 for houseboat\n"
     ]
    },
    {
     "name": "stderr",
     "output_type": "stream",
     "text": [
      " 28%|██████████████████████▊                                                          | 56/199 [01:05<02:44,  1.15s/it]"
     ]
    },
    {
     "name": "stdout",
     "output_type": "stream",
     "text": [
      "Warning: Received 'None' for postings at page 56 for houseboat\n"
     ]
    },
    {
     "name": "stderr",
     "output_type": "stream",
     "text": [
      " 29%|███████████████████████▏                                                         | 57/199 [01:06<02:44,  1.16s/it]"
     ]
    },
    {
     "name": "stdout",
     "output_type": "stream",
     "text": [
      "Warning: Received 'None' for postings at page 57 for houseboat\n"
     ]
    },
    {
     "name": "stderr",
     "output_type": "stream",
     "text": [
      " 29%|███████████████████████▌                                                         | 58/199 [01:07<02:45,  1.17s/it]"
     ]
    },
    {
     "name": "stdout",
     "output_type": "stream",
     "text": [
      "Warning: Received 'None' for postings at page 58 for houseboat\n"
     ]
    },
    {
     "name": "stderr",
     "output_type": "stream",
     "text": [
      " 30%|████████████████████████                                                         | 59/199 [01:08<02:42,  1.16s/it]"
     ]
    },
    {
     "name": "stdout",
     "output_type": "stream",
     "text": [
      "Warning: Received 'None' for postings at page 59 for houseboat\n"
     ]
    },
    {
     "name": "stderr",
     "output_type": "stream",
     "text": [
      " 30%|████████████████████████▍                                                        | 60/199 [01:10<02:40,  1.16s/it]"
     ]
    },
    {
     "name": "stdout",
     "output_type": "stream",
     "text": [
      "Warning: Received 'None' for postings at page 60 for houseboat\n"
     ]
    },
    {
     "name": "stderr",
     "output_type": "stream",
     "text": [
      " 31%|████████████████████████▊                                                        | 61/199 [01:11<02:40,  1.16s/it]"
     ]
    },
    {
     "name": "stdout",
     "output_type": "stream",
     "text": [
      "Warning: Received 'None' for postings at page 61 for houseboat\n"
     ]
    },
    {
     "name": "stderr",
     "output_type": "stream",
     "text": [
      " 31%|█████████████████████████▏                                                       | 62/199 [01:12<02:39,  1.16s/it]"
     ]
    },
    {
     "name": "stdout",
     "output_type": "stream",
     "text": [
      "Warning: Received 'None' for postings at page 62 for houseboat\n"
     ]
    },
    {
     "name": "stderr",
     "output_type": "stream",
     "text": [
      " 32%|█████████████████████████▋                                                       | 63/199 [01:13<02:37,  1.16s/it]"
     ]
    },
    {
     "name": "stdout",
     "output_type": "stream",
     "text": [
      "Warning: Received 'None' for postings at page 63 for houseboat\n"
     ]
    },
    {
     "name": "stderr",
     "output_type": "stream",
     "text": [
      " 32%|██████████████████████████                                                       | 64/199 [01:14<02:34,  1.15s/it]"
     ]
    },
    {
     "name": "stdout",
     "output_type": "stream",
     "text": [
      "Warning: Received 'None' for postings at page 64 for houseboat\n"
     ]
    },
    {
     "name": "stderr",
     "output_type": "stream",
     "text": [
      " 33%|██████████████████████████▍                                                      | 65/199 [01:15<02:35,  1.16s/it]"
     ]
    },
    {
     "name": "stdout",
     "output_type": "stream",
     "text": [
      "Warning: Received 'None' for postings at page 65 for houseboat\n"
     ]
    },
    {
     "name": "stderr",
     "output_type": "stream",
     "text": [
      " 33%|██████████████████████████▊                                                      | 66/199 [01:16<02:33,  1.15s/it]"
     ]
    },
    {
     "name": "stdout",
     "output_type": "stream",
     "text": [
      "Warning: Received 'None' for postings at page 66 for houseboat\n"
     ]
    },
    {
     "name": "stderr",
     "output_type": "stream",
     "text": [
      " 34%|███████████████████████████▎                                                     | 67/199 [01:18<02:32,  1.16s/it]"
     ]
    },
    {
     "name": "stdout",
     "output_type": "stream",
     "text": [
      "Warning: Received 'None' for postings at page 67 for houseboat\n"
     ]
    },
    {
     "name": "stderr",
     "output_type": "stream",
     "text": [
      " 34%|███████████████████████████▋                                                     | 68/199 [01:19<02:30,  1.15s/it]"
     ]
    },
    {
     "name": "stdout",
     "output_type": "stream",
     "text": [
      "Warning: Received 'None' for postings at page 68 for houseboat\n"
     ]
    },
    {
     "name": "stderr",
     "output_type": "stream",
     "text": [
      " 35%|████████████████████████████                                                     | 69/199 [01:20<02:30,  1.16s/it]"
     ]
    },
    {
     "name": "stdout",
     "output_type": "stream",
     "text": [
      "Warning: Received 'None' for postings at page 69 for houseboat\n"
     ]
    },
    {
     "name": "stderr",
     "output_type": "stream",
     "text": [
      " 35%|████████████████████████████▍                                                    | 70/199 [01:21<02:29,  1.16s/it]"
     ]
    },
    {
     "name": "stdout",
     "output_type": "stream",
     "text": [
      "Warning: Received 'None' for postings at page 70 for houseboat\n"
     ]
    },
    {
     "name": "stderr",
     "output_type": "stream",
     "text": [
      " 36%|████████████████████████████▉                                                    | 71/199 [01:22<02:27,  1.15s/it]"
     ]
    },
    {
     "name": "stdout",
     "output_type": "stream",
     "text": [
      "Warning: Received 'None' for postings at page 71 for houseboat\n"
     ]
    },
    {
     "name": "stderr",
     "output_type": "stream",
     "text": [
      " 36%|█████████████████████████████▎                                                   | 72/199 [01:23<02:24,  1.14s/it]"
     ]
    },
    {
     "name": "stdout",
     "output_type": "stream",
     "text": [
      "Warning: Received 'None' for postings at page 72 for houseboat\n"
     ]
    },
    {
     "name": "stderr",
     "output_type": "stream",
     "text": [
      " 37%|█████████████████████████████▋                                                   | 73/199 [01:24<02:23,  1.14s/it]"
     ]
    },
    {
     "name": "stdout",
     "output_type": "stream",
     "text": [
      "Warning: Received 'None' for postings at page 73 for houseboat\n"
     ]
    },
    {
     "name": "stderr",
     "output_type": "stream",
     "text": [
      " 37%|██████████████████████████████                                                   | 74/199 [01:26<02:21,  1.13s/it]"
     ]
    },
    {
     "name": "stdout",
     "output_type": "stream",
     "text": [
      "Warning: Received 'None' for postings at page 74 for houseboat\n"
     ]
    },
    {
     "name": "stderr",
     "output_type": "stream",
     "text": [
      " 38%|██████████████████████████████▌                                                  | 75/199 [01:27<02:21,  1.14s/it]"
     ]
    },
    {
     "name": "stdout",
     "output_type": "stream",
     "text": [
      "Warning: Received 'None' for postings at page 75 for houseboat\n"
     ]
    },
    {
     "name": "stderr",
     "output_type": "stream",
     "text": [
      " 38%|██████████████████████████████▉                                                  | 76/199 [01:28<02:19,  1.13s/it]"
     ]
    },
    {
     "name": "stdout",
     "output_type": "stream",
     "text": [
      "Warning: Received 'None' for postings at page 76 for houseboat\n"
     ]
    },
    {
     "name": "stderr",
     "output_type": "stream",
     "text": [
      " 39%|███████████████████████████████▎                                                 | 77/199 [01:29<02:17,  1.13s/it]"
     ]
    },
    {
     "name": "stdout",
     "output_type": "stream",
     "text": [
      "Warning: Received 'None' for postings at page 77 for houseboat\n"
     ]
    },
    {
     "name": "stderr",
     "output_type": "stream",
     "text": [
      " 39%|███████████████████████████████▋                                                 | 78/199 [01:30<02:17,  1.14s/it]"
     ]
    },
    {
     "name": "stdout",
     "output_type": "stream",
     "text": [
      "Warning: Received 'None' for postings at page 78 for houseboat\n"
     ]
    },
    {
     "name": "stderr",
     "output_type": "stream",
     "text": [
      " 40%|████████████████████████████████▏                                                | 79/199 [01:31<02:17,  1.14s/it]"
     ]
    },
    {
     "name": "stdout",
     "output_type": "stream",
     "text": [
      "Warning: Received 'None' for postings at page 79 for houseboat\n"
     ]
    },
    {
     "name": "stderr",
     "output_type": "stream",
     "text": [
      " 40%|████████████████████████████████▌                                                | 80/199 [01:32<02:15,  1.14s/it]"
     ]
    },
    {
     "name": "stdout",
     "output_type": "stream",
     "text": [
      "Warning: Received 'None' for postings at page 80 for houseboat\n"
     ]
    },
    {
     "name": "stderr",
     "output_type": "stream",
     "text": [
      " 41%|████████████████████████████████▉                                                | 81/199 [01:34<02:14,  1.14s/it]"
     ]
    },
    {
     "name": "stdout",
     "output_type": "stream",
     "text": [
      "Warning: Received 'None' for postings at page 81 for houseboat\n"
     ]
    },
    {
     "name": "stderr",
     "output_type": "stream",
     "text": [
      " 41%|█████████████████████████████████▍                                               | 82/199 [01:35<02:12,  1.13s/it]"
     ]
    },
    {
     "name": "stdout",
     "output_type": "stream",
     "text": [
      "Warning: Received 'None' for postings at page 82 for houseboat\n"
     ]
    },
    {
     "name": "stderr",
     "output_type": "stream",
     "text": [
      " 42%|█████████████████████████████████▊                                               | 83/199 [01:36<02:12,  1.14s/it]"
     ]
    },
    {
     "name": "stdout",
     "output_type": "stream",
     "text": [
      "Warning: Received 'None' for postings at page 83 for houseboat\n"
     ]
    },
    {
     "name": "stderr",
     "output_type": "stream",
     "text": [
      " 42%|██████████████████████████████████▏                                              | 84/199 [01:37<02:11,  1.14s/it]"
     ]
    },
    {
     "name": "stdout",
     "output_type": "stream",
     "text": [
      "Warning: Received 'None' for postings at page 84 for houseboat\n"
     ]
    },
    {
     "name": "stderr",
     "output_type": "stream",
     "text": [
      " 43%|██████████████████████████████████▌                                              | 85/199 [01:38<02:11,  1.15s/it]"
     ]
    },
    {
     "name": "stdout",
     "output_type": "stream",
     "text": [
      "Warning: Received 'None' for postings at page 85 for houseboat\n"
     ]
    },
    {
     "name": "stderr",
     "output_type": "stream",
     "text": [
      " 43%|███████████████████████████████████                                              | 86/199 [01:39<02:09,  1.15s/it]"
     ]
    },
    {
     "name": "stdout",
     "output_type": "stream",
     "text": [
      "Warning: Received 'None' for postings at page 86 for houseboat\n"
     ]
    },
    {
     "name": "stderr",
     "output_type": "stream",
     "text": [
      " 44%|███████████████████████████████████▍                                             | 87/199 [01:40<02:10,  1.16s/it]"
     ]
    },
    {
     "name": "stdout",
     "output_type": "stream",
     "text": [
      "Warning: Received 'None' for postings at page 87 for houseboat\n"
     ]
    },
    {
     "name": "stderr",
     "output_type": "stream",
     "text": [
      " 44%|███████████████████████████████████▊                                             | 88/199 [01:42<02:09,  1.17s/it]"
     ]
    },
    {
     "name": "stdout",
     "output_type": "stream",
     "text": [
      "Warning: Received 'None' for postings at page 88 for houseboat\n"
     ]
    },
    {
     "name": "stderr",
     "output_type": "stream",
     "text": [
      " 45%|████████████████████████████████████▏                                            | 89/199 [01:43<02:08,  1.16s/it]"
     ]
    },
    {
     "name": "stdout",
     "output_type": "stream",
     "text": [
      "Warning: Received 'None' for postings at page 89 for houseboat\n"
     ]
    },
    {
     "name": "stderr",
     "output_type": "stream",
     "text": [
      " 45%|████████████████████████████████████▋                                            | 90/199 [01:44<02:05,  1.16s/it]"
     ]
    },
    {
     "name": "stdout",
     "output_type": "stream",
     "text": [
      "Warning: Received 'None' for postings at page 90 for houseboat\n"
     ]
    },
    {
     "name": "stderr",
     "output_type": "stream",
     "text": [
      " 46%|█████████████████████████████████████                                            | 91/199 [01:45<02:05,  1.16s/it]"
     ]
    },
    {
     "name": "stdout",
     "output_type": "stream",
     "text": [
      "Warning: Received 'None' for postings at page 91 for houseboat\n"
     ]
    },
    {
     "name": "stderr",
     "output_type": "stream",
     "text": [
      " 46%|█████████████████████████████████████▍                                           | 92/199 [01:46<02:04,  1.16s/it]"
     ]
    },
    {
     "name": "stdout",
     "output_type": "stream",
     "text": [
      "Warning: Received 'None' for postings at page 92 for houseboat\n"
     ]
    },
    {
     "name": "stderr",
     "output_type": "stream",
     "text": [
      " 47%|█████████████████████████████████████▊                                           | 93/199 [01:47<02:02,  1.15s/it]"
     ]
    },
    {
     "name": "stdout",
     "output_type": "stream",
     "text": [
      "Warning: Received 'None' for postings at page 93 for houseboat\n"
     ]
    },
    {
     "name": "stderr",
     "output_type": "stream",
     "text": [
      " 47%|██████████████████████████████████████▎                                          | 94/199 [01:49<02:00,  1.15s/it]"
     ]
    },
    {
     "name": "stdout",
     "output_type": "stream",
     "text": [
      "Warning: Received 'None' for postings at page 94 for houseboat\n"
     ]
    },
    {
     "name": "stderr",
     "output_type": "stream",
     "text": [
      " 48%|██████████████████████████████████████▋                                          | 95/199 [01:50<01:59,  1.15s/it]"
     ]
    },
    {
     "name": "stdout",
     "output_type": "stream",
     "text": [
      "Warning: Received 'None' for postings at page 95 for houseboat\n"
     ]
    },
    {
     "name": "stderr",
     "output_type": "stream",
     "text": [
      " 48%|███████████████████████████████████████                                          | 96/199 [01:51<01:59,  1.16s/it]"
     ]
    },
    {
     "name": "stdout",
     "output_type": "stream",
     "text": [
      "Warning: Received 'None' for postings at page 96 for houseboat\n"
     ]
    },
    {
     "name": "stderr",
     "output_type": "stream",
     "text": [
      " 49%|███████████████████████████████████████▍                                         | 97/199 [01:52<01:58,  1.16s/it]"
     ]
    },
    {
     "name": "stdout",
     "output_type": "stream",
     "text": [
      "Warning: Received 'None' for postings at page 97 for houseboat\n"
     ]
    },
    {
     "name": "stderr",
     "output_type": "stream",
     "text": [
      " 49%|███████████████████████████████████████▉                                         | 98/199 [01:53<01:56,  1.16s/it]"
     ]
    },
    {
     "name": "stdout",
     "output_type": "stream",
     "text": [
      "Warning: Received 'None' for postings at page 98 for houseboat\n"
     ]
    },
    {
     "name": "stderr",
     "output_type": "stream",
     "text": [
      " 50%|████████████████████████████████████████▎                                        | 99/199 [01:54<01:55,  1.16s/it]"
     ]
    },
    {
     "name": "stdout",
     "output_type": "stream",
     "text": [
      "Warning: Received 'None' for postings at page 99 for houseboat\n"
     ]
    },
    {
     "name": "stderr",
     "output_type": "stream",
     "text": [
      " 50%|████████████████████████████████████████▏                                       | 100/199 [01:56<01:55,  1.16s/it]"
     ]
    },
    {
     "name": "stdout",
     "output_type": "stream",
     "text": [
      "Warning: Received 'None' for postings at page 100 for houseboat\n"
     ]
    },
    {
     "name": "stderr",
     "output_type": "stream",
     "text": [
      " 51%|████████████████████████████████████████▌                                       | 101/199 [01:57<01:53,  1.16s/it]"
     ]
    },
    {
     "name": "stdout",
     "output_type": "stream",
     "text": [
      "Warning: Received 'None' for postings at page 101 for houseboat\n"
     ]
    },
    {
     "name": "stderr",
     "output_type": "stream",
     "text": [
      " 51%|█████████████████████████████████████████                                       | 102/199 [01:58<01:53,  1.17s/it]"
     ]
    },
    {
     "name": "stdout",
     "output_type": "stream",
     "text": [
      "Warning: Received 'None' for postings at page 102 for houseboat\n"
     ]
    },
    {
     "name": "stderr",
     "output_type": "stream",
     "text": [
      " 52%|█████████████████████████████████████████▍                                      | 103/199 [01:59<01:50,  1.15s/it]"
     ]
    },
    {
     "name": "stdout",
     "output_type": "stream",
     "text": [
      "Warning: Received 'None' for postings at page 103 for houseboat\n"
     ]
    },
    {
     "name": "stderr",
     "output_type": "stream",
     "text": [
      " 52%|█████████████████████████████████████████▊                                      | 104/199 [02:00<01:49,  1.15s/it]"
     ]
    },
    {
     "name": "stdout",
     "output_type": "stream",
     "text": [
      "Warning: Received 'None' for postings at page 104 for houseboat\n"
     ]
    },
    {
     "name": "stderr",
     "output_type": "stream",
     "text": [
      " 53%|██████████████████████████████████████████▏                                     | 105/199 [02:01<01:48,  1.15s/it]"
     ]
    },
    {
     "name": "stdout",
     "output_type": "stream",
     "text": [
      "Warning: Received 'None' for postings at page 105 for houseboat\n"
     ]
    },
    {
     "name": "stderr",
     "output_type": "stream",
     "text": [
      " 53%|██████████████████████████████████████████▌                                     | 106/199 [02:02<01:47,  1.16s/it]"
     ]
    },
    {
     "name": "stdout",
     "output_type": "stream",
     "text": [
      "Warning: Received 'None' for postings at page 106 for houseboat\n"
     ]
    },
    {
     "name": "stderr",
     "output_type": "stream",
     "text": [
      " 54%|███████████████████████████████████████████                                     | 107/199 [02:04<01:46,  1.16s/it]"
     ]
    },
    {
     "name": "stdout",
     "output_type": "stream",
     "text": [
      "Warning: Received 'None' for postings at page 107 for houseboat\n"
     ]
    },
    {
     "name": "stderr",
     "output_type": "stream",
     "text": [
      " 54%|███████████████████████████████████████████▍                                    | 108/199 [02:05<01:45,  1.16s/it]"
     ]
    },
    {
     "name": "stdout",
     "output_type": "stream",
     "text": [
      "Warning: Received 'None' for postings at page 108 for houseboat\n"
     ]
    },
    {
     "name": "stderr",
     "output_type": "stream",
     "text": [
      " 55%|███████████████████████████████████████████▊                                    | 109/199 [02:06<01:45,  1.17s/it]"
     ]
    },
    {
     "name": "stdout",
     "output_type": "stream",
     "text": [
      "Warning: Received 'None' for postings at page 109 for houseboat\n"
     ]
    },
    {
     "name": "stderr",
     "output_type": "stream",
     "text": [
      " 55%|████████████████████████████████████████████▏                                   | 110/199 [02:07<01:44,  1.17s/it]"
     ]
    },
    {
     "name": "stdout",
     "output_type": "stream",
     "text": [
      "Warning: Received 'None' for postings at page 110 for houseboat\n"
     ]
    },
    {
     "name": "stderr",
     "output_type": "stream",
     "text": [
      " 56%|████████████████████████████████████████████▌                                   | 111/199 [02:08<01:43,  1.17s/it]"
     ]
    },
    {
     "name": "stdout",
     "output_type": "stream",
     "text": [
      "Warning: Received 'None' for postings at page 111 for houseboat\n"
     ]
    },
    {
     "name": "stderr",
     "output_type": "stream",
     "text": [
      " 56%|█████████████████████████████████████████████                                   | 112/199 [02:10<01:41,  1.17s/it]"
     ]
    },
    {
     "name": "stdout",
     "output_type": "stream",
     "text": [
      "Warning: Received 'None' for postings at page 112 for houseboat\n"
     ]
    },
    {
     "name": "stderr",
     "output_type": "stream",
     "text": [
      " 57%|█████████████████████████████████████████████▍                                  | 113/199 [02:11<01:40,  1.17s/it]"
     ]
    },
    {
     "name": "stdout",
     "output_type": "stream",
     "text": [
      "Warning: Received 'None' for postings at page 113 for houseboat\n"
     ]
    },
    {
     "name": "stderr",
     "output_type": "stream",
     "text": [
      " 57%|█████████████████████████████████████████████▊                                  | 114/199 [02:12<01:39,  1.17s/it]"
     ]
    },
    {
     "name": "stdout",
     "output_type": "stream",
     "text": [
      "Warning: Received 'None' for postings at page 114 for houseboat\n"
     ]
    },
    {
     "name": "stderr",
     "output_type": "stream",
     "text": [
      " 58%|██████████████████████████████████████████████▏                                 | 115/199 [02:13<01:38,  1.17s/it]"
     ]
    },
    {
     "name": "stdout",
     "output_type": "stream",
     "text": [
      "Warning: Received 'None' for postings at page 115 for houseboat\n"
     ]
    },
    {
     "name": "stderr",
     "output_type": "stream",
     "text": [
      " 58%|██████████████████████████████████████████████▋                                 | 116/199 [02:14<01:37,  1.17s/it]"
     ]
    },
    {
     "name": "stdout",
     "output_type": "stream",
     "text": [
      "Warning: Received 'None' for postings at page 116 for houseboat\n"
     ]
    },
    {
     "name": "stderr",
     "output_type": "stream",
     "text": [
      " 59%|███████████████████████████████████████████████                                 | 117/199 [02:15<01:36,  1.17s/it]"
     ]
    },
    {
     "name": "stdout",
     "output_type": "stream",
     "text": [
      "Warning: Received 'None' for postings at page 117 for houseboat\n"
     ]
    },
    {
     "name": "stderr",
     "output_type": "stream",
     "text": [
      " 59%|███████████████████████████████████████████████▍                                | 118/199 [02:17<01:35,  1.18s/it]"
     ]
    },
    {
     "name": "stdout",
     "output_type": "stream",
     "text": [
      "Warning: Received 'None' for postings at page 118 for houseboat\n"
     ]
    },
    {
     "name": "stderr",
     "output_type": "stream",
     "text": [
      " 60%|███████████████████████████████████████████████▊                                | 119/199 [02:18<01:33,  1.16s/it]"
     ]
    },
    {
     "name": "stdout",
     "output_type": "stream",
     "text": [
      "Warning: Received 'None' for postings at page 119 for houseboat\n"
     ]
    },
    {
     "name": "stderr",
     "output_type": "stream",
     "text": [
      " 60%|████████████████████████████████████████████████▏                               | 120/199 [02:19<01:31,  1.16s/it]"
     ]
    },
    {
     "name": "stdout",
     "output_type": "stream",
     "text": [
      "Warning: Received 'None' for postings at page 120 for houseboat\n"
     ]
    },
    {
     "name": "stderr",
     "output_type": "stream",
     "text": [
      " 61%|████████████████████████████████████████████████▋                               | 121/199 [02:20<01:31,  1.17s/it]"
     ]
    },
    {
     "name": "stdout",
     "output_type": "stream",
     "text": [
      "Warning: Received 'None' for postings at page 121 for houseboat\n"
     ]
    },
    {
     "name": "stderr",
     "output_type": "stream",
     "text": [
      " 61%|█████████████████████████████████████████████████                               | 122/199 [02:21<01:29,  1.16s/it]"
     ]
    },
    {
     "name": "stdout",
     "output_type": "stream",
     "text": [
      "Warning: Received 'None' for postings at page 122 for houseboat\n"
     ]
    },
    {
     "name": "stderr",
     "output_type": "stream",
     "text": [
      " 62%|█████████████████████████████████████████████████▍                              | 123/199 [02:22<01:27,  1.15s/it]"
     ]
    },
    {
     "name": "stdout",
     "output_type": "stream",
     "text": [
      "Warning: Received 'None' for postings at page 123 for houseboat\n"
     ]
    },
    {
     "name": "stderr",
     "output_type": "stream",
     "text": [
      " 62%|█████████████████████████████████████████████████▊                              | 124/199 [02:23<01:26,  1.15s/it]"
     ]
    },
    {
     "name": "stdout",
     "output_type": "stream",
     "text": [
      "Warning: Received 'None' for postings at page 124 for houseboat\n"
     ]
    },
    {
     "name": "stderr",
     "output_type": "stream",
     "text": [
      " 63%|██████████████████████████████████████████████████▎                             | 125/199 [02:25<01:25,  1.16s/it]"
     ]
    },
    {
     "name": "stdout",
     "output_type": "stream",
     "text": [
      "Warning: Received 'None' for postings at page 125 for houseboat\n"
     ]
    },
    {
     "name": "stderr",
     "output_type": "stream",
     "text": [
      " 63%|██████████████████████████████████████████████████▋                             | 126/199 [02:26<01:24,  1.16s/it]"
     ]
    },
    {
     "name": "stdout",
     "output_type": "stream",
     "text": [
      "Warning: Received 'None' for postings at page 126 for houseboat\n"
     ]
    },
    {
     "name": "stderr",
     "output_type": "stream",
     "text": [
      " 64%|███████████████████████████████████████████████████                             | 127/199 [02:27<01:23,  1.16s/it]"
     ]
    },
    {
     "name": "stdout",
     "output_type": "stream",
     "text": [
      "Warning: Received 'None' for postings at page 127 for houseboat\n"
     ]
    },
    {
     "name": "stderr",
     "output_type": "stream",
     "text": [
      " 64%|███████████████████████████████████████████████████▍                            | 128/199 [02:28<01:22,  1.17s/it]"
     ]
    },
    {
     "name": "stdout",
     "output_type": "stream",
     "text": [
      "Warning: Received 'None' for postings at page 128 for houseboat\n"
     ]
    },
    {
     "name": "stderr",
     "output_type": "stream",
     "text": [
      " 65%|███████████████████████████████████████████████████▊                            | 129/199 [02:29<01:21,  1.17s/it]"
     ]
    },
    {
     "name": "stdout",
     "output_type": "stream",
     "text": [
      "Warning: Received 'None' for postings at page 129 for houseboat\n"
     ]
    },
    {
     "name": "stderr",
     "output_type": "stream",
     "text": [
      " 65%|████████████████████████████████████████████████████▎                           | 130/199 [02:30<01:20,  1.17s/it]"
     ]
    },
    {
     "name": "stdout",
     "output_type": "stream",
     "text": [
      "Warning: Received 'None' for postings at page 130 for houseboat\n"
     ]
    },
    {
     "name": "stderr",
     "output_type": "stream",
     "text": [
      " 66%|████████████████████████████████████████████████████▋                           | 131/199 [02:32<01:19,  1.16s/it]"
     ]
    },
    {
     "name": "stdout",
     "output_type": "stream",
     "text": [
      "Warning: Received 'None' for postings at page 131 for houseboat\n"
     ]
    },
    {
     "name": "stderr",
     "output_type": "stream",
     "text": [
      " 66%|█████████████████████████████████████████████████████                           | 132/199 [02:33<01:18,  1.18s/it]"
     ]
    },
    {
     "name": "stdout",
     "output_type": "stream",
     "text": [
      "Warning: Received 'None' for postings at page 132 for houseboat\n"
     ]
    },
    {
     "name": "stderr",
     "output_type": "stream",
     "text": [
      " 67%|█████████████████████████████████████████████████████▍                          | 133/199 [02:34<01:16,  1.16s/it]"
     ]
    },
    {
     "name": "stdout",
     "output_type": "stream",
     "text": [
      "Warning: Received 'None' for postings at page 133 for houseboat\n"
     ]
    },
    {
     "name": "stderr",
     "output_type": "stream",
     "text": [
      " 67%|█████████████████████████████████████████████████████▊                          | 134/199 [02:35<01:15,  1.16s/it]"
     ]
    },
    {
     "name": "stdout",
     "output_type": "stream",
     "text": [
      "Warning: Received 'None' for postings at page 134 for houseboat\n"
     ]
    },
    {
     "name": "stderr",
     "output_type": "stream",
     "text": [
      " 68%|██████████████████████████████████████████████████████▎                         | 135/199 [02:36<01:14,  1.16s/it]"
     ]
    },
    {
     "name": "stdout",
     "output_type": "stream",
     "text": [
      "Warning: Received 'None' for postings at page 135 for houseboat\n"
     ]
    },
    {
     "name": "stderr",
     "output_type": "stream",
     "text": [
      " 68%|██████████████████████████████████████████████████████▋                         | 136/199 [02:37<01:13,  1.16s/it]"
     ]
    },
    {
     "name": "stdout",
     "output_type": "stream",
     "text": [
      "Warning: Received 'None' for postings at page 136 for houseboat\n"
     ]
    },
    {
     "name": "stderr",
     "output_type": "stream",
     "text": [
      " 69%|███████████████████████████████████████████████████████                         | 137/199 [02:39<01:11,  1.16s/it]"
     ]
    },
    {
     "name": "stdout",
     "output_type": "stream",
     "text": [
      "Warning: Received 'None' for postings at page 137 for houseboat\n"
     ]
    },
    {
     "name": "stderr",
     "output_type": "stream",
     "text": [
      " 69%|███████████████████████████████████████████████████████▍                        | 138/199 [02:40<01:10,  1.16s/it]"
     ]
    },
    {
     "name": "stdout",
     "output_type": "stream",
     "text": [
      "Warning: Received 'None' for postings at page 138 for houseboat\n"
     ]
    },
    {
     "name": "stderr",
     "output_type": "stream",
     "text": [
      " 70%|███████████████████████████████████████████████████████▉                        | 139/199 [02:41<01:09,  1.16s/it]"
     ]
    },
    {
     "name": "stdout",
     "output_type": "stream",
     "text": [
      "Warning: Received 'None' for postings at page 139 for houseboat\n"
     ]
    },
    {
     "name": "stderr",
     "output_type": "stream",
     "text": [
      " 70%|████████████████████████████████████████████████████████▎                       | 140/199 [02:42<01:08,  1.16s/it]"
     ]
    },
    {
     "name": "stdout",
     "output_type": "stream",
     "text": [
      "Warning: Received 'None' for postings at page 140 for houseboat\n"
     ]
    },
    {
     "name": "stderr",
     "output_type": "stream",
     "text": [
      " 71%|████████████████████████████████████████████████████████▋                       | 141/199 [02:43<01:07,  1.16s/it]"
     ]
    },
    {
     "name": "stdout",
     "output_type": "stream",
     "text": [
      "Warning: Received 'None' for postings at page 141 for houseboat\n"
     ]
    },
    {
     "name": "stderr",
     "output_type": "stream",
     "text": [
      " 71%|█████████████████████████████████████████████████████████                       | 142/199 [02:44<01:05,  1.15s/it]"
     ]
    },
    {
     "name": "stdout",
     "output_type": "stream",
     "text": [
      "Warning: Received 'None' for postings at page 142 for houseboat\n"
     ]
    },
    {
     "name": "stderr",
     "output_type": "stream",
     "text": [
      " 72%|█████████████████████████████████████████████████████████▍                      | 143/199 [02:46<01:04,  1.15s/it]"
     ]
    },
    {
     "name": "stdout",
     "output_type": "stream",
     "text": [
      "Warning: Received 'None' for postings at page 143 for houseboat\n"
     ]
    },
    {
     "name": "stderr",
     "output_type": "stream",
     "text": [
      " 72%|█████████████████████████████████████████████████████████▉                      | 144/199 [02:47<01:03,  1.15s/it]"
     ]
    },
    {
     "name": "stdout",
     "output_type": "stream",
     "text": [
      "Warning: Received 'None' for postings at page 144 for houseboat\n"
     ]
    },
    {
     "name": "stderr",
     "output_type": "stream",
     "text": [
      " 73%|██████████████████████████████████████████████████████████▎                     | 145/199 [02:48<01:01,  1.15s/it]"
     ]
    },
    {
     "name": "stdout",
     "output_type": "stream",
     "text": [
      "Warning: Received 'None' for postings at page 145 for houseboat\n"
     ]
    },
    {
     "name": "stderr",
     "output_type": "stream",
     "text": [
      " 73%|██████████████████████████████████████████████████████████▋                     | 146/199 [02:49<01:01,  1.16s/it]"
     ]
    },
    {
     "name": "stdout",
     "output_type": "stream",
     "text": [
      "Warning: Received 'None' for postings at page 146 for houseboat\n"
     ]
    },
    {
     "name": "stderr",
     "output_type": "stream",
     "text": [
      " 74%|███████████████████████████████████████████████████████████                     | 147/199 [02:50<01:00,  1.16s/it]"
     ]
    },
    {
     "name": "stdout",
     "output_type": "stream",
     "text": [
      "Warning: Received 'None' for postings at page 147 for houseboat\n"
     ]
    },
    {
     "name": "stderr",
     "output_type": "stream",
     "text": [
      " 74%|███████████████████████████████████████████████████████████▍                    | 148/199 [02:51<00:58,  1.14s/it]"
     ]
    },
    {
     "name": "stdout",
     "output_type": "stream",
     "text": [
      "Warning: Received 'None' for postings at page 148 for houseboat\n"
     ]
    },
    {
     "name": "stderr",
     "output_type": "stream",
     "text": [
      " 75%|███████████████████████████████████████████████████████████▉                    | 149/199 [02:52<00:57,  1.15s/it]"
     ]
    },
    {
     "name": "stdout",
     "output_type": "stream",
     "text": [
      "Warning: Received 'None' for postings at page 149 for houseboat\n"
     ]
    },
    {
     "name": "stderr",
     "output_type": "stream",
     "text": [
      " 75%|████████████████████████████████████████████████████████████▎                   | 150/199 [02:54<00:56,  1.16s/it]"
     ]
    },
    {
     "name": "stdout",
     "output_type": "stream",
     "text": [
      "Warning: Received 'None' for postings at page 150 for houseboat\n"
     ]
    },
    {
     "name": "stderr",
     "output_type": "stream",
     "text": [
      " 76%|████████████████████████████████████████████████████████████▋                   | 151/199 [02:55<00:56,  1.17s/it]"
     ]
    },
    {
     "name": "stdout",
     "output_type": "stream",
     "text": [
      "Warning: Received 'None' for postings at page 151 for houseboat\n"
     ]
    },
    {
     "name": "stderr",
     "output_type": "stream",
     "text": [
      " 76%|█████████████████████████████████████████████████████████████                   | 152/199 [02:56<00:54,  1.16s/it]"
     ]
    },
    {
     "name": "stdout",
     "output_type": "stream",
     "text": [
      "Warning: Received 'None' for postings at page 152 for houseboat\n"
     ]
    },
    {
     "name": "stderr",
     "output_type": "stream",
     "text": [
      " 77%|█████████████████████████████████████████████████████████████▌                  | 153/199 [02:57<00:53,  1.16s/it]"
     ]
    },
    {
     "name": "stdout",
     "output_type": "stream",
     "text": [
      "Warning: Received 'None' for postings at page 153 for houseboat\n"
     ]
    },
    {
     "name": "stderr",
     "output_type": "stream",
     "text": [
      " 77%|█████████████████████████████████████████████████████████████▉                  | 154/199 [02:58<00:52,  1.17s/it]"
     ]
    },
    {
     "name": "stdout",
     "output_type": "stream",
     "text": [
      "Warning: Received 'None' for postings at page 154 for houseboat\n"
     ]
    },
    {
     "name": "stderr",
     "output_type": "stream",
     "text": [
      " 78%|██████████████████████████████████████████████████████████████▎                 | 155/199 [02:59<00:51,  1.18s/it]"
     ]
    },
    {
     "name": "stdout",
     "output_type": "stream",
     "text": [
      "Warning: Received 'None' for postings at page 155 for houseboat\n"
     ]
    },
    {
     "name": "stderr",
     "output_type": "stream",
     "text": [
      " 78%|██████████████████████████████████████████████████████████████▋                 | 156/199 [03:01<00:50,  1.17s/it]"
     ]
    },
    {
     "name": "stdout",
     "output_type": "stream",
     "text": [
      "Warning: Received 'None' for postings at page 156 for houseboat\n"
     ]
    },
    {
     "name": "stderr",
     "output_type": "stream",
     "text": [
      " 79%|███████████████████████████████████████████████████████████████                 | 157/199 [03:02<00:49,  1.17s/it]"
     ]
    },
    {
     "name": "stdout",
     "output_type": "stream",
     "text": [
      "Warning: Received 'None' for postings at page 157 for houseboat\n"
     ]
    },
    {
     "name": "stderr",
     "output_type": "stream",
     "text": [
      " 79%|███████████████████████████████████████████████████████████████▌                | 158/199 [03:03<00:47,  1.15s/it]"
     ]
    },
    {
     "name": "stdout",
     "output_type": "stream",
     "text": [
      "Warning: Received 'None' for postings at page 158 for houseboat\n"
     ]
    },
    {
     "name": "stderr",
     "output_type": "stream",
     "text": [
      " 80%|███████████████████████████████████████████████████████████████▉                | 159/199 [03:04<00:46,  1.16s/it]"
     ]
    },
    {
     "name": "stdout",
     "output_type": "stream",
     "text": [
      "Warning: Received 'None' for postings at page 159 for houseboat\n"
     ]
    },
    {
     "name": "stderr",
     "output_type": "stream",
     "text": [
      " 80%|████████████████████████████████████████████████████████████████▎               | 160/199 [03:05<00:45,  1.16s/it]"
     ]
    },
    {
     "name": "stdout",
     "output_type": "stream",
     "text": [
      "Warning: Received 'None' for postings at page 160 for houseboat\n"
     ]
    },
    {
     "name": "stderr",
     "output_type": "stream",
     "text": [
      " 81%|████████████████████████████████████████████████████████████████▋               | 161/199 [03:06<00:44,  1.16s/it]"
     ]
    },
    {
     "name": "stdout",
     "output_type": "stream",
     "text": [
      "Warning: Received 'None' for postings at page 161 for houseboat\n"
     ]
    },
    {
     "name": "stderr",
     "output_type": "stream",
     "text": [
      " 81%|█████████████████████████████████████████████████████████████████▏              | 162/199 [03:08<00:42,  1.16s/it]"
     ]
    },
    {
     "name": "stdout",
     "output_type": "stream",
     "text": [
      "Warning: Received 'None' for postings at page 162 for houseboat\n"
     ]
    },
    {
     "name": "stderr",
     "output_type": "stream",
     "text": [
      " 82%|█████████████████████████████████████████████████████████████████▌              | 163/199 [03:09<00:41,  1.16s/it]"
     ]
    },
    {
     "name": "stdout",
     "output_type": "stream",
     "text": [
      "Warning: Received 'None' for postings at page 163 for houseboat\n"
     ]
    },
    {
     "name": "stderr",
     "output_type": "stream",
     "text": [
      " 82%|█████████████████████████████████████████████████████████████████▉              | 164/199 [03:10<00:40,  1.15s/it]"
     ]
    },
    {
     "name": "stdout",
     "output_type": "stream",
     "text": [
      "Warning: Received 'None' for postings at page 164 for houseboat\n"
     ]
    },
    {
     "name": "stderr",
     "output_type": "stream",
     "text": [
      " 83%|██████████████████████████████████████████████████████████████████▎             | 165/199 [03:11<00:39,  1.16s/it]"
     ]
    },
    {
     "name": "stdout",
     "output_type": "stream",
     "text": [
      "Warning: Received 'None' for postings at page 165 for houseboat\n"
     ]
    },
    {
     "name": "stderr",
     "output_type": "stream",
     "text": [
      " 83%|██████████████████████████████████████████████████████████████████▋             | 166/199 [03:12<00:38,  1.16s/it]"
     ]
    },
    {
     "name": "stdout",
     "output_type": "stream",
     "text": [
      "Warning: Received 'None' for postings at page 166 for houseboat\n"
     ]
    },
    {
     "name": "stderr",
     "output_type": "stream",
     "text": [
      " 84%|███████████████████████████████████████████████████████████████████▏            | 167/199 [03:13<00:37,  1.17s/it]"
     ]
    },
    {
     "name": "stdout",
     "output_type": "stream",
     "text": [
      "Warning: Received 'None' for postings at page 167 for houseboat\n"
     ]
    },
    {
     "name": "stderr",
     "output_type": "stream",
     "text": [
      " 84%|███████████████████████████████████████████████████████████████████▌            | 168/199 [03:15<00:36,  1.17s/it]"
     ]
    },
    {
     "name": "stdout",
     "output_type": "stream",
     "text": [
      "Warning: Received 'None' for postings at page 168 for houseboat\n"
     ]
    },
    {
     "name": "stderr",
     "output_type": "stream",
     "text": [
      " 85%|███████████████████████████████████████████████████████████████████▉            | 169/199 [03:16<00:34,  1.16s/it]"
     ]
    },
    {
     "name": "stdout",
     "output_type": "stream",
     "text": [
      "Warning: Received 'None' for postings at page 169 for houseboat\n"
     ]
    },
    {
     "name": "stderr",
     "output_type": "stream",
     "text": [
      " 85%|████████████████████████████████████████████████████████████████████▎           | 170/199 [03:17<00:33,  1.17s/it]"
     ]
    },
    {
     "name": "stdout",
     "output_type": "stream",
     "text": [
      "Warning: Received 'None' for postings at page 170 for houseboat\n"
     ]
    },
    {
     "name": "stderr",
     "output_type": "stream",
     "text": [
      " 86%|████████████████████████████████████████████████████████████████████▋           | 171/199 [03:18<00:32,  1.17s/it]"
     ]
    },
    {
     "name": "stdout",
     "output_type": "stream",
     "text": [
      "Warning: Received 'None' for postings at page 171 for houseboat\n"
     ]
    },
    {
     "name": "stderr",
     "output_type": "stream",
     "text": [
      " 86%|█████████████████████████████████████████████████████████████████████▏          | 172/199 [03:19<00:31,  1.17s/it]"
     ]
    },
    {
     "name": "stdout",
     "output_type": "stream",
     "text": [
      "Warning: Received 'None' for postings at page 172 for houseboat\n"
     ]
    },
    {
     "name": "stderr",
     "output_type": "stream",
     "text": [
      " 87%|█████████████████████████████████████████████████████████████████████▌          | 173/199 [03:20<00:30,  1.16s/it]"
     ]
    },
    {
     "name": "stdout",
     "output_type": "stream",
     "text": [
      "Warning: Received 'None' for postings at page 173 for houseboat\n"
     ]
    },
    {
     "name": "stderr",
     "output_type": "stream",
     "text": [
      " 87%|█████████████████████████████████████████████████████████████████████▉          | 174/199 [03:22<00:29,  1.17s/it]"
     ]
    },
    {
     "name": "stdout",
     "output_type": "stream",
     "text": [
      "Warning: Received 'None' for postings at page 174 for houseboat\n"
     ]
    },
    {
     "name": "stderr",
     "output_type": "stream",
     "text": [
      " 88%|██████████████████████████████████████████████████████████████████████▎         | 175/199 [03:23<00:27,  1.16s/it]"
     ]
    },
    {
     "name": "stdout",
     "output_type": "stream",
     "text": [
      "Warning: Received 'None' for postings at page 175 for houseboat\n"
     ]
    },
    {
     "name": "stderr",
     "output_type": "stream",
     "text": [
      " 88%|██████████████████████████████████████████████████████████████████████▊         | 176/199 [03:24<00:26,  1.17s/it]"
     ]
    },
    {
     "name": "stdout",
     "output_type": "stream",
     "text": [
      "Warning: Received 'None' for postings at page 176 for houseboat\n"
     ]
    },
    {
     "name": "stderr",
     "output_type": "stream",
     "text": [
      " 89%|███████████████████████████████████████████████████████████████████████▏        | 177/199 [03:25<00:25,  1.17s/it]"
     ]
    },
    {
     "name": "stdout",
     "output_type": "stream",
     "text": [
      "Warning: Received 'None' for postings at page 177 for houseboat\n"
     ]
    },
    {
     "name": "stderr",
     "output_type": "stream",
     "text": [
      " 89%|███████████████████████████████████████████████████████████████████████▌        | 178/199 [03:26<00:24,  1.17s/it]"
     ]
    },
    {
     "name": "stdout",
     "output_type": "stream",
     "text": [
      "Warning: Received 'None' for postings at page 178 for houseboat\n"
     ]
    },
    {
     "name": "stderr",
     "output_type": "stream",
     "text": [
      " 90%|███████████████████████████████████████████████████████████████████████▉        | 179/199 [03:27<00:23,  1.16s/it]"
     ]
    },
    {
     "name": "stdout",
     "output_type": "stream",
     "text": [
      "Warning: Received 'None' for postings at page 179 for houseboat\n"
     ]
    },
    {
     "name": "stderr",
     "output_type": "stream",
     "text": [
      " 90%|████████████████████████████████████████████████████████████████████████▎       | 180/199 [03:29<00:21,  1.15s/it]"
     ]
    },
    {
     "name": "stdout",
     "output_type": "stream",
     "text": [
      "Warning: Received 'None' for postings at page 180 for houseboat\n"
     ]
    },
    {
     "name": "stderr",
     "output_type": "stream",
     "text": [
      " 91%|████████████████████████████████████████████████████████████████████████▊       | 181/199 [03:30<00:20,  1.15s/it]"
     ]
    },
    {
     "name": "stdout",
     "output_type": "stream",
     "text": [
      "Warning: Received 'None' for postings at page 181 for houseboat\n"
     ]
    },
    {
     "name": "stderr",
     "output_type": "stream",
     "text": [
      " 91%|█████████████████████████████████████████████████████████████████████████▏      | 182/199 [03:31<00:19,  1.15s/it]"
     ]
    },
    {
     "name": "stdout",
     "output_type": "stream",
     "text": [
      "Warning: Received 'None' for postings at page 182 for houseboat\n"
     ]
    },
    {
     "name": "stderr",
     "output_type": "stream",
     "text": [
      " 92%|█████████████████████████████████████████████████████████████████████████▌      | 183/199 [03:32<00:18,  1.15s/it]"
     ]
    },
    {
     "name": "stdout",
     "output_type": "stream",
     "text": [
      "Warning: Received 'None' for postings at page 183 for houseboat\n"
     ]
    },
    {
     "name": "stderr",
     "output_type": "stream",
     "text": [
      " 92%|█████████████████████████████████████████████████████████████████████████▉      | 184/199 [03:33<00:17,  1.15s/it]"
     ]
    },
    {
     "name": "stdout",
     "output_type": "stream",
     "text": [
      "Warning: Received 'None' for postings at page 184 for houseboat\n"
     ]
    },
    {
     "name": "stderr",
     "output_type": "stream",
     "text": [
      " 93%|██████████████████████████████████████████████████████████████████████████▎     | 185/199 [03:34<00:16,  1.16s/it]"
     ]
    },
    {
     "name": "stdout",
     "output_type": "stream",
     "text": [
      "Warning: Received 'None' for postings at page 185 for houseboat\n"
     ]
    },
    {
     "name": "stderr",
     "output_type": "stream",
     "text": [
      " 93%|██████████████████████████████████████████████████████████████████████████▊     | 186/199 [03:35<00:15,  1.16s/it]"
     ]
    },
    {
     "name": "stdout",
     "output_type": "stream",
     "text": [
      "Warning: Received 'None' for postings at page 186 for houseboat\n"
     ]
    },
    {
     "name": "stderr",
     "output_type": "stream",
     "text": [
      " 94%|███████████████████████████████████████████████████████████████████████████▏    | 187/199 [03:37<00:13,  1.16s/it]"
     ]
    },
    {
     "name": "stdout",
     "output_type": "stream",
     "text": [
      "Warning: Received 'None' for postings at page 187 for houseboat\n"
     ]
    },
    {
     "name": "stderr",
     "output_type": "stream",
     "text": [
      " 94%|███████████████████████████████████████████████████████████████████████████▌    | 188/199 [03:38<00:12,  1.17s/it]"
     ]
    },
    {
     "name": "stdout",
     "output_type": "stream",
     "text": [
      "Warning: Received 'None' for postings at page 188 for houseboat\n"
     ]
    },
    {
     "name": "stderr",
     "output_type": "stream",
     "text": [
      " 95%|███████████████████████████████████████████████████████████████████████████▉    | 189/199 [03:39<00:11,  1.17s/it]"
     ]
    },
    {
     "name": "stdout",
     "output_type": "stream",
     "text": [
      "Warning: Received 'None' for postings at page 189 for houseboat\n"
     ]
    },
    {
     "name": "stderr",
     "output_type": "stream",
     "text": [
      " 95%|████████████████████████████████████████████████████████████████████████████▍   | 190/199 [03:40<00:10,  1.17s/it]"
     ]
    },
    {
     "name": "stdout",
     "output_type": "stream",
     "text": [
      "Warning: Received 'None' for postings at page 190 for houseboat\n"
     ]
    },
    {
     "name": "stderr",
     "output_type": "stream",
     "text": [
      " 96%|████████████████████████████████████████████████████████████████████████████▊   | 191/199 [03:41<00:09,  1.17s/it]"
     ]
    },
    {
     "name": "stdout",
     "output_type": "stream",
     "text": [
      "Warning: Received 'None' for postings at page 191 for houseboat\n"
     ]
    },
    {
     "name": "stderr",
     "output_type": "stream",
     "text": [
      " 96%|█████████████████████████████████████████████████████████████████████████████▏  | 192/199 [03:42<00:08,  1.17s/it]"
     ]
    },
    {
     "name": "stdout",
     "output_type": "stream",
     "text": [
      "Warning: Received 'None' for postings at page 192 for houseboat\n"
     ]
    },
    {
     "name": "stderr",
     "output_type": "stream",
     "text": [
      " 97%|█████████████████████████████████████████████████████████████████████████████▌  | 193/199 [03:44<00:07,  1.17s/it]"
     ]
    },
    {
     "name": "stdout",
     "output_type": "stream",
     "text": [
      "Warning: Received 'None' for postings at page 193 for houseboat\n"
     ]
    },
    {
     "name": "stderr",
     "output_type": "stream",
     "text": [
      " 97%|█████████████████████████████████████████████████████████████████████████████▉  | 194/199 [03:45<00:05,  1.17s/it]"
     ]
    },
    {
     "name": "stdout",
     "output_type": "stream",
     "text": [
      "Warning: Received 'None' for postings at page 194 for houseboat\n"
     ]
    },
    {
     "name": "stderr",
     "output_type": "stream",
     "text": [
      " 98%|██████████████████████████████████████████████████████████████████████████████▍ | 195/199 [03:46<00:04,  1.18s/it]"
     ]
    },
    {
     "name": "stdout",
     "output_type": "stream",
     "text": [
      "Warning: Received 'None' for postings at page 195 for houseboat\n"
     ]
    },
    {
     "name": "stderr",
     "output_type": "stream",
     "text": [
      " 98%|██████████████████████████████████████████████████████████████████████████████▊ | 196/199 [03:47<00:03,  1.18s/it]"
     ]
    },
    {
     "name": "stdout",
     "output_type": "stream",
     "text": [
      "Warning: Received 'None' for postings at page 196 for houseboat\n"
     ]
    },
    {
     "name": "stderr",
     "output_type": "stream",
     "text": [
      " 99%|███████████████████████████████████████████████████████████████████████████████▏| 197/199 [03:48<00:02,  1.18s/it]"
     ]
    },
    {
     "name": "stdout",
     "output_type": "stream",
     "text": [
      "Warning: Received 'None' for postings at page 197 for houseboat\n"
     ]
    },
    {
     "name": "stderr",
     "output_type": "stream",
     "text": [
      " 99%|███████████████████████████████████████████████████████████████████████████████▌| 198/199 [03:50<00:01,  1.18s/it]"
     ]
    },
    {
     "name": "stdout",
     "output_type": "stream",
     "text": [
      "Warning: Received 'None' for postings at page 198 for houseboat\n"
     ]
    },
    {
     "name": "stderr",
     "output_type": "stream",
     "text": [
      "100%|████████████████████████████████████████████████████████████████████████████████| 199/199 [03:51<00:00,  1.16s/it]"
     ]
    },
    {
     "name": "stdout",
     "output_type": "stream",
     "text": [
      "Warning: Received 'None' for postings at page 199 for houseboat\n"
     ]
    },
    {
     "name": "stderr",
     "output_type": "stream",
     "text": [
      "\n"
     ]
    }
   ],
   "source": [
    "    all_real_estate_postings = []  # To store all real estate postings for the current property type\n",
    "\n",
    "    for url, page in tqdm.tqdm(property_links):\n",
    "        try:\n",
    "            response = requests.get(url, headers={'name': 'Tobias Thiim , Københavns Universitet'})\n",
    "            response.raise_for_status()\n",
    "        except Exception as e:\n",
    "            print(url)  # Print URL\n",
    "            print(e)  # Print error\n",
    "            continue  # Continue to the next iteration of the loop\n",
    "\n",
    "        result = response.json()\n",
    "        real_estate_postings = result.get('cases', [])\n",
    "        \n",
    "        if real_estate_postings is None:\n",
    "            print(f\"Warning: Received 'None' for postings at page {page} for {property_type}\")\n",
    "            continue  # Skip this page if no data is retrieved\n",
    "        \n",
    "        all_real_estate_postings.extend(real_estate_postings)\n"
   ]
  },
  {
   "cell_type": "code",
   "execution_count": 22,
   "id": "420ab998-bb0a-40de-9fdc-0fcb3d0d22e0",
   "metadata": {},
   "outputs": [],
   "source": [
    "        # Mark page as completed\n",
    "        if property_type not in completed_pages:\n",
    "            completed_pages[property_type] = set()\n",
    "        completed_pages[property_type].add(page)\n",
    "\n",
    "        # Convert sets to lists before saving to JSON\n",
    "        completed_pages_to_save = {k: list(v) for k, v in completed_pages.items()}\n",
    "        with open(completed_pages_file, 'w') as f:\n",
    "            json.dump(completed_pages_to_save, f)\n",
    "        \n",
    "        time.sleep(0.5)  # To respect rate limits\n"
   ]
  },
  {
   "cell_type": "code",
   "execution_count": 23,
   "id": "5a59acaa-a8a9-41d1-b451-87af8bb2ecd5",
   "metadata": {},
   "outputs": [
    {
     "name": "stdout",
     "output_type": "stream",
     "text": [
      "Data for houseboat saved to houseboat_real_estate_postings.csv\n"
     ]
    }
   ],
   "source": [
    "    # Convert the collected data into a DataFrame\n",
    "    df = pd.DataFrame(all_real_estate_postings)\n",
    "    all_dataframes.append(df)  # Store the DataFrame\n",
    "\n",
    "    # Save the individual DataFrame to a CSV file (optional)\n",
    "    csv_filename = f'{property_type.replace(\" \", \"_\")}_real_estate_postings.csv'\n",
    "    df.to_csv(csv_filename, index=False)\n",
    "    print(f\"Data for {property_type} saved to {csv_filename}\")\n"
   ]
  },
  {
   "cell_type": "code",
   "execution_count": 24,
   "id": "1d06b7aa-5c56-4006-abbd-ca15e7a40a67",
   "metadata": {},
   "outputs": [
    {
     "name": "stdout",
     "output_type": "stream",
     "text": [
      "All data saved to final_real_estate_postings.csv\n"
     ]
    }
   ],
   "source": [
    "# Concatenate all the DataFrames into one\n",
    "Final_Real_Estate_Postings = pd.concat(all_dataframes, ignore_index=True)\n",
    "\n",
    "# Save the final concatenated DataFrame to a CSV file\n",
    "final_csv_filename = 'final_real_estate_postings.csv'\n",
    "Final_Real_Estate_Postings.to_csv(final_csv_filename, index=False)\n",
    "print(f\"All data saved to {final_csv_filename}\")\n"
   ]
  },
  {
   "cell_type": "code",
   "execution_count": 48,
   "id": "f99ba172-0327-473b-97da-14691f25b360",
   "metadata": {
    "scrolled": true
   },
   "outputs": [
    {
     "data": {
      "text/plain": [
       "['_links',\n",
       " 'address',\n",
       " 'addressType',\n",
       " 'caseID',\n",
       " 'caseUrl',\n",
       " 'coordinates',\n",
       " 'daysOnMarket',\n",
       " 'defaultImage',\n",
       " 'descriptionBody',\n",
       " 'descriptionTitle',\n",
       " 'distinction',\n",
       " 'energyLabel',\n",
       " 'hasBalcony',\n",
       " 'hasElevator',\n",
       " 'hasTerrace',\n",
       " 'highlighted',\n",
       " 'housingArea',\n",
       " 'images',\n",
       " 'monthlyExpense',\n",
       " 'nextOpenHouse',\n",
       " 'numberOfBathrooms',\n",
       " 'numberOfFloors',\n",
       " 'numberOfRooms',\n",
       " 'numberOfToilets',\n",
       " 'pageViews',\n",
       " 'perAreaPrice',\n",
       " 'priceCash',\n",
       " 'priceChangePercentage',\n",
       " 'providerCaseID',\n",
       " 'realEstate',\n",
       " 'realtor',\n",
       " 'secondaryAddressType',\n",
       " 'slug',\n",
       " 'status',\n",
       " 'timeOnMarket',\n",
       " 'totalClickCount',\n",
       " 'totalFavourites',\n",
       " 'utilitiesConnectionFee',\n",
       " 'yearBuilt',\n",
       " 'lotArea',\n",
       " 'weightedArea',\n",
       " 'basementArea',\n",
       " 'latitude',\n",
       " 'longitude',\n",
       " 'distance_to_nearest_station']"
      ]
     },
     "execution_count": 48,
     "metadata": {},
     "output_type": "execute_result"
    }
   ],
   "source": [
    "Final_Real_Estate_Postings.columns.tolist()"
   ]
  },
  {
   "cell_type": "code",
   "execution_count": 59,
   "id": "46d3dd53-a50a-4cd8-afdb-1b5efc3f18f3",
   "metadata": {
    "scrolled": true
   },
   "outputs": [
    {
     "data": {
      "text/html": [
       "<div>\n",
       "<style scoped>\n",
       "    .dataframe tbody tr th:only-of-type {\n",
       "        vertical-align: middle;\n",
       "    }\n",
       "\n",
       "    .dataframe tbody tr th {\n",
       "        vertical-align: top;\n",
       "    }\n",
       "\n",
       "    .dataframe thead th {\n",
       "        text-align: right;\n",
       "    }\n",
       "</style>\n",
       "<table border=\"1\" class=\"dataframe\">\n",
       "  <thead>\n",
       "    <tr style=\"text-align: right;\">\n",
       "      <th></th>\n",
       "      <th>_links</th>\n",
       "      <th>address</th>\n",
       "      <th>addressType</th>\n",
       "      <th>caseID</th>\n",
       "      <th>caseUrl</th>\n",
       "      <th>coordinates</th>\n",
       "      <th>daysOnMarket</th>\n",
       "      <th>defaultImage</th>\n",
       "      <th>descriptionBody</th>\n",
       "      <th>descriptionTitle</th>\n",
       "      <th>...</th>\n",
       "      <th>totalClickCount</th>\n",
       "      <th>totalFavourites</th>\n",
       "      <th>utilitiesConnectionFee</th>\n",
       "      <th>yearBuilt</th>\n",
       "      <th>lotArea</th>\n",
       "      <th>weightedArea</th>\n",
       "      <th>basementArea</th>\n",
       "      <th>latitude</th>\n",
       "      <th>longitude</th>\n",
       "      <th>distance_to_nearest_station</th>\n",
       "    </tr>\n",
       "  </thead>\n",
       "  <tbody>\n",
       "    <tr>\n",
       "      <th>0</th>\n",
       "      <td>{'self': {'href': '/cases/ad9ac6d0-45bd-4c1b-b1b4-c003359a697a'}}</td>\n",
       "      <td>{'_links': {'self': {'href': '/addresses/50ce4687-cc15-49da-9974-e13658a24028'}}, 'addressID': '50ce4687-cc15-49da-9974-e13658a24028', 'allowNewValuationInfo': True, 'bfeNumbers': [161715], 'boligsidenInfo': {'latestSoldArea': 93}, 'city': {'name': 'København SV', 'slug': 'koebenhavn-sv'}, 'cityName': 'København SV', 'coordinates': {'lat': 55.65837, 'lon': 12.562113, 'type': 'EPSG4326'}, 'daysOnMarket': {'realtors': []}, 'door': '3', 'energyLabelImprovement': {'improvementCase': 'FALLBACK', 'sparEnergiLink': 'https://sparenergi.dk/forbruger/boligen/traenger-din-bolig-til-renovering?utm_source=Boligsiden&amp;utm_medium=Banner&amp;utm_campaign=6'}, 'entryAddressID': 'e7bb3d1d-8a8e-4ddc-a66b-f11cf93d01f5', 'floor': '3', 'gstkvhx': '01018843__11__3___3', 'houseNumber': '11', 'isPublic': True, 'latestValuation': 2200000, 'livingArea': 93, 'municipality': {'churchTaxPercentage': 0.8, 'councilTaxPercentage': 23.7, 'districtPlanFrom': '2024-06-28', 'districtPlanPdfUrl': 'https://dokument.plandata.dk/20_11186212_1719470578287.pdf', 'landValueTaxLevelPerThousand': 34, 'masterPlanPdfUrl': 'https://dokument.plandata.dk/12_11267550_1717402838438.pdf', 'municipalityCode': 101, 'name': 'København', 'numberOfSchools': 127, 'population': 644431, 'slug': 'koebenhavn'}, 'propertyNumber': 26327, 'province': {'name': 'Byen København', 'provinceCode': 'DK011', 'regionCode': 1084, 'slug': 'byen-koebenhavn'}, 'registrations': [{'amount': 5395000, 'area': 93, 'date': '2021-06-30', 'livingArea': 93, 'municipalityCode': 101, 'perAreaPrice': 58010, 'propertyNumber': 26327, 'registrationID': '5618363', 'type': 'normal'}, {'amount': 3895000, 'date': '2016-04-19', 'municipalityCode': 101, 'propertyNumber': 26327, 'registrationID': '5083456', 'type': 'normal'}], 'road': {'municipalityCode': 101, 'name': 'Martin Luther Kings Vej', 'roadCode': 8843, 'roadID': '29bfe743-189c-43c2-8873-bf83ba42733f', 'slug': 'martin-luther-kings-vej'}, 'roadName': 'Martin Luther Kings Vej', 'slug': 'martin-luther-kings-vej-11-3-3-2450-koebenhavn-sv-01018843__11__3___3', 'zip': {'name': 'København SV', 'slug': 'koebenhavn-sv', 'zipCode': 2450}, 'zipCode': 2450}</td>\n",
       "      <td>condo</td>\n",
       "      <td>ad9ac6d0-45bd-4c1b-b1b4-c003359a697a</td>\n",
       "      <td>https://www.danbolig.dk?propertyid=0870000755&amp;brokerid=087</td>\n",
       "      <td>{'lat': 55.65837, 'lon': 12.562113, 'type': 'EPSG4326'}</td>\n",
       "      <td>15</td>\n",
       "      <td>{'imageSources': [{'size': {'height': 80, 'width': 100}, 'url': 'https://images.boligsiden.dk/images/case/ad9ac6d0-45bd-4c1b-b1b4-c003359a697a/100x80/5be01428-0579-49be-821a-3bd4e389ed00.webp'}, {'size': {'height': 118, 'width': 143}, 'url': 'https://images.boligsiden.dk/images/case/ad9ac6d0-45bd-4c1b-b1b4-c003359a697a/143x118/5be01428-0579-49be-821a-3bd4e389ed00.webp'}, {'size': {'height': 200, 'width': 300}, 'url': 'https://images.boligsiden.dk/images/case/ad9ac6d0-45bd-4c1b-b1b4-c003359a697a/300x200/5be01428-0579-49be-821a-3bd4e389ed00.webp'}, {'size': {'height': 400, 'width': 600}, 'url': 'https://images.boligsiden.dk/images/case/ad9ac6d0-45bd-4c1b-b1b4-c003359a697a/600x400/5be01428-0579-49be-821a-3bd4e389ed00.webp'}, {'size': {'height': 600, 'width': 600}, 'url': 'https://images.boligsiden.dk/images/case/ad9ac6d0-45bd-4c1b-b1b4-c003359a697a/600x600/5be01428-0579-49be-821a-3bd4e389ed00.webp'}, {'size': {'height': 960, 'width': 1440}, 'url': 'https://images.boligsiden.dk/images/case/ad9ac6d0-45bd-4c1b-b1b4-c003359a697a/1440x960/5be01428-0579-49be-821a-3bd4e389ed00.webp'}]}</td>\n",
       "      <td>Nyere lejlighed ved vandet. Panorama kig. Vestvendt altan. Ideel planløsning.\\nDrømmer man om at bo centralt i København, i et maritimt miljø omgivet af Københavns Havn og hyggelige kanaler, så skal denne eksklusive lejlighed opleves. Frisk havluft og ingen trafiklarm, placeret tæt på Fisketorvet, metro, S-tog og havnebussen, med blot 10 minutter på cyklen til rådhuspladsen. Denne lejlighed har dejlig altan mod vest med masser sol. Flot kig til Engholmenes hyggelige kanaler og husbåd havn. Perfek</td>\n",
       "      <td>Nyere lejlighed ved vandet. Panorama kig. Vestvendt altan. Ideel planløsning.</td>\n",
       "      <td>...</td>\n",
       "      <td>719</td>\n",
       "      <td>10</td>\n",
       "      <td>{'includedInPrice': None}</td>\n",
       "      <td>2017</td>\n",
       "      <td>NaN</td>\n",
       "      <td>NaN</td>\n",
       "      <td>NaN</td>\n",
       "      <td>55.658370</td>\n",
       "      <td>12.562113</td>\n",
       "      <td>0.902780</td>\n",
       "    </tr>\n",
       "    <tr>\n",
       "      <th>1</th>\n",
       "      <td>{'self': {'href': '/cases/8d9a1d0c-2dd8-4476-bda5-d690fd5188fc'}}</td>\n",
       "      <td>{'_links': {'self': {'href': '/addresses/7a63945c-ad0c-455e-b865-38c89ca8e719'}}, 'addressID': '7a63945c-ad0c-455e-b865-38c89ca8e719', 'allowNewValuationInfo': True, 'city': {'name': 'København K', 'slug': 'koebenhavn-k'}, 'cityName': 'København K', 'coordinates': {'lat': 55.680195, 'lon': 12.601312, 'type': 'EPSG4326'}, 'daysOnMarket': {'realtors': []}, 'energyLabelImprovement': {'improvementCase': 'FALLBACK', 'sparEnergiLink': 'https://sparenergi.dk/forbruger/boligen/traenger-din-bolig-til-renovering?utm_source=Boligsiden&amp;utm_medium=Banner&amp;utm_campaign=6'}, 'entryAddressID': '75c254a5-de3f-49f7-8593-3ea5fb261571', 'gstkvhx': '01017338___9_______', 'houseNumber': '9', 'isPublic': True, 'municipality': {'churchTaxPercentage': 0.8, 'councilTaxPercentage': 23.7, 'districtPlanFrom': '2024-06-28', 'districtPlanPdfUrl': 'https://dokument.plandata.dk/20_11186212_1719470578287.pdf', 'landValueTaxLevelPerThousand': 34, 'masterPlanPdfUrl': 'https://dokument.plandata.dk/12_11267550_1717402838438.pdf', 'municipalityCode': 101, 'name': 'København', 'numberOfSchools': 127, 'population': 644431, 'slug': 'koebenhavn'}, 'province': {'name': 'Byen København', 'provinceCode': 'DK011', 'regionCode': 1084, 'slug': 'byen-koebenhavn'}, 'road': {'municipalityCode': 101, 'name': 'Takkelloftvej', 'roadCode': 7338, 'roadID': '799c97d3-237a-4ed5-ac07-f442b4f4c9f3', 'slug': 'takkelloftvej'}, 'roadName': 'Takkelloftvej', 'slug': 'takkelloftvej-9-1437-koebenhavn-k-01017338___9_______', 'zip': {'group': 1000, 'name': 'København K', 'slug': 'koebenhavn-k', 'zipCode': 1437}, 'zipCode': 1437}</td>\n",
       "      <td>condo</td>\n",
       "      <td>8d9a1d0c-2dd8-4476-bda5-d690fd5188fc</td>\n",
       "      <td>https://www.nybolig.dk/services/redirect/case/N270123/N2701230000042</td>\n",
       "      <td>{'lat': 55.679836, 'lon': 12.60091, 'type': 'EPSG4326'}</td>\n",
       "      <td>40</td>\n",
       "      <td>{'imageSources': [{'size': {'height': 80, 'width': 100}, 'url': 'https://images.boligsiden.dk/images/case/8d9a1d0c-2dd8-4476-bda5-d690fd5188fc/100x80/2129ed0d-e458-4c3d-9158-dcf61ca8224a.webp'}, {'size': {'height': 118, 'width': 143}, 'url': 'https://images.boligsiden.dk/images/case/8d9a1d0c-2dd8-4476-bda5-d690fd5188fc/143x118/2129ed0d-e458-4c3d-9158-dcf61ca8224a.webp'}, {'size': {'height': 200, 'width': 300}, 'url': 'https://images.boligsiden.dk/images/case/8d9a1d0c-2dd8-4476-bda5-d690fd5188fc/300x200/2129ed0d-e458-4c3d-9158-dcf61ca8224a.webp'}, {'size': {'height': 400, 'width': 600}, 'url': 'https://images.boligsiden.dk/images/case/8d9a1d0c-2dd8-4476-bda5-d690fd5188fc/600x400/2129ed0d-e458-4c3d-9158-dcf61ca8224a.webp'}, {'size': {'height': 600, 'width': 600}, 'url': 'https://images.boligsiden.dk/images/case/8d9a1d0c-2dd8-4476-bda5-d690fd5188fc/600x600/2129ed0d-e458-4c3d-9158-dcf61ca8224a.webp'}, {'size': {'height': 960, 'width': 1440}, 'url': 'https://images.boligsiden.dk/images/case/8d9a1d0c-2dd8-4476-bda5-d690fd5188fc/1440x960/2129ed0d-e458-4c3d-9158-dcf61ca8224a.webp'}]}</td>\n",
       "      <td>I første parket til Masteskurenes fredede arkitektur og med fantastisk udsigt til både den nye Operapark og selve Operaen ligger jeres nye hjem – og et helt særligt et af slagsen! På denne suveræne beliggenhed kan I nemlig folde tilværelsen ud til vands, for I skal se nærmere på en moderne husbåd, der tilbyder jer et liv fyldt med tidssvarende komfort, men med vand til alle sider. Det er en husbåd med et strømlinet ydre, der ligger og spejler sig her i kanalen. Den kan bedst beskrives som en mod</td>\n",
       "      <td>MODERNE HUSBÅD MED PLADS PÅ HOLMEN OG HELE 44 m2 TERRASSE</td>\n",
       "      <td>...</td>\n",
       "      <td>4007</td>\n",
       "      <td>13</td>\n",
       "      <td>{'includedInPrice': None}</td>\n",
       "      <td>2021</td>\n",
       "      <td>NaN</td>\n",
       "      <td>NaN</td>\n",
       "      <td>NaN</td>\n",
       "      <td>55.679836</td>\n",
       "      <td>12.600910</td>\n",
       "      <td>1.653597</td>\n",
       "    </tr>\n",
       "    <tr>\n",
       "      <th>2</th>\n",
       "      <td>{'self': {'href': '/cases/cabd0f7b-a576-434a-97f1-85064973950e'}}</td>\n",
       "      <td>{'_links': {'self': {'href': '/addresses/30668597-1c56-4737-bdb9-aa680f8bfadf'}}, 'addressID': '30668597-1c56-4737-bdb9-aa680f8bfadf', 'allowNewValuationInfo': True, 'bfeNumbers': [100314245], 'boligsidenInfo': {'latestSoldArea': 70}, 'city': {'name': 'København SV', 'slug': 'koebenhavn-sv'}, 'cityName': 'København SV', 'coordinates': {'lat': 55.658794, 'lon': 12.561923, 'type': 'EPSG4326'}, 'daysOnMarket': {'realtors': []}, 'door': 'th', 'energyLabelImprovement': {'improvementCase': 'FALLBACK', 'sparEnergiLink': 'https://sparenergi.dk/forbruger/boligen/traenger-din-bolig-til-renovering?utm_source=Boligsiden&amp;utm_medium=Banner&amp;utm_campaign=6'}, 'entryAddressID': '7ed15799-e9c3-4240-82e1-c8b33a7b0cf4', 'floor': '4', 'gstkvhx': '01012171__21__4__th', 'houseNumber': '21', 'isPublic': True, 'livingArea': 70, 'municipality': {'churchTaxPercentage': 0.8, 'councilTaxPercentage': 23.7, 'districtPlanFrom': '2024-06-28', 'districtPlanPdfUrl': 'https://dokument.plandata.dk/20_11186212_1719470578287.pdf', 'landValueTaxLevelPerThousand': 34, 'masterPlanPdfUrl': 'https://dokument.plandata.dk/12_11267550_1717402838438.pdf', 'municipalityCode': 101, 'name': 'København', 'numberOfSchools': 127, 'population': 644431, 'slug': 'koebenhavn'}, 'propertyNumber': 43871, 'province': {'name': 'Byen København', 'provinceCode': 'DK011', 'regionCode': 1084, 'slug': 'byen-koebenhavn'}, 'registrations': [{'amount': 3895000, 'area': 70, 'date': '2020-12-15', 'livingArea': 70, 'municipalityCode': 101, 'perAreaPrice': 55642, 'propertyNumber': 43871, 'registrationID': '5843570', 'type': 'normal'}], 'road': {'municipalityCode': 101, 'name': 'George Marshalls Vej', 'roadCode': 2171, 'roadID': '5fbe7d12-0325-402b-b9b7-26dc4445aebb', 'slug': 'george-marshalls-vej'}, 'roadName': 'George Marshalls Vej', 'slug': 'george-marshalls-vej-21-4-th-2450-koebenhavn-sv-01012171__21__4__th', 'zip': {'name': 'København SV', 'slug': 'koebenhavn-sv', 'zipCode': 2450}, 'zipCode': 2450}</td>\n",
       "      <td>condo</td>\n",
       "      <td>cabd0f7b-a576-434a-97f1-85064973950e</td>\n",
       "      <td>https://www.danbolig.dk?propertyid=0870000722&amp;brokerid=087</td>\n",
       "      <td>{'lat': 55.658794, 'lon': 12.561923, 'type': 'EPSG4326'}</td>\n",
       "      <td>45</td>\n",
       "      <td>{'imageSources': [{'size': {'height': 80, 'width': 100}, 'url': 'https://images.boligsiden.dk/images/case/cabd0f7b-a576-434a-97f1-85064973950e/100x80/c49b185b-a431-4f0e-9c3b-8110b31c30a8.webp'}, {'size': {'height': 118, 'width': 143}, 'url': 'https://images.boligsiden.dk/images/case/cabd0f7b-a576-434a-97f1-85064973950e/143x118/c49b185b-a431-4f0e-9c3b-8110b31c30a8.webp'}, {'size': {'height': 200, 'width': 300}, 'url': 'https://images.boligsiden.dk/images/case/cabd0f7b-a576-434a-97f1-85064973950e/300x200/c49b185b-a431-4f0e-9c3b-8110b31c30a8.webp'}, {'size': {'height': 400, 'width': 600}, 'url': 'https://images.boligsiden.dk/images/case/cabd0f7b-a576-434a-97f1-85064973950e/600x400/c49b185b-a431-4f0e-9c3b-8110b31c30a8.webp'}, {'size': {'height': 600, 'width': 600}, 'url': 'https://images.boligsiden.dk/images/case/cabd0f7b-a576-434a-97f1-85064973950e/600x600/c49b185b-a431-4f0e-9c3b-8110b31c30a8.webp'}, {'size': {'height': 960, 'width': 1440}, 'url': 'https://images.boligsiden.dk/images/case/cabd0f7b-a576-434a-97f1-85064973950e/1440x960/c49b185b-a431-4f0e-9c3b-8110b31c30a8.webp'}]}</td>\n",
       "      <td>ATTRAKTIV 2 VÆR. MED VESTVENDT ALTAN\\n\\nLEJLIGHED: Her får man både udsigt til kanal, bådehavn og husbåde – et virkelig hyggeligt maritimt miljø. Man har gåafstand til to metrostationer, som netop er åbnet, hurtig adgang til lufthavnen, det maritime miljø omkring Københavns Havn, caféer, restauranter, Kødbyen på Vesterbro og indre by. Du er i gå og cykelafstand til alt i København. \\nHer får man en dejlig 2 vær. med vestvendt altan. Stort badeværelse med sep. brus, unidrain, væghængt toilet, spotlo</td>\n",
       "      <td>ATTRAKTIV 2 VÆR. MED VESTVENDT ALTAN</td>\n",
       "      <td>...</td>\n",
       "      <td>1404</td>\n",
       "      <td>21</td>\n",
       "      <td>{'includedInPrice': None}</td>\n",
       "      <td>2021</td>\n",
       "      <td>NaN</td>\n",
       "      <td>NaN</td>\n",
       "      <td>NaN</td>\n",
       "      <td>55.658794</td>\n",
       "      <td>12.561923</td>\n",
       "      <td>0.859113</td>\n",
       "    </tr>\n",
       "    <tr>\n",
       "      <th>3</th>\n",
       "      <td>{'self': {'href': '/cases/112ac301-faee-4351-85a9-6aa87ba74341'}}</td>\n",
       "      <td>{'_links': {'self': {'href': '/addresses/4a70800c-665e-4a00-8964-b02d889177cf'}}, 'addressID': '4a70800c-665e-4a00-8964-b02d889177cf', 'allowNewValuationInfo': True, 'boligsidenInfo': {'latestSoldArea': 80}, 'city': {'name': 'København K', 'slug': 'koebenhavn-k'}, 'cityName': 'København K', 'coordinates': {'lat': 55.689922, 'lon': 12.607111, 'type': 'EPSG4326'}, 'daysOnMarket': {'realtors': []}, 'energyLabelImprovement': {'improvementCase': 'FALLBACK', 'sparEnergiLink': 'https://sparenergi.dk/forbruger/boligen/traenger-din-bolig-til-renovering?utm_source=Boligsiden&amp;utm_medium=Banner&amp;utm_campaign=6'}, 'entryAddressID': '1357eb80-9b79-3d79-e044-0003ba298018', 'gstkvhx': '01015772141G_______', 'houseNumber': '141G', 'isPublic': True, 'municipality': {'churchTaxPercentage': 0.8, 'councilTaxPercentage': 23.7, 'districtPlanFrom': '2024-06-28', 'districtPlanPdfUrl': 'https://dokument.plandata.dk/20_11186212_1719470578287.pdf', 'landValueTaxLevelPerThousand': 34, 'masterPlanPdfUrl': 'https://dokument.plandata.dk/12_11267550_1717402838438.pdf', 'municipalityCode': 101, 'name': 'København', 'numberOfSchools': 127, 'population': 644431, 'slug': 'koebenhavn'}, 'province': {'name': 'Byen København', 'provinceCode': 'DK011', 'regionCode': 1084, 'slug': 'byen-koebenhavn'}, 'road': {'municipalityCode': 101, 'name': 'Refshalevej', 'roadCode': 5772, 'roadID': 'b666c681-1fcf-44f5-bdf8-87b65af4f244', 'slug': 'refshalevej'}, 'roadName': 'Refshalevej', 'slug': 'refshalevej-141g-1432-koebenhavn-k-01015772141g_______', 'zip': {'group': 1000, 'name': 'København K', 'slug': 'koebenhavn-k', 'zipCode': 1432}, 'zipCode': 1432}</td>\n",
       "      <td>villa</td>\n",
       "      <td>112ac301-faee-4351-85a9-6aa87ba74341</td>\n",
       "      <td>https://www.camillathouber.dk/redirectestate.php?butiksid=2656&amp;id=CT19395</td>\n",
       "      <td>{'lat': 55.689972, 'lon': 12.606812, 'type': 'EPSG4326'}</td>\n",
       "      <td>50</td>\n",
       "      <td>{'imageSources': [{'size': {'height': 80, 'width': 100}, 'url': 'https://images.boligsiden.dk/images/case/112ac301-faee-4351-85a9-6aa87ba74341/100x80/208255f9-7560-42a4-b739-81b8a5898829.webp'}, {'size': {'height': 118, 'width': 143}, 'url': 'https://images.boligsiden.dk/images/case/112ac301-faee-4351-85a9-6aa87ba74341/143x118/208255f9-7560-42a4-b739-81b8a5898829.webp'}, {'size': {'height': 200, 'width': 300}, 'url': 'https://images.boligsiden.dk/images/case/112ac301-faee-4351-85a9-6aa87ba74341/300x200/208255f9-7560-42a4-b739-81b8a5898829.webp'}, {'size': {'height': 400, 'width': 600}, 'url': 'https://images.boligsiden.dk/images/case/112ac301-faee-4351-85a9-6aa87ba74341/600x400/208255f9-7560-42a4-b739-81b8a5898829.webp'}, {'size': {'height': 600, 'width': 600}, 'url': 'https://images.boligsiden.dk/images/case/112ac301-faee-4351-85a9-6aa87ba74341/600x600/208255f9-7560-42a4-b739-81b8a5898829.webp'}, {'size': {'height': 960, 'width': 1440}, 'url': 'https://images.boligsiden.dk/images/case/112ac301-faee-4351-85a9-6aa87ba74341/1440x960/208255f9-7560-42a4-b739-81b8a5898829.webp'}]}</td>\n",
       "      <td>Nu har du en enestående mulighed for at blive ejeren af et totalrenoveret historisk skib fra 1930, der ligger til kaj på én af de absolut bedste kajpladser på Refshaleøen. Pionier kan - med sin charmerende modernisering og historiske særpræg, anvendes som husbåd, eventskib, dinnercruise, rundture i området, kontor, showroom eller lignende.Refshaleøen er kendt for sine mange restauranter og kulturelle tilbud. En kort cykeltur tager dig til Christianshavn og videre til Indre By via cykelbroen. Københavns charmerende byliv med caféer, restauranter og butikker ligger lige for dine fødder. Området byder på gode busforbindelser - både havnebus og normal bus - og offentlig transport, så du nemt kan komme rundt i byen.Med sine 80 m² boligareal tilbyder Pionier både komfort og stil. Skibet er blevet totalt moderniseret i 2008 og fremtræder i flot stand, fordi det nænsomt er vedligeholdt efter alle kunstens regler.For- og agterdækket er perfekte til at nyde sommermånederne med en dejlig udsigt til blandt andet Sixtus Bastionen og kongeskibet Dannebrog. Der er også masser af muligheder for at sejle en tur og udforske området fra vandet. Pionier tilbyder ikke kun en unik bolig, men også drømmen af en livstil.Pionier indeholder stue, spisestue i åben forbindelse med køkkenet og den gamle salon, der i dag er en kahyt med 2 sovepladser. Derudover en ekstra kahyt, badeværelse, toilet og motorrum.Hyggelig stue med brændeovn, maritim atmosfære, fantastisk udsigt og plads til hele familien. Skibet er fyldt med et væld af maritime detaljer. I hele skibet - både inde og ude - er der lagt maritime skibsgulve. Indenfor er der etableret fine høje paneler i det samme flotte træværk som i resten af interiøret. Derudover er der i spisestuen og salonen fine væglamper i glas specielt designet til Pionier, hvilket forestiller en muslingeskal magen til Shells logo fra 1930.Spisestuen, som vi kalder kabyssen, rummer både et fuldt udstyret køkken med ovn, komfur, køleskab og lille opvaskemaskine samt en hyggelig spiseafdeling.Salonen, som nu er indrettet som en kahyt med to sovepladser, har direkte udgang til en mindre agterbalkon med bænke, hvor du kan nyde en afslappende stund med udsigt over vandet.En ekstra kahyt med to sovepladser tilbyder endnu mere plads til overnattende gæster eller familie.Badeværelset er velholdt og udstyret med en stor bruseniche, fine armaturer, gulvvarme og et charmerende koøje.Det separate toilet er også veludstyret med en lille vask, fint armatur, gulvvarme og et koøje, hvilket sikrer en høj komfort ombord.Motorrummet står flot og både generator og motor er fuldstændig renoveret i februar 2024. Pionier er drevet af en kraftig 247 hestes DAF skibsmotor, hvilket sikrer at skibet sejler som en drøm.Pionier I blev bygget i 1930 på Boeles skibsværftet i Rotterdam og bestilt af Royal Dutch Petroleum (nu Shell) til brug for selskabets direktion. Med sit nittede og svejsede skrog samt en dieselmotor, var Pionier I en pionér inden for moderne skibskonstruktioner. Skibet blev brugt til at transportere Shells direktion og ledende medarbejdere mellem Vlaardingen og Pernis, og dets historie inkluderer prominente personer som Henri Deterding, \"Oliens Napoleon.\" Efter sin tjeneste for Shell blev Pionier I først brugt som lystfartøj og senere som restaurationsskib. I 2008 blev skibet nænsomt restaureret af arkitektfirmaet Plusform, og det fremstår nu stort set som i dets oprindelige glansperiode.Pionier I er mere end bare et skib; det er et stykke historie og en livsstil på vandet. Dette velholdte skib med flotte maritime detaljer venter på den rette ejer, der vil værdsætte den unikke charme og de mangeanvendelsesmuligheder, som Pionier I tilbyder.Velkommen ombord!</td>\n",
       "      <td>Pionier I - Smukt og velholdt skib med køkken, bad, wc og fantastisk udsigt</td>\n",
       "      <td>...</td>\n",
       "      <td>1897</td>\n",
       "      <td>16</td>\n",
       "      <td>{'includedInPrice': None}</td>\n",
       "      <td>1930</td>\n",
       "      <td>1.0</td>\n",
       "      <td>NaN</td>\n",
       "      <td>NaN</td>\n",
       "      <td>55.689972</td>\n",
       "      <td>12.606812</td>\n",
       "      <td>1.264838</td>\n",
       "    </tr>\n",
       "    <tr>\n",
       "      <th>4</th>\n",
       "      <td>{'self': {'href': '/cases/22d28e65-1f9d-49fe-ba2d-28192f601513'}}</td>\n",
       "      <td>{'_links': {'self': {'href': '/addresses/0a3f50bd-49f7-32b8-e044-0003ba298018'}}, 'addressID': '0a3f50bd-49f7-32b8-e044-0003ba298018', 'addressType': 'holiday house', 'allowNewValuationInfo': True, 'bfeNumbers': [746306], 'buildings': [{'bathroomCondition': 'Badeværelse i enheden', 'buildingName': 'Sommerhus', 'buildingNumber': '34', 'externalWallMaterial': 'Metal', 'heatingInstallation': 'Elvarme', 'housingArea': 104, 'kitchenCondition': 'Eget køkken med afløb', 'numberOfBathrooms': 2, 'numberOfFloors': 2, 'numberOfRooms': 4, 'numberOfToilets': 2, 'roofingMaterial': 'Metal', 'supplementaryHeating': 'Ovne til fast eller flydende brændsel', 'toiletCondition': 'Vandskyllende toilet i enheden', 'totalArea': 57, 'yearBuilt': 2008}], 'city': {'name': 'Hemmet', 'slug': 'hemmet'}, 'cityName': 'Hemmet', 'coordinates': {'lat': 55.850147, 'lon': 8.27942, 'type': 'EPSG4326'}, 'daysOnMarket': {'realtors': []}, 'energyLabelImprovement': {'improvementCase': 'FALLBACK', 'sparEnergiLink': 'https://sparenergi.dk/forbruger/boligen/traenger-din-bolig-til-renovering?utm_source=Boligsiden&amp;utm_medium=Banner&amp;utm_campaign=6'}, 'entryAddressID': '0a3f5091-38c4-32b8-e044-0003ba298018', 'gstkvhx': '07601311___7_______', 'houseNumber': '7', 'isPublic': True, 'latestValuation': 870000, 'livingArea': 104, 'municipality': {'churchTaxPercentage': 1.05, 'councilTaxPercentage': 25, 'districtPlanFrom': '2024-06-03', 'districtPlanPdfUrl': 'https://dokument.plandata.dk/20_11300020_1716880512713.pdf', 'landValueTaxLevelPerThousand': 31, 'masterPlanPdfUrl': 'https://dokument.plandata.dk/12_11300027_1716880768468.pdf', 'municipalityCode': 760, 'name': 'Ringkøbing-Skjern', 'numberOfSchools': 35, 'population': 56203, 'slug': 'ringkoebing-skjern'}, 'place': {'bbox': [8.265464, 55.815403, 8.372976, 55.861725], 'coordinates': {'lat': 55.850147, 'lon': 8.27942, 'type': 'EPSG4326'}, 'id': 660383, 'name': 'Nr Bork', 'slug': 'nr-bork'}, 'placeName': 'Nr Bork', 'propertyNumber': 7313, 'province': {'name': 'Vestjylland', 'provinceCode': 'DK041', 'regionCode': 1082, 'slug': 'vestjylland'}, 'road': {'municipalityCode': 760, 'name': 'Molen', 'roadCode': 1311, 'roadID': '551c61c7-cff4-4830-94e6-b827087dc808', 'slug': 'molen'}, 'roadName': 'Molen', 'slug': 'molen-7-6893-hemmet-07601311___7_______', 'weightedArea': 104, 'zip': {'name': 'Hemmet', 'slug': 'hemmet', 'zipCode': 6893}, 'zipCode': 6893}</td>\n",
       "      <td>holiday house</td>\n",
       "      <td>22d28e65-1f9d-49fe-ba2d-28192f601513</td>\n",
       "      <td>https://www.nybolig.dk/services/redirect/case/N230014/4406</td>\n",
       "      <td>{'lat': 55.850147, 'lon': 8.27942, 'type': 'EPSG4326'}</td>\n",
       "      <td>58</td>\n",
       "      <td>{'imageSources': [{'size': {'height': 80, 'width': 100}, 'url': 'https://images.boligsiden.dk/images/case/22d28e65-1f9d-49fe-ba2d-28192f601513/100x80/854eab33-d2e6-4552-8c4a-20a238f2558a.webp'}, {'size': {'height': 118, 'width': 143}, 'url': 'https://images.boligsiden.dk/images/case/22d28e65-1f9d-49fe-ba2d-28192f601513/143x118/854eab33-d2e6-4552-8c4a-20a238f2558a.webp'}, {'size': {'height': 200, 'width': 300}, 'url': 'https://images.boligsiden.dk/images/case/22d28e65-1f9d-49fe-ba2d-28192f601513/300x200/854eab33-d2e6-4552-8c4a-20a238f2558a.webp'}, {'size': {'height': 400, 'width': 600}, 'url': 'https://images.boligsiden.dk/images/case/22d28e65-1f9d-49fe-ba2d-28192f601513/600x400/854eab33-d2e6-4552-8c4a-20a238f2558a.webp'}, {'size': {'height': 600, 'width': 600}, 'url': 'https://images.boligsiden.dk/images/case/22d28e65-1f9d-49fe-ba2d-28192f601513/600x600/854eab33-d2e6-4552-8c4a-20a238f2558a.webp'}, {'size': {'height': 960, 'width': 1440}, 'url': 'https://images.boligsiden.dk/images/case/22d28e65-1f9d-49fe-ba2d-28192f601513/1440x960/854eab33-d2e6-4552-8c4a-20a238f2558a.webp'}]}</td>\n",
       "      <td>Drømmer du om en unik livsstil på vandet?Velkommen til Molen 7 ved Bork Havn – en fantastisk husbåd, der tilbyder en usammenlignelig oplevelse af livet på vandet. Denne enestående bolig kombinerer komfort og luksus med en fantastisk beliggenhed og panoramaudsigt.Denne husbåd byder på 3 rummelige og velindrettede værelser, der giver rigelig plads til hele familien eller dine nærmeste. De store vinduespartier sikrer masser af naturligt lys og en vidunderlig udsigt fra næsten alle rum.De to moderne</td>\n",
       "      <td>Skøn husbåd i Bork Havn</td>\n",
       "      <td>...</td>\n",
       "      <td>1750</td>\n",
       "      <td>11</td>\n",
       "      <td>{'includedInPrice': None}</td>\n",
       "      <td>2008</td>\n",
       "      <td>NaN</td>\n",
       "      <td>104.0</td>\n",
       "      <td>NaN</td>\n",
       "      <td>55.850147</td>\n",
       "      <td>8.279420</td>\n",
       "      <td>20.523609</td>\n",
       "    </tr>\n",
       "    <tr>\n",
       "      <th>5</th>\n",
       "      <td>{'self': {'href': '/cases/d86cc01d-d2e8-4e17-a236-c82f49fc537d'}}</td>\n",
       "      <td>{'_links': {'self': {'href': '/addresses/26e70f9e-c9f8-483e-b158-b6ea97e8fb4a'}}, 'addressID': '26e70f9e-c9f8-483e-b158-b6ea97e8fb4a', 'allowNewValuationInfo': True, 'city': {'name': 'København K', 'slug': 'koebenhavn-k'}, 'cityName': 'København K', 'coordinates': {'lat': 55.67984, 'lon': 12.601013, 'type': 'EPSG4326'}, 'daysOnMarket': {'realtors': []}, 'energyLabelImprovement': {'improvementCase': 'FALLBACK', 'sparEnergiLink': 'https://sparenergi.dk/forbruger/boligen/traenger-din-bolig-til-renovering?utm_source=Boligsiden&amp;utm_medium=Banner&amp;utm_campaign=6'}, 'entryAddressID': '64478a85-a1fd-4e86-bc17-6ccaebc9eab9', 'gstkvhx': '01017338___3_______', 'houseNumber': '3', 'isPublic': True, 'municipality': {'churchTaxPercentage': 0.8, 'councilTaxPercentage': 23.7, 'districtPlanFrom': '2024-06-28', 'districtPlanPdfUrl': 'https://dokument.plandata.dk/20_11186212_1719470578287.pdf', 'landValueTaxLevelPerThousand': 34, 'masterPlanPdfUrl': 'https://dokument.plandata.dk/12_11267550_1717402838438.pdf', 'municipalityCode': 101, 'name': 'København', 'numberOfSchools': 127, 'population': 644431, 'slug': 'koebenhavn'}, 'province': {'name': 'Byen København', 'provinceCode': 'DK011', 'regionCode': 1084, 'slug': 'byen-koebenhavn'}, 'road': {'municipalityCode': 101, 'name': 'Takkelloftvej', 'roadCode': 7338, 'roadID': '799c97d3-237a-4ed5-ac07-f442b4f4c9f3', 'slug': 'takkelloftvej'}, 'roadName': 'Takkelloftvej', 'slug': 'takkelloftvej-3-1437-koebenhavn-k-01017338___3_______', 'zip': {'group': 1000, 'name': 'København K', 'slug': 'koebenhavn-k', 'zipCode': 1437}, 'zipCode': 1437}</td>\n",
       "      <td>condo</td>\n",
       "      <td>d86cc01d-d2e8-4e17-a236-c82f49fc537d</td>\n",
       "      <td>https://www.nybolig.dk/services/redirect/case/N270123/N2701230000040</td>\n",
       "      <td>{'lat': 55.679836, 'lon': 12.60091, 'type': 'EPSG4326'}</td>\n",
       "      <td>61</td>\n",
       "      <td>{'imageSources': [{'size': {'height': 80, 'width': 100}, 'url': 'https://images.boligsiden.dk/images/case/d86cc01d-d2e8-4e17-a236-c82f49fc537d/100x80/c3b19678-93b2-4d6e-9ddb-afdf617d267f.webp'}, {'size': {'height': 118, 'width': 143}, 'url': 'https://images.boligsiden.dk/images/case/d86cc01d-d2e8-4e17-a236-c82f49fc537d/143x118/c3b19678-93b2-4d6e-9ddb-afdf617d267f.webp'}, {'size': {'height': 200, 'width': 300}, 'url': 'https://images.boligsiden.dk/images/case/d86cc01d-d2e8-4e17-a236-c82f49fc537d/300x200/c3b19678-93b2-4d6e-9ddb-afdf617d267f.webp'}, {'size': {'height': 400, 'width': 600}, 'url': 'https://images.boligsiden.dk/images/case/d86cc01d-d2e8-4e17-a236-c82f49fc537d/600x400/c3b19678-93b2-4d6e-9ddb-afdf617d267f.webp'}, {'size': {'height': 600, 'width': 600}, 'url': 'https://images.boligsiden.dk/images/case/d86cc01d-d2e8-4e17-a236-c82f49fc537d/600x600/c3b19678-93b2-4d6e-9ddb-afdf617d267f.webp'}, {'size': {'height': 960, 'width': 1440}, 'url': 'https://images.boligsiden.dk/images/case/d86cc01d-d2e8-4e17-a236-c82f49fc537d/1440x960/c3b19678-93b2-4d6e-9ddb-afdf617d267f.webp'}]}</td>\n",
       "      <td>Hvis I ynder at være omgivet af den friske luft og lyden af bølgeskvulp, så er det måske en husbåd, I skal investere i. Vi har nemlig fået den enestående mulighed at udbyde et helt fantastisk og topmoderne hjem, der ligger med én af de allerbedste placeringer i havnen: lige mellem Papirøen og Operaen og med den smukkeste udsigt over havnen til Amalienborg, Marmorkirken m.m. Aurora blev bygget i Belgien i 2006, hvor bygherre krævede den perfekte kombination af båd og bolig. Straks man stiger ombo</td>\n",
       "      <td>Sejlende husbåd med fast plads ved siden af Operaen</td>\n",
       "      <td>...</td>\n",
       "      <td>3552</td>\n",
       "      <td>35</td>\n",
       "      <td>{'includedInPrice': None}</td>\n",
       "      <td>2006</td>\n",
       "      <td>NaN</td>\n",
       "      <td>NaN</td>\n",
       "      <td>NaN</td>\n",
       "      <td>55.679836</td>\n",
       "      <td>12.600910</td>\n",
       "      <td>1.653597</td>\n",
       "    </tr>\n",
       "    <tr>\n",
       "      <th>6</th>\n",
       "      <td>{'self': {'href': '/cases/036f55be-c757-41e7-bced-7eafa73e5901'}}</td>\n",
       "      <td>{'_links': {'self': {'href': '/addresses/62b40964-08af-437f-9193-c0967ff8b3f7'}}, 'addressID': '62b40964-08af-437f-9193-c0967ff8b3f7', 'allowNewValuationInfo': True, 'city': {'name': 'København K', 'slug': 'koebenhavn-k'}, 'cityName': 'København K', 'daysOnMarket': {'realtors': []}, 'energyLabelImprovement': {'improvementCase': 'FALLBACK', 'sparEnergiLink': 'https://sparenergi.dk/forbruger/boligen/traenger-din-bolig-til-renovering?utm_source=Boligsiden&amp;utm_medium=Banner&amp;utm_campaign=6'}, 'houseNumber': '102z', 'isPublic': False, 'municipality': {'churchTaxPercentage': 0.8, 'councilTaxPercentage': 23.7, 'districtPlanFrom': '2024-06-28', 'districtPlanPdfUrl': 'https://dokument.plandata.dk/20_11186212_1719470578287.pdf', 'landValueTaxLevelPerThousand': 34, 'masterPlanPdfUrl': 'https://dokument.plandata.dk/12_11267550_1717402838438.pdf', 'municipalityCode': 101, 'name': 'København', 'numberOfSchools': 127, 'population': 644431, 'slug': 'koebenhavn'}, 'province': {'name': 'Byen København', 'provinceCode': 'DK011', 'regionCode': 1084, 'slug': 'byen-koebenhavn'}, 'road': {'municipalityCode': 101, 'name': 'Strandgade'}, 'roadName': 'Strandgade', 'slug': 'strandgade-102z-1401-koebenhavn-k-62b40964-08af-437f-9193-c0967ff8b3f7', 'zip': {'group': 1000, 'name': 'København K', 'slug': 'koebenhavn-k', 'zipCode': 1401}, 'zipCode': 1401}</td>\n",
       "      <td>condo</td>\n",
       "      <td>036f55be-c757-41e7-bced-7eafa73e5901</td>\n",
       "      <td>https://home.dk/sag/1340001480</td>\n",
       "      <td>{'lat': 55.67707, 'lon': 12.597699, 'type': 'EPSG4326'}</td>\n",
       "      <td>66</td>\n",
       "      <td>{'imageSources': [{'size': {'height': 80, 'width': 100}, 'url': 'https://images.boligsiden.dk/images/case/036f55be-c757-41e7-bced-7eafa73e5901/100x80/df661a0b-7035-47ba-aef3-f89146dd0353.webp'}, {'size': {'height': 118, 'width': 143}, 'url': 'https://images.boligsiden.dk/images/case/036f55be-c757-41e7-bced-7eafa73e5901/143x118/df661a0b-7035-47ba-aef3-f89146dd0353.webp'}, {'size': {'height': 200, 'width': 300}, 'url': 'https://images.boligsiden.dk/images/case/036f55be-c757-41e7-bced-7eafa73e5901/300x200/df661a0b-7035-47ba-aef3-f89146dd0353.webp'}, {'size': {'height': 400, 'width': 600}, 'url': 'https://images.boligsiden.dk/images/case/036f55be-c757-41e7-bced-7eafa73e5901/600x400/df661a0b-7035-47ba-aef3-f89146dd0353.webp'}, {'size': {'height': 600, 'width': 600}, 'url': 'https://images.boligsiden.dk/images/case/036f55be-c757-41e7-bced-7eafa73e5901/600x600/df661a0b-7035-47ba-aef3-f89146dd0353.webp'}, {'size': {'height': 960, 'width': 1440}, 'url': 'https://images.boligsiden.dk/images/case/036f55be-c757-41e7-bced-7eafa73e5901/1440x960/df661a0b-7035-47ba-aef3-f89146dd0353.webp'}]}</td>\n",
       "      <td>Husbåd.Få den ultimative frihed ved at kunne drage fra kaj og sejle jorden rundt – samtidig med at du har en eftertragtet bådplads på Christianshavn. Alt sammen med dette veludstyrede sejlskib. \\n\\nS/Y Valhalla er et tidligere skoleskib der har haft sine togter ved de afrikanske kyster, og har gennem de seneste 15 år gennemgået en nær totalrenovering, der resultere i en fuldt funktionel feriebolig med otte sovepladser, gulvvarme, genvækst system, bad og toilet samt køkken med blandt andet induk</td>\n",
       "      <td>Fuldt udstyret sejlskib med otte faste sovepladser</td>\n",
       "      <td>...</td>\n",
       "      <td>3152</td>\n",
       "      <td>59</td>\n",
       "      <td>{'includedInPrice': None}</td>\n",
       "      <td>1981</td>\n",
       "      <td>NaN</td>\n",
       "      <td>NaN</td>\n",
       "      <td>NaN</td>\n",
       "      <td>55.677070</td>\n",
       "      <td>12.597699</td>\n",
       "      <td>1.841517</td>\n",
       "    </tr>\n",
       "    <tr>\n",
       "      <th>7</th>\n",
       "      <td>{'self': {'href': '/cases/ef139eb3-769e-4f8e-9edc-b020c97e3dbb'}}</td>\n",
       "      <td>{'_links': {'self': {'href': '/addresses/f04fae90-a5f3-487d-b0bc-713fab06737e'}}, 'addressID': 'f04fae90-a5f3-487d-b0bc-713fab06737e', 'allowNewValuationInfo': True, 'city': {'name': 'København K', 'slug': 'koebenhavn-k'}, 'cityName': 'København K', 'coordinates': {'lat': 55.693443, 'lon': 12.60804, 'type': 'EPSG4326'}, 'daysOnMarket': {'realtors': []}, 'energyLabelImprovement': {'improvementCase': 'FALLBACK', 'sparEnergiLink': 'https://sparenergi.dk/forbruger/boligen/traenger-din-bolig-til-renovering?utm_source=Boligsiden&amp;utm_medium=Banner&amp;utm_campaign=6'}, 'entryAddressID': '112b87c1-350e-481a-8e33-854a2d719d21', 'gstkvhx': '01015772_169_______', 'houseNumber': '169', 'isPublic': True, 'municipality': {'churchTaxPercentage': 0.8, 'councilTaxPercentage': 23.7, 'districtPlanFrom': '2024-06-28', 'districtPlanPdfUrl': 'https://dokument.plandata.dk/20_11186212_1719470578287.pdf', 'landValueTaxLevelPerThousand': 34, 'masterPlanPdfUrl': 'https://dokument.plandata.dk/12_11267550_1717402838438.pdf', 'municipalityCode': 101, 'name': 'København', 'numberOfSchools': 127, 'population': 644431, 'slug': 'koebenhavn'}, 'province': {'name': 'Byen København', 'provinceCode': 'DK011', 'regionCode': 1084, 'slug': 'byen-koebenhavn'}, 'road': {'municipalityCode': 101, 'name': 'Refshalevej', 'roadCode': 5772, 'roadID': 'b666c681-1fcf-44f5-bdf8-87b65af4f244', 'slug': 'refshalevej'}, 'roadName': 'Refshalevej', 'slug': 'refshalevej-169-1432-koebenhavn-k-01015772_169_______', 'zip': {'group': 1000, 'name': 'København K', 'slug': 'koebenhavn-k', 'zipCode': 1432}, 'zipCode': 1432}</td>\n",
       "      <td>condo</td>\n",
       "      <td>ef139eb3-769e-4f8e-9edc-b020c97e3dbb</td>\n",
       "      <td>http://ekmanbolig.dk/koeb-bolig/bolig.aspx?shopid=1960&amp;caseno=14326321</td>\n",
       "      <td>{'lat': 55.69227, 'lon': 12.60841, 'type': 'EPSG4326'}</td>\n",
       "      <td>67</td>\n",
       "      <td>{'imageSources': [{'size': {'height': 80, 'width': 100}, 'url': 'https://images.boligsiden.dk/images/case/ef139eb3-769e-4f8e-9edc-b020c97e3dbb/100x80/3f16a960-9e27-4295-82e9-285cac25979d.webp'}, {'size': {'height': 118, 'width': 143}, 'url': 'https://images.boligsiden.dk/images/case/ef139eb3-769e-4f8e-9edc-b020c97e3dbb/143x118/3f16a960-9e27-4295-82e9-285cac25979d.webp'}, {'size': {'height': 200, 'width': 300}, 'url': 'https://images.boligsiden.dk/images/case/ef139eb3-769e-4f8e-9edc-b020c97e3dbb/300x200/3f16a960-9e27-4295-82e9-285cac25979d.webp'}, {'size': {'height': 400, 'width': 600}, 'url': 'https://images.boligsiden.dk/images/case/ef139eb3-769e-4f8e-9edc-b020c97e3dbb/600x400/3f16a960-9e27-4295-82e9-285cac25979d.webp'}, {'size': {'height': 600, 'width': 600}, 'url': 'https://images.boligsiden.dk/images/case/ef139eb3-769e-4f8e-9edc-b020c97e3dbb/600x600/3f16a960-9e27-4295-82e9-285cac25979d.webp'}, {'size': {'height': 960, 'width': 1440}, 'url': 'https://images.boligsiden.dk/images/case/ef139eb3-769e-4f8e-9edc-b020c97e3dbb/1440x960/3f16a960-9e27-4295-82e9-285cac25979d.webp'}]}</td>\n",
       "      <td>Udsigt til Kastellet, solide materialer, mange kvadratmeter og en fantastisk placering nær alt det bedste, som Refshaleøen har at byde på. Det er, hvad I får med denne husbåd på Refshalevej 169E. Her mødes I af et rødmalet fyrskib med dobbeltskrog bygget af fem centimeter tykke egeplanker, og indenfor venter en planløsning på intet mindre end 400 kvadratmeter. I sandhed en bolig med spændende muligheder for både udlejning og for at skabe et unikt drømmehjem med masser af plads.Husbådens hjerte er køkken-alrummet i forskibet, hvor egeplanker virkelig kommer til deres ret og bidrager til den herlige atmosfære i rummet, der har god plads til både en spiseafdeling og et blødt sofaarrangement til hyggestunderne. De resterende kvadratmeter fordeler sig mellem ti værelser og et rimeligt antal badeværelser og toiletter, hvilket gør husbåden til en oplagt investeringsejendom for købere, der ønsker at udvide portfolioen med en enestående udlejningsejendom. Har I derimod selv en drøm om at bo på vandet, kan I nemt tilpasse husbåden til jeres behov, åbne rummene op og skabe et hjem med fantastisk flow og en behagelig gennemstrømning af lys. Om sommeren kan I nyde det varme vejr på de to soldæk både for og agter på skibet, der lader jer følge solens bane og giver jer den skønneste udsigt over vandet til Langelinie og Kastellet.Refshaleøens maritime kvarterer byder på et væld af udsøgte spisesteder, kulturoplevelser og alskens fritidsaktiviteter, som spænder over alt fra klatring til kajakroning. Vandhunde kan bade i det nærliggende Refshalebassin, og voldenes dejlige natur indbyder til lange gå- og løbeture. Pendlingen til midtbyen klares hurtigt med bus, på cykel eller over vandet i havnebussen.Pt. er båden indrettet med 10 små værelser som er udlejet. Årlig leje udgør kr. 628.200,-Kontakt os for yderligere oplysninger og besigtigelse. Kai Ekman fra Ekman Bolig kan kontaktes på 22811033</td>\n",
       "      <td>Husbåd - Sjældent udbudt</td>\n",
       "      <td>...</td>\n",
       "      <td>5135</td>\n",
       "      <td>46</td>\n",
       "      <td>{'includedInPrice': None}</td>\n",
       "      <td>1877</td>\n",
       "      <td>NaN</td>\n",
       "      <td>NaN</td>\n",
       "      <td>NaN</td>\n",
       "      <td>55.692270</td>\n",
       "      <td>12.608410</td>\n",
       "      <td>1.333549</td>\n",
       "    </tr>\n",
       "    <tr>\n",
       "      <th>8</th>\n",
       "      <td>{'self': {'href': '/cases/bdcb9f7e-80e9-4834-b595-73c9c9ca4856'}}</td>\n",
       "      <td>{'_links': {'self': {'href': '/addresses/8acfe408-8b3e-451f-a4fe-01b780d97051'}}, 'addressID': '8acfe408-8b3e-451f-a4fe-01b780d97051', 'allowNewValuationInfo': True, 'city': {'name': 'Ishøj', 'slug': 'ishoej'}, 'cityName': 'Ishøj', 'daysOnMarket': {'realtors': []}, 'door': 'S02', 'energyLabelImprovement': {'improvementCase': 'FALLBACK', 'sparEnergiLink': 'https://sparenergi.dk/forbruger/boligen/traenger-din-bolig-til-renovering?utm_source=Boligsiden&amp;utm_medium=Banner&amp;utm_campaign=6'}, 'houseNumber': '13', 'isPublic': False, 'municipality': {'churchTaxPercentage': 0.9, 'councilTaxPercentage': 25, 'districtPlanFrom': '2023-12-20', 'districtPlanPdfUrl': 'https://dokument.plandata.dk/20_11186426_1702987072764.pdf', 'landValueTaxLevelPerThousand': 25, 'masterPlanPdfUrl': 'https://dokument.plandata.dk/12_11195828_1702992436420.pdf', 'municipalityCode': 183, 'name': 'Ishøj', 'numberOfSchools': 7, 'population': 23225, 'slug': 'ishoej'}, 'province': {'name': 'Københavns omegn', 'provinceCode': 'DK012', 'regionCode': 1084, 'slug': 'koebenhavns-omegn'}, 'road': {'municipalityCode': 183, 'name': 'Søhesten'}, 'roadName': 'Søhesten', 'slug': 'soehesten-13-s02-2635-ishoej-8acfe408-8b3e-451f-a4fe-01b780d97051', 'zip': {'name': 'Ishøj', 'slug': 'ishoej', 'zipCode': 2635}, 'zipCode': 2635}</td>\n",
       "      <td>condo</td>\n",
       "      <td>bdcb9f7e-80e9-4834-b595-73c9c9ca4856</td>\n",
       "      <td>https://home.dk/sag/1340001534</td>\n",
       "      <td>{'lat': 55.608906, 'lon': 12.39068, 'type': 'EPSG4326'}</td>\n",
       "      <td>76</td>\n",
       "      <td>{'imageSources': [{'size': {'height': 80, 'width': 100}, 'url': 'https://images.boligsiden.dk/images/case/bdcb9f7e-80e9-4834-b595-73c9c9ca4856/100x80/b48fc6f5-2729-441e-81fc-7893ea414ffb.webp'}, {'size': {'height': 118, 'width': 143}, 'url': 'https://images.boligsiden.dk/images/case/bdcb9f7e-80e9-4834-b595-73c9c9ca4856/143x118/b48fc6f5-2729-441e-81fc-7893ea414ffb.webp'}, {'size': {'height': 200, 'width': 300}, 'url': 'https://images.boligsiden.dk/images/case/bdcb9f7e-80e9-4834-b595-73c9c9ca4856/300x200/b48fc6f5-2729-441e-81fc-7893ea414ffb.webp'}, {'size': {'height': 400, 'width': 600}, 'url': 'https://images.boligsiden.dk/images/case/bdcb9f7e-80e9-4834-b595-73c9c9ca4856/600x400/b48fc6f5-2729-441e-81fc-7893ea414ffb.webp'}, {'size': {'height': 600, 'width': 600}, 'url': 'https://images.boligsiden.dk/images/case/bdcb9f7e-80e9-4834-b595-73c9c9ca4856/600x600/b48fc6f5-2729-441e-81fc-7893ea414ffb.webp'}, {'size': {'height': 960, 'width': 1440}, 'url': 'https://images.boligsiden.dk/images/case/bdcb9f7e-80e9-4834-b595-73c9c9ca4856/1440x960/b48fc6f5-2729-441e-81fc-7893ea414ffb.webp'}]}</td>\n",
       "      <td>Husbåd med andelsplads i Ishøj Havn.Så er det muligt at erhverve en skøn, sejlende husbåd, der i 2020 fik en gennemgående renovering, således er Hele skroget op til vandlinjen blevet med 10mm. ny glasfiber, incl. ny bundbehandling, alt på hoved dækket er blevet fornyet: køkken, loft, gulv, vægge og vinduer. 2 af 3 værelser har fået samme tur, under dæk er der lagt nye gulvtæpper og endelig er terrassen på flybridge genopbygget helt fra bunden.  \\n\\nIndretningen byder på stor stue/køkken/styrehus u</td>\n",
       "      <td>Sejlende husbåd i virkelig flot stand - renoveret i 2020</td>\n",
       "      <td>...</td>\n",
       "      <td>2566</td>\n",
       "      <td>33</td>\n",
       "      <td>{'includedInPrice': None}</td>\n",
       "      <td>1988</td>\n",
       "      <td>NaN</td>\n",
       "      <td>NaN</td>\n",
       "      <td>NaN</td>\n",
       "      <td>55.608906</td>\n",
       "      <td>12.390680</td>\n",
       "      <td>1.524183</td>\n",
       "    </tr>\n",
       "    <tr>\n",
       "      <th>9</th>\n",
       "      <td>{'self': {'href': '/cases/70398fad-5d81-4852-85cc-f0ebe8c1b8d1'}}</td>\n",
       "      <td>{'_links': {'self': {'href': '/addresses/0a3f50bd-49f9-32b8-e044-0003ba298018'}}, 'addressID': '0a3f50bd-49f9-32b8-e044-0003ba298018', 'addressType': 'holiday house', 'allowNewValuationInfo': True, 'bfeNumbers': [746308], 'buildings': [{'bathroomCondition': 'Badeværelse i enheden', 'buildingName': 'Sommerhus', 'buildingNumber': '13', 'externalWallMaterial': 'Metal', 'heatingInstallation': 'Elvarme', 'housingArea': 104, 'kitchenCondition': 'Eget køkken med afløb', 'numberOfBathrooms': 1, 'numberOfFloors': 2, 'numberOfRooms': 4, 'numberOfToilets': 1, 'roofingMaterial': 'Metal', 'supplementaryHeating': 'Ovne til fast eller flydende brændsel', 'toiletCondition': 'Vandskyllende toilet i enheden', 'totalArea': 57, 'yearBuilt': 2008}], 'city': {'name': 'Hemmet', 'slug': 'hemmet'}, 'cityName': 'Hemmet', 'coordinates': {'lat': 55.850296, 'lon': 8.2791395, 'type': 'EPSG4326'}, 'daysOnMarket': {'realtors': []}, 'energyLabelImprovement': {'improvementCase': 'FALLBACK', 'sparEnergiLink': 'https://sparenergi.dk/forbruger/boligen/traenger-din-bolig-til-renovering?utm_source=Boligsiden&amp;utm_medium=Banner&amp;utm_campaign=6'}, 'entryAddressID': '0a3f5091-38c6-32b8-e044-0003ba298018', 'gstkvhx': '07601311__11_______', 'houseNumber': '11', 'isPublic': True, 'livingArea': 104, 'municipality': {'churchTaxPercentage': 1.05, 'councilTaxPercentage': 25, 'districtPlanFrom': '2024-06-03', 'districtPlanPdfUrl': 'https://dokument.plandata.dk/20_11300020_1716880512713.pdf', 'landValueTaxLevelPerThousand': 31, 'masterPlanPdfUrl': 'https://dokument.plandata.dk/12_11300027_1716880768468.pdf', 'municipalityCode': 760, 'name': 'Ringkøbing-Skjern', 'numberOfSchools': 35, 'population': 56203, 'slug': 'ringkoebing-skjern'}, 'place': {'bbox': [8.265464, 55.815403, 8.372976, 55.861725], 'coordinates': {'lat': 55.850296, 'lon': 8.2791395, 'type': 'EPSG4326'}, 'id': 660383, 'name': 'Nr Bork', 'slug': 'nr-bork'}, 'placeName': 'Nr Bork', 'propertyNumber': 7315, 'province': {'name': 'Vestjylland', 'provinceCode': 'DK041', 'regionCode': 1082, 'slug': 'vestjylland'}, 'road': {'municipalityCode': 760, 'name': 'Molen', 'roadCode': 1311, 'roadID': '551c61c7-cff4-4830-94e6-b827087dc808', 'slug': 'molen'}, 'roadName': 'Molen', 'slug': 'molen-11-6893-hemmet-07601311__11_______', 'weightedArea': 104, 'zip': {'name': 'Hemmet', 'slug': 'hemmet', 'zipCode': 6893}, 'zipCode': 6893}</td>\n",
       "      <td>holiday house</td>\n",
       "      <td>70398fad-5d81-4852-85cc-f0ebe8c1b8d1</td>\n",
       "      <td>https://www.nybolig.dk/services/redirect/case/N230014/4413</td>\n",
       "      <td>{'lat': 55.850296, 'lon': 8.2791395, 'type': 'EPSG4326'}</td>\n",
       "      <td>77</td>\n",
       "      <td>{'imageSources': [{'size': {'height': 80, 'width': 100}, 'url': 'https://images.boligsiden.dk/images/case/70398fad-5d81-4852-85cc-f0ebe8c1b8d1/100x80/a28e85d5-2f59-4088-87cf-9822db8005bb.webp'}, {'size': {'height': 118, 'width': 143}, 'url': 'https://images.boligsiden.dk/images/case/70398fad-5d81-4852-85cc-f0ebe8c1b8d1/143x118/a28e85d5-2f59-4088-87cf-9822db8005bb.webp'}, {'size': {'height': 200, 'width': 300}, 'url': 'https://images.boligsiden.dk/images/case/70398fad-5d81-4852-85cc-f0ebe8c1b8d1/300x200/a28e85d5-2f59-4088-87cf-9822db8005bb.webp'}, {'size': {'height': 400, 'width': 600}, 'url': 'https://images.boligsiden.dk/images/case/70398fad-5d81-4852-85cc-f0ebe8c1b8d1/600x400/a28e85d5-2f59-4088-87cf-9822db8005bb.webp'}, {'size': {'height': 600, 'width': 600}, 'url': 'https://images.boligsiden.dk/images/case/70398fad-5d81-4852-85cc-f0ebe8c1b8d1/600x600/a28e85d5-2f59-4088-87cf-9822db8005bb.webp'}, {'size': {'height': 960, 'width': 1440}, 'url': 'https://images.boligsiden.dk/images/case/70398fad-5d81-4852-85cc-f0ebe8c1b8d1/1440x960/a28e85d5-2f59-4088-87cf-9822db8005bb.webp'}]}</td>\n",
       "      <td>Din drøm om at bo på vandet bliver til virkelighed med denne enestående husbåd, der pryder Molen 11 ved Bork Havn. Denne husbåd blev bygget i 2005 og tilbyder en usammenlignelig maritim oplevelse. Fra de tre terrasser kan du observere livet på fjorden, nyde den friske havluft og opleve den spektakulære panoramaudsigt, der strækker sig fra Tipperne fuglereservatet til sandklitterne ved Vesterhavet. Indendørs vil du finde et rummeligt og praktisk interiør, der opfylder dine behov på en imponerende</td>\n",
       "      <td>Hyggelig husbåd med skøn udsigt over Bork Havn</td>\n",
       "      <td>...</td>\n",
       "      <td>1774</td>\n",
       "      <td>21</td>\n",
       "      <td>{'includedInPrice': None}</td>\n",
       "      <td>2005</td>\n",
       "      <td>193906.0</td>\n",
       "      <td>104.0</td>\n",
       "      <td>NaN</td>\n",
       "      <td>55.850296</td>\n",
       "      <td>8.279139</td>\n",
       "      <td>20.513600</td>\n",
       "    </tr>\n",
       "    <tr>\n",
       "      <th>10</th>\n",
       "      <td>{'self': {'href': '/cases/8e39ae41-3749-4788-994d-0aa47ac8576b'}}</td>\n",
       "      <td>{'_links': {'self': {'href': '/addresses/2788e062-eeb3-4a8b-b071-58e07066b343'}}, 'addressID': '2788e062-eeb3-4a8b-b071-58e07066b343', 'allowNewValuationInfo': True, 'city': {'name': 'København SV', 'slug': 'koebenhavn-sv'}, 'cityName': 'København SV', 'coordinates': {'lat': 55.6541, 'lon': 12.554191, 'type': 'EPSG4326'}, 'daysOnMarket': {'realtors': []}, 'energyLabelImprovement': {'improvementCase': 'FALLBACK', 'sparEnergiLink': 'https://sparenergi.dk/forbruger/boligen/traenger-din-bolig-til-renovering?utm_source=Boligsiden&amp;utm_medium=Banner&amp;utm_campaign=6'}, 'entryAddressID': '87688917-1657-499a-b099-a8290120bcdb', 'gstkvhx': '01014354___1_______', 'houseNumber': '1', 'isPublic': True, 'livingArea': 140, 'municipality': {'churchTaxPercentage': 0.8, 'councilTaxPercentage': 23.7, 'districtPlanFrom': '2024-06-28', 'districtPlanPdfUrl': 'https://dokument.plandata.dk/20_11186212_1719470578287.pdf', 'landValueTaxLevelPerThousand': 34, 'masterPlanPdfUrl': 'https://dokument.plandata.dk/12_11267550_1717402838438.pdf', 'municipalityCode': 101, 'name': 'København', 'numberOfSchools': 127, 'population': 644431, 'slug': 'koebenhavn'}, 'propertyNumber': 986365, 'province': {'name': 'Byen København', 'provinceCode': 'DK011', 'regionCode': 1084, 'slug': 'byen-koebenhavn'}, 'registrations': [{'amount': 28000000, 'area': 140, 'date': '2014-05-27', 'municipalityCode': 101, 'propertyNumber': 986365, 'registrationID': '4637331', 'type': 'normal'}, {'amount': 46303811, 'date': '2010-12-28', 'municipalityCode': 101, 'propertyNumber': 986365, 'registrationID': '4259991', 'type': 'normal'}, {'amount': 46303811, 'date': '2004-06-18', 'municipalityCode': 101, 'propertyNumber': 986365, 'registrationID': '1683458', 'type': 'normal'}, {'amount': 17762500, 'date': '2002-10-07', 'municipalityCode': 101, 'propertyNumber': 986365, 'registrationID': '1424890', 'type': 'normal'}], 'road': {'municipalityCode': 101, 'name': 'Linus Paulings Vej', 'roadCode': 4354, 'roadID': 'e81bf6e0-c8bc-478c-aa1e-0b40959e8b79', 'slug': 'linus-paulings-vej'}, 'roadName': 'Linus Paulings Vej', 'slug': 'linus-paulings-vej-1-2450-koebenhavn-sv-01014354___1_______', 'zip': {'name': 'København SV', 'slug': 'koebenhavn-sv', 'zipCode': 2450}, 'zipCode': 2450}</td>\n",
       "      <td>villa</td>\n",
       "      <td>8e39ae41-3749-4788-994d-0aa47ac8576b</td>\n",
       "      <td>https://adamschnack.dk/sag.aspx?mgl=2896&amp;sagsnr=AS2152</td>\n",
       "      <td>{'lat': 55.6541, 'lon': 12.554191, 'type': 'EPSG4326'}</td>\n",
       "      <td>77</td>\n",
       "      <td>{'imageSources': [{'size': {'height': 80, 'width': 100}, 'url': 'https://images.boligsiden.dk/images/case/8e39ae41-3749-4788-994d-0aa47ac8576b/100x80/288b3cdb-50d7-48a1-b184-b223bca79677.webp'}, {'size': {'height': 118, 'width': 143}, 'url': 'https://images.boligsiden.dk/images/case/8e39ae41-3749-4788-994d-0aa47ac8576b/143x118/288b3cdb-50d7-48a1-b184-b223bca79677.webp'}, {'size': {'height': 200, 'width': 300}, 'url': 'https://images.boligsiden.dk/images/case/8e39ae41-3749-4788-994d-0aa47ac8576b/300x200/288b3cdb-50d7-48a1-b184-b223bca79677.webp'}, {'size': {'height': 400, 'width': 600}, 'url': 'https://images.boligsiden.dk/images/case/8e39ae41-3749-4788-994d-0aa47ac8576b/600x400/288b3cdb-50d7-48a1-b184-b223bca79677.webp'}, {'size': {'height': 600, 'width': 600}, 'url': 'https://images.boligsiden.dk/images/case/8e39ae41-3749-4788-994d-0aa47ac8576b/600x600/288b3cdb-50d7-48a1-b184-b223bca79677.webp'}, {'size': {'height': 960, 'width': 1440}, 'url': 'https://images.boligsiden.dk/images/case/8e39ae41-3749-4788-994d-0aa47ac8576b/1440x960/288b3cdb-50d7-48a1-b184-b223bca79677.webp'}]}</td>\n",
       "      <td>At bo i hus på vandet. Det er svært at forestille sig en bedre disponeret husbåd på 140m2, der forener livet på vandet med en moderne boligkomfort. Et hjem på vandet er en livsstil, hvor mulighederne er lig med drømmende. Drømmen om et morgendyp året rundt, eller sætte sig direkte i kajakken og sejle gennem kanalerne. Husbåden er skønt beliggende i hjertet af Teglholmen, der er et af de mest progressive kvarterer i København, der i hastige skridt er ved at udvikle sig til en af byens moderne oaser. Pakhuse, gammel industri og moderne beboelse forener sig på tværs af hinandens tilstedeværelse, mens kanalerne på kryds og tværs sætter rammen for et hyggeligt og charmerende husbådsmiljø. Husbåden er opført som en moderne luksusvilla med alt hvad man med rimelighed kan ønske sig. Entré til hyggeligt terrasseområde på ca. 25 m2, hvorfra der er adgang til bådens store og højloftede stue med brændeovn. Herfra trappe til repos, hyggeligt og moderne indrettet køkkenalrum med udgang til højere beliggende terrasseområde, som er uderum i sommerhalvåret. Fra repos er der udgang til det øverste dæk, som er indrettet som stor solterrasse på ca. 45 m2 med mulighed for udendørs køkken. Desuden toilet og depotrum/spisekammer. I bådens stueplan er der fra opholdsstuen mellemgang til fire værelser; tre gode værelser og et værelse med hems og indbygget vaskerum. Derudover walk-in og badeværelse med brus og toilet. Tilmed har husbåden et kælderrum på størrelse med stueplan. Boligkomforten her bliver kun understreget af, at der er gulvvarme i alle rum. Husbåden har en længde på 21,3 meter og en bredde på 7,7 meter. En gennemført lækker bolig for det pladskrævende par eller en familie, som ønsker at bo på vandet, midt i Teglholmen, tæt på Enghave Brygge metrostation, tæt på indkøb, tæt på centrum og alligevel langt fra byens hektiske liv.</td>\n",
       "      <td>NaN</td>\n",
       "      <td>...</td>\n",
       "      <td>3529</td>\n",
       "      <td>43</td>\n",
       "      <td>{'includedInPrice': None}</td>\n",
       "      <td>2016</td>\n",
       "      <td>1.0</td>\n",
       "      <td>NaN</td>\n",
       "      <td>NaN</td>\n",
       "      <td>55.654100</td>\n",
       "      <td>12.554191</td>\n",
       "      <td>1.171687</td>\n",
       "    </tr>\n",
       "    <tr>\n",
       "      <th>11</th>\n",
       "      <td>{'self': {'href': '/cases/14aecdae-15ce-4e22-86f8-055d4b8c0cfd'}}</td>\n",
       "      <td>{'_links': {'self': {'href': '/addresses/1192efa0-9dc9-448f-9589-7dc40e185cc2'}}, 'addressID': '1192efa0-9dc9-448f-9589-7dc40e185cc2', 'allowNewValuationInfo': True, 'city': {'name': 'København S', 'slug': 'koebenhavn-s'}, 'cityName': 'København S', 'coordinates': {'lat': 55.64129, 'lon': 12.5527115, 'type': 'EPSG4326'}, 'daysOnMarket': {'realtors': []}, 'energyLabelImprovement': {'improvementCase': 'FALLBACK', 'sparEnergiLink': 'https://sparenergi.dk/forbruger/boligen/traenger-din-bolig-til-renovering?utm_source=Boligsiden&amp;utm_medium=Banner&amp;utm_campaign=6'}, 'entryAddressID': '64709680-79f1-40cf-b862-a473e3985d47', 'gstkvhx': '01018090_53B_______', 'houseNumber': '53B', 'isPublic': True, 'municipality': {'churchTaxPercentage': 0.8, 'councilTaxPercentage': 23.7, 'districtPlanFrom': '2024-06-28', 'districtPlanPdfUrl': 'https://dokument.plandata.dk/20_11186212_1719470578287.pdf', 'landValueTaxLevelPerThousand': 34, 'masterPlanPdfUrl': 'https://dokument.plandata.dk/12_11267550_1717402838438.pdf', 'municipalityCode': 101, 'name': 'København', 'numberOfSchools': 127, 'population': 644431, 'slug': 'koebenhavn'}, 'province': {'name': 'Byen København', 'provinceCode': 'DK011', 'regionCode': 1084, 'slug': 'byen-koebenhavn'}, 'road': {'municipalityCode': 101, 'name': 'Ved Slusen', 'roadCode': 8090, 'roadID': '6dbadaf4-be9e-4598-86a0-4901a6eb8ea7', 'slug': 'ved-slusen'}, 'roadName': 'Ved Slusen', 'slug': 'ved-slusen-53b-2300-koebenhavn-s-01018090_53b_______', 'zip': {'name': 'København S', 'slug': 'koebenhavn-s', 'zipCode': 2300}, 'zipCode': 2300}</td>\n",
       "      <td>condo</td>\n",
       "      <td>14aecdae-15ce-4e22-86f8-055d4b8c0cfd</td>\n",
       "      <td>https://www.lokalbolig.dk/?sag=20-X0001377</td>\n",
       "      <td>{'lat': 55.64135, 'lon': 12.552788, 'type': 'EPSG4326'}</td>\n",
       "      <td>87</td>\n",
       "      <td>{'imageSources': [{'size': {'height': 80, 'width': 100}, 'url': 'https://images.boligsiden.dk/images/case/14aecdae-15ce-4e22-86f8-055d4b8c0cfd/100x80/7572d333-8736-4717-b7d2-604ff89cf0db.webp'}, {'size': {'height': 118, 'width': 143}, 'url': 'https://images.boligsiden.dk/images/case/14aecdae-15ce-4e22-86f8-055d4b8c0cfd/143x118/7572d333-8736-4717-b7d2-604ff89cf0db.webp'}, {'size': {'height': 200, 'width': 300}, 'url': 'https://images.boligsiden.dk/images/case/14aecdae-15ce-4e22-86f8-055d4b8c0cfd/300x200/7572d333-8736-4717-b7d2-604ff89cf0db.webp'}, {'size': {'height': 400, 'width': 600}, 'url': 'https://images.boligsiden.dk/images/case/14aecdae-15ce-4e22-86f8-055d4b8c0cfd/600x400/7572d333-8736-4717-b7d2-604ff89cf0db.webp'}, {'size': {'height': 600, 'width': 600}, 'url': 'https://images.boligsiden.dk/images/case/14aecdae-15ce-4e22-86f8-055d4b8c0cfd/600x600/7572d333-8736-4717-b7d2-604ff89cf0db.webp'}, {'size': {'height': 960, 'width': 1440}, 'url': 'https://images.boligsiden.dk/images/case/14aecdae-15ce-4e22-86f8-055d4b8c0cfd/1440x960/7572d333-8736-4717-b7d2-604ff89cf0db.webp'}]}</td>\n",
       "      <td>Moderniseret lejlighed på husbåd ved SluseløbetFlydende på vandet ved Slusen, et stensmut fra Amager Fælled, ligger denne husbåd, hvor I nu har mulighed for at bo på en anderledes måde. Båden er inddelt i tre lejligheder, og denne i midten er særdeles indbydende og moderne. Etagen over dæk er bygget til i 2015 og renoveret i 2021, og her venter et åbent køkken-alrum, mens etagen under dæk er indrettet med et værelse, en stue og et badeværelse. Dertil hører en flydende terrasse samt en tagterrass</td>\n",
       "      <td>Moderniseret lejlighed på husbåd ved Sluseløbet!</td>\n",
       "      <td>...</td>\n",
       "      <td>5469</td>\n",
       "      <td>121</td>\n",
       "      <td>{'includedInPrice': None}</td>\n",
       "      <td>1910</td>\n",
       "      <td>NaN</td>\n",
       "      <td>NaN</td>\n",
       "      <td>NaN</td>\n",
       "      <td>55.641350</td>\n",
       "      <td>12.552788</td>\n",
       "      <td>1.788627</td>\n",
       "    </tr>\n",
       "    <tr>\n",
       "      <th>12</th>\n",
       "      <td>{'self': {'href': '/cases/7326de30-d906-400e-815e-8d21200a2fe5'}}</td>\n",
       "      <td>{'_links': {'self': {'href': '/addresses/02e88cad-8309-4d45-b59b-a944b829b512'}}, 'addressID': '02e88cad-8309-4d45-b59b-a944b829b512', 'allowNewValuationInfo': True, 'buildings': [{'buildingName': 'Carport', 'buildingNumber': '11', 'externalWallMaterial': 'Metal', 'roofingMaterial': 'Metal', 'totalArea': 112, 'yearBuilt': 1990}, {'buildingName': 'Udhus', 'buildingNumber': '12', 'externalWallMaterial': 'Metal', 'roofingMaterial': 'Metal', 'totalArea': 39, 'yearBuilt': 1990}, {'buildingName': 'Udhus', 'buildingNumber': '15', 'externalWallMaterial': 'Metal', 'roofingMaterial': 'Metal', 'totalArea': 39, 'yearBuilt': 1990}, {'buildingName': 'Udhus', 'buildingNumber': '16', 'externalWallMaterial': 'Metal', 'roofingMaterial': 'Metal', 'totalArea': 15, 'yearBuilt': 1990}], 'city': {'name': 'København K', 'slug': 'koebenhavn-k'}, 'cityName': 'København K', 'coordinates': {'lat': 55.670937, 'lon': 12.581738, 'type': 'EPSG4326'}, 'daysOnMarket': {'realtors': []}, 'energyLabelImprovement': {'improvementCase': 'FALLBACK', 'sparEnergiLink': 'https://sparenergi.dk/forbruger/boligen/traenger-din-bolig-til-renovering?utm_source=Boligsiden&amp;utm_medium=Banner&amp;utm_campaign=6'}, 'entryAddressID': '0a3f507a-b3d7-32b8-e044-0003ba298018', 'gstkvhx': '01014140___1_______', 'houseNumber': '1', 'isPublic': True, 'municipality': {'churchTaxPercentage': 0.8, 'councilTaxPercentage': 23.7, 'districtPlanFrom': '2024-06-28', 'districtPlanPdfUrl': 'https://dokument.plandata.dk/20_11186212_1719470578287.pdf', 'landValueTaxLevelPerThousand': 34, 'masterPlanPdfUrl': 'https://dokument.plandata.dk/12_11267550_1717402838438.pdf', 'municipalityCode': 101, 'name': 'København', 'numberOfSchools': 127, 'population': 644431, 'slug': 'koebenhavn'}, 'province': {'name': 'Byen København', 'provinceCode': 'DK011', 'regionCode': 1084, 'slug': 'byen-koebenhavn'}, 'road': {'municipalityCode': 101, 'name': 'Langebrogade', 'roadCode': 4140, 'roadID': '7134e413-ca64-4d67-958b-012835f3c6fa', 'slug': 'langebrogade'}, 'roadName': 'Langebrogade', 'slug': 'langebrogade-1-1411-koebenhavn-k-01014140___1_______', 'zip': {'group': 1000, 'name': 'København K', 'slug': 'koebenhavn-k', 'zipCode': 1411}, 'zipCode': 1411}</td>\n",
       "      <td>villa</td>\n",
       "      <td>7326de30-d906-400e-815e-8d21200a2fe5</td>\n",
       "      <td>https://www.edc.dk/sag/?sagsnr=27703289</td>\n",
       "      <td>{'lat': 55.670937, 'lon': 12.581738, 'type': 'EPSG4326'}</td>\n",
       "      <td>101</td>\n",
       "      <td>{'imageSources': [{'size': {'height': 80, 'width': 100}, 'url': 'https://images.boligsiden.dk/images/case/7326de30-d906-400e-815e-8d21200a2fe5/100x80/719dae9d-0da4-422c-ae36-ab775e2cf6e4.webp'}, {'size': {'height': 118, 'width': 143}, 'url': 'https://images.boligsiden.dk/images/case/7326de30-d906-400e-815e-8d21200a2fe5/143x118/719dae9d-0da4-422c-ae36-ab775e2cf6e4.webp'}, {'size': {'height': 200, 'width': 300}, 'url': 'https://images.boligsiden.dk/images/case/7326de30-d906-400e-815e-8d21200a2fe5/300x200/719dae9d-0da4-422c-ae36-ab775e2cf6e4.webp'}, {'size': {'height': 400, 'width': 600}, 'url': 'https://images.boligsiden.dk/images/case/7326de30-d906-400e-815e-8d21200a2fe5/600x400/719dae9d-0da4-422c-ae36-ab775e2cf6e4.webp'}, {'size': {'height': 600, 'width': 600}, 'url': 'https://images.boligsiden.dk/images/case/7326de30-d906-400e-815e-8d21200a2fe5/600x600/719dae9d-0da4-422c-ae36-ab775e2cf6e4.webp'}, {'size': {'height': 960, 'width': 1440}, 'url': 'https://images.boligsiden.dk/images/case/7326de30-d906-400e-815e-8d21200a2fe5/1440x960/719dae9d-0da4-422c-ae36-ab775e2cf6e4.webp'}]}</td>\n",
       "      <td>Viva bedre kendt som Showboat fra tv-serien Klovn, er en af Københavns mest ikoniske og historiske restaurationsbåde. Beliggende langs havneforløbet på Langebrogade, giver denne unikke båd en enestående kombination af charme, historie og moderne komfort.\\nMed sin karakteristiske facade og imponerende beliggenhed ved vandet er Viva den ideelle restaurationsbåd til brug for større selskaber eller restaurant.  Denne smukt designede restaurationsbåd kombinerer det bedste fra to verdener: den maritime atmosfære og den pulserende bylivsstil. Her er der plads til både større og mindre selskaber.\\nIndvendigt byder Viva på et moderne og stilfuldt interiør, der samtidig bevarer sin autentiske charme. Hver detalje er omhyggeligt udvalgt for at skabe en indbydende og behagelig atmosfære, der indbyder til hyggelige arrangementer. Her træder man direkte ind til panoramaudsigt over kanalen og København By. Her bliver gæsterne budt velkommen til en unik og charmerende spiseoplevelse. \\nFra soldækket kan man nyde solnedgangen over vandet og observere det pulserende byliv, der passerer forbi. På soldækket er der endnu en bar, hvor gæsterne kan serviceres og med elevator direkte ned til køkkenet. Fantastisk tag soldæk med lounge møbler hvor kan slænge sig og nyde udsigten.  \\nI kælderen har man det store industrikøkken med et større kølerum og madelevator, som kan transportere maden til både stueetagen og dæk så man ikke skal op og ned ad trapperne. Dertil industri opvaskemaskine, med massere funktionel plads. Derudover byder kælderen på opbevaringsmuligheder og restaurantens 4 toiletter. Husbåd ombygget til restaurationsbåd\\n\\n\\n\\nVelkommen ombord.</td>\n",
       "      <td>Velkommen ombord på \"Viva\"</td>\n",
       "      <td>...</td>\n",
       "      <td>5496</td>\n",
       "      <td>96</td>\n",
       "      <td>{'includedInPrice': None}</td>\n",
       "      <td>1958</td>\n",
       "      <td>NaN</td>\n",
       "      <td>NaN</td>\n",
       "      <td>NaN</td>\n",
       "      <td>55.670937</td>\n",
       "      <td>12.581738</td>\n",
       "      <td>1.488367</td>\n",
       "    </tr>\n",
       "    <tr>\n",
       "      <th>13</th>\n",
       "      <td>{'self': {'href': '/cases/4e359c40-e0da-44fc-975a-73b713391aaa'}}</td>\n",
       "      <td>{'_links': {'self': {'href': '/addresses/87cdf76a-7af5-4751-8da7-9c621e70587d'}}, 'addressID': '87cdf76a-7af5-4751-8da7-9c621e70587d', 'addressType': 'villa', 'allowNewValuationInfo': True, 'bfeNumbers': [719549], 'buildings': [{'bathroomCondition': 'Badeværelse i enheden', 'buildingName': 'Fritliggende enfamilieshus (parcelhus)', 'buildingNumber': '28', 'externalWallMaterial': 'Træ', 'heatingInstallation': 'Varmepumpe', 'housingArea': 161, 'kitchenCondition': 'Eget køkken med afløb', 'numberOfBathrooms': 2, 'numberOfFloors': 1, 'numberOfKitchens': 1, 'numberOfRooms': 6, 'numberOfToilets': 2, 'roofingMaterial': 'Tagpap med stor hældning', 'toiletCondition': 'Vandskyllende toilet i enheden', 'totalArea': 94, 'yearBuilt': 2007}], 'city': {'name': 'Nykøbing Sj', 'slug': 'nykoebing-sj'}, 'cityName': 'Nykøbing Sj', 'coordinates': {'lat': 55.915054, 'lon': 11.676225, 'type': 'EPSG4326'}, 'daysOnMarket': {'realtors': []}, 'energyLabelImprovement': {'improvementCase': 'FALLBACK', 'sparEnergiLink': 'https://sparenergi.dk/forbruger/boligen/traenger-din-bolig-til-renovering?utm_source=Boligsiden&amp;utm_medium=Banner&amp;utm_campaign=6'}, 'entryAddressID': '39ece5fb-f031-0ee2-e044-0003ba298018', 'gstkvhx': '03060870_49C_______', 'houseNumber': '49C', 'isPublic': True, 'livingArea': 161, 'municipality': {'churchTaxPercentage': 0.98, 'councilTaxPercentage': 26.3, 'districtPlanFrom': '2024-06-04', 'districtPlanPdfUrl': 'https://dokument.plandata.dk/20_11300377_1717488791555.pdf', 'landValueTaxLevelPerThousand': 34, 'masterPlanPdfUrl': 'https://dokument.plandata.dk/12_11299765_1710234353814.pdf', 'municipalityCode': 306, 'name': 'Odsherred', 'numberOfSchools': 16, 'population': 32881, 'slug': 'odsherred'}, 'propertyNumber': 40026, 'province': {'name': 'Vest- og Sydsjælland', 'provinceCode': 'DK022', 'regionCode': 1085, 'slug': 'vest--og-sydsjaelland'}, 'road': {'municipalityCode': 306, 'name': 'Havnevej', 'roadCode': 870, 'roadID': '100b37b8-706e-4170-836a-e72b681322b7', 'slug': 'havnevej'}, 'roadName': 'Havnevej', 'slug': 'havnevej-49c-4500-nykoebing-sj-03060870_49c_______', 'weightedArea': 154.3, 'zip': {'name': 'Nykøbing Sj', 'slug': 'nykoebing-sj', 'zipCode': 4500}, 'zipCode': 4500}</td>\n",
       "      <td>villa</td>\n",
       "      <td>4e359c40-e0da-44fc-975a-73b713391aaa</td>\n",
       "      <td>http://www.pernillesams.dk/redirect.php?mgl=1320&amp;Sagsnr=22365</td>\n",
       "      <td>{'lat': 55.914936, 'lon': 11.676922, 'type': 'EPSG4326'}</td>\n",
       "      <td>103</td>\n",
       "      <td>{'imageSources': [{'size': {'height': 80, 'width': 100}, 'url': 'https://images.boligsiden.dk/images/case/4e359c40-e0da-44fc-975a-73b713391aaa/100x80/0d20ed90-b4a5-4115-933f-10a3f416ebb1.webp'}, {'size': {'height': 118, 'width': 143}, 'url': 'https://images.boligsiden.dk/images/case/4e359c40-e0da-44fc-975a-73b713391aaa/143x118/0d20ed90-b4a5-4115-933f-10a3f416ebb1.webp'}, {'size': {'height': 200, 'width': 300}, 'url': 'https://images.boligsiden.dk/images/case/4e359c40-e0da-44fc-975a-73b713391aaa/300x200/0d20ed90-b4a5-4115-933f-10a3f416ebb1.webp'}, {'size': {'height': 400, 'width': 600}, 'url': 'https://images.boligsiden.dk/images/case/4e359c40-e0da-44fc-975a-73b713391aaa/600x400/0d20ed90-b4a5-4115-933f-10a3f416ebb1.webp'}, {'size': {'height': 600, 'width': 600}, 'url': 'https://images.boligsiden.dk/images/case/4e359c40-e0da-44fc-975a-73b713391aaa/600x600/0d20ed90-b4a5-4115-933f-10a3f416ebb1.webp'}, {'size': {'height': 960, 'width': 1440}, 'url': 'https://images.boligsiden.dk/images/case/4e359c40-e0da-44fc-975a-73b713391aaa/1440x960/0d20ed90-b4a5-4115-933f-10a3f416ebb1.webp'}]}</td>\n",
       "      <td>På Havnevej 49C finder man denne fantastiske, men noget utraditionelle bolig, en helt særlig husbåd fra Waterliving. I modsætning til de fleste husbåde, er den bygget som bolig på vandet, og ikke en båd, som er ombygget til bolig. Dette kommer i særdeleshed til udtryk i indretningen, materialevalget, komforten, planløsningen, interiør, mv. Båden sejlede ud af værftet tilbage i 2006 og er isoleret efter daværende forhold - dvs. bedre end de fleste husbåde. Herudover er der gulvvarme og båden opvarmes med centralvarme via en varmepumpe - som man kender det fra moderne huse.Her er 160 m2 fordelt på stueplan og 1 sal. Her er ingen skråvægge samt en god lofthøjde og masser af lys fra de mange store vinduer. Dette er med til at gøre, at man får maksimal udbytte af omgivelserne og udsigten, uanset hvilket rum man befinder sig i. Der er adskillige udgange til terrasser, der omkranser boligen. Boligen har tre gode værelser samt stort køkken alrum, smuk hall samt to badeværelser. Der er koblet el, offentlig vand og kloak til båden, samt fibernet. Boligen er registeret skibsregisteret og er derfor flytbar, såfremt køber ønsker dette.Som brugsret til havnepladsen findes her to parkeringspladser, samt lille bådhus/udhus og et fællesareal med mulighed for grill og bålplads. Her er bænke mv. og må kun benyttes af områdets havepladslejere med i alt 8 husbåde. Her er et godt sammenhold husbådsejerne imellem med både sociale aktiviteter og praktisk hjælp til hinanden. Liebhaverboliger finder du hos ejendomsmægler Pernille Sams. Vi sælger liebhaveri i særklasse.</td>\n",
       "      <td>Moderne husbåd på områdets bedste kajplads - malerisk udsigt til fuglereservat og Isefjorden</td>\n",
       "      <td>...</td>\n",
       "      <td>2714</td>\n",
       "      <td>39</td>\n",
       "      <td>{'includedInPrice': None}</td>\n",
       "      <td>2007</td>\n",
       "      <td>1572.0</td>\n",
       "      <td>154.3</td>\n",
       "      <td>NaN</td>\n",
       "      <td>55.914936</td>\n",
       "      <td>11.676922</td>\n",
       "      <td>0.789428</td>\n",
       "    </tr>\n",
       "    <tr>\n",
       "      <th>14</th>\n",
       "      <td>{'self': {'href': '/cases/5f68ed1a-a294-4253-8123-8f5d2f9b655d'}}</td>\n",
       "      <td>{'_links': {'self': {'href': '/addresses/3c0b2ee1-9daa-40c6-bce0-2f9302c416de'}}, 'addressID': '3c0b2ee1-9daa-40c6-bce0-2f9302c416de', 'allowNewValuationInfo': True, 'bfeNumbers': [424049], 'buildings': [{'bathroomCondition': 'Badeværelse i enheden', 'buildingName': 'Etagebolig-bygning, flerfamiliehus eller tofamiliehus', 'buildingNumber': '7', 'externalWallMaterial': 'Betonelementer', 'heatingInstallation': 'Fjernvarme/blokvarme', 'housingArea': 117, 'kitchenCondition': 'Eget køkken med afløb', 'numberOfBathrooms': 1, 'numberOfFloors': 8, 'numberOfKitchens': 22, 'numberOfRooms': 4, 'numberOfToilets': 1, 'roofingMaterial': 'Tagpap med stor hældning', 'toiletCondition': 'Vandskyllende toilet i enheden', 'totalArea': 432, 'yearBuilt': 2016}], 'city': {'name': 'København SV', 'slug': 'koebenhavn-sv'}, 'cityName': 'København SV', 'coordinates': {'lat': 55.64631, 'lon': 12.544503, 'type': 'EPSG4326'}, 'daysOnMarket': {'realtors': []}, 'energyLabelImprovement': {'improvementCase': 'FALLBACK', 'sparEnergiLink': 'https://sparenergi.dk/forbruger/boligen/traenger-din-bolig-til-renovering?utm_source=Boligsiden&amp;utm_medium=Banner&amp;utm_campaign=6'}, 'entryAddressID': 'a0cf05ea-16a2-4124-b8d7-23a7c20d0804', 'floor': '6', 'gstkvhx': '01011958__2E__6____', 'houseNumber': '2E', 'isPublic': True, 'latestValuation': 3100000, 'livingArea': 117, 'municipality': {'churchTaxPercentage': 0.8, 'councilTaxPercentage': 23.7, 'districtPlanFrom': '2024-06-28', 'districtPlanPdfUrl': 'https://dokument.plandata.dk/20_11186212_1719470578287.pdf', 'landValueTaxLevelPerThousand': 34, 'masterPlanPdfUrl': 'https://dokument.plandata.dk/12_11267550_1717402838438.pdf', 'municipalityCode': 101, 'name': 'København', 'numberOfSchools': 127, 'population': 644431, 'slug': 'koebenhavn'}, 'propertyNumber': 21216, 'province': {'name': 'Byen København', 'provinceCode': 'DK011', 'regionCode': 1084, 'slug': 'byen-koebenhavn'}, 'registrations': [{'amount': 5055000, 'area': 117, 'date': '2017-05-09', 'municipalityCode': 101, 'propertyNumber': 21216, 'registrationID': '5011370', 'type': 'normal'}], 'road': {'municipalityCode': 101, 'name': 'Frederikskaj', 'roadCode': 1958, 'roadID': 'cfff4bbd-3438-404c-ac5b-41108d618c4f', 'slug': 'frederikskaj'}, 'roadName': 'Frederikskaj', 'slug': 'frederikskaj-2e-6-2450-koebenhavn-sv-01011958__2e__6____', 'zip': {'name': 'København SV', 'slug': 'koebenhavn-sv', 'zipCode': 2450}, 'zipCode': 2450}</td>\n",
       "      <td>condo</td>\n",
       "      <td>5f68ed1a-a294-4253-8123-8f5d2f9b655d</td>\n",
       "      <td>https://www.realmaeglerne.dk/301-redirect/?mgl=R134&amp;sagsnr=1343375</td>\n",
       "      <td>{'lat': 55.64631, 'lon': 12.544503, 'type': 'EPSG4326'}</td>\n",
       "      <td>116</td>\n",
       "      <td>{'imageSources': [{'size': {'height': 80, 'width': 100}, 'url': 'https://images.boligsiden.dk/images/case/5f68ed1a-a294-4253-8123-8f5d2f9b655d/100x80/e9a39c1c-f553-4a08-99a2-f24d96a8035a.webp'}, {'size': {'height': 118, 'width': 143}, 'url': 'https://images.boligsiden.dk/images/case/5f68ed1a-a294-4253-8123-8f5d2f9b655d/143x118/e9a39c1c-f553-4a08-99a2-f24d96a8035a.webp'}, {'size': {'height': 200, 'width': 300}, 'url': 'https://images.boligsiden.dk/images/case/5f68ed1a-a294-4253-8123-8f5d2f9b655d/300x200/e9a39c1c-f553-4a08-99a2-f24d96a8035a.webp'}, {'size': {'height': 400, 'width': 600}, 'url': 'https://images.boligsiden.dk/images/case/5f68ed1a-a294-4253-8123-8f5d2f9b655d/600x400/e9a39c1c-f553-4a08-99a2-f24d96a8035a.webp'}, {'size': {'height': 600, 'width': 600}, 'url': 'https://images.boligsiden.dk/images/case/5f68ed1a-a294-4253-8123-8f5d2f9b655d/600x600/e9a39c1c-f553-4a08-99a2-f24d96a8035a.webp'}, {'size': {'height': 960, 'width': 1440}, 'url': 'https://images.boligsiden.dk/images/case/5f68ed1a-a294-4253-8123-8f5d2f9b655d/1440x960/e9a39c1c-f553-4a08-99a2-f24d96a8035a.webp'}]}</td>\n",
       "      <td>Lejligheden: Når du træder ind i boligens entré, åbner det store, lyse køkken-alrum sig op foran dig. Store vinduespartier lukker det naturlige lys ind og byder det maritime nærmiljø velkommen. Stuen har udgang til begge boligens altaner, som er henholdsvis sydøst- og sydvestvendte, og sammenlagt byder de på mere end 20 kvm, oplagt til varme sommeraftener. Køkkenet står flot med hvide fronter samt gode hvidevarer. Du får rig mulighed for at indrette alrummet med både spisebord og sofaarrangement. Lejlighedens yderligere 3 værelser byder på mulighed for skabsplads, udsigt, og det ene værelse byder på et walk-in closet/depotrum. Til sidst får du et badeværelse med bruseniche samt vaskesøjle.Ejendommen: Lejligheden ligger i det arkitektoniske byggeri på Frederikskaj, tegnet af arkitekthuset Holscher Nordberg, hvor der er stor fokus på det maritime nærmiljø. Ejendommene er derfor designet, så alle får så god en udsigt som muligt. De grønne arealer er formet som en kyst med græsser og buske, som vi kender det fra kystlandskaber. Husbåde og bådpladser ved havnepromenaden er også med til at skabe den rigtige maritime stemning. Til bebyggelsen hører eget fælleshus, placeret på en mole ude i vandet. Fælleshuset indeholder blandt andet et stort festlokale samt gæstelejligheder med bad og et lille \"kajakhotel\", hvor der er sauna. Der er desuden mulighed for bådpladser.Området: Sydhavnen byder på mange indkøbsmuligheder samt masser af natur og vand. Hvis du hopper på cyklen, er der blot 10 minutter til Københavns Hovedbanegård, Fisketorvet, og let mulighed for at fortsætte længere ind mod indre by. Desuden ligger lejligheden ved siden af den nye Metro M5 med planlagt åbningsdag den 22. juni. Hvis du cykler igennem det Gamle Sydhavn, kommer du hurtigt til Valbyparken, som byder på ro i de grønne omgivelser.</td>\n",
       "      <td>Skøn 4-værelses lejlighed med vandudsigt!</td>\n",
       "      <td>...</td>\n",
       "      <td>2919</td>\n",
       "      <td>45</td>\n",
       "      <td>{'includedInPrice': None}</td>\n",
       "      <td>2016</td>\n",
       "      <td>NaN</td>\n",
       "      <td>NaN</td>\n",
       "      <td>NaN</td>\n",
       "      <td>55.646310</td>\n",
       "      <td>12.544503</td>\n",
       "      <td>1.049464</td>\n",
       "    </tr>\n",
       "    <tr>\n",
       "      <th>15</th>\n",
       "      <td>{'self': {'href': '/cases/e9f4f0f3-10e4-4748-8c7d-acb4126df1e3'}}</td>\n",
       "      <td>{'_links': {'self': {'href': '/addresses/26758225-ad6c-4026-a5db-6b4f060b09e3'}}, 'addressID': '26758225-ad6c-4026-a5db-6b4f060b09e3', 'allowNewValuationInfo': True, 'city': {'name': 'Ishøj', 'slug': 'ishoej'}, 'cityName': 'Ishøj', 'daysOnMarket': {'realtors': []}, 'energyLabelImprovement': {'improvementCase': 'FALLBACK', 'sparEnergiLink': 'https://sparenergi.dk/forbruger/boligen/traenger-din-bolig-til-renovering?utm_source=Boligsiden&amp;utm_medium=Banner&amp;utm_campaign=6'}, 'houseNumber': 'H091', 'isPublic': False, 'municipality': {'churchTaxPercentage': 0.9, 'councilTaxPercentage': 25, 'districtPlanFrom': '2023-12-20', 'districtPlanPdfUrl': 'https://dokument.plandata.dk/20_11186426_1702987072764.pdf', 'landValueTaxLevelPerThousand': 25, 'masterPlanPdfUrl': 'https://dokument.plandata.dk/12_11195828_1702992436420.pdf', 'municipalityCode': 183, 'name': 'Ishøj', 'numberOfSchools': 7, 'population': 23225, 'slug': 'ishoej'}, 'province': {'name': 'Københavns omegn', 'provinceCode': 'DK012', 'regionCode': 1084, 'slug': 'koebenhavns-omegn'}, 'road': {'municipalityCode': 183, 'name': 'Ishøj Havn'}, 'roadName': 'Ishøj Havn', 'slug': 'ishoej-havn-h091-2635-ishoej-26758225-ad6c-4026-a5db-6b4f060b09e3', 'zip': {'name': 'Ishøj', 'slug': 'ishoej', 'zipCode': 2635}, 'zipCode': 2635}</td>\n",
       "      <td>villa</td>\n",
       "      <td>e9f4f0f3-10e4-4748-8c7d-acb4126df1e3</td>\n",
       "      <td>http://www.and-living.dk/redirect.php?mgl=2827&amp;sagsnr=ALD00285</td>\n",
       "      <td>{'lat': 55.60794, 'lon': 12.388657, 'type': 'EPSG4326'}</td>\n",
       "      <td>116</td>\n",
       "      <td>{'imageSources': [{'size': {'height': 80, 'width': 100}, 'url': 'https://images.boligsiden.dk/images/case/e9f4f0f3-10e4-4748-8c7d-acb4126df1e3/100x80/7923b7a2-91ac-487a-bddd-ef94ff0ed60e.webp'}, {'size': {'height': 118, 'width': 143}, 'url': 'https://images.boligsiden.dk/images/case/e9f4f0f3-10e4-4748-8c7d-acb4126df1e3/143x118/7923b7a2-91ac-487a-bddd-ef94ff0ed60e.webp'}, {'size': {'height': 200, 'width': 300}, 'url': 'https://images.boligsiden.dk/images/case/e9f4f0f3-10e4-4748-8c7d-acb4126df1e3/300x200/7923b7a2-91ac-487a-bddd-ef94ff0ed60e.webp'}, {'size': {'height': 400, 'width': 600}, 'url': 'https://images.boligsiden.dk/images/case/e9f4f0f3-10e4-4748-8c7d-acb4126df1e3/600x400/7923b7a2-91ac-487a-bddd-ef94ff0ed60e.webp'}, {'size': {'height': 600, 'width': 600}, 'url': 'https://images.boligsiden.dk/images/case/e9f4f0f3-10e4-4748-8c7d-acb4126df1e3/600x600/7923b7a2-91ac-487a-bddd-ef94ff0ed60e.webp'}, {'size': {'height': 960, 'width': 1440}, 'url': 'https://images.boligsiden.dk/images/case/e9f4f0f3-10e4-4748-8c7d-acb4126df1e3/1440x960/7923b7a2-91ac-487a-bddd-ef94ff0ed60e.webp'}]}</td>\n",
       "      <td>Vi slynger ikke om os med fraser, ligesom vi ikke misbruger ord som \"unik\" for at tale en bolig op. I dette tilfælde er der dog god grund til at grave dybt efter alle de mest flatterende superlativer, for det er i sandhed en enestående sommerresidens, der nu kan blive jeres. Vuggende i Køge Bugt er \"Casa Fluentis\" fortøjet. Husbåden er et unikum, der forener livet på vandet med den rene luksus, og her venter foruden muligheden for at udforske de danske farvande rene linjer, æstetik og kvalitet fra inderst til yderst.Det flydende sommerhus i stål er bygget på Hvidesande Skibsværft, og det kræver blot et duelighedsbevis for at manøvrere skibet rundt langs kysten. Mens styrmanden tager sin tørn ved roret, kan resten af besætningen med fordel indtage en plads på det store soldæk, som omfavner enhver trang til at læne sig tilbage og bare nyde tilværelsen og øjeblikket. Et niveau længere nede har I ydermere en overdækket terrasse. De indre rammer står knivskarpe med et moderne og lyst udtryk. Køkkenet er fra Uno form med fingertappede fronter og lyst træ, og i åben forbindelse har I det resterende opholdsrum, hvor den evigt foranderlige udsigt til omgivelserne naturligvis er i centrum. Fordelingsgangen leder til et nydeligt badeværelse med brus samt to værelser med god plads, masser af udsigt og skabsløsninger. Med en husbåd som denne ligger verden for jeres fødder, og livet på havet kalder på eventyr, opdagelse og nye steder. Når I ikke er på farten, men ligger fast forankret, er det især de naturskønne omgivelser, der gør indtryk. Blikket kan glide over bølgerne i Køge Bugt eller finde ro i det stille vand i Lille Vejlesø på den anden side, hvor Strandengene ved Hundige og De Glemte Kæmper bryder det blå tæppe. Længere inde på fastlandet finder I offentlig transport, indkøbsmuligheder, svømmehal og meget mere inden for en radius af tre kilometer, og turen til hovedstaden kan på en god dag sågar tilbagelægges på cykel med under 18 kilometer til Hovedbanegården.</td>\n",
       "      <td>LIVSSTIL &amp; LUKSUS</td>\n",
       "      <td>...</td>\n",
       "      <td>2036</td>\n",
       "      <td>18</td>\n",
       "      <td>{'includedInPrice': None}</td>\n",
       "      <td>2008</td>\n",
       "      <td>NaN</td>\n",
       "      <td>NaN</td>\n",
       "      <td>NaN</td>\n",
       "      <td>55.607940</td>\n",
       "      <td>12.388657</td>\n",
       "      <td>1.623796</td>\n",
       "    </tr>\n",
       "    <tr>\n",
       "      <th>16</th>\n",
       "      <td>{'self': {'href': '/cases/d40b5216-7f6a-4880-a2bd-166f1686b1db'}}</td>\n",
       "      <td>{'_links': {'self': {'href': '/addresses/c987e599-210d-41d3-8485-b74be7ad63dd'}}, 'addressID': 'c987e599-210d-41d3-8485-b74be7ad63dd', 'allowNewValuationInfo': True, 'city': {'name': 'København K', 'slug': 'koebenhavn-k'}, 'cityName': 'København K', 'coordinates': {'lat': 55.685863, 'lon': 12.608955, 'type': 'EPSG4326'}, 'daysOnMarket': {'realtors': []}, 'energyLabelImprovement': {'improvementCase': 'FALLBACK', 'sparEnergiLink': 'https://sparenergi.dk/forbruger/boligen/traenger-din-bolig-til-renovering?utm_source=Boligsiden&amp;utm_medium=Banner&amp;utm_campaign=6'}, 'entryAddressID': 'afc4f991-4c6f-49a3-9cc2-5e5a95509dda', 'gstkvhx': '01013998__17_______', 'houseNumber': '17', 'isPublic': True, 'livingArea': 175, 'municipality': {'churchTaxPercentage': 0.8, 'councilTaxPercentage': 23.7, 'districtPlanFrom': '2024-06-28', 'districtPlanPdfUrl': 'https://dokument.plandata.dk/20_11186212_1719470578287.pdf', 'landValueTaxLevelPerThousand': 34, 'masterPlanPdfUrl': 'https://dokument.plandata.dk/12_11267550_1717402838438.pdf', 'municipalityCode': 101, 'name': 'København', 'numberOfSchools': 127, 'population': 644431, 'slug': 'koebenhavn'}, 'propertyNumber': 42090, 'province': {'name': 'Byen København', 'provinceCode': 'DK011', 'regionCode': 1084, 'slug': 'byen-koebenhavn'}, 'registrations': [{'amount': 9000000, 'area': 175, 'date': '1997-06-02', 'municipalityCode': 101, 'propertyNumber': 42090, 'registrationID': '509311', 'type': 'normal'}], 'road': {'municipalityCode': 101, 'name': 'Krudtløbsvej', 'roadCode': 3998, 'roadID': '6fd55cd8-e567-473f-adb4-f04cbf62da4b', 'slug': 'krudtloebsvej'}, 'roadName': 'Krudtløbsvej', 'slug': 'krudtloebsvej-17-1439-koebenhavn-k-01013998__17_______', 'zip': {'group': 1000, 'name': 'København K', 'slug': 'koebenhavn-k', 'zipCode': 1439}, 'zipCode': 1439}</td>\n",
       "      <td>holiday house</td>\n",
       "      <td>d40b5216-7f6a-4880-a2bd-166f1686b1db</td>\n",
       "      <td>http://www.eltoftnielsen.dk/default.aspx?mgl=2429&amp;sagsnr=115018</td>\n",
       "      <td>{'lat': 55.685863, 'lon': 12.608955, 'type': 'EPSG4326'}</td>\n",
       "      <td>121</td>\n",
       "      <td>{'imageSources': [{'size': {'height': 80, 'width': 100}, 'url': 'https://images.boligsiden.dk/images/case/d40b5216-7f6a-4880-a2bd-166f1686b1db/100x80/9ee0e4dd-e7a2-4ed1-b6b8-8aaea09306fe.webp'}, {'size': {'height': 118, 'width': 143}, 'url': 'https://images.boligsiden.dk/images/case/d40b5216-7f6a-4880-a2bd-166f1686b1db/143x118/9ee0e4dd-e7a2-4ed1-b6b8-8aaea09306fe.webp'}, {'size': {'height': 200, 'width': 300}, 'url': 'https://images.boligsiden.dk/images/case/d40b5216-7f6a-4880-a2bd-166f1686b1db/300x200/9ee0e4dd-e7a2-4ed1-b6b8-8aaea09306fe.webp'}, {'size': {'height': 400, 'width': 600}, 'url': 'https://images.boligsiden.dk/images/case/d40b5216-7f6a-4880-a2bd-166f1686b1db/600x400/9ee0e4dd-e7a2-4ed1-b6b8-8aaea09306fe.webp'}, {'size': {'height': 600, 'width': 600}, 'url': 'https://images.boligsiden.dk/images/case/d40b5216-7f6a-4880-a2bd-166f1686b1db/600x600/9ee0e4dd-e7a2-4ed1-b6b8-8aaea09306fe.webp'}, {'size': {'height': 960, 'width': 1440}, 'url': 'https://images.boligsiden.dk/images/case/d40b5216-7f6a-4880-a2bd-166f1686b1db/1440x960/9ee0e4dd-e7a2-4ed1-b6b8-8aaea09306fe.webp'}]}</td>\n",
       "      <td>Husbåd til livsnydere og jeres børn Denne husbåd er beliggende på en af Københavns historiske bastioner på Holmen, lige dér hvor forsvaret for flere hundrede år siden besluttede, at Københavns skulle forsvares fra. Her kunne man se ud over havet og ind over byen, så fjender kunne holdes på afstand. Beliggenheden ved kajen af Krudtløbsvej er noget helt for sig selv. Hvis man kan lide København, vil man elske denne placering. Her kan se ind over byen fra en vinkel, som det er de færreste forundt at kende, og endnu færre at leve med til daglig. Mens I har vandet som nærmeste nabo sammen med knap 30 andre husbåde, kan I se ind over hovedstaden. Husbåden \" Stenbidderen\" Det er den erfarne husbådsbyggers helt egen bolig, der nu udbydes til salg. Han har stået for mange af husbådene i København og har boet her med sin familie, som han har kræset for med en lang række detaljer. Mon ikke det virker plausibelt, at der på denne 28 meter lange og 5 meter brede båd er skruet ekstra op for lækkerierne. I får walkin-closets i to af boligens tre værelser. Skabe, toiletdøre og andet er designet som en integreret del af væggene. Armaturerne i badeværelset ses sjældent smartere og smukkere. Det samme gælder de 120x60 cm store, italienske fliser, eller den ovale bruser, der er bygget ind i loftet og designet med et vandfald, der passer nøjagtigt til skulderbredden af en normalbygget mand. Installationer er lavet, så de kan tilsluttes IHC-anlæg og dermed styres fra en smarttelefon. Køkkenet er af fabrikatet Kvik og tilpasset til bådens former. I er velkomne om bord til at se resten af denne særlige båd og bolig. Husbåden består af et jern skrog. Alle døre og vinduer er i lærketræ og taget er af glasfiber.</td>\n",
       "      <td>Husbåd til livsnydere og jeres børn</td>\n",
       "      <td>...</td>\n",
       "      <td>3806</td>\n",
       "      <td>42</td>\n",
       "      <td>{'includedInPrice': None}</td>\n",
       "      <td>1945</td>\n",
       "      <td>200.0</td>\n",
       "      <td>NaN</td>\n",
       "      <td>NaN</td>\n",
       "      <td>55.685863</td>\n",
       "      <td>12.608955</td>\n",
       "      <td>1.555154</td>\n",
       "    </tr>\n",
       "    <tr>\n",
       "      <th>17</th>\n",
       "      <td>{'self': {'href': '/cases/78740d58-24f5-4384-afd7-1ac2be025ffd'}}</td>\n",
       "      <td>{'_links': {'self': {'href': '/addresses/206c9ff1-501f-4b6f-a498-92ba9f89ebaa'}}, 'addressID': '206c9ff1-501f-4b6f-a498-92ba9f89ebaa', 'allowNewValuationInfo': True, 'city': {'name': 'København K', 'slug': 'koebenhavn-k'}, 'cityName': 'København K', 'coordinates': {'lat': 55.685547, 'lon': 12.609108, 'type': 'EPSG4326'}, 'daysOnMarket': {'realtors': []}, 'energyLabelImprovement': {'improvementCase': 'FALLBACK', 'sparEnergiLink': 'https://sparenergi.dk/forbruger/boligen/traenger-din-bolig-til-renovering?utm_source=Boligsiden&amp;utm_medium=Banner&amp;utm_campaign=6'}, 'entryAddressID': 'bc38cfcd-a53a-406d-b01f-404388fff7c8', 'gstkvhx': '01013998__15_______', 'houseNumber': '15', 'isPublic': True, 'municipality': {'churchTaxPercentage': 0.8, 'councilTaxPercentage': 23.7, 'districtPlanFrom': '2024-06-28', 'districtPlanPdfUrl': 'https://dokument.plandata.dk/20_11186212_1719470578287.pdf', 'landValueTaxLevelPerThousand': 34, 'masterPlanPdfUrl': 'https://dokument.plandata.dk/12_11267550_1717402838438.pdf', 'municipalityCode': 101, 'name': 'København', 'numberOfSchools': 127, 'population': 644431, 'slug': 'koebenhavn'}, 'province': {'name': 'Byen København', 'provinceCode': 'DK011', 'regionCode': 1084, 'slug': 'byen-koebenhavn'}, 'road': {'municipalityCode': 101, 'name': 'Krudtløbsvej', 'roadCode': 3998, 'roadID': '6fd55cd8-e567-473f-adb4-f04cbf62da4b', 'slug': 'krudtloebsvej'}, 'roadName': 'Krudtløbsvej', 'slug': 'krudtloebsvej-15-1439-koebenhavn-k-01013998__15_______', 'zip': {'group': 1000, 'name': 'København K', 'slug': 'koebenhavn-k', 'zipCode': 1439}, 'zipCode': 1439}</td>\n",
       "      <td>villa</td>\n",
       "      <td>78740d58-24f5-4384-afd7-1ac2be025ffd</td>\n",
       "      <td>http://www.eltoftnielsen.dk/default.aspx?mgl=2429&amp;sagsnr=IEN12975</td>\n",
       "      <td>{'lat': 55.685547, 'lon': 12.609108, 'type': 'EPSG4326'}</td>\n",
       "      <td>143</td>\n",
       "      <td>{'imageSources': [{'size': {'height': 80, 'width': 100}, 'url': 'https://images.boligsiden.dk/images/case/78740d58-24f5-4384-afd7-1ac2be025ffd/100x80/5e86c9a6-d54f-4e3d-895d-806761dca1a3.webp'}, {'size': {'height': 118, 'width': 143}, 'url': 'https://images.boligsiden.dk/images/case/78740d58-24f5-4384-afd7-1ac2be025ffd/143x118/5e86c9a6-d54f-4e3d-895d-806761dca1a3.webp'}, {'size': {'height': 200, 'width': 300}, 'url': 'https://images.boligsiden.dk/images/case/78740d58-24f5-4384-afd7-1ac2be025ffd/300x200/5e86c9a6-d54f-4e3d-895d-806761dca1a3.webp'}, {'size': {'height': 400, 'width': 600}, 'url': 'https://images.boligsiden.dk/images/case/78740d58-24f5-4384-afd7-1ac2be025ffd/600x400/5e86c9a6-d54f-4e3d-895d-806761dca1a3.webp'}, {'size': {'height': 600, 'width': 600}, 'url': 'https://images.boligsiden.dk/images/case/78740d58-24f5-4384-afd7-1ac2be025ffd/600x600/5e86c9a6-d54f-4e3d-895d-806761dca1a3.webp'}, {'size': {'height': 960, 'width': 1440}, 'url': 'https://images.boligsiden.dk/images/case/78740d58-24f5-4384-afd7-1ac2be025ffd/1440x960/5e86c9a6-d54f-4e3d-895d-806761dca1a3.webp'}]}</td>\n",
       "      <td>I den græske mytologi blev titaneren Atlas dømt til at bære himlen på sine skuldre til evig tid, fordi han tog den dumme beslutning at kæmpe i krigen mod Zeus, kongen over alle guder og gud over himmel og torden. Pyha, sikken titel, et imponerende visitkort. Men Atlas er også en husbåd med den livløse adresse Søminegraven med Quintus Bastionen på den ene side og flådestation Nyholms fredede bindingsværksbygninger på den anden. Når vi nu er i mytologiernes verden, så lad os da bare skabe en ny mytologi, en dansk mytologi: Husbåden Atlas er kongen over alle husbåde og gud over himmel og torden på Refshaleøen, som bekendt også lægger adresse til restauranterne NOMA og Alchemist. Som tidligere slæbebåd er Atlas i dag bygget om til en uforskammet anderledes Gud og bolig i 2 etager, på ca. 145 m2. En duplex vil landkrabberne kalde den på land. Atlas er tiptopisoleret med gulvvarme og et spritnyt luft-til-vand-varmepumpeanlæg. Nemlig, ingen kuldebroer, ingen vil ingensinde fryse her. Eneste bro er gangbroen fra kajen til dækket, som stort set fylder lige så meget som boligen under dæk. Den maritime stemning, ja, den er her med fortøjningspullerter, runde koøjer, skorsten, morselampe og teak-skylightet på agterdækket. Under dæk er der højt til loftet og de samme lækkerier som i en moderne bolig. Kompromisløst gennemført. Uden bopælspligt, bolig, erhverv, eller bolig og erhverv. Mulighed for privat parkering over for landgangen på den private og lukkede Krudtløbsvej.Alt i København er tæt på, især Christianshavn. Her er hyggelige caféer, gode restauranter, lækre butikker og en fantastisk opera. Vandet er så rent i kanalerne, at mange begynder dagen med en dukkert. Øen er anlagt som befæstningsø af Christian den 4. i begyndelsen af 1600-tallet og fik så stærk en kultur, at den i slutningen af 1630erne blev en selvstændig købstad med privilegier, byvåben og segl. Christianshavnernes markante tilhørsforhold til den lille ø lever i bedste velgående.</td>\n",
       "      <td>Atlas, en uforskammet anderledes Gud i kanalen...</td>\n",
       "      <td>...</td>\n",
       "      <td>5289</td>\n",
       "      <td>65</td>\n",
       "      <td>{'includedInPrice': None}</td>\n",
       "      <td>1958</td>\n",
       "      <td>30671.0</td>\n",
       "      <td>NaN</td>\n",
       "      <td>17.0</td>\n",
       "      <td>55.685547</td>\n",
       "      <td>12.609108</td>\n",
       "      <td>1.580589</td>\n",
       "    </tr>\n",
       "    <tr>\n",
       "      <th>18</th>\n",
       "      <td>{'self': {'href': '/cases/9c98521c-4a84-4805-b9e2-550add8659ab'}}</td>\n",
       "      <td>{'_links': {'self': {'href': '/addresses/e877db74-59c9-4b5f-ad30-40dd12749f96'}}, 'addressID': 'e877db74-59c9-4b5f-ad30-40dd12749f96', 'addressType': 'villa', 'allowNewValuationInfo': True, 'bfeNumbers': [700881], 'buildings': [{'bathroomCondition': 'Badeværelse i enheden', 'buildingName': 'Fritliggende enfamilieshus (parcelhus)', 'buildingNumber': '18', 'externalWallMaterial': 'Træ', 'heatingInstallation': 'Centralvarme med én fyringsenhed', 'housingArea': 80, 'kitchenCondition': 'Eget køkken med afløb', 'numberOfBathrooms': 1, 'numberOfFloors': 1, 'numberOfKitchens': 1, 'numberOfRooms': 4, 'numberOfToilets': 2, 'roofingMaterial': 'Andet materiale', 'toiletCondition': 'Vandskyllende toilet i enheden', 'totalArea': 80, 'yearBuilt': 2014}], 'city': {'name': 'København SV', 'slug': 'koebenhavn-sv'}, 'cityName': 'København SV', 'coordinates': {'lat': 55.659576, 'lon': 12.559762, 'type': 'EPSG4326'}, 'daysOnMarket': {'realtors': []}, 'energyLabelImprovement': {'improvementCase': 'FALLBACK', 'sparEnergiLink': 'https://sparenergi.dk/forbruger/boligen/traenger-din-bolig-til-renovering?utm_source=Boligsiden&amp;utm_medium=Banner&amp;utm_campaign=6'}, 'entryAddressID': '75ade738-275f-4300-9971-96985b9c30c6', 'gstkvhx': '01016448__22_______', 'houseNumber': '22', 'isPublic': True, 'latestValuation': 1250000, 'livingArea': 80, 'municipality': {'churchTaxPercentage': 0.8, 'councilTaxPercentage': 23.7, 'districtPlanFrom': '2024-06-28', 'districtPlanPdfUrl': 'https://dokument.plandata.dk/20_11186212_1719470578287.pdf', 'landValueTaxLevelPerThousand': 34, 'masterPlanPdfUrl': 'https://dokument.plandata.dk/12_11267550_1717402838438.pdf', 'municipalityCode': 101, 'name': 'København', 'numberOfSchools': 127, 'population': 644431, 'slug': 'koebenhavn'}, 'propertyNumber': 9347, 'province': {'name': 'Byen København', 'provinceCode': 'DK011', 'regionCode': 1084, 'slug': 'byen-koebenhavn'}, 'road': {'municipalityCode': 101, 'name': 'Skibbroen', 'roadCode': 6448, 'roadID': '6735f803-89ba-4e5e-8390-66d84b8e880a', 'slug': 'skibbroen'}, 'roadName': 'Skibbroen', 'slug': 'skibbroen-22-2450-koebenhavn-sv-01016448__22_______', 'weightedArea': 80, 'zip': {'name': 'København SV', 'slug': 'koebenhavn-sv', 'zipCode': 2450}, 'zipCode': 2450}</td>\n",
       "      <td>condo</td>\n",
       "      <td>9c98521c-4a84-4805-b9e2-550add8659ab</td>\n",
       "      <td>https://home.dk/sag/1340001449</td>\n",
       "      <td>{'lat': 55.659637, 'lon': 12.55983, 'type': 'EPSG4326'}</td>\n",
       "      <td>165</td>\n",
       "      <td>{'imageSources': [{'size': {'height': 80, 'width': 100}, 'url': 'https://images.boligsiden.dk/images/case/9c98521c-4a84-4805-b9e2-550add8659ab/100x80/58fc2232-5a26-4826-8a19-6907bae733b7.webp'}, {'size': {'height': 118, 'width': 143}, 'url': 'https://images.boligsiden.dk/images/case/9c98521c-4a84-4805-b9e2-550add8659ab/143x118/58fc2232-5a26-4826-8a19-6907bae733b7.webp'}, {'size': {'height': 200, 'width': 300}, 'url': 'https://images.boligsiden.dk/images/case/9c98521c-4a84-4805-b9e2-550add8659ab/300x200/58fc2232-5a26-4826-8a19-6907bae733b7.webp'}, {'size': {'height': 400, 'width': 600}, 'url': 'https://images.boligsiden.dk/images/case/9c98521c-4a84-4805-b9e2-550add8659ab/600x400/58fc2232-5a26-4826-8a19-6907bae733b7.webp'}, {'size': {'height': 600, 'width': 600}, 'url': 'https://images.boligsiden.dk/images/case/9c98521c-4a84-4805-b9e2-550add8659ab/600x600/58fc2232-5a26-4826-8a19-6907bae733b7.webp'}, {'size': {'height': 960, 'width': 1440}, 'url': 'https://images.boligsiden.dk/images/case/9c98521c-4a84-4805-b9e2-550add8659ab/1440x960/58fc2232-5a26-4826-8a19-6907bae733b7.webp'}]}</td>\n",
       "      <td>Husbåd. Velkommen til Skibbroen! Et område i København, der emmer af autenticitet og lokal stemning, men som også har nydt godt af en opblomstring, hvor moderne byggerier og praktiske hverdagsfaciliteter har fundet sin plads i det charmerende havnebillede. Her er indkøb, dagtilbud og skole alt sammen tæt på, hvortil havnebade ligger klar med masser af udendørsaktiviteter, mens Kødbyens mange restauranter er blot en kilometer fra adressen, og resten af byen nemt kan nås enten på cykel, med bus el</td>\n",
       "      <td>Fantastisk husbåd - 20 års opsigelse - masser af fællesskab</td>\n",
       "      <td>...</td>\n",
       "      <td>3528</td>\n",
       "      <td>57</td>\n",
       "      <td>{'includedInPrice': None}</td>\n",
       "      <td>1963</td>\n",
       "      <td>NaN</td>\n",
       "      <td>80.0</td>\n",
       "      <td>NaN</td>\n",
       "      <td>55.659637</td>\n",
       "      <td>12.559830</td>\n",
       "      <td>0.702713</td>\n",
       "    </tr>\n",
       "    <tr>\n",
       "      <th>19</th>\n",
       "      <td>{'self': {'href': '/cases/c5eef315-f2fe-43e3-aeca-e48da55ebc70'}}</td>\n",
       "      <td>{'_links': {'self': {'href': '/addresses/3dbbbfcf-5fff-4697-8f2c-f0be121ededa'}}, 'addressID': '3dbbbfcf-5fff-4697-8f2c-f0be121ededa', 'allowNewValuationInfo': True, 'bfeNumbers': [700876], 'boligsidenInfo': {'latestSoldArea': 70}, 'city': {'name': 'København SV', 'slug': 'koebenhavn-sv'}, 'cityName': 'København SV', 'coordinates': {'lat': 55.65944, 'lon': 12.559025, 'type': 'EPSG4326'}, 'daysOnMarket': {'realtors': []}, 'energyLabelImprovement': {'improvementCase': 'FALLBACK', 'sparEnergiLink': 'https://sparenergi.dk/forbruger/boligen/traenger-din-bolig-til-renovering?utm_source=Boligsiden&amp;utm_medium=Banner&amp;utm_campaign=6'}, 'entryAddressID': 'd90592e8-121a-4c20-91b6-72cad26ffd35', 'gstkvhx': '01016448__12_______', 'houseNumber': '12', 'isPublic': True, 'municipality': {'churchTaxPercentage': 0.8, 'councilTaxPercentage': 23.7, 'districtPlanFrom': '2024-06-28', 'districtPlanPdfUrl': 'https://dokument.plandata.dk/20_11186212_1719470578287.pdf', 'landValueTaxLevelPerThousand': 34, 'masterPlanPdfUrl': 'https://dokument.plandata.dk/12_11267550_1717402838438.pdf', 'municipalityCode': 101, 'name': 'København', 'numberOfSchools': 127, 'population': 644431, 'slug': 'koebenhavn'}, 'propertyNumber': 9341, 'province': {'name': 'Byen København', 'provinceCode': 'DK011', 'regionCode': 1084, 'slug': 'byen-koebenhavn'}, 'road': {'municipalityCode': 101, 'name': 'Skibbroen', 'roadCode': 6448, 'roadID': '6735f803-89ba-4e5e-8390-66d84b8e880a', 'slug': 'skibbroen'}, 'roadName': 'Skibbroen', 'slug': 'skibbroen-12-2450-koebenhavn-sv-01016448__12_______', 'zip': {'name': 'København SV', 'slug': 'koebenhavn-sv', 'zipCode': 2450}, 'zipCode': 2450}</td>\n",
       "      <td>condo</td>\n",
       "      <td>c5eef315-f2fe-43e3-aeca-e48da55ebc70</td>\n",
       "      <td>https://www.edc.dk/sag/?sagsnr=21606782</td>\n",
       "      <td>{'lat': 55.65944, 'lon': 12.559025, 'type': 'EPSG4326'}</td>\n",
       "      <td>169</td>\n",
       "      <td>{'imageSources': [{'size': {'height': 80, 'width': 100}, 'url': 'https://images.boligsiden.dk/images/case/c5eef315-f2fe-43e3-aeca-e48da55ebc70/100x80/7f7f6239-3feb-465e-a0e2-9034b11ac0af.webp'}, {'size': {'height': 118, 'width': 143}, 'url': 'https://images.boligsiden.dk/images/case/c5eef315-f2fe-43e3-aeca-e48da55ebc70/143x118/7f7f6239-3feb-465e-a0e2-9034b11ac0af.webp'}, {'size': {'height': 200, 'width': 300}, 'url': 'https://images.boligsiden.dk/images/case/c5eef315-f2fe-43e3-aeca-e48da55ebc70/300x200/7f7f6239-3feb-465e-a0e2-9034b11ac0af.webp'}, {'size': {'height': 400, 'width': 600}, 'url': 'https://images.boligsiden.dk/images/case/c5eef315-f2fe-43e3-aeca-e48da55ebc70/600x400/7f7f6239-3feb-465e-a0e2-9034b11ac0af.webp'}, {'size': {'height': 600, 'width': 600}, 'url': 'https://images.boligsiden.dk/images/case/c5eef315-f2fe-43e3-aeca-e48da55ebc70/600x600/7f7f6239-3feb-465e-a0e2-9034b11ac0af.webp'}, {'size': {'height': 960, 'width': 1440}, 'url': 'https://images.boligsiden.dk/images/case/c5eef315-f2fe-43e3-aeca-e48da55ebc70/1440x960/7f7f6239-3feb-465e-a0e2-9034b11ac0af.webp'}]}</td>\n",
       "      <td>Denne charmerende husbåd med tidligere anvendelse som kanalrundfart i Holland er beliggende i den hyggelige forening Skibbroen som blev stiftet i 1986 og altid har haft plads i det godt gemte havnebassin, Tømmergraven, i Københavns Sydhavn.Foreningens formål har fra starten været at restaurere og vedligeholde gamle skibe – og helst også få dem ud at sejle. Men efterhånden har foreningen fået et mere husbådsagtigt præg, så vi i dag består af 20 meget forskellige husbåde som ligger fast fortøjet og udelukkende fungerer som bolig.Ud over de 20 skibe, som er privat-ejede, råder foreningens medlemmer over en betonpram med fælles faciliteter som et stort værksted, vaskeri, toilet og bad, fællesrum med køkken samt gæsteværelse. Og så ligger havnens hyggeligste cafébåd i bunden af havnebassinet.Husbåden er indeholdende: God for-entre med mulighed for at indrette en spisestue samt nedgang til nedre dæk og et fantastisk værelse med ovenlysvindue og koøjer. Huset hjerte er klart det utrolige charmerende køkken og stue hvor idyllen fører an, her er brændeovn, dejlige store vinduespartier og bevarelse af mange fine originale detaljer. Badeværelse med brus og toilet. Fra stuen har du udgang til en hyggelig sydvendt terrasse og fra køkkenet nedgang til et dejligt stort soveværelse og stort depot/teknikrum med toilet. Foreningen Skibbroen har en lejekontrakt med Københavns Havn, i dag By og Havn, som er med hele 20 års uopsigelighed.Du er beliggende 350 meter fra Fisketorvet hvor der er biograf, indkøb, restauranter og hvad hjertet ellers begærer. Få hundrede meter fra bus og ca. 800 meter til Dybbølsbro st, og til sommer åbner Havneholmen Metro ved Fisketorvet.Når du køber en bolig gennem EDC, har du mulighed for at få en gratis flytteforsikring. Ønsker du denne, skal du sende en mail med \"Ja tak\" til flytteforsikring@gjensidige.dk</td>\n",
       "      <td>Chamerene husbåd i hyggelige omgivelser</td>\n",
       "      <td>...</td>\n",
       "      <td>3482</td>\n",
       "      <td>32</td>\n",
       "      <td>{'includedInPrice': None}</td>\n",
       "      <td>1915</td>\n",
       "      <td>NaN</td>\n",
       "      <td>NaN</td>\n",
       "      <td>NaN</td>\n",
       "      <td>55.659440</td>\n",
       "      <td>12.559025</td>\n",
       "      <td>0.690723</td>\n",
       "    </tr>\n",
       "    <tr>\n",
       "      <th>20</th>\n",
       "      <td>{'self': {'href': '/cases/901ca1a9-d961-4b53-8fb3-9b203e511281'}}</td>\n",
       "      <td>{'_links': {'self': {'href': '/addresses/670cbb31-6a79-4989-9cfd-7ccc64f064a6'}}, 'addressID': '670cbb31-6a79-4989-9cfd-7ccc64f064a6', 'allowNewValuationInfo': True, 'boligsidenInfo': {'latestSoldArea': 50}, 'city': {'name': 'København S', 'slug': 'koebenhavn-s'}, 'cityName': 'København S', 'coordinates': {'lat': 55.64196, 'lon': 12.553308, 'type': 'EPSG4326'}, 'daysOnMarket': {'realtors': []}, 'energyLabelImprovement': {'improvementCase': 'FALLBACK', 'sparEnergiLink': 'https://sparenergi.dk/forbruger/boligen/traenger-din-bolig-til-renovering?utm_source=Boligsiden&amp;utm_medium=Banner&amp;utm_campaign=6'}, 'entryAddressID': '75df73f2-f339-4043-b945-4acf7c0e58c0', 'gstkvhx': '01018090_32Z_______', 'houseNumber': '32Z', 'isPublic': True, 'municipality': {'churchTaxPercentage': 0.8, 'councilTaxPercentage': 23.7, 'districtPlanFrom': '2024-06-28', 'districtPlanPdfUrl': 'https://dokument.plandata.dk/20_11186212_1719470578287.pdf', 'landValueTaxLevelPerThousand': 34, 'masterPlanPdfUrl': 'https://dokument.plandata.dk/12_11267550_1717402838438.pdf', 'municipalityCode': 101, 'name': 'København', 'numberOfSchools': 127, 'population': 644431, 'slug': 'koebenhavn'}, 'province': {'name': 'Byen København', 'provinceCode': 'DK011', 'regionCode': 1084, 'slug': 'byen-koebenhavn'}, 'road': {'municipalityCode': 101, 'name': 'Ved Slusen', 'roadCode': 8090, 'roadID': '6dbadaf4-be9e-4598-86a0-4901a6eb8ea7', 'slug': 'ved-slusen'}, 'roadName': 'Ved Slusen', 'slug': 'ved-slusen-32z-2300-koebenhavn-s-01018090_32z_______', 'zip': {'name': 'København S', 'slug': 'koebenhavn-s', 'zipCode': 2300}, 'zipCode': 2300}</td>\n",
       "      <td>condo</td>\n",
       "      <td>901ca1a9-d961-4b53-8fb3-9b203e511281</td>\n",
       "      <td>https://home.dk/sag/1340001453</td>\n",
       "      <td>{'lat': 55.641235, 'lon': 12.553489, 'type': 'EPSG4326'}</td>\n",
       "      <td>175</td>\n",
       "      <td>{'imageSources': [{'size': {'height': 80, 'width': 100}, 'url': 'https://images.boligsiden.dk/images/case/901ca1a9-d961-4b53-8fb3-9b203e511281/100x80/83f91f20-547e-48d2-8931-e60cec637465.webp'}, {'size': {'height': 118, 'width': 143}, 'url': 'https://images.boligsiden.dk/images/case/901ca1a9-d961-4b53-8fb3-9b203e511281/143x118/83f91f20-547e-48d2-8931-e60cec637465.webp'}, {'size': {'height': 200, 'width': 300}, 'url': 'https://images.boligsiden.dk/images/case/901ca1a9-d961-4b53-8fb3-9b203e511281/300x200/83f91f20-547e-48d2-8931-e60cec637465.webp'}, {'size': {'height': 400, 'width': 600}, 'url': 'https://images.boligsiden.dk/images/case/901ca1a9-d961-4b53-8fb3-9b203e511281/600x400/83f91f20-547e-48d2-8931-e60cec637465.webp'}, {'size': {'height': 600, 'width': 600}, 'url': 'https://images.boligsiden.dk/images/case/901ca1a9-d961-4b53-8fb3-9b203e511281/600x600/83f91f20-547e-48d2-8931-e60cec637465.webp'}, {'size': {'height': 960, 'width': 1440}, 'url': 'https://images.boligsiden.dk/images/case/901ca1a9-d961-4b53-8fb3-9b203e511281/1440x960/83f91f20-547e-48d2-8931-e60cec637465.webp'}]}</td>\n",
       "      <td>Når du køber husbåd er selve pladsen mindst lige så vigtig som båden. At der er en lang opsigelse, en fast kontrakt med en klar beskrivelse af eventuelle lejestigninger og ikke mindst en troværdig udlejer. Så start med at fokuser på det når du drømmer om husbåd. Denne husbåd har en kontrakt med 20 års opsigelse, det fremgår af lokalplanen at der skal være husbåde i området, lejen er beskrevet meget præcist og endelig er det By &amp; Havn der er udlejer.Tag med til et smukt hjørne af storbyøen Amager</td>\n",
       "      <td>Skøn husbåd - 20 års kontrakt i denne havn</td>\n",
       "      <td>...</td>\n",
       "      <td>7142</td>\n",
       "      <td>137</td>\n",
       "      <td>{'includedInPrice': None}</td>\n",
       "      <td>1917</td>\n",
       "      <td>NaN</td>\n",
       "      <td>NaN</td>\n",
       "      <td>NaN</td>\n",
       "      <td>55.641235</td>\n",
       "      <td>12.553489</td>\n",
       "      <td>1.823760</td>\n",
       "    </tr>\n",
       "    <tr>\n",
       "      <th>21</th>\n",
       "      <td>{'self': {'href': '/cases/11d880e3-84dc-488a-a21b-c05848befef3'}}</td>\n",
       "      <td>{'_links': {'self': {'href': '/addresses/3d5046c5-3e4d-428a-9202-0931538bb6aa'}}, 'addressID': '3d5046c5-3e4d-428a-9202-0931538bb6aa', 'allowNewValuationInfo': True, 'bfeNumbers': [700828], 'city': {'name': 'København SV', 'slug': 'koebenhavn-sv'}, 'cityName': 'København SV', 'coordinates': {'lat': 55.647205, 'lon': 12.550493, 'type': 'EPSG4326'}, 'daysOnMarket': {'realtors': []}, 'energyLabelImprovement': {'improvementCase': 'FALLBACK', 'sparEnergiLink': 'https://sparenergi.dk/forbruger/boligen/traenger-din-bolig-til-renovering?utm_source=Boligsiden&amp;utm_medium=Banner&amp;utm_campaign=6'}, 'entryAddressID': '96bd0a76-8379-4d3f-af4a-1cf633645a72', 'gstkvhx': '01018823___3_______', 'houseNumber': '3', 'isPublic': True, 'municipality': {'churchTaxPercentage': 0.8, 'councilTaxPercentage': 23.7, 'districtPlanFrom': '2024-06-28', 'districtPlanPdfUrl': 'https://dokument.plandata.dk/20_11186212_1719470578287.pdf', 'landValueTaxLevelPerThousand': 34, 'masterPlanPdfUrl': 'https://dokument.plandata.dk/12_11267550_1717402838438.pdf', 'municipalityCode': 101, 'name': 'København', 'numberOfSchools': 127, 'population': 644431, 'slug': 'koebenhavn'}, 'propertyNumber': 24189, 'province': {'name': 'Byen København', 'provinceCode': 'DK011', 'regionCode': 1084, 'slug': 'byen-koebenhavn'}, 'road': {'municipalityCode': 101, 'name': 'Ben Websters Vej', 'roadCode': 8823, 'roadID': 'f6f8c792-01c8-4400-8a18-b8f6f52d0b59', 'slug': 'ben-websters-vej'}, 'roadName': 'Ben Websters Vej', 'slug': 'ben-websters-vej-3-2450-koebenhavn-sv-01018823___3_______', 'zip': {'name': 'København SV', 'slug': 'koebenhavn-sv', 'zipCode': 2450}, 'zipCode': 2450}</td>\n",
       "      <td>condo</td>\n",
       "      <td>11d880e3-84dc-488a-a21b-c05848befef3</td>\n",
       "      <td>https://home.dk/sag/1340001440</td>\n",
       "      <td>{'lat': 55.647243, 'lon': 12.550408, 'type': 'EPSG4326'}</td>\n",
       "      <td>182</td>\n",
       "      <td>{'imageSources': [{'size': {'height': 80, 'width': 100}, 'url': 'https://images.boligsiden.dk/images/case/11d880e3-84dc-488a-a21b-c05848befef3/100x80/6f35c4d7-7151-4b70-92aa-302cdcf579fd.webp'}, {'size': {'height': 118, 'width': 143}, 'url': 'https://images.boligsiden.dk/images/case/11d880e3-84dc-488a-a21b-c05848befef3/143x118/6f35c4d7-7151-4b70-92aa-302cdcf579fd.webp'}, {'size': {'height': 200, 'width': 300}, 'url': 'https://images.boligsiden.dk/images/case/11d880e3-84dc-488a-a21b-c05848befef3/300x200/6f35c4d7-7151-4b70-92aa-302cdcf579fd.webp'}, {'size': {'height': 400, 'width': 600}, 'url': 'https://images.boligsiden.dk/images/case/11d880e3-84dc-488a-a21b-c05848befef3/600x400/6f35c4d7-7151-4b70-92aa-302cdcf579fd.webp'}, {'size': {'height': 600, 'width': 600}, 'url': 'https://images.boligsiden.dk/images/case/11d880e3-84dc-488a-a21b-c05848befef3/600x600/6f35c4d7-7151-4b70-92aa-302cdcf579fd.webp'}, {'size': {'height': 960, 'width': 1440}, 'url': 'https://images.boligsiden.dk/images/case/11d880e3-84dc-488a-a21b-c05848befef3/1440x960/6f35c4d7-7151-4b70-92aa-302cdcf579fd.webp'}]}</td>\n",
       "      <td>På Ben Websters Vej lige ved Teglværksløbet finder man denne fantastiske, men noget utraditionelle bolig, en ekstravagant husbåd med et interiør, der emmer af kvalitetsbevidsthed og livsnydelse. \\nHer kan du indfri drømmen om at bo på vandet midt i byen, tilmed med masser af plads.\\n190 m2 bolig/erhverv kun 20 min. fra Rådhuspladsen og med fri udsigt til vand og himmel på alle sider...\\nLige nu har vi over dæk ét stort rum med maksimalt lysindfald, der er alle installationer til et køkken i den ene</td>\n",
       "      <td>Unik husbåd - skab din egen bolig på vand</td>\n",
       "      <td>...</td>\n",
       "      <td>4057</td>\n",
       "      <td>44</td>\n",
       "      <td>{'includedInPrice': None}</td>\n",
       "      <td>2000</td>\n",
       "      <td>NaN</td>\n",
       "      <td>NaN</td>\n",
       "      <td>NaN</td>\n",
       "      <td>55.647243</td>\n",
       "      <td>12.550408</td>\n",
       "      <td>1.181008</td>\n",
       "    </tr>\n",
       "    <tr>\n",
       "      <th>22</th>\n",
       "      <td>{'self': {'href': '/cases/0eb6cb66-fa06-429a-a759-da8e05eabf40'}}</td>\n",
       "      <td>{'_links': {'self': {'href': '/addresses/6df03516-3a65-433b-8eee-1862282bb184'}}, 'addressID': '6df03516-3a65-433b-8eee-1862282bb184', 'allowNewValuationInfo': True, 'bfeNumbers': [100302630], 'buildings': [{'bathroomCondition': 'Badeværelse i enheden', 'buildingName': 'Sommerhus', 'buildingNumber': '4', 'externalWallMaterial': 'Andet materiale', 'heatingInstallation': 'Varmepumpe', 'housingArea': 61, 'kitchenCondition': 'Eget køkken med afløb', 'numberOfBathrooms': 1, 'numberOfFloors': 1, 'numberOfRooms': 3, 'numberOfToilets': 1, 'roofingMaterial': 'Tagpap med lille hældning', 'toiletCondition': 'Vandskyllende toilet i enheden', 'totalArea': 61, 'yearBuilt': 2021}], 'city': {'name': 'Grenaa', 'slug': 'grenaa'}, 'cityName': 'Grenaa', 'coordinates': {'lat': 56.404488, 'lon': 10.923306, 'type': 'EPSG4326'}, 'daysOnMarket': {'realtors': []}, 'energyLabelImprovement': {'improvementCase': 'FALLBACK', 'sparEnergiLink': 'https://sparenergi.dk/forbruger/boligen/traenger-din-bolig-til-renovering?utm_source=Boligsiden&amp;utm_medium=Banner&amp;utm_campaign=6'}, 'entryAddressID': 'e3934c62-7235-4da8-a4fd-7a8adc4a1a48', 'gstkvhx': '07077040_50H_______', 'houseNumber': '50H', 'isPublic': True, 'livingArea': 61, 'municipality': {'churchTaxPercentage': 1, 'councilTaxPercentage': 26, 'districtPlanFrom': '2024-06-04', 'districtPlanPdfUrl': 'https://dokument.plandata.dk/20_11300166_1717485065762.pdf', 'landValueTaxLevelPerThousand': 34, 'masterPlanPdfUrl': 'https://dokument.plandata.dk/12_11249369_1715668972986.pdf', 'municipalityCode': 707, 'name': 'Norddjurs', 'numberOfSchools': 10, 'population': 36921, 'slug': 'norddjurs'}, 'propertyNumber': 0, 'province': {'name': 'Østjylland', 'provinceCode': 'DK042', 'regionCode': 1082, 'slug': 'oestjylland'}, 'road': {'municipalityCode': 707, 'name': 'Skakkes Holm', 'roadCode': 7040, 'roadID': 'e2327680-f292-494e-816f-968e005521e7', 'slug': 'skakkes-holm'}, 'roadName': 'Skakkes Holm', 'slug': 'skakkes-holm-50h-8500-grenaa-07077040_50h_______', 'weightedArea': 61, 'zip': {'name': 'Grenaa', 'slug': 'grenaa', 'zipCode': 8500}, 'zipCode': 8500}</td>\n",
       "      <td>holiday house</td>\n",
       "      <td>0eb6cb66-fa06-429a-a759-da8e05eabf40</td>\n",
       "      <td>https://home.dk/sag/6120000498</td>\n",
       "      <td>{'lat': 56.404488, 'lon': 10.923306, 'type': 'EPSG4326'}</td>\n",
       "      <td>186</td>\n",
       "      <td>{'imageSources': [{'size': {'height': 80, 'width': 100}, 'url': 'https://images.boligsiden.dk/images/case/0eb6cb66-fa06-429a-a759-da8e05eabf40/100x80/7458317f-5c37-4c2a-82cc-9fc6736a51c7.webp'}, {'size': {'height': 118, 'width': 143}, 'url': 'https://images.boligsiden.dk/images/case/0eb6cb66-fa06-429a-a759-da8e05eabf40/143x118/7458317f-5c37-4c2a-82cc-9fc6736a51c7.webp'}, {'size': {'height': 200, 'width': 300}, 'url': 'https://images.boligsiden.dk/images/case/0eb6cb66-fa06-429a-a759-da8e05eabf40/300x200/7458317f-5c37-4c2a-82cc-9fc6736a51c7.webp'}, {'size': {'height': 400, 'width': 600}, 'url': 'https://images.boligsiden.dk/images/case/0eb6cb66-fa06-429a-a759-da8e05eabf40/600x400/7458317f-5c37-4c2a-82cc-9fc6736a51c7.webp'}, {'size': {'height': 600, 'width': 600}, 'url': 'https://images.boligsiden.dk/images/case/0eb6cb66-fa06-429a-a759-da8e05eabf40/600x600/7458317f-5c37-4c2a-82cc-9fc6736a51c7.webp'}, {'size': {'height': 960, 'width': 1440}, 'url': 'https://images.boligsiden.dk/images/case/0eb6cb66-fa06-429a-a759-da8e05eabf40/1440x960/7458317f-5c37-4c2a-82cc-9fc6736a51c7.webp'}]}</td>\n",
       "      <td>Tag med til en skøn perle af en lystbådehavn - nemlig ved Grenaa Strand. Her er direkte udsyn til Kattegat hvor man ligeledes kan udfolde sig naturskønt i baghaven hvor Grenaa Plantage er beliggende, og hvor vandkanten ligger åben for jeres fødder. I disse fantastiske omgivelser kan I blive de heldige ejere af en virkelig lækker og rummelig husbåd ved navn Elin. Det er den helt perfekte husbåd for dig, der måske ikke har beskæftiget dig med husbåde før, for her køber du dig ind i en fantastisk o</td>\n",
       "      <td>Grenaa</td>\n",
       "      <td>...</td>\n",
       "      <td>3430</td>\n",
       "      <td>40</td>\n",
       "      <td>{'includedInPrice': None}</td>\n",
       "      <td>2021</td>\n",
       "      <td>NaN</td>\n",
       "      <td>61.0</td>\n",
       "      <td>NaN</td>\n",
       "      <td>56.404488</td>\n",
       "      <td>10.923306</td>\n",
       "      <td>81.574549</td>\n",
       "    </tr>\n",
       "    <tr>\n",
       "      <th>23</th>\n",
       "      <td>{'self': {'href': '/cases/cc1c250e-7a68-4ba1-b20f-0f4932e36a0e'}}</td>\n",
       "      <td>{'_links': {'self': {'href': '/addresses/32963604-bba6-4500-b716-19d6dc59ba67'}}, 'addressID': '32963604-bba6-4500-b716-19d6dc59ba67', 'allowNewValuationInfo': True, 'bfeNumbers': [100059905], 'city': {'name': 'København S', 'slug': 'koebenhavn-s'}, 'cityName': 'København S', 'coordinates': {'lat': 55.641228, 'lon': 12.553767, 'type': 'EPSG4326'}, 'daysOnMarket': {'realtors': []}, 'energyLabelImprovement': {'improvementCase': 'FALLBACK', 'sparEnergiLink': 'https://sparenergi.dk/forbruger/boligen/traenger-din-bolig-til-renovering?utm_source=Boligsiden&amp;utm_medium=Banner&amp;utm_campaign=6'}, 'entryAddressID': '9f44b91e-8a7b-4b0b-b4f3-d4c36196cae1', 'gstkvhx': '01018090__45_______', 'houseNumber': '45', 'isPublic': True, 'municipality': {'churchTaxPercentage': 0.8, 'councilTaxPercentage': 23.7, 'districtPlanFrom': '2024-06-28', 'districtPlanPdfUrl': 'https://dokument.plandata.dk/20_11186212_1719470578287.pdf', 'landValueTaxLevelPerThousand': 34, 'masterPlanPdfUrl': 'https://dokument.plandata.dk/12_11267550_1717402838438.pdf', 'municipalityCode': 101, 'name': 'København', 'numberOfSchools': 127, 'population': 644431, 'slug': 'koebenhavn'}, 'province': {'name': 'Byen København', 'provinceCode': 'DK011', 'regionCode': 1084, 'slug': 'byen-koebenhavn'}, 'road': {'municipalityCode': 101, 'name': 'Ved Slusen', 'roadCode': 8090, 'roadID': '6dbadaf4-be9e-4598-86a0-4901a6eb8ea7', 'slug': 'ved-slusen'}, 'roadName': 'Ved Slusen', 'slug': 'ved-slusen-45-2300-koebenhavn-s-01018090__45_______', 'zip': {'name': 'København S', 'slug': 'koebenhavn-s', 'zipCode': 2300}, 'zipCode': 2300}</td>\n",
       "      <td>villa</td>\n",
       "      <td>cc1c250e-7a68-4ba1-b20f-0f4932e36a0e</td>\n",
       "      <td>https://www.camillalindhard.dk/430000143</td>\n",
       "      <td>{'lat': 55.641357, 'lon': 12.553511, 'type': 'EPSG4326'}</td>\n",
       "      <td>196</td>\n",
       "      <td>{'imageSources': [{'size': {'height': 80, 'width': 100}, 'url': 'https://images.boligsiden.dk/images/case/cc1c250e-7a68-4ba1-b20f-0f4932e36a0e/100x80/09d49209-0855-411a-b33f-905216098c23.webp'}, {'size': {'height': 118, 'width': 143}, 'url': 'https://images.boligsiden.dk/images/case/cc1c250e-7a68-4ba1-b20f-0f4932e36a0e/143x118/09d49209-0855-411a-b33f-905216098c23.webp'}, {'size': {'height': 200, 'width': 300}, 'url': 'https://images.boligsiden.dk/images/case/cc1c250e-7a68-4ba1-b20f-0f4932e36a0e/300x200/09d49209-0855-411a-b33f-905216098c23.webp'}, {'size': {'height': 400, 'width': 600}, 'url': 'https://images.boligsiden.dk/images/case/cc1c250e-7a68-4ba1-b20f-0f4932e36a0e/600x400/09d49209-0855-411a-b33f-905216098c23.webp'}, {'size': {'height': 600, 'width': 600}, 'url': 'https://images.boligsiden.dk/images/case/cc1c250e-7a68-4ba1-b20f-0f4932e36a0e/600x600/09d49209-0855-411a-b33f-905216098c23.webp'}, {'size': {'height': 960, 'width': 1440}, 'url': 'https://images.boligsiden.dk/images/case/cc1c250e-7a68-4ba1-b20f-0f4932e36a0e/1440x960/09d49209-0855-411a-b33f-905216098c23.webp'}]}</td>\n",
       "      <td>Denne charmerende hollandske pram fra 1920 har gennemgået en kærlig renovering, og vi er stolteaf at præsentere den som en ægte perle i Københavns husbådekoloni med i alt 15 husbåde.  Foreningen har langtidskontrakt med 20 års opsigelse, hvilket sikrer bådpladsen i denne skønne havn. Området : Området er i rivende udvikling med helt ny skole, Sluseholm Skole, caféer, kommende Metro i 2024 i gå afstand, masser af gode indkøbsmuligheder og butikker på Sluseholmen, samt smuk natur og Amager Fælled</td>\n",
       "      <td>Drømmebolig på vandet - unik renoveret indflytningsklar husbåd i København, 20 års lejekontrakt.</td>\n",
       "      <td>...</td>\n",
       "      <td>3994</td>\n",
       "      <td>76</td>\n",
       "      <td>{'includedInPrice': None}</td>\n",
       "      <td>1920</td>\n",
       "      <td>NaN</td>\n",
       "      <td>NaN</td>\n",
       "      <td>NaN</td>\n",
       "      <td>55.641357</td>\n",
       "      <td>12.553511</td>\n",
       "      <td>1.813317</td>\n",
       "    </tr>\n",
       "    <tr>\n",
       "      <th>24</th>\n",
       "      <td>{'self': {'href': '/cases/222f1480-1f6d-4616-a417-7f07bfeefabe'}}</td>\n",
       "      <td>{'_links': {'self': {'href': '/addresses/e6d3676d-ab6a-4cf7-9749-032e0df1de2e'}}, 'addressID': 'e6d3676d-ab6a-4cf7-9749-032e0df1de2e', 'allowNewValuationInfo': True, 'bfeNumbers': [705502], 'boligsidenInfo': {'latestSoldArea': 32}, 'city': {'name': 'København S', 'slug': 'koebenhavn-s'}, 'cityName': 'København S', 'coordinates': {'lat': 55.642273, 'lon': 12.553643, 'type': 'EPSG4326'}, 'daysOnMarket': {'realtors': []}, 'energyLabelImprovement': {'improvementCase': 'FALLBACK', 'sparEnergiLink': 'https://sparenergi.dk/forbruger/boligen/traenger-din-bolig-til-renovering?utm_source=Boligsiden&amp;utm_medium=Banner&amp;utm_campaign=6'}, 'entryAddressID': '0a3f507b-1f9e-32b8-e044-0003ba298018', 'gstkvhx': '01018090__32_______', 'houseNumber': '32', 'isPublic': True, 'municipality': {'churchTaxPercentage': 0.8, 'councilTaxPercentage': 23.7, 'districtPlanFrom': '2024-06-28', 'districtPlanPdfUrl': 'https://dokument.plandata.dk/20_11186212_1719470578287.pdf', 'landValueTaxLevelPerThousand': 34, 'masterPlanPdfUrl': 'https://dokument.plandata.dk/12_11267550_1717402838438.pdf', 'municipalityCode': 101, 'name': 'København', 'numberOfSchools': 127, 'population': 644431, 'slug': 'koebenhavn'}, 'propertyNumber': 939707, 'province': {'name': 'Byen København', 'provinceCode': 'DK011', 'regionCode': 1084, 'slug': 'byen-koebenhavn'}, 'road': {'municipalityCode': 101, 'name': 'Ved Slusen', 'roadCode': 8090, 'roadID': '6dbadaf4-be9e-4598-86a0-4901a6eb8ea7', 'slug': 'ved-slusen'}, 'roadName': 'Ved Slusen', 'slug': 'ved-slusen-32-2300-koebenhavn-s-01018090__32_______', 'zip': {'name': 'København S', 'slug': 'koebenhavn-s', 'zipCode': 2300}, 'zipCode': 2300}</td>\n",
       "      <td>condo</td>\n",
       "      <td>222f1480-1f6d-4616-a417-7f07bfeefabe</td>\n",
       "      <td>https://home.dk/sag/1340001397</td>\n",
       "      <td>{'lat': 55.641544, 'lon': 12.551776, 'type': 'EPSG4326'}</td>\n",
       "      <td>246</td>\n",
       "      <td>{'imageSources': [{'size': {'height': 80, 'width': 100}, 'url': 'https://images.boligsiden.dk/images/case/222f1480-1f6d-4616-a417-7f07bfeefabe/100x80/cb0f67b7-e966-49b9-b0e4-56685b648e89.webp'}, {'size': {'height': 118, 'width': 143}, 'url': 'https://images.boligsiden.dk/images/case/222f1480-1f6d-4616-a417-7f07bfeefabe/143x118/cb0f67b7-e966-49b9-b0e4-56685b648e89.webp'}, {'size': {'height': 200, 'width': 300}, 'url': 'https://images.boligsiden.dk/images/case/222f1480-1f6d-4616-a417-7f07bfeefabe/300x200/cb0f67b7-e966-49b9-b0e4-56685b648e89.webp'}, {'size': {'height': 400, 'width': 600}, 'url': 'https://images.boligsiden.dk/images/case/222f1480-1f6d-4616-a417-7f07bfeefabe/600x400/cb0f67b7-e966-49b9-b0e4-56685b648e89.webp'}, {'size': {'height': 600, 'width': 600}, 'url': 'https://images.boligsiden.dk/images/case/222f1480-1f6d-4616-a417-7f07bfeefabe/600x600/cb0f67b7-e966-49b9-b0e4-56685b648e89.webp'}, {'size': {'height': 960, 'width': 1440}, 'url': 'https://images.boligsiden.dk/images/case/222f1480-1f6d-4616-a417-7f07bfeefabe/1440x960/cb0f67b7-e966-49b9-b0e4-56685b648e89.webp'}]}</td>\n",
       "      <td>HusbådTag med til et smukt hjørne af storbyøen Amager, hvor Amager Fælled udfolder sig naturskønt i baghaven, og hvor der er få hundrede meter til både den nye Metro station og folkeskole  på Sluseholmen. I disse fantastiske omgivelser kan I blive de heldige ejere af en virkelig lækker og rummelig husbåd ved navn My, som kan dateres tilbage til år 1891. Det er den helt perfekte husbåd for dig der måske ikke har beskæftiget dig med husbåde før, for her køber du dig ind i en part af en båd, så du</td>\n",
       "      <td>Virkelig stor husbåd - en af de bedste lejekontrakter i hele havnen</td>\n",
       "      <td>...</td>\n",
       "      <td>6088</td>\n",
       "      <td>151</td>\n",
       "      <td>{'includedInPrice': None}</td>\n",
       "      <td>1891</td>\n",
       "      <td>NaN</td>\n",
       "      <td>NaN</td>\n",
       "      <td>NaN</td>\n",
       "      <td>55.641544</td>\n",
       "      <td>12.551776</td>\n",
       "      <td>1.736150</td>\n",
       "    </tr>\n",
       "    <tr>\n",
       "      <th>25</th>\n",
       "      <td>{'self': {'href': '/cases/33d87aa7-d2f1-41d0-9fce-dd81359b6e1b'}}</td>\n",
       "      <td>{'_links': {'self': {'href': '/addresses/32f19510-9306-4486-9123-b52fa296bf62'}}, 'addressID': '32f19510-9306-4486-9123-b52fa296bf62', 'addressType': 'villa', 'allowNewValuationInfo': True, 'bfeNumbers': [700827, 100079699], 'boligsidenInfo': {'latestSoldArea': 103}, 'buildings': [{'bathroomCondition': 'Badeværelse i enheden', 'buildingName': 'Fritliggende enfamilieshus (parcelhus)', 'buildingNumber': '1', 'externalWallMaterial': 'Metal', 'heatingInstallation': 'Centralvarme med én fyringsenhed', 'housingArea': 103, 'kitchenCondition': 'Eget køkken med afløb', 'numberOfBathrooms': 1, 'numberOfFloors': 1, 'numberOfKitchens': 1, 'numberOfRooms': 6, 'numberOfToilets': 2, 'roofingMaterial': 'Metal', 'toiletCondition': 'Vandskyllende toilet i enheden', 'totalArea': 192, 'yearBuilt': 2017}], 'city': {'name': 'København SV', 'slug': 'koebenhavn-sv'}, 'cityName': 'København SV', 'coordinates': {'lat': 55.646744, 'lon': 12.545307, 'type': 'EPSG4326'}, 'daysOnMarket': {'realtors': []}, 'energyLabelImprovement': {'improvementCase': 'FALLBACK', 'sparEnergiLink': 'https://sparenergi.dk/forbruger/boligen/traenger-din-bolig-til-renovering?utm_source=Boligsiden&amp;utm_medium=Banner&amp;utm_campaign=6'}, 'entryAddressID': '990d60b5-d594-461b-8acd-7409c6f3c5b9', 'gstkvhx': '01011958__2V_______', 'houseNumber': '2V', 'isPublic': True, 'livingArea': 103, 'municipality': {'churchTaxPercentage': 0.8, 'councilTaxPercentage': 23.7, 'districtPlanFrom': '2024-06-28', 'districtPlanPdfUrl': 'https://dokument.plandata.dk/20_11186212_1719470578287.pdf', 'landValueTaxLevelPerThousand': 34, 'masterPlanPdfUrl': 'https://dokument.plandata.dk/12_11267550_1717402838438.pdf', 'municipalityCode': 101, 'name': 'København', 'numberOfSchools': 127, 'population': 644431, 'slug': 'koebenhavn'}, 'propertyNumber': 18231, 'province': {'name': 'Byen København', 'provinceCode': 'DK011', 'regionCode': 1084, 'slug': 'byen-koebenhavn'}, 'road': {'municipalityCode': 101, 'name': 'Frederikskaj', 'roadCode': 1958, 'roadID': 'cfff4bbd-3438-404c-ac5b-41108d618c4f', 'slug': 'frederikskaj'}, 'roadName': 'Frederikskaj', 'slug': 'frederikskaj-2v-2450-koebenhavn-sv-01011958__2v_______', 'weightedArea': 103, 'zip': {'name': 'København SV', 'slug': 'koebenhavn-sv', 'zipCode': 2450}, 'zipCode': 2450}</td>\n",
       "      <td>condo</td>\n",
       "      <td>33d87aa7-d2f1-41d0-9fce-dd81359b6e1b</td>\n",
       "      <td>https://www.edc.dk/sag/?sagsnr=21606583</td>\n",
       "      <td>{'lat': 55.646744, 'lon': 12.545307, 'type': 'EPSG4326'}</td>\n",
       "      <td>326</td>\n",
       "      <td>{'imageSources': [{'size': {'height': 80, 'width': 100}, 'url': 'https://images.boligsiden.dk/images/case/33d87aa7-d2f1-41d0-9fce-dd81359b6e1b/100x80/bc6c97d1-54cf-4697-9e82-33ceb1852a23.webp'}, {'size': {'height': 118, 'width': 143}, 'url': 'https://images.boligsiden.dk/images/case/33d87aa7-d2f1-41d0-9fce-dd81359b6e1b/143x118/bc6c97d1-54cf-4697-9e82-33ceb1852a23.webp'}, {'size': {'height': 200, 'width': 300}, 'url': 'https://images.boligsiden.dk/images/case/33d87aa7-d2f1-41d0-9fce-dd81359b6e1b/300x200/bc6c97d1-54cf-4697-9e82-33ceb1852a23.webp'}, {'size': {'height': 400, 'width': 600}, 'url': 'https://images.boligsiden.dk/images/case/33d87aa7-d2f1-41d0-9fce-dd81359b6e1b/600x400/bc6c97d1-54cf-4697-9e82-33ceb1852a23.webp'}, {'size': {'height': 600, 'width': 600}, 'url': 'https://images.boligsiden.dk/images/case/33d87aa7-d2f1-41d0-9fce-dd81359b6e1b/600x600/bc6c97d1-54cf-4697-9e82-33ceb1852a23.webp'}, {'size': {'height': 960, 'width': 1440}, 'url': 'https://images.boligsiden.dk/images/case/33d87aa7-d2f1-41d0-9fce-dd81359b6e1b/1440x960/bc6c97d1-54cf-4697-9e82-33ceb1852a23.webp'}]}</td>\n",
       "      <td>Vil du bo i HUSBÅD i Maritimt og lækkert nybygget område så er muligheden der på Frederikskaj 2V i Teglværkshavnen med havnepromenade, lystbådehavn, lækkert fælleshus, sauna og shelter på vandet. Her kan du bo blandt alle de nye flotte lejligheder men i en skøn og rummelig Husbåd ved navn MV Susanne. Dette er en unik mulighed da hun har en yderst attraktiv bådplads med en fantastisk udsigt over havnebassinet samtidigt med at det kun er et stenkast fra den kommende Metro, som efter planen er færdig i 2024. Frederikskaj er indbegrebet af maritim metropol med en beliggenhed tæt på Hovedstaden. Her er du beliggende optimalt, uanset om du skal ind til centrum eller ud af byen. F.eks. kommer du hurtigt på motorvejen, der fører direkte til Københavns Lufthavn, Malmø og ikke mindst resten af Danmark. Der er busstoppested lige udenfor bebyggelsen, Sydhavn Station samt havnebussen er indenfor kort afstand. Her er fantastiske bademuligheder, vinterbadelaug med flydende sauna samt kajakklub. Husbåden er indeholdende: Entre med adgang til stort og lækkert køkken alrum med plads til hele familien sammenhængende med en dejlig opholdsstue og rummeligt soveværelse med walk in closet. Fra køkkenet er der lille trappe til fint grovkøkken og bryggers samt adgang til opbevaringsrum. Lækkert badeværelse med jacuzzi og toilet, fra badeværelset er der adgang til hyggeligt værelse samt det oprindelige styrehus. Agterskibet bag styrehuset byder på stue og kahytter i oprindelig aptering. Husbådens dæk er indrettet som stort solterrasse og har et fantastisk kig over området og naturligvis vandet. Når du køber en bolig gennem EDC, har du mulighed for at få en gratis flytteforsikring. Ønsker du denne, skal du sende en mail med \"Ja tak\" til flytteforsikring@gjensidige.dk</td>\n",
       "      <td>Charmerende husbåd i lækkert nybygget område</td>\n",
       "      <td>...</td>\n",
       "      <td>11451</td>\n",
       "      <td>129</td>\n",
       "      <td>{'includedInPrice': None}</td>\n",
       "      <td>2017</td>\n",
       "      <td>NaN</td>\n",
       "      <td>103.0</td>\n",
       "      <td>NaN</td>\n",
       "      <td>55.646744</td>\n",
       "      <td>12.545307</td>\n",
       "      <td>1.030241</td>\n",
       "    </tr>\n",
       "    <tr>\n",
       "      <th>26</th>\n",
       "      <td>{'self': {'href': '/cases/1c8ac0e3-ea13-4122-adb5-ddb562faefc3'}}</td>\n",
       "      <td>{'_links': {'self': {'href': '/addresses/c6ad1490-b692-4187-873c-55fe8cbd5153'}}, 'addressID': 'c6ad1490-b692-4187-873c-55fe8cbd5153', 'allowNewValuationInfo': True, 'city': {'name': 'København S', 'slug': 'koebenhavn-s'}, 'cityName': 'København S', 'coordinates': {'lat': 55.64127, 'lon': 12.552835, 'type': 'EPSG4326'}, 'daysOnMarket': {'realtors': []}, 'energyLabelImprovement': {'improvementCase': 'FALLBACK', 'sparEnergiLink': 'https://sparenergi.dk/forbruger/boligen/traenger-din-bolig-til-renovering?utm_source=Boligsiden&amp;utm_medium=Banner&amp;utm_campaign=6'}, 'entryAddressID': '666dbe81-3a33-4ac3-968c-95a0d53a4e88', 'gstkvhx': '01018090_53A_______', 'houseNumber': '53A', 'isPublic': True, 'municipality': {'churchTaxPercentage': 0.8, 'councilTaxPercentage': 23.7, 'districtPlanFrom': '2024-06-28', 'districtPlanPdfUrl': 'https://dokument.plandata.dk/20_11186212_1719470578287.pdf', 'landValueTaxLevelPerThousand': 34, 'masterPlanPdfUrl': 'https://dokument.plandata.dk/12_11267550_1717402838438.pdf', 'municipalityCode': 101, 'name': 'København', 'numberOfSchools': 127, 'population': 644431, 'slug': 'koebenhavn'}, 'province': {'name': 'Byen København', 'provinceCode': 'DK011', 'regionCode': 1084, 'slug': 'byen-koebenhavn'}, 'road': {'municipalityCode': 101, 'name': 'Ved Slusen', 'roadCode': 8090, 'roadID': '6dbadaf4-be9e-4598-86a0-4901a6eb8ea7', 'slug': 'ved-slusen'}, 'roadName': 'Ved Slusen', 'slug': 'ved-slusen-53a-2300-koebenhavn-s-01018090_53a_______', 'zip': {'name': 'København S', 'slug': 'koebenhavn-s', 'zipCode': 2300}, 'zipCode': 2300}</td>\n",
       "      <td>condo</td>\n",
       "      <td>1c8ac0e3-ea13-4122-adb5-ddb562faefc3</td>\n",
       "      <td>https://www.lokalbolig.dk/?sag=20-X0001334</td>\n",
       "      <td>{'lat': 55.64135, 'lon': 12.552788, 'type': 'EPSG4326'}</td>\n",
       "      <td>378</td>\n",
       "      <td>{'imageSources': [{'size': {'height': 80, 'width': 100}, 'url': 'https://images.boligsiden.dk/images/case/1c8ac0e3-ea13-4122-adb5-ddb562faefc3/100x80/ba66f7ee-4a77-4b31-b858-061620aef508.webp'}, {'size': {'height': 118, 'width': 143}, 'url': 'https://images.boligsiden.dk/images/case/1c8ac0e3-ea13-4122-adb5-ddb562faefc3/143x118/ba66f7ee-4a77-4b31-b858-061620aef508.webp'}, {'size': {'height': 200, 'width': 300}, 'url': 'https://images.boligsiden.dk/images/case/1c8ac0e3-ea13-4122-adb5-ddb562faefc3/300x200/ba66f7ee-4a77-4b31-b858-061620aef508.webp'}, {'size': {'height': 400, 'width': 600}, 'url': 'https://images.boligsiden.dk/images/case/1c8ac0e3-ea13-4122-adb5-ddb562faefc3/600x400/ba66f7ee-4a77-4b31-b858-061620aef508.webp'}, {'size': {'height': 600, 'width': 600}, 'url': 'https://images.boligsiden.dk/images/case/1c8ac0e3-ea13-4122-adb5-ddb562faefc3/600x600/ba66f7ee-4a77-4b31-b858-061620aef508.webp'}, {'size': {'height': 960, 'width': 1440}, 'url': 'https://images.boligsiden.dk/images/case/1c8ac0e3-ea13-4122-adb5-ddb562faefc3/1440x960/ba66f7ee-4a77-4b31-b858-061620aef508.webp'}]}</td>\n",
       "      <td>Livet på en husbådPå Ved Slusen 53A ligger der en anseelig husbåd fortøjet, som består af 3 lejligheder. Det er i den bagerste lejlighed fra 2008 i flere plan, at du nu kan få hjemme. Boligen indeholder et køkken, et soveværelse, en stue og et badeværelse, hvorfor den er helt oplagt til singlen eller et ungt par. Beliggenheden er ufravigelig helt unik og ikke mindst naturskønt med Sluseløbet som din baghave og Amager Fælled på den anden sideDe originale koøjer fra 1910 giver stadig stil og charm</td>\n",
       "      <td>Livet på en husbåd</td>\n",
       "      <td>...</td>\n",
       "      <td>18121</td>\n",
       "      <td>374</td>\n",
       "      <td>{'includedInPrice': None}</td>\n",
       "      <td>1910</td>\n",
       "      <td>NaN</td>\n",
       "      <td>NaN</td>\n",
       "      <td>NaN</td>\n",
       "      <td>55.641350</td>\n",
       "      <td>12.552788</td>\n",
       "      <td>1.788627</td>\n",
       "    </tr>\n",
       "    <tr>\n",
       "      <th>27</th>\n",
       "      <td>{'self': {'href': '/cases/443189eb-f8db-4dfc-81ee-c00e8b4c6cbe'}}</td>\n",
       "      <td>{'_links': {'self': {'href': '/addresses/8bd38800-35ed-46b7-9bff-841f32575ccd'}}, 'addressID': '8bd38800-35ed-46b7-9bff-841f32575ccd', 'allowNewValuationInfo': True, 'city': {'name': 'Ærøskøbing', 'slug': 'aeroeskoebing'}, 'cityName': 'Ærøskøbing', 'daysOnMarket': {'realtors': []}, 'energyLabelImprovement': {'improvementCase': 'FALLBACK', 'sparEnergiLink': 'https://sparenergi.dk/forbruger/boligen/traenger-din-bolig-til-renovering?utm_source=Boligsiden&amp;utm_medium=Banner&amp;utm_campaign=6'}, 'isPublic': False, 'municipality': {'churchTaxPercentage': 1.07, 'councilTaxPercentage': 26.1, 'districtPlanFrom': '2024-05-22', 'districtPlanPdfUrl': 'https://dokument.plandata.dk/20_11282397_1716379772335.pdf', 'landValueTaxLevelPerThousand': 30, 'masterPlanPdfUrl': 'https://dokument.plandata.dk/12_11282394_1716379537403.pdf', 'municipalityCode': 492, 'name': 'Ærø', 'numberOfSchools': 2, 'population': 6025, 'slug': 'aeroe'}, 'province': {'name': 'Fyn', 'provinceCode': 'DK031', 'regionCode': 1083, 'slug': 'fyn'}, 'road': {'municipalityCode': 492, 'name': 'Ærøskøbing Havn, Bro 7'}, 'roadName': 'Ærøskøbing Havn, Bro 7', 'slug': 'aeroeskoebing-havn,-bro-7-5970-aeroeskoebing-8bd38800-35ed-46b7-9bff-841f32575ccd', 'zip': {'name': 'Ærøskøbing', 'slug': 'aeroeskoebing', 'zipCode': 5970}, 'zipCode': 5970}</td>\n",
       "      <td>holiday house</td>\n",
       "      <td>443189eb-f8db-4dfc-81ee-c00e8b4c6cbe</td>\n",
       "      <td>https://www.edc.dk/sag/?sagsnr=57207016</td>\n",
       "      <td>{'lat': 54.89034, 'lon': 10.413971, 'type': 'EPSG4326'}</td>\n",
       "      <td>487</td>\n",
       "      <td>{'imageSources': [{'size': {'height': 80, 'width': 100}, 'url': 'https://images.boligsiden.dk/images/case/443189eb-f8db-4dfc-81ee-c00e8b4c6cbe/100x80/3b0c1baa-abe3-4f8a-9600-a456dca573c4.webp'}, {'size': {'height': 118, 'width': 143}, 'url': 'https://images.boligsiden.dk/images/case/443189eb-f8db-4dfc-81ee-c00e8b4c6cbe/143x118/3b0c1baa-abe3-4f8a-9600-a456dca573c4.webp'}, {'size': {'height': 200, 'width': 300}, 'url': 'https://images.boligsiden.dk/images/case/443189eb-f8db-4dfc-81ee-c00e8b4c6cbe/300x200/3b0c1baa-abe3-4f8a-9600-a456dca573c4.webp'}, {'size': {'height': 400, 'width': 600}, 'url': 'https://images.boligsiden.dk/images/case/443189eb-f8db-4dfc-81ee-c00e8b4c6cbe/600x400/3b0c1baa-abe3-4f8a-9600-a456dca573c4.webp'}, {'size': {'height': 600, 'width': 600}, 'url': 'https://images.boligsiden.dk/images/case/443189eb-f8db-4dfc-81ee-c00e8b4c6cbe/600x600/3b0c1baa-abe3-4f8a-9600-a456dca573c4.webp'}, {'size': {'height': 960, 'width': 1440}, 'url': 'https://images.boligsiden.dk/images/case/443189eb-f8db-4dfc-81ee-c00e8b4c6cbe/1440x960/3b0c1baa-abe3-4f8a-9600-a456dca573c4.webp'}]}</td>\n",
       "      <td>Tiny-house med havudsigt!!- Sommerhus, eller studiebolig - der er masser af muligheder og så kan boligen endda leveres på valgfri adresse! - og der kan leveres flere…\\n\\n*her vist med ekstra udstyr! – Udstyret udgør i dette tilfælde de 2 ekstra sovepladser og kalechen til en merpris på 45.000,- kr. inkl. moms.. \\n\\n\\n\"Seaside Cabin\" er helt nyudviklet og produceret i bæredygtige, lækre, højkvalitets-materialer, i Danmark. De ca. 15 m2 indeholder rummelig helårsisoleret boligdel med alt hvad dertil hører, og skønt stort soldæk, hvor der er god plads til at 4 personer kan nyde havudsigten. I den nye Version nummer 2 er der indrettet markant større indendørs bolig, og alligevel er der fundet plads til stort soldæk\\n\\nSeaside Cabin i Version 2 er - indendørs - udstyret med et multifunktionelt sofaarrangement, som nemt kan ændres til to sovepladser, masser af skabs- og skuffe plads, der er køkken (kabys) med håndvask, køleskab og kogeplade (220V). Der forefindes desuden bad og toilet ombord, og boligen er naturligvis i det hele taget, udnyttet helt ud i alle hjørner. Og under kalechen der de 2 ekstra 175 cm. lange sovepladser - som om dagen er sofa -og i den denne version er der bagudgang, så man kan vende hele herligheden hvilken vej til kajen som man har lyst til\\nDet flydende sommerhus kan evt. give god indtjening ved udlejning af overskydende uger\\n\\n\\nDen fine nye lille bolig ligger nu i lystbådehavnen i charmerende Ærøskøbing på Bro 7, og en tilsvarende kan blive din på reserveret kajplads.\\n\\nFlere fakta:\\n\\n·\\t4 store solpaneler leverer strøm til at være selvforsynende i op til 7 måneder om året, og er udstyret med 220V ladestik, så landstrøm kan forsyne strøm til radiator og el-kogeplade ved behov.\\n\\n·\\tUdstyret med elmotor, og er godkendt af Søfartsstyrelsen til kystnær sejlads (sejlads op til 1500 meter fra kysten), og størrelsen gør at der, fra Søfartsstyrelsen, ikke kræves certifikat for at sejle den.\\n\\n·\\tIkke registreret som husbåd, men et selvfremdrevet fartøj, og dermed betragtet som en mindre motor- eller sejlbåd, hvilket giver adgang til en bådplads i havne, broer og marinaer som disse.\\n\\n·\\tIsoleret med 75 mm. Marine-Rockwool med tapet alufolie i skotter (vægge) og dæk (loft ) og med 150 mm. i dørk (gulv)\\n\\n·\\t\\n\\nVi glæder os til at vise frem, så tøv ikke med at kontakte os for en fremvisning!</td>\n",
       "      <td>Version 2 af: Tiny-House/Flydende sommerhus*</td>\n",
       "      <td>...</td>\n",
       "      <td>11761</td>\n",
       "      <td>89</td>\n",
       "      <td>{'includedInPrice': None}</td>\n",
       "      <td>2023</td>\n",
       "      <td>1.0</td>\n",
       "      <td>NaN</td>\n",
       "      <td>NaN</td>\n",
       "      <td>54.890340</td>\n",
       "      <td>10.413971</td>\n",
       "      <td>0.162843</td>\n",
       "    </tr>\n",
       "    <tr>\n",
       "      <th>28</th>\n",
       "      <td>{'self': {'href': '/cases/e0128a72-e6c6-4861-920b-cfeab1329a23'}}</td>\n",
       "      <td>{'_links': {'self': {'href': '/addresses/72fbe9c2-ae56-4ade-a3d9-c6ba4a9c3fb8'}}, 'addressID': '72fbe9c2-ae56-4ade-a3d9-c6ba4a9c3fb8', 'allowNewValuationInfo': True, 'city': {'name': 'København K', 'slug': 'koebenhavn-k'}, 'cityName': 'København K', 'daysOnMarket': {'realtors': []}, 'energyLabelImprovement': {'improvementCase': 'FALLBACK', 'sparEnergiLink': 'https://sparenergi.dk/forbruger/boligen/traenger-din-bolig-til-renovering?utm_source=Boligsiden&amp;utm_medium=Banner&amp;utm_campaign=6'}, 'houseNumber': '75Z', 'isPublic': False, 'municipality': {'churchTaxPercentage': 0.8, 'councilTaxPercentage': 23.7, 'districtPlanFrom': '2024-06-28', 'districtPlanPdfUrl': 'https://dokument.plandata.dk/20_11186212_1719470578287.pdf', 'landValueTaxLevelPerThousand': 34, 'masterPlanPdfUrl': 'https://dokument.plandata.dk/12_11267550_1717402838438.pdf', 'municipalityCode': 101, 'name': 'København', 'numberOfSchools': 127, 'population': 644431, 'slug': 'koebenhavn'}, 'province': {'name': 'Byen København', 'provinceCode': 'DK011', 'regionCode': 1084, 'slug': 'byen-koebenhavn'}, 'road': {'municipalityCode': 101, 'name': 'Strandgade'}, 'roadName': 'Strandgade', 'slug': 'strandgade-75z-1401-koebenhavn-k-72fbe9c2-ae56-4ade-a3d9-c6ba4a9c3fb8', 'zip': {'group': 1000, 'name': 'København K', 'slug': 'koebenhavn-k', 'zipCode': 1401}, 'zipCode': 1401}</td>\n",
       "      <td>villa</td>\n",
       "      <td>e0128a72-e6c6-4861-920b-cfeab1329a23</td>\n",
       "      <td>https://www.camillathouber.dk/redirectestate.php?butiksid=2656&amp;id=CT19223</td>\n",
       "      <td>{'lat': 55.677223, 'lon': 12.594001, 'type': 'EPSG4326'}</td>\n",
       "      <td>641</td>\n",
       "      <td>{'imageSources': [{'size': {'height': 80, 'width': 100}, 'url': 'https://images.boligsiden.dk/images/case/e0128a72-e6c6-4861-920b-cfeab1329a23/100x80/09de50b3-382a-47b6-8d3e-2373ee26b0b2.webp'}, {'size': {'height': 118, 'width': 143}, 'url': 'https://images.boligsiden.dk/images/case/e0128a72-e6c6-4861-920b-cfeab1329a23/143x118/09de50b3-382a-47b6-8d3e-2373ee26b0b2.webp'}, {'size': {'height': 200, 'width': 300}, 'url': 'https://images.boligsiden.dk/images/case/e0128a72-e6c6-4861-920b-cfeab1329a23/300x200/09de50b3-382a-47b6-8d3e-2373ee26b0b2.webp'}, {'size': {'height': 400, 'width': 600}, 'url': 'https://images.boligsiden.dk/images/case/e0128a72-e6c6-4861-920b-cfeab1329a23/600x400/09de50b3-382a-47b6-8d3e-2373ee26b0b2.webp'}, {'size': {'height': 600, 'width': 600}, 'url': 'https://images.boligsiden.dk/images/case/e0128a72-e6c6-4861-920b-cfeab1329a23/600x600/09de50b3-382a-47b6-8d3e-2373ee26b0b2.webp'}, {'size': {'height': 960, 'width': 1440}, 'url': 'https://images.boligsiden.dk/images/case/e0128a72-e6c6-4861-920b-cfeab1329a23/1440x960/09de50b3-382a-47b6-8d3e-2373ee26b0b2.webp'}]}</td>\n",
       "      <td>Korshage er en af de karakteristiske danske sort-hvid færger, der gennem årene har betjent Danmarks mange vandpassager og ladet os slå smutveje gennem det ganske land. Korshage er opkaldt efter et smukt lyngklædt område i Rørvig og er et klenodie, der trofast udtjente sin værnepligt mellem Hundested og Rørvig i perioden 1964-1995. Det utrættelige skib blev bygget i 1964 på Holbæk Skibsværft med brug af bøge -og egestammer fra Dragerup Skov. Efter godt 30 års tro tjeneste blev Korshage flittigt benyttet til selskaber og udflugtssejlads på Isefjorden, indtil hun overgik til nye kreative hænder, der forvandlede hende til en moderne bolig i form af en fantastisk charmerende husbåd.Korshage er 30,5 meter lang og blev i sin tid godkendt til 20 personbiler og 110 passagerer - så størrelsesmæssigt var mulighederne for at skabe en større husbåd til stede. Den gennemgribende ombygning foregik fra 2013-2015, hvor forvandlingen blev håndhævet med respekt for de originale detaljer. Transformationen fra en åben bildæksfærge til et moderne og tidssvarende designerhjem med i alt 195 m2 etagemeter er gået op i en højere enhed og med den måske bedste fortøjning midt i Københavns Havn med storslået udsigt ned gennem havneløbet, Skuespilhuset, BLOX og Operaen er Korshage ganske enkelt drømmen om en stor husbåd på Christianshavn.  De 135 kvadratmeter flydende boligareal fordeler sig på et moderne stort køkkenalrum i forlængelse af stor stue, 2 store værelser - det ene med walk-in closet og det andet med the-køkken og eget badeværelse - endnu et stort badeværelse, disponibelt rum og entré. Korshage har to store terrasser. Den ene på fordækket og den anden agterdækket, hvilket giver helt optimale betingelser for at ramme solens stråler gennem dagen og aftenen, hvor den uhindret finder vej grundet beliggenheden ud til det brede havneløb.Under dækket befinder der sig 60 m2 alrum med plads til overnattende gæster, stort disponibelt rum, bryggers, teknikrum, og værksted. Øverst oppe troner det gode gamle styrrum, som er bevaret med alt det originale udstyr og betjeningspaneler. Styrrummet kan indrettes efter behov og meget vel forvandles til et kontor eller gæsteværelse med måske Københavns bedste udsigt. Isoleringen er tidssvarende og svarer til 250 mm rockwool i væggene og 350 mm i loftet. Derudover er der er indlagt varmeslanger i alle gulve både over og under dæk som forberedelse til en varmepumpe, der kan trække varme fra havet. Alle vinduer er ligeledes udskiftet med tre-lags energiruder i fin overensstemmelse med færgens oprindelige vinduesmål, ligesom de fem koøjer har fået forsatsvinduer installeret. Solidt fortøjret i hjertet af København vugger hverdagen afbalanceret med en central og tæt på alt-placering. Kajpladsen er for enden af en hyggelig brostensbelagt sidegade til Strandgade og ligger i rolige omgivelser med kort vej til Indre by over cykelbroen. Korshage er en lys, moderne og fantastisk husbåd, der samtidig kan bryste sig af ikke at have bopælspligt. Det skaber fleksible anvendelsesmuligheder, hvor Korshage både kan udfylde rollen som helårsbolig, sommerhus eller erhverv.Velkommen ombord på Korshage.</td>\n",
       "      <td>Charmerende husbåd i hjertet af Københavns Havn</td>\n",
       "      <td>...</td>\n",
       "      <td>24801</td>\n",
       "      <td>468</td>\n",
       "      <td>{'includedInPrice': None}</td>\n",
       "      <td>1964</td>\n",
       "      <td>5.0</td>\n",
       "      <td>NaN</td>\n",
       "      <td>60.0</td>\n",
       "      <td>55.677223</td>\n",
       "      <td>12.594001</td>\n",
       "      <td>1.755009</td>\n",
       "    </tr>\n",
       "    <tr>\n",
       "      <th>29</th>\n",
       "      <td>{'self': {'href': '/cases/ad9ac6d0-45bd-4c1b-b1b4-c003359a697a'}}</td>\n",
       "      <td>{'_links': {'self': {'href': '/addresses/50ce4687-cc15-49da-9974-e13658a24028'}}, 'addressID': '50ce4687-cc15-49da-9974-e13658a24028', 'allowNewValuationInfo': True, 'bfeNumbers': [161715], 'boligsidenInfo': {'latestSoldArea': 93}, 'city': {'name': 'København SV', 'slug': 'koebenhavn-sv'}, 'cityName': 'København SV', 'coordinates': {'lat': 55.65837, 'lon': 12.562113, 'type': 'EPSG4326'}, 'daysOnMarket': {'realtors': []}, 'door': '3', 'energyLabelImprovement': {'improvementCase': 'FALLBACK', 'sparEnergiLink': 'https://sparenergi.dk/forbruger/boligen/traenger-din-bolig-til-renovering?utm_source=Boligsiden&amp;utm_medium=Banner&amp;utm_campaign=6'}, 'entryAddressID': 'e7bb3d1d-8a8e-4ddc-a66b-f11cf93d01f5', 'floor': '3', 'gstkvhx': '01018843__11__3___3', 'houseNumber': '11', 'isPublic': True, 'latestValuation': 2200000, 'livingArea': 93, 'municipality': {'churchTaxPercentage': 0.8, 'councilTaxPercentage': 23.7, 'districtPlanFrom': '2024-06-28', 'districtPlanPdfUrl': 'https://dokument.plandata.dk/20_11186212_1719470578287.pdf', 'landValueTaxLevelPerThousand': 34, 'masterPlanPdfUrl': 'https://dokument.plandata.dk/12_11267550_1717402838438.pdf', 'municipalityCode': 101, 'name': 'København', 'numberOfSchools': 127, 'population': 644431, 'slug': 'koebenhavn'}, 'propertyNumber': 26327, 'province': {'name': 'Byen København', 'provinceCode': 'DK011', 'regionCode': 1084, 'slug': 'byen-koebenhavn'}, 'registrations': [{'amount': 5395000, 'area': 93, 'date': '2021-06-30', 'livingArea': 93, 'municipalityCode': 101, 'perAreaPrice': 58010, 'propertyNumber': 26327, 'registrationID': '5618363', 'type': 'normal'}, {'amount': 3895000, 'date': '2016-04-19', 'municipalityCode': 101, 'propertyNumber': 26327, 'registrationID': '5083456', 'type': 'normal'}], 'road': {'municipalityCode': 101, 'name': 'Martin Luther Kings Vej', 'roadCode': 8843, 'roadID': '29bfe743-189c-43c2-8873-bf83ba42733f', 'slug': 'martin-luther-kings-vej'}, 'roadName': 'Martin Luther Kings Vej', 'slug': 'martin-luther-kings-vej-11-3-3-2450-koebenhavn-sv-01018843__11__3___3', 'zip': {'name': 'København SV', 'slug': 'koebenhavn-sv', 'zipCode': 2450}, 'zipCode': 2450}</td>\n",
       "      <td>condo</td>\n",
       "      <td>ad9ac6d0-45bd-4c1b-b1b4-c003359a697a</td>\n",
       "      <td>https://www.danbolig.dk?propertyid=0870000755&amp;brokerid=087</td>\n",
       "      <td>{'lat': 55.65837, 'lon': 12.562113, 'type': 'EPSG4326'}</td>\n",
       "      <td>15</td>\n",
       "      <td>{'imageSources': [{'size': {'height': 80, 'width': 100}, 'url': 'https://images.boligsiden.dk/images/case/ad9ac6d0-45bd-4c1b-b1b4-c003359a697a/100x80/5be01428-0579-49be-821a-3bd4e389ed00.webp'}, {'size': {'height': 118, 'width': 143}, 'url': 'https://images.boligsiden.dk/images/case/ad9ac6d0-45bd-4c1b-b1b4-c003359a697a/143x118/5be01428-0579-49be-821a-3bd4e389ed00.webp'}, {'size': {'height': 200, 'width': 300}, 'url': 'https://images.boligsiden.dk/images/case/ad9ac6d0-45bd-4c1b-b1b4-c003359a697a/300x200/5be01428-0579-49be-821a-3bd4e389ed00.webp'}, {'size': {'height': 400, 'width': 600}, 'url': 'https://images.boligsiden.dk/images/case/ad9ac6d0-45bd-4c1b-b1b4-c003359a697a/600x400/5be01428-0579-49be-821a-3bd4e389ed00.webp'}, {'size': {'height': 600, 'width': 600}, 'url': 'https://images.boligsiden.dk/images/case/ad9ac6d0-45bd-4c1b-b1b4-c003359a697a/600x600/5be01428-0579-49be-821a-3bd4e389ed00.webp'}, {'size': {'height': 960, 'width': 1440}, 'url': 'https://images.boligsiden.dk/images/case/ad9ac6d0-45bd-4c1b-b1b4-c003359a697a/1440x960/5be01428-0579-49be-821a-3bd4e389ed00.webp'}]}</td>\n",
       "      <td>Nyere lejlighed ved vandet. Panorama kig. Vestvendt altan. Ideel planløsning.\\nDrømmer man om at bo centralt i København, i et maritimt miljø omgivet af Københavns Havn og hyggelige kanaler, så skal denne eksklusive lejlighed opleves. Frisk havluft og ingen trafiklarm, placeret tæt på Fisketorvet, metro, S-tog og havnebussen, med blot 10 minutter på cyklen til rådhuspladsen. Denne lejlighed har dejlig altan mod vest med masser sol. Flot kig til Engholmenes hyggelige kanaler og husbåd havn. Perfek</td>\n",
       "      <td>Nyere lejlighed ved vandet. Panorama kig. Vestvendt altan. Ideel planløsning.</td>\n",
       "      <td>...</td>\n",
       "      <td>719</td>\n",
       "      <td>10</td>\n",
       "      <td>{'includedInPrice': None}</td>\n",
       "      <td>2017</td>\n",
       "      <td>NaN</td>\n",
       "      <td>NaN</td>\n",
       "      <td>NaN</td>\n",
       "      <td>55.658370</td>\n",
       "      <td>12.562113</td>\n",
       "      <td>0.902780</td>\n",
       "    </tr>\n",
       "    <tr>\n",
       "      <th>30</th>\n",
       "      <td>{'self': {'href': '/cases/8d9a1d0c-2dd8-4476-bda5-d690fd5188fc'}}</td>\n",
       "      <td>{'_links': {'self': {'href': '/addresses/7a63945c-ad0c-455e-b865-38c89ca8e719'}}, 'addressID': '7a63945c-ad0c-455e-b865-38c89ca8e719', 'allowNewValuationInfo': True, 'city': {'name': 'København K', 'slug': 'koebenhavn-k'}, 'cityName': 'København K', 'coordinates': {'lat': 55.680195, 'lon': 12.601312, 'type': 'EPSG4326'}, 'daysOnMarket': {'realtors': []}, 'energyLabelImprovement': {'improvementCase': 'FALLBACK', 'sparEnergiLink': 'https://sparenergi.dk/forbruger/boligen/traenger-din-bolig-til-renovering?utm_source=Boligsiden&amp;utm_medium=Banner&amp;utm_campaign=6'}, 'entryAddressID': '75c254a5-de3f-49f7-8593-3ea5fb261571', 'gstkvhx': '01017338___9_______', 'houseNumber': '9', 'isPublic': True, 'municipality': {'churchTaxPercentage': 0.8, 'councilTaxPercentage': 23.7, 'districtPlanFrom': '2024-06-28', 'districtPlanPdfUrl': 'https://dokument.plandata.dk/20_11186212_1719470578287.pdf', 'landValueTaxLevelPerThousand': 34, 'masterPlanPdfUrl': 'https://dokument.plandata.dk/12_11267550_1717402838438.pdf', 'municipalityCode': 101, 'name': 'København', 'numberOfSchools': 127, 'population': 644431, 'slug': 'koebenhavn'}, 'province': {'name': 'Byen København', 'provinceCode': 'DK011', 'regionCode': 1084, 'slug': 'byen-koebenhavn'}, 'road': {'municipalityCode': 101, 'name': 'Takkelloftvej', 'roadCode': 7338, 'roadID': '799c97d3-237a-4ed5-ac07-f442b4f4c9f3', 'slug': 'takkelloftvej'}, 'roadName': 'Takkelloftvej', 'slug': 'takkelloftvej-9-1437-koebenhavn-k-01017338___9_______', 'zip': {'group': 1000, 'name': 'København K', 'slug': 'koebenhavn-k', 'zipCode': 1437}, 'zipCode': 1437}</td>\n",
       "      <td>condo</td>\n",
       "      <td>8d9a1d0c-2dd8-4476-bda5-d690fd5188fc</td>\n",
       "      <td>https://www.nybolig.dk/services/redirect/case/N270123/N2701230000042</td>\n",
       "      <td>{'lat': 55.679836, 'lon': 12.60091, 'type': 'EPSG4326'}</td>\n",
       "      <td>40</td>\n",
       "      <td>{'imageSources': [{'size': {'height': 80, 'width': 100}, 'url': 'https://images.boligsiden.dk/images/case/8d9a1d0c-2dd8-4476-bda5-d690fd5188fc/100x80/2129ed0d-e458-4c3d-9158-dcf61ca8224a.webp'}, {'size': {'height': 118, 'width': 143}, 'url': 'https://images.boligsiden.dk/images/case/8d9a1d0c-2dd8-4476-bda5-d690fd5188fc/143x118/2129ed0d-e458-4c3d-9158-dcf61ca8224a.webp'}, {'size': {'height': 200, 'width': 300}, 'url': 'https://images.boligsiden.dk/images/case/8d9a1d0c-2dd8-4476-bda5-d690fd5188fc/300x200/2129ed0d-e458-4c3d-9158-dcf61ca8224a.webp'}, {'size': {'height': 400, 'width': 600}, 'url': 'https://images.boligsiden.dk/images/case/8d9a1d0c-2dd8-4476-bda5-d690fd5188fc/600x400/2129ed0d-e458-4c3d-9158-dcf61ca8224a.webp'}, {'size': {'height': 600, 'width': 600}, 'url': 'https://images.boligsiden.dk/images/case/8d9a1d0c-2dd8-4476-bda5-d690fd5188fc/600x600/2129ed0d-e458-4c3d-9158-dcf61ca8224a.webp'}, {'size': {'height': 960, 'width': 1440}, 'url': 'https://images.boligsiden.dk/images/case/8d9a1d0c-2dd8-4476-bda5-d690fd5188fc/1440x960/2129ed0d-e458-4c3d-9158-dcf61ca8224a.webp'}]}</td>\n",
       "      <td>I første parket til Masteskurenes fredede arkitektur og med fantastisk udsigt til både den nye Operapark og selve Operaen ligger jeres nye hjem – og et helt særligt et af slagsen! På denne suveræne beliggenhed kan I nemlig folde tilværelsen ud til vands, for I skal se nærmere på en moderne husbåd, der tilbyder jer et liv fyldt med tidssvarende komfort, men med vand til alle sider. Det er en husbåd med et strømlinet ydre, der ligger og spejler sig her i kanalen. Den kan bedst beskrives som en mod</td>\n",
       "      <td>MODERNE HUSBÅD MED PLADS PÅ HOLMEN OG HELE 44 m2 TERRASSE</td>\n",
       "      <td>...</td>\n",
       "      <td>4007</td>\n",
       "      <td>13</td>\n",
       "      <td>{'includedInPrice': None}</td>\n",
       "      <td>2021</td>\n",
       "      <td>NaN</td>\n",
       "      <td>NaN</td>\n",
       "      <td>NaN</td>\n",
       "      <td>55.679836</td>\n",
       "      <td>12.600910</td>\n",
       "      <td>1.653597</td>\n",
       "    </tr>\n",
       "    <tr>\n",
       "      <th>31</th>\n",
       "      <td>{'self': {'href': '/cases/cabd0f7b-a576-434a-97f1-85064973950e'}}</td>\n",
       "      <td>{'_links': {'self': {'href': '/addresses/30668597-1c56-4737-bdb9-aa680f8bfadf'}}, 'addressID': '30668597-1c56-4737-bdb9-aa680f8bfadf', 'allowNewValuationInfo': True, 'bfeNumbers': [100314245], 'boligsidenInfo': {'latestSoldArea': 70}, 'city': {'name': 'København SV', 'slug': 'koebenhavn-sv'}, 'cityName': 'København SV', 'coordinates': {'lat': 55.658794, 'lon': 12.561923, 'type': 'EPSG4326'}, 'daysOnMarket': {'realtors': []}, 'door': 'th', 'energyLabelImprovement': {'improvementCase': 'FALLBACK', 'sparEnergiLink': 'https://sparenergi.dk/forbruger/boligen/traenger-din-bolig-til-renovering?utm_source=Boligsiden&amp;utm_medium=Banner&amp;utm_campaign=6'}, 'entryAddressID': '7ed15799-e9c3-4240-82e1-c8b33a7b0cf4', 'floor': '4', 'gstkvhx': '01012171__21__4__th', 'houseNumber': '21', 'isPublic': True, 'livingArea': 70, 'municipality': {'churchTaxPercentage': 0.8, 'councilTaxPercentage': 23.7, 'districtPlanFrom': '2024-06-28', 'districtPlanPdfUrl': 'https://dokument.plandata.dk/20_11186212_1719470578287.pdf', 'landValueTaxLevelPerThousand': 34, 'masterPlanPdfUrl': 'https://dokument.plandata.dk/12_11267550_1717402838438.pdf', 'municipalityCode': 101, 'name': 'København', 'numberOfSchools': 127, 'population': 644431, 'slug': 'koebenhavn'}, 'propertyNumber': 43871, 'province': {'name': 'Byen København', 'provinceCode': 'DK011', 'regionCode': 1084, 'slug': 'byen-koebenhavn'}, 'registrations': [{'amount': 3895000, 'area': 70, 'date': '2020-12-15', 'livingArea': 70, 'municipalityCode': 101, 'perAreaPrice': 55642, 'propertyNumber': 43871, 'registrationID': '5843570', 'type': 'normal'}], 'road': {'municipalityCode': 101, 'name': 'George Marshalls Vej', 'roadCode': 2171, 'roadID': '5fbe7d12-0325-402b-b9b7-26dc4445aebb', 'slug': 'george-marshalls-vej'}, 'roadName': 'George Marshalls Vej', 'slug': 'george-marshalls-vej-21-4-th-2450-koebenhavn-sv-01012171__21__4__th', 'zip': {'name': 'København SV', 'slug': 'koebenhavn-sv', 'zipCode': 2450}, 'zipCode': 2450}</td>\n",
       "      <td>condo</td>\n",
       "      <td>cabd0f7b-a576-434a-97f1-85064973950e</td>\n",
       "      <td>https://www.danbolig.dk?propertyid=0870000722&amp;brokerid=087</td>\n",
       "      <td>{'lat': 55.658794, 'lon': 12.561923, 'type': 'EPSG4326'}</td>\n",
       "      <td>45</td>\n",
       "      <td>{'imageSources': [{'size': {'height': 80, 'width': 100}, 'url': 'https://images.boligsiden.dk/images/case/cabd0f7b-a576-434a-97f1-85064973950e/100x80/c49b185b-a431-4f0e-9c3b-8110b31c30a8.webp'}, {'size': {'height': 118, 'width': 143}, 'url': 'https://images.boligsiden.dk/images/case/cabd0f7b-a576-434a-97f1-85064973950e/143x118/c49b185b-a431-4f0e-9c3b-8110b31c30a8.webp'}, {'size': {'height': 200, 'width': 300}, 'url': 'https://images.boligsiden.dk/images/case/cabd0f7b-a576-434a-97f1-85064973950e/300x200/c49b185b-a431-4f0e-9c3b-8110b31c30a8.webp'}, {'size': {'height': 400, 'width': 600}, 'url': 'https://images.boligsiden.dk/images/case/cabd0f7b-a576-434a-97f1-85064973950e/600x400/c49b185b-a431-4f0e-9c3b-8110b31c30a8.webp'}, {'size': {'height': 600, 'width': 600}, 'url': 'https://images.boligsiden.dk/images/case/cabd0f7b-a576-434a-97f1-85064973950e/600x600/c49b185b-a431-4f0e-9c3b-8110b31c30a8.webp'}, {'size': {'height': 960, 'width': 1440}, 'url': 'https://images.boligsiden.dk/images/case/cabd0f7b-a576-434a-97f1-85064973950e/1440x960/c49b185b-a431-4f0e-9c3b-8110b31c30a8.webp'}]}</td>\n",
       "      <td>ATTRAKTIV 2 VÆR. MED VESTVENDT ALTAN\\n\\nLEJLIGHED: Her får man både udsigt til kanal, bådehavn og husbåde – et virkelig hyggeligt maritimt miljø. Man har gåafstand til to metrostationer, som netop er åbnet, hurtig adgang til lufthavnen, det maritime miljø omkring Københavns Havn, caféer, restauranter, Kødbyen på Vesterbro og indre by. Du er i gå og cykelafstand til alt i København. \\nHer får man en dejlig 2 vær. med vestvendt altan. Stort badeværelse med sep. brus, unidrain, væghængt toilet, spotlo</td>\n",
       "      <td>ATTRAKTIV 2 VÆR. MED VESTVENDT ALTAN</td>\n",
       "      <td>...</td>\n",
       "      <td>1404</td>\n",
       "      <td>21</td>\n",
       "      <td>{'includedInPrice': None}</td>\n",
       "      <td>2021</td>\n",
       "      <td>NaN</td>\n",
       "      <td>NaN</td>\n",
       "      <td>NaN</td>\n",
       "      <td>55.658794</td>\n",
       "      <td>12.561923</td>\n",
       "      <td>0.859113</td>\n",
       "    </tr>\n",
       "    <tr>\n",
       "      <th>32</th>\n",
       "      <td>{'self': {'href': '/cases/112ac301-faee-4351-85a9-6aa87ba74341'}}</td>\n",
       "      <td>{'_links': {'self': {'href': '/addresses/4a70800c-665e-4a00-8964-b02d889177cf'}}, 'addressID': '4a70800c-665e-4a00-8964-b02d889177cf', 'allowNewValuationInfo': True, 'boligsidenInfo': {'latestSoldArea': 80}, 'city': {'name': 'København K', 'slug': 'koebenhavn-k'}, 'cityName': 'København K', 'coordinates': {'lat': 55.689922, 'lon': 12.607111, 'type': 'EPSG4326'}, 'daysOnMarket': {'realtors': []}, 'energyLabelImprovement': {'improvementCase': 'FALLBACK', 'sparEnergiLink': 'https://sparenergi.dk/forbruger/boligen/traenger-din-bolig-til-renovering?utm_source=Boligsiden&amp;utm_medium=Banner&amp;utm_campaign=6'}, 'entryAddressID': '1357eb80-9b79-3d79-e044-0003ba298018', 'gstkvhx': '01015772141G_______', 'houseNumber': '141G', 'isPublic': True, 'municipality': {'churchTaxPercentage': 0.8, 'councilTaxPercentage': 23.7, 'districtPlanFrom': '2024-06-28', 'districtPlanPdfUrl': 'https://dokument.plandata.dk/20_11186212_1719470578287.pdf', 'landValueTaxLevelPerThousand': 34, 'masterPlanPdfUrl': 'https://dokument.plandata.dk/12_11267550_1717402838438.pdf', 'municipalityCode': 101, 'name': 'København', 'numberOfSchools': 127, 'population': 644431, 'slug': 'koebenhavn'}, 'province': {'name': 'Byen København', 'provinceCode': 'DK011', 'regionCode': 1084, 'slug': 'byen-koebenhavn'}, 'road': {'municipalityCode': 101, 'name': 'Refshalevej', 'roadCode': 5772, 'roadID': 'b666c681-1fcf-44f5-bdf8-87b65af4f244', 'slug': 'refshalevej'}, 'roadName': 'Refshalevej', 'slug': 'refshalevej-141g-1432-koebenhavn-k-01015772141g_______', 'zip': {'group': 1000, 'name': 'København K', 'slug': 'koebenhavn-k', 'zipCode': 1432}, 'zipCode': 1432}</td>\n",
       "      <td>villa</td>\n",
       "      <td>112ac301-faee-4351-85a9-6aa87ba74341</td>\n",
       "      <td>https://www.camillathouber.dk/redirectestate.php?butiksid=2656&amp;id=CT19395</td>\n",
       "      <td>{'lat': 55.689972, 'lon': 12.606812, 'type': 'EPSG4326'}</td>\n",
       "      <td>50</td>\n",
       "      <td>{'imageSources': [{'size': {'height': 80, 'width': 100}, 'url': 'https://images.boligsiden.dk/images/case/112ac301-faee-4351-85a9-6aa87ba74341/100x80/208255f9-7560-42a4-b739-81b8a5898829.webp'}, {'size': {'height': 118, 'width': 143}, 'url': 'https://images.boligsiden.dk/images/case/112ac301-faee-4351-85a9-6aa87ba74341/143x118/208255f9-7560-42a4-b739-81b8a5898829.webp'}, {'size': {'height': 200, 'width': 300}, 'url': 'https://images.boligsiden.dk/images/case/112ac301-faee-4351-85a9-6aa87ba74341/300x200/208255f9-7560-42a4-b739-81b8a5898829.webp'}, {'size': {'height': 400, 'width': 600}, 'url': 'https://images.boligsiden.dk/images/case/112ac301-faee-4351-85a9-6aa87ba74341/600x400/208255f9-7560-42a4-b739-81b8a5898829.webp'}, {'size': {'height': 600, 'width': 600}, 'url': 'https://images.boligsiden.dk/images/case/112ac301-faee-4351-85a9-6aa87ba74341/600x600/208255f9-7560-42a4-b739-81b8a5898829.webp'}, {'size': {'height': 960, 'width': 1440}, 'url': 'https://images.boligsiden.dk/images/case/112ac301-faee-4351-85a9-6aa87ba74341/1440x960/208255f9-7560-42a4-b739-81b8a5898829.webp'}]}</td>\n",
       "      <td>Nu har du en enestående mulighed for at blive ejeren af et totalrenoveret historisk skib fra 1930, der ligger til kaj på én af de absolut bedste kajpladser på Refshaleøen. Pionier kan - med sin charmerende modernisering og historiske særpræg, anvendes som husbåd, eventskib, dinnercruise, rundture i området, kontor, showroom eller lignende.Refshaleøen er kendt for sine mange restauranter og kulturelle tilbud. En kort cykeltur tager dig til Christianshavn og videre til Indre By via cykelbroen. Københavns charmerende byliv med caféer, restauranter og butikker ligger lige for dine fødder. Området byder på gode busforbindelser - både havnebus og normal bus - og offentlig transport, så du nemt kan komme rundt i byen.Med sine 80 m² boligareal tilbyder Pionier både komfort og stil. Skibet er blevet totalt moderniseret i 2008 og fremtræder i flot stand, fordi det nænsomt er vedligeholdt efter alle kunstens regler.For- og agterdækket er perfekte til at nyde sommermånederne med en dejlig udsigt til blandt andet Sixtus Bastionen og kongeskibet Dannebrog. Der er også masser af muligheder for at sejle en tur og udforske området fra vandet. Pionier tilbyder ikke kun en unik bolig, men også drømmen af en livstil.Pionier indeholder stue, spisestue i åben forbindelse med køkkenet og den gamle salon, der i dag er en kahyt med 2 sovepladser. Derudover en ekstra kahyt, badeværelse, toilet og motorrum.Hyggelig stue med brændeovn, maritim atmosfære, fantastisk udsigt og plads til hele familien. Skibet er fyldt med et væld af maritime detaljer. I hele skibet - både inde og ude - er der lagt maritime skibsgulve. Indenfor er der etableret fine høje paneler i det samme flotte træværk som i resten af interiøret. Derudover er der i spisestuen og salonen fine væglamper i glas specielt designet til Pionier, hvilket forestiller en muslingeskal magen til Shells logo fra 1930.Spisestuen, som vi kalder kabyssen, rummer både et fuldt udstyret køkken med ovn, komfur, køleskab og lille opvaskemaskine samt en hyggelig spiseafdeling.Salonen, som nu er indrettet som en kahyt med to sovepladser, har direkte udgang til en mindre agterbalkon med bænke, hvor du kan nyde en afslappende stund med udsigt over vandet.En ekstra kahyt med to sovepladser tilbyder endnu mere plads til overnattende gæster eller familie.Badeværelset er velholdt og udstyret med en stor bruseniche, fine armaturer, gulvvarme og et charmerende koøje.Det separate toilet er også veludstyret med en lille vask, fint armatur, gulvvarme og et koøje, hvilket sikrer en høj komfort ombord.Motorrummet står flot og både generator og motor er fuldstændig renoveret i februar 2024. Pionier er drevet af en kraftig 247 hestes DAF skibsmotor, hvilket sikrer at skibet sejler som en drøm.Pionier I blev bygget i 1930 på Boeles skibsværftet i Rotterdam og bestilt af Royal Dutch Petroleum (nu Shell) til brug for selskabets direktion. Med sit nittede og svejsede skrog samt en dieselmotor, var Pionier I en pionér inden for moderne skibskonstruktioner. Skibet blev brugt til at transportere Shells direktion og ledende medarbejdere mellem Vlaardingen og Pernis, og dets historie inkluderer prominente personer som Henri Deterding, \"Oliens Napoleon.\" Efter sin tjeneste for Shell blev Pionier I først brugt som lystfartøj og senere som restaurationsskib. I 2008 blev skibet nænsomt restaureret af arkitektfirmaet Plusform, og det fremstår nu stort set som i dets oprindelige glansperiode.Pionier I er mere end bare et skib; det er et stykke historie og en livsstil på vandet. Dette velholdte skib med flotte maritime detaljer venter på den rette ejer, der vil værdsætte den unikke charme og de mangeanvendelsesmuligheder, som Pionier I tilbyder.Velkommen ombord!</td>\n",
       "      <td>Pionier I - Smukt og velholdt skib med køkken, bad, wc og fantastisk udsigt</td>\n",
       "      <td>...</td>\n",
       "      <td>1897</td>\n",
       "      <td>16</td>\n",
       "      <td>{'includedInPrice': None}</td>\n",
       "      <td>1930</td>\n",
       "      <td>1.0</td>\n",
       "      <td>NaN</td>\n",
       "      <td>NaN</td>\n",
       "      <td>55.689972</td>\n",
       "      <td>12.606812</td>\n",
       "      <td>1.264838</td>\n",
       "    </tr>\n",
       "    <tr>\n",
       "      <th>33</th>\n",
       "      <td>{'self': {'href': '/cases/22d28e65-1f9d-49fe-ba2d-28192f601513'}}</td>\n",
       "      <td>{'_links': {'self': {'href': '/addresses/0a3f50bd-49f7-32b8-e044-0003ba298018'}}, 'addressID': '0a3f50bd-49f7-32b8-e044-0003ba298018', 'addressType': 'holiday house', 'allowNewValuationInfo': True, 'bfeNumbers': [746306], 'buildings': [{'bathroomCondition': 'Badeværelse i enheden', 'buildingName': 'Sommerhus', 'buildingNumber': '34', 'externalWallMaterial': 'Metal', 'heatingInstallation': 'Elvarme', 'housingArea': 104, 'kitchenCondition': 'Eget køkken med afløb', 'numberOfBathrooms': 2, 'numberOfFloors': 2, 'numberOfRooms': 4, 'numberOfToilets': 2, 'roofingMaterial': 'Metal', 'supplementaryHeating': 'Ovne til fast eller flydende brændsel', 'toiletCondition': 'Vandskyllende toilet i enheden', 'totalArea': 57, 'yearBuilt': 2008}], 'city': {'name': 'Hemmet', 'slug': 'hemmet'}, 'cityName': 'Hemmet', 'coordinates': {'lat': 55.850147, 'lon': 8.27942, 'type': 'EPSG4326'}, 'daysOnMarket': {'realtors': []}, 'energyLabelImprovement': {'improvementCase': 'FALLBACK', 'sparEnergiLink': 'https://sparenergi.dk/forbruger/boligen/traenger-din-bolig-til-renovering?utm_source=Boligsiden&amp;utm_medium=Banner&amp;utm_campaign=6'}, 'entryAddressID': '0a3f5091-38c4-32b8-e044-0003ba298018', 'gstkvhx': '07601311___7_______', 'houseNumber': '7', 'isPublic': True, 'latestValuation': 870000, 'livingArea': 104, 'municipality': {'churchTaxPercentage': 1.05, 'councilTaxPercentage': 25, 'districtPlanFrom': '2024-06-03', 'districtPlanPdfUrl': 'https://dokument.plandata.dk/20_11300020_1716880512713.pdf', 'landValueTaxLevelPerThousand': 31, 'masterPlanPdfUrl': 'https://dokument.plandata.dk/12_11300027_1716880768468.pdf', 'municipalityCode': 760, 'name': 'Ringkøbing-Skjern', 'numberOfSchools': 35, 'population': 56203, 'slug': 'ringkoebing-skjern'}, 'place': {'bbox': [8.265464, 55.815403, 8.372976, 55.861725], 'coordinates': {'lat': 55.850147, 'lon': 8.27942, 'type': 'EPSG4326'}, 'id': 660383, 'name': 'Nr Bork', 'slug': 'nr-bork'}, 'placeName': 'Nr Bork', 'propertyNumber': 7313, 'province': {'name': 'Vestjylland', 'provinceCode': 'DK041', 'regionCode': 1082, 'slug': 'vestjylland'}, 'road': {'municipalityCode': 760, 'name': 'Molen', 'roadCode': 1311, 'roadID': '551c61c7-cff4-4830-94e6-b827087dc808', 'slug': 'molen'}, 'roadName': 'Molen', 'slug': 'molen-7-6893-hemmet-07601311___7_______', 'weightedArea': 104, 'zip': {'name': 'Hemmet', 'slug': 'hemmet', 'zipCode': 6893}, 'zipCode': 6893}</td>\n",
       "      <td>holiday house</td>\n",
       "      <td>22d28e65-1f9d-49fe-ba2d-28192f601513</td>\n",
       "      <td>https://www.nybolig.dk/services/redirect/case/N230014/4406</td>\n",
       "      <td>{'lat': 55.850147, 'lon': 8.27942, 'type': 'EPSG4326'}</td>\n",
       "      <td>58</td>\n",
       "      <td>{'imageSources': [{'size': {'height': 80, 'width': 100}, 'url': 'https://images.boligsiden.dk/images/case/22d28e65-1f9d-49fe-ba2d-28192f601513/100x80/854eab33-d2e6-4552-8c4a-20a238f2558a.webp'}, {'size': {'height': 118, 'width': 143}, 'url': 'https://images.boligsiden.dk/images/case/22d28e65-1f9d-49fe-ba2d-28192f601513/143x118/854eab33-d2e6-4552-8c4a-20a238f2558a.webp'}, {'size': {'height': 200, 'width': 300}, 'url': 'https://images.boligsiden.dk/images/case/22d28e65-1f9d-49fe-ba2d-28192f601513/300x200/854eab33-d2e6-4552-8c4a-20a238f2558a.webp'}, {'size': {'height': 400, 'width': 600}, 'url': 'https://images.boligsiden.dk/images/case/22d28e65-1f9d-49fe-ba2d-28192f601513/600x400/854eab33-d2e6-4552-8c4a-20a238f2558a.webp'}, {'size': {'height': 600, 'width': 600}, 'url': 'https://images.boligsiden.dk/images/case/22d28e65-1f9d-49fe-ba2d-28192f601513/600x600/854eab33-d2e6-4552-8c4a-20a238f2558a.webp'}, {'size': {'height': 960, 'width': 1440}, 'url': 'https://images.boligsiden.dk/images/case/22d28e65-1f9d-49fe-ba2d-28192f601513/1440x960/854eab33-d2e6-4552-8c4a-20a238f2558a.webp'}]}</td>\n",
       "      <td>Drømmer du om en unik livsstil på vandet?Velkommen til Molen 7 ved Bork Havn – en fantastisk husbåd, der tilbyder en usammenlignelig oplevelse af livet på vandet. Denne enestående bolig kombinerer komfort og luksus med en fantastisk beliggenhed og panoramaudsigt.Denne husbåd byder på 3 rummelige og velindrettede værelser, der giver rigelig plads til hele familien eller dine nærmeste. De store vinduespartier sikrer masser af naturligt lys og en vidunderlig udsigt fra næsten alle rum.De to moderne</td>\n",
       "      <td>Skøn husbåd i Bork Havn</td>\n",
       "      <td>...</td>\n",
       "      <td>1750</td>\n",
       "      <td>11</td>\n",
       "      <td>{'includedInPrice': None}</td>\n",
       "      <td>2008</td>\n",
       "      <td>NaN</td>\n",
       "      <td>104.0</td>\n",
       "      <td>NaN</td>\n",
       "      <td>55.850147</td>\n",
       "      <td>8.279420</td>\n",
       "      <td>20.523609</td>\n",
       "    </tr>\n",
       "    <tr>\n",
       "      <th>34</th>\n",
       "      <td>{'self': {'href': '/cases/d86cc01d-d2e8-4e17-a236-c82f49fc537d'}}</td>\n",
       "      <td>{'_links': {'self': {'href': '/addresses/26e70f9e-c9f8-483e-b158-b6ea97e8fb4a'}}, 'addressID': '26e70f9e-c9f8-483e-b158-b6ea97e8fb4a', 'allowNewValuationInfo': True, 'city': {'name': 'København K', 'slug': 'koebenhavn-k'}, 'cityName': 'København K', 'coordinates': {'lat': 55.67984, 'lon': 12.601013, 'type': 'EPSG4326'}, 'daysOnMarket': {'realtors': []}, 'energyLabelImprovement': {'improvementCase': 'FALLBACK', 'sparEnergiLink': 'https://sparenergi.dk/forbruger/boligen/traenger-din-bolig-til-renovering?utm_source=Boligsiden&amp;utm_medium=Banner&amp;utm_campaign=6'}, 'entryAddressID': '64478a85-a1fd-4e86-bc17-6ccaebc9eab9', 'gstkvhx': '01017338___3_______', 'houseNumber': '3', 'isPublic': True, 'municipality': {'churchTaxPercentage': 0.8, 'councilTaxPercentage': 23.7, 'districtPlanFrom': '2024-06-28', 'districtPlanPdfUrl': 'https://dokument.plandata.dk/20_11186212_1719470578287.pdf', 'landValueTaxLevelPerThousand': 34, 'masterPlanPdfUrl': 'https://dokument.plandata.dk/12_11267550_1717402838438.pdf', 'municipalityCode': 101, 'name': 'København', 'numberOfSchools': 127, 'population': 644431, 'slug': 'koebenhavn'}, 'province': {'name': 'Byen København', 'provinceCode': 'DK011', 'regionCode': 1084, 'slug': 'byen-koebenhavn'}, 'road': {'municipalityCode': 101, 'name': 'Takkelloftvej', 'roadCode': 7338, 'roadID': '799c97d3-237a-4ed5-ac07-f442b4f4c9f3', 'slug': 'takkelloftvej'}, 'roadName': 'Takkelloftvej', 'slug': 'takkelloftvej-3-1437-koebenhavn-k-01017338___3_______', 'zip': {'group': 1000, 'name': 'København K', 'slug': 'koebenhavn-k', 'zipCode': 1437}, 'zipCode': 1437}</td>\n",
       "      <td>condo</td>\n",
       "      <td>d86cc01d-d2e8-4e17-a236-c82f49fc537d</td>\n",
       "      <td>https://www.nybolig.dk/services/redirect/case/N270123/N2701230000040</td>\n",
       "      <td>{'lat': 55.679836, 'lon': 12.60091, 'type': 'EPSG4326'}</td>\n",
       "      <td>61</td>\n",
       "      <td>{'imageSources': [{'size': {'height': 80, 'width': 100}, 'url': 'https://images.boligsiden.dk/images/case/d86cc01d-d2e8-4e17-a236-c82f49fc537d/100x80/c3b19678-93b2-4d6e-9ddb-afdf617d267f.webp'}, {'size': {'height': 118, 'width': 143}, 'url': 'https://images.boligsiden.dk/images/case/d86cc01d-d2e8-4e17-a236-c82f49fc537d/143x118/c3b19678-93b2-4d6e-9ddb-afdf617d267f.webp'}, {'size': {'height': 200, 'width': 300}, 'url': 'https://images.boligsiden.dk/images/case/d86cc01d-d2e8-4e17-a236-c82f49fc537d/300x200/c3b19678-93b2-4d6e-9ddb-afdf617d267f.webp'}, {'size': {'height': 400, 'width': 600}, 'url': 'https://images.boligsiden.dk/images/case/d86cc01d-d2e8-4e17-a236-c82f49fc537d/600x400/c3b19678-93b2-4d6e-9ddb-afdf617d267f.webp'}, {'size': {'height': 600, 'width': 600}, 'url': 'https://images.boligsiden.dk/images/case/d86cc01d-d2e8-4e17-a236-c82f49fc537d/600x600/c3b19678-93b2-4d6e-9ddb-afdf617d267f.webp'}, {'size': {'height': 960, 'width': 1440}, 'url': 'https://images.boligsiden.dk/images/case/d86cc01d-d2e8-4e17-a236-c82f49fc537d/1440x960/c3b19678-93b2-4d6e-9ddb-afdf617d267f.webp'}]}</td>\n",
       "      <td>Hvis I ynder at være omgivet af den friske luft og lyden af bølgeskvulp, så er det måske en husbåd, I skal investere i. Vi har nemlig fået den enestående mulighed at udbyde et helt fantastisk og topmoderne hjem, der ligger med én af de allerbedste placeringer i havnen: lige mellem Papirøen og Operaen og med den smukkeste udsigt over havnen til Amalienborg, Marmorkirken m.m. Aurora blev bygget i Belgien i 2006, hvor bygherre krævede den perfekte kombination af båd og bolig. Straks man stiger ombo</td>\n",
       "      <td>Sejlende husbåd med fast plads ved siden af Operaen</td>\n",
       "      <td>...</td>\n",
       "      <td>3552</td>\n",
       "      <td>35</td>\n",
       "      <td>{'includedInPrice': None}</td>\n",
       "      <td>2006</td>\n",
       "      <td>NaN</td>\n",
       "      <td>NaN</td>\n",
       "      <td>NaN</td>\n",
       "      <td>55.679836</td>\n",
       "      <td>12.600910</td>\n",
       "      <td>1.653597</td>\n",
       "    </tr>\n",
       "    <tr>\n",
       "      <th>35</th>\n",
       "      <td>{'self': {'href': '/cases/036f55be-c757-41e7-bced-7eafa73e5901'}}</td>\n",
       "      <td>{'_links': {'self': {'href': '/addresses/62b40964-08af-437f-9193-c0967ff8b3f7'}}, 'addressID': '62b40964-08af-437f-9193-c0967ff8b3f7', 'allowNewValuationInfo': True, 'city': {'name': 'København K', 'slug': 'koebenhavn-k'}, 'cityName': 'København K', 'daysOnMarket': {'realtors': []}, 'energyLabelImprovement': {'improvementCase': 'FALLBACK', 'sparEnergiLink': 'https://sparenergi.dk/forbruger/boligen/traenger-din-bolig-til-renovering?utm_source=Boligsiden&amp;utm_medium=Banner&amp;utm_campaign=6'}, 'houseNumber': '102z', 'isPublic': False, 'municipality': {'churchTaxPercentage': 0.8, 'councilTaxPercentage': 23.7, 'districtPlanFrom': '2024-06-28', 'districtPlanPdfUrl': 'https://dokument.plandata.dk/20_11186212_1719470578287.pdf', 'landValueTaxLevelPerThousand': 34, 'masterPlanPdfUrl': 'https://dokument.plandata.dk/12_11267550_1717402838438.pdf', 'municipalityCode': 101, 'name': 'København', 'numberOfSchools': 127, 'population': 644431, 'slug': 'koebenhavn'}, 'province': {'name': 'Byen København', 'provinceCode': 'DK011', 'regionCode': 1084, 'slug': 'byen-koebenhavn'}, 'road': {'municipalityCode': 101, 'name': 'Strandgade'}, 'roadName': 'Strandgade', 'slug': 'strandgade-102z-1401-koebenhavn-k-62b40964-08af-437f-9193-c0967ff8b3f7', 'zip': {'group': 1000, 'name': 'København K', 'slug': 'koebenhavn-k', 'zipCode': 1401}, 'zipCode': 1401}</td>\n",
       "      <td>condo</td>\n",
       "      <td>036f55be-c757-41e7-bced-7eafa73e5901</td>\n",
       "      <td>https://home.dk/sag/1340001480</td>\n",
       "      <td>{'lat': 55.67707, 'lon': 12.597699, 'type': 'EPSG4326'}</td>\n",
       "      <td>66</td>\n",
       "      <td>{'imageSources': [{'size': {'height': 80, 'width': 100}, 'url': 'https://images.boligsiden.dk/images/case/036f55be-c757-41e7-bced-7eafa73e5901/100x80/df661a0b-7035-47ba-aef3-f89146dd0353.webp'}, {'size': {'height': 118, 'width': 143}, 'url': 'https://images.boligsiden.dk/images/case/036f55be-c757-41e7-bced-7eafa73e5901/143x118/df661a0b-7035-47ba-aef3-f89146dd0353.webp'}, {'size': {'height': 200, 'width': 300}, 'url': 'https://images.boligsiden.dk/images/case/036f55be-c757-41e7-bced-7eafa73e5901/300x200/df661a0b-7035-47ba-aef3-f89146dd0353.webp'}, {'size': {'height': 400, 'width': 600}, 'url': 'https://images.boligsiden.dk/images/case/036f55be-c757-41e7-bced-7eafa73e5901/600x400/df661a0b-7035-47ba-aef3-f89146dd0353.webp'}, {'size': {'height': 600, 'width': 600}, 'url': 'https://images.boligsiden.dk/images/case/036f55be-c757-41e7-bced-7eafa73e5901/600x600/df661a0b-7035-47ba-aef3-f89146dd0353.webp'}, {'size': {'height': 960, 'width': 1440}, 'url': 'https://images.boligsiden.dk/images/case/036f55be-c757-41e7-bced-7eafa73e5901/1440x960/df661a0b-7035-47ba-aef3-f89146dd0353.webp'}]}</td>\n",
       "      <td>Husbåd.Få den ultimative frihed ved at kunne drage fra kaj og sejle jorden rundt – samtidig med at du har en eftertragtet bådplads på Christianshavn. Alt sammen med dette veludstyrede sejlskib. \\n\\nS/Y Valhalla er et tidligere skoleskib der har haft sine togter ved de afrikanske kyster, og har gennem de seneste 15 år gennemgået en nær totalrenovering, der resultere i en fuldt funktionel feriebolig med otte sovepladser, gulvvarme, genvækst system, bad og toilet samt køkken med blandt andet induk</td>\n",
       "      <td>Fuldt udstyret sejlskib med otte faste sovepladser</td>\n",
       "      <td>...</td>\n",
       "      <td>3152</td>\n",
       "      <td>59</td>\n",
       "      <td>{'includedInPrice': None}</td>\n",
       "      <td>1981</td>\n",
       "      <td>NaN</td>\n",
       "      <td>NaN</td>\n",
       "      <td>NaN</td>\n",
       "      <td>55.677070</td>\n",
       "      <td>12.597699</td>\n",
       "      <td>1.841517</td>\n",
       "    </tr>\n",
       "    <tr>\n",
       "      <th>36</th>\n",
       "      <td>{'self': {'href': '/cases/ef139eb3-769e-4f8e-9edc-b020c97e3dbb'}}</td>\n",
       "      <td>{'_links': {'self': {'href': '/addresses/f04fae90-a5f3-487d-b0bc-713fab06737e'}}, 'addressID': 'f04fae90-a5f3-487d-b0bc-713fab06737e', 'allowNewValuationInfo': True, 'city': {'name': 'København K', 'slug': 'koebenhavn-k'}, 'cityName': 'København K', 'coordinates': {'lat': 55.693443, 'lon': 12.60804, 'type': 'EPSG4326'}, 'daysOnMarket': {'realtors': []}, 'energyLabelImprovement': {'improvementCase': 'FALLBACK', 'sparEnergiLink': 'https://sparenergi.dk/forbruger/boligen/traenger-din-bolig-til-renovering?utm_source=Boligsiden&amp;utm_medium=Banner&amp;utm_campaign=6'}, 'entryAddressID': '112b87c1-350e-481a-8e33-854a2d719d21', 'gstkvhx': '01015772_169_______', 'houseNumber': '169', 'isPublic': True, 'municipality': {'churchTaxPercentage': 0.8, 'councilTaxPercentage': 23.7, 'districtPlanFrom': '2024-06-28', 'districtPlanPdfUrl': 'https://dokument.plandata.dk/20_11186212_1719470578287.pdf', 'landValueTaxLevelPerThousand': 34, 'masterPlanPdfUrl': 'https://dokument.plandata.dk/12_11267550_1717402838438.pdf', 'municipalityCode': 101, 'name': 'København', 'numberOfSchools': 127, 'population': 644431, 'slug': 'koebenhavn'}, 'province': {'name': 'Byen København', 'provinceCode': 'DK011', 'regionCode': 1084, 'slug': 'byen-koebenhavn'}, 'road': {'municipalityCode': 101, 'name': 'Refshalevej', 'roadCode': 5772, 'roadID': 'b666c681-1fcf-44f5-bdf8-87b65af4f244', 'slug': 'refshalevej'}, 'roadName': 'Refshalevej', 'slug': 'refshalevej-169-1432-koebenhavn-k-01015772_169_______', 'zip': {'group': 1000, 'name': 'København K', 'slug': 'koebenhavn-k', 'zipCode': 1432}, 'zipCode': 1432}</td>\n",
       "      <td>condo</td>\n",
       "      <td>ef139eb3-769e-4f8e-9edc-b020c97e3dbb</td>\n",
       "      <td>http://ekmanbolig.dk/koeb-bolig/bolig.aspx?shopid=1960&amp;caseno=14326321</td>\n",
       "      <td>{'lat': 55.69227, 'lon': 12.60841, 'type': 'EPSG4326'}</td>\n",
       "      <td>67</td>\n",
       "      <td>{'imageSources': [{'size': {'height': 80, 'width': 100}, 'url': 'https://images.boligsiden.dk/images/case/ef139eb3-769e-4f8e-9edc-b020c97e3dbb/100x80/3f16a960-9e27-4295-82e9-285cac25979d.webp'}, {'size': {'height': 118, 'width': 143}, 'url': 'https://images.boligsiden.dk/images/case/ef139eb3-769e-4f8e-9edc-b020c97e3dbb/143x118/3f16a960-9e27-4295-82e9-285cac25979d.webp'}, {'size': {'height': 200, 'width': 300}, 'url': 'https://images.boligsiden.dk/images/case/ef139eb3-769e-4f8e-9edc-b020c97e3dbb/300x200/3f16a960-9e27-4295-82e9-285cac25979d.webp'}, {'size': {'height': 400, 'width': 600}, 'url': 'https://images.boligsiden.dk/images/case/ef139eb3-769e-4f8e-9edc-b020c97e3dbb/600x400/3f16a960-9e27-4295-82e9-285cac25979d.webp'}, {'size': {'height': 600, 'width': 600}, 'url': 'https://images.boligsiden.dk/images/case/ef139eb3-769e-4f8e-9edc-b020c97e3dbb/600x600/3f16a960-9e27-4295-82e9-285cac25979d.webp'}, {'size': {'height': 960, 'width': 1440}, 'url': 'https://images.boligsiden.dk/images/case/ef139eb3-769e-4f8e-9edc-b020c97e3dbb/1440x960/3f16a960-9e27-4295-82e9-285cac25979d.webp'}]}</td>\n",
       "      <td>Udsigt til Kastellet, solide materialer, mange kvadratmeter og en fantastisk placering nær alt det bedste, som Refshaleøen har at byde på. Det er, hvad I får med denne husbåd på Refshalevej 169E. Her mødes I af et rødmalet fyrskib med dobbeltskrog bygget af fem centimeter tykke egeplanker, og indenfor venter en planløsning på intet mindre end 400 kvadratmeter. I sandhed en bolig med spændende muligheder for både udlejning og for at skabe et unikt drømmehjem med masser af plads.Husbådens hjerte er køkken-alrummet i forskibet, hvor egeplanker virkelig kommer til deres ret og bidrager til den herlige atmosfære i rummet, der har god plads til både en spiseafdeling og et blødt sofaarrangement til hyggestunderne. De resterende kvadratmeter fordeler sig mellem ti værelser og et rimeligt antal badeværelser og toiletter, hvilket gør husbåden til en oplagt investeringsejendom for købere, der ønsker at udvide portfolioen med en enestående udlejningsejendom. Har I derimod selv en drøm om at bo på vandet, kan I nemt tilpasse husbåden til jeres behov, åbne rummene op og skabe et hjem med fantastisk flow og en behagelig gennemstrømning af lys. Om sommeren kan I nyde det varme vejr på de to soldæk både for og agter på skibet, der lader jer følge solens bane og giver jer den skønneste udsigt over vandet til Langelinie og Kastellet.Refshaleøens maritime kvarterer byder på et væld af udsøgte spisesteder, kulturoplevelser og alskens fritidsaktiviteter, som spænder over alt fra klatring til kajakroning. Vandhunde kan bade i det nærliggende Refshalebassin, og voldenes dejlige natur indbyder til lange gå- og løbeture. Pendlingen til midtbyen klares hurtigt med bus, på cykel eller over vandet i havnebussen.Pt. er båden indrettet med 10 små værelser som er udlejet. Årlig leje udgør kr. 628.200,-Kontakt os for yderligere oplysninger og besigtigelse. Kai Ekman fra Ekman Bolig kan kontaktes på 22811033</td>\n",
       "      <td>Husbåd - Sjældent udbudt</td>\n",
       "      <td>...</td>\n",
       "      <td>5135</td>\n",
       "      <td>46</td>\n",
       "      <td>{'includedInPrice': None}</td>\n",
       "      <td>1877</td>\n",
       "      <td>NaN</td>\n",
       "      <td>NaN</td>\n",
       "      <td>NaN</td>\n",
       "      <td>55.692270</td>\n",
       "      <td>12.608410</td>\n",
       "      <td>1.333549</td>\n",
       "    </tr>\n",
       "    <tr>\n",
       "      <th>37</th>\n",
       "      <td>{'self': {'href': '/cases/bdcb9f7e-80e9-4834-b595-73c9c9ca4856'}}</td>\n",
       "      <td>{'_links': {'self': {'href': '/addresses/8acfe408-8b3e-451f-a4fe-01b780d97051'}}, 'addressID': '8acfe408-8b3e-451f-a4fe-01b780d97051', 'allowNewValuationInfo': True, 'city': {'name': 'Ishøj', 'slug': 'ishoej'}, 'cityName': 'Ishøj', 'daysOnMarket': {'realtors': []}, 'door': 'S02', 'energyLabelImprovement': {'improvementCase': 'FALLBACK', 'sparEnergiLink': 'https://sparenergi.dk/forbruger/boligen/traenger-din-bolig-til-renovering?utm_source=Boligsiden&amp;utm_medium=Banner&amp;utm_campaign=6'}, 'houseNumber': '13', 'isPublic': False, 'municipality': {'churchTaxPercentage': 0.9, 'councilTaxPercentage': 25, 'districtPlanFrom': '2023-12-20', 'districtPlanPdfUrl': 'https://dokument.plandata.dk/20_11186426_1702987072764.pdf', 'landValueTaxLevelPerThousand': 25, 'masterPlanPdfUrl': 'https://dokument.plandata.dk/12_11195828_1702992436420.pdf', 'municipalityCode': 183, 'name': 'Ishøj', 'numberOfSchools': 7, 'population': 23225, 'slug': 'ishoej'}, 'province': {'name': 'Københavns omegn', 'provinceCode': 'DK012', 'regionCode': 1084, 'slug': 'koebenhavns-omegn'}, 'road': {'municipalityCode': 183, 'name': 'Søhesten'}, 'roadName': 'Søhesten', 'slug': 'soehesten-13-s02-2635-ishoej-8acfe408-8b3e-451f-a4fe-01b780d97051', 'zip': {'name': 'Ishøj', 'slug': 'ishoej', 'zipCode': 2635}, 'zipCode': 2635}</td>\n",
       "      <td>condo</td>\n",
       "      <td>bdcb9f7e-80e9-4834-b595-73c9c9ca4856</td>\n",
       "      <td>https://home.dk/sag/1340001534</td>\n",
       "      <td>{'lat': 55.608906, 'lon': 12.39068, 'type': 'EPSG4326'}</td>\n",
       "      <td>76</td>\n",
       "      <td>{'imageSources': [{'size': {'height': 80, 'width': 100}, 'url': 'https://images.boligsiden.dk/images/case/bdcb9f7e-80e9-4834-b595-73c9c9ca4856/100x80/b48fc6f5-2729-441e-81fc-7893ea414ffb.webp'}, {'size': {'height': 118, 'width': 143}, 'url': 'https://images.boligsiden.dk/images/case/bdcb9f7e-80e9-4834-b595-73c9c9ca4856/143x118/b48fc6f5-2729-441e-81fc-7893ea414ffb.webp'}, {'size': {'height': 200, 'width': 300}, 'url': 'https://images.boligsiden.dk/images/case/bdcb9f7e-80e9-4834-b595-73c9c9ca4856/300x200/b48fc6f5-2729-441e-81fc-7893ea414ffb.webp'}, {'size': {'height': 400, 'width': 600}, 'url': 'https://images.boligsiden.dk/images/case/bdcb9f7e-80e9-4834-b595-73c9c9ca4856/600x400/b48fc6f5-2729-441e-81fc-7893ea414ffb.webp'}, {'size': {'height': 600, 'width': 600}, 'url': 'https://images.boligsiden.dk/images/case/bdcb9f7e-80e9-4834-b595-73c9c9ca4856/600x600/b48fc6f5-2729-441e-81fc-7893ea414ffb.webp'}, {'size': {'height': 960, 'width': 1440}, 'url': 'https://images.boligsiden.dk/images/case/bdcb9f7e-80e9-4834-b595-73c9c9ca4856/1440x960/b48fc6f5-2729-441e-81fc-7893ea414ffb.webp'}]}</td>\n",
       "      <td>Husbåd med andelsplads i Ishøj Havn.Så er det muligt at erhverve en skøn, sejlende husbåd, der i 2020 fik en gennemgående renovering, således er Hele skroget op til vandlinjen blevet med 10mm. ny glasfiber, incl. ny bundbehandling, alt på hoved dækket er blevet fornyet: køkken, loft, gulv, vægge og vinduer. 2 af 3 værelser har fået samme tur, under dæk er der lagt nye gulvtæpper og endelig er terrassen på flybridge genopbygget helt fra bunden.  \\n\\nIndretningen byder på stor stue/køkken/styrehus u</td>\n",
       "      <td>Sejlende husbåd i virkelig flot stand - renoveret i 2020</td>\n",
       "      <td>...</td>\n",
       "      <td>2566</td>\n",
       "      <td>33</td>\n",
       "      <td>{'includedInPrice': None}</td>\n",
       "      <td>1988</td>\n",
       "      <td>NaN</td>\n",
       "      <td>NaN</td>\n",
       "      <td>NaN</td>\n",
       "      <td>55.608906</td>\n",
       "      <td>12.390680</td>\n",
       "      <td>1.524183</td>\n",
       "    </tr>\n",
       "    <tr>\n",
       "      <th>38</th>\n",
       "      <td>{'self': {'href': '/cases/70398fad-5d81-4852-85cc-f0ebe8c1b8d1'}}</td>\n",
       "      <td>{'_links': {'self': {'href': '/addresses/0a3f50bd-49f9-32b8-e044-0003ba298018'}}, 'addressID': '0a3f50bd-49f9-32b8-e044-0003ba298018', 'addressType': 'holiday house', 'allowNewValuationInfo': True, 'bfeNumbers': [746308], 'buildings': [{'bathroomCondition': 'Badeværelse i enheden', 'buildingName': 'Sommerhus', 'buildingNumber': '13', 'externalWallMaterial': 'Metal', 'heatingInstallation': 'Elvarme', 'housingArea': 104, 'kitchenCondition': 'Eget køkken med afløb', 'numberOfBathrooms': 1, 'numberOfFloors': 2, 'numberOfRooms': 4, 'numberOfToilets': 1, 'roofingMaterial': 'Metal', 'supplementaryHeating': 'Ovne til fast eller flydende brændsel', 'toiletCondition': 'Vandskyllende toilet i enheden', 'totalArea': 57, 'yearBuilt': 2008}], 'city': {'name': 'Hemmet', 'slug': 'hemmet'}, 'cityName': 'Hemmet', 'coordinates': {'lat': 55.850296, 'lon': 8.2791395, 'type': 'EPSG4326'}, 'daysOnMarket': {'realtors': []}, 'energyLabelImprovement': {'improvementCase': 'FALLBACK', 'sparEnergiLink': 'https://sparenergi.dk/forbruger/boligen/traenger-din-bolig-til-renovering?utm_source=Boligsiden&amp;utm_medium=Banner&amp;utm_campaign=6'}, 'entryAddressID': '0a3f5091-38c6-32b8-e044-0003ba298018', 'gstkvhx': '07601311__11_______', 'houseNumber': '11', 'isPublic': True, 'livingArea': 104, 'municipality': {'churchTaxPercentage': 1.05, 'councilTaxPercentage': 25, 'districtPlanFrom': '2024-06-03', 'districtPlanPdfUrl': 'https://dokument.plandata.dk/20_11300020_1716880512713.pdf', 'landValueTaxLevelPerThousand': 31, 'masterPlanPdfUrl': 'https://dokument.plandata.dk/12_11300027_1716880768468.pdf', 'municipalityCode': 760, 'name': 'Ringkøbing-Skjern', 'numberOfSchools': 35, 'population': 56203, 'slug': 'ringkoebing-skjern'}, 'place': {'bbox': [8.265464, 55.815403, 8.372976, 55.861725], 'coordinates': {'lat': 55.850296, 'lon': 8.2791395, 'type': 'EPSG4326'}, 'id': 660383, 'name': 'Nr Bork', 'slug': 'nr-bork'}, 'placeName': 'Nr Bork', 'propertyNumber': 7315, 'province': {'name': 'Vestjylland', 'provinceCode': 'DK041', 'regionCode': 1082, 'slug': 'vestjylland'}, 'road': {'municipalityCode': 760, 'name': 'Molen', 'roadCode': 1311, 'roadID': '551c61c7-cff4-4830-94e6-b827087dc808', 'slug': 'molen'}, 'roadName': 'Molen', 'slug': 'molen-11-6893-hemmet-07601311__11_______', 'weightedArea': 104, 'zip': {'name': 'Hemmet', 'slug': 'hemmet', 'zipCode': 6893}, 'zipCode': 6893}</td>\n",
       "      <td>holiday house</td>\n",
       "      <td>70398fad-5d81-4852-85cc-f0ebe8c1b8d1</td>\n",
       "      <td>https://www.nybolig.dk/services/redirect/case/N230014/4413</td>\n",
       "      <td>{'lat': 55.850296, 'lon': 8.2791395, 'type': 'EPSG4326'}</td>\n",
       "      <td>77</td>\n",
       "      <td>{'imageSources': [{'size': {'height': 80, 'width': 100}, 'url': 'https://images.boligsiden.dk/images/case/70398fad-5d81-4852-85cc-f0ebe8c1b8d1/100x80/a28e85d5-2f59-4088-87cf-9822db8005bb.webp'}, {'size': {'height': 118, 'width': 143}, 'url': 'https://images.boligsiden.dk/images/case/70398fad-5d81-4852-85cc-f0ebe8c1b8d1/143x118/a28e85d5-2f59-4088-87cf-9822db8005bb.webp'}, {'size': {'height': 200, 'width': 300}, 'url': 'https://images.boligsiden.dk/images/case/70398fad-5d81-4852-85cc-f0ebe8c1b8d1/300x200/a28e85d5-2f59-4088-87cf-9822db8005bb.webp'}, {'size': {'height': 400, 'width': 600}, 'url': 'https://images.boligsiden.dk/images/case/70398fad-5d81-4852-85cc-f0ebe8c1b8d1/600x400/a28e85d5-2f59-4088-87cf-9822db8005bb.webp'}, {'size': {'height': 600, 'width': 600}, 'url': 'https://images.boligsiden.dk/images/case/70398fad-5d81-4852-85cc-f0ebe8c1b8d1/600x600/a28e85d5-2f59-4088-87cf-9822db8005bb.webp'}, {'size': {'height': 960, 'width': 1440}, 'url': 'https://images.boligsiden.dk/images/case/70398fad-5d81-4852-85cc-f0ebe8c1b8d1/1440x960/a28e85d5-2f59-4088-87cf-9822db8005bb.webp'}]}</td>\n",
       "      <td>Din drøm om at bo på vandet bliver til virkelighed med denne enestående husbåd, der pryder Molen 11 ved Bork Havn. Denne husbåd blev bygget i 2005 og tilbyder en usammenlignelig maritim oplevelse. Fra de tre terrasser kan du observere livet på fjorden, nyde den friske havluft og opleve den spektakulære panoramaudsigt, der strækker sig fra Tipperne fuglereservatet til sandklitterne ved Vesterhavet. Indendørs vil du finde et rummeligt og praktisk interiør, der opfylder dine behov på en imponerende</td>\n",
       "      <td>Hyggelig husbåd med skøn udsigt over Bork Havn</td>\n",
       "      <td>...</td>\n",
       "      <td>1774</td>\n",
       "      <td>21</td>\n",
       "      <td>{'includedInPrice': None}</td>\n",
       "      <td>2005</td>\n",
       "      <td>193906.0</td>\n",
       "      <td>104.0</td>\n",
       "      <td>NaN</td>\n",
       "      <td>55.850296</td>\n",
       "      <td>8.279139</td>\n",
       "      <td>20.513600</td>\n",
       "    </tr>\n",
       "    <tr>\n",
       "      <th>39</th>\n",
       "      <td>{'self': {'href': '/cases/8e39ae41-3749-4788-994d-0aa47ac8576b'}}</td>\n",
       "      <td>{'_links': {'self': {'href': '/addresses/2788e062-eeb3-4a8b-b071-58e07066b343'}}, 'addressID': '2788e062-eeb3-4a8b-b071-58e07066b343', 'allowNewValuationInfo': True, 'city': {'name': 'København SV', 'slug': 'koebenhavn-sv'}, 'cityName': 'København SV', 'coordinates': {'lat': 55.6541, 'lon': 12.554191, 'type': 'EPSG4326'}, 'daysOnMarket': {'realtors': []}, 'energyLabelImprovement': {'improvementCase': 'FALLBACK', 'sparEnergiLink': 'https://sparenergi.dk/forbruger/boligen/traenger-din-bolig-til-renovering?utm_source=Boligsiden&amp;utm_medium=Banner&amp;utm_campaign=6'}, 'entryAddressID': '87688917-1657-499a-b099-a8290120bcdb', 'gstkvhx': '01014354___1_______', 'houseNumber': '1', 'isPublic': True, 'livingArea': 140, 'municipality': {'churchTaxPercentage': 0.8, 'councilTaxPercentage': 23.7, 'districtPlanFrom': '2024-06-28', 'districtPlanPdfUrl': 'https://dokument.plandata.dk/20_11186212_1719470578287.pdf', 'landValueTaxLevelPerThousand': 34, 'masterPlanPdfUrl': 'https://dokument.plandata.dk/12_11267550_1717402838438.pdf', 'municipalityCode': 101, 'name': 'København', 'numberOfSchools': 127, 'population': 644431, 'slug': 'koebenhavn'}, 'propertyNumber': 986365, 'province': {'name': 'Byen København', 'provinceCode': 'DK011', 'regionCode': 1084, 'slug': 'byen-koebenhavn'}, 'registrations': [{'amount': 28000000, 'area': 140, 'date': '2014-05-27', 'municipalityCode': 101, 'propertyNumber': 986365, 'registrationID': '4637331', 'type': 'normal'}, {'amount': 46303811, 'date': '2010-12-28', 'municipalityCode': 101, 'propertyNumber': 986365, 'registrationID': '4259991', 'type': 'normal'}, {'amount': 46303811, 'date': '2004-06-18', 'municipalityCode': 101, 'propertyNumber': 986365, 'registrationID': '1683458', 'type': 'normal'}, {'amount': 17762500, 'date': '2002-10-07', 'municipalityCode': 101, 'propertyNumber': 986365, 'registrationID': '1424890', 'type': 'normal'}], 'road': {'municipalityCode': 101, 'name': 'Linus Paulings Vej', 'roadCode': 4354, 'roadID': 'e81bf6e0-c8bc-478c-aa1e-0b40959e8b79', 'slug': 'linus-paulings-vej'}, 'roadName': 'Linus Paulings Vej', 'slug': 'linus-paulings-vej-1-2450-koebenhavn-sv-01014354___1_______', 'zip': {'name': 'København SV', 'slug': 'koebenhavn-sv', 'zipCode': 2450}, 'zipCode': 2450}</td>\n",
       "      <td>villa</td>\n",
       "      <td>8e39ae41-3749-4788-994d-0aa47ac8576b</td>\n",
       "      <td>https://adamschnack.dk/sag.aspx?mgl=2896&amp;sagsnr=AS2152</td>\n",
       "      <td>{'lat': 55.6541, 'lon': 12.554191, 'type': 'EPSG4326'}</td>\n",
       "      <td>77</td>\n",
       "      <td>{'imageSources': [{'size': {'height': 80, 'width': 100}, 'url': 'https://images.boligsiden.dk/images/case/8e39ae41-3749-4788-994d-0aa47ac8576b/100x80/288b3cdb-50d7-48a1-b184-b223bca79677.webp'}, {'size': {'height': 118, 'width': 143}, 'url': 'https://images.boligsiden.dk/images/case/8e39ae41-3749-4788-994d-0aa47ac8576b/143x118/288b3cdb-50d7-48a1-b184-b223bca79677.webp'}, {'size': {'height': 200, 'width': 300}, 'url': 'https://images.boligsiden.dk/images/case/8e39ae41-3749-4788-994d-0aa47ac8576b/300x200/288b3cdb-50d7-48a1-b184-b223bca79677.webp'}, {'size': {'height': 400, 'width': 600}, 'url': 'https://images.boligsiden.dk/images/case/8e39ae41-3749-4788-994d-0aa47ac8576b/600x400/288b3cdb-50d7-48a1-b184-b223bca79677.webp'}, {'size': {'height': 600, 'width': 600}, 'url': 'https://images.boligsiden.dk/images/case/8e39ae41-3749-4788-994d-0aa47ac8576b/600x600/288b3cdb-50d7-48a1-b184-b223bca79677.webp'}, {'size': {'height': 960, 'width': 1440}, 'url': 'https://images.boligsiden.dk/images/case/8e39ae41-3749-4788-994d-0aa47ac8576b/1440x960/288b3cdb-50d7-48a1-b184-b223bca79677.webp'}]}</td>\n",
       "      <td>At bo i hus på vandet. Det er svært at forestille sig en bedre disponeret husbåd på 140m2, der forener livet på vandet med en moderne boligkomfort. Et hjem på vandet er en livsstil, hvor mulighederne er lig med drømmende. Drømmen om et morgendyp året rundt, eller sætte sig direkte i kajakken og sejle gennem kanalerne. Husbåden er skønt beliggende i hjertet af Teglholmen, der er et af de mest progressive kvarterer i København, der i hastige skridt er ved at udvikle sig til en af byens moderne oaser. Pakhuse, gammel industri og moderne beboelse forener sig på tværs af hinandens tilstedeværelse, mens kanalerne på kryds og tværs sætter rammen for et hyggeligt og charmerende husbådsmiljø. Husbåden er opført som en moderne luksusvilla med alt hvad man med rimelighed kan ønske sig. Entré til hyggeligt terrasseområde på ca. 25 m2, hvorfra der er adgang til bådens store og højloftede stue med brændeovn. Herfra trappe til repos, hyggeligt og moderne indrettet køkkenalrum med udgang til højere beliggende terrasseområde, som er uderum i sommerhalvåret. Fra repos er der udgang til det øverste dæk, som er indrettet som stor solterrasse på ca. 45 m2 med mulighed for udendørs køkken. Desuden toilet og depotrum/spisekammer. I bådens stueplan er der fra opholdsstuen mellemgang til fire værelser; tre gode værelser og et værelse med hems og indbygget vaskerum. Derudover walk-in og badeværelse med brus og toilet. Tilmed har husbåden et kælderrum på størrelse med stueplan. Boligkomforten her bliver kun understreget af, at der er gulvvarme i alle rum. Husbåden har en længde på 21,3 meter og en bredde på 7,7 meter. En gennemført lækker bolig for det pladskrævende par eller en familie, som ønsker at bo på vandet, midt i Teglholmen, tæt på Enghave Brygge metrostation, tæt på indkøb, tæt på centrum og alligevel langt fra byens hektiske liv.</td>\n",
       "      <td>NaN</td>\n",
       "      <td>...</td>\n",
       "      <td>3529</td>\n",
       "      <td>43</td>\n",
       "      <td>{'includedInPrice': None}</td>\n",
       "      <td>2016</td>\n",
       "      <td>1.0</td>\n",
       "      <td>NaN</td>\n",
       "      <td>NaN</td>\n",
       "      <td>55.654100</td>\n",
       "      <td>12.554191</td>\n",
       "      <td>1.171687</td>\n",
       "    </tr>\n",
       "    <tr>\n",
       "      <th>40</th>\n",
       "      <td>{'self': {'href': '/cases/14aecdae-15ce-4e22-86f8-055d4b8c0cfd'}}</td>\n",
       "      <td>{'_links': {'self': {'href': '/addresses/1192efa0-9dc9-448f-9589-7dc40e185cc2'}}, 'addressID': '1192efa0-9dc9-448f-9589-7dc40e185cc2', 'allowNewValuationInfo': True, 'city': {'name': 'København S', 'slug': 'koebenhavn-s'}, 'cityName': 'København S', 'coordinates': {'lat': 55.64129, 'lon': 12.5527115, 'type': 'EPSG4326'}, 'daysOnMarket': {'realtors': []}, 'energyLabelImprovement': {'improvementCase': 'FALLBACK', 'sparEnergiLink': 'https://sparenergi.dk/forbruger/boligen/traenger-din-bolig-til-renovering?utm_source=Boligsiden&amp;utm_medium=Banner&amp;utm_campaign=6'}, 'entryAddressID': '64709680-79f1-40cf-b862-a473e3985d47', 'gstkvhx': '01018090_53B_______', 'houseNumber': '53B', 'isPublic': True, 'municipality': {'churchTaxPercentage': 0.8, 'councilTaxPercentage': 23.7, 'districtPlanFrom': '2024-06-28', 'districtPlanPdfUrl': 'https://dokument.plandata.dk/20_11186212_1719470578287.pdf', 'landValueTaxLevelPerThousand': 34, 'masterPlanPdfUrl': 'https://dokument.plandata.dk/12_11267550_1717402838438.pdf', 'municipalityCode': 101, 'name': 'København', 'numberOfSchools': 127, 'population': 644431, 'slug': 'koebenhavn'}, 'province': {'name': 'Byen København', 'provinceCode': 'DK011', 'regionCode': 1084, 'slug': 'byen-koebenhavn'}, 'road': {'municipalityCode': 101, 'name': 'Ved Slusen', 'roadCode': 8090, 'roadID': '6dbadaf4-be9e-4598-86a0-4901a6eb8ea7', 'slug': 'ved-slusen'}, 'roadName': 'Ved Slusen', 'slug': 'ved-slusen-53b-2300-koebenhavn-s-01018090_53b_______', 'zip': {'name': 'København S', 'slug': 'koebenhavn-s', 'zipCode': 2300}, 'zipCode': 2300}</td>\n",
       "      <td>condo</td>\n",
       "      <td>14aecdae-15ce-4e22-86f8-055d4b8c0cfd</td>\n",
       "      <td>https://www.lokalbolig.dk/?sag=20-X0001377</td>\n",
       "      <td>{'lat': 55.64135, 'lon': 12.552788, 'type': 'EPSG4326'}</td>\n",
       "      <td>87</td>\n",
       "      <td>{'imageSources': [{'size': {'height': 80, 'width': 100}, 'url': 'https://images.boligsiden.dk/images/case/14aecdae-15ce-4e22-86f8-055d4b8c0cfd/100x80/7572d333-8736-4717-b7d2-604ff89cf0db.webp'}, {'size': {'height': 118, 'width': 143}, 'url': 'https://images.boligsiden.dk/images/case/14aecdae-15ce-4e22-86f8-055d4b8c0cfd/143x118/7572d333-8736-4717-b7d2-604ff89cf0db.webp'}, {'size': {'height': 200, 'width': 300}, 'url': 'https://images.boligsiden.dk/images/case/14aecdae-15ce-4e22-86f8-055d4b8c0cfd/300x200/7572d333-8736-4717-b7d2-604ff89cf0db.webp'}, {'size': {'height': 400, 'width': 600}, 'url': 'https://images.boligsiden.dk/images/case/14aecdae-15ce-4e22-86f8-055d4b8c0cfd/600x400/7572d333-8736-4717-b7d2-604ff89cf0db.webp'}, {'size': {'height': 600, 'width': 600}, 'url': 'https://images.boligsiden.dk/images/case/14aecdae-15ce-4e22-86f8-055d4b8c0cfd/600x600/7572d333-8736-4717-b7d2-604ff89cf0db.webp'}, {'size': {'height': 960, 'width': 1440}, 'url': 'https://images.boligsiden.dk/images/case/14aecdae-15ce-4e22-86f8-055d4b8c0cfd/1440x960/7572d333-8736-4717-b7d2-604ff89cf0db.webp'}]}</td>\n",
       "      <td>Moderniseret lejlighed på husbåd ved SluseløbetFlydende på vandet ved Slusen, et stensmut fra Amager Fælled, ligger denne husbåd, hvor I nu har mulighed for at bo på en anderledes måde. Båden er inddelt i tre lejligheder, og denne i midten er særdeles indbydende og moderne. Etagen over dæk er bygget til i 2015 og renoveret i 2021, og her venter et åbent køkken-alrum, mens etagen under dæk er indrettet med et værelse, en stue og et badeværelse. Dertil hører en flydende terrasse samt en tagterrass</td>\n",
       "      <td>Moderniseret lejlighed på husbåd ved Sluseløbet!</td>\n",
       "      <td>...</td>\n",
       "      <td>5469</td>\n",
       "      <td>121</td>\n",
       "      <td>{'includedInPrice': None}</td>\n",
       "      <td>1910</td>\n",
       "      <td>NaN</td>\n",
       "      <td>NaN</td>\n",
       "      <td>NaN</td>\n",
       "      <td>55.641350</td>\n",
       "      <td>12.552788</td>\n",
       "      <td>1.788627</td>\n",
       "    </tr>\n",
       "    <tr>\n",
       "      <th>41</th>\n",
       "      <td>{'self': {'href': '/cases/7326de30-d906-400e-815e-8d21200a2fe5'}}</td>\n",
       "      <td>{'_links': {'self': {'href': '/addresses/02e88cad-8309-4d45-b59b-a944b829b512'}}, 'addressID': '02e88cad-8309-4d45-b59b-a944b829b512', 'allowNewValuationInfo': True, 'buildings': [{'buildingName': 'Carport', 'buildingNumber': '11', 'externalWallMaterial': 'Metal', 'roofingMaterial': 'Metal', 'totalArea': 112, 'yearBuilt': 1990}, {'buildingName': 'Udhus', 'buildingNumber': '12', 'externalWallMaterial': 'Metal', 'roofingMaterial': 'Metal', 'totalArea': 39, 'yearBuilt': 1990}, {'buildingName': 'Udhus', 'buildingNumber': '15', 'externalWallMaterial': 'Metal', 'roofingMaterial': 'Metal', 'totalArea': 39, 'yearBuilt': 1990}, {'buildingName': 'Udhus', 'buildingNumber': '16', 'externalWallMaterial': 'Metal', 'roofingMaterial': 'Metal', 'totalArea': 15, 'yearBuilt': 1990}], 'city': {'name': 'København K', 'slug': 'koebenhavn-k'}, 'cityName': 'København K', 'coordinates': {'lat': 55.670937, 'lon': 12.581738, 'type': 'EPSG4326'}, 'daysOnMarket': {'realtors': []}, 'energyLabelImprovement': {'improvementCase': 'FALLBACK', 'sparEnergiLink': 'https://sparenergi.dk/forbruger/boligen/traenger-din-bolig-til-renovering?utm_source=Boligsiden&amp;utm_medium=Banner&amp;utm_campaign=6'}, 'entryAddressID': '0a3f507a-b3d7-32b8-e044-0003ba298018', 'gstkvhx': '01014140___1_______', 'houseNumber': '1', 'isPublic': True, 'municipality': {'churchTaxPercentage': 0.8, 'councilTaxPercentage': 23.7, 'districtPlanFrom': '2024-06-28', 'districtPlanPdfUrl': 'https://dokument.plandata.dk/20_11186212_1719470578287.pdf', 'landValueTaxLevelPerThousand': 34, 'masterPlanPdfUrl': 'https://dokument.plandata.dk/12_11267550_1717402838438.pdf', 'municipalityCode': 101, 'name': 'København', 'numberOfSchools': 127, 'population': 644431, 'slug': 'koebenhavn'}, 'province': {'name': 'Byen København', 'provinceCode': 'DK011', 'regionCode': 1084, 'slug': 'byen-koebenhavn'}, 'road': {'municipalityCode': 101, 'name': 'Langebrogade', 'roadCode': 4140, 'roadID': '7134e413-ca64-4d67-958b-012835f3c6fa', 'slug': 'langebrogade'}, 'roadName': 'Langebrogade', 'slug': 'langebrogade-1-1411-koebenhavn-k-01014140___1_______', 'zip': {'group': 1000, 'name': 'København K', 'slug': 'koebenhavn-k', 'zipCode': 1411}, 'zipCode': 1411}</td>\n",
       "      <td>villa</td>\n",
       "      <td>7326de30-d906-400e-815e-8d21200a2fe5</td>\n",
       "      <td>https://www.edc.dk/sag/?sagsnr=27703289</td>\n",
       "      <td>{'lat': 55.670937, 'lon': 12.581738, 'type': 'EPSG4326'}</td>\n",
       "      <td>101</td>\n",
       "      <td>{'imageSources': [{'size': {'height': 80, 'width': 100}, 'url': 'https://images.boligsiden.dk/images/case/7326de30-d906-400e-815e-8d21200a2fe5/100x80/719dae9d-0da4-422c-ae36-ab775e2cf6e4.webp'}, {'size': {'height': 118, 'width': 143}, 'url': 'https://images.boligsiden.dk/images/case/7326de30-d906-400e-815e-8d21200a2fe5/143x118/719dae9d-0da4-422c-ae36-ab775e2cf6e4.webp'}, {'size': {'height': 200, 'width': 300}, 'url': 'https://images.boligsiden.dk/images/case/7326de30-d906-400e-815e-8d21200a2fe5/300x200/719dae9d-0da4-422c-ae36-ab775e2cf6e4.webp'}, {'size': {'height': 400, 'width': 600}, 'url': 'https://images.boligsiden.dk/images/case/7326de30-d906-400e-815e-8d21200a2fe5/600x400/719dae9d-0da4-422c-ae36-ab775e2cf6e4.webp'}, {'size': {'height': 600, 'width': 600}, 'url': 'https://images.boligsiden.dk/images/case/7326de30-d906-400e-815e-8d21200a2fe5/600x600/719dae9d-0da4-422c-ae36-ab775e2cf6e4.webp'}, {'size': {'height': 960, 'width': 1440}, 'url': 'https://images.boligsiden.dk/images/case/7326de30-d906-400e-815e-8d21200a2fe5/1440x960/719dae9d-0da4-422c-ae36-ab775e2cf6e4.webp'}]}</td>\n",
       "      <td>Viva bedre kendt som Showboat fra tv-serien Klovn, er en af Københavns mest ikoniske og historiske restaurationsbåde. Beliggende langs havneforløbet på Langebrogade, giver denne unikke båd en enestående kombination af charme, historie og moderne komfort.\\nMed sin karakteristiske facade og imponerende beliggenhed ved vandet er Viva den ideelle restaurationsbåd til brug for større selskaber eller restaurant.  Denne smukt designede restaurationsbåd kombinerer det bedste fra to verdener: den maritime atmosfære og den pulserende bylivsstil. Her er der plads til både større og mindre selskaber.\\nIndvendigt byder Viva på et moderne og stilfuldt interiør, der samtidig bevarer sin autentiske charme. Hver detalje er omhyggeligt udvalgt for at skabe en indbydende og behagelig atmosfære, der indbyder til hyggelige arrangementer. Her træder man direkte ind til panoramaudsigt over kanalen og København By. Her bliver gæsterne budt velkommen til en unik og charmerende spiseoplevelse. \\nFra soldækket kan man nyde solnedgangen over vandet og observere det pulserende byliv, der passerer forbi. På soldækket er der endnu en bar, hvor gæsterne kan serviceres og med elevator direkte ned til køkkenet. Fantastisk tag soldæk med lounge møbler hvor kan slænge sig og nyde udsigten.  \\nI kælderen har man det store industrikøkken med et større kølerum og madelevator, som kan transportere maden til både stueetagen og dæk så man ikke skal op og ned ad trapperne. Dertil industri opvaskemaskine, med massere funktionel plads. Derudover byder kælderen på opbevaringsmuligheder og restaurantens 4 toiletter. Husbåd ombygget til restaurationsbåd\\n\\n\\n\\nVelkommen ombord.</td>\n",
       "      <td>Velkommen ombord på \"Viva\"</td>\n",
       "      <td>...</td>\n",
       "      <td>5496</td>\n",
       "      <td>96</td>\n",
       "      <td>{'includedInPrice': None}</td>\n",
       "      <td>1958</td>\n",
       "      <td>NaN</td>\n",
       "      <td>NaN</td>\n",
       "      <td>NaN</td>\n",
       "      <td>55.670937</td>\n",
       "      <td>12.581738</td>\n",
       "      <td>1.488367</td>\n",
       "    </tr>\n",
       "    <tr>\n",
       "      <th>42</th>\n",
       "      <td>{'self': {'href': '/cases/4e359c40-e0da-44fc-975a-73b713391aaa'}}</td>\n",
       "      <td>{'_links': {'self': {'href': '/addresses/87cdf76a-7af5-4751-8da7-9c621e70587d'}}, 'addressID': '87cdf76a-7af5-4751-8da7-9c621e70587d', 'addressType': 'villa', 'allowNewValuationInfo': True, 'bfeNumbers': [719549], 'buildings': [{'bathroomCondition': 'Badeværelse i enheden', 'buildingName': 'Fritliggende enfamilieshus (parcelhus)', 'buildingNumber': '28', 'externalWallMaterial': 'Træ', 'heatingInstallation': 'Varmepumpe', 'housingArea': 161, 'kitchenCondition': 'Eget køkken med afløb', 'numberOfBathrooms': 2, 'numberOfFloors': 1, 'numberOfKitchens': 1, 'numberOfRooms': 6, 'numberOfToilets': 2, 'roofingMaterial': 'Tagpap med stor hældning', 'toiletCondition': 'Vandskyllende toilet i enheden', 'totalArea': 94, 'yearBuilt': 2007}], 'city': {'name': 'Nykøbing Sj', 'slug': 'nykoebing-sj'}, 'cityName': 'Nykøbing Sj', 'coordinates': {'lat': 55.915054, 'lon': 11.676225, 'type': 'EPSG4326'}, 'daysOnMarket': {'realtors': []}, 'energyLabelImprovement': {'improvementCase': 'FALLBACK', 'sparEnergiLink': 'https://sparenergi.dk/forbruger/boligen/traenger-din-bolig-til-renovering?utm_source=Boligsiden&amp;utm_medium=Banner&amp;utm_campaign=6'}, 'entryAddressID': '39ece5fb-f031-0ee2-e044-0003ba298018', 'gstkvhx': '03060870_49C_______', 'houseNumber': '49C', 'isPublic': True, 'livingArea': 161, 'municipality': {'churchTaxPercentage': 0.98, 'councilTaxPercentage': 26.3, 'districtPlanFrom': '2024-06-04', 'districtPlanPdfUrl': 'https://dokument.plandata.dk/20_11300377_1717488791555.pdf', 'landValueTaxLevelPerThousand': 34, 'masterPlanPdfUrl': 'https://dokument.plandata.dk/12_11299765_1710234353814.pdf', 'municipalityCode': 306, 'name': 'Odsherred', 'numberOfSchools': 16, 'population': 32881, 'slug': 'odsherred'}, 'propertyNumber': 40026, 'province': {'name': 'Vest- og Sydsjælland', 'provinceCode': 'DK022', 'regionCode': 1085, 'slug': 'vest--og-sydsjaelland'}, 'road': {'municipalityCode': 306, 'name': 'Havnevej', 'roadCode': 870, 'roadID': '100b37b8-706e-4170-836a-e72b681322b7', 'slug': 'havnevej'}, 'roadName': 'Havnevej', 'slug': 'havnevej-49c-4500-nykoebing-sj-03060870_49c_______', 'weightedArea': 154.3, 'zip': {'name': 'Nykøbing Sj', 'slug': 'nykoebing-sj', 'zipCode': 4500}, 'zipCode': 4500}</td>\n",
       "      <td>villa</td>\n",
       "      <td>4e359c40-e0da-44fc-975a-73b713391aaa</td>\n",
       "      <td>http://www.pernillesams.dk/redirect.php?mgl=1320&amp;Sagsnr=22365</td>\n",
       "      <td>{'lat': 55.914936, 'lon': 11.676922, 'type': 'EPSG4326'}</td>\n",
       "      <td>103</td>\n",
       "      <td>{'imageSources': [{'size': {'height': 80, 'width': 100}, 'url': 'https://images.boligsiden.dk/images/case/4e359c40-e0da-44fc-975a-73b713391aaa/100x80/0d20ed90-b4a5-4115-933f-10a3f416ebb1.webp'}, {'size': {'height': 118, 'width': 143}, 'url': 'https://images.boligsiden.dk/images/case/4e359c40-e0da-44fc-975a-73b713391aaa/143x118/0d20ed90-b4a5-4115-933f-10a3f416ebb1.webp'}, {'size': {'height': 200, 'width': 300}, 'url': 'https://images.boligsiden.dk/images/case/4e359c40-e0da-44fc-975a-73b713391aaa/300x200/0d20ed90-b4a5-4115-933f-10a3f416ebb1.webp'}, {'size': {'height': 400, 'width': 600}, 'url': 'https://images.boligsiden.dk/images/case/4e359c40-e0da-44fc-975a-73b713391aaa/600x400/0d20ed90-b4a5-4115-933f-10a3f416ebb1.webp'}, {'size': {'height': 600, 'width': 600}, 'url': 'https://images.boligsiden.dk/images/case/4e359c40-e0da-44fc-975a-73b713391aaa/600x600/0d20ed90-b4a5-4115-933f-10a3f416ebb1.webp'}, {'size': {'height': 960, 'width': 1440}, 'url': 'https://images.boligsiden.dk/images/case/4e359c40-e0da-44fc-975a-73b713391aaa/1440x960/0d20ed90-b4a5-4115-933f-10a3f416ebb1.webp'}]}</td>\n",
       "      <td>På Havnevej 49C finder man denne fantastiske, men noget utraditionelle bolig, en helt særlig husbåd fra Waterliving. I modsætning til de fleste husbåde, er den bygget som bolig på vandet, og ikke en båd, som er ombygget til bolig. Dette kommer i særdeleshed til udtryk i indretningen, materialevalget, komforten, planløsningen, interiør, mv. Båden sejlede ud af værftet tilbage i 2006 og er isoleret efter daværende forhold - dvs. bedre end de fleste husbåde. Herudover er der gulvvarme og båden opvarmes med centralvarme via en varmepumpe - som man kender det fra moderne huse.Her er 160 m2 fordelt på stueplan og 1 sal. Her er ingen skråvægge samt en god lofthøjde og masser af lys fra de mange store vinduer. Dette er med til at gøre, at man får maksimal udbytte af omgivelserne og udsigten, uanset hvilket rum man befinder sig i. Der er adskillige udgange til terrasser, der omkranser boligen. Boligen har tre gode værelser samt stort køkken alrum, smuk hall samt to badeværelser. Der er koblet el, offentlig vand og kloak til båden, samt fibernet. Boligen er registeret skibsregisteret og er derfor flytbar, såfremt køber ønsker dette.Som brugsret til havnepladsen findes her to parkeringspladser, samt lille bådhus/udhus og et fællesareal med mulighed for grill og bålplads. Her er bænke mv. og må kun benyttes af områdets havepladslejere med i alt 8 husbåde. Her er et godt sammenhold husbådsejerne imellem med både sociale aktiviteter og praktisk hjælp til hinanden. Liebhaverboliger finder du hos ejendomsmægler Pernille Sams. Vi sælger liebhaveri i særklasse.</td>\n",
       "      <td>Moderne husbåd på områdets bedste kajplads - malerisk udsigt til fuglereservat og Isefjorden</td>\n",
       "      <td>...</td>\n",
       "      <td>2714</td>\n",
       "      <td>39</td>\n",
       "      <td>{'includedInPrice': None}</td>\n",
       "      <td>2007</td>\n",
       "      <td>1572.0</td>\n",
       "      <td>154.3</td>\n",
       "      <td>NaN</td>\n",
       "      <td>55.914936</td>\n",
       "      <td>11.676922</td>\n",
       "      <td>0.789428</td>\n",
       "    </tr>\n",
       "    <tr>\n",
       "      <th>43</th>\n",
       "      <td>{'self': {'href': '/cases/5f68ed1a-a294-4253-8123-8f5d2f9b655d'}}</td>\n",
       "      <td>{'_links': {'self': {'href': '/addresses/3c0b2ee1-9daa-40c6-bce0-2f9302c416de'}}, 'addressID': '3c0b2ee1-9daa-40c6-bce0-2f9302c416de', 'allowNewValuationInfo': True, 'bfeNumbers': [424049], 'buildings': [{'bathroomCondition': 'Badeværelse i enheden', 'buildingName': 'Etagebolig-bygning, flerfamiliehus eller tofamiliehus', 'buildingNumber': '7', 'externalWallMaterial': 'Betonelementer', 'heatingInstallation': 'Fjernvarme/blokvarme', 'housingArea': 117, 'kitchenCondition': 'Eget køkken med afløb', 'numberOfBathrooms': 1, 'numberOfFloors': 8, 'numberOfKitchens': 22, 'numberOfRooms': 4, 'numberOfToilets': 1, 'roofingMaterial': 'Tagpap med stor hældning', 'toiletCondition': 'Vandskyllende toilet i enheden', 'totalArea': 432, 'yearBuilt': 2016}], 'city': {'name': 'København SV', 'slug': 'koebenhavn-sv'}, 'cityName': 'København SV', 'coordinates': {'lat': 55.64631, 'lon': 12.544503, 'type': 'EPSG4326'}, 'daysOnMarket': {'realtors': []}, 'energyLabelImprovement': {'improvementCase': 'FALLBACK', 'sparEnergiLink': 'https://sparenergi.dk/forbruger/boligen/traenger-din-bolig-til-renovering?utm_source=Boligsiden&amp;utm_medium=Banner&amp;utm_campaign=6'}, 'entryAddressID': 'a0cf05ea-16a2-4124-b8d7-23a7c20d0804', 'floor': '6', 'gstkvhx': '01011958__2E__6____', 'houseNumber': '2E', 'isPublic': True, 'latestValuation': 3100000, 'livingArea': 117, 'municipality': {'churchTaxPercentage': 0.8, 'councilTaxPercentage': 23.7, 'districtPlanFrom': '2024-06-28', 'districtPlanPdfUrl': 'https://dokument.plandata.dk/20_11186212_1719470578287.pdf', 'landValueTaxLevelPerThousand': 34, 'masterPlanPdfUrl': 'https://dokument.plandata.dk/12_11267550_1717402838438.pdf', 'municipalityCode': 101, 'name': 'København', 'numberOfSchools': 127, 'population': 644431, 'slug': 'koebenhavn'}, 'propertyNumber': 21216, 'province': {'name': 'Byen København', 'provinceCode': 'DK011', 'regionCode': 1084, 'slug': 'byen-koebenhavn'}, 'registrations': [{'amount': 5055000, 'area': 117, 'date': '2017-05-09', 'municipalityCode': 101, 'propertyNumber': 21216, 'registrationID': '5011370', 'type': 'normal'}], 'road': {'municipalityCode': 101, 'name': 'Frederikskaj', 'roadCode': 1958, 'roadID': 'cfff4bbd-3438-404c-ac5b-41108d618c4f', 'slug': 'frederikskaj'}, 'roadName': 'Frederikskaj', 'slug': 'frederikskaj-2e-6-2450-koebenhavn-sv-01011958__2e__6____', 'zip': {'name': 'København SV', 'slug': 'koebenhavn-sv', 'zipCode': 2450}, 'zipCode': 2450}</td>\n",
       "      <td>condo</td>\n",
       "      <td>5f68ed1a-a294-4253-8123-8f5d2f9b655d</td>\n",
       "      <td>https://www.realmaeglerne.dk/301-redirect/?mgl=R134&amp;sagsnr=1343375</td>\n",
       "      <td>{'lat': 55.64631, 'lon': 12.544503, 'type': 'EPSG4326'}</td>\n",
       "      <td>116</td>\n",
       "      <td>{'imageSources': [{'size': {'height': 80, 'width': 100}, 'url': 'https://images.boligsiden.dk/images/case/5f68ed1a-a294-4253-8123-8f5d2f9b655d/100x80/e9a39c1c-f553-4a08-99a2-f24d96a8035a.webp'}, {'size': {'height': 118, 'width': 143}, 'url': 'https://images.boligsiden.dk/images/case/5f68ed1a-a294-4253-8123-8f5d2f9b655d/143x118/e9a39c1c-f553-4a08-99a2-f24d96a8035a.webp'}, {'size': {'height': 200, 'width': 300}, 'url': 'https://images.boligsiden.dk/images/case/5f68ed1a-a294-4253-8123-8f5d2f9b655d/300x200/e9a39c1c-f553-4a08-99a2-f24d96a8035a.webp'}, {'size': {'height': 400, 'width': 600}, 'url': 'https://images.boligsiden.dk/images/case/5f68ed1a-a294-4253-8123-8f5d2f9b655d/600x400/e9a39c1c-f553-4a08-99a2-f24d96a8035a.webp'}, {'size': {'height': 600, 'width': 600}, 'url': 'https://images.boligsiden.dk/images/case/5f68ed1a-a294-4253-8123-8f5d2f9b655d/600x600/e9a39c1c-f553-4a08-99a2-f24d96a8035a.webp'}, {'size': {'height': 960, 'width': 1440}, 'url': 'https://images.boligsiden.dk/images/case/5f68ed1a-a294-4253-8123-8f5d2f9b655d/1440x960/e9a39c1c-f553-4a08-99a2-f24d96a8035a.webp'}]}</td>\n",
       "      <td>Lejligheden: Når du træder ind i boligens entré, åbner det store, lyse køkken-alrum sig op foran dig. Store vinduespartier lukker det naturlige lys ind og byder det maritime nærmiljø velkommen. Stuen har udgang til begge boligens altaner, som er henholdsvis sydøst- og sydvestvendte, og sammenlagt byder de på mere end 20 kvm, oplagt til varme sommeraftener. Køkkenet står flot med hvide fronter samt gode hvidevarer. Du får rig mulighed for at indrette alrummet med både spisebord og sofaarrangement. Lejlighedens yderligere 3 værelser byder på mulighed for skabsplads, udsigt, og det ene værelse byder på et walk-in closet/depotrum. Til sidst får du et badeværelse med bruseniche samt vaskesøjle.Ejendommen: Lejligheden ligger i det arkitektoniske byggeri på Frederikskaj, tegnet af arkitekthuset Holscher Nordberg, hvor der er stor fokus på det maritime nærmiljø. Ejendommene er derfor designet, så alle får så god en udsigt som muligt. De grønne arealer er formet som en kyst med græsser og buske, som vi kender det fra kystlandskaber. Husbåde og bådpladser ved havnepromenaden er også med til at skabe den rigtige maritime stemning. Til bebyggelsen hører eget fælleshus, placeret på en mole ude i vandet. Fælleshuset indeholder blandt andet et stort festlokale samt gæstelejligheder med bad og et lille \"kajakhotel\", hvor der er sauna. Der er desuden mulighed for bådpladser.Området: Sydhavnen byder på mange indkøbsmuligheder samt masser af natur og vand. Hvis du hopper på cyklen, er der blot 10 minutter til Københavns Hovedbanegård, Fisketorvet, og let mulighed for at fortsætte længere ind mod indre by. Desuden ligger lejligheden ved siden af den nye Metro M5 med planlagt åbningsdag den 22. juni. Hvis du cykler igennem det Gamle Sydhavn, kommer du hurtigt til Valbyparken, som byder på ro i de grønne omgivelser.</td>\n",
       "      <td>Skøn 4-værelses lejlighed med vandudsigt!</td>\n",
       "      <td>...</td>\n",
       "      <td>2919</td>\n",
       "      <td>45</td>\n",
       "      <td>{'includedInPrice': None}</td>\n",
       "      <td>2016</td>\n",
       "      <td>NaN</td>\n",
       "      <td>NaN</td>\n",
       "      <td>NaN</td>\n",
       "      <td>55.646310</td>\n",
       "      <td>12.544503</td>\n",
       "      <td>1.049464</td>\n",
       "    </tr>\n",
       "    <tr>\n",
       "      <th>44</th>\n",
       "      <td>{'self': {'href': '/cases/e9f4f0f3-10e4-4748-8c7d-acb4126df1e3'}}</td>\n",
       "      <td>{'_links': {'self': {'href': '/addresses/26758225-ad6c-4026-a5db-6b4f060b09e3'}}, 'addressID': '26758225-ad6c-4026-a5db-6b4f060b09e3', 'allowNewValuationInfo': True, 'city': {'name': 'Ishøj', 'slug': 'ishoej'}, 'cityName': 'Ishøj', 'daysOnMarket': {'realtors': []}, 'energyLabelImprovement': {'improvementCase': 'FALLBACK', 'sparEnergiLink': 'https://sparenergi.dk/forbruger/boligen/traenger-din-bolig-til-renovering?utm_source=Boligsiden&amp;utm_medium=Banner&amp;utm_campaign=6'}, 'houseNumber': 'H091', 'isPublic': False, 'municipality': {'churchTaxPercentage': 0.9, 'councilTaxPercentage': 25, 'districtPlanFrom': '2023-12-20', 'districtPlanPdfUrl': 'https://dokument.plandata.dk/20_11186426_1702987072764.pdf', 'landValueTaxLevelPerThousand': 25, 'masterPlanPdfUrl': 'https://dokument.plandata.dk/12_11195828_1702992436420.pdf', 'municipalityCode': 183, 'name': 'Ishøj', 'numberOfSchools': 7, 'population': 23225, 'slug': 'ishoej'}, 'province': {'name': 'Københavns omegn', 'provinceCode': 'DK012', 'regionCode': 1084, 'slug': 'koebenhavns-omegn'}, 'road': {'municipalityCode': 183, 'name': 'Ishøj Havn'}, 'roadName': 'Ishøj Havn', 'slug': 'ishoej-havn-h091-2635-ishoej-26758225-ad6c-4026-a5db-6b4f060b09e3', 'zip': {'name': 'Ishøj', 'slug': 'ishoej', 'zipCode': 2635}, 'zipCode': 2635}</td>\n",
       "      <td>villa</td>\n",
       "      <td>e9f4f0f3-10e4-4748-8c7d-acb4126df1e3</td>\n",
       "      <td>http://www.and-living.dk/redirect.php?mgl=2827&amp;sagsnr=ALD00285</td>\n",
       "      <td>{'lat': 55.60794, 'lon': 12.388657, 'type': 'EPSG4326'}</td>\n",
       "      <td>116</td>\n",
       "      <td>{'imageSources': [{'size': {'height': 80, 'width': 100}, 'url': 'https://images.boligsiden.dk/images/case/e9f4f0f3-10e4-4748-8c7d-acb4126df1e3/100x80/7923b7a2-91ac-487a-bddd-ef94ff0ed60e.webp'}, {'size': {'height': 118, 'width': 143}, 'url': 'https://images.boligsiden.dk/images/case/e9f4f0f3-10e4-4748-8c7d-acb4126df1e3/143x118/7923b7a2-91ac-487a-bddd-ef94ff0ed60e.webp'}, {'size': {'height': 200, 'width': 300}, 'url': 'https://images.boligsiden.dk/images/case/e9f4f0f3-10e4-4748-8c7d-acb4126df1e3/300x200/7923b7a2-91ac-487a-bddd-ef94ff0ed60e.webp'}, {'size': {'height': 400, 'width': 600}, 'url': 'https://images.boligsiden.dk/images/case/e9f4f0f3-10e4-4748-8c7d-acb4126df1e3/600x400/7923b7a2-91ac-487a-bddd-ef94ff0ed60e.webp'}, {'size': {'height': 600, 'width': 600}, 'url': 'https://images.boligsiden.dk/images/case/e9f4f0f3-10e4-4748-8c7d-acb4126df1e3/600x600/7923b7a2-91ac-487a-bddd-ef94ff0ed60e.webp'}, {'size': {'height': 960, 'width': 1440}, 'url': 'https://images.boligsiden.dk/images/case/e9f4f0f3-10e4-4748-8c7d-acb4126df1e3/1440x960/7923b7a2-91ac-487a-bddd-ef94ff0ed60e.webp'}]}</td>\n",
       "      <td>Vi slynger ikke om os med fraser, ligesom vi ikke misbruger ord som \"unik\" for at tale en bolig op. I dette tilfælde er der dog god grund til at grave dybt efter alle de mest flatterende superlativer, for det er i sandhed en enestående sommerresidens, der nu kan blive jeres. Vuggende i Køge Bugt er \"Casa Fluentis\" fortøjet. Husbåden er et unikum, der forener livet på vandet med den rene luksus, og her venter foruden muligheden for at udforske de danske farvande rene linjer, æstetik og kvalitet fra inderst til yderst.Det flydende sommerhus i stål er bygget på Hvidesande Skibsværft, og det kræver blot et duelighedsbevis for at manøvrere skibet rundt langs kysten. Mens styrmanden tager sin tørn ved roret, kan resten af besætningen med fordel indtage en plads på det store soldæk, som omfavner enhver trang til at læne sig tilbage og bare nyde tilværelsen og øjeblikket. Et niveau længere nede har I ydermere en overdækket terrasse. De indre rammer står knivskarpe med et moderne og lyst udtryk. Køkkenet er fra Uno form med fingertappede fronter og lyst træ, og i åben forbindelse har I det resterende opholdsrum, hvor den evigt foranderlige udsigt til omgivelserne naturligvis er i centrum. Fordelingsgangen leder til et nydeligt badeværelse med brus samt to værelser med god plads, masser af udsigt og skabsløsninger. Med en husbåd som denne ligger verden for jeres fødder, og livet på havet kalder på eventyr, opdagelse og nye steder. Når I ikke er på farten, men ligger fast forankret, er det især de naturskønne omgivelser, der gør indtryk. Blikket kan glide over bølgerne i Køge Bugt eller finde ro i det stille vand i Lille Vejlesø på den anden side, hvor Strandengene ved Hundige og De Glemte Kæmper bryder det blå tæppe. Længere inde på fastlandet finder I offentlig transport, indkøbsmuligheder, svømmehal og meget mere inden for en radius af tre kilometer, og turen til hovedstaden kan på en god dag sågar tilbagelægges på cykel med under 18 kilometer til Hovedbanegården.</td>\n",
       "      <td>LIVSSTIL &amp; LUKSUS</td>\n",
       "      <td>...</td>\n",
       "      <td>2036</td>\n",
       "      <td>18</td>\n",
       "      <td>{'includedInPrice': None}</td>\n",
       "      <td>2008</td>\n",
       "      <td>NaN</td>\n",
       "      <td>NaN</td>\n",
       "      <td>NaN</td>\n",
       "      <td>55.607940</td>\n",
       "      <td>12.388657</td>\n",
       "      <td>1.623796</td>\n",
       "    </tr>\n",
       "    <tr>\n",
       "      <th>45</th>\n",
       "      <td>{'self': {'href': '/cases/d40b5216-7f6a-4880-a2bd-166f1686b1db'}}</td>\n",
       "      <td>{'_links': {'self': {'href': '/addresses/c987e599-210d-41d3-8485-b74be7ad63dd'}}, 'addressID': 'c987e599-210d-41d3-8485-b74be7ad63dd', 'allowNewValuationInfo': True, 'city': {'name': 'København K', 'slug': 'koebenhavn-k'}, 'cityName': 'København K', 'coordinates': {'lat': 55.685863, 'lon': 12.608955, 'type': 'EPSG4326'}, 'daysOnMarket': {'realtors': []}, 'energyLabelImprovement': {'improvementCase': 'FALLBACK', 'sparEnergiLink': 'https://sparenergi.dk/forbruger/boligen/traenger-din-bolig-til-renovering?utm_source=Boligsiden&amp;utm_medium=Banner&amp;utm_campaign=6'}, 'entryAddressID': 'afc4f991-4c6f-49a3-9cc2-5e5a95509dda', 'gstkvhx': '01013998__17_______', 'houseNumber': '17', 'isPublic': True, 'livingArea': 175, 'municipality': {'churchTaxPercentage': 0.8, 'councilTaxPercentage': 23.7, 'districtPlanFrom': '2024-06-28', 'districtPlanPdfUrl': 'https://dokument.plandata.dk/20_11186212_1719470578287.pdf', 'landValueTaxLevelPerThousand': 34, 'masterPlanPdfUrl': 'https://dokument.plandata.dk/12_11267550_1717402838438.pdf', 'municipalityCode': 101, 'name': 'København', 'numberOfSchools': 127, 'population': 644431, 'slug': 'koebenhavn'}, 'propertyNumber': 42090, 'province': {'name': 'Byen København', 'provinceCode': 'DK011', 'regionCode': 1084, 'slug': 'byen-koebenhavn'}, 'registrations': [{'amount': 9000000, 'area': 175, 'date': '1997-06-02', 'municipalityCode': 101, 'propertyNumber': 42090, 'registrationID': '509311', 'type': 'normal'}], 'road': {'municipalityCode': 101, 'name': 'Krudtløbsvej', 'roadCode': 3998, 'roadID': '6fd55cd8-e567-473f-adb4-f04cbf62da4b', 'slug': 'krudtloebsvej'}, 'roadName': 'Krudtløbsvej', 'slug': 'krudtloebsvej-17-1439-koebenhavn-k-01013998__17_______', 'zip': {'group': 1000, 'name': 'København K', 'slug': 'koebenhavn-k', 'zipCode': 1439}, 'zipCode': 1439}</td>\n",
       "      <td>holiday house</td>\n",
       "      <td>d40b5216-7f6a-4880-a2bd-166f1686b1db</td>\n",
       "      <td>http://www.eltoftnielsen.dk/default.aspx?mgl=2429&amp;sagsnr=115018</td>\n",
       "      <td>{'lat': 55.685863, 'lon': 12.608955, 'type': 'EPSG4326'}</td>\n",
       "      <td>121</td>\n",
       "      <td>{'imageSources': [{'size': {'height': 80, 'width': 100}, 'url': 'https://images.boligsiden.dk/images/case/d40b5216-7f6a-4880-a2bd-166f1686b1db/100x80/9ee0e4dd-e7a2-4ed1-b6b8-8aaea09306fe.webp'}, {'size': {'height': 118, 'width': 143}, 'url': 'https://images.boligsiden.dk/images/case/d40b5216-7f6a-4880-a2bd-166f1686b1db/143x118/9ee0e4dd-e7a2-4ed1-b6b8-8aaea09306fe.webp'}, {'size': {'height': 200, 'width': 300}, 'url': 'https://images.boligsiden.dk/images/case/d40b5216-7f6a-4880-a2bd-166f1686b1db/300x200/9ee0e4dd-e7a2-4ed1-b6b8-8aaea09306fe.webp'}, {'size': {'height': 400, 'width': 600}, 'url': 'https://images.boligsiden.dk/images/case/d40b5216-7f6a-4880-a2bd-166f1686b1db/600x400/9ee0e4dd-e7a2-4ed1-b6b8-8aaea09306fe.webp'}, {'size': {'height': 600, 'width': 600}, 'url': 'https://images.boligsiden.dk/images/case/d40b5216-7f6a-4880-a2bd-166f1686b1db/600x600/9ee0e4dd-e7a2-4ed1-b6b8-8aaea09306fe.webp'}, {'size': {'height': 960, 'width': 1440}, 'url': 'https://images.boligsiden.dk/images/case/d40b5216-7f6a-4880-a2bd-166f1686b1db/1440x960/9ee0e4dd-e7a2-4ed1-b6b8-8aaea09306fe.webp'}]}</td>\n",
       "      <td>Husbåd til livsnydere og jeres børn Denne husbåd er beliggende på en af Københavns historiske bastioner på Holmen, lige dér hvor forsvaret for flere hundrede år siden besluttede, at Københavns skulle forsvares fra. Her kunne man se ud over havet og ind over byen, så fjender kunne holdes på afstand. Beliggenheden ved kajen af Krudtløbsvej er noget helt for sig selv. Hvis man kan lide København, vil man elske denne placering. Her kan se ind over byen fra en vinkel, som det er de færreste forundt at kende, og endnu færre at leve med til daglig. Mens I har vandet som nærmeste nabo sammen med knap 30 andre husbåde, kan I se ind over hovedstaden. Husbåden \" Stenbidderen\" Det er den erfarne husbådsbyggers helt egen bolig, der nu udbydes til salg. Han har stået for mange af husbådene i København og har boet her med sin familie, som han har kræset for med en lang række detaljer. Mon ikke det virker plausibelt, at der på denne 28 meter lange og 5 meter brede båd er skruet ekstra op for lækkerierne. I får walkin-closets i to af boligens tre værelser. Skabe, toiletdøre og andet er designet som en integreret del af væggene. Armaturerne i badeværelset ses sjældent smartere og smukkere. Det samme gælder de 120x60 cm store, italienske fliser, eller den ovale bruser, der er bygget ind i loftet og designet med et vandfald, der passer nøjagtigt til skulderbredden af en normalbygget mand. Installationer er lavet, så de kan tilsluttes IHC-anlæg og dermed styres fra en smarttelefon. Køkkenet er af fabrikatet Kvik og tilpasset til bådens former. I er velkomne om bord til at se resten af denne særlige båd og bolig. Husbåden består af et jern skrog. Alle døre og vinduer er i lærketræ og taget er af glasfiber.</td>\n",
       "      <td>Husbåd til livsnydere og jeres børn</td>\n",
       "      <td>...</td>\n",
       "      <td>3806</td>\n",
       "      <td>42</td>\n",
       "      <td>{'includedInPrice': None}</td>\n",
       "      <td>1945</td>\n",
       "      <td>200.0</td>\n",
       "      <td>NaN</td>\n",
       "      <td>NaN</td>\n",
       "      <td>55.685863</td>\n",
       "      <td>12.608955</td>\n",
       "      <td>1.555154</td>\n",
       "    </tr>\n",
       "    <tr>\n",
       "      <th>46</th>\n",
       "      <td>{'self': {'href': '/cases/78740d58-24f5-4384-afd7-1ac2be025ffd'}}</td>\n",
       "      <td>{'_links': {'self': {'href': '/addresses/206c9ff1-501f-4b6f-a498-92ba9f89ebaa'}}, 'addressID': '206c9ff1-501f-4b6f-a498-92ba9f89ebaa', 'allowNewValuationInfo': True, 'city': {'name': 'København K', 'slug': 'koebenhavn-k'}, 'cityName': 'København K', 'coordinates': {'lat': 55.685547, 'lon': 12.609108, 'type': 'EPSG4326'}, 'daysOnMarket': {'realtors': []}, 'energyLabelImprovement': {'improvementCase': 'FALLBACK', 'sparEnergiLink': 'https://sparenergi.dk/forbruger/boligen/traenger-din-bolig-til-renovering?utm_source=Boligsiden&amp;utm_medium=Banner&amp;utm_campaign=6'}, 'entryAddressID': 'bc38cfcd-a53a-406d-b01f-404388fff7c8', 'gstkvhx': '01013998__15_______', 'houseNumber': '15', 'isPublic': True, 'municipality': {'churchTaxPercentage': 0.8, 'councilTaxPercentage': 23.7, 'districtPlanFrom': '2024-06-28', 'districtPlanPdfUrl': 'https://dokument.plandata.dk/20_11186212_1719470578287.pdf', 'landValueTaxLevelPerThousand': 34, 'masterPlanPdfUrl': 'https://dokument.plandata.dk/12_11267550_1717402838438.pdf', 'municipalityCode': 101, 'name': 'København', 'numberOfSchools': 127, 'population': 644431, 'slug': 'koebenhavn'}, 'province': {'name': 'Byen København', 'provinceCode': 'DK011', 'regionCode': 1084, 'slug': 'byen-koebenhavn'}, 'road': {'municipalityCode': 101, 'name': 'Krudtløbsvej', 'roadCode': 3998, 'roadID': '6fd55cd8-e567-473f-adb4-f04cbf62da4b', 'slug': 'krudtloebsvej'}, 'roadName': 'Krudtløbsvej', 'slug': 'krudtloebsvej-15-1439-koebenhavn-k-01013998__15_______', 'zip': {'group': 1000, 'name': 'København K', 'slug': 'koebenhavn-k', 'zipCode': 1439}, 'zipCode': 1439}</td>\n",
       "      <td>villa</td>\n",
       "      <td>78740d58-24f5-4384-afd7-1ac2be025ffd</td>\n",
       "      <td>http://www.eltoftnielsen.dk/default.aspx?mgl=2429&amp;sagsnr=IEN12975</td>\n",
       "      <td>{'lat': 55.685547, 'lon': 12.609108, 'type': 'EPSG4326'}</td>\n",
       "      <td>143</td>\n",
       "      <td>{'imageSources': [{'size': {'height': 80, 'width': 100}, 'url': 'https://images.boligsiden.dk/images/case/78740d58-24f5-4384-afd7-1ac2be025ffd/100x80/5e86c9a6-d54f-4e3d-895d-806761dca1a3.webp'}, {'size': {'height': 118, 'width': 143}, 'url': 'https://images.boligsiden.dk/images/case/78740d58-24f5-4384-afd7-1ac2be025ffd/143x118/5e86c9a6-d54f-4e3d-895d-806761dca1a3.webp'}, {'size': {'height': 200, 'width': 300}, 'url': 'https://images.boligsiden.dk/images/case/78740d58-24f5-4384-afd7-1ac2be025ffd/300x200/5e86c9a6-d54f-4e3d-895d-806761dca1a3.webp'}, {'size': {'height': 400, 'width': 600}, 'url': 'https://images.boligsiden.dk/images/case/78740d58-24f5-4384-afd7-1ac2be025ffd/600x400/5e86c9a6-d54f-4e3d-895d-806761dca1a3.webp'}, {'size': {'height': 600, 'width': 600}, 'url': 'https://images.boligsiden.dk/images/case/78740d58-24f5-4384-afd7-1ac2be025ffd/600x600/5e86c9a6-d54f-4e3d-895d-806761dca1a3.webp'}, {'size': {'height': 960, 'width': 1440}, 'url': 'https://images.boligsiden.dk/images/case/78740d58-24f5-4384-afd7-1ac2be025ffd/1440x960/5e86c9a6-d54f-4e3d-895d-806761dca1a3.webp'}]}</td>\n",
       "      <td>I den græske mytologi blev titaneren Atlas dømt til at bære himlen på sine skuldre til evig tid, fordi han tog den dumme beslutning at kæmpe i krigen mod Zeus, kongen over alle guder og gud over himmel og torden. Pyha, sikken titel, et imponerende visitkort. Men Atlas er også en husbåd med den livløse adresse Søminegraven med Quintus Bastionen på den ene side og flådestation Nyholms fredede bindingsværksbygninger på den anden. Når vi nu er i mytologiernes verden, så lad os da bare skabe en ny mytologi, en dansk mytologi: Husbåden Atlas er kongen over alle husbåde og gud over himmel og torden på Refshaleøen, som bekendt også lægger adresse til restauranterne NOMA og Alchemist. Som tidligere slæbebåd er Atlas i dag bygget om til en uforskammet anderledes Gud og bolig i 2 etager, på ca. 145 m2. En duplex vil landkrabberne kalde den på land. Atlas er tiptopisoleret med gulvvarme og et spritnyt luft-til-vand-varmepumpeanlæg. Nemlig, ingen kuldebroer, ingen vil ingensinde fryse her. Eneste bro er gangbroen fra kajen til dækket, som stort set fylder lige så meget som boligen under dæk. Den maritime stemning, ja, den er her med fortøjningspullerter, runde koøjer, skorsten, morselampe og teak-skylightet på agterdækket. Under dæk er der højt til loftet og de samme lækkerier som i en moderne bolig. Kompromisløst gennemført. Uden bopælspligt, bolig, erhverv, eller bolig og erhverv. Mulighed for privat parkering over for landgangen på den private og lukkede Krudtløbsvej.Alt i København er tæt på, især Christianshavn. Her er hyggelige caféer, gode restauranter, lækre butikker og en fantastisk opera. Vandet er så rent i kanalerne, at mange begynder dagen med en dukkert. Øen er anlagt som befæstningsø af Christian den 4. i begyndelsen af 1600-tallet og fik så stærk en kultur, at den i slutningen af 1630erne blev en selvstændig købstad med privilegier, byvåben og segl. Christianshavnernes markante tilhørsforhold til den lille ø lever i bedste velgående.</td>\n",
       "      <td>Atlas, en uforskammet anderledes Gud i kanalen...</td>\n",
       "      <td>...</td>\n",
       "      <td>5289</td>\n",
       "      <td>65</td>\n",
       "      <td>{'includedInPrice': None}</td>\n",
       "      <td>1958</td>\n",
       "      <td>30671.0</td>\n",
       "      <td>NaN</td>\n",
       "      <td>17.0</td>\n",
       "      <td>55.685547</td>\n",
       "      <td>12.609108</td>\n",
       "      <td>1.580589</td>\n",
       "    </tr>\n",
       "    <tr>\n",
       "      <th>47</th>\n",
       "      <td>{'self': {'href': '/cases/9c98521c-4a84-4805-b9e2-550add8659ab'}}</td>\n",
       "      <td>{'_links': {'self': {'href': '/addresses/e877db74-59c9-4b5f-ad30-40dd12749f96'}}, 'addressID': 'e877db74-59c9-4b5f-ad30-40dd12749f96', 'addressType': 'villa', 'allowNewValuationInfo': True, 'bfeNumbers': [700881], 'buildings': [{'bathroomCondition': 'Badeværelse i enheden', 'buildingName': 'Fritliggende enfamilieshus (parcelhus)', 'buildingNumber': '18', 'externalWallMaterial': 'Træ', 'heatingInstallation': 'Centralvarme med én fyringsenhed', 'housingArea': 80, 'kitchenCondition': 'Eget køkken med afløb', 'numberOfBathrooms': 1, 'numberOfFloors': 1, 'numberOfKitchens': 1, 'numberOfRooms': 4, 'numberOfToilets': 2, 'roofingMaterial': 'Andet materiale', 'toiletCondition': 'Vandskyllende toilet i enheden', 'totalArea': 80, 'yearBuilt': 2014}], 'city': {'name': 'København SV', 'slug': 'koebenhavn-sv'}, 'cityName': 'København SV', 'coordinates': {'lat': 55.659576, 'lon': 12.559762, 'type': 'EPSG4326'}, 'daysOnMarket': {'realtors': []}, 'energyLabelImprovement': {'improvementCase': 'FALLBACK', 'sparEnergiLink': 'https://sparenergi.dk/forbruger/boligen/traenger-din-bolig-til-renovering?utm_source=Boligsiden&amp;utm_medium=Banner&amp;utm_campaign=6'}, 'entryAddressID': '75ade738-275f-4300-9971-96985b9c30c6', 'gstkvhx': '01016448__22_______', 'houseNumber': '22', 'isPublic': True, 'latestValuation': 1250000, 'livingArea': 80, 'municipality': {'churchTaxPercentage': 0.8, 'councilTaxPercentage': 23.7, 'districtPlanFrom': '2024-06-28', 'districtPlanPdfUrl': 'https://dokument.plandata.dk/20_11186212_1719470578287.pdf', 'landValueTaxLevelPerThousand': 34, 'masterPlanPdfUrl': 'https://dokument.plandata.dk/12_11267550_1717402838438.pdf', 'municipalityCode': 101, 'name': 'København', 'numberOfSchools': 127, 'population': 644431, 'slug': 'koebenhavn'}, 'propertyNumber': 9347, 'province': {'name': 'Byen København', 'provinceCode': 'DK011', 'regionCode': 1084, 'slug': 'byen-koebenhavn'}, 'road': {'municipalityCode': 101, 'name': 'Skibbroen', 'roadCode': 6448, 'roadID': '6735f803-89ba-4e5e-8390-66d84b8e880a', 'slug': 'skibbroen'}, 'roadName': 'Skibbroen', 'slug': 'skibbroen-22-2450-koebenhavn-sv-01016448__22_______', 'weightedArea': 80, 'zip': {'name': 'København SV', 'slug': 'koebenhavn-sv', 'zipCode': 2450}, 'zipCode': 2450}</td>\n",
       "      <td>condo</td>\n",
       "      <td>9c98521c-4a84-4805-b9e2-550add8659ab</td>\n",
       "      <td>https://home.dk/sag/1340001449</td>\n",
       "      <td>{'lat': 55.659637, 'lon': 12.55983, 'type': 'EPSG4326'}</td>\n",
       "      <td>165</td>\n",
       "      <td>{'imageSources': [{'size': {'height': 80, 'width': 100}, 'url': 'https://images.boligsiden.dk/images/case/9c98521c-4a84-4805-b9e2-550add8659ab/100x80/58fc2232-5a26-4826-8a19-6907bae733b7.webp'}, {'size': {'height': 118, 'width': 143}, 'url': 'https://images.boligsiden.dk/images/case/9c98521c-4a84-4805-b9e2-550add8659ab/143x118/58fc2232-5a26-4826-8a19-6907bae733b7.webp'}, {'size': {'height': 200, 'width': 300}, 'url': 'https://images.boligsiden.dk/images/case/9c98521c-4a84-4805-b9e2-550add8659ab/300x200/58fc2232-5a26-4826-8a19-6907bae733b7.webp'}, {'size': {'height': 400, 'width': 600}, 'url': 'https://images.boligsiden.dk/images/case/9c98521c-4a84-4805-b9e2-550add8659ab/600x400/58fc2232-5a26-4826-8a19-6907bae733b7.webp'}, {'size': {'height': 600, 'width': 600}, 'url': 'https://images.boligsiden.dk/images/case/9c98521c-4a84-4805-b9e2-550add8659ab/600x600/58fc2232-5a26-4826-8a19-6907bae733b7.webp'}, {'size': {'height': 960, 'width': 1440}, 'url': 'https://images.boligsiden.dk/images/case/9c98521c-4a84-4805-b9e2-550add8659ab/1440x960/58fc2232-5a26-4826-8a19-6907bae733b7.webp'}]}</td>\n",
       "      <td>Husbåd. Velkommen til Skibbroen! Et område i København, der emmer af autenticitet og lokal stemning, men som også har nydt godt af en opblomstring, hvor moderne byggerier og praktiske hverdagsfaciliteter har fundet sin plads i det charmerende havnebillede. Her er indkøb, dagtilbud og skole alt sammen tæt på, hvortil havnebade ligger klar med masser af udendørsaktiviteter, mens Kødbyens mange restauranter er blot en kilometer fra adressen, og resten af byen nemt kan nås enten på cykel, med bus el</td>\n",
       "      <td>Fantastisk husbåd - 20 års opsigelse - masser af fællesskab</td>\n",
       "      <td>...</td>\n",
       "      <td>3528</td>\n",
       "      <td>57</td>\n",
       "      <td>{'includedInPrice': None}</td>\n",
       "      <td>1963</td>\n",
       "      <td>NaN</td>\n",
       "      <td>80.0</td>\n",
       "      <td>NaN</td>\n",
       "      <td>55.659637</td>\n",
       "      <td>12.559830</td>\n",
       "      <td>0.702713</td>\n",
       "    </tr>\n",
       "    <tr>\n",
       "      <th>48</th>\n",
       "      <td>{'self': {'href': '/cases/c5eef315-f2fe-43e3-aeca-e48da55ebc70'}}</td>\n",
       "      <td>{'_links': {'self': {'href': '/addresses/3dbbbfcf-5fff-4697-8f2c-f0be121ededa'}}, 'addressID': '3dbbbfcf-5fff-4697-8f2c-f0be121ededa', 'allowNewValuationInfo': True, 'bfeNumbers': [700876], 'boligsidenInfo': {'latestSoldArea': 70}, 'city': {'name': 'København SV', 'slug': 'koebenhavn-sv'}, 'cityName': 'København SV', 'coordinates': {'lat': 55.65944, 'lon': 12.559025, 'type': 'EPSG4326'}, 'daysOnMarket': {'realtors': []}, 'energyLabelImprovement': {'improvementCase': 'FALLBACK', 'sparEnergiLink': 'https://sparenergi.dk/forbruger/boligen/traenger-din-bolig-til-renovering?utm_source=Boligsiden&amp;utm_medium=Banner&amp;utm_campaign=6'}, 'entryAddressID': 'd90592e8-121a-4c20-91b6-72cad26ffd35', 'gstkvhx': '01016448__12_______', 'houseNumber': '12', 'isPublic': True, 'municipality': {'churchTaxPercentage': 0.8, 'councilTaxPercentage': 23.7, 'districtPlanFrom': '2024-06-28', 'districtPlanPdfUrl': 'https://dokument.plandata.dk/20_11186212_1719470578287.pdf', 'landValueTaxLevelPerThousand': 34, 'masterPlanPdfUrl': 'https://dokument.plandata.dk/12_11267550_1717402838438.pdf', 'municipalityCode': 101, 'name': 'København', 'numberOfSchools': 127, 'population': 644431, 'slug': 'koebenhavn'}, 'propertyNumber': 9341, 'province': {'name': 'Byen København', 'provinceCode': 'DK011', 'regionCode': 1084, 'slug': 'byen-koebenhavn'}, 'road': {'municipalityCode': 101, 'name': 'Skibbroen', 'roadCode': 6448, 'roadID': '6735f803-89ba-4e5e-8390-66d84b8e880a', 'slug': 'skibbroen'}, 'roadName': 'Skibbroen', 'slug': 'skibbroen-12-2450-koebenhavn-sv-01016448__12_______', 'zip': {'name': 'København SV', 'slug': 'koebenhavn-sv', 'zipCode': 2450}, 'zipCode': 2450}</td>\n",
       "      <td>condo</td>\n",
       "      <td>c5eef315-f2fe-43e3-aeca-e48da55ebc70</td>\n",
       "      <td>https://www.edc.dk/sag/?sagsnr=21606782</td>\n",
       "      <td>{'lat': 55.65944, 'lon': 12.559025, 'type': 'EPSG4326'}</td>\n",
       "      <td>169</td>\n",
       "      <td>{'imageSources': [{'size': {'height': 80, 'width': 100}, 'url': 'https://images.boligsiden.dk/images/case/c5eef315-f2fe-43e3-aeca-e48da55ebc70/100x80/7f7f6239-3feb-465e-a0e2-9034b11ac0af.webp'}, {'size': {'height': 118, 'width': 143}, 'url': 'https://images.boligsiden.dk/images/case/c5eef315-f2fe-43e3-aeca-e48da55ebc70/143x118/7f7f6239-3feb-465e-a0e2-9034b11ac0af.webp'}, {'size': {'height': 200, 'width': 300}, 'url': 'https://images.boligsiden.dk/images/case/c5eef315-f2fe-43e3-aeca-e48da55ebc70/300x200/7f7f6239-3feb-465e-a0e2-9034b11ac0af.webp'}, {'size': {'height': 400, 'width': 600}, 'url': 'https://images.boligsiden.dk/images/case/c5eef315-f2fe-43e3-aeca-e48da55ebc70/600x400/7f7f6239-3feb-465e-a0e2-9034b11ac0af.webp'}, {'size': {'height': 600, 'width': 600}, 'url': 'https://images.boligsiden.dk/images/case/c5eef315-f2fe-43e3-aeca-e48da55ebc70/600x600/7f7f6239-3feb-465e-a0e2-9034b11ac0af.webp'}, {'size': {'height': 960, 'width': 1440}, 'url': 'https://images.boligsiden.dk/images/case/c5eef315-f2fe-43e3-aeca-e48da55ebc70/1440x960/7f7f6239-3feb-465e-a0e2-9034b11ac0af.webp'}]}</td>\n",
       "      <td>Denne charmerende husbåd med tidligere anvendelse som kanalrundfart i Holland er beliggende i den hyggelige forening Skibbroen som blev stiftet i 1986 og altid har haft plads i det godt gemte havnebassin, Tømmergraven, i Københavns Sydhavn.Foreningens formål har fra starten været at restaurere og vedligeholde gamle skibe – og helst også få dem ud at sejle. Men efterhånden har foreningen fået et mere husbådsagtigt præg, så vi i dag består af 20 meget forskellige husbåde som ligger fast fortøjet og udelukkende fungerer som bolig.Ud over de 20 skibe, som er privat-ejede, råder foreningens medlemmer over en betonpram med fælles faciliteter som et stort værksted, vaskeri, toilet og bad, fællesrum med køkken samt gæsteværelse. Og så ligger havnens hyggeligste cafébåd i bunden af havnebassinet.Husbåden er indeholdende: God for-entre med mulighed for at indrette en spisestue samt nedgang til nedre dæk og et fantastisk værelse med ovenlysvindue og koøjer. Huset hjerte er klart det utrolige charmerende køkken og stue hvor idyllen fører an, her er brændeovn, dejlige store vinduespartier og bevarelse af mange fine originale detaljer. Badeværelse med brus og toilet. Fra stuen har du udgang til en hyggelig sydvendt terrasse og fra køkkenet nedgang til et dejligt stort soveværelse og stort depot/teknikrum med toilet. Foreningen Skibbroen har en lejekontrakt med Københavns Havn, i dag By og Havn, som er med hele 20 års uopsigelighed.Du er beliggende 350 meter fra Fisketorvet hvor der er biograf, indkøb, restauranter og hvad hjertet ellers begærer. Få hundrede meter fra bus og ca. 800 meter til Dybbølsbro st, og til sommer åbner Havneholmen Metro ved Fisketorvet.Når du køber en bolig gennem EDC, har du mulighed for at få en gratis flytteforsikring. Ønsker du denne, skal du sende en mail med \"Ja tak\" til flytteforsikring@gjensidige.dk</td>\n",
       "      <td>Chamerene husbåd i hyggelige omgivelser</td>\n",
       "      <td>...</td>\n",
       "      <td>3482</td>\n",
       "      <td>32</td>\n",
       "      <td>{'includedInPrice': None}</td>\n",
       "      <td>1915</td>\n",
       "      <td>NaN</td>\n",
       "      <td>NaN</td>\n",
       "      <td>NaN</td>\n",
       "      <td>55.659440</td>\n",
       "      <td>12.559025</td>\n",
       "      <td>0.690723</td>\n",
       "    </tr>\n",
       "    <tr>\n",
       "      <th>49</th>\n",
       "      <td>{'self': {'href': '/cases/901ca1a9-d961-4b53-8fb3-9b203e511281'}}</td>\n",
       "      <td>{'_links': {'self': {'href': '/addresses/670cbb31-6a79-4989-9cfd-7ccc64f064a6'}}, 'addressID': '670cbb31-6a79-4989-9cfd-7ccc64f064a6', 'allowNewValuationInfo': True, 'boligsidenInfo': {'latestSoldArea': 50}, 'city': {'name': 'København S', 'slug': 'koebenhavn-s'}, 'cityName': 'København S', 'coordinates': {'lat': 55.64196, 'lon': 12.553308, 'type': 'EPSG4326'}, 'daysOnMarket': {'realtors': []}, 'energyLabelImprovement': {'improvementCase': 'FALLBACK', 'sparEnergiLink': 'https://sparenergi.dk/forbruger/boligen/traenger-din-bolig-til-renovering?utm_source=Boligsiden&amp;utm_medium=Banner&amp;utm_campaign=6'}, 'entryAddressID': '75df73f2-f339-4043-b945-4acf7c0e58c0', 'gstkvhx': '01018090_32Z_______', 'houseNumber': '32Z', 'isPublic': True, 'municipality': {'churchTaxPercentage': 0.8, 'councilTaxPercentage': 23.7, 'districtPlanFrom': '2024-06-28', 'districtPlanPdfUrl': 'https://dokument.plandata.dk/20_11186212_1719470578287.pdf', 'landValueTaxLevelPerThousand': 34, 'masterPlanPdfUrl': 'https://dokument.plandata.dk/12_11267550_1717402838438.pdf', 'municipalityCode': 101, 'name': 'København', 'numberOfSchools': 127, 'population': 644431, 'slug': 'koebenhavn'}, 'province': {'name': 'Byen København', 'provinceCode': 'DK011', 'regionCode': 1084, 'slug': 'byen-koebenhavn'}, 'road': {'municipalityCode': 101, 'name': 'Ved Slusen', 'roadCode': 8090, 'roadID': '6dbadaf4-be9e-4598-86a0-4901a6eb8ea7', 'slug': 'ved-slusen'}, 'roadName': 'Ved Slusen', 'slug': 'ved-slusen-32z-2300-koebenhavn-s-01018090_32z_______', 'zip': {'name': 'København S', 'slug': 'koebenhavn-s', 'zipCode': 2300}, 'zipCode': 2300}</td>\n",
       "      <td>condo</td>\n",
       "      <td>901ca1a9-d961-4b53-8fb3-9b203e511281</td>\n",
       "      <td>https://home.dk/sag/1340001453</td>\n",
       "      <td>{'lat': 55.641235, 'lon': 12.553489, 'type': 'EPSG4326'}</td>\n",
       "      <td>175</td>\n",
       "      <td>{'imageSources': [{'size': {'height': 80, 'width': 100}, 'url': 'https://images.boligsiden.dk/images/case/901ca1a9-d961-4b53-8fb3-9b203e511281/100x80/83f91f20-547e-48d2-8931-e60cec637465.webp'}, {'size': {'height': 118, 'width': 143}, 'url': 'https://images.boligsiden.dk/images/case/901ca1a9-d961-4b53-8fb3-9b203e511281/143x118/83f91f20-547e-48d2-8931-e60cec637465.webp'}, {'size': {'height': 200, 'width': 300}, 'url': 'https://images.boligsiden.dk/images/case/901ca1a9-d961-4b53-8fb3-9b203e511281/300x200/83f91f20-547e-48d2-8931-e60cec637465.webp'}, {'size': {'height': 400, 'width': 600}, 'url': 'https://images.boligsiden.dk/images/case/901ca1a9-d961-4b53-8fb3-9b203e511281/600x400/83f91f20-547e-48d2-8931-e60cec637465.webp'}, {'size': {'height': 600, 'width': 600}, 'url': 'https://images.boligsiden.dk/images/case/901ca1a9-d961-4b53-8fb3-9b203e511281/600x600/83f91f20-547e-48d2-8931-e60cec637465.webp'}, {'size': {'height': 960, 'width': 1440}, 'url': 'https://images.boligsiden.dk/images/case/901ca1a9-d961-4b53-8fb3-9b203e511281/1440x960/83f91f20-547e-48d2-8931-e60cec637465.webp'}]}</td>\n",
       "      <td>Når du køber husbåd er selve pladsen mindst lige så vigtig som båden. At der er en lang opsigelse, en fast kontrakt med en klar beskrivelse af eventuelle lejestigninger og ikke mindst en troværdig udlejer. Så start med at fokuser på det når du drømmer om husbåd. Denne husbåd har en kontrakt med 20 års opsigelse, det fremgår af lokalplanen at der skal være husbåde i området, lejen er beskrevet meget præcist og endelig er det By &amp; Havn der er udlejer.Tag med til et smukt hjørne af storbyøen Amager</td>\n",
       "      <td>Skøn husbåd - 20 års kontrakt i denne havn</td>\n",
       "      <td>...</td>\n",
       "      <td>7142</td>\n",
       "      <td>137</td>\n",
       "      <td>{'includedInPrice': None}</td>\n",
       "      <td>1917</td>\n",
       "      <td>NaN</td>\n",
       "      <td>NaN</td>\n",
       "      <td>NaN</td>\n",
       "      <td>55.641235</td>\n",
       "      <td>12.553489</td>\n",
       "      <td>1.823760</td>\n",
       "    </tr>\n",
       "    <tr>\n",
       "      <th>50</th>\n",
       "      <td>{'self': {'href': '/cases/11d880e3-84dc-488a-a21b-c05848befef3'}}</td>\n",
       "      <td>{'_links': {'self': {'href': '/addresses/3d5046c5-3e4d-428a-9202-0931538bb6aa'}}, 'addressID': '3d5046c5-3e4d-428a-9202-0931538bb6aa', 'allowNewValuationInfo': True, 'bfeNumbers': [700828], 'city': {'name': 'København SV', 'slug': 'koebenhavn-sv'}, 'cityName': 'København SV', 'coordinates': {'lat': 55.647205, 'lon': 12.550493, 'type': 'EPSG4326'}, 'daysOnMarket': {'realtors': []}, 'energyLabelImprovement': {'improvementCase': 'FALLBACK', 'sparEnergiLink': 'https://sparenergi.dk/forbruger/boligen/traenger-din-bolig-til-renovering?utm_source=Boligsiden&amp;utm_medium=Banner&amp;utm_campaign=6'}, 'entryAddressID': '96bd0a76-8379-4d3f-af4a-1cf633645a72', 'gstkvhx': '01018823___3_______', 'houseNumber': '3', 'isPublic': True, 'municipality': {'churchTaxPercentage': 0.8, 'councilTaxPercentage': 23.7, 'districtPlanFrom': '2024-06-28', 'districtPlanPdfUrl': 'https://dokument.plandata.dk/20_11186212_1719470578287.pdf', 'landValueTaxLevelPerThousand': 34, 'masterPlanPdfUrl': 'https://dokument.plandata.dk/12_11267550_1717402838438.pdf', 'municipalityCode': 101, 'name': 'København', 'numberOfSchools': 127, 'population': 644431, 'slug': 'koebenhavn'}, 'propertyNumber': 24189, 'province': {'name': 'Byen København', 'provinceCode': 'DK011', 'regionCode': 1084, 'slug': 'byen-koebenhavn'}, 'road': {'municipalityCode': 101, 'name': 'Ben Websters Vej', 'roadCode': 8823, 'roadID': 'f6f8c792-01c8-4400-8a18-b8f6f52d0b59', 'slug': 'ben-websters-vej'}, 'roadName': 'Ben Websters Vej', 'slug': 'ben-websters-vej-3-2450-koebenhavn-sv-01018823___3_______', 'zip': {'name': 'København SV', 'slug': 'koebenhavn-sv', 'zipCode': 2450}, 'zipCode': 2450}</td>\n",
       "      <td>condo</td>\n",
       "      <td>11d880e3-84dc-488a-a21b-c05848befef3</td>\n",
       "      <td>https://home.dk/sag/1340001440</td>\n",
       "      <td>{'lat': 55.647243, 'lon': 12.550408, 'type': 'EPSG4326'}</td>\n",
       "      <td>182</td>\n",
       "      <td>{'imageSources': [{'size': {'height': 80, 'width': 100}, 'url': 'https://images.boligsiden.dk/images/case/11d880e3-84dc-488a-a21b-c05848befef3/100x80/6f35c4d7-7151-4b70-92aa-302cdcf579fd.webp'}, {'size': {'height': 118, 'width': 143}, 'url': 'https://images.boligsiden.dk/images/case/11d880e3-84dc-488a-a21b-c05848befef3/143x118/6f35c4d7-7151-4b70-92aa-302cdcf579fd.webp'}, {'size': {'height': 200, 'width': 300}, 'url': 'https://images.boligsiden.dk/images/case/11d880e3-84dc-488a-a21b-c05848befef3/300x200/6f35c4d7-7151-4b70-92aa-302cdcf579fd.webp'}, {'size': {'height': 400, 'width': 600}, 'url': 'https://images.boligsiden.dk/images/case/11d880e3-84dc-488a-a21b-c05848befef3/600x400/6f35c4d7-7151-4b70-92aa-302cdcf579fd.webp'}, {'size': {'height': 600, 'width': 600}, 'url': 'https://images.boligsiden.dk/images/case/11d880e3-84dc-488a-a21b-c05848befef3/600x600/6f35c4d7-7151-4b70-92aa-302cdcf579fd.webp'}, {'size': {'height': 960, 'width': 1440}, 'url': 'https://images.boligsiden.dk/images/case/11d880e3-84dc-488a-a21b-c05848befef3/1440x960/6f35c4d7-7151-4b70-92aa-302cdcf579fd.webp'}]}</td>\n",
       "      <td>På Ben Websters Vej lige ved Teglværksløbet finder man denne fantastiske, men noget utraditionelle bolig, en ekstravagant husbåd med et interiør, der emmer af kvalitetsbevidsthed og livsnydelse. \\nHer kan du indfri drømmen om at bo på vandet midt i byen, tilmed med masser af plads.\\n190 m2 bolig/erhverv kun 20 min. fra Rådhuspladsen og med fri udsigt til vand og himmel på alle sider...\\nLige nu har vi over dæk ét stort rum med maksimalt lysindfald, der er alle installationer til et køkken i den ene</td>\n",
       "      <td>Unik husbåd - skab din egen bolig på vand</td>\n",
       "      <td>...</td>\n",
       "      <td>4057</td>\n",
       "      <td>44</td>\n",
       "      <td>{'includedInPrice': None}</td>\n",
       "      <td>2000</td>\n",
       "      <td>NaN</td>\n",
       "      <td>NaN</td>\n",
       "      <td>NaN</td>\n",
       "      <td>55.647243</td>\n",
       "      <td>12.550408</td>\n",
       "      <td>1.181008</td>\n",
       "    </tr>\n",
       "    <tr>\n",
       "      <th>51</th>\n",
       "      <td>{'self': {'href': '/cases/0eb6cb66-fa06-429a-a759-da8e05eabf40'}}</td>\n",
       "      <td>{'_links': {'self': {'href': '/addresses/6df03516-3a65-433b-8eee-1862282bb184'}}, 'addressID': '6df03516-3a65-433b-8eee-1862282bb184', 'allowNewValuationInfo': True, 'bfeNumbers': [100302630], 'buildings': [{'bathroomCondition': 'Badeværelse i enheden', 'buildingName': 'Sommerhus', 'buildingNumber': '4', 'externalWallMaterial': 'Andet materiale', 'heatingInstallation': 'Varmepumpe', 'housingArea': 61, 'kitchenCondition': 'Eget køkken med afløb', 'numberOfBathrooms': 1, 'numberOfFloors': 1, 'numberOfRooms': 3, 'numberOfToilets': 1, 'roofingMaterial': 'Tagpap med lille hældning', 'toiletCondition': 'Vandskyllende toilet i enheden', 'totalArea': 61, 'yearBuilt': 2021}], 'city': {'name': 'Grenaa', 'slug': 'grenaa'}, 'cityName': 'Grenaa', 'coordinates': {'lat': 56.404488, 'lon': 10.923306, 'type': 'EPSG4326'}, 'daysOnMarket': {'realtors': []}, 'energyLabelImprovement': {'improvementCase': 'FALLBACK', 'sparEnergiLink': 'https://sparenergi.dk/forbruger/boligen/traenger-din-bolig-til-renovering?utm_source=Boligsiden&amp;utm_medium=Banner&amp;utm_campaign=6'}, 'entryAddressID': 'e3934c62-7235-4da8-a4fd-7a8adc4a1a48', 'gstkvhx': '07077040_50H_______', 'houseNumber': '50H', 'isPublic': True, 'livingArea': 61, 'municipality': {'churchTaxPercentage': 1, 'councilTaxPercentage': 26, 'districtPlanFrom': '2024-06-04', 'districtPlanPdfUrl': 'https://dokument.plandata.dk/20_11300166_1717485065762.pdf', 'landValueTaxLevelPerThousand': 34, 'masterPlanPdfUrl': 'https://dokument.plandata.dk/12_11249369_1715668972986.pdf', 'municipalityCode': 707, 'name': 'Norddjurs', 'numberOfSchools': 10, 'population': 36921, 'slug': 'norddjurs'}, 'propertyNumber': 0, 'province': {'name': 'Østjylland', 'provinceCode': 'DK042', 'regionCode': 1082, 'slug': 'oestjylland'}, 'road': {'municipalityCode': 707, 'name': 'Skakkes Holm', 'roadCode': 7040, 'roadID': 'e2327680-f292-494e-816f-968e005521e7', 'slug': 'skakkes-holm'}, 'roadName': 'Skakkes Holm', 'slug': 'skakkes-holm-50h-8500-grenaa-07077040_50h_______', 'weightedArea': 61, 'zip': {'name': 'Grenaa', 'slug': 'grenaa', 'zipCode': 8500}, 'zipCode': 8500}</td>\n",
       "      <td>holiday house</td>\n",
       "      <td>0eb6cb66-fa06-429a-a759-da8e05eabf40</td>\n",
       "      <td>https://home.dk/sag/6120000498</td>\n",
       "      <td>{'lat': 56.404488, 'lon': 10.923306, 'type': 'EPSG4326'}</td>\n",
       "      <td>186</td>\n",
       "      <td>{'imageSources': [{'size': {'height': 80, 'width': 100}, 'url': 'https://images.boligsiden.dk/images/case/0eb6cb66-fa06-429a-a759-da8e05eabf40/100x80/7458317f-5c37-4c2a-82cc-9fc6736a51c7.webp'}, {'size': {'height': 118, 'width': 143}, 'url': 'https://images.boligsiden.dk/images/case/0eb6cb66-fa06-429a-a759-da8e05eabf40/143x118/7458317f-5c37-4c2a-82cc-9fc6736a51c7.webp'}, {'size': {'height': 200, 'width': 300}, 'url': 'https://images.boligsiden.dk/images/case/0eb6cb66-fa06-429a-a759-da8e05eabf40/300x200/7458317f-5c37-4c2a-82cc-9fc6736a51c7.webp'}, {'size': {'height': 400, 'width': 600}, 'url': 'https://images.boligsiden.dk/images/case/0eb6cb66-fa06-429a-a759-da8e05eabf40/600x400/7458317f-5c37-4c2a-82cc-9fc6736a51c7.webp'}, {'size': {'height': 600, 'width': 600}, 'url': 'https://images.boligsiden.dk/images/case/0eb6cb66-fa06-429a-a759-da8e05eabf40/600x600/7458317f-5c37-4c2a-82cc-9fc6736a51c7.webp'}, {'size': {'height': 960, 'width': 1440}, 'url': 'https://images.boligsiden.dk/images/case/0eb6cb66-fa06-429a-a759-da8e05eabf40/1440x960/7458317f-5c37-4c2a-82cc-9fc6736a51c7.webp'}]}</td>\n",
       "      <td>Tag med til en skøn perle af en lystbådehavn - nemlig ved Grenaa Strand. Her er direkte udsyn til Kattegat hvor man ligeledes kan udfolde sig naturskønt i baghaven hvor Grenaa Plantage er beliggende, og hvor vandkanten ligger åben for jeres fødder. I disse fantastiske omgivelser kan I blive de heldige ejere af en virkelig lækker og rummelig husbåd ved navn Elin. Det er den helt perfekte husbåd for dig, der måske ikke har beskæftiget dig med husbåde før, for her køber du dig ind i en fantastisk o</td>\n",
       "      <td>Grenaa</td>\n",
       "      <td>...</td>\n",
       "      <td>3430</td>\n",
       "      <td>40</td>\n",
       "      <td>{'includedInPrice': None}</td>\n",
       "      <td>2021</td>\n",
       "      <td>NaN</td>\n",
       "      <td>61.0</td>\n",
       "      <td>NaN</td>\n",
       "      <td>56.404488</td>\n",
       "      <td>10.923306</td>\n",
       "      <td>81.574549</td>\n",
       "    </tr>\n",
       "    <tr>\n",
       "      <th>52</th>\n",
       "      <td>{'self': {'href': '/cases/cc1c250e-7a68-4ba1-b20f-0f4932e36a0e'}}</td>\n",
       "      <td>{'_links': {'self': {'href': '/addresses/32963604-bba6-4500-b716-19d6dc59ba67'}}, 'addressID': '32963604-bba6-4500-b716-19d6dc59ba67', 'allowNewValuationInfo': True, 'bfeNumbers': [100059905], 'city': {'name': 'København S', 'slug': 'koebenhavn-s'}, 'cityName': 'København S', 'coordinates': {'lat': 55.641228, 'lon': 12.553767, 'type': 'EPSG4326'}, 'daysOnMarket': {'realtors': []}, 'energyLabelImprovement': {'improvementCase': 'FALLBACK', 'sparEnergiLink': 'https://sparenergi.dk/forbruger/boligen/traenger-din-bolig-til-renovering?utm_source=Boligsiden&amp;utm_medium=Banner&amp;utm_campaign=6'}, 'entryAddressID': '9f44b91e-8a7b-4b0b-b4f3-d4c36196cae1', 'gstkvhx': '01018090__45_______', 'houseNumber': '45', 'isPublic': True, 'municipality': {'churchTaxPercentage': 0.8, 'councilTaxPercentage': 23.7, 'districtPlanFrom': '2024-06-28', 'districtPlanPdfUrl': 'https://dokument.plandata.dk/20_11186212_1719470578287.pdf', 'landValueTaxLevelPerThousand': 34, 'masterPlanPdfUrl': 'https://dokument.plandata.dk/12_11267550_1717402838438.pdf', 'municipalityCode': 101, 'name': 'København', 'numberOfSchools': 127, 'population': 644431, 'slug': 'koebenhavn'}, 'province': {'name': 'Byen København', 'provinceCode': 'DK011', 'regionCode': 1084, 'slug': 'byen-koebenhavn'}, 'road': {'municipalityCode': 101, 'name': 'Ved Slusen', 'roadCode': 8090, 'roadID': '6dbadaf4-be9e-4598-86a0-4901a6eb8ea7', 'slug': 'ved-slusen'}, 'roadName': 'Ved Slusen', 'slug': 'ved-slusen-45-2300-koebenhavn-s-01018090__45_______', 'zip': {'name': 'København S', 'slug': 'koebenhavn-s', 'zipCode': 2300}, 'zipCode': 2300}</td>\n",
       "      <td>villa</td>\n",
       "      <td>cc1c250e-7a68-4ba1-b20f-0f4932e36a0e</td>\n",
       "      <td>https://www.camillalindhard.dk/430000143</td>\n",
       "      <td>{'lat': 55.641357, 'lon': 12.553511, 'type': 'EPSG4326'}</td>\n",
       "      <td>196</td>\n",
       "      <td>{'imageSources': [{'size': {'height': 80, 'width': 100}, 'url': 'https://images.boligsiden.dk/images/case/cc1c250e-7a68-4ba1-b20f-0f4932e36a0e/100x80/09d49209-0855-411a-b33f-905216098c23.webp'}, {'size': {'height': 118, 'width': 143}, 'url': 'https://images.boligsiden.dk/images/case/cc1c250e-7a68-4ba1-b20f-0f4932e36a0e/143x118/09d49209-0855-411a-b33f-905216098c23.webp'}, {'size': {'height': 200, 'width': 300}, 'url': 'https://images.boligsiden.dk/images/case/cc1c250e-7a68-4ba1-b20f-0f4932e36a0e/300x200/09d49209-0855-411a-b33f-905216098c23.webp'}, {'size': {'height': 400, 'width': 600}, 'url': 'https://images.boligsiden.dk/images/case/cc1c250e-7a68-4ba1-b20f-0f4932e36a0e/600x400/09d49209-0855-411a-b33f-905216098c23.webp'}, {'size': {'height': 600, 'width': 600}, 'url': 'https://images.boligsiden.dk/images/case/cc1c250e-7a68-4ba1-b20f-0f4932e36a0e/600x600/09d49209-0855-411a-b33f-905216098c23.webp'}, {'size': {'height': 960, 'width': 1440}, 'url': 'https://images.boligsiden.dk/images/case/cc1c250e-7a68-4ba1-b20f-0f4932e36a0e/1440x960/09d49209-0855-411a-b33f-905216098c23.webp'}]}</td>\n",
       "      <td>Denne charmerende hollandske pram fra 1920 har gennemgået en kærlig renovering, og vi er stolteaf at præsentere den som en ægte perle i Københavns husbådekoloni med i alt 15 husbåde.  Foreningen har langtidskontrakt med 20 års opsigelse, hvilket sikrer bådpladsen i denne skønne havn. Området : Området er i rivende udvikling med helt ny skole, Sluseholm Skole, caféer, kommende Metro i 2024 i gå afstand, masser af gode indkøbsmuligheder og butikker på Sluseholmen, samt smuk natur og Amager Fælled</td>\n",
       "      <td>Drømmebolig på vandet - unik renoveret indflytningsklar husbåd i København, 20 års lejekontrakt.</td>\n",
       "      <td>...</td>\n",
       "      <td>3994</td>\n",
       "      <td>76</td>\n",
       "      <td>{'includedInPrice': None}</td>\n",
       "      <td>1920</td>\n",
       "      <td>NaN</td>\n",
       "      <td>NaN</td>\n",
       "      <td>NaN</td>\n",
       "      <td>55.641357</td>\n",
       "      <td>12.553511</td>\n",
       "      <td>1.813317</td>\n",
       "    </tr>\n",
       "    <tr>\n",
       "      <th>53</th>\n",
       "      <td>{'self': {'href': '/cases/222f1480-1f6d-4616-a417-7f07bfeefabe'}}</td>\n",
       "      <td>{'_links': {'self': {'href': '/addresses/e6d3676d-ab6a-4cf7-9749-032e0df1de2e'}}, 'addressID': 'e6d3676d-ab6a-4cf7-9749-032e0df1de2e', 'allowNewValuationInfo': True, 'bfeNumbers': [705502], 'boligsidenInfo': {'latestSoldArea': 32}, 'city': {'name': 'København S', 'slug': 'koebenhavn-s'}, 'cityName': 'København S', 'coordinates': {'lat': 55.642273, 'lon': 12.553643, 'type': 'EPSG4326'}, 'daysOnMarket': {'realtors': []}, 'energyLabelImprovement': {'improvementCase': 'FALLBACK', 'sparEnergiLink': 'https://sparenergi.dk/forbruger/boligen/traenger-din-bolig-til-renovering?utm_source=Boligsiden&amp;utm_medium=Banner&amp;utm_campaign=6'}, 'entryAddressID': '0a3f507b-1f9e-32b8-e044-0003ba298018', 'gstkvhx': '01018090__32_______', 'houseNumber': '32', 'isPublic': True, 'municipality': {'churchTaxPercentage': 0.8, 'councilTaxPercentage': 23.7, 'districtPlanFrom': '2024-06-28', 'districtPlanPdfUrl': 'https://dokument.plandata.dk/20_11186212_1719470578287.pdf', 'landValueTaxLevelPerThousand': 34, 'masterPlanPdfUrl': 'https://dokument.plandata.dk/12_11267550_1717402838438.pdf', 'municipalityCode': 101, 'name': 'København', 'numberOfSchools': 127, 'population': 644431, 'slug': 'koebenhavn'}, 'propertyNumber': 939707, 'province': {'name': 'Byen København', 'provinceCode': 'DK011', 'regionCode': 1084, 'slug': 'byen-koebenhavn'}, 'road': {'municipalityCode': 101, 'name': 'Ved Slusen', 'roadCode': 8090, 'roadID': '6dbadaf4-be9e-4598-86a0-4901a6eb8ea7', 'slug': 'ved-slusen'}, 'roadName': 'Ved Slusen', 'slug': 'ved-slusen-32-2300-koebenhavn-s-01018090__32_______', 'zip': {'name': 'København S', 'slug': 'koebenhavn-s', 'zipCode': 2300}, 'zipCode': 2300}</td>\n",
       "      <td>condo</td>\n",
       "      <td>222f1480-1f6d-4616-a417-7f07bfeefabe</td>\n",
       "      <td>https://home.dk/sag/1340001397</td>\n",
       "      <td>{'lat': 55.641544, 'lon': 12.551776, 'type': 'EPSG4326'}</td>\n",
       "      <td>246</td>\n",
       "      <td>{'imageSources': [{'size': {'height': 80, 'width': 100}, 'url': 'https://images.boligsiden.dk/images/case/222f1480-1f6d-4616-a417-7f07bfeefabe/100x80/cb0f67b7-e966-49b9-b0e4-56685b648e89.webp'}, {'size': {'height': 118, 'width': 143}, 'url': 'https://images.boligsiden.dk/images/case/222f1480-1f6d-4616-a417-7f07bfeefabe/143x118/cb0f67b7-e966-49b9-b0e4-56685b648e89.webp'}, {'size': {'height': 200, 'width': 300}, 'url': 'https://images.boligsiden.dk/images/case/222f1480-1f6d-4616-a417-7f07bfeefabe/300x200/cb0f67b7-e966-49b9-b0e4-56685b648e89.webp'}, {'size': {'height': 400, 'width': 600}, 'url': 'https://images.boligsiden.dk/images/case/222f1480-1f6d-4616-a417-7f07bfeefabe/600x400/cb0f67b7-e966-49b9-b0e4-56685b648e89.webp'}, {'size': {'height': 600, 'width': 600}, 'url': 'https://images.boligsiden.dk/images/case/222f1480-1f6d-4616-a417-7f07bfeefabe/600x600/cb0f67b7-e966-49b9-b0e4-56685b648e89.webp'}, {'size': {'height': 960, 'width': 1440}, 'url': 'https://images.boligsiden.dk/images/case/222f1480-1f6d-4616-a417-7f07bfeefabe/1440x960/cb0f67b7-e966-49b9-b0e4-56685b648e89.webp'}]}</td>\n",
       "      <td>HusbådTag med til et smukt hjørne af storbyøen Amager, hvor Amager Fælled udfolder sig naturskønt i baghaven, og hvor der er få hundrede meter til både den nye Metro station og folkeskole  på Sluseholmen. I disse fantastiske omgivelser kan I blive de heldige ejere af en virkelig lækker og rummelig husbåd ved navn My, som kan dateres tilbage til år 1891. Det er den helt perfekte husbåd for dig der måske ikke har beskæftiget dig med husbåde før, for her køber du dig ind i en part af en båd, så du</td>\n",
       "      <td>Virkelig stor husbåd - en af de bedste lejekontrakter i hele havnen</td>\n",
       "      <td>...</td>\n",
       "      <td>6088</td>\n",
       "      <td>151</td>\n",
       "      <td>{'includedInPrice': None}</td>\n",
       "      <td>1891</td>\n",
       "      <td>NaN</td>\n",
       "      <td>NaN</td>\n",
       "      <td>NaN</td>\n",
       "      <td>55.641544</td>\n",
       "      <td>12.551776</td>\n",
       "      <td>1.736150</td>\n",
       "    </tr>\n",
       "    <tr>\n",
       "      <th>54</th>\n",
       "      <td>{'self': {'href': '/cases/33d87aa7-d2f1-41d0-9fce-dd81359b6e1b'}}</td>\n",
       "      <td>{'_links': {'self': {'href': '/addresses/32f19510-9306-4486-9123-b52fa296bf62'}}, 'addressID': '32f19510-9306-4486-9123-b52fa296bf62', 'addressType': 'villa', 'allowNewValuationInfo': True, 'bfeNumbers': [700827, 100079699], 'boligsidenInfo': {'latestSoldArea': 103}, 'buildings': [{'bathroomCondition': 'Badeværelse i enheden', 'buildingName': 'Fritliggende enfamilieshus (parcelhus)', 'buildingNumber': '1', 'externalWallMaterial': 'Metal', 'heatingInstallation': 'Centralvarme med én fyringsenhed', 'housingArea': 103, 'kitchenCondition': 'Eget køkken med afløb', 'numberOfBathrooms': 1, 'numberOfFloors': 1, 'numberOfKitchens': 1, 'numberOfRooms': 6, 'numberOfToilets': 2, 'roofingMaterial': 'Metal', 'toiletCondition': 'Vandskyllende toilet i enheden', 'totalArea': 192, 'yearBuilt': 2017}], 'city': {'name': 'København SV', 'slug': 'koebenhavn-sv'}, 'cityName': 'København SV', 'coordinates': {'lat': 55.646744, 'lon': 12.545307, 'type': 'EPSG4326'}, 'daysOnMarket': {'realtors': []}, 'energyLabelImprovement': {'improvementCase': 'FALLBACK', 'sparEnergiLink': 'https://sparenergi.dk/forbruger/boligen/traenger-din-bolig-til-renovering?utm_source=Boligsiden&amp;utm_medium=Banner&amp;utm_campaign=6'}, 'entryAddressID': '990d60b5-d594-461b-8acd-7409c6f3c5b9', 'gstkvhx': '01011958__2V_______', 'houseNumber': '2V', 'isPublic': True, 'livingArea': 103, 'municipality': {'churchTaxPercentage': 0.8, 'councilTaxPercentage': 23.7, 'districtPlanFrom': '2024-06-28', 'districtPlanPdfUrl': 'https://dokument.plandata.dk/20_11186212_1719470578287.pdf', 'landValueTaxLevelPerThousand': 34, 'masterPlanPdfUrl': 'https://dokument.plandata.dk/12_11267550_1717402838438.pdf', 'municipalityCode': 101, 'name': 'København', 'numberOfSchools': 127, 'population': 644431, 'slug': 'koebenhavn'}, 'propertyNumber': 18231, 'province': {'name': 'Byen København', 'provinceCode': 'DK011', 'regionCode': 1084, 'slug': 'byen-koebenhavn'}, 'road': {'municipalityCode': 101, 'name': 'Frederikskaj', 'roadCode': 1958, 'roadID': 'cfff4bbd-3438-404c-ac5b-41108d618c4f', 'slug': 'frederikskaj'}, 'roadName': 'Frederikskaj', 'slug': 'frederikskaj-2v-2450-koebenhavn-sv-01011958__2v_______', 'weightedArea': 103, 'zip': {'name': 'København SV', 'slug': 'koebenhavn-sv', 'zipCode': 2450}, 'zipCode': 2450}</td>\n",
       "      <td>condo</td>\n",
       "      <td>33d87aa7-d2f1-41d0-9fce-dd81359b6e1b</td>\n",
       "      <td>https://www.edc.dk/sag/?sagsnr=21606583</td>\n",
       "      <td>{'lat': 55.646744, 'lon': 12.545307, 'type': 'EPSG4326'}</td>\n",
       "      <td>326</td>\n",
       "      <td>{'imageSources': [{'size': {'height': 80, 'width': 100}, 'url': 'https://images.boligsiden.dk/images/case/33d87aa7-d2f1-41d0-9fce-dd81359b6e1b/100x80/bc6c97d1-54cf-4697-9e82-33ceb1852a23.webp'}, {'size': {'height': 118, 'width': 143}, 'url': 'https://images.boligsiden.dk/images/case/33d87aa7-d2f1-41d0-9fce-dd81359b6e1b/143x118/bc6c97d1-54cf-4697-9e82-33ceb1852a23.webp'}, {'size': {'height': 200, 'width': 300}, 'url': 'https://images.boligsiden.dk/images/case/33d87aa7-d2f1-41d0-9fce-dd81359b6e1b/300x200/bc6c97d1-54cf-4697-9e82-33ceb1852a23.webp'}, {'size': {'height': 400, 'width': 600}, 'url': 'https://images.boligsiden.dk/images/case/33d87aa7-d2f1-41d0-9fce-dd81359b6e1b/600x400/bc6c97d1-54cf-4697-9e82-33ceb1852a23.webp'}, {'size': {'height': 600, 'width': 600}, 'url': 'https://images.boligsiden.dk/images/case/33d87aa7-d2f1-41d0-9fce-dd81359b6e1b/600x600/bc6c97d1-54cf-4697-9e82-33ceb1852a23.webp'}, {'size': {'height': 960, 'width': 1440}, 'url': 'https://images.boligsiden.dk/images/case/33d87aa7-d2f1-41d0-9fce-dd81359b6e1b/1440x960/bc6c97d1-54cf-4697-9e82-33ceb1852a23.webp'}]}</td>\n",
       "      <td>Vil du bo i HUSBÅD i Maritimt og lækkert nybygget område så er muligheden der på Frederikskaj 2V i Teglværkshavnen med havnepromenade, lystbådehavn, lækkert fælleshus, sauna og shelter på vandet. Her kan du bo blandt alle de nye flotte lejligheder men i en skøn og rummelig Husbåd ved navn MV Susanne. Dette er en unik mulighed da hun har en yderst attraktiv bådplads med en fantastisk udsigt over havnebassinet samtidigt med at det kun er et stenkast fra den kommende Metro, som efter planen er færdig i 2024. Frederikskaj er indbegrebet af maritim metropol med en beliggenhed tæt på Hovedstaden. Her er du beliggende optimalt, uanset om du skal ind til centrum eller ud af byen. F.eks. kommer du hurtigt på motorvejen, der fører direkte til Københavns Lufthavn, Malmø og ikke mindst resten af Danmark. Der er busstoppested lige udenfor bebyggelsen, Sydhavn Station samt havnebussen er indenfor kort afstand. Her er fantastiske bademuligheder, vinterbadelaug med flydende sauna samt kajakklub. Husbåden er indeholdende: Entre med adgang til stort og lækkert køkken alrum med plads til hele familien sammenhængende med en dejlig opholdsstue og rummeligt soveværelse med walk in closet. Fra køkkenet er der lille trappe til fint grovkøkken og bryggers samt adgang til opbevaringsrum. Lækkert badeværelse med jacuzzi og toilet, fra badeværelset er der adgang til hyggeligt værelse samt det oprindelige styrehus. Agterskibet bag styrehuset byder på stue og kahytter i oprindelig aptering. Husbådens dæk er indrettet som stort solterrasse og har et fantastisk kig over området og naturligvis vandet. Når du køber en bolig gennem EDC, har du mulighed for at få en gratis flytteforsikring. Ønsker du denne, skal du sende en mail med \"Ja tak\" til flytteforsikring@gjensidige.dk</td>\n",
       "      <td>Charmerende husbåd i lækkert nybygget område</td>\n",
       "      <td>...</td>\n",
       "      <td>11451</td>\n",
       "      <td>129</td>\n",
       "      <td>{'includedInPrice': None}</td>\n",
       "      <td>2017</td>\n",
       "      <td>NaN</td>\n",
       "      <td>103.0</td>\n",
       "      <td>NaN</td>\n",
       "      <td>55.646744</td>\n",
       "      <td>12.545307</td>\n",
       "      <td>1.030241</td>\n",
       "    </tr>\n",
       "    <tr>\n",
       "      <th>55</th>\n",
       "      <td>{'self': {'href': '/cases/1c8ac0e3-ea13-4122-adb5-ddb562faefc3'}}</td>\n",
       "      <td>{'_links': {'self': {'href': '/addresses/c6ad1490-b692-4187-873c-55fe8cbd5153'}}, 'addressID': 'c6ad1490-b692-4187-873c-55fe8cbd5153', 'allowNewValuationInfo': True, 'city': {'name': 'København S', 'slug': 'koebenhavn-s'}, 'cityName': 'København S', 'coordinates': {'lat': 55.64127, 'lon': 12.552835, 'type': 'EPSG4326'}, 'daysOnMarket': {'realtors': []}, 'energyLabelImprovement': {'improvementCase': 'FALLBACK', 'sparEnergiLink': 'https://sparenergi.dk/forbruger/boligen/traenger-din-bolig-til-renovering?utm_source=Boligsiden&amp;utm_medium=Banner&amp;utm_campaign=6'}, 'entryAddressID': '666dbe81-3a33-4ac3-968c-95a0d53a4e88', 'gstkvhx': '01018090_53A_______', 'houseNumber': '53A', 'isPublic': True, 'municipality': {'churchTaxPercentage': 0.8, 'councilTaxPercentage': 23.7, 'districtPlanFrom': '2024-06-28', 'districtPlanPdfUrl': 'https://dokument.plandata.dk/20_11186212_1719470578287.pdf', 'landValueTaxLevelPerThousand': 34, 'masterPlanPdfUrl': 'https://dokument.plandata.dk/12_11267550_1717402838438.pdf', 'municipalityCode': 101, 'name': 'København', 'numberOfSchools': 127, 'population': 644431, 'slug': 'koebenhavn'}, 'province': {'name': 'Byen København', 'provinceCode': 'DK011', 'regionCode': 1084, 'slug': 'byen-koebenhavn'}, 'road': {'municipalityCode': 101, 'name': 'Ved Slusen', 'roadCode': 8090, 'roadID': '6dbadaf4-be9e-4598-86a0-4901a6eb8ea7', 'slug': 'ved-slusen'}, 'roadName': 'Ved Slusen', 'slug': 'ved-slusen-53a-2300-koebenhavn-s-01018090_53a_______', 'zip': {'name': 'København S', 'slug': 'koebenhavn-s', 'zipCode': 2300}, 'zipCode': 2300}</td>\n",
       "      <td>condo</td>\n",
       "      <td>1c8ac0e3-ea13-4122-adb5-ddb562faefc3</td>\n",
       "      <td>https://www.lokalbolig.dk/?sag=20-X0001334</td>\n",
       "      <td>{'lat': 55.64135, 'lon': 12.552788, 'type': 'EPSG4326'}</td>\n",
       "      <td>378</td>\n",
       "      <td>{'imageSources': [{'size': {'height': 80, 'width': 100}, 'url': 'https://images.boligsiden.dk/images/case/1c8ac0e3-ea13-4122-adb5-ddb562faefc3/100x80/ba66f7ee-4a77-4b31-b858-061620aef508.webp'}, {'size': {'height': 118, 'width': 143}, 'url': 'https://images.boligsiden.dk/images/case/1c8ac0e3-ea13-4122-adb5-ddb562faefc3/143x118/ba66f7ee-4a77-4b31-b858-061620aef508.webp'}, {'size': {'height': 200, 'width': 300}, 'url': 'https://images.boligsiden.dk/images/case/1c8ac0e3-ea13-4122-adb5-ddb562faefc3/300x200/ba66f7ee-4a77-4b31-b858-061620aef508.webp'}, {'size': {'height': 400, 'width': 600}, 'url': 'https://images.boligsiden.dk/images/case/1c8ac0e3-ea13-4122-adb5-ddb562faefc3/600x400/ba66f7ee-4a77-4b31-b858-061620aef508.webp'}, {'size': {'height': 600, 'width': 600}, 'url': 'https://images.boligsiden.dk/images/case/1c8ac0e3-ea13-4122-adb5-ddb562faefc3/600x600/ba66f7ee-4a77-4b31-b858-061620aef508.webp'}, {'size': {'height': 960, 'width': 1440}, 'url': 'https://images.boligsiden.dk/images/case/1c8ac0e3-ea13-4122-adb5-ddb562faefc3/1440x960/ba66f7ee-4a77-4b31-b858-061620aef508.webp'}]}</td>\n",
       "      <td>Livet på en husbådPå Ved Slusen 53A ligger der en anseelig husbåd fortøjet, som består af 3 lejligheder. Det er i den bagerste lejlighed fra 2008 i flere plan, at du nu kan få hjemme. Boligen indeholder et køkken, et soveværelse, en stue og et badeværelse, hvorfor den er helt oplagt til singlen eller et ungt par. Beliggenheden er ufravigelig helt unik og ikke mindst naturskønt med Sluseløbet som din baghave og Amager Fælled på den anden sideDe originale koøjer fra 1910 giver stadig stil og charm</td>\n",
       "      <td>Livet på en husbåd</td>\n",
       "      <td>...</td>\n",
       "      <td>18121</td>\n",
       "      <td>374</td>\n",
       "      <td>{'includedInPrice': None}</td>\n",
       "      <td>1910</td>\n",
       "      <td>NaN</td>\n",
       "      <td>NaN</td>\n",
       "      <td>NaN</td>\n",
       "      <td>55.641350</td>\n",
       "      <td>12.552788</td>\n",
       "      <td>1.788627</td>\n",
       "    </tr>\n",
       "    <tr>\n",
       "      <th>56</th>\n",
       "      <td>{'self': {'href': '/cases/443189eb-f8db-4dfc-81ee-c00e8b4c6cbe'}}</td>\n",
       "      <td>{'_links': {'self': {'href': '/addresses/8bd38800-35ed-46b7-9bff-841f32575ccd'}}, 'addressID': '8bd38800-35ed-46b7-9bff-841f32575ccd', 'allowNewValuationInfo': True, 'city': {'name': 'Ærøskøbing', 'slug': 'aeroeskoebing'}, 'cityName': 'Ærøskøbing', 'daysOnMarket': {'realtors': []}, 'energyLabelImprovement': {'improvementCase': 'FALLBACK', 'sparEnergiLink': 'https://sparenergi.dk/forbruger/boligen/traenger-din-bolig-til-renovering?utm_source=Boligsiden&amp;utm_medium=Banner&amp;utm_campaign=6'}, 'isPublic': False, 'municipality': {'churchTaxPercentage': 1.07, 'councilTaxPercentage': 26.1, 'districtPlanFrom': '2024-05-22', 'districtPlanPdfUrl': 'https://dokument.plandata.dk/20_11282397_1716379772335.pdf', 'landValueTaxLevelPerThousand': 30, 'masterPlanPdfUrl': 'https://dokument.plandata.dk/12_11282394_1716379537403.pdf', 'municipalityCode': 492, 'name': 'Ærø', 'numberOfSchools': 2, 'population': 6025, 'slug': 'aeroe'}, 'province': {'name': 'Fyn', 'provinceCode': 'DK031', 'regionCode': 1083, 'slug': 'fyn'}, 'road': {'municipalityCode': 492, 'name': 'Ærøskøbing Havn, Bro 7'}, 'roadName': 'Ærøskøbing Havn, Bro 7', 'slug': 'aeroeskoebing-havn,-bro-7-5970-aeroeskoebing-8bd38800-35ed-46b7-9bff-841f32575ccd', 'zip': {'name': 'Ærøskøbing', 'slug': 'aeroeskoebing', 'zipCode': 5970}, 'zipCode': 5970}</td>\n",
       "      <td>holiday house</td>\n",
       "      <td>443189eb-f8db-4dfc-81ee-c00e8b4c6cbe</td>\n",
       "      <td>https://www.edc.dk/sag/?sagsnr=57207016</td>\n",
       "      <td>{'lat': 54.89034, 'lon': 10.413971, 'type': 'EPSG4326'}</td>\n",
       "      <td>487</td>\n",
       "      <td>{'imageSources': [{'size': {'height': 80, 'width': 100}, 'url': 'https://images.boligsiden.dk/images/case/443189eb-f8db-4dfc-81ee-c00e8b4c6cbe/100x80/3b0c1baa-abe3-4f8a-9600-a456dca573c4.webp'}, {'size': {'height': 118, 'width': 143}, 'url': 'https://images.boligsiden.dk/images/case/443189eb-f8db-4dfc-81ee-c00e8b4c6cbe/143x118/3b0c1baa-abe3-4f8a-9600-a456dca573c4.webp'}, {'size': {'height': 200, 'width': 300}, 'url': 'https://images.boligsiden.dk/images/case/443189eb-f8db-4dfc-81ee-c00e8b4c6cbe/300x200/3b0c1baa-abe3-4f8a-9600-a456dca573c4.webp'}, {'size': {'height': 400, 'width': 600}, 'url': 'https://images.boligsiden.dk/images/case/443189eb-f8db-4dfc-81ee-c00e8b4c6cbe/600x400/3b0c1baa-abe3-4f8a-9600-a456dca573c4.webp'}, {'size': {'height': 600, 'width': 600}, 'url': 'https://images.boligsiden.dk/images/case/443189eb-f8db-4dfc-81ee-c00e8b4c6cbe/600x600/3b0c1baa-abe3-4f8a-9600-a456dca573c4.webp'}, {'size': {'height': 960, 'width': 1440}, 'url': 'https://images.boligsiden.dk/images/case/443189eb-f8db-4dfc-81ee-c00e8b4c6cbe/1440x960/3b0c1baa-abe3-4f8a-9600-a456dca573c4.webp'}]}</td>\n",
       "      <td>Tiny-house med havudsigt!!- Sommerhus, eller studiebolig - der er masser af muligheder og så kan boligen endda leveres på valgfri adresse! - og der kan leveres flere…\\n\\n*her vist med ekstra udstyr! – Udstyret udgør i dette tilfælde de 2 ekstra sovepladser og kalechen til en merpris på 45.000,- kr. inkl. moms.. \\n\\n\\n\"Seaside Cabin\" er helt nyudviklet og produceret i bæredygtige, lækre, højkvalitets-materialer, i Danmark. De ca. 15 m2 indeholder rummelig helårsisoleret boligdel med alt hvad dertil hører, og skønt stort soldæk, hvor der er god plads til at 4 personer kan nyde havudsigten. I den nye Version nummer 2 er der indrettet markant større indendørs bolig, og alligevel er der fundet plads til stort soldæk\\n\\nSeaside Cabin i Version 2 er - indendørs - udstyret med et multifunktionelt sofaarrangement, som nemt kan ændres til to sovepladser, masser af skabs- og skuffe plads, der er køkken (kabys) med håndvask, køleskab og kogeplade (220V). Der forefindes desuden bad og toilet ombord, og boligen er naturligvis i det hele taget, udnyttet helt ud i alle hjørner. Og under kalechen der de 2 ekstra 175 cm. lange sovepladser - som om dagen er sofa -og i den denne version er der bagudgang, så man kan vende hele herligheden hvilken vej til kajen som man har lyst til\\nDet flydende sommerhus kan evt. give god indtjening ved udlejning af overskydende uger\\n\\n\\nDen fine nye lille bolig ligger nu i lystbådehavnen i charmerende Ærøskøbing på Bro 7, og en tilsvarende kan blive din på reserveret kajplads.\\n\\nFlere fakta:\\n\\n·\\t4 store solpaneler leverer strøm til at være selvforsynende i op til 7 måneder om året, og er udstyret med 220V ladestik, så landstrøm kan forsyne strøm til radiator og el-kogeplade ved behov.\\n\\n·\\tUdstyret med elmotor, og er godkendt af Søfartsstyrelsen til kystnær sejlads (sejlads op til 1500 meter fra kysten), og størrelsen gør at der, fra Søfartsstyrelsen, ikke kræves certifikat for at sejle den.\\n\\n·\\tIkke registreret som husbåd, men et selvfremdrevet fartøj, og dermed betragtet som en mindre motor- eller sejlbåd, hvilket giver adgang til en bådplads i havne, broer og marinaer som disse.\\n\\n·\\tIsoleret med 75 mm. Marine-Rockwool med tapet alufolie i skotter (vægge) og dæk (loft ) og med 150 mm. i dørk (gulv)\\n\\n·\\t\\n\\nVi glæder os til at vise frem, så tøv ikke med at kontakte os for en fremvisning!</td>\n",
       "      <td>Version 2 af: Tiny-House/Flydende sommerhus*</td>\n",
       "      <td>...</td>\n",
       "      <td>11761</td>\n",
       "      <td>89</td>\n",
       "      <td>{'includedInPrice': None}</td>\n",
       "      <td>2023</td>\n",
       "      <td>1.0</td>\n",
       "      <td>NaN</td>\n",
       "      <td>NaN</td>\n",
       "      <td>54.890340</td>\n",
       "      <td>10.413971</td>\n",
       "      <td>0.162843</td>\n",
       "    </tr>\n",
       "    <tr>\n",
       "      <th>57</th>\n",
       "      <td>{'self': {'href': '/cases/e0128a72-e6c6-4861-920b-cfeab1329a23'}}</td>\n",
       "      <td>{'_links': {'self': {'href': '/addresses/72fbe9c2-ae56-4ade-a3d9-c6ba4a9c3fb8'}}, 'addressID': '72fbe9c2-ae56-4ade-a3d9-c6ba4a9c3fb8', 'allowNewValuationInfo': True, 'city': {'name': 'København K', 'slug': 'koebenhavn-k'}, 'cityName': 'København K', 'daysOnMarket': {'realtors': []}, 'energyLabelImprovement': {'improvementCase': 'FALLBACK', 'sparEnergiLink': 'https://sparenergi.dk/forbruger/boligen/traenger-din-bolig-til-renovering?utm_source=Boligsiden&amp;utm_medium=Banner&amp;utm_campaign=6'}, 'houseNumber': '75Z', 'isPublic': False, 'municipality': {'churchTaxPercentage': 0.8, 'councilTaxPercentage': 23.7, 'districtPlanFrom': '2024-06-28', 'districtPlanPdfUrl': 'https://dokument.plandata.dk/20_11186212_1719470578287.pdf', 'landValueTaxLevelPerThousand': 34, 'masterPlanPdfUrl': 'https://dokument.plandata.dk/12_11267550_1717402838438.pdf', 'municipalityCode': 101, 'name': 'København', 'numberOfSchools': 127, 'population': 644431, 'slug': 'koebenhavn'}, 'province': {'name': 'Byen København', 'provinceCode': 'DK011', 'regionCode': 1084, 'slug': 'byen-koebenhavn'}, 'road': {'municipalityCode': 101, 'name': 'Strandgade'}, 'roadName': 'Strandgade', 'slug': 'strandgade-75z-1401-koebenhavn-k-72fbe9c2-ae56-4ade-a3d9-c6ba4a9c3fb8', 'zip': {'group': 1000, 'name': 'København K', 'slug': 'koebenhavn-k', 'zipCode': 1401}, 'zipCode': 1401}</td>\n",
       "      <td>villa</td>\n",
       "      <td>e0128a72-e6c6-4861-920b-cfeab1329a23</td>\n",
       "      <td>https://www.camillathouber.dk/redirectestate.php?butiksid=2656&amp;id=CT19223</td>\n",
       "      <td>{'lat': 55.677223, 'lon': 12.594001, 'type': 'EPSG4326'}</td>\n",
       "      <td>641</td>\n",
       "      <td>{'imageSources': [{'size': {'height': 80, 'width': 100}, 'url': 'https://images.boligsiden.dk/images/case/e0128a72-e6c6-4861-920b-cfeab1329a23/100x80/09de50b3-382a-47b6-8d3e-2373ee26b0b2.webp'}, {'size': {'height': 118, 'width': 143}, 'url': 'https://images.boligsiden.dk/images/case/e0128a72-e6c6-4861-920b-cfeab1329a23/143x118/09de50b3-382a-47b6-8d3e-2373ee26b0b2.webp'}, {'size': {'height': 200, 'width': 300}, 'url': 'https://images.boligsiden.dk/images/case/e0128a72-e6c6-4861-920b-cfeab1329a23/300x200/09de50b3-382a-47b6-8d3e-2373ee26b0b2.webp'}, {'size': {'height': 400, 'width': 600}, 'url': 'https://images.boligsiden.dk/images/case/e0128a72-e6c6-4861-920b-cfeab1329a23/600x400/09de50b3-382a-47b6-8d3e-2373ee26b0b2.webp'}, {'size': {'height': 600, 'width': 600}, 'url': 'https://images.boligsiden.dk/images/case/e0128a72-e6c6-4861-920b-cfeab1329a23/600x600/09de50b3-382a-47b6-8d3e-2373ee26b0b2.webp'}, {'size': {'height': 960, 'width': 1440}, 'url': 'https://images.boligsiden.dk/images/case/e0128a72-e6c6-4861-920b-cfeab1329a23/1440x960/09de50b3-382a-47b6-8d3e-2373ee26b0b2.webp'}]}</td>\n",
       "      <td>Korshage er en af de karakteristiske danske sort-hvid færger, der gennem årene har betjent Danmarks mange vandpassager og ladet os slå smutveje gennem det ganske land. Korshage er opkaldt efter et smukt lyngklædt område i Rørvig og er et klenodie, der trofast udtjente sin værnepligt mellem Hundested og Rørvig i perioden 1964-1995. Det utrættelige skib blev bygget i 1964 på Holbæk Skibsværft med brug af bøge -og egestammer fra Dragerup Skov. Efter godt 30 års tro tjeneste blev Korshage flittigt benyttet til selskaber og udflugtssejlads på Isefjorden, indtil hun overgik til nye kreative hænder, der forvandlede hende til en moderne bolig i form af en fantastisk charmerende husbåd.Korshage er 30,5 meter lang og blev i sin tid godkendt til 20 personbiler og 110 passagerer - så størrelsesmæssigt var mulighederne for at skabe en større husbåd til stede. Den gennemgribende ombygning foregik fra 2013-2015, hvor forvandlingen blev håndhævet med respekt for de originale detaljer. Transformationen fra en åben bildæksfærge til et moderne og tidssvarende designerhjem med i alt 195 m2 etagemeter er gået op i en højere enhed og med den måske bedste fortøjning midt i Københavns Havn med storslået udsigt ned gennem havneløbet, Skuespilhuset, BLOX og Operaen er Korshage ganske enkelt drømmen om en stor husbåd på Christianshavn.  De 135 kvadratmeter flydende boligareal fordeler sig på et moderne stort køkkenalrum i forlængelse af stor stue, 2 store værelser - det ene med walk-in closet og det andet med the-køkken og eget badeværelse - endnu et stort badeværelse, disponibelt rum og entré. Korshage har to store terrasser. Den ene på fordækket og den anden agterdækket, hvilket giver helt optimale betingelser for at ramme solens stråler gennem dagen og aftenen, hvor den uhindret finder vej grundet beliggenheden ud til det brede havneløb.Under dækket befinder der sig 60 m2 alrum med plads til overnattende gæster, stort disponibelt rum, bryggers, teknikrum, og værksted. Øverst oppe troner det gode gamle styrrum, som er bevaret med alt det originale udstyr og betjeningspaneler. Styrrummet kan indrettes efter behov og meget vel forvandles til et kontor eller gæsteværelse med måske Københavns bedste udsigt. Isoleringen er tidssvarende og svarer til 250 mm rockwool i væggene og 350 mm i loftet. Derudover er der er indlagt varmeslanger i alle gulve både over og under dæk som forberedelse til en varmepumpe, der kan trække varme fra havet. Alle vinduer er ligeledes udskiftet med tre-lags energiruder i fin overensstemmelse med færgens oprindelige vinduesmål, ligesom de fem koøjer har fået forsatsvinduer installeret. Solidt fortøjret i hjertet af København vugger hverdagen afbalanceret med en central og tæt på alt-placering. Kajpladsen er for enden af en hyggelig brostensbelagt sidegade til Strandgade og ligger i rolige omgivelser med kort vej til Indre by over cykelbroen. Korshage er en lys, moderne og fantastisk husbåd, der samtidig kan bryste sig af ikke at have bopælspligt. Det skaber fleksible anvendelsesmuligheder, hvor Korshage både kan udfylde rollen som helårsbolig, sommerhus eller erhverv.Velkommen ombord på Korshage.</td>\n",
       "      <td>Charmerende husbåd i hjertet af Københavns Havn</td>\n",
       "      <td>...</td>\n",
       "      <td>24801</td>\n",
       "      <td>468</td>\n",
       "      <td>{'includedInPrice': None}</td>\n",
       "      <td>1964</td>\n",
       "      <td>5.0</td>\n",
       "      <td>NaN</td>\n",
       "      <td>60.0</td>\n",
       "      <td>55.677223</td>\n",
       "      <td>12.594001</td>\n",
       "      <td>1.755009</td>\n",
       "    </tr>\n",
       "  </tbody>\n",
       "</table>\n",
       "<p>58 rows × 45 columns</p>\n",
       "</div>"
      ],
      "text/plain": [
       "                                                               _links  \\\n",
       "0   {'self': {'href': '/cases/ad9ac6d0-45bd-4c1b-b1b4-c003359a697a'}}   \n",
       "1   {'self': {'href': '/cases/8d9a1d0c-2dd8-4476-bda5-d690fd5188fc'}}   \n",
       "2   {'self': {'href': '/cases/cabd0f7b-a576-434a-97f1-85064973950e'}}   \n",
       "3   {'self': {'href': '/cases/112ac301-faee-4351-85a9-6aa87ba74341'}}   \n",
       "4   {'self': {'href': '/cases/22d28e65-1f9d-49fe-ba2d-28192f601513'}}   \n",
       "5   {'self': {'href': '/cases/d86cc01d-d2e8-4e17-a236-c82f49fc537d'}}   \n",
       "6   {'self': {'href': '/cases/036f55be-c757-41e7-bced-7eafa73e5901'}}   \n",
       "7   {'self': {'href': '/cases/ef139eb3-769e-4f8e-9edc-b020c97e3dbb'}}   \n",
       "8   {'self': {'href': '/cases/bdcb9f7e-80e9-4834-b595-73c9c9ca4856'}}   \n",
       "9   {'self': {'href': '/cases/70398fad-5d81-4852-85cc-f0ebe8c1b8d1'}}   \n",
       "10  {'self': {'href': '/cases/8e39ae41-3749-4788-994d-0aa47ac8576b'}}   \n",
       "11  {'self': {'href': '/cases/14aecdae-15ce-4e22-86f8-055d4b8c0cfd'}}   \n",
       "12  {'self': {'href': '/cases/7326de30-d906-400e-815e-8d21200a2fe5'}}   \n",
       "13  {'self': {'href': '/cases/4e359c40-e0da-44fc-975a-73b713391aaa'}}   \n",
       "14  {'self': {'href': '/cases/5f68ed1a-a294-4253-8123-8f5d2f9b655d'}}   \n",
       "15  {'self': {'href': '/cases/e9f4f0f3-10e4-4748-8c7d-acb4126df1e3'}}   \n",
       "16  {'self': {'href': '/cases/d40b5216-7f6a-4880-a2bd-166f1686b1db'}}   \n",
       "17  {'self': {'href': '/cases/78740d58-24f5-4384-afd7-1ac2be025ffd'}}   \n",
       "18  {'self': {'href': '/cases/9c98521c-4a84-4805-b9e2-550add8659ab'}}   \n",
       "19  {'self': {'href': '/cases/c5eef315-f2fe-43e3-aeca-e48da55ebc70'}}   \n",
       "20  {'self': {'href': '/cases/901ca1a9-d961-4b53-8fb3-9b203e511281'}}   \n",
       "21  {'self': {'href': '/cases/11d880e3-84dc-488a-a21b-c05848befef3'}}   \n",
       "22  {'self': {'href': '/cases/0eb6cb66-fa06-429a-a759-da8e05eabf40'}}   \n",
       "23  {'self': {'href': '/cases/cc1c250e-7a68-4ba1-b20f-0f4932e36a0e'}}   \n",
       "24  {'self': {'href': '/cases/222f1480-1f6d-4616-a417-7f07bfeefabe'}}   \n",
       "25  {'self': {'href': '/cases/33d87aa7-d2f1-41d0-9fce-dd81359b6e1b'}}   \n",
       "26  {'self': {'href': '/cases/1c8ac0e3-ea13-4122-adb5-ddb562faefc3'}}   \n",
       "27  {'self': {'href': '/cases/443189eb-f8db-4dfc-81ee-c00e8b4c6cbe'}}   \n",
       "28  {'self': {'href': '/cases/e0128a72-e6c6-4861-920b-cfeab1329a23'}}   \n",
       "29  {'self': {'href': '/cases/ad9ac6d0-45bd-4c1b-b1b4-c003359a697a'}}   \n",
       "30  {'self': {'href': '/cases/8d9a1d0c-2dd8-4476-bda5-d690fd5188fc'}}   \n",
       "31  {'self': {'href': '/cases/cabd0f7b-a576-434a-97f1-85064973950e'}}   \n",
       "32  {'self': {'href': '/cases/112ac301-faee-4351-85a9-6aa87ba74341'}}   \n",
       "33  {'self': {'href': '/cases/22d28e65-1f9d-49fe-ba2d-28192f601513'}}   \n",
       "34  {'self': {'href': '/cases/d86cc01d-d2e8-4e17-a236-c82f49fc537d'}}   \n",
       "35  {'self': {'href': '/cases/036f55be-c757-41e7-bced-7eafa73e5901'}}   \n",
       "36  {'self': {'href': '/cases/ef139eb3-769e-4f8e-9edc-b020c97e3dbb'}}   \n",
       "37  {'self': {'href': '/cases/bdcb9f7e-80e9-4834-b595-73c9c9ca4856'}}   \n",
       "38  {'self': {'href': '/cases/70398fad-5d81-4852-85cc-f0ebe8c1b8d1'}}   \n",
       "39  {'self': {'href': '/cases/8e39ae41-3749-4788-994d-0aa47ac8576b'}}   \n",
       "40  {'self': {'href': '/cases/14aecdae-15ce-4e22-86f8-055d4b8c0cfd'}}   \n",
       "41  {'self': {'href': '/cases/7326de30-d906-400e-815e-8d21200a2fe5'}}   \n",
       "42  {'self': {'href': '/cases/4e359c40-e0da-44fc-975a-73b713391aaa'}}   \n",
       "43  {'self': {'href': '/cases/5f68ed1a-a294-4253-8123-8f5d2f9b655d'}}   \n",
       "44  {'self': {'href': '/cases/e9f4f0f3-10e4-4748-8c7d-acb4126df1e3'}}   \n",
       "45  {'self': {'href': '/cases/d40b5216-7f6a-4880-a2bd-166f1686b1db'}}   \n",
       "46  {'self': {'href': '/cases/78740d58-24f5-4384-afd7-1ac2be025ffd'}}   \n",
       "47  {'self': {'href': '/cases/9c98521c-4a84-4805-b9e2-550add8659ab'}}   \n",
       "48  {'self': {'href': '/cases/c5eef315-f2fe-43e3-aeca-e48da55ebc70'}}   \n",
       "49  {'self': {'href': '/cases/901ca1a9-d961-4b53-8fb3-9b203e511281'}}   \n",
       "50  {'self': {'href': '/cases/11d880e3-84dc-488a-a21b-c05848befef3'}}   \n",
       "51  {'self': {'href': '/cases/0eb6cb66-fa06-429a-a759-da8e05eabf40'}}   \n",
       "52  {'self': {'href': '/cases/cc1c250e-7a68-4ba1-b20f-0f4932e36a0e'}}   \n",
       "53  {'self': {'href': '/cases/222f1480-1f6d-4616-a417-7f07bfeefabe'}}   \n",
       "54  {'self': {'href': '/cases/33d87aa7-d2f1-41d0-9fce-dd81359b6e1b'}}   \n",
       "55  {'self': {'href': '/cases/1c8ac0e3-ea13-4122-adb5-ddb562faefc3'}}   \n",
       "56  {'self': {'href': '/cases/443189eb-f8db-4dfc-81ee-c00e8b4c6cbe'}}   \n",
       "57  {'self': {'href': '/cases/e0128a72-e6c6-4861-920b-cfeab1329a23'}}   \n",
       "\n",
       "                                                                                                                                                                                                                                                                                                                                                                                                                                                                                                                                                                                                                                                                                                                                                                                                                                                                                                                                                                                                                                                                                                                                                                                                                                                                                                                                                                                                                                                                                                                                                                                                                                                                                                                                                                                                                                                                                                                                                                                                                                                                                                                                                                                                                                                                                                                                                                                                                                                                                                               address  \\\n",
       "0                                                                                                                                                                                                                                                                                            {'_links': {'self': {'href': '/addresses/50ce4687-cc15-49da-9974-e13658a24028'}}, 'addressID': '50ce4687-cc15-49da-9974-e13658a24028', 'allowNewValuationInfo': True, 'bfeNumbers': [161715], 'boligsidenInfo': {'latestSoldArea': 93}, 'city': {'name': 'København SV', 'slug': 'koebenhavn-sv'}, 'cityName': 'København SV', 'coordinates': {'lat': 55.65837, 'lon': 12.562113, 'type': 'EPSG4326'}, 'daysOnMarket': {'realtors': []}, 'door': '3', 'energyLabelImprovement': {'improvementCase': 'FALLBACK', 'sparEnergiLink': 'https://sparenergi.dk/forbruger/boligen/traenger-din-bolig-til-renovering?utm_source=Boligsiden&utm_medium=Banner&utm_campaign=6'}, 'entryAddressID': 'e7bb3d1d-8a8e-4ddc-a66b-f11cf93d01f5', 'floor': '3', 'gstkvhx': '01018843__11__3___3', 'houseNumber': '11', 'isPublic': True, 'latestValuation': 2200000, 'livingArea': 93, 'municipality': {'churchTaxPercentage': 0.8, 'councilTaxPercentage': 23.7, 'districtPlanFrom': '2024-06-28', 'districtPlanPdfUrl': 'https://dokument.plandata.dk/20_11186212_1719470578287.pdf', 'landValueTaxLevelPerThousand': 34, 'masterPlanPdfUrl': 'https://dokument.plandata.dk/12_11267550_1717402838438.pdf', 'municipalityCode': 101, 'name': 'København', 'numberOfSchools': 127, 'population': 644431, 'slug': 'koebenhavn'}, 'propertyNumber': 26327, 'province': {'name': 'Byen København', 'provinceCode': 'DK011', 'regionCode': 1084, 'slug': 'byen-koebenhavn'}, 'registrations': [{'amount': 5395000, 'area': 93, 'date': '2021-06-30', 'livingArea': 93, 'municipalityCode': 101, 'perAreaPrice': 58010, 'propertyNumber': 26327, 'registrationID': '5618363', 'type': 'normal'}, {'amount': 3895000, 'date': '2016-04-19', 'municipalityCode': 101, 'propertyNumber': 26327, 'registrationID': '5083456', 'type': 'normal'}], 'road': {'municipalityCode': 101, 'name': 'Martin Luther Kings Vej', 'roadCode': 8843, 'roadID': '29bfe743-189c-43c2-8873-bf83ba42733f', 'slug': 'martin-luther-kings-vej'}, 'roadName': 'Martin Luther Kings Vej', 'slug': 'martin-luther-kings-vej-11-3-3-2450-koebenhavn-sv-01018843__11__3___3', 'zip': {'name': 'København SV', 'slug': 'koebenhavn-sv', 'zipCode': 2450}, 'zipCode': 2450}   \n",
       "1                                                                                                                                                                                                                                                                                                                                                                                                                                                                                                                                                                                                                                                                                                                                                                                                                                                                    {'_links': {'self': {'href': '/addresses/7a63945c-ad0c-455e-b865-38c89ca8e719'}}, 'addressID': '7a63945c-ad0c-455e-b865-38c89ca8e719', 'allowNewValuationInfo': True, 'city': {'name': 'København K', 'slug': 'koebenhavn-k'}, 'cityName': 'København K', 'coordinates': {'lat': 55.680195, 'lon': 12.601312, 'type': 'EPSG4326'}, 'daysOnMarket': {'realtors': []}, 'energyLabelImprovement': {'improvementCase': 'FALLBACK', 'sparEnergiLink': 'https://sparenergi.dk/forbruger/boligen/traenger-din-bolig-til-renovering?utm_source=Boligsiden&utm_medium=Banner&utm_campaign=6'}, 'entryAddressID': '75c254a5-de3f-49f7-8593-3ea5fb261571', 'gstkvhx': '01017338___9_______', 'houseNumber': '9', 'isPublic': True, 'municipality': {'churchTaxPercentage': 0.8, 'councilTaxPercentage': 23.7, 'districtPlanFrom': '2024-06-28', 'districtPlanPdfUrl': 'https://dokument.plandata.dk/20_11186212_1719470578287.pdf', 'landValueTaxLevelPerThousand': 34, 'masterPlanPdfUrl': 'https://dokument.plandata.dk/12_11267550_1717402838438.pdf', 'municipalityCode': 101, 'name': 'København', 'numberOfSchools': 127, 'population': 644431, 'slug': 'koebenhavn'}, 'province': {'name': 'Byen København', 'provinceCode': 'DK011', 'regionCode': 1084, 'slug': 'byen-koebenhavn'}, 'road': {'municipalityCode': 101, 'name': 'Takkelloftvej', 'roadCode': 7338, 'roadID': '799c97d3-237a-4ed5-ac07-f442b4f4c9f3', 'slug': 'takkelloftvej'}, 'roadName': 'Takkelloftvej', 'slug': 'takkelloftvej-9-1437-koebenhavn-k-01017338___9_______', 'zip': {'group': 1000, 'name': 'København K', 'slug': 'koebenhavn-k', 'zipCode': 1437}, 'zipCode': 1437}   \n",
       "2                                                                                                                                                                                                                                                                                                                                                                                                                                                                          {'_links': {'self': {'href': '/addresses/30668597-1c56-4737-bdb9-aa680f8bfadf'}}, 'addressID': '30668597-1c56-4737-bdb9-aa680f8bfadf', 'allowNewValuationInfo': True, 'bfeNumbers': [100314245], 'boligsidenInfo': {'latestSoldArea': 70}, 'city': {'name': 'København SV', 'slug': 'koebenhavn-sv'}, 'cityName': 'København SV', 'coordinates': {'lat': 55.658794, 'lon': 12.561923, 'type': 'EPSG4326'}, 'daysOnMarket': {'realtors': []}, 'door': 'th', 'energyLabelImprovement': {'improvementCase': 'FALLBACK', 'sparEnergiLink': 'https://sparenergi.dk/forbruger/boligen/traenger-din-bolig-til-renovering?utm_source=Boligsiden&utm_medium=Banner&utm_campaign=6'}, 'entryAddressID': '7ed15799-e9c3-4240-82e1-c8b33a7b0cf4', 'floor': '4', 'gstkvhx': '01012171__21__4__th', 'houseNumber': '21', 'isPublic': True, 'livingArea': 70, 'municipality': {'churchTaxPercentage': 0.8, 'councilTaxPercentage': 23.7, 'districtPlanFrom': '2024-06-28', 'districtPlanPdfUrl': 'https://dokument.plandata.dk/20_11186212_1719470578287.pdf', 'landValueTaxLevelPerThousand': 34, 'masterPlanPdfUrl': 'https://dokument.plandata.dk/12_11267550_1717402838438.pdf', 'municipalityCode': 101, 'name': 'København', 'numberOfSchools': 127, 'population': 644431, 'slug': 'koebenhavn'}, 'propertyNumber': 43871, 'province': {'name': 'Byen København', 'provinceCode': 'DK011', 'regionCode': 1084, 'slug': 'byen-koebenhavn'}, 'registrations': [{'amount': 3895000, 'area': 70, 'date': '2020-12-15', 'livingArea': 70, 'municipalityCode': 101, 'perAreaPrice': 55642, 'propertyNumber': 43871, 'registrationID': '5843570', 'type': 'normal'}], 'road': {'municipalityCode': 101, 'name': 'George Marshalls Vej', 'roadCode': 2171, 'roadID': '5fbe7d12-0325-402b-b9b7-26dc4445aebb', 'slug': 'george-marshalls-vej'}, 'roadName': 'George Marshalls Vej', 'slug': 'george-marshalls-vej-21-4-th-2450-koebenhavn-sv-01012171__21__4__th', 'zip': {'name': 'København SV', 'slug': 'koebenhavn-sv', 'zipCode': 2450}, 'zipCode': 2450}   \n",
       "3                                                                                                                                                                                                                                                                                                                                                                                                                                                                                                                                                                                                                                                                                                                                                                                                                            {'_links': {'self': {'href': '/addresses/4a70800c-665e-4a00-8964-b02d889177cf'}}, 'addressID': '4a70800c-665e-4a00-8964-b02d889177cf', 'allowNewValuationInfo': True, 'boligsidenInfo': {'latestSoldArea': 80}, 'city': {'name': 'København K', 'slug': 'koebenhavn-k'}, 'cityName': 'København K', 'coordinates': {'lat': 55.689922, 'lon': 12.607111, 'type': 'EPSG4326'}, 'daysOnMarket': {'realtors': []}, 'energyLabelImprovement': {'improvementCase': 'FALLBACK', 'sparEnergiLink': 'https://sparenergi.dk/forbruger/boligen/traenger-din-bolig-til-renovering?utm_source=Boligsiden&utm_medium=Banner&utm_campaign=6'}, 'entryAddressID': '1357eb80-9b79-3d79-e044-0003ba298018', 'gstkvhx': '01015772141G_______', 'houseNumber': '141G', 'isPublic': True, 'municipality': {'churchTaxPercentage': 0.8, 'councilTaxPercentage': 23.7, 'districtPlanFrom': '2024-06-28', 'districtPlanPdfUrl': 'https://dokument.plandata.dk/20_11186212_1719470578287.pdf', 'landValueTaxLevelPerThousand': 34, 'masterPlanPdfUrl': 'https://dokument.plandata.dk/12_11267550_1717402838438.pdf', 'municipalityCode': 101, 'name': 'København', 'numberOfSchools': 127, 'population': 644431, 'slug': 'koebenhavn'}, 'province': {'name': 'Byen København', 'provinceCode': 'DK011', 'regionCode': 1084, 'slug': 'byen-koebenhavn'}, 'road': {'municipalityCode': 101, 'name': 'Refshalevej', 'roadCode': 5772, 'roadID': 'b666c681-1fcf-44f5-bdf8-87b65af4f244', 'slug': 'refshalevej'}, 'roadName': 'Refshalevej', 'slug': 'refshalevej-141g-1432-koebenhavn-k-01015772141g_______', 'zip': {'group': 1000, 'name': 'København K', 'slug': 'koebenhavn-k', 'zipCode': 1432}, 'zipCode': 1432}   \n",
       "4                                      {'_links': {'self': {'href': '/addresses/0a3f50bd-49f7-32b8-e044-0003ba298018'}}, 'addressID': '0a3f50bd-49f7-32b8-e044-0003ba298018', 'addressType': 'holiday house', 'allowNewValuationInfo': True, 'bfeNumbers': [746306], 'buildings': [{'bathroomCondition': 'Badeværelse i enheden', 'buildingName': 'Sommerhus', 'buildingNumber': '34', 'externalWallMaterial': 'Metal', 'heatingInstallation': 'Elvarme', 'housingArea': 104, 'kitchenCondition': 'Eget køkken med afløb', 'numberOfBathrooms': 2, 'numberOfFloors': 2, 'numberOfRooms': 4, 'numberOfToilets': 2, 'roofingMaterial': 'Metal', 'supplementaryHeating': 'Ovne til fast eller flydende brændsel', 'toiletCondition': 'Vandskyllende toilet i enheden', 'totalArea': 57, 'yearBuilt': 2008}], 'city': {'name': 'Hemmet', 'slug': 'hemmet'}, 'cityName': 'Hemmet', 'coordinates': {'lat': 55.850147, 'lon': 8.27942, 'type': 'EPSG4326'}, 'daysOnMarket': {'realtors': []}, 'energyLabelImprovement': {'improvementCase': 'FALLBACK', 'sparEnergiLink': 'https://sparenergi.dk/forbruger/boligen/traenger-din-bolig-til-renovering?utm_source=Boligsiden&utm_medium=Banner&utm_campaign=6'}, 'entryAddressID': '0a3f5091-38c4-32b8-e044-0003ba298018', 'gstkvhx': '07601311___7_______', 'houseNumber': '7', 'isPublic': True, 'latestValuation': 870000, 'livingArea': 104, 'municipality': {'churchTaxPercentage': 1.05, 'councilTaxPercentage': 25, 'districtPlanFrom': '2024-06-03', 'districtPlanPdfUrl': 'https://dokument.plandata.dk/20_11300020_1716880512713.pdf', 'landValueTaxLevelPerThousand': 31, 'masterPlanPdfUrl': 'https://dokument.plandata.dk/12_11300027_1716880768468.pdf', 'municipalityCode': 760, 'name': 'Ringkøbing-Skjern', 'numberOfSchools': 35, 'population': 56203, 'slug': 'ringkoebing-skjern'}, 'place': {'bbox': [8.265464, 55.815403, 8.372976, 55.861725], 'coordinates': {'lat': 55.850147, 'lon': 8.27942, 'type': 'EPSG4326'}, 'id': 660383, 'name': 'Nr Bork', 'slug': 'nr-bork'}, 'placeName': 'Nr Bork', 'propertyNumber': 7313, 'province': {'name': 'Vestjylland', 'provinceCode': 'DK041', 'regionCode': 1082, 'slug': 'vestjylland'}, 'road': {'municipalityCode': 760, 'name': 'Molen', 'roadCode': 1311, 'roadID': '551c61c7-cff4-4830-94e6-b827087dc808', 'slug': 'molen'}, 'roadName': 'Molen', 'slug': 'molen-7-6893-hemmet-07601311___7_______', 'weightedArea': 104, 'zip': {'name': 'Hemmet', 'slug': 'hemmet', 'zipCode': 6893}, 'zipCode': 6893}   \n",
       "5                                                                                                                                                                                                                                                                                                                                                                                                                                                                                                                                                                                                                                                                                                                                                                                                                                                                     {'_links': {'self': {'href': '/addresses/26e70f9e-c9f8-483e-b158-b6ea97e8fb4a'}}, 'addressID': '26e70f9e-c9f8-483e-b158-b6ea97e8fb4a', 'allowNewValuationInfo': True, 'city': {'name': 'København K', 'slug': 'koebenhavn-k'}, 'cityName': 'København K', 'coordinates': {'lat': 55.67984, 'lon': 12.601013, 'type': 'EPSG4326'}, 'daysOnMarket': {'realtors': []}, 'energyLabelImprovement': {'improvementCase': 'FALLBACK', 'sparEnergiLink': 'https://sparenergi.dk/forbruger/boligen/traenger-din-bolig-til-renovering?utm_source=Boligsiden&utm_medium=Banner&utm_campaign=6'}, 'entryAddressID': '64478a85-a1fd-4e86-bc17-6ccaebc9eab9', 'gstkvhx': '01017338___3_______', 'houseNumber': '3', 'isPublic': True, 'municipality': {'churchTaxPercentage': 0.8, 'councilTaxPercentage': 23.7, 'districtPlanFrom': '2024-06-28', 'districtPlanPdfUrl': 'https://dokument.plandata.dk/20_11186212_1719470578287.pdf', 'landValueTaxLevelPerThousand': 34, 'masterPlanPdfUrl': 'https://dokument.plandata.dk/12_11267550_1717402838438.pdf', 'municipalityCode': 101, 'name': 'København', 'numberOfSchools': 127, 'population': 644431, 'slug': 'koebenhavn'}, 'province': {'name': 'Byen København', 'provinceCode': 'DK011', 'regionCode': 1084, 'slug': 'byen-koebenhavn'}, 'road': {'municipalityCode': 101, 'name': 'Takkelloftvej', 'roadCode': 7338, 'roadID': '799c97d3-237a-4ed5-ac07-f442b4f4c9f3', 'slug': 'takkelloftvej'}, 'roadName': 'Takkelloftvej', 'slug': 'takkelloftvej-3-1437-koebenhavn-k-01017338___3_______', 'zip': {'group': 1000, 'name': 'København K', 'slug': 'koebenhavn-k', 'zipCode': 1437}, 'zipCode': 1437}   \n",
       "6                                                                                                                                                                                                                                                                                                                                                                                                                                                                                                                                                                                                                                                                                                                                                                                                                                                                                                                                                                                                                                                                                                                       {'_links': {'self': {'href': '/addresses/62b40964-08af-437f-9193-c0967ff8b3f7'}}, 'addressID': '62b40964-08af-437f-9193-c0967ff8b3f7', 'allowNewValuationInfo': True, 'city': {'name': 'København K', 'slug': 'koebenhavn-k'}, 'cityName': 'København K', 'daysOnMarket': {'realtors': []}, 'energyLabelImprovement': {'improvementCase': 'FALLBACK', 'sparEnergiLink': 'https://sparenergi.dk/forbruger/boligen/traenger-din-bolig-til-renovering?utm_source=Boligsiden&utm_medium=Banner&utm_campaign=6'}, 'houseNumber': '102z', 'isPublic': False, 'municipality': {'churchTaxPercentage': 0.8, 'councilTaxPercentage': 23.7, 'districtPlanFrom': '2024-06-28', 'districtPlanPdfUrl': 'https://dokument.plandata.dk/20_11186212_1719470578287.pdf', 'landValueTaxLevelPerThousand': 34, 'masterPlanPdfUrl': 'https://dokument.plandata.dk/12_11267550_1717402838438.pdf', 'municipalityCode': 101, 'name': 'København', 'numberOfSchools': 127, 'population': 644431, 'slug': 'koebenhavn'}, 'province': {'name': 'Byen København', 'provinceCode': 'DK011', 'regionCode': 1084, 'slug': 'byen-koebenhavn'}, 'road': {'municipalityCode': 101, 'name': 'Strandgade'}, 'roadName': 'Strandgade', 'slug': 'strandgade-102z-1401-koebenhavn-k-62b40964-08af-437f-9193-c0967ff8b3f7', 'zip': {'group': 1000, 'name': 'København K', 'slug': 'koebenhavn-k', 'zipCode': 1401}, 'zipCode': 1401}   \n",
       "7                                                                                                                                                                                                                                                                                                                                                                                                                                                                                                                                                                                                                                                                                                                                                                                                                                                                         {'_links': {'self': {'href': '/addresses/f04fae90-a5f3-487d-b0bc-713fab06737e'}}, 'addressID': 'f04fae90-a5f3-487d-b0bc-713fab06737e', 'allowNewValuationInfo': True, 'city': {'name': 'København K', 'slug': 'koebenhavn-k'}, 'cityName': 'København K', 'coordinates': {'lat': 55.693443, 'lon': 12.60804, 'type': 'EPSG4326'}, 'daysOnMarket': {'realtors': []}, 'energyLabelImprovement': {'improvementCase': 'FALLBACK', 'sparEnergiLink': 'https://sparenergi.dk/forbruger/boligen/traenger-din-bolig-til-renovering?utm_source=Boligsiden&utm_medium=Banner&utm_campaign=6'}, 'entryAddressID': '112b87c1-350e-481a-8e33-854a2d719d21', 'gstkvhx': '01015772_169_______', 'houseNumber': '169', 'isPublic': True, 'municipality': {'churchTaxPercentage': 0.8, 'councilTaxPercentage': 23.7, 'districtPlanFrom': '2024-06-28', 'districtPlanPdfUrl': 'https://dokument.plandata.dk/20_11186212_1719470578287.pdf', 'landValueTaxLevelPerThousand': 34, 'masterPlanPdfUrl': 'https://dokument.plandata.dk/12_11267550_1717402838438.pdf', 'municipalityCode': 101, 'name': 'København', 'numberOfSchools': 127, 'population': 644431, 'slug': 'koebenhavn'}, 'province': {'name': 'Byen København', 'provinceCode': 'DK011', 'regionCode': 1084, 'slug': 'byen-koebenhavn'}, 'road': {'municipalityCode': 101, 'name': 'Refshalevej', 'roadCode': 5772, 'roadID': 'b666c681-1fcf-44f5-bdf8-87b65af4f244', 'slug': 'refshalevej'}, 'roadName': 'Refshalevej', 'slug': 'refshalevej-169-1432-koebenhavn-k-01015772_169_______', 'zip': {'group': 1000, 'name': 'København K', 'slug': 'koebenhavn-k', 'zipCode': 1432}, 'zipCode': 1432}   \n",
       "8                                                                                                                                                                                                                                                                                                                                                                                                                                                                                                                                                                                                                                                                                                                                                                                                                                                                                                                                                                                                                                                                                                                                                                         {'_links': {'self': {'href': '/addresses/8acfe408-8b3e-451f-a4fe-01b780d97051'}}, 'addressID': '8acfe408-8b3e-451f-a4fe-01b780d97051', 'allowNewValuationInfo': True, 'city': {'name': 'Ishøj', 'slug': 'ishoej'}, 'cityName': 'Ishøj', 'daysOnMarket': {'realtors': []}, 'door': 'S02', 'energyLabelImprovement': {'improvementCase': 'FALLBACK', 'sparEnergiLink': 'https://sparenergi.dk/forbruger/boligen/traenger-din-bolig-til-renovering?utm_source=Boligsiden&utm_medium=Banner&utm_campaign=6'}, 'houseNumber': '13', 'isPublic': False, 'municipality': {'churchTaxPercentage': 0.9, 'councilTaxPercentage': 25, 'districtPlanFrom': '2023-12-20', 'districtPlanPdfUrl': 'https://dokument.plandata.dk/20_11186426_1702987072764.pdf', 'landValueTaxLevelPerThousand': 25, 'masterPlanPdfUrl': 'https://dokument.plandata.dk/12_11195828_1702992436420.pdf', 'municipalityCode': 183, 'name': 'Ishøj', 'numberOfSchools': 7, 'population': 23225, 'slug': 'ishoej'}, 'province': {'name': 'Københavns omegn', 'provinceCode': 'DK012', 'regionCode': 1084, 'slug': 'koebenhavns-omegn'}, 'road': {'municipalityCode': 183, 'name': 'Søhesten'}, 'roadName': 'Søhesten', 'slug': 'soehesten-13-s02-2635-ishoej-8acfe408-8b3e-451f-a4fe-01b780d97051', 'zip': {'name': 'Ishøj', 'slug': 'ishoej', 'zipCode': 2635}, 'zipCode': 2635}   \n",
       "9                                                           {'_links': {'self': {'href': '/addresses/0a3f50bd-49f9-32b8-e044-0003ba298018'}}, 'addressID': '0a3f50bd-49f9-32b8-e044-0003ba298018', 'addressType': 'holiday house', 'allowNewValuationInfo': True, 'bfeNumbers': [746308], 'buildings': [{'bathroomCondition': 'Badeværelse i enheden', 'buildingName': 'Sommerhus', 'buildingNumber': '13', 'externalWallMaterial': 'Metal', 'heatingInstallation': 'Elvarme', 'housingArea': 104, 'kitchenCondition': 'Eget køkken med afløb', 'numberOfBathrooms': 1, 'numberOfFloors': 2, 'numberOfRooms': 4, 'numberOfToilets': 1, 'roofingMaterial': 'Metal', 'supplementaryHeating': 'Ovne til fast eller flydende brændsel', 'toiletCondition': 'Vandskyllende toilet i enheden', 'totalArea': 57, 'yearBuilt': 2008}], 'city': {'name': 'Hemmet', 'slug': 'hemmet'}, 'cityName': 'Hemmet', 'coordinates': {'lat': 55.850296, 'lon': 8.2791395, 'type': 'EPSG4326'}, 'daysOnMarket': {'realtors': []}, 'energyLabelImprovement': {'improvementCase': 'FALLBACK', 'sparEnergiLink': 'https://sparenergi.dk/forbruger/boligen/traenger-din-bolig-til-renovering?utm_source=Boligsiden&utm_medium=Banner&utm_campaign=6'}, 'entryAddressID': '0a3f5091-38c6-32b8-e044-0003ba298018', 'gstkvhx': '07601311__11_______', 'houseNumber': '11', 'isPublic': True, 'livingArea': 104, 'municipality': {'churchTaxPercentage': 1.05, 'councilTaxPercentage': 25, 'districtPlanFrom': '2024-06-03', 'districtPlanPdfUrl': 'https://dokument.plandata.dk/20_11300020_1716880512713.pdf', 'landValueTaxLevelPerThousand': 31, 'masterPlanPdfUrl': 'https://dokument.plandata.dk/12_11300027_1716880768468.pdf', 'municipalityCode': 760, 'name': 'Ringkøbing-Skjern', 'numberOfSchools': 35, 'population': 56203, 'slug': 'ringkoebing-skjern'}, 'place': {'bbox': [8.265464, 55.815403, 8.372976, 55.861725], 'coordinates': {'lat': 55.850296, 'lon': 8.2791395, 'type': 'EPSG4326'}, 'id': 660383, 'name': 'Nr Bork', 'slug': 'nr-bork'}, 'placeName': 'Nr Bork', 'propertyNumber': 7315, 'province': {'name': 'Vestjylland', 'provinceCode': 'DK041', 'regionCode': 1082, 'slug': 'vestjylland'}, 'road': {'municipalityCode': 760, 'name': 'Molen', 'roadCode': 1311, 'roadID': '551c61c7-cff4-4830-94e6-b827087dc808', 'slug': 'molen'}, 'roadName': 'Molen', 'slug': 'molen-11-6893-hemmet-07601311__11_______', 'weightedArea': 104, 'zip': {'name': 'Hemmet', 'slug': 'hemmet', 'zipCode': 6893}, 'zipCode': 6893}   \n",
       "10                                                                                                                                                                                     {'_links': {'self': {'href': '/addresses/2788e062-eeb3-4a8b-b071-58e07066b343'}}, 'addressID': '2788e062-eeb3-4a8b-b071-58e07066b343', 'allowNewValuationInfo': True, 'city': {'name': 'København SV', 'slug': 'koebenhavn-sv'}, 'cityName': 'København SV', 'coordinates': {'lat': 55.6541, 'lon': 12.554191, 'type': 'EPSG4326'}, 'daysOnMarket': {'realtors': []}, 'energyLabelImprovement': {'improvementCase': 'FALLBACK', 'sparEnergiLink': 'https://sparenergi.dk/forbruger/boligen/traenger-din-bolig-til-renovering?utm_source=Boligsiden&utm_medium=Banner&utm_campaign=6'}, 'entryAddressID': '87688917-1657-499a-b099-a8290120bcdb', 'gstkvhx': '01014354___1_______', 'houseNumber': '1', 'isPublic': True, 'livingArea': 140, 'municipality': {'churchTaxPercentage': 0.8, 'councilTaxPercentage': 23.7, 'districtPlanFrom': '2024-06-28', 'districtPlanPdfUrl': 'https://dokument.plandata.dk/20_11186212_1719470578287.pdf', 'landValueTaxLevelPerThousand': 34, 'masterPlanPdfUrl': 'https://dokument.plandata.dk/12_11267550_1717402838438.pdf', 'municipalityCode': 101, 'name': 'København', 'numberOfSchools': 127, 'population': 644431, 'slug': 'koebenhavn'}, 'propertyNumber': 986365, 'province': {'name': 'Byen København', 'provinceCode': 'DK011', 'regionCode': 1084, 'slug': 'byen-koebenhavn'}, 'registrations': [{'amount': 28000000, 'area': 140, 'date': '2014-05-27', 'municipalityCode': 101, 'propertyNumber': 986365, 'registrationID': '4637331', 'type': 'normal'}, {'amount': 46303811, 'date': '2010-12-28', 'municipalityCode': 101, 'propertyNumber': 986365, 'registrationID': '4259991', 'type': 'normal'}, {'amount': 46303811, 'date': '2004-06-18', 'municipalityCode': 101, 'propertyNumber': 986365, 'registrationID': '1683458', 'type': 'normal'}, {'amount': 17762500, 'date': '2002-10-07', 'municipalityCode': 101, 'propertyNumber': 986365, 'registrationID': '1424890', 'type': 'normal'}], 'road': {'municipalityCode': 101, 'name': 'Linus Paulings Vej', 'roadCode': 4354, 'roadID': 'e81bf6e0-c8bc-478c-aa1e-0b40959e8b79', 'slug': 'linus-paulings-vej'}, 'roadName': 'Linus Paulings Vej', 'slug': 'linus-paulings-vej-1-2450-koebenhavn-sv-01014354___1_______', 'zip': {'name': 'København SV', 'slug': 'koebenhavn-sv', 'zipCode': 2450}, 'zipCode': 2450}   \n",
       "11                                                                                                                                                                                                                                                                                                                                                                                                                                                                                                                                                                                                                                                                                                                                                                                                                                                                                          {'_links': {'self': {'href': '/addresses/1192efa0-9dc9-448f-9589-7dc40e185cc2'}}, 'addressID': '1192efa0-9dc9-448f-9589-7dc40e185cc2', 'allowNewValuationInfo': True, 'city': {'name': 'København S', 'slug': 'koebenhavn-s'}, 'cityName': 'København S', 'coordinates': {'lat': 55.64129, 'lon': 12.5527115, 'type': 'EPSG4326'}, 'daysOnMarket': {'realtors': []}, 'energyLabelImprovement': {'improvementCase': 'FALLBACK', 'sparEnergiLink': 'https://sparenergi.dk/forbruger/boligen/traenger-din-bolig-til-renovering?utm_source=Boligsiden&utm_medium=Banner&utm_campaign=6'}, 'entryAddressID': '64709680-79f1-40cf-b862-a473e3985d47', 'gstkvhx': '01018090_53B_______', 'houseNumber': '53B', 'isPublic': True, 'municipality': {'churchTaxPercentage': 0.8, 'councilTaxPercentage': 23.7, 'districtPlanFrom': '2024-06-28', 'districtPlanPdfUrl': 'https://dokument.plandata.dk/20_11186212_1719470578287.pdf', 'landValueTaxLevelPerThousand': 34, 'masterPlanPdfUrl': 'https://dokument.plandata.dk/12_11267550_1717402838438.pdf', 'municipalityCode': 101, 'name': 'København', 'numberOfSchools': 127, 'population': 644431, 'slug': 'koebenhavn'}, 'province': {'name': 'Byen København', 'provinceCode': 'DK011', 'regionCode': 1084, 'slug': 'byen-koebenhavn'}, 'road': {'municipalityCode': 101, 'name': 'Ved Slusen', 'roadCode': 8090, 'roadID': '6dbadaf4-be9e-4598-86a0-4901a6eb8ea7', 'slug': 'ved-slusen'}, 'roadName': 'Ved Slusen', 'slug': 'ved-slusen-53b-2300-koebenhavn-s-01018090_53b_______', 'zip': {'name': 'København S', 'slug': 'koebenhavn-s', 'zipCode': 2300}, 'zipCode': 2300}   \n",
       "12                                                                                                                                                                                                                                     {'_links': {'self': {'href': '/addresses/02e88cad-8309-4d45-b59b-a944b829b512'}}, 'addressID': '02e88cad-8309-4d45-b59b-a944b829b512', 'allowNewValuationInfo': True, 'buildings': [{'buildingName': 'Carport', 'buildingNumber': '11', 'externalWallMaterial': 'Metal', 'roofingMaterial': 'Metal', 'totalArea': 112, 'yearBuilt': 1990}, {'buildingName': 'Udhus', 'buildingNumber': '12', 'externalWallMaterial': 'Metal', 'roofingMaterial': 'Metal', 'totalArea': 39, 'yearBuilt': 1990}, {'buildingName': 'Udhus', 'buildingNumber': '15', 'externalWallMaterial': 'Metal', 'roofingMaterial': 'Metal', 'totalArea': 39, 'yearBuilt': 1990}, {'buildingName': 'Udhus', 'buildingNumber': '16', 'externalWallMaterial': 'Metal', 'roofingMaterial': 'Metal', 'totalArea': 15, 'yearBuilt': 1990}], 'city': {'name': 'København K', 'slug': 'koebenhavn-k'}, 'cityName': 'København K', 'coordinates': {'lat': 55.670937, 'lon': 12.581738, 'type': 'EPSG4326'}, 'daysOnMarket': {'realtors': []}, 'energyLabelImprovement': {'improvementCase': 'FALLBACK', 'sparEnergiLink': 'https://sparenergi.dk/forbruger/boligen/traenger-din-bolig-til-renovering?utm_source=Boligsiden&utm_medium=Banner&utm_campaign=6'}, 'entryAddressID': '0a3f507a-b3d7-32b8-e044-0003ba298018', 'gstkvhx': '01014140___1_______', 'houseNumber': '1', 'isPublic': True, 'municipality': {'churchTaxPercentage': 0.8, 'councilTaxPercentage': 23.7, 'districtPlanFrom': '2024-06-28', 'districtPlanPdfUrl': 'https://dokument.plandata.dk/20_11186212_1719470578287.pdf', 'landValueTaxLevelPerThousand': 34, 'masterPlanPdfUrl': 'https://dokument.plandata.dk/12_11267550_1717402838438.pdf', 'municipalityCode': 101, 'name': 'København', 'numberOfSchools': 127, 'population': 644431, 'slug': 'koebenhavn'}, 'province': {'name': 'Byen København', 'provinceCode': 'DK011', 'regionCode': 1084, 'slug': 'byen-koebenhavn'}, 'road': {'municipalityCode': 101, 'name': 'Langebrogade', 'roadCode': 4140, 'roadID': '7134e413-ca64-4d67-958b-012835f3c6fa', 'slug': 'langebrogade'}, 'roadName': 'Langebrogade', 'slug': 'langebrogade-1-1411-koebenhavn-k-01014140___1_______', 'zip': {'group': 1000, 'name': 'København K', 'slug': 'koebenhavn-k', 'zipCode': 1411}, 'zipCode': 1411}   \n",
       "13                                                                                                                                                                                                                          {'_links': {'self': {'href': '/addresses/87cdf76a-7af5-4751-8da7-9c621e70587d'}}, 'addressID': '87cdf76a-7af5-4751-8da7-9c621e70587d', 'addressType': 'villa', 'allowNewValuationInfo': True, 'bfeNumbers': [719549], 'buildings': [{'bathroomCondition': 'Badeværelse i enheden', 'buildingName': 'Fritliggende enfamilieshus (parcelhus)', 'buildingNumber': '28', 'externalWallMaterial': 'Træ', 'heatingInstallation': 'Varmepumpe', 'housingArea': 161, 'kitchenCondition': 'Eget køkken med afløb', 'numberOfBathrooms': 2, 'numberOfFloors': 1, 'numberOfKitchens': 1, 'numberOfRooms': 6, 'numberOfToilets': 2, 'roofingMaterial': 'Tagpap med stor hældning', 'toiletCondition': 'Vandskyllende toilet i enheden', 'totalArea': 94, 'yearBuilt': 2007}], 'city': {'name': 'Nykøbing Sj', 'slug': 'nykoebing-sj'}, 'cityName': 'Nykøbing Sj', 'coordinates': {'lat': 55.915054, 'lon': 11.676225, 'type': 'EPSG4326'}, 'daysOnMarket': {'realtors': []}, 'energyLabelImprovement': {'improvementCase': 'FALLBACK', 'sparEnergiLink': 'https://sparenergi.dk/forbruger/boligen/traenger-din-bolig-til-renovering?utm_source=Boligsiden&utm_medium=Banner&utm_campaign=6'}, 'entryAddressID': '39ece5fb-f031-0ee2-e044-0003ba298018', 'gstkvhx': '03060870_49C_______', 'houseNumber': '49C', 'isPublic': True, 'livingArea': 161, 'municipality': {'churchTaxPercentage': 0.98, 'councilTaxPercentage': 26.3, 'districtPlanFrom': '2024-06-04', 'districtPlanPdfUrl': 'https://dokument.plandata.dk/20_11300377_1717488791555.pdf', 'landValueTaxLevelPerThousand': 34, 'masterPlanPdfUrl': 'https://dokument.plandata.dk/12_11299765_1710234353814.pdf', 'municipalityCode': 306, 'name': 'Odsherred', 'numberOfSchools': 16, 'population': 32881, 'slug': 'odsherred'}, 'propertyNumber': 40026, 'province': {'name': 'Vest- og Sydsjælland', 'provinceCode': 'DK022', 'regionCode': 1085, 'slug': 'vest--og-sydsjaelland'}, 'road': {'municipalityCode': 306, 'name': 'Havnevej', 'roadCode': 870, 'roadID': '100b37b8-706e-4170-836a-e72b681322b7', 'slug': 'havnevej'}, 'roadName': 'Havnevej', 'slug': 'havnevej-49c-4500-nykoebing-sj-03060870_49c_______', 'weightedArea': 154.3, 'zip': {'name': 'Nykøbing Sj', 'slug': 'nykoebing-sj', 'zipCode': 4500}, 'zipCode': 4500}   \n",
       "14  {'_links': {'self': {'href': '/addresses/3c0b2ee1-9daa-40c6-bce0-2f9302c416de'}}, 'addressID': '3c0b2ee1-9daa-40c6-bce0-2f9302c416de', 'allowNewValuationInfo': True, 'bfeNumbers': [424049], 'buildings': [{'bathroomCondition': 'Badeværelse i enheden', 'buildingName': 'Etagebolig-bygning, flerfamiliehus eller tofamiliehus', 'buildingNumber': '7', 'externalWallMaterial': 'Betonelementer', 'heatingInstallation': 'Fjernvarme/blokvarme', 'housingArea': 117, 'kitchenCondition': 'Eget køkken med afløb', 'numberOfBathrooms': 1, 'numberOfFloors': 8, 'numberOfKitchens': 22, 'numberOfRooms': 4, 'numberOfToilets': 1, 'roofingMaterial': 'Tagpap med stor hældning', 'toiletCondition': 'Vandskyllende toilet i enheden', 'totalArea': 432, 'yearBuilt': 2016}], 'city': {'name': 'København SV', 'slug': 'koebenhavn-sv'}, 'cityName': 'København SV', 'coordinates': {'lat': 55.64631, 'lon': 12.544503, 'type': 'EPSG4326'}, 'daysOnMarket': {'realtors': []}, 'energyLabelImprovement': {'improvementCase': 'FALLBACK', 'sparEnergiLink': 'https://sparenergi.dk/forbruger/boligen/traenger-din-bolig-til-renovering?utm_source=Boligsiden&utm_medium=Banner&utm_campaign=6'}, 'entryAddressID': 'a0cf05ea-16a2-4124-b8d7-23a7c20d0804', 'floor': '6', 'gstkvhx': '01011958__2E__6____', 'houseNumber': '2E', 'isPublic': True, 'latestValuation': 3100000, 'livingArea': 117, 'municipality': {'churchTaxPercentage': 0.8, 'councilTaxPercentage': 23.7, 'districtPlanFrom': '2024-06-28', 'districtPlanPdfUrl': 'https://dokument.plandata.dk/20_11186212_1719470578287.pdf', 'landValueTaxLevelPerThousand': 34, 'masterPlanPdfUrl': 'https://dokument.plandata.dk/12_11267550_1717402838438.pdf', 'municipalityCode': 101, 'name': 'København', 'numberOfSchools': 127, 'population': 644431, 'slug': 'koebenhavn'}, 'propertyNumber': 21216, 'province': {'name': 'Byen København', 'provinceCode': 'DK011', 'regionCode': 1084, 'slug': 'byen-koebenhavn'}, 'registrations': [{'amount': 5055000, 'area': 117, 'date': '2017-05-09', 'municipalityCode': 101, 'propertyNumber': 21216, 'registrationID': '5011370', 'type': 'normal'}], 'road': {'municipalityCode': 101, 'name': 'Frederikskaj', 'roadCode': 1958, 'roadID': 'cfff4bbd-3438-404c-ac5b-41108d618c4f', 'slug': 'frederikskaj'}, 'roadName': 'Frederikskaj', 'slug': 'frederikskaj-2e-6-2450-koebenhavn-sv-01011958__2e__6____', 'zip': {'name': 'København SV', 'slug': 'koebenhavn-sv', 'zipCode': 2450}, 'zipCode': 2450}   \n",
       "15                                                                                                                                                                                                                                                                                                                                                                                                                                                                                                                                                                                                                                                                                                                                                                                                                                                                                                                                                                                                                                                                                                                                                                                 {'_links': {'self': {'href': '/addresses/26758225-ad6c-4026-a5db-6b4f060b09e3'}}, 'addressID': '26758225-ad6c-4026-a5db-6b4f060b09e3', 'allowNewValuationInfo': True, 'city': {'name': 'Ishøj', 'slug': 'ishoej'}, 'cityName': 'Ishøj', 'daysOnMarket': {'realtors': []}, 'energyLabelImprovement': {'improvementCase': 'FALLBACK', 'sparEnergiLink': 'https://sparenergi.dk/forbruger/boligen/traenger-din-bolig-til-renovering?utm_source=Boligsiden&utm_medium=Banner&utm_campaign=6'}, 'houseNumber': 'H091', 'isPublic': False, 'municipality': {'churchTaxPercentage': 0.9, 'councilTaxPercentage': 25, 'districtPlanFrom': '2023-12-20', 'districtPlanPdfUrl': 'https://dokument.plandata.dk/20_11186426_1702987072764.pdf', 'landValueTaxLevelPerThousand': 25, 'masterPlanPdfUrl': 'https://dokument.plandata.dk/12_11195828_1702992436420.pdf', 'municipalityCode': 183, 'name': 'Ishøj', 'numberOfSchools': 7, 'population': 23225, 'slug': 'ishoej'}, 'province': {'name': 'Københavns omegn', 'provinceCode': 'DK012', 'regionCode': 1084, 'slug': 'koebenhavns-omegn'}, 'road': {'municipalityCode': 183, 'name': 'Ishøj Havn'}, 'roadName': 'Ishøj Havn', 'slug': 'ishoej-havn-h091-2635-ishoej-26758225-ad6c-4026-a5db-6b4f060b09e3', 'zip': {'name': 'Ishøj', 'slug': 'ishoej', 'zipCode': 2635}, 'zipCode': 2635}   \n",
       "16                                                                                                                                                                                                                                                                                                                                                                                                                                                                                                                                                                                                                                            {'_links': {'self': {'href': '/addresses/c987e599-210d-41d3-8485-b74be7ad63dd'}}, 'addressID': 'c987e599-210d-41d3-8485-b74be7ad63dd', 'allowNewValuationInfo': True, 'city': {'name': 'København K', 'slug': 'koebenhavn-k'}, 'cityName': 'København K', 'coordinates': {'lat': 55.685863, 'lon': 12.608955, 'type': 'EPSG4326'}, 'daysOnMarket': {'realtors': []}, 'energyLabelImprovement': {'improvementCase': 'FALLBACK', 'sparEnergiLink': 'https://sparenergi.dk/forbruger/boligen/traenger-din-bolig-til-renovering?utm_source=Boligsiden&utm_medium=Banner&utm_campaign=6'}, 'entryAddressID': 'afc4f991-4c6f-49a3-9cc2-5e5a95509dda', 'gstkvhx': '01013998__17_______', 'houseNumber': '17', 'isPublic': True, 'livingArea': 175, 'municipality': {'churchTaxPercentage': 0.8, 'councilTaxPercentage': 23.7, 'districtPlanFrom': '2024-06-28', 'districtPlanPdfUrl': 'https://dokument.plandata.dk/20_11186212_1719470578287.pdf', 'landValueTaxLevelPerThousand': 34, 'masterPlanPdfUrl': 'https://dokument.plandata.dk/12_11267550_1717402838438.pdf', 'municipalityCode': 101, 'name': 'København', 'numberOfSchools': 127, 'population': 644431, 'slug': 'koebenhavn'}, 'propertyNumber': 42090, 'province': {'name': 'Byen København', 'provinceCode': 'DK011', 'regionCode': 1084, 'slug': 'byen-koebenhavn'}, 'registrations': [{'amount': 9000000, 'area': 175, 'date': '1997-06-02', 'municipalityCode': 101, 'propertyNumber': 42090, 'registrationID': '509311', 'type': 'normal'}], 'road': {'municipalityCode': 101, 'name': 'Krudtløbsvej', 'roadCode': 3998, 'roadID': '6fd55cd8-e567-473f-adb4-f04cbf62da4b', 'slug': 'krudtloebsvej'}, 'roadName': 'Krudtløbsvej', 'slug': 'krudtloebsvej-17-1439-koebenhavn-k-01013998__17_______', 'zip': {'group': 1000, 'name': 'København K', 'slug': 'koebenhavn-k', 'zipCode': 1439}, 'zipCode': 1439}   \n",
       "17                                                                                                                                                                                                                                                                                                                                                                                                                                                                                                                                                                                                                                                                                                                                                                                                                                                                   {'_links': {'self': {'href': '/addresses/206c9ff1-501f-4b6f-a498-92ba9f89ebaa'}}, 'addressID': '206c9ff1-501f-4b6f-a498-92ba9f89ebaa', 'allowNewValuationInfo': True, 'city': {'name': 'København K', 'slug': 'koebenhavn-k'}, 'cityName': 'København K', 'coordinates': {'lat': 55.685547, 'lon': 12.609108, 'type': 'EPSG4326'}, 'daysOnMarket': {'realtors': []}, 'energyLabelImprovement': {'improvementCase': 'FALLBACK', 'sparEnergiLink': 'https://sparenergi.dk/forbruger/boligen/traenger-din-bolig-til-renovering?utm_source=Boligsiden&utm_medium=Banner&utm_campaign=6'}, 'entryAddressID': 'bc38cfcd-a53a-406d-b01f-404388fff7c8', 'gstkvhx': '01013998__15_______', 'houseNumber': '15', 'isPublic': True, 'municipality': {'churchTaxPercentage': 0.8, 'councilTaxPercentage': 23.7, 'districtPlanFrom': '2024-06-28', 'districtPlanPdfUrl': 'https://dokument.plandata.dk/20_11186212_1719470578287.pdf', 'landValueTaxLevelPerThousand': 34, 'masterPlanPdfUrl': 'https://dokument.plandata.dk/12_11267550_1717402838438.pdf', 'municipalityCode': 101, 'name': 'København', 'numberOfSchools': 127, 'population': 644431, 'slug': 'koebenhavn'}, 'province': {'name': 'Byen København', 'provinceCode': 'DK011', 'regionCode': 1084, 'slug': 'byen-koebenhavn'}, 'road': {'municipalityCode': 101, 'name': 'Krudtløbsvej', 'roadCode': 3998, 'roadID': '6fd55cd8-e567-473f-adb4-f04cbf62da4b', 'slug': 'krudtloebsvej'}, 'roadName': 'Krudtløbsvej', 'slug': 'krudtloebsvej-15-1439-koebenhavn-k-01013998__15_______', 'zip': {'group': 1000, 'name': 'København K', 'slug': 'koebenhavn-k', 'zipCode': 1439}, 'zipCode': 1439}   \n",
       "18                                                                                                                                                                                        {'_links': {'self': {'href': '/addresses/e877db74-59c9-4b5f-ad30-40dd12749f96'}}, 'addressID': 'e877db74-59c9-4b5f-ad30-40dd12749f96', 'addressType': 'villa', 'allowNewValuationInfo': True, 'bfeNumbers': [700881], 'buildings': [{'bathroomCondition': 'Badeværelse i enheden', 'buildingName': 'Fritliggende enfamilieshus (parcelhus)', 'buildingNumber': '18', 'externalWallMaterial': 'Træ', 'heatingInstallation': 'Centralvarme med én fyringsenhed', 'housingArea': 80, 'kitchenCondition': 'Eget køkken med afløb', 'numberOfBathrooms': 1, 'numberOfFloors': 1, 'numberOfKitchens': 1, 'numberOfRooms': 4, 'numberOfToilets': 2, 'roofingMaterial': 'Andet materiale', 'toiletCondition': 'Vandskyllende toilet i enheden', 'totalArea': 80, 'yearBuilt': 2014}], 'city': {'name': 'København SV', 'slug': 'koebenhavn-sv'}, 'cityName': 'København SV', 'coordinates': {'lat': 55.659576, 'lon': 12.559762, 'type': 'EPSG4326'}, 'daysOnMarket': {'realtors': []}, 'energyLabelImprovement': {'improvementCase': 'FALLBACK', 'sparEnergiLink': 'https://sparenergi.dk/forbruger/boligen/traenger-din-bolig-til-renovering?utm_source=Boligsiden&utm_medium=Banner&utm_campaign=6'}, 'entryAddressID': '75ade738-275f-4300-9971-96985b9c30c6', 'gstkvhx': '01016448__22_______', 'houseNumber': '22', 'isPublic': True, 'latestValuation': 1250000, 'livingArea': 80, 'municipality': {'churchTaxPercentage': 0.8, 'councilTaxPercentage': 23.7, 'districtPlanFrom': '2024-06-28', 'districtPlanPdfUrl': 'https://dokument.plandata.dk/20_11186212_1719470578287.pdf', 'landValueTaxLevelPerThousand': 34, 'masterPlanPdfUrl': 'https://dokument.plandata.dk/12_11267550_1717402838438.pdf', 'municipalityCode': 101, 'name': 'København', 'numberOfSchools': 127, 'population': 644431, 'slug': 'koebenhavn'}, 'propertyNumber': 9347, 'province': {'name': 'Byen København', 'provinceCode': 'DK011', 'regionCode': 1084, 'slug': 'byen-koebenhavn'}, 'road': {'municipalityCode': 101, 'name': 'Skibbroen', 'roadCode': 6448, 'roadID': '6735f803-89ba-4e5e-8390-66d84b8e880a', 'slug': 'skibbroen'}, 'roadName': 'Skibbroen', 'slug': 'skibbroen-22-2450-koebenhavn-sv-01016448__22_______', 'weightedArea': 80, 'zip': {'name': 'København SV', 'slug': 'koebenhavn-sv', 'zipCode': 2450}, 'zipCode': 2450}   \n",
       "19                                                                                                                                                                                                                                                                                                                                                                                                                                                                                                                                                                                                                                                                                                                                                                                                 {'_links': {'self': {'href': '/addresses/3dbbbfcf-5fff-4697-8f2c-f0be121ededa'}}, 'addressID': '3dbbbfcf-5fff-4697-8f2c-f0be121ededa', 'allowNewValuationInfo': True, 'bfeNumbers': [700876], 'boligsidenInfo': {'latestSoldArea': 70}, 'city': {'name': 'København SV', 'slug': 'koebenhavn-sv'}, 'cityName': 'København SV', 'coordinates': {'lat': 55.65944, 'lon': 12.559025, 'type': 'EPSG4326'}, 'daysOnMarket': {'realtors': []}, 'energyLabelImprovement': {'improvementCase': 'FALLBACK', 'sparEnergiLink': 'https://sparenergi.dk/forbruger/boligen/traenger-din-bolig-til-renovering?utm_source=Boligsiden&utm_medium=Banner&utm_campaign=6'}, 'entryAddressID': 'd90592e8-121a-4c20-91b6-72cad26ffd35', 'gstkvhx': '01016448__12_______', 'houseNumber': '12', 'isPublic': True, 'municipality': {'churchTaxPercentage': 0.8, 'councilTaxPercentage': 23.7, 'districtPlanFrom': '2024-06-28', 'districtPlanPdfUrl': 'https://dokument.plandata.dk/20_11186212_1719470578287.pdf', 'landValueTaxLevelPerThousand': 34, 'masterPlanPdfUrl': 'https://dokument.plandata.dk/12_11267550_1717402838438.pdf', 'municipalityCode': 101, 'name': 'København', 'numberOfSchools': 127, 'population': 644431, 'slug': 'koebenhavn'}, 'propertyNumber': 9341, 'province': {'name': 'Byen København', 'provinceCode': 'DK011', 'regionCode': 1084, 'slug': 'byen-koebenhavn'}, 'road': {'municipalityCode': 101, 'name': 'Skibbroen', 'roadCode': 6448, 'roadID': '6735f803-89ba-4e5e-8390-66d84b8e880a', 'slug': 'skibbroen'}, 'roadName': 'Skibbroen', 'slug': 'skibbroen-12-2450-koebenhavn-sv-01016448__12_______', 'zip': {'name': 'København SV', 'slug': 'koebenhavn-sv', 'zipCode': 2450}, 'zipCode': 2450}   \n",
       "20                                                                                                                                                                                                                                                                                                                                                                                                                                                                                                                                                                                                                                                                                                                                                                                                                                                 {'_links': {'self': {'href': '/addresses/670cbb31-6a79-4989-9cfd-7ccc64f064a6'}}, 'addressID': '670cbb31-6a79-4989-9cfd-7ccc64f064a6', 'allowNewValuationInfo': True, 'boligsidenInfo': {'latestSoldArea': 50}, 'city': {'name': 'København S', 'slug': 'koebenhavn-s'}, 'cityName': 'København S', 'coordinates': {'lat': 55.64196, 'lon': 12.553308, 'type': 'EPSG4326'}, 'daysOnMarket': {'realtors': []}, 'energyLabelImprovement': {'improvementCase': 'FALLBACK', 'sparEnergiLink': 'https://sparenergi.dk/forbruger/boligen/traenger-din-bolig-til-renovering?utm_source=Boligsiden&utm_medium=Banner&utm_campaign=6'}, 'entryAddressID': '75df73f2-f339-4043-b945-4acf7c0e58c0', 'gstkvhx': '01018090_32Z_______', 'houseNumber': '32Z', 'isPublic': True, 'municipality': {'churchTaxPercentage': 0.8, 'councilTaxPercentage': 23.7, 'districtPlanFrom': '2024-06-28', 'districtPlanPdfUrl': 'https://dokument.plandata.dk/20_11186212_1719470578287.pdf', 'landValueTaxLevelPerThousand': 34, 'masterPlanPdfUrl': 'https://dokument.plandata.dk/12_11267550_1717402838438.pdf', 'municipalityCode': 101, 'name': 'København', 'numberOfSchools': 127, 'population': 644431, 'slug': 'koebenhavn'}, 'province': {'name': 'Byen København', 'provinceCode': 'DK011', 'regionCode': 1084, 'slug': 'byen-koebenhavn'}, 'road': {'municipalityCode': 101, 'name': 'Ved Slusen', 'roadCode': 8090, 'roadID': '6dbadaf4-be9e-4598-86a0-4901a6eb8ea7', 'slug': 'ved-slusen'}, 'roadName': 'Ved Slusen', 'slug': 'ved-slusen-32z-2300-koebenhavn-s-01018090_32z_______', 'zip': {'name': 'København S', 'slug': 'koebenhavn-s', 'zipCode': 2300}, 'zipCode': 2300}   \n",
       "21                                                                                                                                                                                                                                                                                                                                                                                                                                                                                                                                                                                                                                                                                                                                                                                                               {'_links': {'self': {'href': '/addresses/3d5046c5-3e4d-428a-9202-0931538bb6aa'}}, 'addressID': '3d5046c5-3e4d-428a-9202-0931538bb6aa', 'allowNewValuationInfo': True, 'bfeNumbers': [700828], 'city': {'name': 'København SV', 'slug': 'koebenhavn-sv'}, 'cityName': 'København SV', 'coordinates': {'lat': 55.647205, 'lon': 12.550493, 'type': 'EPSG4326'}, 'daysOnMarket': {'realtors': []}, 'energyLabelImprovement': {'improvementCase': 'FALLBACK', 'sparEnergiLink': 'https://sparenergi.dk/forbruger/boligen/traenger-din-bolig-til-renovering?utm_source=Boligsiden&utm_medium=Banner&utm_campaign=6'}, 'entryAddressID': '96bd0a76-8379-4d3f-af4a-1cf633645a72', 'gstkvhx': '01018823___3_______', 'houseNumber': '3', 'isPublic': True, 'municipality': {'churchTaxPercentage': 0.8, 'councilTaxPercentage': 23.7, 'districtPlanFrom': '2024-06-28', 'districtPlanPdfUrl': 'https://dokument.plandata.dk/20_11186212_1719470578287.pdf', 'landValueTaxLevelPerThousand': 34, 'masterPlanPdfUrl': 'https://dokument.plandata.dk/12_11267550_1717402838438.pdf', 'municipalityCode': 101, 'name': 'København', 'numberOfSchools': 127, 'population': 644431, 'slug': 'koebenhavn'}, 'propertyNumber': 24189, 'province': {'name': 'Byen København', 'provinceCode': 'DK011', 'regionCode': 1084, 'slug': 'byen-koebenhavn'}, 'road': {'municipalityCode': 101, 'name': 'Ben Websters Vej', 'roadCode': 8823, 'roadID': 'f6f8c792-01c8-4400-8a18-b8f6f52d0b59', 'slug': 'ben-websters-vej'}, 'roadName': 'Ben Websters Vej', 'slug': 'ben-websters-vej-3-2450-koebenhavn-sv-01018823___3_______', 'zip': {'name': 'København SV', 'slug': 'koebenhavn-sv', 'zipCode': 2450}, 'zipCode': 2450}   \n",
       "22                                                                                                                                                                                                                                                                                                                                         {'_links': {'self': {'href': '/addresses/6df03516-3a65-433b-8eee-1862282bb184'}}, 'addressID': '6df03516-3a65-433b-8eee-1862282bb184', 'allowNewValuationInfo': True, 'bfeNumbers': [100302630], 'buildings': [{'bathroomCondition': 'Badeværelse i enheden', 'buildingName': 'Sommerhus', 'buildingNumber': '4', 'externalWallMaterial': 'Andet materiale', 'heatingInstallation': 'Varmepumpe', 'housingArea': 61, 'kitchenCondition': 'Eget køkken med afløb', 'numberOfBathrooms': 1, 'numberOfFloors': 1, 'numberOfRooms': 3, 'numberOfToilets': 1, 'roofingMaterial': 'Tagpap med lille hældning', 'toiletCondition': 'Vandskyllende toilet i enheden', 'totalArea': 61, 'yearBuilt': 2021}], 'city': {'name': 'Grenaa', 'slug': 'grenaa'}, 'cityName': 'Grenaa', 'coordinates': {'lat': 56.404488, 'lon': 10.923306, 'type': 'EPSG4326'}, 'daysOnMarket': {'realtors': []}, 'energyLabelImprovement': {'improvementCase': 'FALLBACK', 'sparEnergiLink': 'https://sparenergi.dk/forbruger/boligen/traenger-din-bolig-til-renovering?utm_source=Boligsiden&utm_medium=Banner&utm_campaign=6'}, 'entryAddressID': 'e3934c62-7235-4da8-a4fd-7a8adc4a1a48', 'gstkvhx': '07077040_50H_______', 'houseNumber': '50H', 'isPublic': True, 'livingArea': 61, 'municipality': {'churchTaxPercentage': 1, 'councilTaxPercentage': 26, 'districtPlanFrom': '2024-06-04', 'districtPlanPdfUrl': 'https://dokument.plandata.dk/20_11300166_1717485065762.pdf', 'landValueTaxLevelPerThousand': 34, 'masterPlanPdfUrl': 'https://dokument.plandata.dk/12_11249369_1715668972986.pdf', 'municipalityCode': 707, 'name': 'Norddjurs', 'numberOfSchools': 10, 'population': 36921, 'slug': 'norddjurs'}, 'propertyNumber': 0, 'province': {'name': 'Østjylland', 'provinceCode': 'DK042', 'regionCode': 1082, 'slug': 'oestjylland'}, 'road': {'municipalityCode': 707, 'name': 'Skakkes Holm', 'roadCode': 7040, 'roadID': 'e2327680-f292-494e-816f-968e005521e7', 'slug': 'skakkes-holm'}, 'roadName': 'Skakkes Holm', 'slug': 'skakkes-holm-50h-8500-grenaa-07077040_50h_______', 'weightedArea': 61, 'zip': {'name': 'Grenaa', 'slug': 'grenaa', 'zipCode': 8500}, 'zipCode': 8500}   \n",
       "23                                                                                                                                                                                                                                                                                                                                                                                                                                                                                                                                                                                                                                                                                                                                                                                                                                                                 {'_links': {'self': {'href': '/addresses/32963604-bba6-4500-b716-19d6dc59ba67'}}, 'addressID': '32963604-bba6-4500-b716-19d6dc59ba67', 'allowNewValuationInfo': True, 'bfeNumbers': [100059905], 'city': {'name': 'København S', 'slug': 'koebenhavn-s'}, 'cityName': 'København S', 'coordinates': {'lat': 55.641228, 'lon': 12.553767, 'type': 'EPSG4326'}, 'daysOnMarket': {'realtors': []}, 'energyLabelImprovement': {'improvementCase': 'FALLBACK', 'sparEnergiLink': 'https://sparenergi.dk/forbruger/boligen/traenger-din-bolig-til-renovering?utm_source=Boligsiden&utm_medium=Banner&utm_campaign=6'}, 'entryAddressID': '9f44b91e-8a7b-4b0b-b4f3-d4c36196cae1', 'gstkvhx': '01018090__45_______', 'houseNumber': '45', 'isPublic': True, 'municipality': {'churchTaxPercentage': 0.8, 'councilTaxPercentage': 23.7, 'districtPlanFrom': '2024-06-28', 'districtPlanPdfUrl': 'https://dokument.plandata.dk/20_11186212_1719470578287.pdf', 'landValueTaxLevelPerThousand': 34, 'masterPlanPdfUrl': 'https://dokument.plandata.dk/12_11267550_1717402838438.pdf', 'municipalityCode': 101, 'name': 'København', 'numberOfSchools': 127, 'population': 644431, 'slug': 'koebenhavn'}, 'province': {'name': 'Byen København', 'provinceCode': 'DK011', 'regionCode': 1084, 'slug': 'byen-koebenhavn'}, 'road': {'municipalityCode': 101, 'name': 'Ved Slusen', 'roadCode': 8090, 'roadID': '6dbadaf4-be9e-4598-86a0-4901a6eb8ea7', 'slug': 'ved-slusen'}, 'roadName': 'Ved Slusen', 'slug': 'ved-slusen-45-2300-koebenhavn-s-01018090__45_______', 'zip': {'name': 'København S', 'slug': 'koebenhavn-s', 'zipCode': 2300}, 'zipCode': 2300}   \n",
       "24                                                                                                                                                                                                                                                                                                                                                                                                                                                                                                                                                                                                                                                                                                                                                                                                {'_links': {'self': {'href': '/addresses/e6d3676d-ab6a-4cf7-9749-032e0df1de2e'}}, 'addressID': 'e6d3676d-ab6a-4cf7-9749-032e0df1de2e', 'allowNewValuationInfo': True, 'bfeNumbers': [705502], 'boligsidenInfo': {'latestSoldArea': 32}, 'city': {'name': 'København S', 'slug': 'koebenhavn-s'}, 'cityName': 'København S', 'coordinates': {'lat': 55.642273, 'lon': 12.553643, 'type': 'EPSG4326'}, 'daysOnMarket': {'realtors': []}, 'energyLabelImprovement': {'improvementCase': 'FALLBACK', 'sparEnergiLink': 'https://sparenergi.dk/forbruger/boligen/traenger-din-bolig-til-renovering?utm_source=Boligsiden&utm_medium=Banner&utm_campaign=6'}, 'entryAddressID': '0a3f507b-1f9e-32b8-e044-0003ba298018', 'gstkvhx': '01018090__32_______', 'houseNumber': '32', 'isPublic': True, 'municipality': {'churchTaxPercentage': 0.8, 'councilTaxPercentage': 23.7, 'districtPlanFrom': '2024-06-28', 'districtPlanPdfUrl': 'https://dokument.plandata.dk/20_11186212_1719470578287.pdf', 'landValueTaxLevelPerThousand': 34, 'masterPlanPdfUrl': 'https://dokument.plandata.dk/12_11267550_1717402838438.pdf', 'municipalityCode': 101, 'name': 'København', 'numberOfSchools': 127, 'population': 644431, 'slug': 'koebenhavn'}, 'propertyNumber': 939707, 'province': {'name': 'Byen København', 'provinceCode': 'DK011', 'regionCode': 1084, 'slug': 'byen-koebenhavn'}, 'road': {'municipalityCode': 101, 'name': 'Ved Slusen', 'roadCode': 8090, 'roadID': '6dbadaf4-be9e-4598-86a0-4901a6eb8ea7', 'slug': 'ved-slusen'}, 'roadName': 'Ved Slusen', 'slug': 'ved-slusen-32-2300-koebenhavn-s-01018090__32_______', 'zip': {'name': 'København S', 'slug': 'koebenhavn-s', 'zipCode': 2300}, 'zipCode': 2300}   \n",
       "25                                                                                                                                                      {'_links': {'self': {'href': '/addresses/32f19510-9306-4486-9123-b52fa296bf62'}}, 'addressID': '32f19510-9306-4486-9123-b52fa296bf62', 'addressType': 'villa', 'allowNewValuationInfo': True, 'bfeNumbers': [700827, 100079699], 'boligsidenInfo': {'latestSoldArea': 103}, 'buildings': [{'bathroomCondition': 'Badeværelse i enheden', 'buildingName': 'Fritliggende enfamilieshus (parcelhus)', 'buildingNumber': '1', 'externalWallMaterial': 'Metal', 'heatingInstallation': 'Centralvarme med én fyringsenhed', 'housingArea': 103, 'kitchenCondition': 'Eget køkken med afløb', 'numberOfBathrooms': 1, 'numberOfFloors': 1, 'numberOfKitchens': 1, 'numberOfRooms': 6, 'numberOfToilets': 2, 'roofingMaterial': 'Metal', 'toiletCondition': 'Vandskyllende toilet i enheden', 'totalArea': 192, 'yearBuilt': 2017}], 'city': {'name': 'København SV', 'slug': 'koebenhavn-sv'}, 'cityName': 'København SV', 'coordinates': {'lat': 55.646744, 'lon': 12.545307, 'type': 'EPSG4326'}, 'daysOnMarket': {'realtors': []}, 'energyLabelImprovement': {'improvementCase': 'FALLBACK', 'sparEnergiLink': 'https://sparenergi.dk/forbruger/boligen/traenger-din-bolig-til-renovering?utm_source=Boligsiden&utm_medium=Banner&utm_campaign=6'}, 'entryAddressID': '990d60b5-d594-461b-8acd-7409c6f3c5b9', 'gstkvhx': '01011958__2V_______', 'houseNumber': '2V', 'isPublic': True, 'livingArea': 103, 'municipality': {'churchTaxPercentage': 0.8, 'councilTaxPercentage': 23.7, 'districtPlanFrom': '2024-06-28', 'districtPlanPdfUrl': 'https://dokument.plandata.dk/20_11186212_1719470578287.pdf', 'landValueTaxLevelPerThousand': 34, 'masterPlanPdfUrl': 'https://dokument.plandata.dk/12_11267550_1717402838438.pdf', 'municipalityCode': 101, 'name': 'København', 'numberOfSchools': 127, 'population': 644431, 'slug': 'koebenhavn'}, 'propertyNumber': 18231, 'province': {'name': 'Byen København', 'provinceCode': 'DK011', 'regionCode': 1084, 'slug': 'byen-koebenhavn'}, 'road': {'municipalityCode': 101, 'name': 'Frederikskaj', 'roadCode': 1958, 'roadID': 'cfff4bbd-3438-404c-ac5b-41108d618c4f', 'slug': 'frederikskaj'}, 'roadName': 'Frederikskaj', 'slug': 'frederikskaj-2v-2450-koebenhavn-sv-01011958__2v_______', 'weightedArea': 103, 'zip': {'name': 'København SV', 'slug': 'koebenhavn-sv', 'zipCode': 2450}, 'zipCode': 2450}   \n",
       "26                                                                                                                                                                                                                                                                                                                                                                                                                                                                                                                                                                                                                                                                                                                                                                                                                                                                                           {'_links': {'self': {'href': '/addresses/c6ad1490-b692-4187-873c-55fe8cbd5153'}}, 'addressID': 'c6ad1490-b692-4187-873c-55fe8cbd5153', 'allowNewValuationInfo': True, 'city': {'name': 'København S', 'slug': 'koebenhavn-s'}, 'cityName': 'København S', 'coordinates': {'lat': 55.64127, 'lon': 12.552835, 'type': 'EPSG4326'}, 'daysOnMarket': {'realtors': []}, 'energyLabelImprovement': {'improvementCase': 'FALLBACK', 'sparEnergiLink': 'https://sparenergi.dk/forbruger/boligen/traenger-din-bolig-til-renovering?utm_source=Boligsiden&utm_medium=Banner&utm_campaign=6'}, 'entryAddressID': '666dbe81-3a33-4ac3-968c-95a0d53a4e88', 'gstkvhx': '01018090_53A_______', 'houseNumber': '53A', 'isPublic': True, 'municipality': {'churchTaxPercentage': 0.8, 'councilTaxPercentage': 23.7, 'districtPlanFrom': '2024-06-28', 'districtPlanPdfUrl': 'https://dokument.plandata.dk/20_11186212_1719470578287.pdf', 'landValueTaxLevelPerThousand': 34, 'masterPlanPdfUrl': 'https://dokument.plandata.dk/12_11267550_1717402838438.pdf', 'municipalityCode': 101, 'name': 'København', 'numberOfSchools': 127, 'population': 644431, 'slug': 'koebenhavn'}, 'province': {'name': 'Byen København', 'provinceCode': 'DK011', 'regionCode': 1084, 'slug': 'byen-koebenhavn'}, 'road': {'municipalityCode': 101, 'name': 'Ved Slusen', 'roadCode': 8090, 'roadID': '6dbadaf4-be9e-4598-86a0-4901a6eb8ea7', 'slug': 'ved-slusen'}, 'roadName': 'Ved Slusen', 'slug': 'ved-slusen-53a-2300-koebenhavn-s-01018090_53a_______', 'zip': {'name': 'København S', 'slug': 'koebenhavn-s', 'zipCode': 2300}, 'zipCode': 2300}   \n",
       "27                                                                                                                                                                                                                                                                                                                                                                                                                                                                                                                                                                                                                                                                                                                                                                                                                                                                                                                                                                                                                                                                                                                                                               {'_links': {'self': {'href': '/addresses/8bd38800-35ed-46b7-9bff-841f32575ccd'}}, 'addressID': '8bd38800-35ed-46b7-9bff-841f32575ccd', 'allowNewValuationInfo': True, 'city': {'name': 'Ærøskøbing', 'slug': 'aeroeskoebing'}, 'cityName': 'Ærøskøbing', 'daysOnMarket': {'realtors': []}, 'energyLabelImprovement': {'improvementCase': 'FALLBACK', 'sparEnergiLink': 'https://sparenergi.dk/forbruger/boligen/traenger-din-bolig-til-renovering?utm_source=Boligsiden&utm_medium=Banner&utm_campaign=6'}, 'isPublic': False, 'municipality': {'churchTaxPercentage': 1.07, 'councilTaxPercentage': 26.1, 'districtPlanFrom': '2024-05-22', 'districtPlanPdfUrl': 'https://dokument.plandata.dk/20_11282397_1716379772335.pdf', 'landValueTaxLevelPerThousand': 30, 'masterPlanPdfUrl': 'https://dokument.plandata.dk/12_11282394_1716379537403.pdf', 'municipalityCode': 492, 'name': 'Ærø', 'numberOfSchools': 2, 'population': 6025, 'slug': 'aeroe'}, 'province': {'name': 'Fyn', 'provinceCode': 'DK031', 'regionCode': 1083, 'slug': 'fyn'}, 'road': {'municipalityCode': 492, 'name': 'Ærøskøbing Havn, Bro 7'}, 'roadName': 'Ærøskøbing Havn, Bro 7', 'slug': 'aeroeskoebing-havn,-bro-7-5970-aeroeskoebing-8bd38800-35ed-46b7-9bff-841f32575ccd', 'zip': {'name': 'Ærøskøbing', 'slug': 'aeroeskoebing', 'zipCode': 5970}, 'zipCode': 5970}   \n",
       "28                                                                                                                                                                                                                                                                                                                                                                                                                                                                                                                                                                                                                                                                                                                                                                                                                                                                                                                                                                                                                                                                                                                        {'_links': {'self': {'href': '/addresses/72fbe9c2-ae56-4ade-a3d9-c6ba4a9c3fb8'}}, 'addressID': '72fbe9c2-ae56-4ade-a3d9-c6ba4a9c3fb8', 'allowNewValuationInfo': True, 'city': {'name': 'København K', 'slug': 'koebenhavn-k'}, 'cityName': 'København K', 'daysOnMarket': {'realtors': []}, 'energyLabelImprovement': {'improvementCase': 'FALLBACK', 'sparEnergiLink': 'https://sparenergi.dk/forbruger/boligen/traenger-din-bolig-til-renovering?utm_source=Boligsiden&utm_medium=Banner&utm_campaign=6'}, 'houseNumber': '75Z', 'isPublic': False, 'municipality': {'churchTaxPercentage': 0.8, 'councilTaxPercentage': 23.7, 'districtPlanFrom': '2024-06-28', 'districtPlanPdfUrl': 'https://dokument.plandata.dk/20_11186212_1719470578287.pdf', 'landValueTaxLevelPerThousand': 34, 'masterPlanPdfUrl': 'https://dokument.plandata.dk/12_11267550_1717402838438.pdf', 'municipalityCode': 101, 'name': 'København', 'numberOfSchools': 127, 'population': 644431, 'slug': 'koebenhavn'}, 'province': {'name': 'Byen København', 'provinceCode': 'DK011', 'regionCode': 1084, 'slug': 'byen-koebenhavn'}, 'road': {'municipalityCode': 101, 'name': 'Strandgade'}, 'roadName': 'Strandgade', 'slug': 'strandgade-75z-1401-koebenhavn-k-72fbe9c2-ae56-4ade-a3d9-c6ba4a9c3fb8', 'zip': {'group': 1000, 'name': 'København K', 'slug': 'koebenhavn-k', 'zipCode': 1401}, 'zipCode': 1401}   \n",
       "29                                                                                                                                                                                                                                                                                           {'_links': {'self': {'href': '/addresses/50ce4687-cc15-49da-9974-e13658a24028'}}, 'addressID': '50ce4687-cc15-49da-9974-e13658a24028', 'allowNewValuationInfo': True, 'bfeNumbers': [161715], 'boligsidenInfo': {'latestSoldArea': 93}, 'city': {'name': 'København SV', 'slug': 'koebenhavn-sv'}, 'cityName': 'København SV', 'coordinates': {'lat': 55.65837, 'lon': 12.562113, 'type': 'EPSG4326'}, 'daysOnMarket': {'realtors': []}, 'door': '3', 'energyLabelImprovement': {'improvementCase': 'FALLBACK', 'sparEnergiLink': 'https://sparenergi.dk/forbruger/boligen/traenger-din-bolig-til-renovering?utm_source=Boligsiden&utm_medium=Banner&utm_campaign=6'}, 'entryAddressID': 'e7bb3d1d-8a8e-4ddc-a66b-f11cf93d01f5', 'floor': '3', 'gstkvhx': '01018843__11__3___3', 'houseNumber': '11', 'isPublic': True, 'latestValuation': 2200000, 'livingArea': 93, 'municipality': {'churchTaxPercentage': 0.8, 'councilTaxPercentage': 23.7, 'districtPlanFrom': '2024-06-28', 'districtPlanPdfUrl': 'https://dokument.plandata.dk/20_11186212_1719470578287.pdf', 'landValueTaxLevelPerThousand': 34, 'masterPlanPdfUrl': 'https://dokument.plandata.dk/12_11267550_1717402838438.pdf', 'municipalityCode': 101, 'name': 'København', 'numberOfSchools': 127, 'population': 644431, 'slug': 'koebenhavn'}, 'propertyNumber': 26327, 'province': {'name': 'Byen København', 'provinceCode': 'DK011', 'regionCode': 1084, 'slug': 'byen-koebenhavn'}, 'registrations': [{'amount': 5395000, 'area': 93, 'date': '2021-06-30', 'livingArea': 93, 'municipalityCode': 101, 'perAreaPrice': 58010, 'propertyNumber': 26327, 'registrationID': '5618363', 'type': 'normal'}, {'amount': 3895000, 'date': '2016-04-19', 'municipalityCode': 101, 'propertyNumber': 26327, 'registrationID': '5083456', 'type': 'normal'}], 'road': {'municipalityCode': 101, 'name': 'Martin Luther Kings Vej', 'roadCode': 8843, 'roadID': '29bfe743-189c-43c2-8873-bf83ba42733f', 'slug': 'martin-luther-kings-vej'}, 'roadName': 'Martin Luther Kings Vej', 'slug': 'martin-luther-kings-vej-11-3-3-2450-koebenhavn-sv-01018843__11__3___3', 'zip': {'name': 'København SV', 'slug': 'koebenhavn-sv', 'zipCode': 2450}, 'zipCode': 2450}   \n",
       "30                                                                                                                                                                                                                                                                                                                                                                                                                                                                                                                                                                                                                                                                                                                                                                                                                                                                   {'_links': {'self': {'href': '/addresses/7a63945c-ad0c-455e-b865-38c89ca8e719'}}, 'addressID': '7a63945c-ad0c-455e-b865-38c89ca8e719', 'allowNewValuationInfo': True, 'city': {'name': 'København K', 'slug': 'koebenhavn-k'}, 'cityName': 'København K', 'coordinates': {'lat': 55.680195, 'lon': 12.601312, 'type': 'EPSG4326'}, 'daysOnMarket': {'realtors': []}, 'energyLabelImprovement': {'improvementCase': 'FALLBACK', 'sparEnergiLink': 'https://sparenergi.dk/forbruger/boligen/traenger-din-bolig-til-renovering?utm_source=Boligsiden&utm_medium=Banner&utm_campaign=6'}, 'entryAddressID': '75c254a5-de3f-49f7-8593-3ea5fb261571', 'gstkvhx': '01017338___9_______', 'houseNumber': '9', 'isPublic': True, 'municipality': {'churchTaxPercentage': 0.8, 'councilTaxPercentage': 23.7, 'districtPlanFrom': '2024-06-28', 'districtPlanPdfUrl': 'https://dokument.plandata.dk/20_11186212_1719470578287.pdf', 'landValueTaxLevelPerThousand': 34, 'masterPlanPdfUrl': 'https://dokument.plandata.dk/12_11267550_1717402838438.pdf', 'municipalityCode': 101, 'name': 'København', 'numberOfSchools': 127, 'population': 644431, 'slug': 'koebenhavn'}, 'province': {'name': 'Byen København', 'provinceCode': 'DK011', 'regionCode': 1084, 'slug': 'byen-koebenhavn'}, 'road': {'municipalityCode': 101, 'name': 'Takkelloftvej', 'roadCode': 7338, 'roadID': '799c97d3-237a-4ed5-ac07-f442b4f4c9f3', 'slug': 'takkelloftvej'}, 'roadName': 'Takkelloftvej', 'slug': 'takkelloftvej-9-1437-koebenhavn-k-01017338___9_______', 'zip': {'group': 1000, 'name': 'København K', 'slug': 'koebenhavn-k', 'zipCode': 1437}, 'zipCode': 1437}   \n",
       "31                                                                                                                                                                                                                                                                                                                                                                                                                                                                         {'_links': {'self': {'href': '/addresses/30668597-1c56-4737-bdb9-aa680f8bfadf'}}, 'addressID': '30668597-1c56-4737-bdb9-aa680f8bfadf', 'allowNewValuationInfo': True, 'bfeNumbers': [100314245], 'boligsidenInfo': {'latestSoldArea': 70}, 'city': {'name': 'København SV', 'slug': 'koebenhavn-sv'}, 'cityName': 'København SV', 'coordinates': {'lat': 55.658794, 'lon': 12.561923, 'type': 'EPSG4326'}, 'daysOnMarket': {'realtors': []}, 'door': 'th', 'energyLabelImprovement': {'improvementCase': 'FALLBACK', 'sparEnergiLink': 'https://sparenergi.dk/forbruger/boligen/traenger-din-bolig-til-renovering?utm_source=Boligsiden&utm_medium=Banner&utm_campaign=6'}, 'entryAddressID': '7ed15799-e9c3-4240-82e1-c8b33a7b0cf4', 'floor': '4', 'gstkvhx': '01012171__21__4__th', 'houseNumber': '21', 'isPublic': True, 'livingArea': 70, 'municipality': {'churchTaxPercentage': 0.8, 'councilTaxPercentage': 23.7, 'districtPlanFrom': '2024-06-28', 'districtPlanPdfUrl': 'https://dokument.plandata.dk/20_11186212_1719470578287.pdf', 'landValueTaxLevelPerThousand': 34, 'masterPlanPdfUrl': 'https://dokument.plandata.dk/12_11267550_1717402838438.pdf', 'municipalityCode': 101, 'name': 'København', 'numberOfSchools': 127, 'population': 644431, 'slug': 'koebenhavn'}, 'propertyNumber': 43871, 'province': {'name': 'Byen København', 'provinceCode': 'DK011', 'regionCode': 1084, 'slug': 'byen-koebenhavn'}, 'registrations': [{'amount': 3895000, 'area': 70, 'date': '2020-12-15', 'livingArea': 70, 'municipalityCode': 101, 'perAreaPrice': 55642, 'propertyNumber': 43871, 'registrationID': '5843570', 'type': 'normal'}], 'road': {'municipalityCode': 101, 'name': 'George Marshalls Vej', 'roadCode': 2171, 'roadID': '5fbe7d12-0325-402b-b9b7-26dc4445aebb', 'slug': 'george-marshalls-vej'}, 'roadName': 'George Marshalls Vej', 'slug': 'george-marshalls-vej-21-4-th-2450-koebenhavn-sv-01012171__21__4__th', 'zip': {'name': 'København SV', 'slug': 'koebenhavn-sv', 'zipCode': 2450}, 'zipCode': 2450}   \n",
       "32                                                                                                                                                                                                                                                                                                                                                                                                                                                                                                                                                                                                                                                                                                                                                                                                                           {'_links': {'self': {'href': '/addresses/4a70800c-665e-4a00-8964-b02d889177cf'}}, 'addressID': '4a70800c-665e-4a00-8964-b02d889177cf', 'allowNewValuationInfo': True, 'boligsidenInfo': {'latestSoldArea': 80}, 'city': {'name': 'København K', 'slug': 'koebenhavn-k'}, 'cityName': 'København K', 'coordinates': {'lat': 55.689922, 'lon': 12.607111, 'type': 'EPSG4326'}, 'daysOnMarket': {'realtors': []}, 'energyLabelImprovement': {'improvementCase': 'FALLBACK', 'sparEnergiLink': 'https://sparenergi.dk/forbruger/boligen/traenger-din-bolig-til-renovering?utm_source=Boligsiden&utm_medium=Banner&utm_campaign=6'}, 'entryAddressID': '1357eb80-9b79-3d79-e044-0003ba298018', 'gstkvhx': '01015772141G_______', 'houseNumber': '141G', 'isPublic': True, 'municipality': {'churchTaxPercentage': 0.8, 'councilTaxPercentage': 23.7, 'districtPlanFrom': '2024-06-28', 'districtPlanPdfUrl': 'https://dokument.plandata.dk/20_11186212_1719470578287.pdf', 'landValueTaxLevelPerThousand': 34, 'masterPlanPdfUrl': 'https://dokument.plandata.dk/12_11267550_1717402838438.pdf', 'municipalityCode': 101, 'name': 'København', 'numberOfSchools': 127, 'population': 644431, 'slug': 'koebenhavn'}, 'province': {'name': 'Byen København', 'provinceCode': 'DK011', 'regionCode': 1084, 'slug': 'byen-koebenhavn'}, 'road': {'municipalityCode': 101, 'name': 'Refshalevej', 'roadCode': 5772, 'roadID': 'b666c681-1fcf-44f5-bdf8-87b65af4f244', 'slug': 'refshalevej'}, 'roadName': 'Refshalevej', 'slug': 'refshalevej-141g-1432-koebenhavn-k-01015772141g_______', 'zip': {'group': 1000, 'name': 'København K', 'slug': 'koebenhavn-k', 'zipCode': 1432}, 'zipCode': 1432}   \n",
       "33                                     {'_links': {'self': {'href': '/addresses/0a3f50bd-49f7-32b8-e044-0003ba298018'}}, 'addressID': '0a3f50bd-49f7-32b8-e044-0003ba298018', 'addressType': 'holiday house', 'allowNewValuationInfo': True, 'bfeNumbers': [746306], 'buildings': [{'bathroomCondition': 'Badeværelse i enheden', 'buildingName': 'Sommerhus', 'buildingNumber': '34', 'externalWallMaterial': 'Metal', 'heatingInstallation': 'Elvarme', 'housingArea': 104, 'kitchenCondition': 'Eget køkken med afløb', 'numberOfBathrooms': 2, 'numberOfFloors': 2, 'numberOfRooms': 4, 'numberOfToilets': 2, 'roofingMaterial': 'Metal', 'supplementaryHeating': 'Ovne til fast eller flydende brændsel', 'toiletCondition': 'Vandskyllende toilet i enheden', 'totalArea': 57, 'yearBuilt': 2008}], 'city': {'name': 'Hemmet', 'slug': 'hemmet'}, 'cityName': 'Hemmet', 'coordinates': {'lat': 55.850147, 'lon': 8.27942, 'type': 'EPSG4326'}, 'daysOnMarket': {'realtors': []}, 'energyLabelImprovement': {'improvementCase': 'FALLBACK', 'sparEnergiLink': 'https://sparenergi.dk/forbruger/boligen/traenger-din-bolig-til-renovering?utm_source=Boligsiden&utm_medium=Banner&utm_campaign=6'}, 'entryAddressID': '0a3f5091-38c4-32b8-e044-0003ba298018', 'gstkvhx': '07601311___7_______', 'houseNumber': '7', 'isPublic': True, 'latestValuation': 870000, 'livingArea': 104, 'municipality': {'churchTaxPercentage': 1.05, 'councilTaxPercentage': 25, 'districtPlanFrom': '2024-06-03', 'districtPlanPdfUrl': 'https://dokument.plandata.dk/20_11300020_1716880512713.pdf', 'landValueTaxLevelPerThousand': 31, 'masterPlanPdfUrl': 'https://dokument.plandata.dk/12_11300027_1716880768468.pdf', 'municipalityCode': 760, 'name': 'Ringkøbing-Skjern', 'numberOfSchools': 35, 'population': 56203, 'slug': 'ringkoebing-skjern'}, 'place': {'bbox': [8.265464, 55.815403, 8.372976, 55.861725], 'coordinates': {'lat': 55.850147, 'lon': 8.27942, 'type': 'EPSG4326'}, 'id': 660383, 'name': 'Nr Bork', 'slug': 'nr-bork'}, 'placeName': 'Nr Bork', 'propertyNumber': 7313, 'province': {'name': 'Vestjylland', 'provinceCode': 'DK041', 'regionCode': 1082, 'slug': 'vestjylland'}, 'road': {'municipalityCode': 760, 'name': 'Molen', 'roadCode': 1311, 'roadID': '551c61c7-cff4-4830-94e6-b827087dc808', 'slug': 'molen'}, 'roadName': 'Molen', 'slug': 'molen-7-6893-hemmet-07601311___7_______', 'weightedArea': 104, 'zip': {'name': 'Hemmet', 'slug': 'hemmet', 'zipCode': 6893}, 'zipCode': 6893}   \n",
       "34                                                                                                                                                                                                                                                                                                                                                                                                                                                                                                                                                                                                                                                                                                                                                                                                                                                                    {'_links': {'self': {'href': '/addresses/26e70f9e-c9f8-483e-b158-b6ea97e8fb4a'}}, 'addressID': '26e70f9e-c9f8-483e-b158-b6ea97e8fb4a', 'allowNewValuationInfo': True, 'city': {'name': 'København K', 'slug': 'koebenhavn-k'}, 'cityName': 'København K', 'coordinates': {'lat': 55.67984, 'lon': 12.601013, 'type': 'EPSG4326'}, 'daysOnMarket': {'realtors': []}, 'energyLabelImprovement': {'improvementCase': 'FALLBACK', 'sparEnergiLink': 'https://sparenergi.dk/forbruger/boligen/traenger-din-bolig-til-renovering?utm_source=Boligsiden&utm_medium=Banner&utm_campaign=6'}, 'entryAddressID': '64478a85-a1fd-4e86-bc17-6ccaebc9eab9', 'gstkvhx': '01017338___3_______', 'houseNumber': '3', 'isPublic': True, 'municipality': {'churchTaxPercentage': 0.8, 'councilTaxPercentage': 23.7, 'districtPlanFrom': '2024-06-28', 'districtPlanPdfUrl': 'https://dokument.plandata.dk/20_11186212_1719470578287.pdf', 'landValueTaxLevelPerThousand': 34, 'masterPlanPdfUrl': 'https://dokument.plandata.dk/12_11267550_1717402838438.pdf', 'municipalityCode': 101, 'name': 'København', 'numberOfSchools': 127, 'population': 644431, 'slug': 'koebenhavn'}, 'province': {'name': 'Byen København', 'provinceCode': 'DK011', 'regionCode': 1084, 'slug': 'byen-koebenhavn'}, 'road': {'municipalityCode': 101, 'name': 'Takkelloftvej', 'roadCode': 7338, 'roadID': '799c97d3-237a-4ed5-ac07-f442b4f4c9f3', 'slug': 'takkelloftvej'}, 'roadName': 'Takkelloftvej', 'slug': 'takkelloftvej-3-1437-koebenhavn-k-01017338___3_______', 'zip': {'group': 1000, 'name': 'København K', 'slug': 'koebenhavn-k', 'zipCode': 1437}, 'zipCode': 1437}   \n",
       "35                                                                                                                                                                                                                                                                                                                                                                                                                                                                                                                                                                                                                                                                                                                                                                                                                                                                                                                                                                                                                                                                                                                      {'_links': {'self': {'href': '/addresses/62b40964-08af-437f-9193-c0967ff8b3f7'}}, 'addressID': '62b40964-08af-437f-9193-c0967ff8b3f7', 'allowNewValuationInfo': True, 'city': {'name': 'København K', 'slug': 'koebenhavn-k'}, 'cityName': 'København K', 'daysOnMarket': {'realtors': []}, 'energyLabelImprovement': {'improvementCase': 'FALLBACK', 'sparEnergiLink': 'https://sparenergi.dk/forbruger/boligen/traenger-din-bolig-til-renovering?utm_source=Boligsiden&utm_medium=Banner&utm_campaign=6'}, 'houseNumber': '102z', 'isPublic': False, 'municipality': {'churchTaxPercentage': 0.8, 'councilTaxPercentage': 23.7, 'districtPlanFrom': '2024-06-28', 'districtPlanPdfUrl': 'https://dokument.plandata.dk/20_11186212_1719470578287.pdf', 'landValueTaxLevelPerThousand': 34, 'masterPlanPdfUrl': 'https://dokument.plandata.dk/12_11267550_1717402838438.pdf', 'municipalityCode': 101, 'name': 'København', 'numberOfSchools': 127, 'population': 644431, 'slug': 'koebenhavn'}, 'province': {'name': 'Byen København', 'provinceCode': 'DK011', 'regionCode': 1084, 'slug': 'byen-koebenhavn'}, 'road': {'municipalityCode': 101, 'name': 'Strandgade'}, 'roadName': 'Strandgade', 'slug': 'strandgade-102z-1401-koebenhavn-k-62b40964-08af-437f-9193-c0967ff8b3f7', 'zip': {'group': 1000, 'name': 'København K', 'slug': 'koebenhavn-k', 'zipCode': 1401}, 'zipCode': 1401}   \n",
       "36                                                                                                                                                                                                                                                                                                                                                                                                                                                                                                                                                                                                                                                                                                                                                                                                                                                                        {'_links': {'self': {'href': '/addresses/f04fae90-a5f3-487d-b0bc-713fab06737e'}}, 'addressID': 'f04fae90-a5f3-487d-b0bc-713fab06737e', 'allowNewValuationInfo': True, 'city': {'name': 'København K', 'slug': 'koebenhavn-k'}, 'cityName': 'København K', 'coordinates': {'lat': 55.693443, 'lon': 12.60804, 'type': 'EPSG4326'}, 'daysOnMarket': {'realtors': []}, 'energyLabelImprovement': {'improvementCase': 'FALLBACK', 'sparEnergiLink': 'https://sparenergi.dk/forbruger/boligen/traenger-din-bolig-til-renovering?utm_source=Boligsiden&utm_medium=Banner&utm_campaign=6'}, 'entryAddressID': '112b87c1-350e-481a-8e33-854a2d719d21', 'gstkvhx': '01015772_169_______', 'houseNumber': '169', 'isPublic': True, 'municipality': {'churchTaxPercentage': 0.8, 'councilTaxPercentage': 23.7, 'districtPlanFrom': '2024-06-28', 'districtPlanPdfUrl': 'https://dokument.plandata.dk/20_11186212_1719470578287.pdf', 'landValueTaxLevelPerThousand': 34, 'masterPlanPdfUrl': 'https://dokument.plandata.dk/12_11267550_1717402838438.pdf', 'municipalityCode': 101, 'name': 'København', 'numberOfSchools': 127, 'population': 644431, 'slug': 'koebenhavn'}, 'province': {'name': 'Byen København', 'provinceCode': 'DK011', 'regionCode': 1084, 'slug': 'byen-koebenhavn'}, 'road': {'municipalityCode': 101, 'name': 'Refshalevej', 'roadCode': 5772, 'roadID': 'b666c681-1fcf-44f5-bdf8-87b65af4f244', 'slug': 'refshalevej'}, 'roadName': 'Refshalevej', 'slug': 'refshalevej-169-1432-koebenhavn-k-01015772_169_______', 'zip': {'group': 1000, 'name': 'København K', 'slug': 'koebenhavn-k', 'zipCode': 1432}, 'zipCode': 1432}   \n",
       "37                                                                                                                                                                                                                                                                                                                                                                                                                                                                                                                                                                                                                                                                                                                                                                                                                                                                                                                                                                                                                                                                                                                                                                        {'_links': {'self': {'href': '/addresses/8acfe408-8b3e-451f-a4fe-01b780d97051'}}, 'addressID': '8acfe408-8b3e-451f-a4fe-01b780d97051', 'allowNewValuationInfo': True, 'city': {'name': 'Ishøj', 'slug': 'ishoej'}, 'cityName': 'Ishøj', 'daysOnMarket': {'realtors': []}, 'door': 'S02', 'energyLabelImprovement': {'improvementCase': 'FALLBACK', 'sparEnergiLink': 'https://sparenergi.dk/forbruger/boligen/traenger-din-bolig-til-renovering?utm_source=Boligsiden&utm_medium=Banner&utm_campaign=6'}, 'houseNumber': '13', 'isPublic': False, 'municipality': {'churchTaxPercentage': 0.9, 'councilTaxPercentage': 25, 'districtPlanFrom': '2023-12-20', 'districtPlanPdfUrl': 'https://dokument.plandata.dk/20_11186426_1702987072764.pdf', 'landValueTaxLevelPerThousand': 25, 'masterPlanPdfUrl': 'https://dokument.plandata.dk/12_11195828_1702992436420.pdf', 'municipalityCode': 183, 'name': 'Ishøj', 'numberOfSchools': 7, 'population': 23225, 'slug': 'ishoej'}, 'province': {'name': 'Københavns omegn', 'provinceCode': 'DK012', 'regionCode': 1084, 'slug': 'koebenhavns-omegn'}, 'road': {'municipalityCode': 183, 'name': 'Søhesten'}, 'roadName': 'Søhesten', 'slug': 'soehesten-13-s02-2635-ishoej-8acfe408-8b3e-451f-a4fe-01b780d97051', 'zip': {'name': 'Ishøj', 'slug': 'ishoej', 'zipCode': 2635}, 'zipCode': 2635}   \n",
       "38                                                          {'_links': {'self': {'href': '/addresses/0a3f50bd-49f9-32b8-e044-0003ba298018'}}, 'addressID': '0a3f50bd-49f9-32b8-e044-0003ba298018', 'addressType': 'holiday house', 'allowNewValuationInfo': True, 'bfeNumbers': [746308], 'buildings': [{'bathroomCondition': 'Badeværelse i enheden', 'buildingName': 'Sommerhus', 'buildingNumber': '13', 'externalWallMaterial': 'Metal', 'heatingInstallation': 'Elvarme', 'housingArea': 104, 'kitchenCondition': 'Eget køkken med afløb', 'numberOfBathrooms': 1, 'numberOfFloors': 2, 'numberOfRooms': 4, 'numberOfToilets': 1, 'roofingMaterial': 'Metal', 'supplementaryHeating': 'Ovne til fast eller flydende brændsel', 'toiletCondition': 'Vandskyllende toilet i enheden', 'totalArea': 57, 'yearBuilt': 2008}], 'city': {'name': 'Hemmet', 'slug': 'hemmet'}, 'cityName': 'Hemmet', 'coordinates': {'lat': 55.850296, 'lon': 8.2791395, 'type': 'EPSG4326'}, 'daysOnMarket': {'realtors': []}, 'energyLabelImprovement': {'improvementCase': 'FALLBACK', 'sparEnergiLink': 'https://sparenergi.dk/forbruger/boligen/traenger-din-bolig-til-renovering?utm_source=Boligsiden&utm_medium=Banner&utm_campaign=6'}, 'entryAddressID': '0a3f5091-38c6-32b8-e044-0003ba298018', 'gstkvhx': '07601311__11_______', 'houseNumber': '11', 'isPublic': True, 'livingArea': 104, 'municipality': {'churchTaxPercentage': 1.05, 'councilTaxPercentage': 25, 'districtPlanFrom': '2024-06-03', 'districtPlanPdfUrl': 'https://dokument.plandata.dk/20_11300020_1716880512713.pdf', 'landValueTaxLevelPerThousand': 31, 'masterPlanPdfUrl': 'https://dokument.plandata.dk/12_11300027_1716880768468.pdf', 'municipalityCode': 760, 'name': 'Ringkøbing-Skjern', 'numberOfSchools': 35, 'population': 56203, 'slug': 'ringkoebing-skjern'}, 'place': {'bbox': [8.265464, 55.815403, 8.372976, 55.861725], 'coordinates': {'lat': 55.850296, 'lon': 8.2791395, 'type': 'EPSG4326'}, 'id': 660383, 'name': 'Nr Bork', 'slug': 'nr-bork'}, 'placeName': 'Nr Bork', 'propertyNumber': 7315, 'province': {'name': 'Vestjylland', 'provinceCode': 'DK041', 'regionCode': 1082, 'slug': 'vestjylland'}, 'road': {'municipalityCode': 760, 'name': 'Molen', 'roadCode': 1311, 'roadID': '551c61c7-cff4-4830-94e6-b827087dc808', 'slug': 'molen'}, 'roadName': 'Molen', 'slug': 'molen-11-6893-hemmet-07601311__11_______', 'weightedArea': 104, 'zip': {'name': 'Hemmet', 'slug': 'hemmet', 'zipCode': 6893}, 'zipCode': 6893}   \n",
       "39                                                                                                                                                                                     {'_links': {'self': {'href': '/addresses/2788e062-eeb3-4a8b-b071-58e07066b343'}}, 'addressID': '2788e062-eeb3-4a8b-b071-58e07066b343', 'allowNewValuationInfo': True, 'city': {'name': 'København SV', 'slug': 'koebenhavn-sv'}, 'cityName': 'København SV', 'coordinates': {'lat': 55.6541, 'lon': 12.554191, 'type': 'EPSG4326'}, 'daysOnMarket': {'realtors': []}, 'energyLabelImprovement': {'improvementCase': 'FALLBACK', 'sparEnergiLink': 'https://sparenergi.dk/forbruger/boligen/traenger-din-bolig-til-renovering?utm_source=Boligsiden&utm_medium=Banner&utm_campaign=6'}, 'entryAddressID': '87688917-1657-499a-b099-a8290120bcdb', 'gstkvhx': '01014354___1_______', 'houseNumber': '1', 'isPublic': True, 'livingArea': 140, 'municipality': {'churchTaxPercentage': 0.8, 'councilTaxPercentage': 23.7, 'districtPlanFrom': '2024-06-28', 'districtPlanPdfUrl': 'https://dokument.plandata.dk/20_11186212_1719470578287.pdf', 'landValueTaxLevelPerThousand': 34, 'masterPlanPdfUrl': 'https://dokument.plandata.dk/12_11267550_1717402838438.pdf', 'municipalityCode': 101, 'name': 'København', 'numberOfSchools': 127, 'population': 644431, 'slug': 'koebenhavn'}, 'propertyNumber': 986365, 'province': {'name': 'Byen København', 'provinceCode': 'DK011', 'regionCode': 1084, 'slug': 'byen-koebenhavn'}, 'registrations': [{'amount': 28000000, 'area': 140, 'date': '2014-05-27', 'municipalityCode': 101, 'propertyNumber': 986365, 'registrationID': '4637331', 'type': 'normal'}, {'amount': 46303811, 'date': '2010-12-28', 'municipalityCode': 101, 'propertyNumber': 986365, 'registrationID': '4259991', 'type': 'normal'}, {'amount': 46303811, 'date': '2004-06-18', 'municipalityCode': 101, 'propertyNumber': 986365, 'registrationID': '1683458', 'type': 'normal'}, {'amount': 17762500, 'date': '2002-10-07', 'municipalityCode': 101, 'propertyNumber': 986365, 'registrationID': '1424890', 'type': 'normal'}], 'road': {'municipalityCode': 101, 'name': 'Linus Paulings Vej', 'roadCode': 4354, 'roadID': 'e81bf6e0-c8bc-478c-aa1e-0b40959e8b79', 'slug': 'linus-paulings-vej'}, 'roadName': 'Linus Paulings Vej', 'slug': 'linus-paulings-vej-1-2450-koebenhavn-sv-01014354___1_______', 'zip': {'name': 'København SV', 'slug': 'koebenhavn-sv', 'zipCode': 2450}, 'zipCode': 2450}   \n",
       "40                                                                                                                                                                                                                                                                                                                                                                                                                                                                                                                                                                                                                                                                                                                                                                                                                                                                                          {'_links': {'self': {'href': '/addresses/1192efa0-9dc9-448f-9589-7dc40e185cc2'}}, 'addressID': '1192efa0-9dc9-448f-9589-7dc40e185cc2', 'allowNewValuationInfo': True, 'city': {'name': 'København S', 'slug': 'koebenhavn-s'}, 'cityName': 'København S', 'coordinates': {'lat': 55.64129, 'lon': 12.5527115, 'type': 'EPSG4326'}, 'daysOnMarket': {'realtors': []}, 'energyLabelImprovement': {'improvementCase': 'FALLBACK', 'sparEnergiLink': 'https://sparenergi.dk/forbruger/boligen/traenger-din-bolig-til-renovering?utm_source=Boligsiden&utm_medium=Banner&utm_campaign=6'}, 'entryAddressID': '64709680-79f1-40cf-b862-a473e3985d47', 'gstkvhx': '01018090_53B_______', 'houseNumber': '53B', 'isPublic': True, 'municipality': {'churchTaxPercentage': 0.8, 'councilTaxPercentage': 23.7, 'districtPlanFrom': '2024-06-28', 'districtPlanPdfUrl': 'https://dokument.plandata.dk/20_11186212_1719470578287.pdf', 'landValueTaxLevelPerThousand': 34, 'masterPlanPdfUrl': 'https://dokument.plandata.dk/12_11267550_1717402838438.pdf', 'municipalityCode': 101, 'name': 'København', 'numberOfSchools': 127, 'population': 644431, 'slug': 'koebenhavn'}, 'province': {'name': 'Byen København', 'provinceCode': 'DK011', 'regionCode': 1084, 'slug': 'byen-koebenhavn'}, 'road': {'municipalityCode': 101, 'name': 'Ved Slusen', 'roadCode': 8090, 'roadID': '6dbadaf4-be9e-4598-86a0-4901a6eb8ea7', 'slug': 'ved-slusen'}, 'roadName': 'Ved Slusen', 'slug': 'ved-slusen-53b-2300-koebenhavn-s-01018090_53b_______', 'zip': {'name': 'København S', 'slug': 'koebenhavn-s', 'zipCode': 2300}, 'zipCode': 2300}   \n",
       "41                                                                                                                                                                                                                                     {'_links': {'self': {'href': '/addresses/02e88cad-8309-4d45-b59b-a944b829b512'}}, 'addressID': '02e88cad-8309-4d45-b59b-a944b829b512', 'allowNewValuationInfo': True, 'buildings': [{'buildingName': 'Carport', 'buildingNumber': '11', 'externalWallMaterial': 'Metal', 'roofingMaterial': 'Metal', 'totalArea': 112, 'yearBuilt': 1990}, {'buildingName': 'Udhus', 'buildingNumber': '12', 'externalWallMaterial': 'Metal', 'roofingMaterial': 'Metal', 'totalArea': 39, 'yearBuilt': 1990}, {'buildingName': 'Udhus', 'buildingNumber': '15', 'externalWallMaterial': 'Metal', 'roofingMaterial': 'Metal', 'totalArea': 39, 'yearBuilt': 1990}, {'buildingName': 'Udhus', 'buildingNumber': '16', 'externalWallMaterial': 'Metal', 'roofingMaterial': 'Metal', 'totalArea': 15, 'yearBuilt': 1990}], 'city': {'name': 'København K', 'slug': 'koebenhavn-k'}, 'cityName': 'København K', 'coordinates': {'lat': 55.670937, 'lon': 12.581738, 'type': 'EPSG4326'}, 'daysOnMarket': {'realtors': []}, 'energyLabelImprovement': {'improvementCase': 'FALLBACK', 'sparEnergiLink': 'https://sparenergi.dk/forbruger/boligen/traenger-din-bolig-til-renovering?utm_source=Boligsiden&utm_medium=Banner&utm_campaign=6'}, 'entryAddressID': '0a3f507a-b3d7-32b8-e044-0003ba298018', 'gstkvhx': '01014140___1_______', 'houseNumber': '1', 'isPublic': True, 'municipality': {'churchTaxPercentage': 0.8, 'councilTaxPercentage': 23.7, 'districtPlanFrom': '2024-06-28', 'districtPlanPdfUrl': 'https://dokument.plandata.dk/20_11186212_1719470578287.pdf', 'landValueTaxLevelPerThousand': 34, 'masterPlanPdfUrl': 'https://dokument.plandata.dk/12_11267550_1717402838438.pdf', 'municipalityCode': 101, 'name': 'København', 'numberOfSchools': 127, 'population': 644431, 'slug': 'koebenhavn'}, 'province': {'name': 'Byen København', 'provinceCode': 'DK011', 'regionCode': 1084, 'slug': 'byen-koebenhavn'}, 'road': {'municipalityCode': 101, 'name': 'Langebrogade', 'roadCode': 4140, 'roadID': '7134e413-ca64-4d67-958b-012835f3c6fa', 'slug': 'langebrogade'}, 'roadName': 'Langebrogade', 'slug': 'langebrogade-1-1411-koebenhavn-k-01014140___1_______', 'zip': {'group': 1000, 'name': 'København K', 'slug': 'koebenhavn-k', 'zipCode': 1411}, 'zipCode': 1411}   \n",
       "42                                                                                                                                                                                                                          {'_links': {'self': {'href': '/addresses/87cdf76a-7af5-4751-8da7-9c621e70587d'}}, 'addressID': '87cdf76a-7af5-4751-8da7-9c621e70587d', 'addressType': 'villa', 'allowNewValuationInfo': True, 'bfeNumbers': [719549], 'buildings': [{'bathroomCondition': 'Badeværelse i enheden', 'buildingName': 'Fritliggende enfamilieshus (parcelhus)', 'buildingNumber': '28', 'externalWallMaterial': 'Træ', 'heatingInstallation': 'Varmepumpe', 'housingArea': 161, 'kitchenCondition': 'Eget køkken med afløb', 'numberOfBathrooms': 2, 'numberOfFloors': 1, 'numberOfKitchens': 1, 'numberOfRooms': 6, 'numberOfToilets': 2, 'roofingMaterial': 'Tagpap med stor hældning', 'toiletCondition': 'Vandskyllende toilet i enheden', 'totalArea': 94, 'yearBuilt': 2007}], 'city': {'name': 'Nykøbing Sj', 'slug': 'nykoebing-sj'}, 'cityName': 'Nykøbing Sj', 'coordinates': {'lat': 55.915054, 'lon': 11.676225, 'type': 'EPSG4326'}, 'daysOnMarket': {'realtors': []}, 'energyLabelImprovement': {'improvementCase': 'FALLBACK', 'sparEnergiLink': 'https://sparenergi.dk/forbruger/boligen/traenger-din-bolig-til-renovering?utm_source=Boligsiden&utm_medium=Banner&utm_campaign=6'}, 'entryAddressID': '39ece5fb-f031-0ee2-e044-0003ba298018', 'gstkvhx': '03060870_49C_______', 'houseNumber': '49C', 'isPublic': True, 'livingArea': 161, 'municipality': {'churchTaxPercentage': 0.98, 'councilTaxPercentage': 26.3, 'districtPlanFrom': '2024-06-04', 'districtPlanPdfUrl': 'https://dokument.plandata.dk/20_11300377_1717488791555.pdf', 'landValueTaxLevelPerThousand': 34, 'masterPlanPdfUrl': 'https://dokument.plandata.dk/12_11299765_1710234353814.pdf', 'municipalityCode': 306, 'name': 'Odsherred', 'numberOfSchools': 16, 'population': 32881, 'slug': 'odsherred'}, 'propertyNumber': 40026, 'province': {'name': 'Vest- og Sydsjælland', 'provinceCode': 'DK022', 'regionCode': 1085, 'slug': 'vest--og-sydsjaelland'}, 'road': {'municipalityCode': 306, 'name': 'Havnevej', 'roadCode': 870, 'roadID': '100b37b8-706e-4170-836a-e72b681322b7', 'slug': 'havnevej'}, 'roadName': 'Havnevej', 'slug': 'havnevej-49c-4500-nykoebing-sj-03060870_49c_______', 'weightedArea': 154.3, 'zip': {'name': 'Nykøbing Sj', 'slug': 'nykoebing-sj', 'zipCode': 4500}, 'zipCode': 4500}   \n",
       "43  {'_links': {'self': {'href': '/addresses/3c0b2ee1-9daa-40c6-bce0-2f9302c416de'}}, 'addressID': '3c0b2ee1-9daa-40c6-bce0-2f9302c416de', 'allowNewValuationInfo': True, 'bfeNumbers': [424049], 'buildings': [{'bathroomCondition': 'Badeværelse i enheden', 'buildingName': 'Etagebolig-bygning, flerfamiliehus eller tofamiliehus', 'buildingNumber': '7', 'externalWallMaterial': 'Betonelementer', 'heatingInstallation': 'Fjernvarme/blokvarme', 'housingArea': 117, 'kitchenCondition': 'Eget køkken med afløb', 'numberOfBathrooms': 1, 'numberOfFloors': 8, 'numberOfKitchens': 22, 'numberOfRooms': 4, 'numberOfToilets': 1, 'roofingMaterial': 'Tagpap med stor hældning', 'toiletCondition': 'Vandskyllende toilet i enheden', 'totalArea': 432, 'yearBuilt': 2016}], 'city': {'name': 'København SV', 'slug': 'koebenhavn-sv'}, 'cityName': 'København SV', 'coordinates': {'lat': 55.64631, 'lon': 12.544503, 'type': 'EPSG4326'}, 'daysOnMarket': {'realtors': []}, 'energyLabelImprovement': {'improvementCase': 'FALLBACK', 'sparEnergiLink': 'https://sparenergi.dk/forbruger/boligen/traenger-din-bolig-til-renovering?utm_source=Boligsiden&utm_medium=Banner&utm_campaign=6'}, 'entryAddressID': 'a0cf05ea-16a2-4124-b8d7-23a7c20d0804', 'floor': '6', 'gstkvhx': '01011958__2E__6____', 'houseNumber': '2E', 'isPublic': True, 'latestValuation': 3100000, 'livingArea': 117, 'municipality': {'churchTaxPercentage': 0.8, 'councilTaxPercentage': 23.7, 'districtPlanFrom': '2024-06-28', 'districtPlanPdfUrl': 'https://dokument.plandata.dk/20_11186212_1719470578287.pdf', 'landValueTaxLevelPerThousand': 34, 'masterPlanPdfUrl': 'https://dokument.plandata.dk/12_11267550_1717402838438.pdf', 'municipalityCode': 101, 'name': 'København', 'numberOfSchools': 127, 'population': 644431, 'slug': 'koebenhavn'}, 'propertyNumber': 21216, 'province': {'name': 'Byen København', 'provinceCode': 'DK011', 'regionCode': 1084, 'slug': 'byen-koebenhavn'}, 'registrations': [{'amount': 5055000, 'area': 117, 'date': '2017-05-09', 'municipalityCode': 101, 'propertyNumber': 21216, 'registrationID': '5011370', 'type': 'normal'}], 'road': {'municipalityCode': 101, 'name': 'Frederikskaj', 'roadCode': 1958, 'roadID': 'cfff4bbd-3438-404c-ac5b-41108d618c4f', 'slug': 'frederikskaj'}, 'roadName': 'Frederikskaj', 'slug': 'frederikskaj-2e-6-2450-koebenhavn-sv-01011958__2e__6____', 'zip': {'name': 'København SV', 'slug': 'koebenhavn-sv', 'zipCode': 2450}, 'zipCode': 2450}   \n",
       "44                                                                                                                                                                                                                                                                                                                                                                                                                                                                                                                                                                                                                                                                                                                                                                                                                                                                                                                                                                                                                                                                                                                                                                                 {'_links': {'self': {'href': '/addresses/26758225-ad6c-4026-a5db-6b4f060b09e3'}}, 'addressID': '26758225-ad6c-4026-a5db-6b4f060b09e3', 'allowNewValuationInfo': True, 'city': {'name': 'Ishøj', 'slug': 'ishoej'}, 'cityName': 'Ishøj', 'daysOnMarket': {'realtors': []}, 'energyLabelImprovement': {'improvementCase': 'FALLBACK', 'sparEnergiLink': 'https://sparenergi.dk/forbruger/boligen/traenger-din-bolig-til-renovering?utm_source=Boligsiden&utm_medium=Banner&utm_campaign=6'}, 'houseNumber': 'H091', 'isPublic': False, 'municipality': {'churchTaxPercentage': 0.9, 'councilTaxPercentage': 25, 'districtPlanFrom': '2023-12-20', 'districtPlanPdfUrl': 'https://dokument.plandata.dk/20_11186426_1702987072764.pdf', 'landValueTaxLevelPerThousand': 25, 'masterPlanPdfUrl': 'https://dokument.plandata.dk/12_11195828_1702992436420.pdf', 'municipalityCode': 183, 'name': 'Ishøj', 'numberOfSchools': 7, 'population': 23225, 'slug': 'ishoej'}, 'province': {'name': 'Københavns omegn', 'provinceCode': 'DK012', 'regionCode': 1084, 'slug': 'koebenhavns-omegn'}, 'road': {'municipalityCode': 183, 'name': 'Ishøj Havn'}, 'roadName': 'Ishøj Havn', 'slug': 'ishoej-havn-h091-2635-ishoej-26758225-ad6c-4026-a5db-6b4f060b09e3', 'zip': {'name': 'Ishøj', 'slug': 'ishoej', 'zipCode': 2635}, 'zipCode': 2635}   \n",
       "45                                                                                                                                                                                                                                                                                                                                                                                                                                                                                                                                                                                                                                            {'_links': {'self': {'href': '/addresses/c987e599-210d-41d3-8485-b74be7ad63dd'}}, 'addressID': 'c987e599-210d-41d3-8485-b74be7ad63dd', 'allowNewValuationInfo': True, 'city': {'name': 'København K', 'slug': 'koebenhavn-k'}, 'cityName': 'København K', 'coordinates': {'lat': 55.685863, 'lon': 12.608955, 'type': 'EPSG4326'}, 'daysOnMarket': {'realtors': []}, 'energyLabelImprovement': {'improvementCase': 'FALLBACK', 'sparEnergiLink': 'https://sparenergi.dk/forbruger/boligen/traenger-din-bolig-til-renovering?utm_source=Boligsiden&utm_medium=Banner&utm_campaign=6'}, 'entryAddressID': 'afc4f991-4c6f-49a3-9cc2-5e5a95509dda', 'gstkvhx': '01013998__17_______', 'houseNumber': '17', 'isPublic': True, 'livingArea': 175, 'municipality': {'churchTaxPercentage': 0.8, 'councilTaxPercentage': 23.7, 'districtPlanFrom': '2024-06-28', 'districtPlanPdfUrl': 'https://dokument.plandata.dk/20_11186212_1719470578287.pdf', 'landValueTaxLevelPerThousand': 34, 'masterPlanPdfUrl': 'https://dokument.plandata.dk/12_11267550_1717402838438.pdf', 'municipalityCode': 101, 'name': 'København', 'numberOfSchools': 127, 'population': 644431, 'slug': 'koebenhavn'}, 'propertyNumber': 42090, 'province': {'name': 'Byen København', 'provinceCode': 'DK011', 'regionCode': 1084, 'slug': 'byen-koebenhavn'}, 'registrations': [{'amount': 9000000, 'area': 175, 'date': '1997-06-02', 'municipalityCode': 101, 'propertyNumber': 42090, 'registrationID': '509311', 'type': 'normal'}], 'road': {'municipalityCode': 101, 'name': 'Krudtløbsvej', 'roadCode': 3998, 'roadID': '6fd55cd8-e567-473f-adb4-f04cbf62da4b', 'slug': 'krudtloebsvej'}, 'roadName': 'Krudtløbsvej', 'slug': 'krudtloebsvej-17-1439-koebenhavn-k-01013998__17_______', 'zip': {'group': 1000, 'name': 'København K', 'slug': 'koebenhavn-k', 'zipCode': 1439}, 'zipCode': 1439}   \n",
       "46                                                                                                                                                                                                                                                                                                                                                                                                                                                                                                                                                                                                                                                                                                                                                                                                                                                                   {'_links': {'self': {'href': '/addresses/206c9ff1-501f-4b6f-a498-92ba9f89ebaa'}}, 'addressID': '206c9ff1-501f-4b6f-a498-92ba9f89ebaa', 'allowNewValuationInfo': True, 'city': {'name': 'København K', 'slug': 'koebenhavn-k'}, 'cityName': 'København K', 'coordinates': {'lat': 55.685547, 'lon': 12.609108, 'type': 'EPSG4326'}, 'daysOnMarket': {'realtors': []}, 'energyLabelImprovement': {'improvementCase': 'FALLBACK', 'sparEnergiLink': 'https://sparenergi.dk/forbruger/boligen/traenger-din-bolig-til-renovering?utm_source=Boligsiden&utm_medium=Banner&utm_campaign=6'}, 'entryAddressID': 'bc38cfcd-a53a-406d-b01f-404388fff7c8', 'gstkvhx': '01013998__15_______', 'houseNumber': '15', 'isPublic': True, 'municipality': {'churchTaxPercentage': 0.8, 'councilTaxPercentage': 23.7, 'districtPlanFrom': '2024-06-28', 'districtPlanPdfUrl': 'https://dokument.plandata.dk/20_11186212_1719470578287.pdf', 'landValueTaxLevelPerThousand': 34, 'masterPlanPdfUrl': 'https://dokument.plandata.dk/12_11267550_1717402838438.pdf', 'municipalityCode': 101, 'name': 'København', 'numberOfSchools': 127, 'population': 644431, 'slug': 'koebenhavn'}, 'province': {'name': 'Byen København', 'provinceCode': 'DK011', 'regionCode': 1084, 'slug': 'byen-koebenhavn'}, 'road': {'municipalityCode': 101, 'name': 'Krudtløbsvej', 'roadCode': 3998, 'roadID': '6fd55cd8-e567-473f-adb4-f04cbf62da4b', 'slug': 'krudtloebsvej'}, 'roadName': 'Krudtløbsvej', 'slug': 'krudtloebsvej-15-1439-koebenhavn-k-01013998__15_______', 'zip': {'group': 1000, 'name': 'København K', 'slug': 'koebenhavn-k', 'zipCode': 1439}, 'zipCode': 1439}   \n",
       "47                                                                                                                                                                                        {'_links': {'self': {'href': '/addresses/e877db74-59c9-4b5f-ad30-40dd12749f96'}}, 'addressID': 'e877db74-59c9-4b5f-ad30-40dd12749f96', 'addressType': 'villa', 'allowNewValuationInfo': True, 'bfeNumbers': [700881], 'buildings': [{'bathroomCondition': 'Badeværelse i enheden', 'buildingName': 'Fritliggende enfamilieshus (parcelhus)', 'buildingNumber': '18', 'externalWallMaterial': 'Træ', 'heatingInstallation': 'Centralvarme med én fyringsenhed', 'housingArea': 80, 'kitchenCondition': 'Eget køkken med afløb', 'numberOfBathrooms': 1, 'numberOfFloors': 1, 'numberOfKitchens': 1, 'numberOfRooms': 4, 'numberOfToilets': 2, 'roofingMaterial': 'Andet materiale', 'toiletCondition': 'Vandskyllende toilet i enheden', 'totalArea': 80, 'yearBuilt': 2014}], 'city': {'name': 'København SV', 'slug': 'koebenhavn-sv'}, 'cityName': 'København SV', 'coordinates': {'lat': 55.659576, 'lon': 12.559762, 'type': 'EPSG4326'}, 'daysOnMarket': {'realtors': []}, 'energyLabelImprovement': {'improvementCase': 'FALLBACK', 'sparEnergiLink': 'https://sparenergi.dk/forbruger/boligen/traenger-din-bolig-til-renovering?utm_source=Boligsiden&utm_medium=Banner&utm_campaign=6'}, 'entryAddressID': '75ade738-275f-4300-9971-96985b9c30c6', 'gstkvhx': '01016448__22_______', 'houseNumber': '22', 'isPublic': True, 'latestValuation': 1250000, 'livingArea': 80, 'municipality': {'churchTaxPercentage': 0.8, 'councilTaxPercentage': 23.7, 'districtPlanFrom': '2024-06-28', 'districtPlanPdfUrl': 'https://dokument.plandata.dk/20_11186212_1719470578287.pdf', 'landValueTaxLevelPerThousand': 34, 'masterPlanPdfUrl': 'https://dokument.plandata.dk/12_11267550_1717402838438.pdf', 'municipalityCode': 101, 'name': 'København', 'numberOfSchools': 127, 'population': 644431, 'slug': 'koebenhavn'}, 'propertyNumber': 9347, 'province': {'name': 'Byen København', 'provinceCode': 'DK011', 'regionCode': 1084, 'slug': 'byen-koebenhavn'}, 'road': {'municipalityCode': 101, 'name': 'Skibbroen', 'roadCode': 6448, 'roadID': '6735f803-89ba-4e5e-8390-66d84b8e880a', 'slug': 'skibbroen'}, 'roadName': 'Skibbroen', 'slug': 'skibbroen-22-2450-koebenhavn-sv-01016448__22_______', 'weightedArea': 80, 'zip': {'name': 'København SV', 'slug': 'koebenhavn-sv', 'zipCode': 2450}, 'zipCode': 2450}   \n",
       "48                                                                                                                                                                                                                                                                                                                                                                                                                                                                                                                                                                                                                                                                                                                                                                                                 {'_links': {'self': {'href': '/addresses/3dbbbfcf-5fff-4697-8f2c-f0be121ededa'}}, 'addressID': '3dbbbfcf-5fff-4697-8f2c-f0be121ededa', 'allowNewValuationInfo': True, 'bfeNumbers': [700876], 'boligsidenInfo': {'latestSoldArea': 70}, 'city': {'name': 'København SV', 'slug': 'koebenhavn-sv'}, 'cityName': 'København SV', 'coordinates': {'lat': 55.65944, 'lon': 12.559025, 'type': 'EPSG4326'}, 'daysOnMarket': {'realtors': []}, 'energyLabelImprovement': {'improvementCase': 'FALLBACK', 'sparEnergiLink': 'https://sparenergi.dk/forbruger/boligen/traenger-din-bolig-til-renovering?utm_source=Boligsiden&utm_medium=Banner&utm_campaign=6'}, 'entryAddressID': 'd90592e8-121a-4c20-91b6-72cad26ffd35', 'gstkvhx': '01016448__12_______', 'houseNumber': '12', 'isPublic': True, 'municipality': {'churchTaxPercentage': 0.8, 'councilTaxPercentage': 23.7, 'districtPlanFrom': '2024-06-28', 'districtPlanPdfUrl': 'https://dokument.plandata.dk/20_11186212_1719470578287.pdf', 'landValueTaxLevelPerThousand': 34, 'masterPlanPdfUrl': 'https://dokument.plandata.dk/12_11267550_1717402838438.pdf', 'municipalityCode': 101, 'name': 'København', 'numberOfSchools': 127, 'population': 644431, 'slug': 'koebenhavn'}, 'propertyNumber': 9341, 'province': {'name': 'Byen København', 'provinceCode': 'DK011', 'regionCode': 1084, 'slug': 'byen-koebenhavn'}, 'road': {'municipalityCode': 101, 'name': 'Skibbroen', 'roadCode': 6448, 'roadID': '6735f803-89ba-4e5e-8390-66d84b8e880a', 'slug': 'skibbroen'}, 'roadName': 'Skibbroen', 'slug': 'skibbroen-12-2450-koebenhavn-sv-01016448__12_______', 'zip': {'name': 'København SV', 'slug': 'koebenhavn-sv', 'zipCode': 2450}, 'zipCode': 2450}   \n",
       "49                                                                                                                                                                                                                                                                                                                                                                                                                                                                                                                                                                                                                                                                                                                                                                                                                                                 {'_links': {'self': {'href': '/addresses/670cbb31-6a79-4989-9cfd-7ccc64f064a6'}}, 'addressID': '670cbb31-6a79-4989-9cfd-7ccc64f064a6', 'allowNewValuationInfo': True, 'boligsidenInfo': {'latestSoldArea': 50}, 'city': {'name': 'København S', 'slug': 'koebenhavn-s'}, 'cityName': 'København S', 'coordinates': {'lat': 55.64196, 'lon': 12.553308, 'type': 'EPSG4326'}, 'daysOnMarket': {'realtors': []}, 'energyLabelImprovement': {'improvementCase': 'FALLBACK', 'sparEnergiLink': 'https://sparenergi.dk/forbruger/boligen/traenger-din-bolig-til-renovering?utm_source=Boligsiden&utm_medium=Banner&utm_campaign=6'}, 'entryAddressID': '75df73f2-f339-4043-b945-4acf7c0e58c0', 'gstkvhx': '01018090_32Z_______', 'houseNumber': '32Z', 'isPublic': True, 'municipality': {'churchTaxPercentage': 0.8, 'councilTaxPercentage': 23.7, 'districtPlanFrom': '2024-06-28', 'districtPlanPdfUrl': 'https://dokument.plandata.dk/20_11186212_1719470578287.pdf', 'landValueTaxLevelPerThousand': 34, 'masterPlanPdfUrl': 'https://dokument.plandata.dk/12_11267550_1717402838438.pdf', 'municipalityCode': 101, 'name': 'København', 'numberOfSchools': 127, 'population': 644431, 'slug': 'koebenhavn'}, 'province': {'name': 'Byen København', 'provinceCode': 'DK011', 'regionCode': 1084, 'slug': 'byen-koebenhavn'}, 'road': {'municipalityCode': 101, 'name': 'Ved Slusen', 'roadCode': 8090, 'roadID': '6dbadaf4-be9e-4598-86a0-4901a6eb8ea7', 'slug': 'ved-slusen'}, 'roadName': 'Ved Slusen', 'slug': 'ved-slusen-32z-2300-koebenhavn-s-01018090_32z_______', 'zip': {'name': 'København S', 'slug': 'koebenhavn-s', 'zipCode': 2300}, 'zipCode': 2300}   \n",
       "50                                                                                                                                                                                                                                                                                                                                                                                                                                                                                                                                                                                                                                                                                                                                                                                                               {'_links': {'self': {'href': '/addresses/3d5046c5-3e4d-428a-9202-0931538bb6aa'}}, 'addressID': '3d5046c5-3e4d-428a-9202-0931538bb6aa', 'allowNewValuationInfo': True, 'bfeNumbers': [700828], 'city': {'name': 'København SV', 'slug': 'koebenhavn-sv'}, 'cityName': 'København SV', 'coordinates': {'lat': 55.647205, 'lon': 12.550493, 'type': 'EPSG4326'}, 'daysOnMarket': {'realtors': []}, 'energyLabelImprovement': {'improvementCase': 'FALLBACK', 'sparEnergiLink': 'https://sparenergi.dk/forbruger/boligen/traenger-din-bolig-til-renovering?utm_source=Boligsiden&utm_medium=Banner&utm_campaign=6'}, 'entryAddressID': '96bd0a76-8379-4d3f-af4a-1cf633645a72', 'gstkvhx': '01018823___3_______', 'houseNumber': '3', 'isPublic': True, 'municipality': {'churchTaxPercentage': 0.8, 'councilTaxPercentage': 23.7, 'districtPlanFrom': '2024-06-28', 'districtPlanPdfUrl': 'https://dokument.plandata.dk/20_11186212_1719470578287.pdf', 'landValueTaxLevelPerThousand': 34, 'masterPlanPdfUrl': 'https://dokument.plandata.dk/12_11267550_1717402838438.pdf', 'municipalityCode': 101, 'name': 'København', 'numberOfSchools': 127, 'population': 644431, 'slug': 'koebenhavn'}, 'propertyNumber': 24189, 'province': {'name': 'Byen København', 'provinceCode': 'DK011', 'regionCode': 1084, 'slug': 'byen-koebenhavn'}, 'road': {'municipalityCode': 101, 'name': 'Ben Websters Vej', 'roadCode': 8823, 'roadID': 'f6f8c792-01c8-4400-8a18-b8f6f52d0b59', 'slug': 'ben-websters-vej'}, 'roadName': 'Ben Websters Vej', 'slug': 'ben-websters-vej-3-2450-koebenhavn-sv-01018823___3_______', 'zip': {'name': 'København SV', 'slug': 'koebenhavn-sv', 'zipCode': 2450}, 'zipCode': 2450}   \n",
       "51                                                                                                                                                                                                                                                                                                                                         {'_links': {'self': {'href': '/addresses/6df03516-3a65-433b-8eee-1862282bb184'}}, 'addressID': '6df03516-3a65-433b-8eee-1862282bb184', 'allowNewValuationInfo': True, 'bfeNumbers': [100302630], 'buildings': [{'bathroomCondition': 'Badeværelse i enheden', 'buildingName': 'Sommerhus', 'buildingNumber': '4', 'externalWallMaterial': 'Andet materiale', 'heatingInstallation': 'Varmepumpe', 'housingArea': 61, 'kitchenCondition': 'Eget køkken med afløb', 'numberOfBathrooms': 1, 'numberOfFloors': 1, 'numberOfRooms': 3, 'numberOfToilets': 1, 'roofingMaterial': 'Tagpap med lille hældning', 'toiletCondition': 'Vandskyllende toilet i enheden', 'totalArea': 61, 'yearBuilt': 2021}], 'city': {'name': 'Grenaa', 'slug': 'grenaa'}, 'cityName': 'Grenaa', 'coordinates': {'lat': 56.404488, 'lon': 10.923306, 'type': 'EPSG4326'}, 'daysOnMarket': {'realtors': []}, 'energyLabelImprovement': {'improvementCase': 'FALLBACK', 'sparEnergiLink': 'https://sparenergi.dk/forbruger/boligen/traenger-din-bolig-til-renovering?utm_source=Boligsiden&utm_medium=Banner&utm_campaign=6'}, 'entryAddressID': 'e3934c62-7235-4da8-a4fd-7a8adc4a1a48', 'gstkvhx': '07077040_50H_______', 'houseNumber': '50H', 'isPublic': True, 'livingArea': 61, 'municipality': {'churchTaxPercentage': 1, 'councilTaxPercentage': 26, 'districtPlanFrom': '2024-06-04', 'districtPlanPdfUrl': 'https://dokument.plandata.dk/20_11300166_1717485065762.pdf', 'landValueTaxLevelPerThousand': 34, 'masterPlanPdfUrl': 'https://dokument.plandata.dk/12_11249369_1715668972986.pdf', 'municipalityCode': 707, 'name': 'Norddjurs', 'numberOfSchools': 10, 'population': 36921, 'slug': 'norddjurs'}, 'propertyNumber': 0, 'province': {'name': 'Østjylland', 'provinceCode': 'DK042', 'regionCode': 1082, 'slug': 'oestjylland'}, 'road': {'municipalityCode': 707, 'name': 'Skakkes Holm', 'roadCode': 7040, 'roadID': 'e2327680-f292-494e-816f-968e005521e7', 'slug': 'skakkes-holm'}, 'roadName': 'Skakkes Holm', 'slug': 'skakkes-holm-50h-8500-grenaa-07077040_50h_______', 'weightedArea': 61, 'zip': {'name': 'Grenaa', 'slug': 'grenaa', 'zipCode': 8500}, 'zipCode': 8500}   \n",
       "52                                                                                                                                                                                                                                                                                                                                                                                                                                                                                                                                                                                                                                                                                                                                                                                                                                                                 {'_links': {'self': {'href': '/addresses/32963604-bba6-4500-b716-19d6dc59ba67'}}, 'addressID': '32963604-bba6-4500-b716-19d6dc59ba67', 'allowNewValuationInfo': True, 'bfeNumbers': [100059905], 'city': {'name': 'København S', 'slug': 'koebenhavn-s'}, 'cityName': 'København S', 'coordinates': {'lat': 55.641228, 'lon': 12.553767, 'type': 'EPSG4326'}, 'daysOnMarket': {'realtors': []}, 'energyLabelImprovement': {'improvementCase': 'FALLBACK', 'sparEnergiLink': 'https://sparenergi.dk/forbruger/boligen/traenger-din-bolig-til-renovering?utm_source=Boligsiden&utm_medium=Banner&utm_campaign=6'}, 'entryAddressID': '9f44b91e-8a7b-4b0b-b4f3-d4c36196cae1', 'gstkvhx': '01018090__45_______', 'houseNumber': '45', 'isPublic': True, 'municipality': {'churchTaxPercentage': 0.8, 'councilTaxPercentage': 23.7, 'districtPlanFrom': '2024-06-28', 'districtPlanPdfUrl': 'https://dokument.plandata.dk/20_11186212_1719470578287.pdf', 'landValueTaxLevelPerThousand': 34, 'masterPlanPdfUrl': 'https://dokument.plandata.dk/12_11267550_1717402838438.pdf', 'municipalityCode': 101, 'name': 'København', 'numberOfSchools': 127, 'population': 644431, 'slug': 'koebenhavn'}, 'province': {'name': 'Byen København', 'provinceCode': 'DK011', 'regionCode': 1084, 'slug': 'byen-koebenhavn'}, 'road': {'municipalityCode': 101, 'name': 'Ved Slusen', 'roadCode': 8090, 'roadID': '6dbadaf4-be9e-4598-86a0-4901a6eb8ea7', 'slug': 'ved-slusen'}, 'roadName': 'Ved Slusen', 'slug': 'ved-slusen-45-2300-koebenhavn-s-01018090__45_______', 'zip': {'name': 'København S', 'slug': 'koebenhavn-s', 'zipCode': 2300}, 'zipCode': 2300}   \n",
       "53                                                                                                                                                                                                                                                                                                                                                                                                                                                                                                                                                                                                                                                                                                                                                                                                {'_links': {'self': {'href': '/addresses/e6d3676d-ab6a-4cf7-9749-032e0df1de2e'}}, 'addressID': 'e6d3676d-ab6a-4cf7-9749-032e0df1de2e', 'allowNewValuationInfo': True, 'bfeNumbers': [705502], 'boligsidenInfo': {'latestSoldArea': 32}, 'city': {'name': 'København S', 'slug': 'koebenhavn-s'}, 'cityName': 'København S', 'coordinates': {'lat': 55.642273, 'lon': 12.553643, 'type': 'EPSG4326'}, 'daysOnMarket': {'realtors': []}, 'energyLabelImprovement': {'improvementCase': 'FALLBACK', 'sparEnergiLink': 'https://sparenergi.dk/forbruger/boligen/traenger-din-bolig-til-renovering?utm_source=Boligsiden&utm_medium=Banner&utm_campaign=6'}, 'entryAddressID': '0a3f507b-1f9e-32b8-e044-0003ba298018', 'gstkvhx': '01018090__32_______', 'houseNumber': '32', 'isPublic': True, 'municipality': {'churchTaxPercentage': 0.8, 'councilTaxPercentage': 23.7, 'districtPlanFrom': '2024-06-28', 'districtPlanPdfUrl': 'https://dokument.plandata.dk/20_11186212_1719470578287.pdf', 'landValueTaxLevelPerThousand': 34, 'masterPlanPdfUrl': 'https://dokument.plandata.dk/12_11267550_1717402838438.pdf', 'municipalityCode': 101, 'name': 'København', 'numberOfSchools': 127, 'population': 644431, 'slug': 'koebenhavn'}, 'propertyNumber': 939707, 'province': {'name': 'Byen København', 'provinceCode': 'DK011', 'regionCode': 1084, 'slug': 'byen-koebenhavn'}, 'road': {'municipalityCode': 101, 'name': 'Ved Slusen', 'roadCode': 8090, 'roadID': '6dbadaf4-be9e-4598-86a0-4901a6eb8ea7', 'slug': 'ved-slusen'}, 'roadName': 'Ved Slusen', 'slug': 'ved-slusen-32-2300-koebenhavn-s-01018090__32_______', 'zip': {'name': 'København S', 'slug': 'koebenhavn-s', 'zipCode': 2300}, 'zipCode': 2300}   \n",
       "54                                                                                                                                                      {'_links': {'self': {'href': '/addresses/32f19510-9306-4486-9123-b52fa296bf62'}}, 'addressID': '32f19510-9306-4486-9123-b52fa296bf62', 'addressType': 'villa', 'allowNewValuationInfo': True, 'bfeNumbers': [700827, 100079699], 'boligsidenInfo': {'latestSoldArea': 103}, 'buildings': [{'bathroomCondition': 'Badeværelse i enheden', 'buildingName': 'Fritliggende enfamilieshus (parcelhus)', 'buildingNumber': '1', 'externalWallMaterial': 'Metal', 'heatingInstallation': 'Centralvarme med én fyringsenhed', 'housingArea': 103, 'kitchenCondition': 'Eget køkken med afløb', 'numberOfBathrooms': 1, 'numberOfFloors': 1, 'numberOfKitchens': 1, 'numberOfRooms': 6, 'numberOfToilets': 2, 'roofingMaterial': 'Metal', 'toiletCondition': 'Vandskyllende toilet i enheden', 'totalArea': 192, 'yearBuilt': 2017}], 'city': {'name': 'København SV', 'slug': 'koebenhavn-sv'}, 'cityName': 'København SV', 'coordinates': {'lat': 55.646744, 'lon': 12.545307, 'type': 'EPSG4326'}, 'daysOnMarket': {'realtors': []}, 'energyLabelImprovement': {'improvementCase': 'FALLBACK', 'sparEnergiLink': 'https://sparenergi.dk/forbruger/boligen/traenger-din-bolig-til-renovering?utm_source=Boligsiden&utm_medium=Banner&utm_campaign=6'}, 'entryAddressID': '990d60b5-d594-461b-8acd-7409c6f3c5b9', 'gstkvhx': '01011958__2V_______', 'houseNumber': '2V', 'isPublic': True, 'livingArea': 103, 'municipality': {'churchTaxPercentage': 0.8, 'councilTaxPercentage': 23.7, 'districtPlanFrom': '2024-06-28', 'districtPlanPdfUrl': 'https://dokument.plandata.dk/20_11186212_1719470578287.pdf', 'landValueTaxLevelPerThousand': 34, 'masterPlanPdfUrl': 'https://dokument.plandata.dk/12_11267550_1717402838438.pdf', 'municipalityCode': 101, 'name': 'København', 'numberOfSchools': 127, 'population': 644431, 'slug': 'koebenhavn'}, 'propertyNumber': 18231, 'province': {'name': 'Byen København', 'provinceCode': 'DK011', 'regionCode': 1084, 'slug': 'byen-koebenhavn'}, 'road': {'municipalityCode': 101, 'name': 'Frederikskaj', 'roadCode': 1958, 'roadID': 'cfff4bbd-3438-404c-ac5b-41108d618c4f', 'slug': 'frederikskaj'}, 'roadName': 'Frederikskaj', 'slug': 'frederikskaj-2v-2450-koebenhavn-sv-01011958__2v_______', 'weightedArea': 103, 'zip': {'name': 'København SV', 'slug': 'koebenhavn-sv', 'zipCode': 2450}, 'zipCode': 2450}   \n",
       "55                                                                                                                                                                                                                                                                                                                                                                                                                                                                                                                                                                                                                                                                                                                                                                                                                                                                                           {'_links': {'self': {'href': '/addresses/c6ad1490-b692-4187-873c-55fe8cbd5153'}}, 'addressID': 'c6ad1490-b692-4187-873c-55fe8cbd5153', 'allowNewValuationInfo': True, 'city': {'name': 'København S', 'slug': 'koebenhavn-s'}, 'cityName': 'København S', 'coordinates': {'lat': 55.64127, 'lon': 12.552835, 'type': 'EPSG4326'}, 'daysOnMarket': {'realtors': []}, 'energyLabelImprovement': {'improvementCase': 'FALLBACK', 'sparEnergiLink': 'https://sparenergi.dk/forbruger/boligen/traenger-din-bolig-til-renovering?utm_source=Boligsiden&utm_medium=Banner&utm_campaign=6'}, 'entryAddressID': '666dbe81-3a33-4ac3-968c-95a0d53a4e88', 'gstkvhx': '01018090_53A_______', 'houseNumber': '53A', 'isPublic': True, 'municipality': {'churchTaxPercentage': 0.8, 'councilTaxPercentage': 23.7, 'districtPlanFrom': '2024-06-28', 'districtPlanPdfUrl': 'https://dokument.plandata.dk/20_11186212_1719470578287.pdf', 'landValueTaxLevelPerThousand': 34, 'masterPlanPdfUrl': 'https://dokument.plandata.dk/12_11267550_1717402838438.pdf', 'municipalityCode': 101, 'name': 'København', 'numberOfSchools': 127, 'population': 644431, 'slug': 'koebenhavn'}, 'province': {'name': 'Byen København', 'provinceCode': 'DK011', 'regionCode': 1084, 'slug': 'byen-koebenhavn'}, 'road': {'municipalityCode': 101, 'name': 'Ved Slusen', 'roadCode': 8090, 'roadID': '6dbadaf4-be9e-4598-86a0-4901a6eb8ea7', 'slug': 'ved-slusen'}, 'roadName': 'Ved Slusen', 'slug': 'ved-slusen-53a-2300-koebenhavn-s-01018090_53a_______', 'zip': {'name': 'København S', 'slug': 'koebenhavn-s', 'zipCode': 2300}, 'zipCode': 2300}   \n",
       "56                                                                                                                                                                                                                                                                                                                                                                                                                                                                                                                                                                                                                                                                                                                                                                                                                                                                                                                                                                                                                                                                                                                                                               {'_links': {'self': {'href': '/addresses/8bd38800-35ed-46b7-9bff-841f32575ccd'}}, 'addressID': '8bd38800-35ed-46b7-9bff-841f32575ccd', 'allowNewValuationInfo': True, 'city': {'name': 'Ærøskøbing', 'slug': 'aeroeskoebing'}, 'cityName': 'Ærøskøbing', 'daysOnMarket': {'realtors': []}, 'energyLabelImprovement': {'improvementCase': 'FALLBACK', 'sparEnergiLink': 'https://sparenergi.dk/forbruger/boligen/traenger-din-bolig-til-renovering?utm_source=Boligsiden&utm_medium=Banner&utm_campaign=6'}, 'isPublic': False, 'municipality': {'churchTaxPercentage': 1.07, 'councilTaxPercentage': 26.1, 'districtPlanFrom': '2024-05-22', 'districtPlanPdfUrl': 'https://dokument.plandata.dk/20_11282397_1716379772335.pdf', 'landValueTaxLevelPerThousand': 30, 'masterPlanPdfUrl': 'https://dokument.plandata.dk/12_11282394_1716379537403.pdf', 'municipalityCode': 492, 'name': 'Ærø', 'numberOfSchools': 2, 'population': 6025, 'slug': 'aeroe'}, 'province': {'name': 'Fyn', 'provinceCode': 'DK031', 'regionCode': 1083, 'slug': 'fyn'}, 'road': {'municipalityCode': 492, 'name': 'Ærøskøbing Havn, Bro 7'}, 'roadName': 'Ærøskøbing Havn, Bro 7', 'slug': 'aeroeskoebing-havn,-bro-7-5970-aeroeskoebing-8bd38800-35ed-46b7-9bff-841f32575ccd', 'zip': {'name': 'Ærøskøbing', 'slug': 'aeroeskoebing', 'zipCode': 5970}, 'zipCode': 5970}   \n",
       "57                                                                                                                                                                                                                                                                                                                                                                                                                                                                                                                                                                                                                                                                                                                                                                                                                                                                                                                                                                                                                                                                                                                        {'_links': {'self': {'href': '/addresses/72fbe9c2-ae56-4ade-a3d9-c6ba4a9c3fb8'}}, 'addressID': '72fbe9c2-ae56-4ade-a3d9-c6ba4a9c3fb8', 'allowNewValuationInfo': True, 'city': {'name': 'København K', 'slug': 'koebenhavn-k'}, 'cityName': 'København K', 'daysOnMarket': {'realtors': []}, 'energyLabelImprovement': {'improvementCase': 'FALLBACK', 'sparEnergiLink': 'https://sparenergi.dk/forbruger/boligen/traenger-din-bolig-til-renovering?utm_source=Boligsiden&utm_medium=Banner&utm_campaign=6'}, 'houseNumber': '75Z', 'isPublic': False, 'municipality': {'churchTaxPercentage': 0.8, 'councilTaxPercentage': 23.7, 'districtPlanFrom': '2024-06-28', 'districtPlanPdfUrl': 'https://dokument.plandata.dk/20_11186212_1719470578287.pdf', 'landValueTaxLevelPerThousand': 34, 'masterPlanPdfUrl': 'https://dokument.plandata.dk/12_11267550_1717402838438.pdf', 'municipalityCode': 101, 'name': 'København', 'numberOfSchools': 127, 'population': 644431, 'slug': 'koebenhavn'}, 'province': {'name': 'Byen København', 'provinceCode': 'DK011', 'regionCode': 1084, 'slug': 'byen-koebenhavn'}, 'road': {'municipalityCode': 101, 'name': 'Strandgade'}, 'roadName': 'Strandgade', 'slug': 'strandgade-75z-1401-koebenhavn-k-72fbe9c2-ae56-4ade-a3d9-c6ba4a9c3fb8', 'zip': {'group': 1000, 'name': 'København K', 'slug': 'koebenhavn-k', 'zipCode': 1401}, 'zipCode': 1401}   \n",
       "\n",
       "      addressType                                caseID  \\\n",
       "0           condo  ad9ac6d0-45bd-4c1b-b1b4-c003359a697a   \n",
       "1           condo  8d9a1d0c-2dd8-4476-bda5-d690fd5188fc   \n",
       "2           condo  cabd0f7b-a576-434a-97f1-85064973950e   \n",
       "3           villa  112ac301-faee-4351-85a9-6aa87ba74341   \n",
       "4   holiday house  22d28e65-1f9d-49fe-ba2d-28192f601513   \n",
       "5           condo  d86cc01d-d2e8-4e17-a236-c82f49fc537d   \n",
       "6           condo  036f55be-c757-41e7-bced-7eafa73e5901   \n",
       "7           condo  ef139eb3-769e-4f8e-9edc-b020c97e3dbb   \n",
       "8           condo  bdcb9f7e-80e9-4834-b595-73c9c9ca4856   \n",
       "9   holiday house  70398fad-5d81-4852-85cc-f0ebe8c1b8d1   \n",
       "10          villa  8e39ae41-3749-4788-994d-0aa47ac8576b   \n",
       "11          condo  14aecdae-15ce-4e22-86f8-055d4b8c0cfd   \n",
       "12          villa  7326de30-d906-400e-815e-8d21200a2fe5   \n",
       "13          villa  4e359c40-e0da-44fc-975a-73b713391aaa   \n",
       "14          condo  5f68ed1a-a294-4253-8123-8f5d2f9b655d   \n",
       "15          villa  e9f4f0f3-10e4-4748-8c7d-acb4126df1e3   \n",
       "16  holiday house  d40b5216-7f6a-4880-a2bd-166f1686b1db   \n",
       "17          villa  78740d58-24f5-4384-afd7-1ac2be025ffd   \n",
       "18          condo  9c98521c-4a84-4805-b9e2-550add8659ab   \n",
       "19          condo  c5eef315-f2fe-43e3-aeca-e48da55ebc70   \n",
       "20          condo  901ca1a9-d961-4b53-8fb3-9b203e511281   \n",
       "21          condo  11d880e3-84dc-488a-a21b-c05848befef3   \n",
       "22  holiday house  0eb6cb66-fa06-429a-a759-da8e05eabf40   \n",
       "23          villa  cc1c250e-7a68-4ba1-b20f-0f4932e36a0e   \n",
       "24          condo  222f1480-1f6d-4616-a417-7f07bfeefabe   \n",
       "25          condo  33d87aa7-d2f1-41d0-9fce-dd81359b6e1b   \n",
       "26          condo  1c8ac0e3-ea13-4122-adb5-ddb562faefc3   \n",
       "27  holiday house  443189eb-f8db-4dfc-81ee-c00e8b4c6cbe   \n",
       "28          villa  e0128a72-e6c6-4861-920b-cfeab1329a23   \n",
       "29          condo  ad9ac6d0-45bd-4c1b-b1b4-c003359a697a   \n",
       "30          condo  8d9a1d0c-2dd8-4476-bda5-d690fd5188fc   \n",
       "31          condo  cabd0f7b-a576-434a-97f1-85064973950e   \n",
       "32          villa  112ac301-faee-4351-85a9-6aa87ba74341   \n",
       "33  holiday house  22d28e65-1f9d-49fe-ba2d-28192f601513   \n",
       "34          condo  d86cc01d-d2e8-4e17-a236-c82f49fc537d   \n",
       "35          condo  036f55be-c757-41e7-bced-7eafa73e5901   \n",
       "36          condo  ef139eb3-769e-4f8e-9edc-b020c97e3dbb   \n",
       "37          condo  bdcb9f7e-80e9-4834-b595-73c9c9ca4856   \n",
       "38  holiday house  70398fad-5d81-4852-85cc-f0ebe8c1b8d1   \n",
       "39          villa  8e39ae41-3749-4788-994d-0aa47ac8576b   \n",
       "40          condo  14aecdae-15ce-4e22-86f8-055d4b8c0cfd   \n",
       "41          villa  7326de30-d906-400e-815e-8d21200a2fe5   \n",
       "42          villa  4e359c40-e0da-44fc-975a-73b713391aaa   \n",
       "43          condo  5f68ed1a-a294-4253-8123-8f5d2f9b655d   \n",
       "44          villa  e9f4f0f3-10e4-4748-8c7d-acb4126df1e3   \n",
       "45  holiday house  d40b5216-7f6a-4880-a2bd-166f1686b1db   \n",
       "46          villa  78740d58-24f5-4384-afd7-1ac2be025ffd   \n",
       "47          condo  9c98521c-4a84-4805-b9e2-550add8659ab   \n",
       "48          condo  c5eef315-f2fe-43e3-aeca-e48da55ebc70   \n",
       "49          condo  901ca1a9-d961-4b53-8fb3-9b203e511281   \n",
       "50          condo  11d880e3-84dc-488a-a21b-c05848befef3   \n",
       "51  holiday house  0eb6cb66-fa06-429a-a759-da8e05eabf40   \n",
       "52          villa  cc1c250e-7a68-4ba1-b20f-0f4932e36a0e   \n",
       "53          condo  222f1480-1f6d-4616-a417-7f07bfeefabe   \n",
       "54          condo  33d87aa7-d2f1-41d0-9fce-dd81359b6e1b   \n",
       "55          condo  1c8ac0e3-ea13-4122-adb5-ddb562faefc3   \n",
       "56  holiday house  443189eb-f8db-4dfc-81ee-c00e8b4c6cbe   \n",
       "57          villa  e0128a72-e6c6-4861-920b-cfeab1329a23   \n",
       "\n",
       "                                                                      caseUrl  \\\n",
       "0                  https://www.danbolig.dk?propertyid=0870000755&brokerid=087   \n",
       "1        https://www.nybolig.dk/services/redirect/case/N270123/N2701230000042   \n",
       "2                  https://www.danbolig.dk?propertyid=0870000722&brokerid=087   \n",
       "3   https://www.camillathouber.dk/redirectestate.php?butiksid=2656&id=CT19395   \n",
       "4                  https://www.nybolig.dk/services/redirect/case/N230014/4406   \n",
       "5        https://www.nybolig.dk/services/redirect/case/N270123/N2701230000040   \n",
       "6                                              https://home.dk/sag/1340001480   \n",
       "7      http://ekmanbolig.dk/koeb-bolig/bolig.aspx?shopid=1960&caseno=14326321   \n",
       "8                                              https://home.dk/sag/1340001534   \n",
       "9                  https://www.nybolig.dk/services/redirect/case/N230014/4413   \n",
       "10                     https://adamschnack.dk/sag.aspx?mgl=2896&sagsnr=AS2152   \n",
       "11                                 https://www.lokalbolig.dk/?sag=20-X0001377   \n",
       "12                                    https://www.edc.dk/sag/?sagsnr=27703289   \n",
       "13              http://www.pernillesams.dk/redirect.php?mgl=1320&Sagsnr=22365   \n",
       "14         https://www.realmaeglerne.dk/301-redirect/?mgl=R134&sagsnr=1343375   \n",
       "15             http://www.and-living.dk/redirect.php?mgl=2827&sagsnr=ALD00285   \n",
       "16            http://www.eltoftnielsen.dk/default.aspx?mgl=2429&sagsnr=115018   \n",
       "17          http://www.eltoftnielsen.dk/default.aspx?mgl=2429&sagsnr=IEN12975   \n",
       "18                                             https://home.dk/sag/1340001449   \n",
       "19                                    https://www.edc.dk/sag/?sagsnr=21606782   \n",
       "20                                             https://home.dk/sag/1340001453   \n",
       "21                                             https://home.dk/sag/1340001440   \n",
       "22                                             https://home.dk/sag/6120000498   \n",
       "23                                   https://www.camillalindhard.dk/430000143   \n",
       "24                                             https://home.dk/sag/1340001397   \n",
       "25                                    https://www.edc.dk/sag/?sagsnr=21606583   \n",
       "26                                 https://www.lokalbolig.dk/?sag=20-X0001334   \n",
       "27                                    https://www.edc.dk/sag/?sagsnr=57207016   \n",
       "28  https://www.camillathouber.dk/redirectestate.php?butiksid=2656&id=CT19223   \n",
       "29                 https://www.danbolig.dk?propertyid=0870000755&brokerid=087   \n",
       "30       https://www.nybolig.dk/services/redirect/case/N270123/N2701230000042   \n",
       "31                 https://www.danbolig.dk?propertyid=0870000722&brokerid=087   \n",
       "32  https://www.camillathouber.dk/redirectestate.php?butiksid=2656&id=CT19395   \n",
       "33                 https://www.nybolig.dk/services/redirect/case/N230014/4406   \n",
       "34       https://www.nybolig.dk/services/redirect/case/N270123/N2701230000040   \n",
       "35                                             https://home.dk/sag/1340001480   \n",
       "36     http://ekmanbolig.dk/koeb-bolig/bolig.aspx?shopid=1960&caseno=14326321   \n",
       "37                                             https://home.dk/sag/1340001534   \n",
       "38                 https://www.nybolig.dk/services/redirect/case/N230014/4413   \n",
       "39                     https://adamschnack.dk/sag.aspx?mgl=2896&sagsnr=AS2152   \n",
       "40                                 https://www.lokalbolig.dk/?sag=20-X0001377   \n",
       "41                                    https://www.edc.dk/sag/?sagsnr=27703289   \n",
       "42              http://www.pernillesams.dk/redirect.php?mgl=1320&Sagsnr=22365   \n",
       "43         https://www.realmaeglerne.dk/301-redirect/?mgl=R134&sagsnr=1343375   \n",
       "44             http://www.and-living.dk/redirect.php?mgl=2827&sagsnr=ALD00285   \n",
       "45            http://www.eltoftnielsen.dk/default.aspx?mgl=2429&sagsnr=115018   \n",
       "46          http://www.eltoftnielsen.dk/default.aspx?mgl=2429&sagsnr=IEN12975   \n",
       "47                                             https://home.dk/sag/1340001449   \n",
       "48                                    https://www.edc.dk/sag/?sagsnr=21606782   \n",
       "49                                             https://home.dk/sag/1340001453   \n",
       "50                                             https://home.dk/sag/1340001440   \n",
       "51                                             https://home.dk/sag/6120000498   \n",
       "52                                   https://www.camillalindhard.dk/430000143   \n",
       "53                                             https://home.dk/sag/1340001397   \n",
       "54                                    https://www.edc.dk/sag/?sagsnr=21606583   \n",
       "55                                 https://www.lokalbolig.dk/?sag=20-X0001334   \n",
       "56                                    https://www.edc.dk/sag/?sagsnr=57207016   \n",
       "57  https://www.camillathouber.dk/redirectestate.php?butiksid=2656&id=CT19223   \n",
       "\n",
       "                                                 coordinates  daysOnMarket  \\\n",
       "0    {'lat': 55.65837, 'lon': 12.562113, 'type': 'EPSG4326'}            15   \n",
       "1    {'lat': 55.679836, 'lon': 12.60091, 'type': 'EPSG4326'}            40   \n",
       "2   {'lat': 55.658794, 'lon': 12.561923, 'type': 'EPSG4326'}            45   \n",
       "3   {'lat': 55.689972, 'lon': 12.606812, 'type': 'EPSG4326'}            50   \n",
       "4     {'lat': 55.850147, 'lon': 8.27942, 'type': 'EPSG4326'}            58   \n",
       "5    {'lat': 55.679836, 'lon': 12.60091, 'type': 'EPSG4326'}            61   \n",
       "6    {'lat': 55.67707, 'lon': 12.597699, 'type': 'EPSG4326'}            66   \n",
       "7     {'lat': 55.69227, 'lon': 12.60841, 'type': 'EPSG4326'}            67   \n",
       "8    {'lat': 55.608906, 'lon': 12.39068, 'type': 'EPSG4326'}            76   \n",
       "9   {'lat': 55.850296, 'lon': 8.2791395, 'type': 'EPSG4326'}            77   \n",
       "10    {'lat': 55.6541, 'lon': 12.554191, 'type': 'EPSG4326'}            77   \n",
       "11   {'lat': 55.64135, 'lon': 12.552788, 'type': 'EPSG4326'}            87   \n",
       "12  {'lat': 55.670937, 'lon': 12.581738, 'type': 'EPSG4326'}           101   \n",
       "13  {'lat': 55.914936, 'lon': 11.676922, 'type': 'EPSG4326'}           103   \n",
       "14   {'lat': 55.64631, 'lon': 12.544503, 'type': 'EPSG4326'}           116   \n",
       "15   {'lat': 55.60794, 'lon': 12.388657, 'type': 'EPSG4326'}           116   \n",
       "16  {'lat': 55.685863, 'lon': 12.608955, 'type': 'EPSG4326'}           121   \n",
       "17  {'lat': 55.685547, 'lon': 12.609108, 'type': 'EPSG4326'}           143   \n",
       "18   {'lat': 55.659637, 'lon': 12.55983, 'type': 'EPSG4326'}           165   \n",
       "19   {'lat': 55.65944, 'lon': 12.559025, 'type': 'EPSG4326'}           169   \n",
       "20  {'lat': 55.641235, 'lon': 12.553489, 'type': 'EPSG4326'}           175   \n",
       "21  {'lat': 55.647243, 'lon': 12.550408, 'type': 'EPSG4326'}           182   \n",
       "22  {'lat': 56.404488, 'lon': 10.923306, 'type': 'EPSG4326'}           186   \n",
       "23  {'lat': 55.641357, 'lon': 12.553511, 'type': 'EPSG4326'}           196   \n",
       "24  {'lat': 55.641544, 'lon': 12.551776, 'type': 'EPSG4326'}           246   \n",
       "25  {'lat': 55.646744, 'lon': 12.545307, 'type': 'EPSG4326'}           326   \n",
       "26   {'lat': 55.64135, 'lon': 12.552788, 'type': 'EPSG4326'}           378   \n",
       "27   {'lat': 54.89034, 'lon': 10.413971, 'type': 'EPSG4326'}           487   \n",
       "28  {'lat': 55.677223, 'lon': 12.594001, 'type': 'EPSG4326'}           641   \n",
       "29   {'lat': 55.65837, 'lon': 12.562113, 'type': 'EPSG4326'}            15   \n",
       "30   {'lat': 55.679836, 'lon': 12.60091, 'type': 'EPSG4326'}            40   \n",
       "31  {'lat': 55.658794, 'lon': 12.561923, 'type': 'EPSG4326'}            45   \n",
       "32  {'lat': 55.689972, 'lon': 12.606812, 'type': 'EPSG4326'}            50   \n",
       "33    {'lat': 55.850147, 'lon': 8.27942, 'type': 'EPSG4326'}            58   \n",
       "34   {'lat': 55.679836, 'lon': 12.60091, 'type': 'EPSG4326'}            61   \n",
       "35   {'lat': 55.67707, 'lon': 12.597699, 'type': 'EPSG4326'}            66   \n",
       "36    {'lat': 55.69227, 'lon': 12.60841, 'type': 'EPSG4326'}            67   \n",
       "37   {'lat': 55.608906, 'lon': 12.39068, 'type': 'EPSG4326'}            76   \n",
       "38  {'lat': 55.850296, 'lon': 8.2791395, 'type': 'EPSG4326'}            77   \n",
       "39    {'lat': 55.6541, 'lon': 12.554191, 'type': 'EPSG4326'}            77   \n",
       "40   {'lat': 55.64135, 'lon': 12.552788, 'type': 'EPSG4326'}            87   \n",
       "41  {'lat': 55.670937, 'lon': 12.581738, 'type': 'EPSG4326'}           101   \n",
       "42  {'lat': 55.914936, 'lon': 11.676922, 'type': 'EPSG4326'}           103   \n",
       "43   {'lat': 55.64631, 'lon': 12.544503, 'type': 'EPSG4326'}           116   \n",
       "44   {'lat': 55.60794, 'lon': 12.388657, 'type': 'EPSG4326'}           116   \n",
       "45  {'lat': 55.685863, 'lon': 12.608955, 'type': 'EPSG4326'}           121   \n",
       "46  {'lat': 55.685547, 'lon': 12.609108, 'type': 'EPSG4326'}           143   \n",
       "47   {'lat': 55.659637, 'lon': 12.55983, 'type': 'EPSG4326'}           165   \n",
       "48   {'lat': 55.65944, 'lon': 12.559025, 'type': 'EPSG4326'}           169   \n",
       "49  {'lat': 55.641235, 'lon': 12.553489, 'type': 'EPSG4326'}           175   \n",
       "50  {'lat': 55.647243, 'lon': 12.550408, 'type': 'EPSG4326'}           182   \n",
       "51  {'lat': 56.404488, 'lon': 10.923306, 'type': 'EPSG4326'}           186   \n",
       "52  {'lat': 55.641357, 'lon': 12.553511, 'type': 'EPSG4326'}           196   \n",
       "53  {'lat': 55.641544, 'lon': 12.551776, 'type': 'EPSG4326'}           246   \n",
       "54  {'lat': 55.646744, 'lon': 12.545307, 'type': 'EPSG4326'}           326   \n",
       "55   {'lat': 55.64135, 'lon': 12.552788, 'type': 'EPSG4326'}           378   \n",
       "56   {'lat': 54.89034, 'lon': 10.413971, 'type': 'EPSG4326'}           487   \n",
       "57  {'lat': 55.677223, 'lon': 12.594001, 'type': 'EPSG4326'}           641   \n",
       "\n",
       "                                                                                                                                                                                                                                                                                                                                                                                                                                                                                                                                                                                                                                                                                                                                                                                                                                                                                                                                                                                                                                                                                                                            defaultImage  \\\n",
       "0   {'imageSources': [{'size': {'height': 80, 'width': 100}, 'url': 'https://images.boligsiden.dk/images/case/ad9ac6d0-45bd-4c1b-b1b4-c003359a697a/100x80/5be01428-0579-49be-821a-3bd4e389ed00.webp'}, {'size': {'height': 118, 'width': 143}, 'url': 'https://images.boligsiden.dk/images/case/ad9ac6d0-45bd-4c1b-b1b4-c003359a697a/143x118/5be01428-0579-49be-821a-3bd4e389ed00.webp'}, {'size': {'height': 200, 'width': 300}, 'url': 'https://images.boligsiden.dk/images/case/ad9ac6d0-45bd-4c1b-b1b4-c003359a697a/300x200/5be01428-0579-49be-821a-3bd4e389ed00.webp'}, {'size': {'height': 400, 'width': 600}, 'url': 'https://images.boligsiden.dk/images/case/ad9ac6d0-45bd-4c1b-b1b4-c003359a697a/600x400/5be01428-0579-49be-821a-3bd4e389ed00.webp'}, {'size': {'height': 600, 'width': 600}, 'url': 'https://images.boligsiden.dk/images/case/ad9ac6d0-45bd-4c1b-b1b4-c003359a697a/600x600/5be01428-0579-49be-821a-3bd4e389ed00.webp'}, {'size': {'height': 960, 'width': 1440}, 'url': 'https://images.boligsiden.dk/images/case/ad9ac6d0-45bd-4c1b-b1b4-c003359a697a/1440x960/5be01428-0579-49be-821a-3bd4e389ed00.webp'}]}   \n",
       "1   {'imageSources': [{'size': {'height': 80, 'width': 100}, 'url': 'https://images.boligsiden.dk/images/case/8d9a1d0c-2dd8-4476-bda5-d690fd5188fc/100x80/2129ed0d-e458-4c3d-9158-dcf61ca8224a.webp'}, {'size': {'height': 118, 'width': 143}, 'url': 'https://images.boligsiden.dk/images/case/8d9a1d0c-2dd8-4476-bda5-d690fd5188fc/143x118/2129ed0d-e458-4c3d-9158-dcf61ca8224a.webp'}, {'size': {'height': 200, 'width': 300}, 'url': 'https://images.boligsiden.dk/images/case/8d9a1d0c-2dd8-4476-bda5-d690fd5188fc/300x200/2129ed0d-e458-4c3d-9158-dcf61ca8224a.webp'}, {'size': {'height': 400, 'width': 600}, 'url': 'https://images.boligsiden.dk/images/case/8d9a1d0c-2dd8-4476-bda5-d690fd5188fc/600x400/2129ed0d-e458-4c3d-9158-dcf61ca8224a.webp'}, {'size': {'height': 600, 'width': 600}, 'url': 'https://images.boligsiden.dk/images/case/8d9a1d0c-2dd8-4476-bda5-d690fd5188fc/600x600/2129ed0d-e458-4c3d-9158-dcf61ca8224a.webp'}, {'size': {'height': 960, 'width': 1440}, 'url': 'https://images.boligsiden.dk/images/case/8d9a1d0c-2dd8-4476-bda5-d690fd5188fc/1440x960/2129ed0d-e458-4c3d-9158-dcf61ca8224a.webp'}]}   \n",
       "2   {'imageSources': [{'size': {'height': 80, 'width': 100}, 'url': 'https://images.boligsiden.dk/images/case/cabd0f7b-a576-434a-97f1-85064973950e/100x80/c49b185b-a431-4f0e-9c3b-8110b31c30a8.webp'}, {'size': {'height': 118, 'width': 143}, 'url': 'https://images.boligsiden.dk/images/case/cabd0f7b-a576-434a-97f1-85064973950e/143x118/c49b185b-a431-4f0e-9c3b-8110b31c30a8.webp'}, {'size': {'height': 200, 'width': 300}, 'url': 'https://images.boligsiden.dk/images/case/cabd0f7b-a576-434a-97f1-85064973950e/300x200/c49b185b-a431-4f0e-9c3b-8110b31c30a8.webp'}, {'size': {'height': 400, 'width': 600}, 'url': 'https://images.boligsiden.dk/images/case/cabd0f7b-a576-434a-97f1-85064973950e/600x400/c49b185b-a431-4f0e-9c3b-8110b31c30a8.webp'}, {'size': {'height': 600, 'width': 600}, 'url': 'https://images.boligsiden.dk/images/case/cabd0f7b-a576-434a-97f1-85064973950e/600x600/c49b185b-a431-4f0e-9c3b-8110b31c30a8.webp'}, {'size': {'height': 960, 'width': 1440}, 'url': 'https://images.boligsiden.dk/images/case/cabd0f7b-a576-434a-97f1-85064973950e/1440x960/c49b185b-a431-4f0e-9c3b-8110b31c30a8.webp'}]}   \n",
       "3   {'imageSources': [{'size': {'height': 80, 'width': 100}, 'url': 'https://images.boligsiden.dk/images/case/112ac301-faee-4351-85a9-6aa87ba74341/100x80/208255f9-7560-42a4-b739-81b8a5898829.webp'}, {'size': {'height': 118, 'width': 143}, 'url': 'https://images.boligsiden.dk/images/case/112ac301-faee-4351-85a9-6aa87ba74341/143x118/208255f9-7560-42a4-b739-81b8a5898829.webp'}, {'size': {'height': 200, 'width': 300}, 'url': 'https://images.boligsiden.dk/images/case/112ac301-faee-4351-85a9-6aa87ba74341/300x200/208255f9-7560-42a4-b739-81b8a5898829.webp'}, {'size': {'height': 400, 'width': 600}, 'url': 'https://images.boligsiden.dk/images/case/112ac301-faee-4351-85a9-6aa87ba74341/600x400/208255f9-7560-42a4-b739-81b8a5898829.webp'}, {'size': {'height': 600, 'width': 600}, 'url': 'https://images.boligsiden.dk/images/case/112ac301-faee-4351-85a9-6aa87ba74341/600x600/208255f9-7560-42a4-b739-81b8a5898829.webp'}, {'size': {'height': 960, 'width': 1440}, 'url': 'https://images.boligsiden.dk/images/case/112ac301-faee-4351-85a9-6aa87ba74341/1440x960/208255f9-7560-42a4-b739-81b8a5898829.webp'}]}   \n",
       "4   {'imageSources': [{'size': {'height': 80, 'width': 100}, 'url': 'https://images.boligsiden.dk/images/case/22d28e65-1f9d-49fe-ba2d-28192f601513/100x80/854eab33-d2e6-4552-8c4a-20a238f2558a.webp'}, {'size': {'height': 118, 'width': 143}, 'url': 'https://images.boligsiden.dk/images/case/22d28e65-1f9d-49fe-ba2d-28192f601513/143x118/854eab33-d2e6-4552-8c4a-20a238f2558a.webp'}, {'size': {'height': 200, 'width': 300}, 'url': 'https://images.boligsiden.dk/images/case/22d28e65-1f9d-49fe-ba2d-28192f601513/300x200/854eab33-d2e6-4552-8c4a-20a238f2558a.webp'}, {'size': {'height': 400, 'width': 600}, 'url': 'https://images.boligsiden.dk/images/case/22d28e65-1f9d-49fe-ba2d-28192f601513/600x400/854eab33-d2e6-4552-8c4a-20a238f2558a.webp'}, {'size': {'height': 600, 'width': 600}, 'url': 'https://images.boligsiden.dk/images/case/22d28e65-1f9d-49fe-ba2d-28192f601513/600x600/854eab33-d2e6-4552-8c4a-20a238f2558a.webp'}, {'size': {'height': 960, 'width': 1440}, 'url': 'https://images.boligsiden.dk/images/case/22d28e65-1f9d-49fe-ba2d-28192f601513/1440x960/854eab33-d2e6-4552-8c4a-20a238f2558a.webp'}]}   \n",
       "5   {'imageSources': [{'size': {'height': 80, 'width': 100}, 'url': 'https://images.boligsiden.dk/images/case/d86cc01d-d2e8-4e17-a236-c82f49fc537d/100x80/c3b19678-93b2-4d6e-9ddb-afdf617d267f.webp'}, {'size': {'height': 118, 'width': 143}, 'url': 'https://images.boligsiden.dk/images/case/d86cc01d-d2e8-4e17-a236-c82f49fc537d/143x118/c3b19678-93b2-4d6e-9ddb-afdf617d267f.webp'}, {'size': {'height': 200, 'width': 300}, 'url': 'https://images.boligsiden.dk/images/case/d86cc01d-d2e8-4e17-a236-c82f49fc537d/300x200/c3b19678-93b2-4d6e-9ddb-afdf617d267f.webp'}, {'size': {'height': 400, 'width': 600}, 'url': 'https://images.boligsiden.dk/images/case/d86cc01d-d2e8-4e17-a236-c82f49fc537d/600x400/c3b19678-93b2-4d6e-9ddb-afdf617d267f.webp'}, {'size': {'height': 600, 'width': 600}, 'url': 'https://images.boligsiden.dk/images/case/d86cc01d-d2e8-4e17-a236-c82f49fc537d/600x600/c3b19678-93b2-4d6e-9ddb-afdf617d267f.webp'}, {'size': {'height': 960, 'width': 1440}, 'url': 'https://images.boligsiden.dk/images/case/d86cc01d-d2e8-4e17-a236-c82f49fc537d/1440x960/c3b19678-93b2-4d6e-9ddb-afdf617d267f.webp'}]}   \n",
       "6   {'imageSources': [{'size': {'height': 80, 'width': 100}, 'url': 'https://images.boligsiden.dk/images/case/036f55be-c757-41e7-bced-7eafa73e5901/100x80/df661a0b-7035-47ba-aef3-f89146dd0353.webp'}, {'size': {'height': 118, 'width': 143}, 'url': 'https://images.boligsiden.dk/images/case/036f55be-c757-41e7-bced-7eafa73e5901/143x118/df661a0b-7035-47ba-aef3-f89146dd0353.webp'}, {'size': {'height': 200, 'width': 300}, 'url': 'https://images.boligsiden.dk/images/case/036f55be-c757-41e7-bced-7eafa73e5901/300x200/df661a0b-7035-47ba-aef3-f89146dd0353.webp'}, {'size': {'height': 400, 'width': 600}, 'url': 'https://images.boligsiden.dk/images/case/036f55be-c757-41e7-bced-7eafa73e5901/600x400/df661a0b-7035-47ba-aef3-f89146dd0353.webp'}, {'size': {'height': 600, 'width': 600}, 'url': 'https://images.boligsiden.dk/images/case/036f55be-c757-41e7-bced-7eafa73e5901/600x600/df661a0b-7035-47ba-aef3-f89146dd0353.webp'}, {'size': {'height': 960, 'width': 1440}, 'url': 'https://images.boligsiden.dk/images/case/036f55be-c757-41e7-bced-7eafa73e5901/1440x960/df661a0b-7035-47ba-aef3-f89146dd0353.webp'}]}   \n",
       "7   {'imageSources': [{'size': {'height': 80, 'width': 100}, 'url': 'https://images.boligsiden.dk/images/case/ef139eb3-769e-4f8e-9edc-b020c97e3dbb/100x80/3f16a960-9e27-4295-82e9-285cac25979d.webp'}, {'size': {'height': 118, 'width': 143}, 'url': 'https://images.boligsiden.dk/images/case/ef139eb3-769e-4f8e-9edc-b020c97e3dbb/143x118/3f16a960-9e27-4295-82e9-285cac25979d.webp'}, {'size': {'height': 200, 'width': 300}, 'url': 'https://images.boligsiden.dk/images/case/ef139eb3-769e-4f8e-9edc-b020c97e3dbb/300x200/3f16a960-9e27-4295-82e9-285cac25979d.webp'}, {'size': {'height': 400, 'width': 600}, 'url': 'https://images.boligsiden.dk/images/case/ef139eb3-769e-4f8e-9edc-b020c97e3dbb/600x400/3f16a960-9e27-4295-82e9-285cac25979d.webp'}, {'size': {'height': 600, 'width': 600}, 'url': 'https://images.boligsiden.dk/images/case/ef139eb3-769e-4f8e-9edc-b020c97e3dbb/600x600/3f16a960-9e27-4295-82e9-285cac25979d.webp'}, {'size': {'height': 960, 'width': 1440}, 'url': 'https://images.boligsiden.dk/images/case/ef139eb3-769e-4f8e-9edc-b020c97e3dbb/1440x960/3f16a960-9e27-4295-82e9-285cac25979d.webp'}]}   \n",
       "8   {'imageSources': [{'size': {'height': 80, 'width': 100}, 'url': 'https://images.boligsiden.dk/images/case/bdcb9f7e-80e9-4834-b595-73c9c9ca4856/100x80/b48fc6f5-2729-441e-81fc-7893ea414ffb.webp'}, {'size': {'height': 118, 'width': 143}, 'url': 'https://images.boligsiden.dk/images/case/bdcb9f7e-80e9-4834-b595-73c9c9ca4856/143x118/b48fc6f5-2729-441e-81fc-7893ea414ffb.webp'}, {'size': {'height': 200, 'width': 300}, 'url': 'https://images.boligsiden.dk/images/case/bdcb9f7e-80e9-4834-b595-73c9c9ca4856/300x200/b48fc6f5-2729-441e-81fc-7893ea414ffb.webp'}, {'size': {'height': 400, 'width': 600}, 'url': 'https://images.boligsiden.dk/images/case/bdcb9f7e-80e9-4834-b595-73c9c9ca4856/600x400/b48fc6f5-2729-441e-81fc-7893ea414ffb.webp'}, {'size': {'height': 600, 'width': 600}, 'url': 'https://images.boligsiden.dk/images/case/bdcb9f7e-80e9-4834-b595-73c9c9ca4856/600x600/b48fc6f5-2729-441e-81fc-7893ea414ffb.webp'}, {'size': {'height': 960, 'width': 1440}, 'url': 'https://images.boligsiden.dk/images/case/bdcb9f7e-80e9-4834-b595-73c9c9ca4856/1440x960/b48fc6f5-2729-441e-81fc-7893ea414ffb.webp'}]}   \n",
       "9   {'imageSources': [{'size': {'height': 80, 'width': 100}, 'url': 'https://images.boligsiden.dk/images/case/70398fad-5d81-4852-85cc-f0ebe8c1b8d1/100x80/a28e85d5-2f59-4088-87cf-9822db8005bb.webp'}, {'size': {'height': 118, 'width': 143}, 'url': 'https://images.boligsiden.dk/images/case/70398fad-5d81-4852-85cc-f0ebe8c1b8d1/143x118/a28e85d5-2f59-4088-87cf-9822db8005bb.webp'}, {'size': {'height': 200, 'width': 300}, 'url': 'https://images.boligsiden.dk/images/case/70398fad-5d81-4852-85cc-f0ebe8c1b8d1/300x200/a28e85d5-2f59-4088-87cf-9822db8005bb.webp'}, {'size': {'height': 400, 'width': 600}, 'url': 'https://images.boligsiden.dk/images/case/70398fad-5d81-4852-85cc-f0ebe8c1b8d1/600x400/a28e85d5-2f59-4088-87cf-9822db8005bb.webp'}, {'size': {'height': 600, 'width': 600}, 'url': 'https://images.boligsiden.dk/images/case/70398fad-5d81-4852-85cc-f0ebe8c1b8d1/600x600/a28e85d5-2f59-4088-87cf-9822db8005bb.webp'}, {'size': {'height': 960, 'width': 1440}, 'url': 'https://images.boligsiden.dk/images/case/70398fad-5d81-4852-85cc-f0ebe8c1b8d1/1440x960/a28e85d5-2f59-4088-87cf-9822db8005bb.webp'}]}   \n",
       "10  {'imageSources': [{'size': {'height': 80, 'width': 100}, 'url': 'https://images.boligsiden.dk/images/case/8e39ae41-3749-4788-994d-0aa47ac8576b/100x80/288b3cdb-50d7-48a1-b184-b223bca79677.webp'}, {'size': {'height': 118, 'width': 143}, 'url': 'https://images.boligsiden.dk/images/case/8e39ae41-3749-4788-994d-0aa47ac8576b/143x118/288b3cdb-50d7-48a1-b184-b223bca79677.webp'}, {'size': {'height': 200, 'width': 300}, 'url': 'https://images.boligsiden.dk/images/case/8e39ae41-3749-4788-994d-0aa47ac8576b/300x200/288b3cdb-50d7-48a1-b184-b223bca79677.webp'}, {'size': {'height': 400, 'width': 600}, 'url': 'https://images.boligsiden.dk/images/case/8e39ae41-3749-4788-994d-0aa47ac8576b/600x400/288b3cdb-50d7-48a1-b184-b223bca79677.webp'}, {'size': {'height': 600, 'width': 600}, 'url': 'https://images.boligsiden.dk/images/case/8e39ae41-3749-4788-994d-0aa47ac8576b/600x600/288b3cdb-50d7-48a1-b184-b223bca79677.webp'}, {'size': {'height': 960, 'width': 1440}, 'url': 'https://images.boligsiden.dk/images/case/8e39ae41-3749-4788-994d-0aa47ac8576b/1440x960/288b3cdb-50d7-48a1-b184-b223bca79677.webp'}]}   \n",
       "11  {'imageSources': [{'size': {'height': 80, 'width': 100}, 'url': 'https://images.boligsiden.dk/images/case/14aecdae-15ce-4e22-86f8-055d4b8c0cfd/100x80/7572d333-8736-4717-b7d2-604ff89cf0db.webp'}, {'size': {'height': 118, 'width': 143}, 'url': 'https://images.boligsiden.dk/images/case/14aecdae-15ce-4e22-86f8-055d4b8c0cfd/143x118/7572d333-8736-4717-b7d2-604ff89cf0db.webp'}, {'size': {'height': 200, 'width': 300}, 'url': 'https://images.boligsiden.dk/images/case/14aecdae-15ce-4e22-86f8-055d4b8c0cfd/300x200/7572d333-8736-4717-b7d2-604ff89cf0db.webp'}, {'size': {'height': 400, 'width': 600}, 'url': 'https://images.boligsiden.dk/images/case/14aecdae-15ce-4e22-86f8-055d4b8c0cfd/600x400/7572d333-8736-4717-b7d2-604ff89cf0db.webp'}, {'size': {'height': 600, 'width': 600}, 'url': 'https://images.boligsiden.dk/images/case/14aecdae-15ce-4e22-86f8-055d4b8c0cfd/600x600/7572d333-8736-4717-b7d2-604ff89cf0db.webp'}, {'size': {'height': 960, 'width': 1440}, 'url': 'https://images.boligsiden.dk/images/case/14aecdae-15ce-4e22-86f8-055d4b8c0cfd/1440x960/7572d333-8736-4717-b7d2-604ff89cf0db.webp'}]}   \n",
       "12  {'imageSources': [{'size': {'height': 80, 'width': 100}, 'url': 'https://images.boligsiden.dk/images/case/7326de30-d906-400e-815e-8d21200a2fe5/100x80/719dae9d-0da4-422c-ae36-ab775e2cf6e4.webp'}, {'size': {'height': 118, 'width': 143}, 'url': 'https://images.boligsiden.dk/images/case/7326de30-d906-400e-815e-8d21200a2fe5/143x118/719dae9d-0da4-422c-ae36-ab775e2cf6e4.webp'}, {'size': {'height': 200, 'width': 300}, 'url': 'https://images.boligsiden.dk/images/case/7326de30-d906-400e-815e-8d21200a2fe5/300x200/719dae9d-0da4-422c-ae36-ab775e2cf6e4.webp'}, {'size': {'height': 400, 'width': 600}, 'url': 'https://images.boligsiden.dk/images/case/7326de30-d906-400e-815e-8d21200a2fe5/600x400/719dae9d-0da4-422c-ae36-ab775e2cf6e4.webp'}, {'size': {'height': 600, 'width': 600}, 'url': 'https://images.boligsiden.dk/images/case/7326de30-d906-400e-815e-8d21200a2fe5/600x600/719dae9d-0da4-422c-ae36-ab775e2cf6e4.webp'}, {'size': {'height': 960, 'width': 1440}, 'url': 'https://images.boligsiden.dk/images/case/7326de30-d906-400e-815e-8d21200a2fe5/1440x960/719dae9d-0da4-422c-ae36-ab775e2cf6e4.webp'}]}   \n",
       "13  {'imageSources': [{'size': {'height': 80, 'width': 100}, 'url': 'https://images.boligsiden.dk/images/case/4e359c40-e0da-44fc-975a-73b713391aaa/100x80/0d20ed90-b4a5-4115-933f-10a3f416ebb1.webp'}, {'size': {'height': 118, 'width': 143}, 'url': 'https://images.boligsiden.dk/images/case/4e359c40-e0da-44fc-975a-73b713391aaa/143x118/0d20ed90-b4a5-4115-933f-10a3f416ebb1.webp'}, {'size': {'height': 200, 'width': 300}, 'url': 'https://images.boligsiden.dk/images/case/4e359c40-e0da-44fc-975a-73b713391aaa/300x200/0d20ed90-b4a5-4115-933f-10a3f416ebb1.webp'}, {'size': {'height': 400, 'width': 600}, 'url': 'https://images.boligsiden.dk/images/case/4e359c40-e0da-44fc-975a-73b713391aaa/600x400/0d20ed90-b4a5-4115-933f-10a3f416ebb1.webp'}, {'size': {'height': 600, 'width': 600}, 'url': 'https://images.boligsiden.dk/images/case/4e359c40-e0da-44fc-975a-73b713391aaa/600x600/0d20ed90-b4a5-4115-933f-10a3f416ebb1.webp'}, {'size': {'height': 960, 'width': 1440}, 'url': 'https://images.boligsiden.dk/images/case/4e359c40-e0da-44fc-975a-73b713391aaa/1440x960/0d20ed90-b4a5-4115-933f-10a3f416ebb1.webp'}]}   \n",
       "14  {'imageSources': [{'size': {'height': 80, 'width': 100}, 'url': 'https://images.boligsiden.dk/images/case/5f68ed1a-a294-4253-8123-8f5d2f9b655d/100x80/e9a39c1c-f553-4a08-99a2-f24d96a8035a.webp'}, {'size': {'height': 118, 'width': 143}, 'url': 'https://images.boligsiden.dk/images/case/5f68ed1a-a294-4253-8123-8f5d2f9b655d/143x118/e9a39c1c-f553-4a08-99a2-f24d96a8035a.webp'}, {'size': {'height': 200, 'width': 300}, 'url': 'https://images.boligsiden.dk/images/case/5f68ed1a-a294-4253-8123-8f5d2f9b655d/300x200/e9a39c1c-f553-4a08-99a2-f24d96a8035a.webp'}, {'size': {'height': 400, 'width': 600}, 'url': 'https://images.boligsiden.dk/images/case/5f68ed1a-a294-4253-8123-8f5d2f9b655d/600x400/e9a39c1c-f553-4a08-99a2-f24d96a8035a.webp'}, {'size': {'height': 600, 'width': 600}, 'url': 'https://images.boligsiden.dk/images/case/5f68ed1a-a294-4253-8123-8f5d2f9b655d/600x600/e9a39c1c-f553-4a08-99a2-f24d96a8035a.webp'}, {'size': {'height': 960, 'width': 1440}, 'url': 'https://images.boligsiden.dk/images/case/5f68ed1a-a294-4253-8123-8f5d2f9b655d/1440x960/e9a39c1c-f553-4a08-99a2-f24d96a8035a.webp'}]}   \n",
       "15  {'imageSources': [{'size': {'height': 80, 'width': 100}, 'url': 'https://images.boligsiden.dk/images/case/e9f4f0f3-10e4-4748-8c7d-acb4126df1e3/100x80/7923b7a2-91ac-487a-bddd-ef94ff0ed60e.webp'}, {'size': {'height': 118, 'width': 143}, 'url': 'https://images.boligsiden.dk/images/case/e9f4f0f3-10e4-4748-8c7d-acb4126df1e3/143x118/7923b7a2-91ac-487a-bddd-ef94ff0ed60e.webp'}, {'size': {'height': 200, 'width': 300}, 'url': 'https://images.boligsiden.dk/images/case/e9f4f0f3-10e4-4748-8c7d-acb4126df1e3/300x200/7923b7a2-91ac-487a-bddd-ef94ff0ed60e.webp'}, {'size': {'height': 400, 'width': 600}, 'url': 'https://images.boligsiden.dk/images/case/e9f4f0f3-10e4-4748-8c7d-acb4126df1e3/600x400/7923b7a2-91ac-487a-bddd-ef94ff0ed60e.webp'}, {'size': {'height': 600, 'width': 600}, 'url': 'https://images.boligsiden.dk/images/case/e9f4f0f3-10e4-4748-8c7d-acb4126df1e3/600x600/7923b7a2-91ac-487a-bddd-ef94ff0ed60e.webp'}, {'size': {'height': 960, 'width': 1440}, 'url': 'https://images.boligsiden.dk/images/case/e9f4f0f3-10e4-4748-8c7d-acb4126df1e3/1440x960/7923b7a2-91ac-487a-bddd-ef94ff0ed60e.webp'}]}   \n",
       "16  {'imageSources': [{'size': {'height': 80, 'width': 100}, 'url': 'https://images.boligsiden.dk/images/case/d40b5216-7f6a-4880-a2bd-166f1686b1db/100x80/9ee0e4dd-e7a2-4ed1-b6b8-8aaea09306fe.webp'}, {'size': {'height': 118, 'width': 143}, 'url': 'https://images.boligsiden.dk/images/case/d40b5216-7f6a-4880-a2bd-166f1686b1db/143x118/9ee0e4dd-e7a2-4ed1-b6b8-8aaea09306fe.webp'}, {'size': {'height': 200, 'width': 300}, 'url': 'https://images.boligsiden.dk/images/case/d40b5216-7f6a-4880-a2bd-166f1686b1db/300x200/9ee0e4dd-e7a2-4ed1-b6b8-8aaea09306fe.webp'}, {'size': {'height': 400, 'width': 600}, 'url': 'https://images.boligsiden.dk/images/case/d40b5216-7f6a-4880-a2bd-166f1686b1db/600x400/9ee0e4dd-e7a2-4ed1-b6b8-8aaea09306fe.webp'}, {'size': {'height': 600, 'width': 600}, 'url': 'https://images.boligsiden.dk/images/case/d40b5216-7f6a-4880-a2bd-166f1686b1db/600x600/9ee0e4dd-e7a2-4ed1-b6b8-8aaea09306fe.webp'}, {'size': {'height': 960, 'width': 1440}, 'url': 'https://images.boligsiden.dk/images/case/d40b5216-7f6a-4880-a2bd-166f1686b1db/1440x960/9ee0e4dd-e7a2-4ed1-b6b8-8aaea09306fe.webp'}]}   \n",
       "17  {'imageSources': [{'size': {'height': 80, 'width': 100}, 'url': 'https://images.boligsiden.dk/images/case/78740d58-24f5-4384-afd7-1ac2be025ffd/100x80/5e86c9a6-d54f-4e3d-895d-806761dca1a3.webp'}, {'size': {'height': 118, 'width': 143}, 'url': 'https://images.boligsiden.dk/images/case/78740d58-24f5-4384-afd7-1ac2be025ffd/143x118/5e86c9a6-d54f-4e3d-895d-806761dca1a3.webp'}, {'size': {'height': 200, 'width': 300}, 'url': 'https://images.boligsiden.dk/images/case/78740d58-24f5-4384-afd7-1ac2be025ffd/300x200/5e86c9a6-d54f-4e3d-895d-806761dca1a3.webp'}, {'size': {'height': 400, 'width': 600}, 'url': 'https://images.boligsiden.dk/images/case/78740d58-24f5-4384-afd7-1ac2be025ffd/600x400/5e86c9a6-d54f-4e3d-895d-806761dca1a3.webp'}, {'size': {'height': 600, 'width': 600}, 'url': 'https://images.boligsiden.dk/images/case/78740d58-24f5-4384-afd7-1ac2be025ffd/600x600/5e86c9a6-d54f-4e3d-895d-806761dca1a3.webp'}, {'size': {'height': 960, 'width': 1440}, 'url': 'https://images.boligsiden.dk/images/case/78740d58-24f5-4384-afd7-1ac2be025ffd/1440x960/5e86c9a6-d54f-4e3d-895d-806761dca1a3.webp'}]}   \n",
       "18  {'imageSources': [{'size': {'height': 80, 'width': 100}, 'url': 'https://images.boligsiden.dk/images/case/9c98521c-4a84-4805-b9e2-550add8659ab/100x80/58fc2232-5a26-4826-8a19-6907bae733b7.webp'}, {'size': {'height': 118, 'width': 143}, 'url': 'https://images.boligsiden.dk/images/case/9c98521c-4a84-4805-b9e2-550add8659ab/143x118/58fc2232-5a26-4826-8a19-6907bae733b7.webp'}, {'size': {'height': 200, 'width': 300}, 'url': 'https://images.boligsiden.dk/images/case/9c98521c-4a84-4805-b9e2-550add8659ab/300x200/58fc2232-5a26-4826-8a19-6907bae733b7.webp'}, {'size': {'height': 400, 'width': 600}, 'url': 'https://images.boligsiden.dk/images/case/9c98521c-4a84-4805-b9e2-550add8659ab/600x400/58fc2232-5a26-4826-8a19-6907bae733b7.webp'}, {'size': {'height': 600, 'width': 600}, 'url': 'https://images.boligsiden.dk/images/case/9c98521c-4a84-4805-b9e2-550add8659ab/600x600/58fc2232-5a26-4826-8a19-6907bae733b7.webp'}, {'size': {'height': 960, 'width': 1440}, 'url': 'https://images.boligsiden.dk/images/case/9c98521c-4a84-4805-b9e2-550add8659ab/1440x960/58fc2232-5a26-4826-8a19-6907bae733b7.webp'}]}   \n",
       "19  {'imageSources': [{'size': {'height': 80, 'width': 100}, 'url': 'https://images.boligsiden.dk/images/case/c5eef315-f2fe-43e3-aeca-e48da55ebc70/100x80/7f7f6239-3feb-465e-a0e2-9034b11ac0af.webp'}, {'size': {'height': 118, 'width': 143}, 'url': 'https://images.boligsiden.dk/images/case/c5eef315-f2fe-43e3-aeca-e48da55ebc70/143x118/7f7f6239-3feb-465e-a0e2-9034b11ac0af.webp'}, {'size': {'height': 200, 'width': 300}, 'url': 'https://images.boligsiden.dk/images/case/c5eef315-f2fe-43e3-aeca-e48da55ebc70/300x200/7f7f6239-3feb-465e-a0e2-9034b11ac0af.webp'}, {'size': {'height': 400, 'width': 600}, 'url': 'https://images.boligsiden.dk/images/case/c5eef315-f2fe-43e3-aeca-e48da55ebc70/600x400/7f7f6239-3feb-465e-a0e2-9034b11ac0af.webp'}, {'size': {'height': 600, 'width': 600}, 'url': 'https://images.boligsiden.dk/images/case/c5eef315-f2fe-43e3-aeca-e48da55ebc70/600x600/7f7f6239-3feb-465e-a0e2-9034b11ac0af.webp'}, {'size': {'height': 960, 'width': 1440}, 'url': 'https://images.boligsiden.dk/images/case/c5eef315-f2fe-43e3-aeca-e48da55ebc70/1440x960/7f7f6239-3feb-465e-a0e2-9034b11ac0af.webp'}]}   \n",
       "20  {'imageSources': [{'size': {'height': 80, 'width': 100}, 'url': 'https://images.boligsiden.dk/images/case/901ca1a9-d961-4b53-8fb3-9b203e511281/100x80/83f91f20-547e-48d2-8931-e60cec637465.webp'}, {'size': {'height': 118, 'width': 143}, 'url': 'https://images.boligsiden.dk/images/case/901ca1a9-d961-4b53-8fb3-9b203e511281/143x118/83f91f20-547e-48d2-8931-e60cec637465.webp'}, {'size': {'height': 200, 'width': 300}, 'url': 'https://images.boligsiden.dk/images/case/901ca1a9-d961-4b53-8fb3-9b203e511281/300x200/83f91f20-547e-48d2-8931-e60cec637465.webp'}, {'size': {'height': 400, 'width': 600}, 'url': 'https://images.boligsiden.dk/images/case/901ca1a9-d961-4b53-8fb3-9b203e511281/600x400/83f91f20-547e-48d2-8931-e60cec637465.webp'}, {'size': {'height': 600, 'width': 600}, 'url': 'https://images.boligsiden.dk/images/case/901ca1a9-d961-4b53-8fb3-9b203e511281/600x600/83f91f20-547e-48d2-8931-e60cec637465.webp'}, {'size': {'height': 960, 'width': 1440}, 'url': 'https://images.boligsiden.dk/images/case/901ca1a9-d961-4b53-8fb3-9b203e511281/1440x960/83f91f20-547e-48d2-8931-e60cec637465.webp'}]}   \n",
       "21  {'imageSources': [{'size': {'height': 80, 'width': 100}, 'url': 'https://images.boligsiden.dk/images/case/11d880e3-84dc-488a-a21b-c05848befef3/100x80/6f35c4d7-7151-4b70-92aa-302cdcf579fd.webp'}, {'size': {'height': 118, 'width': 143}, 'url': 'https://images.boligsiden.dk/images/case/11d880e3-84dc-488a-a21b-c05848befef3/143x118/6f35c4d7-7151-4b70-92aa-302cdcf579fd.webp'}, {'size': {'height': 200, 'width': 300}, 'url': 'https://images.boligsiden.dk/images/case/11d880e3-84dc-488a-a21b-c05848befef3/300x200/6f35c4d7-7151-4b70-92aa-302cdcf579fd.webp'}, {'size': {'height': 400, 'width': 600}, 'url': 'https://images.boligsiden.dk/images/case/11d880e3-84dc-488a-a21b-c05848befef3/600x400/6f35c4d7-7151-4b70-92aa-302cdcf579fd.webp'}, {'size': {'height': 600, 'width': 600}, 'url': 'https://images.boligsiden.dk/images/case/11d880e3-84dc-488a-a21b-c05848befef3/600x600/6f35c4d7-7151-4b70-92aa-302cdcf579fd.webp'}, {'size': {'height': 960, 'width': 1440}, 'url': 'https://images.boligsiden.dk/images/case/11d880e3-84dc-488a-a21b-c05848befef3/1440x960/6f35c4d7-7151-4b70-92aa-302cdcf579fd.webp'}]}   \n",
       "22  {'imageSources': [{'size': {'height': 80, 'width': 100}, 'url': 'https://images.boligsiden.dk/images/case/0eb6cb66-fa06-429a-a759-da8e05eabf40/100x80/7458317f-5c37-4c2a-82cc-9fc6736a51c7.webp'}, {'size': {'height': 118, 'width': 143}, 'url': 'https://images.boligsiden.dk/images/case/0eb6cb66-fa06-429a-a759-da8e05eabf40/143x118/7458317f-5c37-4c2a-82cc-9fc6736a51c7.webp'}, {'size': {'height': 200, 'width': 300}, 'url': 'https://images.boligsiden.dk/images/case/0eb6cb66-fa06-429a-a759-da8e05eabf40/300x200/7458317f-5c37-4c2a-82cc-9fc6736a51c7.webp'}, {'size': {'height': 400, 'width': 600}, 'url': 'https://images.boligsiden.dk/images/case/0eb6cb66-fa06-429a-a759-da8e05eabf40/600x400/7458317f-5c37-4c2a-82cc-9fc6736a51c7.webp'}, {'size': {'height': 600, 'width': 600}, 'url': 'https://images.boligsiden.dk/images/case/0eb6cb66-fa06-429a-a759-da8e05eabf40/600x600/7458317f-5c37-4c2a-82cc-9fc6736a51c7.webp'}, {'size': {'height': 960, 'width': 1440}, 'url': 'https://images.boligsiden.dk/images/case/0eb6cb66-fa06-429a-a759-da8e05eabf40/1440x960/7458317f-5c37-4c2a-82cc-9fc6736a51c7.webp'}]}   \n",
       "23  {'imageSources': [{'size': {'height': 80, 'width': 100}, 'url': 'https://images.boligsiden.dk/images/case/cc1c250e-7a68-4ba1-b20f-0f4932e36a0e/100x80/09d49209-0855-411a-b33f-905216098c23.webp'}, {'size': {'height': 118, 'width': 143}, 'url': 'https://images.boligsiden.dk/images/case/cc1c250e-7a68-4ba1-b20f-0f4932e36a0e/143x118/09d49209-0855-411a-b33f-905216098c23.webp'}, {'size': {'height': 200, 'width': 300}, 'url': 'https://images.boligsiden.dk/images/case/cc1c250e-7a68-4ba1-b20f-0f4932e36a0e/300x200/09d49209-0855-411a-b33f-905216098c23.webp'}, {'size': {'height': 400, 'width': 600}, 'url': 'https://images.boligsiden.dk/images/case/cc1c250e-7a68-4ba1-b20f-0f4932e36a0e/600x400/09d49209-0855-411a-b33f-905216098c23.webp'}, {'size': {'height': 600, 'width': 600}, 'url': 'https://images.boligsiden.dk/images/case/cc1c250e-7a68-4ba1-b20f-0f4932e36a0e/600x600/09d49209-0855-411a-b33f-905216098c23.webp'}, {'size': {'height': 960, 'width': 1440}, 'url': 'https://images.boligsiden.dk/images/case/cc1c250e-7a68-4ba1-b20f-0f4932e36a0e/1440x960/09d49209-0855-411a-b33f-905216098c23.webp'}]}   \n",
       "24  {'imageSources': [{'size': {'height': 80, 'width': 100}, 'url': 'https://images.boligsiden.dk/images/case/222f1480-1f6d-4616-a417-7f07bfeefabe/100x80/cb0f67b7-e966-49b9-b0e4-56685b648e89.webp'}, {'size': {'height': 118, 'width': 143}, 'url': 'https://images.boligsiden.dk/images/case/222f1480-1f6d-4616-a417-7f07bfeefabe/143x118/cb0f67b7-e966-49b9-b0e4-56685b648e89.webp'}, {'size': {'height': 200, 'width': 300}, 'url': 'https://images.boligsiden.dk/images/case/222f1480-1f6d-4616-a417-7f07bfeefabe/300x200/cb0f67b7-e966-49b9-b0e4-56685b648e89.webp'}, {'size': {'height': 400, 'width': 600}, 'url': 'https://images.boligsiden.dk/images/case/222f1480-1f6d-4616-a417-7f07bfeefabe/600x400/cb0f67b7-e966-49b9-b0e4-56685b648e89.webp'}, {'size': {'height': 600, 'width': 600}, 'url': 'https://images.boligsiden.dk/images/case/222f1480-1f6d-4616-a417-7f07bfeefabe/600x600/cb0f67b7-e966-49b9-b0e4-56685b648e89.webp'}, {'size': {'height': 960, 'width': 1440}, 'url': 'https://images.boligsiden.dk/images/case/222f1480-1f6d-4616-a417-7f07bfeefabe/1440x960/cb0f67b7-e966-49b9-b0e4-56685b648e89.webp'}]}   \n",
       "25  {'imageSources': [{'size': {'height': 80, 'width': 100}, 'url': 'https://images.boligsiden.dk/images/case/33d87aa7-d2f1-41d0-9fce-dd81359b6e1b/100x80/bc6c97d1-54cf-4697-9e82-33ceb1852a23.webp'}, {'size': {'height': 118, 'width': 143}, 'url': 'https://images.boligsiden.dk/images/case/33d87aa7-d2f1-41d0-9fce-dd81359b6e1b/143x118/bc6c97d1-54cf-4697-9e82-33ceb1852a23.webp'}, {'size': {'height': 200, 'width': 300}, 'url': 'https://images.boligsiden.dk/images/case/33d87aa7-d2f1-41d0-9fce-dd81359b6e1b/300x200/bc6c97d1-54cf-4697-9e82-33ceb1852a23.webp'}, {'size': {'height': 400, 'width': 600}, 'url': 'https://images.boligsiden.dk/images/case/33d87aa7-d2f1-41d0-9fce-dd81359b6e1b/600x400/bc6c97d1-54cf-4697-9e82-33ceb1852a23.webp'}, {'size': {'height': 600, 'width': 600}, 'url': 'https://images.boligsiden.dk/images/case/33d87aa7-d2f1-41d0-9fce-dd81359b6e1b/600x600/bc6c97d1-54cf-4697-9e82-33ceb1852a23.webp'}, {'size': {'height': 960, 'width': 1440}, 'url': 'https://images.boligsiden.dk/images/case/33d87aa7-d2f1-41d0-9fce-dd81359b6e1b/1440x960/bc6c97d1-54cf-4697-9e82-33ceb1852a23.webp'}]}   \n",
       "26  {'imageSources': [{'size': {'height': 80, 'width': 100}, 'url': 'https://images.boligsiden.dk/images/case/1c8ac0e3-ea13-4122-adb5-ddb562faefc3/100x80/ba66f7ee-4a77-4b31-b858-061620aef508.webp'}, {'size': {'height': 118, 'width': 143}, 'url': 'https://images.boligsiden.dk/images/case/1c8ac0e3-ea13-4122-adb5-ddb562faefc3/143x118/ba66f7ee-4a77-4b31-b858-061620aef508.webp'}, {'size': {'height': 200, 'width': 300}, 'url': 'https://images.boligsiden.dk/images/case/1c8ac0e3-ea13-4122-adb5-ddb562faefc3/300x200/ba66f7ee-4a77-4b31-b858-061620aef508.webp'}, {'size': {'height': 400, 'width': 600}, 'url': 'https://images.boligsiden.dk/images/case/1c8ac0e3-ea13-4122-adb5-ddb562faefc3/600x400/ba66f7ee-4a77-4b31-b858-061620aef508.webp'}, {'size': {'height': 600, 'width': 600}, 'url': 'https://images.boligsiden.dk/images/case/1c8ac0e3-ea13-4122-adb5-ddb562faefc3/600x600/ba66f7ee-4a77-4b31-b858-061620aef508.webp'}, {'size': {'height': 960, 'width': 1440}, 'url': 'https://images.boligsiden.dk/images/case/1c8ac0e3-ea13-4122-adb5-ddb562faefc3/1440x960/ba66f7ee-4a77-4b31-b858-061620aef508.webp'}]}   \n",
       "27  {'imageSources': [{'size': {'height': 80, 'width': 100}, 'url': 'https://images.boligsiden.dk/images/case/443189eb-f8db-4dfc-81ee-c00e8b4c6cbe/100x80/3b0c1baa-abe3-4f8a-9600-a456dca573c4.webp'}, {'size': {'height': 118, 'width': 143}, 'url': 'https://images.boligsiden.dk/images/case/443189eb-f8db-4dfc-81ee-c00e8b4c6cbe/143x118/3b0c1baa-abe3-4f8a-9600-a456dca573c4.webp'}, {'size': {'height': 200, 'width': 300}, 'url': 'https://images.boligsiden.dk/images/case/443189eb-f8db-4dfc-81ee-c00e8b4c6cbe/300x200/3b0c1baa-abe3-4f8a-9600-a456dca573c4.webp'}, {'size': {'height': 400, 'width': 600}, 'url': 'https://images.boligsiden.dk/images/case/443189eb-f8db-4dfc-81ee-c00e8b4c6cbe/600x400/3b0c1baa-abe3-4f8a-9600-a456dca573c4.webp'}, {'size': {'height': 600, 'width': 600}, 'url': 'https://images.boligsiden.dk/images/case/443189eb-f8db-4dfc-81ee-c00e8b4c6cbe/600x600/3b0c1baa-abe3-4f8a-9600-a456dca573c4.webp'}, {'size': {'height': 960, 'width': 1440}, 'url': 'https://images.boligsiden.dk/images/case/443189eb-f8db-4dfc-81ee-c00e8b4c6cbe/1440x960/3b0c1baa-abe3-4f8a-9600-a456dca573c4.webp'}]}   \n",
       "28  {'imageSources': [{'size': {'height': 80, 'width': 100}, 'url': 'https://images.boligsiden.dk/images/case/e0128a72-e6c6-4861-920b-cfeab1329a23/100x80/09de50b3-382a-47b6-8d3e-2373ee26b0b2.webp'}, {'size': {'height': 118, 'width': 143}, 'url': 'https://images.boligsiden.dk/images/case/e0128a72-e6c6-4861-920b-cfeab1329a23/143x118/09de50b3-382a-47b6-8d3e-2373ee26b0b2.webp'}, {'size': {'height': 200, 'width': 300}, 'url': 'https://images.boligsiden.dk/images/case/e0128a72-e6c6-4861-920b-cfeab1329a23/300x200/09de50b3-382a-47b6-8d3e-2373ee26b0b2.webp'}, {'size': {'height': 400, 'width': 600}, 'url': 'https://images.boligsiden.dk/images/case/e0128a72-e6c6-4861-920b-cfeab1329a23/600x400/09de50b3-382a-47b6-8d3e-2373ee26b0b2.webp'}, {'size': {'height': 600, 'width': 600}, 'url': 'https://images.boligsiden.dk/images/case/e0128a72-e6c6-4861-920b-cfeab1329a23/600x600/09de50b3-382a-47b6-8d3e-2373ee26b0b2.webp'}, {'size': {'height': 960, 'width': 1440}, 'url': 'https://images.boligsiden.dk/images/case/e0128a72-e6c6-4861-920b-cfeab1329a23/1440x960/09de50b3-382a-47b6-8d3e-2373ee26b0b2.webp'}]}   \n",
       "29  {'imageSources': [{'size': {'height': 80, 'width': 100}, 'url': 'https://images.boligsiden.dk/images/case/ad9ac6d0-45bd-4c1b-b1b4-c003359a697a/100x80/5be01428-0579-49be-821a-3bd4e389ed00.webp'}, {'size': {'height': 118, 'width': 143}, 'url': 'https://images.boligsiden.dk/images/case/ad9ac6d0-45bd-4c1b-b1b4-c003359a697a/143x118/5be01428-0579-49be-821a-3bd4e389ed00.webp'}, {'size': {'height': 200, 'width': 300}, 'url': 'https://images.boligsiden.dk/images/case/ad9ac6d0-45bd-4c1b-b1b4-c003359a697a/300x200/5be01428-0579-49be-821a-3bd4e389ed00.webp'}, {'size': {'height': 400, 'width': 600}, 'url': 'https://images.boligsiden.dk/images/case/ad9ac6d0-45bd-4c1b-b1b4-c003359a697a/600x400/5be01428-0579-49be-821a-3bd4e389ed00.webp'}, {'size': {'height': 600, 'width': 600}, 'url': 'https://images.boligsiden.dk/images/case/ad9ac6d0-45bd-4c1b-b1b4-c003359a697a/600x600/5be01428-0579-49be-821a-3bd4e389ed00.webp'}, {'size': {'height': 960, 'width': 1440}, 'url': 'https://images.boligsiden.dk/images/case/ad9ac6d0-45bd-4c1b-b1b4-c003359a697a/1440x960/5be01428-0579-49be-821a-3bd4e389ed00.webp'}]}   \n",
       "30  {'imageSources': [{'size': {'height': 80, 'width': 100}, 'url': 'https://images.boligsiden.dk/images/case/8d9a1d0c-2dd8-4476-bda5-d690fd5188fc/100x80/2129ed0d-e458-4c3d-9158-dcf61ca8224a.webp'}, {'size': {'height': 118, 'width': 143}, 'url': 'https://images.boligsiden.dk/images/case/8d9a1d0c-2dd8-4476-bda5-d690fd5188fc/143x118/2129ed0d-e458-4c3d-9158-dcf61ca8224a.webp'}, {'size': {'height': 200, 'width': 300}, 'url': 'https://images.boligsiden.dk/images/case/8d9a1d0c-2dd8-4476-bda5-d690fd5188fc/300x200/2129ed0d-e458-4c3d-9158-dcf61ca8224a.webp'}, {'size': {'height': 400, 'width': 600}, 'url': 'https://images.boligsiden.dk/images/case/8d9a1d0c-2dd8-4476-bda5-d690fd5188fc/600x400/2129ed0d-e458-4c3d-9158-dcf61ca8224a.webp'}, {'size': {'height': 600, 'width': 600}, 'url': 'https://images.boligsiden.dk/images/case/8d9a1d0c-2dd8-4476-bda5-d690fd5188fc/600x600/2129ed0d-e458-4c3d-9158-dcf61ca8224a.webp'}, {'size': {'height': 960, 'width': 1440}, 'url': 'https://images.boligsiden.dk/images/case/8d9a1d0c-2dd8-4476-bda5-d690fd5188fc/1440x960/2129ed0d-e458-4c3d-9158-dcf61ca8224a.webp'}]}   \n",
       "31  {'imageSources': [{'size': {'height': 80, 'width': 100}, 'url': 'https://images.boligsiden.dk/images/case/cabd0f7b-a576-434a-97f1-85064973950e/100x80/c49b185b-a431-4f0e-9c3b-8110b31c30a8.webp'}, {'size': {'height': 118, 'width': 143}, 'url': 'https://images.boligsiden.dk/images/case/cabd0f7b-a576-434a-97f1-85064973950e/143x118/c49b185b-a431-4f0e-9c3b-8110b31c30a8.webp'}, {'size': {'height': 200, 'width': 300}, 'url': 'https://images.boligsiden.dk/images/case/cabd0f7b-a576-434a-97f1-85064973950e/300x200/c49b185b-a431-4f0e-9c3b-8110b31c30a8.webp'}, {'size': {'height': 400, 'width': 600}, 'url': 'https://images.boligsiden.dk/images/case/cabd0f7b-a576-434a-97f1-85064973950e/600x400/c49b185b-a431-4f0e-9c3b-8110b31c30a8.webp'}, {'size': {'height': 600, 'width': 600}, 'url': 'https://images.boligsiden.dk/images/case/cabd0f7b-a576-434a-97f1-85064973950e/600x600/c49b185b-a431-4f0e-9c3b-8110b31c30a8.webp'}, {'size': {'height': 960, 'width': 1440}, 'url': 'https://images.boligsiden.dk/images/case/cabd0f7b-a576-434a-97f1-85064973950e/1440x960/c49b185b-a431-4f0e-9c3b-8110b31c30a8.webp'}]}   \n",
       "32  {'imageSources': [{'size': {'height': 80, 'width': 100}, 'url': 'https://images.boligsiden.dk/images/case/112ac301-faee-4351-85a9-6aa87ba74341/100x80/208255f9-7560-42a4-b739-81b8a5898829.webp'}, {'size': {'height': 118, 'width': 143}, 'url': 'https://images.boligsiden.dk/images/case/112ac301-faee-4351-85a9-6aa87ba74341/143x118/208255f9-7560-42a4-b739-81b8a5898829.webp'}, {'size': {'height': 200, 'width': 300}, 'url': 'https://images.boligsiden.dk/images/case/112ac301-faee-4351-85a9-6aa87ba74341/300x200/208255f9-7560-42a4-b739-81b8a5898829.webp'}, {'size': {'height': 400, 'width': 600}, 'url': 'https://images.boligsiden.dk/images/case/112ac301-faee-4351-85a9-6aa87ba74341/600x400/208255f9-7560-42a4-b739-81b8a5898829.webp'}, {'size': {'height': 600, 'width': 600}, 'url': 'https://images.boligsiden.dk/images/case/112ac301-faee-4351-85a9-6aa87ba74341/600x600/208255f9-7560-42a4-b739-81b8a5898829.webp'}, {'size': {'height': 960, 'width': 1440}, 'url': 'https://images.boligsiden.dk/images/case/112ac301-faee-4351-85a9-6aa87ba74341/1440x960/208255f9-7560-42a4-b739-81b8a5898829.webp'}]}   \n",
       "33  {'imageSources': [{'size': {'height': 80, 'width': 100}, 'url': 'https://images.boligsiden.dk/images/case/22d28e65-1f9d-49fe-ba2d-28192f601513/100x80/854eab33-d2e6-4552-8c4a-20a238f2558a.webp'}, {'size': {'height': 118, 'width': 143}, 'url': 'https://images.boligsiden.dk/images/case/22d28e65-1f9d-49fe-ba2d-28192f601513/143x118/854eab33-d2e6-4552-8c4a-20a238f2558a.webp'}, {'size': {'height': 200, 'width': 300}, 'url': 'https://images.boligsiden.dk/images/case/22d28e65-1f9d-49fe-ba2d-28192f601513/300x200/854eab33-d2e6-4552-8c4a-20a238f2558a.webp'}, {'size': {'height': 400, 'width': 600}, 'url': 'https://images.boligsiden.dk/images/case/22d28e65-1f9d-49fe-ba2d-28192f601513/600x400/854eab33-d2e6-4552-8c4a-20a238f2558a.webp'}, {'size': {'height': 600, 'width': 600}, 'url': 'https://images.boligsiden.dk/images/case/22d28e65-1f9d-49fe-ba2d-28192f601513/600x600/854eab33-d2e6-4552-8c4a-20a238f2558a.webp'}, {'size': {'height': 960, 'width': 1440}, 'url': 'https://images.boligsiden.dk/images/case/22d28e65-1f9d-49fe-ba2d-28192f601513/1440x960/854eab33-d2e6-4552-8c4a-20a238f2558a.webp'}]}   \n",
       "34  {'imageSources': [{'size': {'height': 80, 'width': 100}, 'url': 'https://images.boligsiden.dk/images/case/d86cc01d-d2e8-4e17-a236-c82f49fc537d/100x80/c3b19678-93b2-4d6e-9ddb-afdf617d267f.webp'}, {'size': {'height': 118, 'width': 143}, 'url': 'https://images.boligsiden.dk/images/case/d86cc01d-d2e8-4e17-a236-c82f49fc537d/143x118/c3b19678-93b2-4d6e-9ddb-afdf617d267f.webp'}, {'size': {'height': 200, 'width': 300}, 'url': 'https://images.boligsiden.dk/images/case/d86cc01d-d2e8-4e17-a236-c82f49fc537d/300x200/c3b19678-93b2-4d6e-9ddb-afdf617d267f.webp'}, {'size': {'height': 400, 'width': 600}, 'url': 'https://images.boligsiden.dk/images/case/d86cc01d-d2e8-4e17-a236-c82f49fc537d/600x400/c3b19678-93b2-4d6e-9ddb-afdf617d267f.webp'}, {'size': {'height': 600, 'width': 600}, 'url': 'https://images.boligsiden.dk/images/case/d86cc01d-d2e8-4e17-a236-c82f49fc537d/600x600/c3b19678-93b2-4d6e-9ddb-afdf617d267f.webp'}, {'size': {'height': 960, 'width': 1440}, 'url': 'https://images.boligsiden.dk/images/case/d86cc01d-d2e8-4e17-a236-c82f49fc537d/1440x960/c3b19678-93b2-4d6e-9ddb-afdf617d267f.webp'}]}   \n",
       "35  {'imageSources': [{'size': {'height': 80, 'width': 100}, 'url': 'https://images.boligsiden.dk/images/case/036f55be-c757-41e7-bced-7eafa73e5901/100x80/df661a0b-7035-47ba-aef3-f89146dd0353.webp'}, {'size': {'height': 118, 'width': 143}, 'url': 'https://images.boligsiden.dk/images/case/036f55be-c757-41e7-bced-7eafa73e5901/143x118/df661a0b-7035-47ba-aef3-f89146dd0353.webp'}, {'size': {'height': 200, 'width': 300}, 'url': 'https://images.boligsiden.dk/images/case/036f55be-c757-41e7-bced-7eafa73e5901/300x200/df661a0b-7035-47ba-aef3-f89146dd0353.webp'}, {'size': {'height': 400, 'width': 600}, 'url': 'https://images.boligsiden.dk/images/case/036f55be-c757-41e7-bced-7eafa73e5901/600x400/df661a0b-7035-47ba-aef3-f89146dd0353.webp'}, {'size': {'height': 600, 'width': 600}, 'url': 'https://images.boligsiden.dk/images/case/036f55be-c757-41e7-bced-7eafa73e5901/600x600/df661a0b-7035-47ba-aef3-f89146dd0353.webp'}, {'size': {'height': 960, 'width': 1440}, 'url': 'https://images.boligsiden.dk/images/case/036f55be-c757-41e7-bced-7eafa73e5901/1440x960/df661a0b-7035-47ba-aef3-f89146dd0353.webp'}]}   \n",
       "36  {'imageSources': [{'size': {'height': 80, 'width': 100}, 'url': 'https://images.boligsiden.dk/images/case/ef139eb3-769e-4f8e-9edc-b020c97e3dbb/100x80/3f16a960-9e27-4295-82e9-285cac25979d.webp'}, {'size': {'height': 118, 'width': 143}, 'url': 'https://images.boligsiden.dk/images/case/ef139eb3-769e-4f8e-9edc-b020c97e3dbb/143x118/3f16a960-9e27-4295-82e9-285cac25979d.webp'}, {'size': {'height': 200, 'width': 300}, 'url': 'https://images.boligsiden.dk/images/case/ef139eb3-769e-4f8e-9edc-b020c97e3dbb/300x200/3f16a960-9e27-4295-82e9-285cac25979d.webp'}, {'size': {'height': 400, 'width': 600}, 'url': 'https://images.boligsiden.dk/images/case/ef139eb3-769e-4f8e-9edc-b020c97e3dbb/600x400/3f16a960-9e27-4295-82e9-285cac25979d.webp'}, {'size': {'height': 600, 'width': 600}, 'url': 'https://images.boligsiden.dk/images/case/ef139eb3-769e-4f8e-9edc-b020c97e3dbb/600x600/3f16a960-9e27-4295-82e9-285cac25979d.webp'}, {'size': {'height': 960, 'width': 1440}, 'url': 'https://images.boligsiden.dk/images/case/ef139eb3-769e-4f8e-9edc-b020c97e3dbb/1440x960/3f16a960-9e27-4295-82e9-285cac25979d.webp'}]}   \n",
       "37  {'imageSources': [{'size': {'height': 80, 'width': 100}, 'url': 'https://images.boligsiden.dk/images/case/bdcb9f7e-80e9-4834-b595-73c9c9ca4856/100x80/b48fc6f5-2729-441e-81fc-7893ea414ffb.webp'}, {'size': {'height': 118, 'width': 143}, 'url': 'https://images.boligsiden.dk/images/case/bdcb9f7e-80e9-4834-b595-73c9c9ca4856/143x118/b48fc6f5-2729-441e-81fc-7893ea414ffb.webp'}, {'size': {'height': 200, 'width': 300}, 'url': 'https://images.boligsiden.dk/images/case/bdcb9f7e-80e9-4834-b595-73c9c9ca4856/300x200/b48fc6f5-2729-441e-81fc-7893ea414ffb.webp'}, {'size': {'height': 400, 'width': 600}, 'url': 'https://images.boligsiden.dk/images/case/bdcb9f7e-80e9-4834-b595-73c9c9ca4856/600x400/b48fc6f5-2729-441e-81fc-7893ea414ffb.webp'}, {'size': {'height': 600, 'width': 600}, 'url': 'https://images.boligsiden.dk/images/case/bdcb9f7e-80e9-4834-b595-73c9c9ca4856/600x600/b48fc6f5-2729-441e-81fc-7893ea414ffb.webp'}, {'size': {'height': 960, 'width': 1440}, 'url': 'https://images.boligsiden.dk/images/case/bdcb9f7e-80e9-4834-b595-73c9c9ca4856/1440x960/b48fc6f5-2729-441e-81fc-7893ea414ffb.webp'}]}   \n",
       "38  {'imageSources': [{'size': {'height': 80, 'width': 100}, 'url': 'https://images.boligsiden.dk/images/case/70398fad-5d81-4852-85cc-f0ebe8c1b8d1/100x80/a28e85d5-2f59-4088-87cf-9822db8005bb.webp'}, {'size': {'height': 118, 'width': 143}, 'url': 'https://images.boligsiden.dk/images/case/70398fad-5d81-4852-85cc-f0ebe8c1b8d1/143x118/a28e85d5-2f59-4088-87cf-9822db8005bb.webp'}, {'size': {'height': 200, 'width': 300}, 'url': 'https://images.boligsiden.dk/images/case/70398fad-5d81-4852-85cc-f0ebe8c1b8d1/300x200/a28e85d5-2f59-4088-87cf-9822db8005bb.webp'}, {'size': {'height': 400, 'width': 600}, 'url': 'https://images.boligsiden.dk/images/case/70398fad-5d81-4852-85cc-f0ebe8c1b8d1/600x400/a28e85d5-2f59-4088-87cf-9822db8005bb.webp'}, {'size': {'height': 600, 'width': 600}, 'url': 'https://images.boligsiden.dk/images/case/70398fad-5d81-4852-85cc-f0ebe8c1b8d1/600x600/a28e85d5-2f59-4088-87cf-9822db8005bb.webp'}, {'size': {'height': 960, 'width': 1440}, 'url': 'https://images.boligsiden.dk/images/case/70398fad-5d81-4852-85cc-f0ebe8c1b8d1/1440x960/a28e85d5-2f59-4088-87cf-9822db8005bb.webp'}]}   \n",
       "39  {'imageSources': [{'size': {'height': 80, 'width': 100}, 'url': 'https://images.boligsiden.dk/images/case/8e39ae41-3749-4788-994d-0aa47ac8576b/100x80/288b3cdb-50d7-48a1-b184-b223bca79677.webp'}, {'size': {'height': 118, 'width': 143}, 'url': 'https://images.boligsiden.dk/images/case/8e39ae41-3749-4788-994d-0aa47ac8576b/143x118/288b3cdb-50d7-48a1-b184-b223bca79677.webp'}, {'size': {'height': 200, 'width': 300}, 'url': 'https://images.boligsiden.dk/images/case/8e39ae41-3749-4788-994d-0aa47ac8576b/300x200/288b3cdb-50d7-48a1-b184-b223bca79677.webp'}, {'size': {'height': 400, 'width': 600}, 'url': 'https://images.boligsiden.dk/images/case/8e39ae41-3749-4788-994d-0aa47ac8576b/600x400/288b3cdb-50d7-48a1-b184-b223bca79677.webp'}, {'size': {'height': 600, 'width': 600}, 'url': 'https://images.boligsiden.dk/images/case/8e39ae41-3749-4788-994d-0aa47ac8576b/600x600/288b3cdb-50d7-48a1-b184-b223bca79677.webp'}, {'size': {'height': 960, 'width': 1440}, 'url': 'https://images.boligsiden.dk/images/case/8e39ae41-3749-4788-994d-0aa47ac8576b/1440x960/288b3cdb-50d7-48a1-b184-b223bca79677.webp'}]}   \n",
       "40  {'imageSources': [{'size': {'height': 80, 'width': 100}, 'url': 'https://images.boligsiden.dk/images/case/14aecdae-15ce-4e22-86f8-055d4b8c0cfd/100x80/7572d333-8736-4717-b7d2-604ff89cf0db.webp'}, {'size': {'height': 118, 'width': 143}, 'url': 'https://images.boligsiden.dk/images/case/14aecdae-15ce-4e22-86f8-055d4b8c0cfd/143x118/7572d333-8736-4717-b7d2-604ff89cf0db.webp'}, {'size': {'height': 200, 'width': 300}, 'url': 'https://images.boligsiden.dk/images/case/14aecdae-15ce-4e22-86f8-055d4b8c0cfd/300x200/7572d333-8736-4717-b7d2-604ff89cf0db.webp'}, {'size': {'height': 400, 'width': 600}, 'url': 'https://images.boligsiden.dk/images/case/14aecdae-15ce-4e22-86f8-055d4b8c0cfd/600x400/7572d333-8736-4717-b7d2-604ff89cf0db.webp'}, {'size': {'height': 600, 'width': 600}, 'url': 'https://images.boligsiden.dk/images/case/14aecdae-15ce-4e22-86f8-055d4b8c0cfd/600x600/7572d333-8736-4717-b7d2-604ff89cf0db.webp'}, {'size': {'height': 960, 'width': 1440}, 'url': 'https://images.boligsiden.dk/images/case/14aecdae-15ce-4e22-86f8-055d4b8c0cfd/1440x960/7572d333-8736-4717-b7d2-604ff89cf0db.webp'}]}   \n",
       "41  {'imageSources': [{'size': {'height': 80, 'width': 100}, 'url': 'https://images.boligsiden.dk/images/case/7326de30-d906-400e-815e-8d21200a2fe5/100x80/719dae9d-0da4-422c-ae36-ab775e2cf6e4.webp'}, {'size': {'height': 118, 'width': 143}, 'url': 'https://images.boligsiden.dk/images/case/7326de30-d906-400e-815e-8d21200a2fe5/143x118/719dae9d-0da4-422c-ae36-ab775e2cf6e4.webp'}, {'size': {'height': 200, 'width': 300}, 'url': 'https://images.boligsiden.dk/images/case/7326de30-d906-400e-815e-8d21200a2fe5/300x200/719dae9d-0da4-422c-ae36-ab775e2cf6e4.webp'}, {'size': {'height': 400, 'width': 600}, 'url': 'https://images.boligsiden.dk/images/case/7326de30-d906-400e-815e-8d21200a2fe5/600x400/719dae9d-0da4-422c-ae36-ab775e2cf6e4.webp'}, {'size': {'height': 600, 'width': 600}, 'url': 'https://images.boligsiden.dk/images/case/7326de30-d906-400e-815e-8d21200a2fe5/600x600/719dae9d-0da4-422c-ae36-ab775e2cf6e4.webp'}, {'size': {'height': 960, 'width': 1440}, 'url': 'https://images.boligsiden.dk/images/case/7326de30-d906-400e-815e-8d21200a2fe5/1440x960/719dae9d-0da4-422c-ae36-ab775e2cf6e4.webp'}]}   \n",
       "42  {'imageSources': [{'size': {'height': 80, 'width': 100}, 'url': 'https://images.boligsiden.dk/images/case/4e359c40-e0da-44fc-975a-73b713391aaa/100x80/0d20ed90-b4a5-4115-933f-10a3f416ebb1.webp'}, {'size': {'height': 118, 'width': 143}, 'url': 'https://images.boligsiden.dk/images/case/4e359c40-e0da-44fc-975a-73b713391aaa/143x118/0d20ed90-b4a5-4115-933f-10a3f416ebb1.webp'}, {'size': {'height': 200, 'width': 300}, 'url': 'https://images.boligsiden.dk/images/case/4e359c40-e0da-44fc-975a-73b713391aaa/300x200/0d20ed90-b4a5-4115-933f-10a3f416ebb1.webp'}, {'size': {'height': 400, 'width': 600}, 'url': 'https://images.boligsiden.dk/images/case/4e359c40-e0da-44fc-975a-73b713391aaa/600x400/0d20ed90-b4a5-4115-933f-10a3f416ebb1.webp'}, {'size': {'height': 600, 'width': 600}, 'url': 'https://images.boligsiden.dk/images/case/4e359c40-e0da-44fc-975a-73b713391aaa/600x600/0d20ed90-b4a5-4115-933f-10a3f416ebb1.webp'}, {'size': {'height': 960, 'width': 1440}, 'url': 'https://images.boligsiden.dk/images/case/4e359c40-e0da-44fc-975a-73b713391aaa/1440x960/0d20ed90-b4a5-4115-933f-10a3f416ebb1.webp'}]}   \n",
       "43  {'imageSources': [{'size': {'height': 80, 'width': 100}, 'url': 'https://images.boligsiden.dk/images/case/5f68ed1a-a294-4253-8123-8f5d2f9b655d/100x80/e9a39c1c-f553-4a08-99a2-f24d96a8035a.webp'}, {'size': {'height': 118, 'width': 143}, 'url': 'https://images.boligsiden.dk/images/case/5f68ed1a-a294-4253-8123-8f5d2f9b655d/143x118/e9a39c1c-f553-4a08-99a2-f24d96a8035a.webp'}, {'size': {'height': 200, 'width': 300}, 'url': 'https://images.boligsiden.dk/images/case/5f68ed1a-a294-4253-8123-8f5d2f9b655d/300x200/e9a39c1c-f553-4a08-99a2-f24d96a8035a.webp'}, {'size': {'height': 400, 'width': 600}, 'url': 'https://images.boligsiden.dk/images/case/5f68ed1a-a294-4253-8123-8f5d2f9b655d/600x400/e9a39c1c-f553-4a08-99a2-f24d96a8035a.webp'}, {'size': {'height': 600, 'width': 600}, 'url': 'https://images.boligsiden.dk/images/case/5f68ed1a-a294-4253-8123-8f5d2f9b655d/600x600/e9a39c1c-f553-4a08-99a2-f24d96a8035a.webp'}, {'size': {'height': 960, 'width': 1440}, 'url': 'https://images.boligsiden.dk/images/case/5f68ed1a-a294-4253-8123-8f5d2f9b655d/1440x960/e9a39c1c-f553-4a08-99a2-f24d96a8035a.webp'}]}   \n",
       "44  {'imageSources': [{'size': {'height': 80, 'width': 100}, 'url': 'https://images.boligsiden.dk/images/case/e9f4f0f3-10e4-4748-8c7d-acb4126df1e3/100x80/7923b7a2-91ac-487a-bddd-ef94ff0ed60e.webp'}, {'size': {'height': 118, 'width': 143}, 'url': 'https://images.boligsiden.dk/images/case/e9f4f0f3-10e4-4748-8c7d-acb4126df1e3/143x118/7923b7a2-91ac-487a-bddd-ef94ff0ed60e.webp'}, {'size': {'height': 200, 'width': 300}, 'url': 'https://images.boligsiden.dk/images/case/e9f4f0f3-10e4-4748-8c7d-acb4126df1e3/300x200/7923b7a2-91ac-487a-bddd-ef94ff0ed60e.webp'}, {'size': {'height': 400, 'width': 600}, 'url': 'https://images.boligsiden.dk/images/case/e9f4f0f3-10e4-4748-8c7d-acb4126df1e3/600x400/7923b7a2-91ac-487a-bddd-ef94ff0ed60e.webp'}, {'size': {'height': 600, 'width': 600}, 'url': 'https://images.boligsiden.dk/images/case/e9f4f0f3-10e4-4748-8c7d-acb4126df1e3/600x600/7923b7a2-91ac-487a-bddd-ef94ff0ed60e.webp'}, {'size': {'height': 960, 'width': 1440}, 'url': 'https://images.boligsiden.dk/images/case/e9f4f0f3-10e4-4748-8c7d-acb4126df1e3/1440x960/7923b7a2-91ac-487a-bddd-ef94ff0ed60e.webp'}]}   \n",
       "45  {'imageSources': [{'size': {'height': 80, 'width': 100}, 'url': 'https://images.boligsiden.dk/images/case/d40b5216-7f6a-4880-a2bd-166f1686b1db/100x80/9ee0e4dd-e7a2-4ed1-b6b8-8aaea09306fe.webp'}, {'size': {'height': 118, 'width': 143}, 'url': 'https://images.boligsiden.dk/images/case/d40b5216-7f6a-4880-a2bd-166f1686b1db/143x118/9ee0e4dd-e7a2-4ed1-b6b8-8aaea09306fe.webp'}, {'size': {'height': 200, 'width': 300}, 'url': 'https://images.boligsiden.dk/images/case/d40b5216-7f6a-4880-a2bd-166f1686b1db/300x200/9ee0e4dd-e7a2-4ed1-b6b8-8aaea09306fe.webp'}, {'size': {'height': 400, 'width': 600}, 'url': 'https://images.boligsiden.dk/images/case/d40b5216-7f6a-4880-a2bd-166f1686b1db/600x400/9ee0e4dd-e7a2-4ed1-b6b8-8aaea09306fe.webp'}, {'size': {'height': 600, 'width': 600}, 'url': 'https://images.boligsiden.dk/images/case/d40b5216-7f6a-4880-a2bd-166f1686b1db/600x600/9ee0e4dd-e7a2-4ed1-b6b8-8aaea09306fe.webp'}, {'size': {'height': 960, 'width': 1440}, 'url': 'https://images.boligsiden.dk/images/case/d40b5216-7f6a-4880-a2bd-166f1686b1db/1440x960/9ee0e4dd-e7a2-4ed1-b6b8-8aaea09306fe.webp'}]}   \n",
       "46  {'imageSources': [{'size': {'height': 80, 'width': 100}, 'url': 'https://images.boligsiden.dk/images/case/78740d58-24f5-4384-afd7-1ac2be025ffd/100x80/5e86c9a6-d54f-4e3d-895d-806761dca1a3.webp'}, {'size': {'height': 118, 'width': 143}, 'url': 'https://images.boligsiden.dk/images/case/78740d58-24f5-4384-afd7-1ac2be025ffd/143x118/5e86c9a6-d54f-4e3d-895d-806761dca1a3.webp'}, {'size': {'height': 200, 'width': 300}, 'url': 'https://images.boligsiden.dk/images/case/78740d58-24f5-4384-afd7-1ac2be025ffd/300x200/5e86c9a6-d54f-4e3d-895d-806761dca1a3.webp'}, {'size': {'height': 400, 'width': 600}, 'url': 'https://images.boligsiden.dk/images/case/78740d58-24f5-4384-afd7-1ac2be025ffd/600x400/5e86c9a6-d54f-4e3d-895d-806761dca1a3.webp'}, {'size': {'height': 600, 'width': 600}, 'url': 'https://images.boligsiden.dk/images/case/78740d58-24f5-4384-afd7-1ac2be025ffd/600x600/5e86c9a6-d54f-4e3d-895d-806761dca1a3.webp'}, {'size': {'height': 960, 'width': 1440}, 'url': 'https://images.boligsiden.dk/images/case/78740d58-24f5-4384-afd7-1ac2be025ffd/1440x960/5e86c9a6-d54f-4e3d-895d-806761dca1a3.webp'}]}   \n",
       "47  {'imageSources': [{'size': {'height': 80, 'width': 100}, 'url': 'https://images.boligsiden.dk/images/case/9c98521c-4a84-4805-b9e2-550add8659ab/100x80/58fc2232-5a26-4826-8a19-6907bae733b7.webp'}, {'size': {'height': 118, 'width': 143}, 'url': 'https://images.boligsiden.dk/images/case/9c98521c-4a84-4805-b9e2-550add8659ab/143x118/58fc2232-5a26-4826-8a19-6907bae733b7.webp'}, {'size': {'height': 200, 'width': 300}, 'url': 'https://images.boligsiden.dk/images/case/9c98521c-4a84-4805-b9e2-550add8659ab/300x200/58fc2232-5a26-4826-8a19-6907bae733b7.webp'}, {'size': {'height': 400, 'width': 600}, 'url': 'https://images.boligsiden.dk/images/case/9c98521c-4a84-4805-b9e2-550add8659ab/600x400/58fc2232-5a26-4826-8a19-6907bae733b7.webp'}, {'size': {'height': 600, 'width': 600}, 'url': 'https://images.boligsiden.dk/images/case/9c98521c-4a84-4805-b9e2-550add8659ab/600x600/58fc2232-5a26-4826-8a19-6907bae733b7.webp'}, {'size': {'height': 960, 'width': 1440}, 'url': 'https://images.boligsiden.dk/images/case/9c98521c-4a84-4805-b9e2-550add8659ab/1440x960/58fc2232-5a26-4826-8a19-6907bae733b7.webp'}]}   \n",
       "48  {'imageSources': [{'size': {'height': 80, 'width': 100}, 'url': 'https://images.boligsiden.dk/images/case/c5eef315-f2fe-43e3-aeca-e48da55ebc70/100x80/7f7f6239-3feb-465e-a0e2-9034b11ac0af.webp'}, {'size': {'height': 118, 'width': 143}, 'url': 'https://images.boligsiden.dk/images/case/c5eef315-f2fe-43e3-aeca-e48da55ebc70/143x118/7f7f6239-3feb-465e-a0e2-9034b11ac0af.webp'}, {'size': {'height': 200, 'width': 300}, 'url': 'https://images.boligsiden.dk/images/case/c5eef315-f2fe-43e3-aeca-e48da55ebc70/300x200/7f7f6239-3feb-465e-a0e2-9034b11ac0af.webp'}, {'size': {'height': 400, 'width': 600}, 'url': 'https://images.boligsiden.dk/images/case/c5eef315-f2fe-43e3-aeca-e48da55ebc70/600x400/7f7f6239-3feb-465e-a0e2-9034b11ac0af.webp'}, {'size': {'height': 600, 'width': 600}, 'url': 'https://images.boligsiden.dk/images/case/c5eef315-f2fe-43e3-aeca-e48da55ebc70/600x600/7f7f6239-3feb-465e-a0e2-9034b11ac0af.webp'}, {'size': {'height': 960, 'width': 1440}, 'url': 'https://images.boligsiden.dk/images/case/c5eef315-f2fe-43e3-aeca-e48da55ebc70/1440x960/7f7f6239-3feb-465e-a0e2-9034b11ac0af.webp'}]}   \n",
       "49  {'imageSources': [{'size': {'height': 80, 'width': 100}, 'url': 'https://images.boligsiden.dk/images/case/901ca1a9-d961-4b53-8fb3-9b203e511281/100x80/83f91f20-547e-48d2-8931-e60cec637465.webp'}, {'size': {'height': 118, 'width': 143}, 'url': 'https://images.boligsiden.dk/images/case/901ca1a9-d961-4b53-8fb3-9b203e511281/143x118/83f91f20-547e-48d2-8931-e60cec637465.webp'}, {'size': {'height': 200, 'width': 300}, 'url': 'https://images.boligsiden.dk/images/case/901ca1a9-d961-4b53-8fb3-9b203e511281/300x200/83f91f20-547e-48d2-8931-e60cec637465.webp'}, {'size': {'height': 400, 'width': 600}, 'url': 'https://images.boligsiden.dk/images/case/901ca1a9-d961-4b53-8fb3-9b203e511281/600x400/83f91f20-547e-48d2-8931-e60cec637465.webp'}, {'size': {'height': 600, 'width': 600}, 'url': 'https://images.boligsiden.dk/images/case/901ca1a9-d961-4b53-8fb3-9b203e511281/600x600/83f91f20-547e-48d2-8931-e60cec637465.webp'}, {'size': {'height': 960, 'width': 1440}, 'url': 'https://images.boligsiden.dk/images/case/901ca1a9-d961-4b53-8fb3-9b203e511281/1440x960/83f91f20-547e-48d2-8931-e60cec637465.webp'}]}   \n",
       "50  {'imageSources': [{'size': {'height': 80, 'width': 100}, 'url': 'https://images.boligsiden.dk/images/case/11d880e3-84dc-488a-a21b-c05848befef3/100x80/6f35c4d7-7151-4b70-92aa-302cdcf579fd.webp'}, {'size': {'height': 118, 'width': 143}, 'url': 'https://images.boligsiden.dk/images/case/11d880e3-84dc-488a-a21b-c05848befef3/143x118/6f35c4d7-7151-4b70-92aa-302cdcf579fd.webp'}, {'size': {'height': 200, 'width': 300}, 'url': 'https://images.boligsiden.dk/images/case/11d880e3-84dc-488a-a21b-c05848befef3/300x200/6f35c4d7-7151-4b70-92aa-302cdcf579fd.webp'}, {'size': {'height': 400, 'width': 600}, 'url': 'https://images.boligsiden.dk/images/case/11d880e3-84dc-488a-a21b-c05848befef3/600x400/6f35c4d7-7151-4b70-92aa-302cdcf579fd.webp'}, {'size': {'height': 600, 'width': 600}, 'url': 'https://images.boligsiden.dk/images/case/11d880e3-84dc-488a-a21b-c05848befef3/600x600/6f35c4d7-7151-4b70-92aa-302cdcf579fd.webp'}, {'size': {'height': 960, 'width': 1440}, 'url': 'https://images.boligsiden.dk/images/case/11d880e3-84dc-488a-a21b-c05848befef3/1440x960/6f35c4d7-7151-4b70-92aa-302cdcf579fd.webp'}]}   \n",
       "51  {'imageSources': [{'size': {'height': 80, 'width': 100}, 'url': 'https://images.boligsiden.dk/images/case/0eb6cb66-fa06-429a-a759-da8e05eabf40/100x80/7458317f-5c37-4c2a-82cc-9fc6736a51c7.webp'}, {'size': {'height': 118, 'width': 143}, 'url': 'https://images.boligsiden.dk/images/case/0eb6cb66-fa06-429a-a759-da8e05eabf40/143x118/7458317f-5c37-4c2a-82cc-9fc6736a51c7.webp'}, {'size': {'height': 200, 'width': 300}, 'url': 'https://images.boligsiden.dk/images/case/0eb6cb66-fa06-429a-a759-da8e05eabf40/300x200/7458317f-5c37-4c2a-82cc-9fc6736a51c7.webp'}, {'size': {'height': 400, 'width': 600}, 'url': 'https://images.boligsiden.dk/images/case/0eb6cb66-fa06-429a-a759-da8e05eabf40/600x400/7458317f-5c37-4c2a-82cc-9fc6736a51c7.webp'}, {'size': {'height': 600, 'width': 600}, 'url': 'https://images.boligsiden.dk/images/case/0eb6cb66-fa06-429a-a759-da8e05eabf40/600x600/7458317f-5c37-4c2a-82cc-9fc6736a51c7.webp'}, {'size': {'height': 960, 'width': 1440}, 'url': 'https://images.boligsiden.dk/images/case/0eb6cb66-fa06-429a-a759-da8e05eabf40/1440x960/7458317f-5c37-4c2a-82cc-9fc6736a51c7.webp'}]}   \n",
       "52  {'imageSources': [{'size': {'height': 80, 'width': 100}, 'url': 'https://images.boligsiden.dk/images/case/cc1c250e-7a68-4ba1-b20f-0f4932e36a0e/100x80/09d49209-0855-411a-b33f-905216098c23.webp'}, {'size': {'height': 118, 'width': 143}, 'url': 'https://images.boligsiden.dk/images/case/cc1c250e-7a68-4ba1-b20f-0f4932e36a0e/143x118/09d49209-0855-411a-b33f-905216098c23.webp'}, {'size': {'height': 200, 'width': 300}, 'url': 'https://images.boligsiden.dk/images/case/cc1c250e-7a68-4ba1-b20f-0f4932e36a0e/300x200/09d49209-0855-411a-b33f-905216098c23.webp'}, {'size': {'height': 400, 'width': 600}, 'url': 'https://images.boligsiden.dk/images/case/cc1c250e-7a68-4ba1-b20f-0f4932e36a0e/600x400/09d49209-0855-411a-b33f-905216098c23.webp'}, {'size': {'height': 600, 'width': 600}, 'url': 'https://images.boligsiden.dk/images/case/cc1c250e-7a68-4ba1-b20f-0f4932e36a0e/600x600/09d49209-0855-411a-b33f-905216098c23.webp'}, {'size': {'height': 960, 'width': 1440}, 'url': 'https://images.boligsiden.dk/images/case/cc1c250e-7a68-4ba1-b20f-0f4932e36a0e/1440x960/09d49209-0855-411a-b33f-905216098c23.webp'}]}   \n",
       "53  {'imageSources': [{'size': {'height': 80, 'width': 100}, 'url': 'https://images.boligsiden.dk/images/case/222f1480-1f6d-4616-a417-7f07bfeefabe/100x80/cb0f67b7-e966-49b9-b0e4-56685b648e89.webp'}, {'size': {'height': 118, 'width': 143}, 'url': 'https://images.boligsiden.dk/images/case/222f1480-1f6d-4616-a417-7f07bfeefabe/143x118/cb0f67b7-e966-49b9-b0e4-56685b648e89.webp'}, {'size': {'height': 200, 'width': 300}, 'url': 'https://images.boligsiden.dk/images/case/222f1480-1f6d-4616-a417-7f07bfeefabe/300x200/cb0f67b7-e966-49b9-b0e4-56685b648e89.webp'}, {'size': {'height': 400, 'width': 600}, 'url': 'https://images.boligsiden.dk/images/case/222f1480-1f6d-4616-a417-7f07bfeefabe/600x400/cb0f67b7-e966-49b9-b0e4-56685b648e89.webp'}, {'size': {'height': 600, 'width': 600}, 'url': 'https://images.boligsiden.dk/images/case/222f1480-1f6d-4616-a417-7f07bfeefabe/600x600/cb0f67b7-e966-49b9-b0e4-56685b648e89.webp'}, {'size': {'height': 960, 'width': 1440}, 'url': 'https://images.boligsiden.dk/images/case/222f1480-1f6d-4616-a417-7f07bfeefabe/1440x960/cb0f67b7-e966-49b9-b0e4-56685b648e89.webp'}]}   \n",
       "54  {'imageSources': [{'size': {'height': 80, 'width': 100}, 'url': 'https://images.boligsiden.dk/images/case/33d87aa7-d2f1-41d0-9fce-dd81359b6e1b/100x80/bc6c97d1-54cf-4697-9e82-33ceb1852a23.webp'}, {'size': {'height': 118, 'width': 143}, 'url': 'https://images.boligsiden.dk/images/case/33d87aa7-d2f1-41d0-9fce-dd81359b6e1b/143x118/bc6c97d1-54cf-4697-9e82-33ceb1852a23.webp'}, {'size': {'height': 200, 'width': 300}, 'url': 'https://images.boligsiden.dk/images/case/33d87aa7-d2f1-41d0-9fce-dd81359b6e1b/300x200/bc6c97d1-54cf-4697-9e82-33ceb1852a23.webp'}, {'size': {'height': 400, 'width': 600}, 'url': 'https://images.boligsiden.dk/images/case/33d87aa7-d2f1-41d0-9fce-dd81359b6e1b/600x400/bc6c97d1-54cf-4697-9e82-33ceb1852a23.webp'}, {'size': {'height': 600, 'width': 600}, 'url': 'https://images.boligsiden.dk/images/case/33d87aa7-d2f1-41d0-9fce-dd81359b6e1b/600x600/bc6c97d1-54cf-4697-9e82-33ceb1852a23.webp'}, {'size': {'height': 960, 'width': 1440}, 'url': 'https://images.boligsiden.dk/images/case/33d87aa7-d2f1-41d0-9fce-dd81359b6e1b/1440x960/bc6c97d1-54cf-4697-9e82-33ceb1852a23.webp'}]}   \n",
       "55  {'imageSources': [{'size': {'height': 80, 'width': 100}, 'url': 'https://images.boligsiden.dk/images/case/1c8ac0e3-ea13-4122-adb5-ddb562faefc3/100x80/ba66f7ee-4a77-4b31-b858-061620aef508.webp'}, {'size': {'height': 118, 'width': 143}, 'url': 'https://images.boligsiden.dk/images/case/1c8ac0e3-ea13-4122-adb5-ddb562faefc3/143x118/ba66f7ee-4a77-4b31-b858-061620aef508.webp'}, {'size': {'height': 200, 'width': 300}, 'url': 'https://images.boligsiden.dk/images/case/1c8ac0e3-ea13-4122-adb5-ddb562faefc3/300x200/ba66f7ee-4a77-4b31-b858-061620aef508.webp'}, {'size': {'height': 400, 'width': 600}, 'url': 'https://images.boligsiden.dk/images/case/1c8ac0e3-ea13-4122-adb5-ddb562faefc3/600x400/ba66f7ee-4a77-4b31-b858-061620aef508.webp'}, {'size': {'height': 600, 'width': 600}, 'url': 'https://images.boligsiden.dk/images/case/1c8ac0e3-ea13-4122-adb5-ddb562faefc3/600x600/ba66f7ee-4a77-4b31-b858-061620aef508.webp'}, {'size': {'height': 960, 'width': 1440}, 'url': 'https://images.boligsiden.dk/images/case/1c8ac0e3-ea13-4122-adb5-ddb562faefc3/1440x960/ba66f7ee-4a77-4b31-b858-061620aef508.webp'}]}   \n",
       "56  {'imageSources': [{'size': {'height': 80, 'width': 100}, 'url': 'https://images.boligsiden.dk/images/case/443189eb-f8db-4dfc-81ee-c00e8b4c6cbe/100x80/3b0c1baa-abe3-4f8a-9600-a456dca573c4.webp'}, {'size': {'height': 118, 'width': 143}, 'url': 'https://images.boligsiden.dk/images/case/443189eb-f8db-4dfc-81ee-c00e8b4c6cbe/143x118/3b0c1baa-abe3-4f8a-9600-a456dca573c4.webp'}, {'size': {'height': 200, 'width': 300}, 'url': 'https://images.boligsiden.dk/images/case/443189eb-f8db-4dfc-81ee-c00e8b4c6cbe/300x200/3b0c1baa-abe3-4f8a-9600-a456dca573c4.webp'}, {'size': {'height': 400, 'width': 600}, 'url': 'https://images.boligsiden.dk/images/case/443189eb-f8db-4dfc-81ee-c00e8b4c6cbe/600x400/3b0c1baa-abe3-4f8a-9600-a456dca573c4.webp'}, {'size': {'height': 600, 'width': 600}, 'url': 'https://images.boligsiden.dk/images/case/443189eb-f8db-4dfc-81ee-c00e8b4c6cbe/600x600/3b0c1baa-abe3-4f8a-9600-a456dca573c4.webp'}, {'size': {'height': 960, 'width': 1440}, 'url': 'https://images.boligsiden.dk/images/case/443189eb-f8db-4dfc-81ee-c00e8b4c6cbe/1440x960/3b0c1baa-abe3-4f8a-9600-a456dca573c4.webp'}]}   \n",
       "57  {'imageSources': [{'size': {'height': 80, 'width': 100}, 'url': 'https://images.boligsiden.dk/images/case/e0128a72-e6c6-4861-920b-cfeab1329a23/100x80/09de50b3-382a-47b6-8d3e-2373ee26b0b2.webp'}, {'size': {'height': 118, 'width': 143}, 'url': 'https://images.boligsiden.dk/images/case/e0128a72-e6c6-4861-920b-cfeab1329a23/143x118/09de50b3-382a-47b6-8d3e-2373ee26b0b2.webp'}, {'size': {'height': 200, 'width': 300}, 'url': 'https://images.boligsiden.dk/images/case/e0128a72-e6c6-4861-920b-cfeab1329a23/300x200/09de50b3-382a-47b6-8d3e-2373ee26b0b2.webp'}, {'size': {'height': 400, 'width': 600}, 'url': 'https://images.boligsiden.dk/images/case/e0128a72-e6c6-4861-920b-cfeab1329a23/600x400/09de50b3-382a-47b6-8d3e-2373ee26b0b2.webp'}, {'size': {'height': 600, 'width': 600}, 'url': 'https://images.boligsiden.dk/images/case/e0128a72-e6c6-4861-920b-cfeab1329a23/600x600/09de50b3-382a-47b6-8d3e-2373ee26b0b2.webp'}, {'size': {'height': 960, 'width': 1440}, 'url': 'https://images.boligsiden.dk/images/case/e0128a72-e6c6-4861-920b-cfeab1329a23/1440x960/09de50b3-382a-47b6-8d3e-2373ee26b0b2.webp'}]}   \n",
       "\n",
       "                                                                                                                                                                                                                                                                                                                                                                                                                                                                                                                                                                                                                                                                                                                                                                                                                                                                                                                                                                                                                                                                                                                                                                                                                                                                                                                                                                                                                                                                                                                                                                                                                                                                                                                                                                                                                                                                                                                                                                                                                                                                                                                                                                                                                                                                                                                                                                                                                                                                                                                                                                                                                                                                                                                                                                                                                                                                                                                                                                                                                                                                                                                                                                                                                                                                                                                                                                                                                                                                                                                                                                                                                                                                                                                                                                                                                                                         descriptionBody  \\\n",
       "0                                                                                                                                                                                                                                                                                                                                                                                                                                                                                                                                                                                                                                                                                                                                                                                                                                                                                                                                                                                                                                                                                                                                                                                                                                                                                                                                                                                                                                                                                                                                                                                                                                                                                                                                                                                                                                                                                                                                                                                                                                                                                                                                                                                                                                                                                                                                                                                                                                                                                                                                                                                                                                                                                                                                                                                                                                                                                                                                                                                                                                                                                                                                                                                                                                                                                                                                                  Nyere lejlighed ved vandet. Panorama kig. Vestvendt altan. Ideel planløsning.\\nDrømmer man om at bo centralt i København, i et maritimt miljø omgivet af Københavns Havn og hyggelige kanaler, så skal denne eksklusive lejlighed opleves. Frisk havluft og ingen trafiklarm, placeret tæt på Fisketorvet, metro, S-tog og havnebussen, med blot 10 minutter på cyklen til rådhuspladsen. Denne lejlighed har dejlig altan mod vest med masser sol. Flot kig til Engholmenes hyggelige kanaler og husbåd havn. Perfek   \n",
       "1                                                                                                                                                                                                                                                                                                                                                                                                                                                                                                                                                                                                                                                                                                                                                                                                                                                                                                                                                                                                                                                                                                                                                                                                                                                                                                                                                                                                                                                                                                                                                                                                                                                                                                                                                                                                                                                                                                                                                                                                                                                                                                                                                                                                                                                                                                                                                                                                                                                                                                                                                                                                                                                                                                                                                                                                                                                                                                                                                                                                                                                                                                                                                                                                                                                                                                                                                   I første parket til Masteskurenes fredede arkitektur og med fantastisk udsigt til både den nye Operapark og selve Operaen ligger jeres nye hjem – og et helt særligt et af slagsen! På denne suveræne beliggenhed kan I nemlig folde tilværelsen ud til vands, for I skal se nærmere på en moderne husbåd, der tilbyder jer et liv fyldt med tidssvarende komfort, men med vand til alle sider. Det er en husbåd med et strømlinet ydre, der ligger og spejler sig her i kanalen. Den kan bedst beskrives som en mod   \n",
       "2                                                                                                                                                                                                                                                                                                                                                                                                                                                                                                                                                                                                                                                                                                                                                                                                                                                                                                                                                                                                                                                                                                                                                                                                                                                                                                                                                                                                                                                                                                                                                                                                                                                                                                                                                                                                                                                                                                                                                                                                                                                                                                                                                                                                                                                                                                                                                                                                                                                                                                                                                                                                                                                                                                                                                                                                                                                                                                                                                                                                                                                                                                                                                                                                                                                                                                                                                ATTRAKTIV 2 VÆR. MED VESTVENDT ALTAN\\n\\nLEJLIGHED: Her får man både udsigt til kanal, bådehavn og husbåde – et virkelig hyggeligt maritimt miljø. Man har gåafstand til to metrostationer, som netop er åbnet, hurtig adgang til lufthavnen, det maritime miljø omkring Københavns Havn, caféer, restauranter, Kødbyen på Vesterbro og indre by. Du er i gå og cykelafstand til alt i København. \\nHer får man en dejlig 2 vær. med vestvendt altan. Stort badeværelse med sep. brus, unidrain, væghængt toilet, spotlo   \n",
       "3   Nu har du en enestående mulighed for at blive ejeren af et totalrenoveret historisk skib fra 1930, der ligger til kaj på én af de absolut bedste kajpladser på Refshaleøen. Pionier kan - med sin charmerende modernisering og historiske særpræg, anvendes som husbåd, eventskib, dinnercruise, rundture i området, kontor, showroom eller lignende.Refshaleøen er kendt for sine mange restauranter og kulturelle tilbud. En kort cykeltur tager dig til Christianshavn og videre til Indre By via cykelbroen. Københavns charmerende byliv med caféer, restauranter og butikker ligger lige for dine fødder. Området byder på gode busforbindelser - både havnebus og normal bus - og offentlig transport, så du nemt kan komme rundt i byen.Med sine 80 m² boligareal tilbyder Pionier både komfort og stil. Skibet er blevet totalt moderniseret i 2008 og fremtræder i flot stand, fordi det nænsomt er vedligeholdt efter alle kunstens regler.For- og agterdækket er perfekte til at nyde sommermånederne med en dejlig udsigt til blandt andet Sixtus Bastionen og kongeskibet Dannebrog. Der er også masser af muligheder for at sejle en tur og udforske området fra vandet. Pionier tilbyder ikke kun en unik bolig, men også drømmen af en livstil.Pionier indeholder stue, spisestue i åben forbindelse med køkkenet og den gamle salon, der i dag er en kahyt med 2 sovepladser. Derudover en ekstra kahyt, badeværelse, toilet og motorrum.Hyggelig stue med brændeovn, maritim atmosfære, fantastisk udsigt og plads til hele familien. Skibet er fyldt med et væld af maritime detaljer. I hele skibet - både inde og ude - er der lagt maritime skibsgulve. Indenfor er der etableret fine høje paneler i det samme flotte træværk som i resten af interiøret. Derudover er der i spisestuen og salonen fine væglamper i glas specielt designet til Pionier, hvilket forestiller en muslingeskal magen til Shells logo fra 1930.Spisestuen, som vi kalder kabyssen, rummer både et fuldt udstyret køkken med ovn, komfur, køleskab og lille opvaskemaskine samt en hyggelig spiseafdeling.Salonen, som nu er indrettet som en kahyt med to sovepladser, har direkte udgang til en mindre agterbalkon med bænke, hvor du kan nyde en afslappende stund med udsigt over vandet.En ekstra kahyt med to sovepladser tilbyder endnu mere plads til overnattende gæster eller familie.Badeværelset er velholdt og udstyret med en stor bruseniche, fine armaturer, gulvvarme og et charmerende koøje.Det separate toilet er også veludstyret med en lille vask, fint armatur, gulvvarme og et koøje, hvilket sikrer en høj komfort ombord.Motorrummet står flot og både generator og motor er fuldstændig renoveret i februar 2024. Pionier er drevet af en kraftig 247 hestes DAF skibsmotor, hvilket sikrer at skibet sejler som en drøm.Pionier I blev bygget i 1930 på Boeles skibsværftet i Rotterdam og bestilt af Royal Dutch Petroleum (nu Shell) til brug for selskabets direktion. Med sit nittede og svejsede skrog samt en dieselmotor, var Pionier I en pionér inden for moderne skibskonstruktioner. Skibet blev brugt til at transportere Shells direktion og ledende medarbejdere mellem Vlaardingen og Pernis, og dets historie inkluderer prominente personer som Henri Deterding, \"Oliens Napoleon.\" Efter sin tjeneste for Shell blev Pionier I først brugt som lystfartøj og senere som restaurationsskib. I 2008 blev skibet nænsomt restaureret af arkitektfirmaet Plusform, og det fremstår nu stort set som i dets oprindelige glansperiode.Pionier I er mere end bare et skib; det er et stykke historie og en livsstil på vandet. Dette velholdte skib med flotte maritime detaljer venter på den rette ejer, der vil værdsætte den unikke charme og de mangeanvendelsesmuligheder, som Pionier I tilbyder.Velkommen ombord!   \n",
       "4                                                                                                                                                                                                                                                                                                                                                                                                                                                                                                                                                                                                                                                                                                                                                                                                                                                                                                                                                                                                                                                                                                                                                                                                                                                                                                                                                                                                                                                                                                                                                                                                                                                                                                                                                                                                                                                                                                                                                                                                                                                                                                                                                                                                                                                                                                                                                                                                                                                                                                                                                                                                                                                                                                                                                                                                                                                                                                                                                                                                                                                                                                                                                                                                                                                                                                                                                   Drømmer du om en unik livsstil på vandet?Velkommen til Molen 7 ved Bork Havn – en fantastisk husbåd, der tilbyder en usammenlignelig oplevelse af livet på vandet. Denne enestående bolig kombinerer komfort og luksus med en fantastisk beliggenhed og panoramaudsigt.Denne husbåd byder på 3 rummelige og velindrettede værelser, der giver rigelig plads til hele familien eller dine nærmeste. De store vinduespartier sikrer masser af naturligt lys og en vidunderlig udsigt fra næsten alle rum.De to moderne   \n",
       "5                                                                                                                                                                                                                                                                                                                                                                                                                                                                                                                                                                                                                                                                                                                                                                                                                                                                                                                                                                                                                                                                                                                                                                                                                                                                                                                                                                                                                                                                                                                                                                                                                                                                                                                                                                                                                                                                                                                                                                                                                                                                                                                                                                                                                                                                                                                                                                                                                                                                                                                                                                                                                                                                                                                                                                                                                                                                                                                                                                                                                                                                                                                                                                                                                                                                                                                                                   Hvis I ynder at være omgivet af den friske luft og lyden af bølgeskvulp, så er det måske en husbåd, I skal investere i. Vi har nemlig fået den enestående mulighed at udbyde et helt fantastisk og topmoderne hjem, der ligger med én af de allerbedste placeringer i havnen: lige mellem Papirøen og Operaen og med den smukkeste udsigt over havnen til Amalienborg, Marmorkirken m.m. Aurora blev bygget i Belgien i 2006, hvor bygherre krævede den perfekte kombination af båd og bolig. Straks man stiger ombo   \n",
       "6                                                                                                                                                                                                                                                                                                                                                                                                                                                                                                                                                                                                                                                                                                                                                                                                                                                                                                                                                                                                                                                                                                                                                                                                                                                                                                                                                                                                                                                                                                                                                                                                                                                                                                                                                                                                                                                                                                                                                                                                                                                                                                                                                                                                                                                                                                                                                                                                                                                                                                                                                                                                                                                                                                                                                                                                                                                                                                                                                                                                                                                                                                                                                                                                                                                                                                                                                 Husbåd.Få den ultimative frihed ved at kunne drage fra kaj og sejle jorden rundt – samtidig med at du har en eftertragtet bådplads på Christianshavn. Alt sammen med dette veludstyrede sejlskib. \\n\\nS/Y Valhalla er et tidligere skoleskib der har haft sine togter ved de afrikanske kyster, og har gennem de seneste 15 år gennemgået en nær totalrenovering, der resultere i en fuldt funktionel feriebolig med otte sovepladser, gulvvarme, genvækst system, bad og toilet samt køkken med blandt andet induk   \n",
       "7                                                                                                                                                                                                                                                                                                                                                                                                                                                                                                                                                                                                                                                                                                                                                                                                                                                                                                                                                                                                                                                                                                                                                                                                                                                                                                                                                                                                                                                                                                                                                                                                                                                                                                                                                                                                                                                                                    Udsigt til Kastellet, solide materialer, mange kvadratmeter og en fantastisk placering nær alt det bedste, som Refshaleøen har at byde på. Det er, hvad I får med denne husbåd på Refshalevej 169E. Her mødes I af et rødmalet fyrskib med dobbeltskrog bygget af fem centimeter tykke egeplanker, og indenfor venter en planløsning på intet mindre end 400 kvadratmeter. I sandhed en bolig med spændende muligheder for både udlejning og for at skabe et unikt drømmehjem med masser af plads.Husbådens hjerte er køkken-alrummet i forskibet, hvor egeplanker virkelig kommer til deres ret og bidrager til den herlige atmosfære i rummet, der har god plads til både en spiseafdeling og et blødt sofaarrangement til hyggestunderne. De resterende kvadratmeter fordeler sig mellem ti værelser og et rimeligt antal badeværelser og toiletter, hvilket gør husbåden til en oplagt investeringsejendom for købere, der ønsker at udvide portfolioen med en enestående udlejningsejendom. Har I derimod selv en drøm om at bo på vandet, kan I nemt tilpasse husbåden til jeres behov, åbne rummene op og skabe et hjem med fantastisk flow og en behagelig gennemstrømning af lys. Om sommeren kan I nyde det varme vejr på de to soldæk både for og agter på skibet, der lader jer følge solens bane og giver jer den skønneste udsigt over vandet til Langelinie og Kastellet.Refshaleøens maritime kvarterer byder på et væld af udsøgte spisesteder, kulturoplevelser og alskens fritidsaktiviteter, som spænder over alt fra klatring til kajakroning. Vandhunde kan bade i det nærliggende Refshalebassin, og voldenes dejlige natur indbyder til lange gå- og løbeture. Pendlingen til midtbyen klares hurtigt med bus, på cykel eller over vandet i havnebussen.Pt. er båden indrettet med 10 små værelser som er udlejet. Årlig leje udgør kr. 628.200,-Kontakt os for yderligere oplysninger og besigtigelse. Kai Ekman fra Ekman Bolig kan kontaktes på 22811033   \n",
       "8                                                                                                                                                                                                                                                                                                                                                                                                                                                                                                                                                                                                                                                                                                                                                                                                                                                                                                                                                                                                                                                                                                                                                                                                                                                                                                                                                                                                                                                                                                                                                                                                                                                                                                                                                                                                                                                                                                                                                                                                                                                                                                                                                                                                                                                                                                                                                                                                                                                                                                                                                                                                                                                                                                                                                                                                                                                                                                                                                                                                                                                                                                                                                                                                                                                                                                                                                 Husbåd med andelsplads i Ishøj Havn.Så er det muligt at erhverve en skøn, sejlende husbåd, der i 2020 fik en gennemgående renovering, således er Hele skroget op til vandlinjen blevet med 10mm. ny glasfiber, incl. ny bundbehandling, alt på hoved dækket er blevet fornyet: køkken, loft, gulv, vægge og vinduer. 2 af 3 værelser har fået samme tur, under dæk er der lagt nye gulvtæpper og endelig er terrassen på flybridge genopbygget helt fra bunden.  \\n\\nIndretningen byder på stor stue/køkken/styrehus u   \n",
       "9                                                                                                                                                                                                                                                                                                                                                                                                                                                                                                                                                                                                                                                                                                                                                                                                                                                                                                                                                                                                                                                                                                                                                                                                                                                                                                                                                                                                                                                                                                                                                                                                                                                                                                                                                                                                                                                                                                                                                                                                                                                                                                                                                                                                                                                                                                                                                                                                                                                                                                                                                                                                                                                                                                                                                                                                                                                                                                                                                                                                                                                                                                                                                                                                                                                                                                                                                   Din drøm om at bo på vandet bliver til virkelighed med denne enestående husbåd, der pryder Molen 11 ved Bork Havn. Denne husbåd blev bygget i 2005 og tilbyder en usammenlignelig maritim oplevelse. Fra de tre terrasser kan du observere livet på fjorden, nyde den friske havluft og opleve den spektakulære panoramaudsigt, der strækker sig fra Tipperne fuglereservatet til sandklitterne ved Vesterhavet. Indendørs vil du finde et rummeligt og praktisk interiør, der opfylder dine behov på en imponerende   \n",
       "10                                                                                                                                                                                                                                                                                                                                                                                                                                                                                                                                                                                                                                                                                                                                                                                                                                                                                                                                                                                                                                                                                                                                                                                                                                                                                                                                                                                                                                                                                                                                                                                                                                                                                                                                                                                                                                                                                                                                                 At bo i hus på vandet. Det er svært at forestille sig en bedre disponeret husbåd på 140m2, der forener livet på vandet med en moderne boligkomfort. Et hjem på vandet er en livsstil, hvor mulighederne er lig med drømmende. Drømmen om et morgendyp året rundt, eller sætte sig direkte i kajakken og sejle gennem kanalerne. Husbåden er skønt beliggende i hjertet af Teglholmen, der er et af de mest progressive kvarterer i København, der i hastige skridt er ved at udvikle sig til en af byens moderne oaser. Pakhuse, gammel industri og moderne beboelse forener sig på tværs af hinandens tilstedeværelse, mens kanalerne på kryds og tværs sætter rammen for et hyggeligt og charmerende husbådsmiljø. Husbåden er opført som en moderne luksusvilla med alt hvad man med rimelighed kan ønske sig. Entré til hyggeligt terrasseområde på ca. 25 m2, hvorfra der er adgang til bådens store og højloftede stue med brændeovn. Herfra trappe til repos, hyggeligt og moderne indrettet køkkenalrum med udgang til højere beliggende terrasseområde, som er uderum i sommerhalvåret. Fra repos er der udgang til det øverste dæk, som er indrettet som stor solterrasse på ca. 45 m2 med mulighed for udendørs køkken. Desuden toilet og depotrum/spisekammer. I bådens stueplan er der fra opholdsstuen mellemgang til fire værelser; tre gode værelser og et værelse med hems og indbygget vaskerum. Derudover walk-in og badeværelse med brus og toilet. Tilmed har husbåden et kælderrum på størrelse med stueplan. Boligkomforten her bliver kun understreget af, at der er gulvvarme i alle rum. Husbåden har en længde på 21,3 meter og en bredde på 7,7 meter. En gennemført lækker bolig for det pladskrævende par eller en familie, som ønsker at bo på vandet, midt i Teglholmen, tæt på Enghave Brygge metrostation, tæt på indkøb, tæt på centrum og alligevel langt fra byens hektiske liv.   \n",
       "11                                                                                                                                                                                                                                                                                                                                                                                                                                                                                                                                                                                                                                                                                                                                                                                                                                                                                                                                                                                                                                                                                                                                                                                                                                                                                                                                                                                                                                                                                                                                                                                                                                                                                                                                                                                                                                                                                                                                                                                                                                                                                                                                                                                                                                                                                                                                                                                                                                                                                                                                                                                                                                                                                                                                                                                                                                                                                                                                                                                                                                                                                                                                                                                                                                                                                                                                                  Moderniseret lejlighed på husbåd ved SluseløbetFlydende på vandet ved Slusen, et stensmut fra Amager Fælled, ligger denne husbåd, hvor I nu har mulighed for at bo på en anderledes måde. Båden er inddelt i tre lejligheder, og denne i midten er særdeles indbydende og moderne. Etagen over dæk er bygget til i 2015 og renoveret i 2021, og her venter et åbent køkken-alrum, mens etagen under dæk er indrettet med et værelse, en stue og et badeværelse. Dertil hører en flydende terrasse samt en tagterrass   \n",
       "12                                                                                                                                                                                                                                                                                                                                                                                                                                                                                                                                                                                                                                                                                                                                                                                                                                                                                                                                                                                                                                                                                                                                                                                                                                                                                                                                                                                                                                                                                                                                                                                                                                                                                                                                                                                                                                                                                                                                                                                                                                                                                                                                            Viva bedre kendt som Showboat fra tv-serien Klovn, er en af Københavns mest ikoniske og historiske restaurationsbåde. Beliggende langs havneforløbet på Langebrogade, giver denne unikke båd en enestående kombination af charme, historie og moderne komfort.\\nMed sin karakteristiske facade og imponerende beliggenhed ved vandet er Viva den ideelle restaurationsbåd til brug for større selskaber eller restaurant.  Denne smukt designede restaurationsbåd kombinerer det bedste fra to verdener: den maritime atmosfære og den pulserende bylivsstil. Her er der plads til både større og mindre selskaber.\\nIndvendigt byder Viva på et moderne og stilfuldt interiør, der samtidig bevarer sin autentiske charme. Hver detalje er omhyggeligt udvalgt for at skabe en indbydende og behagelig atmosfære, der indbyder til hyggelige arrangementer. Her træder man direkte ind til panoramaudsigt over kanalen og København By. Her bliver gæsterne budt velkommen til en unik og charmerende spiseoplevelse. \\nFra soldækket kan man nyde solnedgangen over vandet og observere det pulserende byliv, der passerer forbi. På soldækket er der endnu en bar, hvor gæsterne kan serviceres og med elevator direkte ned til køkkenet. Fantastisk tag soldæk med lounge møbler hvor kan slænge sig og nyde udsigten.  \\nI kælderen har man det store industrikøkken med et større kølerum og madelevator, som kan transportere maden til både stueetagen og dæk så man ikke skal op og ned ad trapperne. Dertil industri opvaskemaskine, med massere funktionel plads. Derudover byder kælderen på opbevaringsmuligheder og restaurantens 4 toiletter. Husbåd ombygget til restaurationsbåd\\n\\n\\n\\nVelkommen ombord.   \n",
       "13                                                                                                                                                                                                                                                                                                                                                                                                                                                                                                                                                                                                                                                                                                                                                                                                                                                                                                                                                                                                                                                                                                                                                                                                                                                                                                                                                                                                                                                                                                                                                                                                                                                                                                                                                                                                                                                                                                                                                                                                                                                                                                                                                                                                                                     På Havnevej 49C finder man denne fantastiske, men noget utraditionelle bolig, en helt særlig husbåd fra Waterliving. I modsætning til de fleste husbåde, er den bygget som bolig på vandet, og ikke en båd, som er ombygget til bolig. Dette kommer i særdeleshed til udtryk i indretningen, materialevalget, komforten, planløsningen, interiør, mv. Båden sejlede ud af værftet tilbage i 2006 og er isoleret efter daværende forhold - dvs. bedre end de fleste husbåde. Herudover er der gulvvarme og båden opvarmes med centralvarme via en varmepumpe - som man kender det fra moderne huse.Her er 160 m2 fordelt på stueplan og 1 sal. Her er ingen skråvægge samt en god lofthøjde og masser af lys fra de mange store vinduer. Dette er med til at gøre, at man får maksimal udbytte af omgivelserne og udsigten, uanset hvilket rum man befinder sig i. Der er adskillige udgange til terrasser, der omkranser boligen. Boligen har tre gode værelser samt stort køkken alrum, smuk hall samt to badeværelser. Der er koblet el, offentlig vand og kloak til båden, samt fibernet. Boligen er registeret skibsregisteret og er derfor flytbar, såfremt køber ønsker dette.Som brugsret til havnepladsen findes her to parkeringspladser, samt lille bådhus/udhus og et fællesareal med mulighed for grill og bålplads. Her er bænke mv. og må kun benyttes af områdets havepladslejere med i alt 8 husbåde. Her er et godt sammenhold husbådsejerne imellem med både sociale aktiviteter og praktisk hjælp til hinanden. Liebhaverboliger finder du hos ejendomsmægler Pernille Sams. Vi sælger liebhaveri i særklasse.   \n",
       "14                                                                                                                                                                                                                                                                                                                                                                                                                                                                                                                                                                                                                                                                                                                                                                                                                                                                                                                                                                                                                                                                                                                                                                                                                                                                                                                                                                                                                                                                                                                                                                                                                                                                                                                                                                                                                                                                                                                                                                     Lejligheden: Når du træder ind i boligens entré, åbner det store, lyse køkken-alrum sig op foran dig. Store vinduespartier lukker det naturlige lys ind og byder det maritime nærmiljø velkommen. Stuen har udgang til begge boligens altaner, som er henholdsvis sydøst- og sydvestvendte, og sammenlagt byder de på mere end 20 kvm, oplagt til varme sommeraftener. Køkkenet står flot med hvide fronter samt gode hvidevarer. Du får rig mulighed for at indrette alrummet med både spisebord og sofaarrangement. Lejlighedens yderligere 3 værelser byder på mulighed for skabsplads, udsigt, og det ene værelse byder på et walk-in closet/depotrum. Til sidst får du et badeværelse med bruseniche samt vaskesøjle.Ejendommen: Lejligheden ligger i det arkitektoniske byggeri på Frederikskaj, tegnet af arkitekthuset Holscher Nordberg, hvor der er stor fokus på det maritime nærmiljø. Ejendommene er derfor designet, så alle får så god en udsigt som muligt. De grønne arealer er formet som en kyst med græsser og buske, som vi kender det fra kystlandskaber. Husbåde og bådpladser ved havnepromenaden er også med til at skabe den rigtige maritime stemning. Til bebyggelsen hører eget fælleshus, placeret på en mole ude i vandet. Fælleshuset indeholder blandt andet et stort festlokale samt gæstelejligheder med bad og et lille \"kajakhotel\", hvor der er sauna. Der er desuden mulighed for bådpladser.Området: Sydhavnen byder på mange indkøbsmuligheder samt masser af natur og vand. Hvis du hopper på cyklen, er der blot 10 minutter til Københavns Hovedbanegård, Fisketorvet, og let mulighed for at fortsætte længere ind mod indre by. Desuden ligger lejligheden ved siden af den nye Metro M5 med planlagt åbningsdag den 22. juni. Hvis du cykler igennem det Gamle Sydhavn, kommer du hurtigt til Valbyparken, som byder på ro i de grønne omgivelser.   \n",
       "15                                                                                                                                                                                                                                                                                                                                                                                                                                                                                                                                                                                                                                                                                                                                                                                                                                                                                                                                                                                                                                                                                                                                                                                                                                                                                                                                                                                                                                                                                                                                                                                                                                                                                                                                                                                                Vi slynger ikke om os med fraser, ligesom vi ikke misbruger ord som \"unik\" for at tale en bolig op. I dette tilfælde er der dog god grund til at grave dybt efter alle de mest flatterende superlativer, for det er i sandhed en enestående sommerresidens, der nu kan blive jeres. Vuggende i Køge Bugt er \"Casa Fluentis\" fortøjet. Husbåden er et unikum, der forener livet på vandet med den rene luksus, og her venter foruden muligheden for at udforske de danske farvande rene linjer, æstetik og kvalitet fra inderst til yderst.Det flydende sommerhus i stål er bygget på Hvidesande Skibsværft, og det kræver blot et duelighedsbevis for at manøvrere skibet rundt langs kysten. Mens styrmanden tager sin tørn ved roret, kan resten af besætningen med fordel indtage en plads på det store soldæk, som omfavner enhver trang til at læne sig tilbage og bare nyde tilværelsen og øjeblikket. Et niveau længere nede har I ydermere en overdækket terrasse. De indre rammer står knivskarpe med et moderne og lyst udtryk. Køkkenet er fra Uno form med fingertappede fronter og lyst træ, og i åben forbindelse har I det resterende opholdsrum, hvor den evigt foranderlige udsigt til omgivelserne naturligvis er i centrum. Fordelingsgangen leder til et nydeligt badeværelse med brus samt to værelser med god plads, masser af udsigt og skabsløsninger. Med en husbåd som denne ligger verden for jeres fødder, og livet på havet kalder på eventyr, opdagelse og nye steder. Når I ikke er på farten, men ligger fast forankret, er det især de naturskønne omgivelser, der gør indtryk. Blikket kan glide over bølgerne i Køge Bugt eller finde ro i det stille vand i Lille Vejlesø på den anden side, hvor Strandengene ved Hundige og De Glemte Kæmper bryder det blå tæppe. Længere inde på fastlandet finder I offentlig transport, indkøbsmuligheder, svømmehal og meget mere inden for en radius af tre kilometer, og turen til hovedstaden kan på en god dag sågar tilbagelægges på cykel med under 18 kilometer til Hovedbanegården.   \n",
       "16                                                                                                                                                                                                                                                                                                                                                                                                                                                                                                                                                                                                                                                                                                                                                                                                                                                                                                                                                                                                                                                                                                                                                                                                                                                                                                                                                                                                                                                                                                                                                                                                                                                                                                                                                                                                                                                                                                                                                                                                                                                                                     Husbåd til livsnydere og jeres børn Denne husbåd er beliggende på en af Københavns historiske bastioner på Holmen, lige dér hvor forsvaret for flere hundrede år siden besluttede, at Københavns skulle forsvares fra. Her kunne man se ud over havet og ind over byen, så fjender kunne holdes på afstand. Beliggenheden ved kajen af Krudtløbsvej er noget helt for sig selv. Hvis man kan lide København, vil man elske denne placering. Her kan se ind over byen fra en vinkel, som det er de færreste forundt at kende, og endnu færre at leve med til daglig. Mens I har vandet som nærmeste nabo sammen med knap 30 andre husbåde, kan I se ind over hovedstaden. Husbåden \" Stenbidderen\" Det er den erfarne husbådsbyggers helt egen bolig, der nu udbydes til salg. Han har stået for mange af husbådene i København og har boet her med sin familie, som han har kræset for med en lang række detaljer. Mon ikke det virker plausibelt, at der på denne 28 meter lange og 5 meter brede båd er skruet ekstra op for lækkerierne. I får walkin-closets i to af boligens tre værelser. Skabe, toiletdøre og andet er designet som en integreret del af væggene. Armaturerne i badeværelset ses sjældent smartere og smukkere. Det samme gælder de 120x60 cm store, italienske fliser, eller den ovale bruser, der er bygget ind i loftet og designet med et vandfald, der passer nøjagtigt til skulderbredden af en normalbygget mand. Installationer er lavet, så de kan tilsluttes IHC-anlæg og dermed styres fra en smarttelefon. Køkkenet er af fabrikatet Kvik og tilpasset til bådens former. I er velkomne om bord til at se resten af denne særlige båd og bolig. Husbåden består af et jern skrog. Alle døre og vinduer er i lærketræ og taget er af glasfiber.   \n",
       "17                                                                                                                                                                                                                                                                                                                                                                                                                                                                                                                                                                                                                                                                                                                                                                                                                                                                                                                                                                                                                                                                                                                                                                                                                                                                                                                                                                                                                                                                                                                                                                                                                                                                                                                                                                                                                    I den græske mytologi blev titaneren Atlas dømt til at bære himlen på sine skuldre til evig tid, fordi han tog den dumme beslutning at kæmpe i krigen mod Zeus, kongen over alle guder og gud over himmel og torden. Pyha, sikken titel, et imponerende visitkort. Men Atlas er også en husbåd med den livløse adresse Søminegraven med Quintus Bastionen på den ene side og flådestation Nyholms fredede bindingsværksbygninger på den anden. Når vi nu er i mytologiernes verden, så lad os da bare skabe en ny mytologi, en dansk mytologi: Husbåden Atlas er kongen over alle husbåde og gud over himmel og torden på Refshaleøen, som bekendt også lægger adresse til restauranterne NOMA og Alchemist. Som tidligere slæbebåd er Atlas i dag bygget om til en uforskammet anderledes Gud og bolig i 2 etager, på ca. 145 m2. En duplex vil landkrabberne kalde den på land. Atlas er tiptopisoleret med gulvvarme og et spritnyt luft-til-vand-varmepumpeanlæg. Nemlig, ingen kuldebroer, ingen vil ingensinde fryse her. Eneste bro er gangbroen fra kajen til dækket, som stort set fylder lige så meget som boligen under dæk. Den maritime stemning, ja, den er her med fortøjningspullerter, runde koøjer, skorsten, morselampe og teak-skylightet på agterdækket. Under dæk er der højt til loftet og de samme lækkerier som i en moderne bolig. Kompromisløst gennemført. Uden bopælspligt, bolig, erhverv, eller bolig og erhverv. Mulighed for privat parkering over for landgangen på den private og lukkede Krudtløbsvej.Alt i København er tæt på, især Christianshavn. Her er hyggelige caféer, gode restauranter, lækre butikker og en fantastisk opera. Vandet er så rent i kanalerne, at mange begynder dagen med en dukkert. Øen er anlagt som befæstningsø af Christian den 4. i begyndelsen af 1600-tallet og fik så stærk en kultur, at den i slutningen af 1630erne blev en selvstændig købstad med privilegier, byvåben og segl. Christianshavnernes markante tilhørsforhold til den lille ø lever i bedste velgående.   \n",
       "18                                                                                                                                                                                                                                                                                                                                                                                                                                                                                                                                                                                                                                                                                                                                                                                                                                                                                                                                                                                                                                                                                                                                                                                                                                                                                                                                                                                                                                                                                                                                                                                                                                                                                                                                                                                                                                                                                                                                                                                                                                                                                                                                                                                                                                                                                                                                                                                                                                                                                                                                                                                                                                                                                                                                                                                                                                                                                                                                                                                                                                                                                                                                                                                                                                                                                                                                                  Husbåd. Velkommen til Skibbroen! Et område i København, der emmer af autenticitet og lokal stemning, men som også har nydt godt af en opblomstring, hvor moderne byggerier og praktiske hverdagsfaciliteter har fundet sin plads i det charmerende havnebillede. Her er indkøb, dagtilbud og skole alt sammen tæt på, hvortil havnebade ligger klar med masser af udendørsaktiviteter, mens Kødbyens mange restauranter er blot en kilometer fra adressen, og resten af byen nemt kan nås enten på cykel, med bus el   \n",
       "19                                                                                                                                                                                                                                                                                                                                                                                                                                                                                                                                                                                                                                                                                                                                                                                                                                                                                                                                                                                                                                                                                                                                                                                                                                                                                                                                                                                                                                                                                                                                                                                                                                                                                                                                                                                                                                                                                                                                             Denne charmerende husbåd med tidligere anvendelse som kanalrundfart i Holland er beliggende i den hyggelige forening Skibbroen som blev stiftet i 1986 og altid har haft plads i det godt gemte havnebassin, Tømmergraven, i Københavns Sydhavn.Foreningens formål har fra starten været at restaurere og vedligeholde gamle skibe – og helst også få dem ud at sejle. Men efterhånden har foreningen fået et mere husbådsagtigt præg, så vi i dag består af 20 meget forskellige husbåde som ligger fast fortøjet og udelukkende fungerer som bolig.Ud over de 20 skibe, som er privat-ejede, råder foreningens medlemmer over en betonpram med fælles faciliteter som et stort værksted, vaskeri, toilet og bad, fællesrum med køkken samt gæsteværelse. Og så ligger havnens hyggeligste cafébåd i bunden af havnebassinet.Husbåden er indeholdende: God for-entre med mulighed for at indrette en spisestue samt nedgang til nedre dæk og et fantastisk værelse med ovenlysvindue og koøjer. Huset hjerte er klart det utrolige charmerende køkken og stue hvor idyllen fører an, her er brændeovn, dejlige store vinduespartier og bevarelse af mange fine originale detaljer. Badeværelse med brus og toilet. Fra stuen har du udgang til en hyggelig sydvendt terrasse og fra køkkenet nedgang til et dejligt stort soveværelse og stort depot/teknikrum med toilet. Foreningen Skibbroen har en lejekontrakt med Københavns Havn, i dag By og Havn, som er med hele 20 års uopsigelighed.Du er beliggende 350 meter fra Fisketorvet hvor der er biograf, indkøb, restauranter og hvad hjertet ellers begærer. Få hundrede meter fra bus og ca. 800 meter til Dybbølsbro st, og til sommer åbner Havneholmen Metro ved Fisketorvet.Når du køber en bolig gennem EDC, har du mulighed for at få en gratis flytteforsikring. Ønsker du denne, skal du sende en mail med \"Ja tak\" til flytteforsikring@gjensidige.dk    \n",
       "20                                                                                                                                                                                                                                                                                                                                                                                                                                                                                                                                                                                                                                                                                                                                                                                                                                                                                                                                                                                                                                                                                                                                                                                                                                                                                                                                                                                                                                                                                                                                                                                                                                                                                                                                                                                                                                                                                                                                                                                                                                                                                                                                                                                                                                                                                                                                                                                                                                                                                                                                                                                                                                                                                                                                                                                                                                                                                                                                                                                                                                                                                                                                                                                                                                                                                                                                                  Når du køber husbåd er selve pladsen mindst lige så vigtig som båden. At der er en lang opsigelse, en fast kontrakt med en klar beskrivelse af eventuelle lejestigninger og ikke mindst en troværdig udlejer. Så start med at fokuser på det når du drømmer om husbåd. Denne husbåd har en kontrakt med 20 års opsigelse, det fremgår af lokalplanen at der skal være husbåde i området, lejen er beskrevet meget præcist og endelig er det By & Havn der er udlejer.Tag med til et smukt hjørne af storbyøen Amager   \n",
       "21                                                                                                                                                                                                                                                                                                                                                                                                                                                                                                                                                                                                                                                                                                                                                                                                                                                                                                                                                                                                                                                                                                                                                                                                                                                                                                                                                                                                                                                                                                                                                                                                                                                                                                                                                                                                                                                                                                                                                                                                                                                                                                                                                                                                                                                                                                                                                                                                                                                                                                                                                                                                                                                                                                                                                                                                                                                                                                                                                                                                                                                                                                                                                                                                                                                                                                                                               På Ben Websters Vej lige ved Teglværksløbet finder man denne fantastiske, men noget utraditionelle bolig, en ekstravagant husbåd med et interiør, der emmer af kvalitetsbevidsthed og livsnydelse. \\nHer kan du indfri drømmen om at bo på vandet midt i byen, tilmed med masser af plads.\\n190 m2 bolig/erhverv kun 20 min. fra Rådhuspladsen og med fri udsigt til vand og himmel på alle sider...\\nLige nu har vi over dæk ét stort rum med maksimalt lysindfald, der er alle installationer til et køkken i den ene   \n",
       "22                                                                                                                                                                                                                                                                                                                                                                                                                                                                                                                                                                                                                                                                                                                                                                                                                                                                                                                                                                                                                                                                                                                                                                                                                                                                                                                                                                                                                                                                                                                                                                                                                                                                                                                                                                                                                                                                                                                                                                                                                                                                                                                                                                                                                                                                                                                                                                                                                                                                                                                                                                                                                                                                                                                                                                                                                                                                                                                                                                                                                                                                                                                                                                                                                                                                                                                                                  Tag med til en skøn perle af en lystbådehavn - nemlig ved Grenaa Strand. Her er direkte udsyn til Kattegat hvor man ligeledes kan udfolde sig naturskønt i baghaven hvor Grenaa Plantage er beliggende, og hvor vandkanten ligger åben for jeres fødder. I disse fantastiske omgivelser kan I blive de heldige ejere af en virkelig lækker og rummelig husbåd ved navn Elin. Det er den helt perfekte husbåd for dig, der måske ikke har beskæftiget dig med husbåde før, for her køber du dig ind i en fantastisk o   \n",
       "23                                                                                                                                                                                                                                                                                                                                                                                                                                                                                                                                                                                                                                                                                                                                                                                                                                                                                                                                                                                                                                                                                                                                                                                                                                                                                                                                                                                                                                                                                                                                                                                                                                                                                                                                                                                                                                                                                                                                                                                                                                                                                                                                                                                                                                                                                                                                                                                                                                                                                                                                                                                                                                                                                                                                                                                                                                                                                                                                                                                                                                                                                                                                                                                                                                                                                                                                                   Denne charmerende hollandske pram fra 1920 har gennemgået en kærlig renovering, og vi er stolteaf at præsentere den som en ægte perle i Københavns husbådekoloni med i alt 15 husbåde.  Foreningen har langtidskontrakt med 20 års opsigelse, hvilket sikrer bådpladsen i denne skønne havn. Området : Området er i rivende udvikling med helt ny skole, Sluseholm Skole, caféer, kommende Metro i 2024 i gå afstand, masser af gode indkøbsmuligheder og butikker på Sluseholmen, samt smuk natur og Amager Fælled   \n",
       "24                                                                                                                                                                                                                                                                                                                                                                                                                                                                                                                                                                                                                                                                                                                                                                                                                                                                                                                                                                                                                                                                                                                                                                                                                                                                                                                                                                                                                                                                                                                                                                                                                                                                                                                                                                                                                                                                                                                                                                                                                                                                                                                                                                                                                                                                                                                                                                                                                                                                                                                                                                                                                                                                                                                                                                                                                                                                                                                                                                                                                                                                                                                                                                                                                                                                                                                                                   HusbådTag med til et smukt hjørne af storbyøen Amager, hvor Amager Fælled udfolder sig naturskønt i baghaven, og hvor der er få hundrede meter til både den nye Metro station og folkeskole  på Sluseholmen. I disse fantastiske omgivelser kan I blive de heldige ejere af en virkelig lækker og rummelig husbåd ved navn My, som kan dateres tilbage til år 1891. Det er den helt perfekte husbåd for dig der måske ikke har beskæftiget dig med husbåde før, for her køber du dig ind i en part af en båd, så du   \n",
       "25                                                                                                                                                                                                                                                                                                                                                                                                                                                                                                                                                                                                                                                                                                                                                                                                                                                                                                                                                                                                                                                                                                                                                                                                                                                                                                                                                                                                                                                                                                                                                                                                                                                                                                                                                                                                                                                                                                                                                                                                                           Vil du bo i HUSBÅD i Maritimt og lækkert nybygget område så er muligheden der på Frederikskaj 2V i Teglværkshavnen med havnepromenade, lystbådehavn, lækkert fælleshus, sauna og shelter på vandet. Her kan du bo blandt alle de nye flotte lejligheder men i en skøn og rummelig Husbåd ved navn MV Susanne. Dette er en unik mulighed da hun har en yderst attraktiv bådplads med en fantastisk udsigt over havnebassinet samtidigt med at det kun er et stenkast fra den kommende Metro, som efter planen er færdig i 2024. Frederikskaj er indbegrebet af maritim metropol med en beliggenhed tæt på Hovedstaden. Her er du beliggende optimalt, uanset om du skal ind til centrum eller ud af byen. F.eks. kommer du hurtigt på motorvejen, der fører direkte til Københavns Lufthavn, Malmø og ikke mindst resten af Danmark. Der er busstoppested lige udenfor bebyggelsen, Sydhavn Station samt havnebussen er indenfor kort afstand. Her er fantastiske bademuligheder, vinterbadelaug med flydende sauna samt kajakklub. Husbåden er indeholdende: Entre med adgang til stort og lækkert køkken alrum med plads til hele familien sammenhængende med en dejlig opholdsstue og rummeligt soveværelse med walk in closet. Fra køkkenet er der lille trappe til fint grovkøkken og bryggers samt adgang til opbevaringsrum. Lækkert badeværelse med jacuzzi og toilet, fra badeværelset er der adgang til hyggeligt værelse samt det oprindelige styrehus. Agterskibet bag styrehuset byder på stue og kahytter i oprindelig aptering. Husbådens dæk er indrettet som stort solterrasse og har et fantastisk kig over området og naturligvis vandet. Når du køber en bolig gennem EDC, har du mulighed for at få en gratis flytteforsikring. Ønsker du denne, skal du sende en mail med \"Ja tak\" til flytteforsikring@gjensidige.dk    \n",
       "26                                                                                                                                                                                                                                                                                                                                                                                                                                                                                                                                                                                                                                                                                                                                                                                                                                                                                                                                                                                                                                                                                                                                                                                                                                                                                                                                                                                                                                                                                                                                                                                                                                                                                                                                                                                                                                                                                                                                                                                                                                                                                                                                                                                                                                                                                                                                                                                                                                                                                                                                                                                                                                                                                                                                                                                                                                                                                                                                                                                                                                                                                                                                                                                                                                                                                                                                                  Livet på en husbådPå Ved Slusen 53A ligger der en anseelig husbåd fortøjet, som består af 3 lejligheder. Det er i den bagerste lejlighed fra 2008 i flere plan, at du nu kan få hjemme. Boligen indeholder et køkken, et soveværelse, en stue og et badeværelse, hvorfor den er helt oplagt til singlen eller et ungt par. Beliggenheden er ufravigelig helt unik og ikke mindst naturskønt med Sluseløbet som din baghave og Amager Fælled på den anden sideDe originale koøjer fra 1910 giver stadig stil og charm   \n",
       "27                                                                                                                                                                                                                                                                                                                                                                                                                                                                                                                                                                                                                                                                                                                                                                                                                                                                                                                                                                                                                                                                                                                                                                                                                                                                                                                                                                                                                    Tiny-house med havudsigt!!- Sommerhus, eller studiebolig - der er masser af muligheder og så kan boligen endda leveres på valgfri adresse! - og der kan leveres flere…\\n\\n*her vist med ekstra udstyr! – Udstyret udgør i dette tilfælde de 2 ekstra sovepladser og kalechen til en merpris på 45.000,- kr. inkl. moms.. \\n\\n\\n\"Seaside Cabin\" er helt nyudviklet og produceret i bæredygtige, lækre, højkvalitets-materialer, i Danmark. De ca. 15 m2 indeholder rummelig helårsisoleret boligdel med alt hvad dertil hører, og skønt stort soldæk, hvor der er god plads til at 4 personer kan nyde havudsigten. I den nye Version nummer 2 er der indrettet markant større indendørs bolig, og alligevel er der fundet plads til stort soldæk\\n\\nSeaside Cabin i Version 2 er - indendørs - udstyret med et multifunktionelt sofaarrangement, som nemt kan ændres til to sovepladser, masser af skabs- og skuffe plads, der er køkken (kabys) med håndvask, køleskab og kogeplade (220V). Der forefindes desuden bad og toilet ombord, og boligen er naturligvis i det hele taget, udnyttet helt ud i alle hjørner. Og under kalechen der de 2 ekstra 175 cm. lange sovepladser - som om dagen er sofa -og i den denne version er der bagudgang, så man kan vende hele herligheden hvilken vej til kajen som man har lyst til\\nDet flydende sommerhus kan evt. give god indtjening ved udlejning af overskydende uger\\n\\n\\nDen fine nye lille bolig ligger nu i lystbådehavnen i charmerende Ærøskøbing på Bro 7, og en tilsvarende kan blive din på reserveret kajplads.\\n\\nFlere fakta:\\n\\n·\\t4 store solpaneler leverer strøm til at være selvforsynende i op til 7 måneder om året, og er udstyret med 220V ladestik, så landstrøm kan forsyne strøm til radiator og el-kogeplade ved behov.\\n\\n·\\tUdstyret med elmotor, og er godkendt af Søfartsstyrelsen til kystnær sejlads (sejlads op til 1500 meter fra kysten), og størrelsen gør at der, fra Søfartsstyrelsen, ikke kræves certifikat for at sejle den.\\n\\n·\\tIkke registreret som husbåd, men et selvfremdrevet fartøj, og dermed betragtet som en mindre motor- eller sejlbåd, hvilket giver adgang til en bådplads i havne, broer og marinaer som disse.\\n\\n·\\tIsoleret med 75 mm. Marine-Rockwool med tapet alufolie i skotter (vægge) og dæk (loft ) og med 150 mm. i dørk (gulv)\\n\\n·\\t\\n\\nVi glæder os til at vise frem, så tøv ikke med at kontakte os for en fremvisning!   \n",
       "28                                                                                                                                                                                                                                                                                                                                                                                                                                                                                                                                                                                        Korshage er en af de karakteristiske danske sort-hvid færger, der gennem årene har betjent Danmarks mange vandpassager og ladet os slå smutveje gennem det ganske land. Korshage er opkaldt efter et smukt lyngklædt område i Rørvig og er et klenodie, der trofast udtjente sin værnepligt mellem Hundested og Rørvig i perioden 1964-1995. Det utrættelige skib blev bygget i 1964 på Holbæk Skibsværft med brug af bøge -og egestammer fra Dragerup Skov. Efter godt 30 års tro tjeneste blev Korshage flittigt benyttet til selskaber og udflugtssejlads på Isefjorden, indtil hun overgik til nye kreative hænder, der forvandlede hende til en moderne bolig i form af en fantastisk charmerende husbåd.Korshage er 30,5 meter lang og blev i sin tid godkendt til 20 personbiler og 110 passagerer - så størrelsesmæssigt var mulighederne for at skabe en større husbåd til stede. Den gennemgribende ombygning foregik fra 2013-2015, hvor forvandlingen blev håndhævet med respekt for de originale detaljer. Transformationen fra en åben bildæksfærge til et moderne og tidssvarende designerhjem med i alt 195 m2 etagemeter er gået op i en højere enhed og med den måske bedste fortøjning midt i Københavns Havn med storslået udsigt ned gennem havneløbet, Skuespilhuset, BLOX og Operaen er Korshage ganske enkelt drømmen om en stor husbåd på Christianshavn.  De 135 kvadratmeter flydende boligareal fordeler sig på et moderne stort køkkenalrum i forlængelse af stor stue, 2 store værelser - det ene med walk-in closet og det andet med the-køkken og eget badeværelse - endnu et stort badeværelse, disponibelt rum og entré. Korshage har to store terrasser. Den ene på fordækket og den anden agterdækket, hvilket giver helt optimale betingelser for at ramme solens stråler gennem dagen og aftenen, hvor den uhindret finder vej grundet beliggenheden ud til det brede havneløb.Under dækket befinder der sig 60 m2 alrum med plads til overnattende gæster, stort disponibelt rum, bryggers, teknikrum, og værksted. Øverst oppe troner det gode gamle styrrum, som er bevaret med alt det originale udstyr og betjeningspaneler. Styrrummet kan indrettes efter behov og meget vel forvandles til et kontor eller gæsteværelse med måske Københavns bedste udsigt. Isoleringen er tidssvarende og svarer til 250 mm rockwool i væggene og 350 mm i loftet. Derudover er der er indlagt varmeslanger i alle gulve både over og under dæk som forberedelse til en varmepumpe, der kan trække varme fra havet. Alle vinduer er ligeledes udskiftet med tre-lags energiruder i fin overensstemmelse med færgens oprindelige vinduesmål, ligesom de fem koøjer har fået forsatsvinduer installeret. Solidt fortøjret i hjertet af København vugger hverdagen afbalanceret med en central og tæt på alt-placering. Kajpladsen er for enden af en hyggelig brostensbelagt sidegade til Strandgade og ligger i rolige omgivelser med kort vej til Indre by over cykelbroen. Korshage er en lys, moderne og fantastisk husbåd, der samtidig kan bryste sig af ikke at have bopælspligt. Det skaber fleksible anvendelsesmuligheder, hvor Korshage både kan udfylde rollen som helårsbolig, sommerhus eller erhverv.Velkommen ombord på Korshage.   \n",
       "29                                                                                                                                                                                                                                                                                                                                                                                                                                                                                                                                                                                                                                                                                                                                                                                                                                                                                                                                                                                                                                                                                                                                                                                                                                                                                                                                                                                                                                                                                                                                                                                                                                                                                                                                                                                                                                                                                                                                                                                                                                                                                                                                                                                                                                                                                                                                                                                                                                                                                                                                                                                                                                                                                                                                                                                                                                                                                                                                                                                                                                                                                                                                                                                                                                                                                                                                                 Nyere lejlighed ved vandet. Panorama kig. Vestvendt altan. Ideel planløsning.\\nDrømmer man om at bo centralt i København, i et maritimt miljø omgivet af Københavns Havn og hyggelige kanaler, så skal denne eksklusive lejlighed opleves. Frisk havluft og ingen trafiklarm, placeret tæt på Fisketorvet, metro, S-tog og havnebussen, med blot 10 minutter på cyklen til rådhuspladsen. Denne lejlighed har dejlig altan mod vest med masser sol. Flot kig til Engholmenes hyggelige kanaler og husbåd havn. Perfek   \n",
       "30                                                                                                                                                                                                                                                                                                                                                                                                                                                                                                                                                                                                                                                                                                                                                                                                                                                                                                                                                                                                                                                                                                                                                                                                                                                                                                                                                                                                                                                                                                                                                                                                                                                                                                                                                                                                                                                                                                                                                                                                                                                                                                                                                                                                                                                                                                                                                                                                                                                                                                                                                                                                                                                                                                                                                                                                                                                                                                                                                                                                                                                                                                                                                                                                                                                                                                                                                  I første parket til Masteskurenes fredede arkitektur og med fantastisk udsigt til både den nye Operapark og selve Operaen ligger jeres nye hjem – og et helt særligt et af slagsen! På denne suveræne beliggenhed kan I nemlig folde tilværelsen ud til vands, for I skal se nærmere på en moderne husbåd, der tilbyder jer et liv fyldt med tidssvarende komfort, men med vand til alle sider. Det er en husbåd med et strømlinet ydre, der ligger og spejler sig her i kanalen. Den kan bedst beskrives som en mod   \n",
       "31                                                                                                                                                                                                                                                                                                                                                                                                                                                                                                                                                                                                                                                                                                                                                                                                                                                                                                                                                                                                                                                                                                                                                                                                                                                                                                                                                                                                                                                                                                                                                                                                                                                                                                                                                                                                                                                                                                                                                                                                                                                                                                                                                                                                                                                                                                                                                                                                                                                                                                                                                                                                                                                                                                                                                                                                                                                                                                                                                                                                                                                                                                                                                                                                                                                                                                                                               ATTRAKTIV 2 VÆR. MED VESTVENDT ALTAN\\n\\nLEJLIGHED: Her får man både udsigt til kanal, bådehavn og husbåde – et virkelig hyggeligt maritimt miljø. Man har gåafstand til to metrostationer, som netop er åbnet, hurtig adgang til lufthavnen, det maritime miljø omkring Københavns Havn, caféer, restauranter, Kødbyen på Vesterbro og indre by. Du er i gå og cykelafstand til alt i København. \\nHer får man en dejlig 2 vær. med vestvendt altan. Stort badeværelse med sep. brus, unidrain, væghængt toilet, spotlo   \n",
       "32  Nu har du en enestående mulighed for at blive ejeren af et totalrenoveret historisk skib fra 1930, der ligger til kaj på én af de absolut bedste kajpladser på Refshaleøen. Pionier kan - med sin charmerende modernisering og historiske særpræg, anvendes som husbåd, eventskib, dinnercruise, rundture i området, kontor, showroom eller lignende.Refshaleøen er kendt for sine mange restauranter og kulturelle tilbud. En kort cykeltur tager dig til Christianshavn og videre til Indre By via cykelbroen. Københavns charmerende byliv med caféer, restauranter og butikker ligger lige for dine fødder. Området byder på gode busforbindelser - både havnebus og normal bus - og offentlig transport, så du nemt kan komme rundt i byen.Med sine 80 m² boligareal tilbyder Pionier både komfort og stil. Skibet er blevet totalt moderniseret i 2008 og fremtræder i flot stand, fordi det nænsomt er vedligeholdt efter alle kunstens regler.For- og agterdækket er perfekte til at nyde sommermånederne med en dejlig udsigt til blandt andet Sixtus Bastionen og kongeskibet Dannebrog. Der er også masser af muligheder for at sejle en tur og udforske området fra vandet. Pionier tilbyder ikke kun en unik bolig, men også drømmen af en livstil.Pionier indeholder stue, spisestue i åben forbindelse med køkkenet og den gamle salon, der i dag er en kahyt med 2 sovepladser. Derudover en ekstra kahyt, badeværelse, toilet og motorrum.Hyggelig stue med brændeovn, maritim atmosfære, fantastisk udsigt og plads til hele familien. Skibet er fyldt med et væld af maritime detaljer. I hele skibet - både inde og ude - er der lagt maritime skibsgulve. Indenfor er der etableret fine høje paneler i det samme flotte træværk som i resten af interiøret. Derudover er der i spisestuen og salonen fine væglamper i glas specielt designet til Pionier, hvilket forestiller en muslingeskal magen til Shells logo fra 1930.Spisestuen, som vi kalder kabyssen, rummer både et fuldt udstyret køkken med ovn, komfur, køleskab og lille opvaskemaskine samt en hyggelig spiseafdeling.Salonen, som nu er indrettet som en kahyt med to sovepladser, har direkte udgang til en mindre agterbalkon med bænke, hvor du kan nyde en afslappende stund med udsigt over vandet.En ekstra kahyt med to sovepladser tilbyder endnu mere plads til overnattende gæster eller familie.Badeværelset er velholdt og udstyret med en stor bruseniche, fine armaturer, gulvvarme og et charmerende koøje.Det separate toilet er også veludstyret med en lille vask, fint armatur, gulvvarme og et koøje, hvilket sikrer en høj komfort ombord.Motorrummet står flot og både generator og motor er fuldstændig renoveret i februar 2024. Pionier er drevet af en kraftig 247 hestes DAF skibsmotor, hvilket sikrer at skibet sejler som en drøm.Pionier I blev bygget i 1930 på Boeles skibsværftet i Rotterdam og bestilt af Royal Dutch Petroleum (nu Shell) til brug for selskabets direktion. Med sit nittede og svejsede skrog samt en dieselmotor, var Pionier I en pionér inden for moderne skibskonstruktioner. Skibet blev brugt til at transportere Shells direktion og ledende medarbejdere mellem Vlaardingen og Pernis, og dets historie inkluderer prominente personer som Henri Deterding, \"Oliens Napoleon.\" Efter sin tjeneste for Shell blev Pionier I først brugt som lystfartøj og senere som restaurationsskib. I 2008 blev skibet nænsomt restaureret af arkitektfirmaet Plusform, og det fremstår nu stort set som i dets oprindelige glansperiode.Pionier I er mere end bare et skib; det er et stykke historie og en livsstil på vandet. Dette velholdte skib med flotte maritime detaljer venter på den rette ejer, der vil værdsætte den unikke charme og de mangeanvendelsesmuligheder, som Pionier I tilbyder.Velkommen ombord!   \n",
       "33                                                                                                                                                                                                                                                                                                                                                                                                                                                                                                                                                                                                                                                                                                                                                                                                                                                                                                                                                                                                                                                                                                                                                                                                                                                                                                                                                                                                                                                                                                                                                                                                                                                                                                                                                                                                                                                                                                                                                                                                                                                                                                                                                                                                                                                                                                                                                                                                                                                                                                                                                                                                                                                                                                                                                                                                                                                                                                                                                                                                                                                                                                                                                                                                                                                                                                                                                  Drømmer du om en unik livsstil på vandet?Velkommen til Molen 7 ved Bork Havn – en fantastisk husbåd, der tilbyder en usammenlignelig oplevelse af livet på vandet. Denne enestående bolig kombinerer komfort og luksus med en fantastisk beliggenhed og panoramaudsigt.Denne husbåd byder på 3 rummelige og velindrettede værelser, der giver rigelig plads til hele familien eller dine nærmeste. De store vinduespartier sikrer masser af naturligt lys og en vidunderlig udsigt fra næsten alle rum.De to moderne   \n",
       "34                                                                                                                                                                                                                                                                                                                                                                                                                                                                                                                                                                                                                                                                                                                                                                                                                                                                                                                                                                                                                                                                                                                                                                                                                                                                                                                                                                                                                                                                                                                                                                                                                                                                                                                                                                                                                                                                                                                                                                                                                                                                                                                                                                                                                                                                                                                                                                                                                                                                                                                                                                                                                                                                                                                                                                                                                                                                                                                                                                                                                                                                                                                                                                                                                                                                                                                                                  Hvis I ynder at være omgivet af den friske luft og lyden af bølgeskvulp, så er det måske en husbåd, I skal investere i. Vi har nemlig fået den enestående mulighed at udbyde et helt fantastisk og topmoderne hjem, der ligger med én af de allerbedste placeringer i havnen: lige mellem Papirøen og Operaen og med den smukkeste udsigt over havnen til Amalienborg, Marmorkirken m.m. Aurora blev bygget i Belgien i 2006, hvor bygherre krævede den perfekte kombination af båd og bolig. Straks man stiger ombo   \n",
       "35                                                                                                                                                                                                                                                                                                                                                                                                                                                                                                                                                                                                                                                                                                                                                                                                                                                                                                                                                                                                                                                                                                                                                                                                                                                                                                                                                                                                                                                                                                                                                                                                                                                                                                                                                                                                                                                                                                                                                                                                                                                                                                                                                                                                                                                                                                                                                                                                                                                                                                                                                                                                                                                                                                                                                                                                                                                                                                                                                                                                                                                                                                                                                                                                                                                                                                                                                Husbåd.Få den ultimative frihed ved at kunne drage fra kaj og sejle jorden rundt – samtidig med at du har en eftertragtet bådplads på Christianshavn. Alt sammen med dette veludstyrede sejlskib. \\n\\nS/Y Valhalla er et tidligere skoleskib der har haft sine togter ved de afrikanske kyster, og har gennem de seneste 15 år gennemgået en nær totalrenovering, der resultere i en fuldt funktionel feriebolig med otte sovepladser, gulvvarme, genvækst system, bad og toilet samt køkken med blandt andet induk   \n",
       "36                                                                                                                                                                                                                                                                                                                                                                                                                                                                                                                                                                                                                                                                                                                                                                                                                                                                                                                                                                                                                                                                                                                                                                                                                                                                                                                                                                                                                                                                                                                                                                                                                                                                                                                                                                                                                                                                                   Udsigt til Kastellet, solide materialer, mange kvadratmeter og en fantastisk placering nær alt det bedste, som Refshaleøen har at byde på. Det er, hvad I får med denne husbåd på Refshalevej 169E. Her mødes I af et rødmalet fyrskib med dobbeltskrog bygget af fem centimeter tykke egeplanker, og indenfor venter en planløsning på intet mindre end 400 kvadratmeter. I sandhed en bolig med spændende muligheder for både udlejning og for at skabe et unikt drømmehjem med masser af plads.Husbådens hjerte er køkken-alrummet i forskibet, hvor egeplanker virkelig kommer til deres ret og bidrager til den herlige atmosfære i rummet, der har god plads til både en spiseafdeling og et blødt sofaarrangement til hyggestunderne. De resterende kvadratmeter fordeler sig mellem ti værelser og et rimeligt antal badeværelser og toiletter, hvilket gør husbåden til en oplagt investeringsejendom for købere, der ønsker at udvide portfolioen med en enestående udlejningsejendom. Har I derimod selv en drøm om at bo på vandet, kan I nemt tilpasse husbåden til jeres behov, åbne rummene op og skabe et hjem med fantastisk flow og en behagelig gennemstrømning af lys. Om sommeren kan I nyde det varme vejr på de to soldæk både for og agter på skibet, der lader jer følge solens bane og giver jer den skønneste udsigt over vandet til Langelinie og Kastellet.Refshaleøens maritime kvarterer byder på et væld af udsøgte spisesteder, kulturoplevelser og alskens fritidsaktiviteter, som spænder over alt fra klatring til kajakroning. Vandhunde kan bade i det nærliggende Refshalebassin, og voldenes dejlige natur indbyder til lange gå- og løbeture. Pendlingen til midtbyen klares hurtigt med bus, på cykel eller over vandet i havnebussen.Pt. er båden indrettet med 10 små værelser som er udlejet. Årlig leje udgør kr. 628.200,-Kontakt os for yderligere oplysninger og besigtigelse. Kai Ekman fra Ekman Bolig kan kontaktes på 22811033   \n",
       "37                                                                                                                                                                                                                                                                                                                                                                                                                                                                                                                                                                                                                                                                                                                                                                                                                                                                                                                                                                                                                                                                                                                                                                                                                                                                                                                                                                                                                                                                                                                                                                                                                                                                                                                                                                                                                                                                                                                                                                                                                                                                                                                                                                                                                                                                                                                                                                                                                                                                                                                                                                                                                                                                                                                                                                                                                                                                                                                                                                                                                                                                                                                                                                                                                                                                                                                                                Husbåd med andelsplads i Ishøj Havn.Så er det muligt at erhverve en skøn, sejlende husbåd, der i 2020 fik en gennemgående renovering, således er Hele skroget op til vandlinjen blevet med 10mm. ny glasfiber, incl. ny bundbehandling, alt på hoved dækket er blevet fornyet: køkken, loft, gulv, vægge og vinduer. 2 af 3 værelser har fået samme tur, under dæk er der lagt nye gulvtæpper og endelig er terrassen på flybridge genopbygget helt fra bunden.  \\n\\nIndretningen byder på stor stue/køkken/styrehus u   \n",
       "38                                                                                                                                                                                                                                                                                                                                                                                                                                                                                                                                                                                                                                                                                                                                                                                                                                                                                                                                                                                                                                                                                                                                                                                                                                                                                                                                                                                                                                                                                                                                                                                                                                                                                                                                                                                                                                                                                                                                                                                                                                                                                                                                                                                                                                                                                                                                                                                                                                                                                                                                                                                                                                                                                                                                                                                                                                                                                                                                                                                                                                                                                                                                                                                                                                                                                                                                                  Din drøm om at bo på vandet bliver til virkelighed med denne enestående husbåd, der pryder Molen 11 ved Bork Havn. Denne husbåd blev bygget i 2005 og tilbyder en usammenlignelig maritim oplevelse. Fra de tre terrasser kan du observere livet på fjorden, nyde den friske havluft og opleve den spektakulære panoramaudsigt, der strækker sig fra Tipperne fuglereservatet til sandklitterne ved Vesterhavet. Indendørs vil du finde et rummeligt og praktisk interiør, der opfylder dine behov på en imponerende   \n",
       "39                                                                                                                                                                                                                                                                                                                                                                                                                                                                                                                                                                                                                                                                                                                                                                                                                                                                                                                                                                                                                                                                                                                                                                                                                                                                                                                                                                                                                                                                                                                                                                                                                                                                                                                                                                                                                                                                                                                                                 At bo i hus på vandet. Det er svært at forestille sig en bedre disponeret husbåd på 140m2, der forener livet på vandet med en moderne boligkomfort. Et hjem på vandet er en livsstil, hvor mulighederne er lig med drømmende. Drømmen om et morgendyp året rundt, eller sætte sig direkte i kajakken og sejle gennem kanalerne. Husbåden er skønt beliggende i hjertet af Teglholmen, der er et af de mest progressive kvarterer i København, der i hastige skridt er ved at udvikle sig til en af byens moderne oaser. Pakhuse, gammel industri og moderne beboelse forener sig på tværs af hinandens tilstedeværelse, mens kanalerne på kryds og tværs sætter rammen for et hyggeligt og charmerende husbådsmiljø. Husbåden er opført som en moderne luksusvilla med alt hvad man med rimelighed kan ønske sig. Entré til hyggeligt terrasseområde på ca. 25 m2, hvorfra der er adgang til bådens store og højloftede stue med brændeovn. Herfra trappe til repos, hyggeligt og moderne indrettet køkkenalrum med udgang til højere beliggende terrasseområde, som er uderum i sommerhalvåret. Fra repos er der udgang til det øverste dæk, som er indrettet som stor solterrasse på ca. 45 m2 med mulighed for udendørs køkken. Desuden toilet og depotrum/spisekammer. I bådens stueplan er der fra opholdsstuen mellemgang til fire værelser; tre gode værelser og et værelse med hems og indbygget vaskerum. Derudover walk-in og badeværelse med brus og toilet. Tilmed har husbåden et kælderrum på størrelse med stueplan. Boligkomforten her bliver kun understreget af, at der er gulvvarme i alle rum. Husbåden har en længde på 21,3 meter og en bredde på 7,7 meter. En gennemført lækker bolig for det pladskrævende par eller en familie, som ønsker at bo på vandet, midt i Teglholmen, tæt på Enghave Brygge metrostation, tæt på indkøb, tæt på centrum og alligevel langt fra byens hektiske liv.   \n",
       "40                                                                                                                                                                                                                                                                                                                                                                                                                                                                                                                                                                                                                                                                                                                                                                                                                                                                                                                                                                                                                                                                                                                                                                                                                                                                                                                                                                                                                                                                                                                                                                                                                                                                                                                                                                                                                                                                                                                                                                                                                                                                                                                                                                                                                                                                                                                                                                                                                                                                                                                                                                                                                                                                                                                                                                                                                                                                                                                                                                                                                                                                                                                                                                                                                                                                                                                                                  Moderniseret lejlighed på husbåd ved SluseløbetFlydende på vandet ved Slusen, et stensmut fra Amager Fælled, ligger denne husbåd, hvor I nu har mulighed for at bo på en anderledes måde. Båden er inddelt i tre lejligheder, og denne i midten er særdeles indbydende og moderne. Etagen over dæk er bygget til i 2015 og renoveret i 2021, og her venter et åbent køkken-alrum, mens etagen under dæk er indrettet med et værelse, en stue og et badeværelse. Dertil hører en flydende terrasse samt en tagterrass   \n",
       "41                                                                                                                                                                                                                                                                                                                                                                                                                                                                                                                                                                                                                                                                                                                                                                                                                                                                                                                                                                                                                                                                                                                                                                                                                                                                                                                                                                                                                                                                                                                                                                                                                                                                                                                                                                                                                                                                                                                                                                                                                                                                                                                                            Viva bedre kendt som Showboat fra tv-serien Klovn, er en af Københavns mest ikoniske og historiske restaurationsbåde. Beliggende langs havneforløbet på Langebrogade, giver denne unikke båd en enestående kombination af charme, historie og moderne komfort.\\nMed sin karakteristiske facade og imponerende beliggenhed ved vandet er Viva den ideelle restaurationsbåd til brug for større selskaber eller restaurant.  Denne smukt designede restaurationsbåd kombinerer det bedste fra to verdener: den maritime atmosfære og den pulserende bylivsstil. Her er der plads til både større og mindre selskaber.\\nIndvendigt byder Viva på et moderne og stilfuldt interiør, der samtidig bevarer sin autentiske charme. Hver detalje er omhyggeligt udvalgt for at skabe en indbydende og behagelig atmosfære, der indbyder til hyggelige arrangementer. Her træder man direkte ind til panoramaudsigt over kanalen og København By. Her bliver gæsterne budt velkommen til en unik og charmerende spiseoplevelse. \\nFra soldækket kan man nyde solnedgangen over vandet og observere det pulserende byliv, der passerer forbi. På soldækket er der endnu en bar, hvor gæsterne kan serviceres og med elevator direkte ned til køkkenet. Fantastisk tag soldæk med lounge møbler hvor kan slænge sig og nyde udsigten.  \\nI kælderen har man det store industrikøkken med et større kølerum og madelevator, som kan transportere maden til både stueetagen og dæk så man ikke skal op og ned ad trapperne. Dertil industri opvaskemaskine, med massere funktionel plads. Derudover byder kælderen på opbevaringsmuligheder og restaurantens 4 toiletter. Husbåd ombygget til restaurationsbåd\\n\\n\\n\\nVelkommen ombord.   \n",
       "42                                                                                                                                                                                                                                                                                                                                                                                                                                                                                                                                                                                                                                                                                                                                                                                                                                                                                                                                                                                                                                                                                                                                                                                                                                                                                                                                                                                                                                                                                                                                                                                                                                                                                                                                                                                                                                                                                                                                                                                                                                                                                                                                                                                                                                     På Havnevej 49C finder man denne fantastiske, men noget utraditionelle bolig, en helt særlig husbåd fra Waterliving. I modsætning til de fleste husbåde, er den bygget som bolig på vandet, og ikke en båd, som er ombygget til bolig. Dette kommer i særdeleshed til udtryk i indretningen, materialevalget, komforten, planløsningen, interiør, mv. Båden sejlede ud af værftet tilbage i 2006 og er isoleret efter daværende forhold - dvs. bedre end de fleste husbåde. Herudover er der gulvvarme og båden opvarmes med centralvarme via en varmepumpe - som man kender det fra moderne huse.Her er 160 m2 fordelt på stueplan og 1 sal. Her er ingen skråvægge samt en god lofthøjde og masser af lys fra de mange store vinduer. Dette er med til at gøre, at man får maksimal udbytte af omgivelserne og udsigten, uanset hvilket rum man befinder sig i. Der er adskillige udgange til terrasser, der omkranser boligen. Boligen har tre gode værelser samt stort køkken alrum, smuk hall samt to badeværelser. Der er koblet el, offentlig vand og kloak til båden, samt fibernet. Boligen er registeret skibsregisteret og er derfor flytbar, såfremt køber ønsker dette.Som brugsret til havnepladsen findes her to parkeringspladser, samt lille bådhus/udhus og et fællesareal med mulighed for grill og bålplads. Her er bænke mv. og må kun benyttes af områdets havepladslejere med i alt 8 husbåde. Her er et godt sammenhold husbådsejerne imellem med både sociale aktiviteter og praktisk hjælp til hinanden. Liebhaverboliger finder du hos ejendomsmægler Pernille Sams. Vi sælger liebhaveri i særklasse.   \n",
       "43                                                                                                                                                                                                                                                                                                                                                                                                                                                                                                                                                                                                                                                                                                                                                                                                                                                                                                                                                                                                                                                                                                                                                                                                                                                                                                                                                                                                                                                                                                                                                                                                                                                                                                                                                                                                                                                                                                                                                                     Lejligheden: Når du træder ind i boligens entré, åbner det store, lyse køkken-alrum sig op foran dig. Store vinduespartier lukker det naturlige lys ind og byder det maritime nærmiljø velkommen. Stuen har udgang til begge boligens altaner, som er henholdsvis sydøst- og sydvestvendte, og sammenlagt byder de på mere end 20 kvm, oplagt til varme sommeraftener. Køkkenet står flot med hvide fronter samt gode hvidevarer. Du får rig mulighed for at indrette alrummet med både spisebord og sofaarrangement. Lejlighedens yderligere 3 værelser byder på mulighed for skabsplads, udsigt, og det ene værelse byder på et walk-in closet/depotrum. Til sidst får du et badeværelse med bruseniche samt vaskesøjle.Ejendommen: Lejligheden ligger i det arkitektoniske byggeri på Frederikskaj, tegnet af arkitekthuset Holscher Nordberg, hvor der er stor fokus på det maritime nærmiljø. Ejendommene er derfor designet, så alle får så god en udsigt som muligt. De grønne arealer er formet som en kyst med græsser og buske, som vi kender det fra kystlandskaber. Husbåde og bådpladser ved havnepromenaden er også med til at skabe den rigtige maritime stemning. Til bebyggelsen hører eget fælleshus, placeret på en mole ude i vandet. Fælleshuset indeholder blandt andet et stort festlokale samt gæstelejligheder med bad og et lille \"kajakhotel\", hvor der er sauna. Der er desuden mulighed for bådpladser.Området: Sydhavnen byder på mange indkøbsmuligheder samt masser af natur og vand. Hvis du hopper på cyklen, er der blot 10 minutter til Københavns Hovedbanegård, Fisketorvet, og let mulighed for at fortsætte længere ind mod indre by. Desuden ligger lejligheden ved siden af den nye Metro M5 med planlagt åbningsdag den 22. juni. Hvis du cykler igennem det Gamle Sydhavn, kommer du hurtigt til Valbyparken, som byder på ro i de grønne omgivelser.   \n",
       "44                                                                                                                                                                                                                                                                                                                                                                                                                                                                                                                                                                                                                                                                                                                                                                                                                                                                                                                                                                                                                                                                                                                                                                                                                                                                                                                                                                                                                                                                                                                                                                                                                                                                                                                                                                                                Vi slynger ikke om os med fraser, ligesom vi ikke misbruger ord som \"unik\" for at tale en bolig op. I dette tilfælde er der dog god grund til at grave dybt efter alle de mest flatterende superlativer, for det er i sandhed en enestående sommerresidens, der nu kan blive jeres. Vuggende i Køge Bugt er \"Casa Fluentis\" fortøjet. Husbåden er et unikum, der forener livet på vandet med den rene luksus, og her venter foruden muligheden for at udforske de danske farvande rene linjer, æstetik og kvalitet fra inderst til yderst.Det flydende sommerhus i stål er bygget på Hvidesande Skibsværft, og det kræver blot et duelighedsbevis for at manøvrere skibet rundt langs kysten. Mens styrmanden tager sin tørn ved roret, kan resten af besætningen med fordel indtage en plads på det store soldæk, som omfavner enhver trang til at læne sig tilbage og bare nyde tilværelsen og øjeblikket. Et niveau længere nede har I ydermere en overdækket terrasse. De indre rammer står knivskarpe med et moderne og lyst udtryk. Køkkenet er fra Uno form med fingertappede fronter og lyst træ, og i åben forbindelse har I det resterende opholdsrum, hvor den evigt foranderlige udsigt til omgivelserne naturligvis er i centrum. Fordelingsgangen leder til et nydeligt badeværelse med brus samt to værelser med god plads, masser af udsigt og skabsløsninger. Med en husbåd som denne ligger verden for jeres fødder, og livet på havet kalder på eventyr, opdagelse og nye steder. Når I ikke er på farten, men ligger fast forankret, er det især de naturskønne omgivelser, der gør indtryk. Blikket kan glide over bølgerne i Køge Bugt eller finde ro i det stille vand i Lille Vejlesø på den anden side, hvor Strandengene ved Hundige og De Glemte Kæmper bryder det blå tæppe. Længere inde på fastlandet finder I offentlig transport, indkøbsmuligheder, svømmehal og meget mere inden for en radius af tre kilometer, og turen til hovedstaden kan på en god dag sågar tilbagelægges på cykel med under 18 kilometer til Hovedbanegården.   \n",
       "45                                                                                                                                                                                                                                                                                                                                                                                                                                                                                                                                                                                                                                                                                                                                                                                                                                                                                                                                                                                                                                                                                                                                                                                                                                                                                                                                                                                                                                                                                                                                                                                                                                                                                                                                                                                                                                                                                                                                                                                                                                                                                     Husbåd til livsnydere og jeres børn Denne husbåd er beliggende på en af Københavns historiske bastioner på Holmen, lige dér hvor forsvaret for flere hundrede år siden besluttede, at Københavns skulle forsvares fra. Her kunne man se ud over havet og ind over byen, så fjender kunne holdes på afstand. Beliggenheden ved kajen af Krudtløbsvej er noget helt for sig selv. Hvis man kan lide København, vil man elske denne placering. Her kan se ind over byen fra en vinkel, som det er de færreste forundt at kende, og endnu færre at leve med til daglig. Mens I har vandet som nærmeste nabo sammen med knap 30 andre husbåde, kan I se ind over hovedstaden. Husbåden \" Stenbidderen\" Det er den erfarne husbådsbyggers helt egen bolig, der nu udbydes til salg. Han har stået for mange af husbådene i København og har boet her med sin familie, som han har kræset for med en lang række detaljer. Mon ikke det virker plausibelt, at der på denne 28 meter lange og 5 meter brede båd er skruet ekstra op for lækkerierne. I får walkin-closets i to af boligens tre værelser. Skabe, toiletdøre og andet er designet som en integreret del af væggene. Armaturerne i badeværelset ses sjældent smartere og smukkere. Det samme gælder de 120x60 cm store, italienske fliser, eller den ovale bruser, der er bygget ind i loftet og designet med et vandfald, der passer nøjagtigt til skulderbredden af en normalbygget mand. Installationer er lavet, så de kan tilsluttes IHC-anlæg og dermed styres fra en smarttelefon. Køkkenet er af fabrikatet Kvik og tilpasset til bådens former. I er velkomne om bord til at se resten af denne særlige båd og bolig. Husbåden består af et jern skrog. Alle døre og vinduer er i lærketræ og taget er af glasfiber.   \n",
       "46                                                                                                                                                                                                                                                                                                                                                                                                                                                                                                                                                                                                                                                                                                                                                                                                                                                                                                                                                                                                                                                                                                                                                                                                                                                                                                                                                                                                                                                                                                                                                                                                                                                                                                                                                                                                                    I den græske mytologi blev titaneren Atlas dømt til at bære himlen på sine skuldre til evig tid, fordi han tog den dumme beslutning at kæmpe i krigen mod Zeus, kongen over alle guder og gud over himmel og torden. Pyha, sikken titel, et imponerende visitkort. Men Atlas er også en husbåd med den livløse adresse Søminegraven med Quintus Bastionen på den ene side og flådestation Nyholms fredede bindingsværksbygninger på den anden. Når vi nu er i mytologiernes verden, så lad os da bare skabe en ny mytologi, en dansk mytologi: Husbåden Atlas er kongen over alle husbåde og gud over himmel og torden på Refshaleøen, som bekendt også lægger adresse til restauranterne NOMA og Alchemist. Som tidligere slæbebåd er Atlas i dag bygget om til en uforskammet anderledes Gud og bolig i 2 etager, på ca. 145 m2. En duplex vil landkrabberne kalde den på land. Atlas er tiptopisoleret med gulvvarme og et spritnyt luft-til-vand-varmepumpeanlæg. Nemlig, ingen kuldebroer, ingen vil ingensinde fryse her. Eneste bro er gangbroen fra kajen til dækket, som stort set fylder lige så meget som boligen under dæk. Den maritime stemning, ja, den er her med fortøjningspullerter, runde koøjer, skorsten, morselampe og teak-skylightet på agterdækket. Under dæk er der højt til loftet og de samme lækkerier som i en moderne bolig. Kompromisløst gennemført. Uden bopælspligt, bolig, erhverv, eller bolig og erhverv. Mulighed for privat parkering over for landgangen på den private og lukkede Krudtløbsvej.Alt i København er tæt på, især Christianshavn. Her er hyggelige caféer, gode restauranter, lækre butikker og en fantastisk opera. Vandet er så rent i kanalerne, at mange begynder dagen med en dukkert. Øen er anlagt som befæstningsø af Christian den 4. i begyndelsen af 1600-tallet og fik så stærk en kultur, at den i slutningen af 1630erne blev en selvstændig købstad med privilegier, byvåben og segl. Christianshavnernes markante tilhørsforhold til den lille ø lever i bedste velgående.   \n",
       "47                                                                                                                                                                                                                                                                                                                                                                                                                                                                                                                                                                                                                                                                                                                                                                                                                                                                                                                                                                                                                                                                                                                                                                                                                                                                                                                                                                                                                                                                                                                                                                                                                                                                                                                                                                                                                                                                                                                                                                                                                                                                                                                                                                                                                                                                                                                                                                                                                                                                                                                                                                                                                                                                                                                                                                                                                                                                                                                                                                                                                                                                                                                                                                                                                                                                                                                                                  Husbåd. Velkommen til Skibbroen! Et område i København, der emmer af autenticitet og lokal stemning, men som også har nydt godt af en opblomstring, hvor moderne byggerier og praktiske hverdagsfaciliteter har fundet sin plads i det charmerende havnebillede. Her er indkøb, dagtilbud og skole alt sammen tæt på, hvortil havnebade ligger klar med masser af udendørsaktiviteter, mens Kødbyens mange restauranter er blot en kilometer fra adressen, og resten af byen nemt kan nås enten på cykel, med bus el   \n",
       "48                                                                                                                                                                                                                                                                                                                                                                                                                                                                                                                                                                                                                                                                                                                                                                                                                                                                                                                                                                                                                                                                                                                                                                                                                                                                                                                                                                                                                                                                                                                                                                                                                                                                                                                                                                                                                                                                                                                                             Denne charmerende husbåd med tidligere anvendelse som kanalrundfart i Holland er beliggende i den hyggelige forening Skibbroen som blev stiftet i 1986 og altid har haft plads i det godt gemte havnebassin, Tømmergraven, i Københavns Sydhavn.Foreningens formål har fra starten været at restaurere og vedligeholde gamle skibe – og helst også få dem ud at sejle. Men efterhånden har foreningen fået et mere husbådsagtigt præg, så vi i dag består af 20 meget forskellige husbåde som ligger fast fortøjet og udelukkende fungerer som bolig.Ud over de 20 skibe, som er privat-ejede, råder foreningens medlemmer over en betonpram med fælles faciliteter som et stort værksted, vaskeri, toilet og bad, fællesrum med køkken samt gæsteværelse. Og så ligger havnens hyggeligste cafébåd i bunden af havnebassinet.Husbåden er indeholdende: God for-entre med mulighed for at indrette en spisestue samt nedgang til nedre dæk og et fantastisk værelse med ovenlysvindue og koøjer. Huset hjerte er klart det utrolige charmerende køkken og stue hvor idyllen fører an, her er brændeovn, dejlige store vinduespartier og bevarelse af mange fine originale detaljer. Badeværelse med brus og toilet. Fra stuen har du udgang til en hyggelig sydvendt terrasse og fra køkkenet nedgang til et dejligt stort soveværelse og stort depot/teknikrum med toilet. Foreningen Skibbroen har en lejekontrakt med Københavns Havn, i dag By og Havn, som er med hele 20 års uopsigelighed.Du er beliggende 350 meter fra Fisketorvet hvor der er biograf, indkøb, restauranter og hvad hjertet ellers begærer. Få hundrede meter fra bus og ca. 800 meter til Dybbølsbro st, og til sommer åbner Havneholmen Metro ved Fisketorvet.Når du køber en bolig gennem EDC, har du mulighed for at få en gratis flytteforsikring. Ønsker du denne, skal du sende en mail med \"Ja tak\" til flytteforsikring@gjensidige.dk    \n",
       "49                                                                                                                                                                                                                                                                                                                                                                                                                                                                                                                                                                                                                                                                                                                                                                                                                                                                                                                                                                                                                                                                                                                                                                                                                                                                                                                                                                                                                                                                                                                                                                                                                                                                                                                                                                                                                                                                                                                                                                                                                                                                                                                                                                                                                                                                                                                                                                                                                                                                                                                                                                                                                                                                                                                                                                                                                                                                                                                                                                                                                                                                                                                                                                                                                                                                                                                                                  Når du køber husbåd er selve pladsen mindst lige så vigtig som båden. At der er en lang opsigelse, en fast kontrakt med en klar beskrivelse af eventuelle lejestigninger og ikke mindst en troværdig udlejer. Så start med at fokuser på det når du drømmer om husbåd. Denne husbåd har en kontrakt med 20 års opsigelse, det fremgår af lokalplanen at der skal være husbåde i området, lejen er beskrevet meget præcist og endelig er det By & Havn der er udlejer.Tag med til et smukt hjørne af storbyøen Amager   \n",
       "50                                                                                                                                                                                                                                                                                                                                                                                                                                                                                                                                                                                                                                                                                                                                                                                                                                                                                                                                                                                                                                                                                                                                                                                                                                                                                                                                                                                                                                                                                                                                                                                                                                                                                                                                                                                                                                                                                                                                                                                                                                                                                                                                                                                                                                                                                                                                                                                                                                                                                                                                                                                                                                                                                                                                                                                                                                                                                                                                                                                                                                                                                                                                                                                                                                                                                                                                               På Ben Websters Vej lige ved Teglværksløbet finder man denne fantastiske, men noget utraditionelle bolig, en ekstravagant husbåd med et interiør, der emmer af kvalitetsbevidsthed og livsnydelse. \\nHer kan du indfri drømmen om at bo på vandet midt i byen, tilmed med masser af plads.\\n190 m2 bolig/erhverv kun 20 min. fra Rådhuspladsen og med fri udsigt til vand og himmel på alle sider...\\nLige nu har vi over dæk ét stort rum med maksimalt lysindfald, der er alle installationer til et køkken i den ene   \n",
       "51                                                                                                                                                                                                                                                                                                                                                                                                                                                                                                                                                                                                                                                                                                                                                                                                                                                                                                                                                                                                                                                                                                                                                                                                                                                                                                                                                                                                                                                                                                                                                                                                                                                                                                                                                                                                                                                                                                                                                                                                                                                                                                                                                                                                                                                                                                                                                                                                                                                                                                                                                                                                                                                                                                                                                                                                                                                                                                                                                                                                                                                                                                                                                                                                                                                                                                                                                  Tag med til en skøn perle af en lystbådehavn - nemlig ved Grenaa Strand. Her er direkte udsyn til Kattegat hvor man ligeledes kan udfolde sig naturskønt i baghaven hvor Grenaa Plantage er beliggende, og hvor vandkanten ligger åben for jeres fødder. I disse fantastiske omgivelser kan I blive de heldige ejere af en virkelig lækker og rummelig husbåd ved navn Elin. Det er den helt perfekte husbåd for dig, der måske ikke har beskæftiget dig med husbåde før, for her køber du dig ind i en fantastisk o   \n",
       "52                                                                                                                                                                                                                                                                                                                                                                                                                                                                                                                                                                                                                                                                                                                                                                                                                                                                                                                                                                                                                                                                                                                                                                                                                                                                                                                                                                                                                                                                                                                                                                                                                                                                                                                                                                                                                                                                                                                                                                                                                                                                                                                                                                                                                                                                                                                                                                                                                                                                                                                                                                                                                                                                                                                                                                                                                                                                                                                                                                                                                                                                                                                                                                                                                                                                                                                                                   Denne charmerende hollandske pram fra 1920 har gennemgået en kærlig renovering, og vi er stolteaf at præsentere den som en ægte perle i Københavns husbådekoloni med i alt 15 husbåde.  Foreningen har langtidskontrakt med 20 års opsigelse, hvilket sikrer bådpladsen i denne skønne havn. Området : Området er i rivende udvikling med helt ny skole, Sluseholm Skole, caféer, kommende Metro i 2024 i gå afstand, masser af gode indkøbsmuligheder og butikker på Sluseholmen, samt smuk natur og Amager Fælled   \n",
       "53                                                                                                                                                                                                                                                                                                                                                                                                                                                                                                                                                                                                                                                                                                                                                                                                                                                                                                                                                                                                                                                                                                                                                                                                                                                                                                                                                                                                                                                                                                                                                                                                                                                                                                                                                                                                                                                                                                                                                                                                                                                                                                                                                                                                                                                                                                                                                                                                                                                                                                                                                                                                                                                                                                                                                                                                                                                                                                                                                                                                                                                                                                                                                                                                                                                                                                                                                   HusbådTag med til et smukt hjørne af storbyøen Amager, hvor Amager Fælled udfolder sig naturskønt i baghaven, og hvor der er få hundrede meter til både den nye Metro station og folkeskole  på Sluseholmen. I disse fantastiske omgivelser kan I blive de heldige ejere af en virkelig lækker og rummelig husbåd ved navn My, som kan dateres tilbage til år 1891. Det er den helt perfekte husbåd for dig der måske ikke har beskæftiget dig med husbåde før, for her køber du dig ind i en part af en båd, så du   \n",
       "54                                                                                                                                                                                                                                                                                                                                                                                                                                                                                                                                                                                                                                                                                                                                                                                                                                                                                                                                                                                                                                                                                                                                                                                                                                                                                                                                                                                                                                                                                                                                                                                                                                                                                                                                                                                                                                                                                                                                                                                                                           Vil du bo i HUSBÅD i Maritimt og lækkert nybygget område så er muligheden der på Frederikskaj 2V i Teglværkshavnen med havnepromenade, lystbådehavn, lækkert fælleshus, sauna og shelter på vandet. Her kan du bo blandt alle de nye flotte lejligheder men i en skøn og rummelig Husbåd ved navn MV Susanne. Dette er en unik mulighed da hun har en yderst attraktiv bådplads med en fantastisk udsigt over havnebassinet samtidigt med at det kun er et stenkast fra den kommende Metro, som efter planen er færdig i 2024. Frederikskaj er indbegrebet af maritim metropol med en beliggenhed tæt på Hovedstaden. Her er du beliggende optimalt, uanset om du skal ind til centrum eller ud af byen. F.eks. kommer du hurtigt på motorvejen, der fører direkte til Københavns Lufthavn, Malmø og ikke mindst resten af Danmark. Der er busstoppested lige udenfor bebyggelsen, Sydhavn Station samt havnebussen er indenfor kort afstand. Her er fantastiske bademuligheder, vinterbadelaug med flydende sauna samt kajakklub. Husbåden er indeholdende: Entre med adgang til stort og lækkert køkken alrum med plads til hele familien sammenhængende med en dejlig opholdsstue og rummeligt soveværelse med walk in closet. Fra køkkenet er der lille trappe til fint grovkøkken og bryggers samt adgang til opbevaringsrum. Lækkert badeværelse med jacuzzi og toilet, fra badeværelset er der adgang til hyggeligt værelse samt det oprindelige styrehus. Agterskibet bag styrehuset byder på stue og kahytter i oprindelig aptering. Husbådens dæk er indrettet som stort solterrasse og har et fantastisk kig over området og naturligvis vandet. Når du køber en bolig gennem EDC, har du mulighed for at få en gratis flytteforsikring. Ønsker du denne, skal du sende en mail med \"Ja tak\" til flytteforsikring@gjensidige.dk    \n",
       "55                                                                                                                                                                                                                                                                                                                                                                                                                                                                                                                                                                                                                                                                                                                                                                                                                                                                                                                                                                                                                                                                                                                                                                                                                                                                                                                                                                                                                                                                                                                                                                                                                                                                                                                                                                                                                                                                                                                                                                                                                                                                                                                                                                                                                                                                                                                                                                                                                                                                                                                                                                                                                                                                                                                                                                                                                                                                                                                                                                                                                                                                                                                                                                                                                                                                                                                                                  Livet på en husbådPå Ved Slusen 53A ligger der en anseelig husbåd fortøjet, som består af 3 lejligheder. Det er i den bagerste lejlighed fra 2008 i flere plan, at du nu kan få hjemme. Boligen indeholder et køkken, et soveværelse, en stue og et badeværelse, hvorfor den er helt oplagt til singlen eller et ungt par. Beliggenheden er ufravigelig helt unik og ikke mindst naturskønt med Sluseløbet som din baghave og Amager Fælled på den anden sideDe originale koøjer fra 1910 giver stadig stil og charm   \n",
       "56                                                                                                                                                                                                                                                                                                                                                                                                                                                                                                                                                                                                                                                                                                                                                                                                                                                                                                                                                                                                                                                                                                                                                                                                                                                                                                                                                                                                                    Tiny-house med havudsigt!!- Sommerhus, eller studiebolig - der er masser af muligheder og så kan boligen endda leveres på valgfri adresse! - og der kan leveres flere…\\n\\n*her vist med ekstra udstyr! – Udstyret udgør i dette tilfælde de 2 ekstra sovepladser og kalechen til en merpris på 45.000,- kr. inkl. moms.. \\n\\n\\n\"Seaside Cabin\" er helt nyudviklet og produceret i bæredygtige, lækre, højkvalitets-materialer, i Danmark. De ca. 15 m2 indeholder rummelig helårsisoleret boligdel med alt hvad dertil hører, og skønt stort soldæk, hvor der er god plads til at 4 personer kan nyde havudsigten. I den nye Version nummer 2 er der indrettet markant større indendørs bolig, og alligevel er der fundet plads til stort soldæk\\n\\nSeaside Cabin i Version 2 er - indendørs - udstyret med et multifunktionelt sofaarrangement, som nemt kan ændres til to sovepladser, masser af skabs- og skuffe plads, der er køkken (kabys) med håndvask, køleskab og kogeplade (220V). Der forefindes desuden bad og toilet ombord, og boligen er naturligvis i det hele taget, udnyttet helt ud i alle hjørner. Og under kalechen der de 2 ekstra 175 cm. lange sovepladser - som om dagen er sofa -og i den denne version er der bagudgang, så man kan vende hele herligheden hvilken vej til kajen som man har lyst til\\nDet flydende sommerhus kan evt. give god indtjening ved udlejning af overskydende uger\\n\\n\\nDen fine nye lille bolig ligger nu i lystbådehavnen i charmerende Ærøskøbing på Bro 7, og en tilsvarende kan blive din på reserveret kajplads.\\n\\nFlere fakta:\\n\\n·\\t4 store solpaneler leverer strøm til at være selvforsynende i op til 7 måneder om året, og er udstyret med 220V ladestik, så landstrøm kan forsyne strøm til radiator og el-kogeplade ved behov.\\n\\n·\\tUdstyret med elmotor, og er godkendt af Søfartsstyrelsen til kystnær sejlads (sejlads op til 1500 meter fra kysten), og størrelsen gør at der, fra Søfartsstyrelsen, ikke kræves certifikat for at sejle den.\\n\\n·\\tIkke registreret som husbåd, men et selvfremdrevet fartøj, og dermed betragtet som en mindre motor- eller sejlbåd, hvilket giver adgang til en bådplads i havne, broer og marinaer som disse.\\n\\n·\\tIsoleret med 75 mm. Marine-Rockwool med tapet alufolie i skotter (vægge) og dæk (loft ) og med 150 mm. i dørk (gulv)\\n\\n·\\t\\n\\nVi glæder os til at vise frem, så tøv ikke med at kontakte os for en fremvisning!   \n",
       "57                                                                                                                                                                                                                                                                                                                                                                                                                                                                                                                                                                                        Korshage er en af de karakteristiske danske sort-hvid færger, der gennem årene har betjent Danmarks mange vandpassager og ladet os slå smutveje gennem det ganske land. Korshage er opkaldt efter et smukt lyngklædt område i Rørvig og er et klenodie, der trofast udtjente sin værnepligt mellem Hundested og Rørvig i perioden 1964-1995. Det utrættelige skib blev bygget i 1964 på Holbæk Skibsværft med brug af bøge -og egestammer fra Dragerup Skov. Efter godt 30 års tro tjeneste blev Korshage flittigt benyttet til selskaber og udflugtssejlads på Isefjorden, indtil hun overgik til nye kreative hænder, der forvandlede hende til en moderne bolig i form af en fantastisk charmerende husbåd.Korshage er 30,5 meter lang og blev i sin tid godkendt til 20 personbiler og 110 passagerer - så størrelsesmæssigt var mulighederne for at skabe en større husbåd til stede. Den gennemgribende ombygning foregik fra 2013-2015, hvor forvandlingen blev håndhævet med respekt for de originale detaljer. Transformationen fra en åben bildæksfærge til et moderne og tidssvarende designerhjem med i alt 195 m2 etagemeter er gået op i en højere enhed og med den måske bedste fortøjning midt i Københavns Havn med storslået udsigt ned gennem havneløbet, Skuespilhuset, BLOX og Operaen er Korshage ganske enkelt drømmen om en stor husbåd på Christianshavn.  De 135 kvadratmeter flydende boligareal fordeler sig på et moderne stort køkkenalrum i forlængelse af stor stue, 2 store værelser - det ene med walk-in closet og det andet med the-køkken og eget badeværelse - endnu et stort badeværelse, disponibelt rum og entré. Korshage har to store terrasser. Den ene på fordækket og den anden agterdækket, hvilket giver helt optimale betingelser for at ramme solens stråler gennem dagen og aftenen, hvor den uhindret finder vej grundet beliggenheden ud til det brede havneløb.Under dækket befinder der sig 60 m2 alrum med plads til overnattende gæster, stort disponibelt rum, bryggers, teknikrum, og værksted. Øverst oppe troner det gode gamle styrrum, som er bevaret med alt det originale udstyr og betjeningspaneler. Styrrummet kan indrettes efter behov og meget vel forvandles til et kontor eller gæsteværelse med måske Københavns bedste udsigt. Isoleringen er tidssvarende og svarer til 250 mm rockwool i væggene og 350 mm i loftet. Derudover er der er indlagt varmeslanger i alle gulve både over og under dæk som forberedelse til en varmepumpe, der kan trække varme fra havet. Alle vinduer er ligeledes udskiftet med tre-lags energiruder i fin overensstemmelse med færgens oprindelige vinduesmål, ligesom de fem koøjer har fået forsatsvinduer installeret. Solidt fortøjret i hjertet af København vugger hverdagen afbalanceret med en central og tæt på alt-placering. Kajpladsen er for enden af en hyggelig brostensbelagt sidegade til Strandgade og ligger i rolige omgivelser med kort vej til Indre by over cykelbroen. Korshage er en lys, moderne og fantastisk husbåd, der samtidig kan bryste sig af ikke at have bopælspligt. Det skaber fleksible anvendelsesmuligheder, hvor Korshage både kan udfylde rollen som helårsbolig, sommerhus eller erhverv.Velkommen ombord på Korshage.   \n",
       "\n",
       "                                                                                    descriptionTitle  \\\n",
       "0                      Nyere lejlighed ved vandet. Panorama kig. Vestvendt altan. Ideel planløsning.   \n",
       "1                                          MODERNE HUSBÅD MED PLADS PÅ HOLMEN OG HELE 44 m2 TERRASSE   \n",
       "2                                                               ATTRAKTIV 2 VÆR. MED VESTVENDT ALTAN   \n",
       "3                        Pionier I - Smukt og velholdt skib med køkken, bad, wc og fantastisk udsigt   \n",
       "4                                                                            Skøn husbåd i Bork Havn   \n",
       "5                                                Sejlende husbåd med fast plads ved siden af Operaen   \n",
       "6                                                 Fuldt udstyret sejlskib med otte faste sovepladser   \n",
       "7                                                                           Husbåd - Sjældent udbudt   \n",
       "8                                           Sejlende husbåd i virkelig flot stand - renoveret i 2020   \n",
       "9                                                     Hyggelig husbåd med skøn udsigt over Bork Havn   \n",
       "10                                                                                               NaN   \n",
       "11                                                  Moderniseret lejlighed på husbåd ved Sluseløbet!   \n",
       "12                                                                        Velkommen ombord på \"Viva\"   \n",
       "13      Moderne husbåd på områdets bedste kajplads - malerisk udsigt til fuglereservat og Isefjorden   \n",
       "14                                                         Skøn 4-værelses lejlighed med vandudsigt!   \n",
       "15                                                                                 LIVSSTIL & LUKSUS   \n",
       "16                                                               Husbåd til livsnydere og jeres børn   \n",
       "17                                                 Atlas, en uforskammet anderledes Gud i kanalen...   \n",
       "18                                       Fantastisk husbåd - 20 års opsigelse - masser af fællesskab   \n",
       "19                                                           Chamerene husbåd i hyggelige omgivelser   \n",
       "20                                                        Skøn husbåd - 20 års kontrakt i denne havn   \n",
       "21                                                         Unik husbåd - skab din egen bolig på vand   \n",
       "22                                                                                            Grenaa   \n",
       "23  Drømmebolig på vandet - unik renoveret indflytningsklar husbåd i København, 20 års lejekontrakt.   \n",
       "24                               Virkelig stor husbåd - en af de bedste lejekontrakter i hele havnen   \n",
       "25                                                      Charmerende husbåd i lækkert nybygget område   \n",
       "26                                                                                Livet på en husbåd   \n",
       "27                                                      Version 2 af: Tiny-House/Flydende sommerhus*   \n",
       "28                                                   Charmerende husbåd i hjertet af Københavns Havn   \n",
       "29                     Nyere lejlighed ved vandet. Panorama kig. Vestvendt altan. Ideel planløsning.   \n",
       "30                                         MODERNE HUSBÅD MED PLADS PÅ HOLMEN OG HELE 44 m2 TERRASSE   \n",
       "31                                                              ATTRAKTIV 2 VÆR. MED VESTVENDT ALTAN   \n",
       "32                       Pionier I - Smukt og velholdt skib med køkken, bad, wc og fantastisk udsigt   \n",
       "33                                                                           Skøn husbåd i Bork Havn   \n",
       "34                                               Sejlende husbåd med fast plads ved siden af Operaen   \n",
       "35                                                Fuldt udstyret sejlskib med otte faste sovepladser   \n",
       "36                                                                          Husbåd - Sjældent udbudt   \n",
       "37                                          Sejlende husbåd i virkelig flot stand - renoveret i 2020   \n",
       "38                                                    Hyggelig husbåd med skøn udsigt over Bork Havn   \n",
       "39                                                                                               NaN   \n",
       "40                                                  Moderniseret lejlighed på husbåd ved Sluseløbet!   \n",
       "41                                                                        Velkommen ombord på \"Viva\"   \n",
       "42      Moderne husbåd på områdets bedste kajplads - malerisk udsigt til fuglereservat og Isefjorden   \n",
       "43                                                         Skøn 4-værelses lejlighed med vandudsigt!   \n",
       "44                                                                                 LIVSSTIL & LUKSUS   \n",
       "45                                                               Husbåd til livsnydere og jeres børn   \n",
       "46                                                 Atlas, en uforskammet anderledes Gud i kanalen...   \n",
       "47                                       Fantastisk husbåd - 20 års opsigelse - masser af fællesskab   \n",
       "48                                                           Chamerene husbåd i hyggelige omgivelser   \n",
       "49                                                        Skøn husbåd - 20 års kontrakt i denne havn   \n",
       "50                                                         Unik husbåd - skab din egen bolig på vand   \n",
       "51                                                                                            Grenaa   \n",
       "52  Drømmebolig på vandet - unik renoveret indflytningsklar husbåd i København, 20 års lejekontrakt.   \n",
       "53                               Virkelig stor husbåd - en af de bedste lejekontrakter i hele havnen   \n",
       "54                                                      Charmerende husbåd i lækkert nybygget område   \n",
       "55                                                                                Livet på en husbåd   \n",
       "56                                                      Version 2 af: Tiny-House/Flydende sommerhus*   \n",
       "57                                                   Charmerende husbåd i hjertet af Københavns Havn   \n",
       "\n",
       "    ... totalClickCount totalFavourites     utilitiesConnectionFee  yearBuilt  \\\n",
       "0   ...             719              10  {'includedInPrice': None}       2017   \n",
       "1   ...            4007              13  {'includedInPrice': None}       2021   \n",
       "2   ...            1404              21  {'includedInPrice': None}       2021   \n",
       "3   ...            1897              16  {'includedInPrice': None}       1930   \n",
       "4   ...            1750              11  {'includedInPrice': None}       2008   \n",
       "5   ...            3552              35  {'includedInPrice': None}       2006   \n",
       "6   ...            3152              59  {'includedInPrice': None}       1981   \n",
       "7   ...            5135              46  {'includedInPrice': None}       1877   \n",
       "8   ...            2566              33  {'includedInPrice': None}       1988   \n",
       "9   ...            1774              21  {'includedInPrice': None}       2005   \n",
       "10  ...            3529              43  {'includedInPrice': None}       2016   \n",
       "11  ...            5469             121  {'includedInPrice': None}       1910   \n",
       "12  ...            5496              96  {'includedInPrice': None}       1958   \n",
       "13  ...            2714              39  {'includedInPrice': None}       2007   \n",
       "14  ...            2919              45  {'includedInPrice': None}       2016   \n",
       "15  ...            2036              18  {'includedInPrice': None}       2008   \n",
       "16  ...            3806              42  {'includedInPrice': None}       1945   \n",
       "17  ...            5289              65  {'includedInPrice': None}       1958   \n",
       "18  ...            3528              57  {'includedInPrice': None}       1963   \n",
       "19  ...            3482              32  {'includedInPrice': None}       1915   \n",
       "20  ...            7142             137  {'includedInPrice': None}       1917   \n",
       "21  ...            4057              44  {'includedInPrice': None}       2000   \n",
       "22  ...            3430              40  {'includedInPrice': None}       2021   \n",
       "23  ...            3994              76  {'includedInPrice': None}       1920   \n",
       "24  ...            6088             151  {'includedInPrice': None}       1891   \n",
       "25  ...           11451             129  {'includedInPrice': None}       2017   \n",
       "26  ...           18121             374  {'includedInPrice': None}       1910   \n",
       "27  ...           11761              89  {'includedInPrice': None}       2023   \n",
       "28  ...           24801             468  {'includedInPrice': None}       1964   \n",
       "29  ...             719              10  {'includedInPrice': None}       2017   \n",
       "30  ...            4007              13  {'includedInPrice': None}       2021   \n",
       "31  ...            1404              21  {'includedInPrice': None}       2021   \n",
       "32  ...            1897              16  {'includedInPrice': None}       1930   \n",
       "33  ...            1750              11  {'includedInPrice': None}       2008   \n",
       "34  ...            3552              35  {'includedInPrice': None}       2006   \n",
       "35  ...            3152              59  {'includedInPrice': None}       1981   \n",
       "36  ...            5135              46  {'includedInPrice': None}       1877   \n",
       "37  ...            2566              33  {'includedInPrice': None}       1988   \n",
       "38  ...            1774              21  {'includedInPrice': None}       2005   \n",
       "39  ...            3529              43  {'includedInPrice': None}       2016   \n",
       "40  ...            5469             121  {'includedInPrice': None}       1910   \n",
       "41  ...            5496              96  {'includedInPrice': None}       1958   \n",
       "42  ...            2714              39  {'includedInPrice': None}       2007   \n",
       "43  ...            2919              45  {'includedInPrice': None}       2016   \n",
       "44  ...            2036              18  {'includedInPrice': None}       2008   \n",
       "45  ...            3806              42  {'includedInPrice': None}       1945   \n",
       "46  ...            5289              65  {'includedInPrice': None}       1958   \n",
       "47  ...            3528              57  {'includedInPrice': None}       1963   \n",
       "48  ...            3482              32  {'includedInPrice': None}       1915   \n",
       "49  ...            7142             137  {'includedInPrice': None}       1917   \n",
       "50  ...            4057              44  {'includedInPrice': None}       2000   \n",
       "51  ...            3430              40  {'includedInPrice': None}       2021   \n",
       "52  ...            3994              76  {'includedInPrice': None}       1920   \n",
       "53  ...            6088             151  {'includedInPrice': None}       1891   \n",
       "54  ...           11451             129  {'includedInPrice': None}       2017   \n",
       "55  ...           18121             374  {'includedInPrice': None}       1910   \n",
       "56  ...           11761              89  {'includedInPrice': None}       2023   \n",
       "57  ...           24801             468  {'includedInPrice': None}       1964   \n",
       "\n",
       "     lotArea  weightedArea  basementArea   latitude  longitude  \\\n",
       "0        NaN           NaN           NaN  55.658370  12.562113   \n",
       "1        NaN           NaN           NaN  55.679836  12.600910   \n",
       "2        NaN           NaN           NaN  55.658794  12.561923   \n",
       "3        1.0           NaN           NaN  55.689972  12.606812   \n",
       "4        NaN         104.0           NaN  55.850147   8.279420   \n",
       "5        NaN           NaN           NaN  55.679836  12.600910   \n",
       "6        NaN           NaN           NaN  55.677070  12.597699   \n",
       "7        NaN           NaN           NaN  55.692270  12.608410   \n",
       "8        NaN           NaN           NaN  55.608906  12.390680   \n",
       "9   193906.0         104.0           NaN  55.850296   8.279139   \n",
       "10       1.0           NaN           NaN  55.654100  12.554191   \n",
       "11       NaN           NaN           NaN  55.641350  12.552788   \n",
       "12       NaN           NaN           NaN  55.670937  12.581738   \n",
       "13    1572.0         154.3           NaN  55.914936  11.676922   \n",
       "14       NaN           NaN           NaN  55.646310  12.544503   \n",
       "15       NaN           NaN           NaN  55.607940  12.388657   \n",
       "16     200.0           NaN           NaN  55.685863  12.608955   \n",
       "17   30671.0           NaN          17.0  55.685547  12.609108   \n",
       "18       NaN          80.0           NaN  55.659637  12.559830   \n",
       "19       NaN           NaN           NaN  55.659440  12.559025   \n",
       "20       NaN           NaN           NaN  55.641235  12.553489   \n",
       "21       NaN           NaN           NaN  55.647243  12.550408   \n",
       "22       NaN          61.0           NaN  56.404488  10.923306   \n",
       "23       NaN           NaN           NaN  55.641357  12.553511   \n",
       "24       NaN           NaN           NaN  55.641544  12.551776   \n",
       "25       NaN         103.0           NaN  55.646744  12.545307   \n",
       "26       NaN           NaN           NaN  55.641350  12.552788   \n",
       "27       1.0           NaN           NaN  54.890340  10.413971   \n",
       "28       5.0           NaN          60.0  55.677223  12.594001   \n",
       "29       NaN           NaN           NaN  55.658370  12.562113   \n",
       "30       NaN           NaN           NaN  55.679836  12.600910   \n",
       "31       NaN           NaN           NaN  55.658794  12.561923   \n",
       "32       1.0           NaN           NaN  55.689972  12.606812   \n",
       "33       NaN         104.0           NaN  55.850147   8.279420   \n",
       "34       NaN           NaN           NaN  55.679836  12.600910   \n",
       "35       NaN           NaN           NaN  55.677070  12.597699   \n",
       "36       NaN           NaN           NaN  55.692270  12.608410   \n",
       "37       NaN           NaN           NaN  55.608906  12.390680   \n",
       "38  193906.0         104.0           NaN  55.850296   8.279139   \n",
       "39       1.0           NaN           NaN  55.654100  12.554191   \n",
       "40       NaN           NaN           NaN  55.641350  12.552788   \n",
       "41       NaN           NaN           NaN  55.670937  12.581738   \n",
       "42    1572.0         154.3           NaN  55.914936  11.676922   \n",
       "43       NaN           NaN           NaN  55.646310  12.544503   \n",
       "44       NaN           NaN           NaN  55.607940  12.388657   \n",
       "45     200.0           NaN           NaN  55.685863  12.608955   \n",
       "46   30671.0           NaN          17.0  55.685547  12.609108   \n",
       "47       NaN          80.0           NaN  55.659637  12.559830   \n",
       "48       NaN           NaN           NaN  55.659440  12.559025   \n",
       "49       NaN           NaN           NaN  55.641235  12.553489   \n",
       "50       NaN           NaN           NaN  55.647243  12.550408   \n",
       "51       NaN          61.0           NaN  56.404488  10.923306   \n",
       "52       NaN           NaN           NaN  55.641357  12.553511   \n",
       "53       NaN           NaN           NaN  55.641544  12.551776   \n",
       "54       NaN         103.0           NaN  55.646744  12.545307   \n",
       "55       NaN           NaN           NaN  55.641350  12.552788   \n",
       "56       1.0           NaN           NaN  54.890340  10.413971   \n",
       "57       5.0           NaN          60.0  55.677223  12.594001   \n",
       "\n",
       "   distance_to_nearest_station  \n",
       "0                     0.902780  \n",
       "1                     1.653597  \n",
       "2                     0.859113  \n",
       "3                     1.264838  \n",
       "4                    20.523609  \n",
       "5                     1.653597  \n",
       "6                     1.841517  \n",
       "7                     1.333549  \n",
       "8                     1.524183  \n",
       "9                    20.513600  \n",
       "10                    1.171687  \n",
       "11                    1.788627  \n",
       "12                    1.488367  \n",
       "13                    0.789428  \n",
       "14                    1.049464  \n",
       "15                    1.623796  \n",
       "16                    1.555154  \n",
       "17                    1.580589  \n",
       "18                    0.702713  \n",
       "19                    0.690723  \n",
       "20                    1.823760  \n",
       "21                    1.181008  \n",
       "22                   81.574549  \n",
       "23                    1.813317  \n",
       "24                    1.736150  \n",
       "25                    1.030241  \n",
       "26                    1.788627  \n",
       "27                    0.162843  \n",
       "28                    1.755009  \n",
       "29                    0.902780  \n",
       "30                    1.653597  \n",
       "31                    0.859113  \n",
       "32                    1.264838  \n",
       "33                   20.523609  \n",
       "34                    1.653597  \n",
       "35                    1.841517  \n",
       "36                    1.333549  \n",
       "37                    1.524183  \n",
       "38                   20.513600  \n",
       "39                    1.171687  \n",
       "40                    1.788627  \n",
       "41                    1.488367  \n",
       "42                    0.789428  \n",
       "43                    1.049464  \n",
       "44                    1.623796  \n",
       "45                    1.555154  \n",
       "46                    1.580589  \n",
       "47                    0.702713  \n",
       "48                    0.690723  \n",
       "49                    1.823760  \n",
       "50                    1.181008  \n",
       "51                   81.574549  \n",
       "52                    1.813317  \n",
       "53                    1.736150  \n",
       "54                    1.030241  \n",
       "55                    1.788627  \n",
       "56                    0.162843  \n",
       "57                    1.755009  \n",
       "\n",
       "[58 rows x 45 columns]"
      ]
     },
     "execution_count": 59,
     "metadata": {},
     "output_type": "execute_result"
    }
   ],
   "source": [
    "Final_Real_Estate_Postings"
   ]
  },
  {
   "cell_type": "code",
   "execution_count": 58,
   "id": "f69b6105-5cf2-4fe3-b2a5-d195fcd257ef",
   "metadata": {},
   "outputs": [
    {
     "name": "stdout",
     "output_type": "stream",
     "text": [
      "0            condo\n",
      "1            condo\n",
      "2            condo\n",
      "3            villa\n",
      "4    holiday house\n",
      "Name: addressType, dtype: object\n"
     ]
    }
   ],
   "source": [
    "pd.set_option('display.max_colwidth', None)\n",
    "\n",
    "print(Final_Real_Estate_Postings['addressType'].head())\n"
   ]
  },
  {
   "cell_type": "code",
   "execution_count": 57,
   "id": "2f806cb0-d563-4d0e-8343-1daab5585a18",
   "metadata": {},
   "outputs": [
    {
     "data": {
      "text/plain": [
       "58"
      ]
     },
     "execution_count": 57,
     "metadata": {},
     "output_type": "execute_result"
    }
   ],
   "source": [
    "len(Final_Real_Estate_Postings)"
   ]
  },
  {
   "cell_type": "code",
   "execution_count": 37,
   "id": "aa949953-f2fd-4270-91dd-98d1aff5f9bc",
   "metadata": {},
   "outputs": [
    {
     "name": "stdout",
     "output_type": "stream",
     "text": [
      "                                                coordinates   latitude  \\\n",
      "0   {'lat': 55.65837, 'lon': 12.562113, 'type': 'EPSG4326'}  55.658370   \n",
      "1   {'lat': 55.679836, 'lon': 12.60091, 'type': 'EPSG4326'}  55.679836   \n",
      "2  {'lat': 55.658794, 'lon': 12.561923, 'type': 'EPSG4326'}  55.658794   \n",
      "3  {'lat': 55.689972, 'lon': 12.606812, 'type': 'EPSG4326'}  55.689972   \n",
      "4    {'lat': 55.850147, 'lon': 8.27942, 'type': 'EPSG4326'}  55.850147   \n",
      "\n",
      "   longitude  \n",
      "0  12.562113  \n",
      "1  12.600910  \n",
      "2  12.561923  \n",
      "3  12.606812  \n",
      "4   8.279420  \n"
     ]
    }
   ],
   "source": [
    "Final_Real_Estate_Postings['latitude'] = Final_Real_Estate_Postings['coordinates'].apply(lambda x: x['lat'])\n",
    "Final_Real_Estate_Postings['longitude'] = Final_Real_Estate_Postings['coordinates'].apply(lambda x: x['lon'])\n",
    "\n",
    "# Display the first few rows to verify\n",
    "print(Final_Real_Estate_Postings[['coordinates', 'latitude', 'longitude']].head())"
   ]
  },
  {
   "cell_type": "code",
   "execution_count": 26,
   "id": "4bac0a98-e4bf-4504-a5c3-1bfb494364f2",
   "metadata": {},
   "outputs": [],
   "source": [
    "url_station = \"https://www.dsb.dk/api/stations/getstationlist\"\n"
   ]
  },
  {
   "cell_type": "code",
   "execution_count": 27,
   "id": "0fc54168-0925-43d0-9665-61982336b572",
   "metadata": {},
   "outputs": [],
   "source": [
    "response_station = requests.get(url_station) # submit query with `get` and save response as object\n",
    "response_station_json = response_station.json() # convert response to a list of dicts\n"
   ]
  },
  {
   "cell_type": "code",
   "execution_count": 29,
   "id": "e55c205c-fc09-4d07-8be0-daac8afb93c0",
   "metadata": {},
   "outputs": [],
   "source": [
    "import pandas as pd\n",
    "station_df=pd.DataFrame(response_station_json)"
   ]
  },
  {
   "cell_type": "code",
   "execution_count": 67,
   "id": "4a00455e-5b1e-43b3-80f9-be52d9a42445",
   "metadata": {},
   "outputs": [
    {
     "data": {
      "text/html": [
       "<div>\n",
       "<style scoped>\n",
       "    .dataframe tbody tr th:only-of-type {\n",
       "        vertical-align: middle;\n",
       "    }\n",
       "\n",
       "    .dataframe tbody tr th {\n",
       "        vertical-align: top;\n",
       "    }\n",
       "\n",
       "    .dataframe thead th {\n",
       "        text-align: right;\n",
       "    }\n",
       "</style>\n",
       "<table border=\"1\" class=\"dataframe\">\n",
       "  <thead>\n",
       "    <tr style=\"text-align: right;\">\n",
       "      <th></th>\n",
       "      <th>stationName</th>\n",
       "      <th>stationUrl</th>\n",
       "      <th>stationLatitude</th>\n",
       "      <th>stationLongitude</th>\n",
       "      <th>tags</th>\n",
       "    </tr>\n",
       "  </thead>\n",
       "  <tbody>\n",
       "    <tr>\n",
       "      <th>0</th>\n",
       "      <td>Albertslund Station</td>\n",
       "      <td>http://www.dsb.dk/kundeservice/stationer/albertslund/</td>\n",
       "      <td>55.658108</td>\n",
       "      <td>12.353142</td>\n",
       "      <td>[DSB 7-Eleven, Aflåst cykelparkering]</td>\n",
       "    </tr>\n",
       "    <tr>\n",
       "      <th>1</th>\n",
       "      <td>Alken Station</td>\n",
       "      <td>http://www.dsb.dk/kundeservice/stationer/alken/</td>\n",
       "      <td>56.052392</td>\n",
       "      <td>9.845708</td>\n",
       "      <td>[]</td>\n",
       "    </tr>\n",
       "    <tr>\n",
       "      <th>2</th>\n",
       "      <td>Allerød Station</td>\n",
       "      <td>http://www.dsb.dk/kundeservice/stationer/allerod/</td>\n",
       "      <td>55.870613</td>\n",
       "      <td>12.356810</td>\n",
       "      <td>[Aflåst cykelparkering]</td>\n",
       "    </tr>\n",
       "    <tr>\n",
       "      <th>3</th>\n",
       "      <td>Arden Station</td>\n",
       "      <td>http://www.dsb.dk/kundeservice/stationer/arden/</td>\n",
       "      <td>56.769733</td>\n",
       "      <td>9.859934</td>\n",
       "      <td>[]</td>\n",
       "    </tr>\n",
       "    <tr>\n",
       "      <th>4</th>\n",
       "      <td>Asnæs Station</td>\n",
       "      <td>http://www.dsb.dk/kundeservice/stationer/asnas/</td>\n",
       "      <td>55.809927</td>\n",
       "      <td>11.503287</td>\n",
       "      <td>[]</td>\n",
       "    </tr>\n",
       "    <tr>\n",
       "      <th>...</th>\n",
       "      <td>...</td>\n",
       "      <td>...</td>\n",
       "      <td>...</td>\n",
       "      <td>...</td>\n",
       "      <td>...</td>\n",
       "    </tr>\n",
       "    <tr>\n",
       "      <th>315</th>\n",
       "      <td>Ålholm Station</td>\n",
       "      <td>http://www.dsb.dk/kundeservice/stationer/alholm/</td>\n",
       "      <td>55.672309</td>\n",
       "      <td>12.493092</td>\n",
       "      <td>[Aflåst cykelparkering]</td>\n",
       "    </tr>\n",
       "    <tr>\n",
       "      <th>316</th>\n",
       "      <td>Åmarken Station</td>\n",
       "      <td>http://www.dsb.dk/kundeservice/stationer/amarken/</td>\n",
       "      <td>55.640121</td>\n",
       "      <td>12.499651</td>\n",
       "      <td>[Aflåst cykelparkering]</td>\n",
       "    </tr>\n",
       "    <tr>\n",
       "      <th>317</th>\n",
       "      <td>Aarhus H</td>\n",
       "      <td>http://www.dsb.dk/kundeservice/stationer/aarhus-h/</td>\n",
       "      <td>56.150272</td>\n",
       "      <td>10.204473</td>\n",
       "      <td>[DSB Salg &amp; Service, DSB 7-Eleven, Salg af udlandsbilletter]</td>\n",
       "    </tr>\n",
       "    <tr>\n",
       "      <th>318</th>\n",
       "      <td>Årslev Station</td>\n",
       "      <td>http://www.dsb.dk/kundeservice/stationer/arslev/</td>\n",
       "      <td>55.302562</td>\n",
       "      <td>10.464334</td>\n",
       "      <td>[]</td>\n",
       "    </tr>\n",
       "    <tr>\n",
       "      <th>319</th>\n",
       "      <td>Aarup Station</td>\n",
       "      <td>http://www.dsb.dk/kundeservice/stationer/aarup/</td>\n",
       "      <td>55.382899</td>\n",
       "      <td>10.051111</td>\n",
       "      <td>[Aflåst cykelparkering]</td>\n",
       "    </tr>\n",
       "  </tbody>\n",
       "</table>\n",
       "<p>320 rows × 5 columns</p>\n",
       "</div>"
      ],
      "text/plain": [
       "             stationName  \\\n",
       "0    Albertslund Station   \n",
       "1          Alken Station   \n",
       "2        Allerød Station   \n",
       "3          Arden Station   \n",
       "4          Asnæs Station   \n",
       "..                   ...   \n",
       "315       Ålholm Station   \n",
       "316      Åmarken Station   \n",
       "317             Aarhus H   \n",
       "318       Årslev Station   \n",
       "319        Aarup Station   \n",
       "\n",
       "                                                stationUrl  stationLatitude  \\\n",
       "0    http://www.dsb.dk/kundeservice/stationer/albertslund/        55.658108   \n",
       "1          http://www.dsb.dk/kundeservice/stationer/alken/        56.052392   \n",
       "2        http://www.dsb.dk/kundeservice/stationer/allerod/        55.870613   \n",
       "3          http://www.dsb.dk/kundeservice/stationer/arden/        56.769733   \n",
       "4          http://www.dsb.dk/kundeservice/stationer/asnas/        55.809927   \n",
       "..                                                     ...              ...   \n",
       "315       http://www.dsb.dk/kundeservice/stationer/alholm/        55.672309   \n",
       "316      http://www.dsb.dk/kundeservice/stationer/amarken/        55.640121   \n",
       "317     http://www.dsb.dk/kundeservice/stationer/aarhus-h/        56.150272   \n",
       "318       http://www.dsb.dk/kundeservice/stationer/arslev/        55.302562   \n",
       "319        http://www.dsb.dk/kundeservice/stationer/aarup/        55.382899   \n",
       "\n",
       "     stationLongitude  \\\n",
       "0           12.353142   \n",
       "1            9.845708   \n",
       "2           12.356810   \n",
       "3            9.859934   \n",
       "4           11.503287   \n",
       "..                ...   \n",
       "315         12.493092   \n",
       "316         12.499651   \n",
       "317         10.204473   \n",
       "318         10.464334   \n",
       "319         10.051111   \n",
       "\n",
       "                                                             tags  \n",
       "0                           [DSB 7-Eleven, Aflåst cykelparkering]  \n",
       "1                                                              []  \n",
       "2                                         [Aflåst cykelparkering]  \n",
       "3                                                              []  \n",
       "4                                                              []  \n",
       "..                                                            ...  \n",
       "315                                       [Aflåst cykelparkering]  \n",
       "316                                       [Aflåst cykelparkering]  \n",
       "317  [DSB Salg & Service, DSB 7-Eleven, Salg af udlandsbilletter]  \n",
       "318                                                            []  \n",
       "319                                       [Aflåst cykelparkering]  \n",
       "\n",
       "[320 rows x 5 columns]"
      ]
     },
     "execution_count": 67,
     "metadata": {},
     "output_type": "execute_result"
    }
   ],
   "source": [
    "station_df"
   ]
  },
  {
   "cell_type": "code",
   "execution_count": 68,
   "id": "d185b46d-bbd7-4577-9228-4cb46169771a",
   "metadata": {},
   "outputs": [],
   "source": [
    "Liste_med_stationer=station_df['stationName']"
   ]
  },
  {
   "cell_type": "code",
   "execution_count": 71,
   "id": "db74dc72-5f1c-4a34-96c6-e2a579141168",
   "metadata": {},
   "outputs": [
    {
     "data": {
      "text/plain": [
       "0      Albertslund Station\n",
       "1            Alken Station\n",
       "2          Allerød Station\n",
       "3            Arden Station\n",
       "4            Asnæs Station\n",
       "              ...         \n",
       "315         Ålholm Station\n",
       "316        Åmarken Station\n",
       "317               Aarhus H\n",
       "318         Årslev Station\n",
       "319          Aarup Station\n",
       "Name: stationName, Length: 320, dtype: object"
      ]
     },
     "execution_count": 71,
     "metadata": {},
     "output_type": "execute_result"
    }
   ],
   "source": [
    "Liste_med_stationer"
   ]
  },
  {
   "cell_type": "code",
   "execution_count": null,
   "id": "4ef24185-19a6-4c06-b4c1-50bc92acf580",
   "metadata": {},
   "outputs": [],
   "source": [
    "station_df['stationLatitude'] = station_df['stationLatitude'].str.replace(',', '.').astype(float)\n",
    "station_df['stationLongitude'] = station_df['stationLongitude'].str.replace(',', '.').astype(float)"
   ]
  },
  {
   "cell_type": "code",
   "execution_count": 43,
   "id": "ad7497d4-d6b7-4ceb-a28e-154935c7b808",
   "metadata": {
    "scrolled": true
   },
   "outputs": [],
   "source": [
    "\n",
    "# Extract the coordinates from the DataFrames\n",
    "house_coords = Final_Real_Estate_Postings[['latitude', 'longitude']].values\n",
    "station_coords = station_df[['stationLatitude', 'stationLongitude']].values\n",
    "\n",
    "# Create KDTree from station coordinates\n",
    "station_tree = KDTree(station_coords)\n",
    "\n",
    "# Define a function to find the nearest station and its distance\n",
    "def find_nearest_station(house_coord, station_tree, stations):\n",
    "    # Query the nearest station using the KDTree\n",
    "    distance, index = station_tree.query(house_coord, k=1)  # k=1 to find the single nearest neighbor\n",
    "    nearest_station = stations[index]\n",
    "    # Calculate geodesic distance\n",
    "    geodesic_distance = geodesic(house_coord, nearest_station).kilometers\n",
    "    return geodesic_distance\n",
    "\n",
    "# Apply the function to all houses\n",
    "distances_to_nearest_station = [find_nearest_station(house, station_tree, station_coords) for house in house_coords]\n",
    "\n",
    "# Add the distances as a new column in your DataFrame\n",
    "Final_Real_Estate_Postings['distance_to_nearest_station'] = distances_to_nearest_station\n",
    "\n",
    "# Optionally, you can now inspect the first few rows to verify the results\n"
   ]
  },
  {
   "cell_type": "code",
   "execution_count": 50,
   "id": "b6ca0dad-45d4-4fb2-867b-c6d17bd74f26",
   "metadata": {
    "scrolled": true
   },
   "outputs": [
    {
     "name": "stdout",
     "output_type": "stream",
     "text": [
      "0    0.902780\n",
      "1    1.653597\n",
      "Name: distance_to_nearest_station, dtype: float64\n"
     ]
    }
   ],
   "source": [
    "print(Final_Real_Estate_Postings['distance_to_nearest_station'].head(2))\n"
   ]
  },
  {
   "cell_type": "code",
   "execution_count": 54,
   "id": "2ae7e806-498c-484e-9936-10da75e5c502",
   "metadata": {},
   "outputs": [
    {
     "data": {
      "image/png": "[encoded data removed]",
      "text/plain": [
       "<Figure size 1000x600 with 1 Axes>"
      ]
     },
     "metadata": {},
     "output_type": "display_data"
    }
   ],
   "source": [
    "# Mocking up the DataFrame with the additional columns\n",
    "#scatterplot\n",
    "plt.figure(figsize=(10, 6))\n",
    "sns.scatterplot(x='distance_to_nearest_station', y='priceCash', data=Final_Real_Estate_Postings)\n",
    "plt.title('Scatterplot of Distance to Nearest Station vs Price')\n",
    "plt.xlabel('Distance to Nearest Station (km)')\n",
    "plt.ylabel('Price (Cash)')\n",
    "plt.grid(True)\n",
    "plt.show()\n",
    "\n"
   ]
  },
  {
   "cell_type": "code",
   "execution_count": 55,
   "id": "85e019fb-f236-4fac-a50d-57f295c37b52",
   "metadata": {},
   "outputs": [
    {
     "data": {
      "image/png": "[encoded data removed]",
      "text/plain": [
       "<Figure size 1000x600 with 1 Axes>"
      ]
     },
     "metadata": {},
     "output_type": "display_data"
    },
    {
     "data": {
      "text/plain": [
       "(-34778.05273153396, 4388491.241722333)"
      ]
     },
     "execution_count": 55,
     "metadata": {},
     "output_type": "execute_result"
    }
   ],
   "source": [
    "# Linear Regression\n",
    "X = Final_Real_Estate_Postings[['distance_to_nearest_station']]\n",
    "y = Final_Real_Estate_Postings['priceCash']\n",
    "\n",
    "# Creating the model\n",
    "model = LinearRegression()\n",
    "model.fit(X, y)\n",
    "\n",
    "# Predicting based on the model\n",
    "predictions = model.predict(X)\n",
    "\n",
    "# Plotting the regression line\n",
    "plt.figure(figsize=(10, 6))\n",
    "sns.scatterplot(x='distance_to_nearest_station', y='priceCash', data=Final_Real_Estate_Postings)\n",
    "plt.plot(Final_Real_Estate_Postings['distance_to_nearest_station'], predictions, color='red', linewidth=2)\n",
    "plt.title('Linear Regression: Distance to Nearest Station vs Price')\n",
    "plt.xlabel('Distance to Nearest Station (km)')\n",
    "plt.ylabel('Price (Cash)')\n",
    "plt.grid(True)\n",
    "plt.show()\n",
    "\n",
    "# Coefficient and intercept\n",
    "model_coef = model.coef_[0]\n",
    "model_intercept = model.intercept_\n",
    "\n",
    "model_coef, model_intercept"
   ]
  },
  {
   "cell_type": "code",
   "execution_count": 56,
   "id": "c1a151f5-6cca-48bc-aef8-213e35078ea3",
   "metadata": {},
   "outputs": [
    {
     "name": "stdout",
     "output_type": "stream",
     "text": [
      "                            OLS Regression Results                            \n",
      "==============================================================================\n",
      "Dep. Variable:              priceCash   R-squared:                       0.065\n",
      "Model:                            OLS   Adj. R-squared:                  0.049\n",
      "Method:                 Least Squares   F-statistic:                     3.908\n",
      "Date:                Fri, 16 Aug 2024   Prob (F-statistic):             0.0530\n",
      "Time:                        12:03:50   Log-Likelihood:                -923.80\n",
      "No. Observations:                  58   AIC:                             1852.\n",
      "Df Residuals:                      56   BIC:                             1856.\n",
      "Df Model:                           1                                         \n",
      "Covariance Type:            nonrobust                                         \n",
      "===============================================================================================\n",
      "                                  coef    std err          t      P>|t|      [0.025      0.975]\n",
      "-----------------------------------------------------------------------------------------------\n",
      "const                        4.388e+06   2.84e+05     15.463      0.000    3.82e+06    4.96e+06\n",
      "distance_to_nearest_station -3.478e+04   1.76e+04     -1.977      0.053      -7e+04     462.487\n",
      "==============================================================================\n",
      "Omnibus:                        3.556   Durbin-Watson:                   2.009\n",
      "Prob(Omnibus):                  0.169   Jarque-Bera (JB):                3.457\n",
      "Skew:                           0.565   Prob(JB):                        0.178\n",
      "Kurtosis:                       2.608   Cond. No.                         17.1\n",
      "==============================================================================\n",
      "\n",
      "Notes:\n",
      "[1] Standard Errors assume that the covariance matrix of the errors is correctly specified.\n"
     ]
    }
   ],
   "source": [
    "import statsmodels.api as sm\n",
    "\n",
    "# Add a constant (intercept) to the model\n",
    "X_with_constant = sm.add_constant(X)\n",
    "\n",
    "# Fit the regression model using statsmodels\n",
    "model = sm.OLS(y, X_with_constant).fit()\n",
    "\n",
    "# Print the summary which includes p-values\n",
    "print(model.summary())b"
   ]
  },
  {
   "cell_type": "code",
   "execution_count": 62,
   "id": "08d1199b-7857-44fb-97f3-95778091eec8",
   "metadata": {
    "scrolled": true
   },
   "outputs": [
    {
     "data": {
      "text/html": [
       "<div>\n",
       "<style scoped>\n",
       "    .dataframe tbody tr th:only-of-type {\n",
       "        vertical-align: middle;\n",
       "    }\n",
       "\n",
       "    .dataframe tbody tr th {\n",
       "        vertical-align: top;\n",
       "    }\n",
       "\n",
       "    .dataframe thead th {\n",
       "        text-align: right;\n",
       "    }\n",
       "</style>\n",
       "<table border=\"1\" class=\"dataframe\">\n",
       "  <thead>\n",
       "    <tr style=\"text-align: right;\">\n",
       "      <th></th>\n",
       "      <th>address_clean</th>\n",
       "    </tr>\n",
       "  </thead>\n",
       "  <tbody>\n",
       "    <tr>\n",
       "      <th>0</th>\n",
       "      <td>Name: København SV, Road: Martin Luther Kings Vej, Zip Code: 2450, Municipality Code: 101</td>\n",
       "    </tr>\n",
       "    <tr>\n",
       "      <th>1</th>\n",
       "      <td>Name: København K, Road: Takkelloftvej, Zip Code: 1437, Municipality Code: 101</td>\n",
       "    </tr>\n",
       "    <tr>\n",
       "      <th>2</th>\n",
       "      <td>Name: København SV, Road: George Marshalls Vej, Zip Code: 2450, Municipality Code: 101</td>\n",
       "    </tr>\n",
       "    <tr>\n",
       "      <th>3</th>\n",
       "      <td>Name: København K, Road: Refshalevej, Zip Code: 1432, Municipality Code: 101</td>\n",
       "    </tr>\n",
       "    <tr>\n",
       "      <th>4</th>\n",
       "      <td>Name: Hemmet, Road: Molen, Zip Code: 6893, Municipality Code: 760</td>\n",
       "    </tr>\n",
       "    <tr>\n",
       "      <th>5</th>\n",
       "      <td>Name: København K, Road: Takkelloftvej, Zip Code: 1437, Municipality Code: 101</td>\n",
       "    </tr>\n",
       "    <tr>\n",
       "      <th>6</th>\n",
       "      <td>Name: København K, Road: Strandgade, Zip Code: 1401, Municipality Code: 101</td>\n",
       "    </tr>\n",
       "    <tr>\n",
       "      <th>7</th>\n",
       "      <td>Name: København K, Road: Refshalevej, Zip Code: 1432, Municipality Code: 101</td>\n",
       "    </tr>\n",
       "    <tr>\n",
       "      <th>8</th>\n",
       "      <td>Name: Ishøj, Road: Søhesten, Zip Code: 2635, Municipality Code: 183</td>\n",
       "    </tr>\n",
       "    <tr>\n",
       "      <th>9</th>\n",
       "      <td>Name: Hemmet, Road: Molen, Zip Code: 6893, Municipality Code: 760</td>\n",
       "    </tr>\n",
       "    <tr>\n",
       "      <th>10</th>\n",
       "      <td>Name: København SV, Road: Linus Paulings Vej, Zip Code: 2450, Municipality Code: 101</td>\n",
       "    </tr>\n",
       "    <tr>\n",
       "      <th>11</th>\n",
       "      <td>Name: København S, Road: Ved Slusen, Zip Code: 2300, Municipality Code: 101</td>\n",
       "    </tr>\n",
       "    <tr>\n",
       "      <th>12</th>\n",
       "      <td>Name: København K, Road: Langebrogade, Zip Code: 1411, Municipality Code: 101</td>\n",
       "    </tr>\n",
       "    <tr>\n",
       "      <th>13</th>\n",
       "      <td>Name: Nykøbing Sj, Road: Havnevej, Zip Code: 4500, Municipality Code: 306</td>\n",
       "    </tr>\n",
       "    <tr>\n",
       "      <th>14</th>\n",
       "      <td>Name: København SV, Road: Frederikskaj, Zip Code: 2450, Municipality Code: 101</td>\n",
       "    </tr>\n",
       "    <tr>\n",
       "      <th>15</th>\n",
       "      <td>Name: Ishøj, Road: Ishøj Havn, Zip Code: 2635, Municipality Code: 183</td>\n",
       "    </tr>\n",
       "    <tr>\n",
       "      <th>16</th>\n",
       "      <td>Name: København K, Road: Krudtløbsvej, Zip Code: 1439, Municipality Code: 101</td>\n",
       "    </tr>\n",
       "    <tr>\n",
       "      <th>17</th>\n",
       "      <td>Name: København K, Road: Krudtløbsvej, Zip Code: 1439, Municipality Code: 101</td>\n",
       "    </tr>\n",
       "    <tr>\n",
       "      <th>18</th>\n",
       "      <td>Name: København SV, Road: Skibbroen, Zip Code: 2450, Municipality Code: 101</td>\n",
       "    </tr>\n",
       "    <tr>\n",
       "      <th>19</th>\n",
       "      <td>Name: København SV, Road: Skibbroen, Zip Code: 2450, Municipality Code: 101</td>\n",
       "    </tr>\n",
       "    <tr>\n",
       "      <th>20</th>\n",
       "      <td>Name: København S, Road: Ved Slusen, Zip Code: 2300, Municipality Code: 101</td>\n",
       "    </tr>\n",
       "    <tr>\n",
       "      <th>21</th>\n",
       "      <td>Name: København SV, Road: Ben Websters Vej, Zip Code: 2450, Municipality Code: 101</td>\n",
       "    </tr>\n",
       "    <tr>\n",
       "      <th>22</th>\n",
       "      <td>Name: Grenaa, Road: Skakkes Holm, Zip Code: 8500, Municipality Code: 707</td>\n",
       "    </tr>\n",
       "    <tr>\n",
       "      <th>23</th>\n",
       "      <td>Name: København S, Road: Ved Slusen, Zip Code: 2300, Municipality Code: 101</td>\n",
       "    </tr>\n",
       "    <tr>\n",
       "      <th>24</th>\n",
       "      <td>Name: København S, Road: Ved Slusen, Zip Code: 2300, Municipality Code: 101</td>\n",
       "    </tr>\n",
       "    <tr>\n",
       "      <th>25</th>\n",
       "      <td>Name: København SV, Road: Frederikskaj, Zip Code: 2450, Municipality Code: 101</td>\n",
       "    </tr>\n",
       "    <tr>\n",
       "      <th>26</th>\n",
       "      <td>Name: København S, Road: Ved Slusen, Zip Code: 2300, Municipality Code: 101</td>\n",
       "    </tr>\n",
       "    <tr>\n",
       "      <th>27</th>\n",
       "      <td>Name: Ærøskøbing, Road: Ærøskøbing Havn, Bro 7, Zip Code: 5970, Municipality Code: 492</td>\n",
       "    </tr>\n",
       "    <tr>\n",
       "      <th>28</th>\n",
       "      <td>Name: København K, Road: Strandgade, Zip Code: 1401, Municipality Code: 101</td>\n",
       "    </tr>\n",
       "    <tr>\n",
       "      <th>29</th>\n",
       "      <td>Name: København SV, Road: Martin Luther Kings Vej, Zip Code: 2450, Municipality Code: 101</td>\n",
       "    </tr>\n",
       "    <tr>\n",
       "      <th>30</th>\n",
       "      <td>Name: København K, Road: Takkelloftvej, Zip Code: 1437, Municipality Code: 101</td>\n",
       "    </tr>\n",
       "    <tr>\n",
       "      <th>31</th>\n",
       "      <td>Name: København SV, Road: George Marshalls Vej, Zip Code: 2450, Municipality Code: 101</td>\n",
       "    </tr>\n",
       "    <tr>\n",
       "      <th>32</th>\n",
       "      <td>Name: København K, Road: Refshalevej, Zip Code: 1432, Municipality Code: 101</td>\n",
       "    </tr>\n",
       "    <tr>\n",
       "      <th>33</th>\n",
       "      <td>Name: Hemmet, Road: Molen, Zip Code: 6893, Municipality Code: 760</td>\n",
       "    </tr>\n",
       "    <tr>\n",
       "      <th>34</th>\n",
       "      <td>Name: København K, Road: Takkelloftvej, Zip Code: 1437, Municipality Code: 101</td>\n",
       "    </tr>\n",
       "    <tr>\n",
       "      <th>35</th>\n",
       "      <td>Name: København K, Road: Strandgade, Zip Code: 1401, Municipality Code: 101</td>\n",
       "    </tr>\n",
       "    <tr>\n",
       "      <th>36</th>\n",
       "      <td>Name: København K, Road: Refshalevej, Zip Code: 1432, Municipality Code: 101</td>\n",
       "    </tr>\n",
       "    <tr>\n",
       "      <th>37</th>\n",
       "      <td>Name: Ishøj, Road: Søhesten, Zip Code: 2635, Municipality Code: 183</td>\n",
       "    </tr>\n",
       "    <tr>\n",
       "      <th>38</th>\n",
       "      <td>Name: Hemmet, Road: Molen, Zip Code: 6893, Municipality Code: 760</td>\n",
       "    </tr>\n",
       "    <tr>\n",
       "      <th>39</th>\n",
       "      <td>Name: København SV, Road: Linus Paulings Vej, Zip Code: 2450, Municipality Code: 101</td>\n",
       "    </tr>\n",
       "    <tr>\n",
       "      <th>40</th>\n",
       "      <td>Name: København S, Road: Ved Slusen, Zip Code: 2300, Municipality Code: 101</td>\n",
       "    </tr>\n",
       "    <tr>\n",
       "      <th>41</th>\n",
       "      <td>Name: København K, Road: Langebrogade, Zip Code: 1411, Municipality Code: 101</td>\n",
       "    </tr>\n",
       "    <tr>\n",
       "      <th>42</th>\n",
       "      <td>Name: Nykøbing Sj, Road: Havnevej, Zip Code: 4500, Municipality Code: 306</td>\n",
       "    </tr>\n",
       "    <tr>\n",
       "      <th>43</th>\n",
       "      <td>Name: København SV, Road: Frederikskaj, Zip Code: 2450, Municipality Code: 101</td>\n",
       "    </tr>\n",
       "    <tr>\n",
       "      <th>44</th>\n",
       "      <td>Name: Ishøj, Road: Ishøj Havn, Zip Code: 2635, Municipality Code: 183</td>\n",
       "    </tr>\n",
       "    <tr>\n",
       "      <th>45</th>\n",
       "      <td>Name: København K, Road: Krudtløbsvej, Zip Code: 1439, Municipality Code: 101</td>\n",
       "    </tr>\n",
       "    <tr>\n",
       "      <th>46</th>\n",
       "      <td>Name: København K, Road: Krudtløbsvej, Zip Code: 1439, Municipality Code: 101</td>\n",
       "    </tr>\n",
       "    <tr>\n",
       "      <th>47</th>\n",
       "      <td>Name: København SV, Road: Skibbroen, Zip Code: 2450, Municipality Code: 101</td>\n",
       "    </tr>\n",
       "    <tr>\n",
       "      <th>48</th>\n",
       "      <td>Name: København SV, Road: Skibbroen, Zip Code: 2450, Municipality Code: 101</td>\n",
       "    </tr>\n",
       "    <tr>\n",
       "      <th>49</th>\n",
       "      <td>Name: København S, Road: Ved Slusen, Zip Code: 2300, Municipality Code: 101</td>\n",
       "    </tr>\n",
       "    <tr>\n",
       "      <th>50</th>\n",
       "      <td>Name: København SV, Road: Ben Websters Vej, Zip Code: 2450, Municipality Code: 101</td>\n",
       "    </tr>\n",
       "    <tr>\n",
       "      <th>51</th>\n",
       "      <td>Name: Grenaa, Road: Skakkes Holm, Zip Code: 8500, Municipality Code: 707</td>\n",
       "    </tr>\n",
       "    <tr>\n",
       "      <th>52</th>\n",
       "      <td>Name: København S, Road: Ved Slusen, Zip Code: 2300, Municipality Code: 101</td>\n",
       "    </tr>\n",
       "    <tr>\n",
       "      <th>53</th>\n",
       "      <td>Name: København S, Road: Ved Slusen, Zip Code: 2300, Municipality Code: 101</td>\n",
       "    </tr>\n",
       "    <tr>\n",
       "      <th>54</th>\n",
       "      <td>Name: København SV, Road: Frederikskaj, Zip Code: 2450, Municipality Code: 101</td>\n",
       "    </tr>\n",
       "    <tr>\n",
       "      <th>55</th>\n",
       "      <td>Name: København S, Road: Ved Slusen, Zip Code: 2300, Municipality Code: 101</td>\n",
       "    </tr>\n",
       "    <tr>\n",
       "      <th>56</th>\n",
       "      <td>Name: Ærøskøbing, Road: Ærøskøbing Havn, Bro 7, Zip Code: 5970, Municipality Code: 492</td>\n",
       "    </tr>\n",
       "    <tr>\n",
       "      <th>57</th>\n",
       "      <td>Name: København K, Road: Strandgade, Zip Code: 1401, Municipality Code: 101</td>\n",
       "    </tr>\n",
       "  </tbody>\n",
       "</table>\n",
       "</div>"
      ],
      "text/plain": [
       "                                                                                address_clean\n",
       "0   Name: København SV, Road: Martin Luther Kings Vej, Zip Code: 2450, Municipality Code: 101\n",
       "1              Name: København K, Road: Takkelloftvej, Zip Code: 1437, Municipality Code: 101\n",
       "2      Name: København SV, Road: George Marshalls Vej, Zip Code: 2450, Municipality Code: 101\n",
       "3                Name: København K, Road: Refshalevej, Zip Code: 1432, Municipality Code: 101\n",
       "4                           Name: Hemmet, Road: Molen, Zip Code: 6893, Municipality Code: 760\n",
       "5              Name: København K, Road: Takkelloftvej, Zip Code: 1437, Municipality Code: 101\n",
       "6                 Name: København K, Road: Strandgade, Zip Code: 1401, Municipality Code: 101\n",
       "7                Name: København K, Road: Refshalevej, Zip Code: 1432, Municipality Code: 101\n",
       "8                         Name: Ishøj, Road: Søhesten, Zip Code: 2635, Municipality Code: 183\n",
       "9                           Name: Hemmet, Road: Molen, Zip Code: 6893, Municipality Code: 760\n",
       "10       Name: København SV, Road: Linus Paulings Vej, Zip Code: 2450, Municipality Code: 101\n",
       "11                Name: København S, Road: Ved Slusen, Zip Code: 2300, Municipality Code: 101\n",
       "12              Name: København K, Road: Langebrogade, Zip Code: 1411, Municipality Code: 101\n",
       "13                  Name: Nykøbing Sj, Road: Havnevej, Zip Code: 4500, Municipality Code: 306\n",
       "14             Name: København SV, Road: Frederikskaj, Zip Code: 2450, Municipality Code: 101\n",
       "15                      Name: Ishøj, Road: Ishøj Havn, Zip Code: 2635, Municipality Code: 183\n",
       "16              Name: København K, Road: Krudtløbsvej, Zip Code: 1439, Municipality Code: 101\n",
       "17              Name: København K, Road: Krudtløbsvej, Zip Code: 1439, Municipality Code: 101\n",
       "18                Name: København SV, Road: Skibbroen, Zip Code: 2450, Municipality Code: 101\n",
       "19                Name: København SV, Road: Skibbroen, Zip Code: 2450, Municipality Code: 101\n",
       "20                Name: København S, Road: Ved Slusen, Zip Code: 2300, Municipality Code: 101\n",
       "21         Name: København SV, Road: Ben Websters Vej, Zip Code: 2450, Municipality Code: 101\n",
       "22                   Name: Grenaa, Road: Skakkes Holm, Zip Code: 8500, Municipality Code: 707\n",
       "23                Name: København S, Road: Ved Slusen, Zip Code: 2300, Municipality Code: 101\n",
       "24                Name: København S, Road: Ved Slusen, Zip Code: 2300, Municipality Code: 101\n",
       "25             Name: København SV, Road: Frederikskaj, Zip Code: 2450, Municipality Code: 101\n",
       "26                Name: København S, Road: Ved Slusen, Zip Code: 2300, Municipality Code: 101\n",
       "27     Name: Ærøskøbing, Road: Ærøskøbing Havn, Bro 7, Zip Code: 5970, Municipality Code: 492\n",
       "28                Name: København K, Road: Strandgade, Zip Code: 1401, Municipality Code: 101\n",
       "29  Name: København SV, Road: Martin Luther Kings Vej, Zip Code: 2450, Municipality Code: 101\n",
       "30             Name: København K, Road: Takkelloftvej, Zip Code: 1437, Municipality Code: 101\n",
       "31     Name: København SV, Road: George Marshalls Vej, Zip Code: 2450, Municipality Code: 101\n",
       "32               Name: København K, Road: Refshalevej, Zip Code: 1432, Municipality Code: 101\n",
       "33                          Name: Hemmet, Road: Molen, Zip Code: 6893, Municipality Code: 760\n",
       "34             Name: København K, Road: Takkelloftvej, Zip Code: 1437, Municipality Code: 101\n",
       "35                Name: København K, Road: Strandgade, Zip Code: 1401, Municipality Code: 101\n",
       "36               Name: København K, Road: Refshalevej, Zip Code: 1432, Municipality Code: 101\n",
       "37                        Name: Ishøj, Road: Søhesten, Zip Code: 2635, Municipality Code: 183\n",
       "38                          Name: Hemmet, Road: Molen, Zip Code: 6893, Municipality Code: 760\n",
       "39       Name: København SV, Road: Linus Paulings Vej, Zip Code: 2450, Municipality Code: 101\n",
       "40                Name: København S, Road: Ved Slusen, Zip Code: 2300, Municipality Code: 101\n",
       "41              Name: København K, Road: Langebrogade, Zip Code: 1411, Municipality Code: 101\n",
       "42                  Name: Nykøbing Sj, Road: Havnevej, Zip Code: 4500, Municipality Code: 306\n",
       "43             Name: København SV, Road: Frederikskaj, Zip Code: 2450, Municipality Code: 101\n",
       "44                      Name: Ishøj, Road: Ishøj Havn, Zip Code: 2635, Municipality Code: 183\n",
       "45              Name: København K, Road: Krudtløbsvej, Zip Code: 1439, Municipality Code: 101\n",
       "46              Name: København K, Road: Krudtløbsvej, Zip Code: 1439, Municipality Code: 101\n",
       "47                Name: København SV, Road: Skibbroen, Zip Code: 2450, Municipality Code: 101\n",
       "48                Name: København SV, Road: Skibbroen, Zip Code: 2450, Municipality Code: 101\n",
       "49                Name: København S, Road: Ved Slusen, Zip Code: 2300, Municipality Code: 101\n",
       "50         Name: København SV, Road: Ben Websters Vej, Zip Code: 2450, Municipality Code: 101\n",
       "51                   Name: Grenaa, Road: Skakkes Holm, Zip Code: 8500, Municipality Code: 707\n",
       "52                Name: København S, Road: Ved Slusen, Zip Code: 2300, Municipality Code: 101\n",
       "53                Name: København S, Road: Ved Slusen, Zip Code: 2300, Municipality Code: 101\n",
       "54             Name: København SV, Road: Frederikskaj, Zip Code: 2450, Municipality Code: 101\n",
       "55                Name: København S, Road: Ved Slusen, Zip Code: 2300, Municipality Code: 101\n",
       "56     Name: Ærøskøbing, Road: Ærøskøbing Havn, Bro 7, Zip Code: 5970, Municipality Code: 492\n",
       "57                Name: København K, Road: Strandgade, Zip Code: 1401, Municipality Code: 101"
      ]
     },
     "execution_count": 62,
     "metadata": {},
     "output_type": "execute_result"
    }
   ],
   "source": [
    "# Function to extract the required fields\n",
    "def extract_address_info(address):\n",
    "    road_name = address.get('roadName', '')\n",
    "    zip_code = address.get('zipCode', '')\n",
    "    municipality_code = address.get('municipality', {}).get('municipalityCode', '')\n",
    "    name = address.get('city', {}).get('name', '')\n",
    "    \n",
    "    return f\"Name: {name}, Road: {road_name}, Zip Code: {zip_code}, Municipality Code: {municipality_code}\"\n",
    "\n",
    "\n",
    "# Apply the function to each row\n",
    "Final_Real_Estate_Postings['address_clean'] = Final_Real_Estate_Postings['address'].apply(extract_address_info)\n",
    "\n",
    "# Display the result\n",
    "Final_Real_Estate_Postings[['address_clean']]"
   ]
  },
  {
   "cell_type": "code",
   "execution_count": 64,
   "id": "08f07e2c-16ac-409f-863b-d4a1f1baf638",
   "metadata": {},
   "outputs": [
    {
     "name": "stdout",
     "output_type": "stream",
     "text": [
      "Clean Address for the row with max distance to nearest station:\n",
      "Name: Grenaa, Road: Skakkes Holm, Zip Code: 8500, Municipality Code: 707\n"
     ]
    }
   ],
   "source": [
    "# Find the row with the maximum distance to the nearest station\n",
    "max_distance_row = Final_Real_Estate_Postings.loc[Final_Real_Estate_Postings['distance_to_nearest_station'].idxmax()]\n",
    "\n",
    "# Extract the clean address for this row\n",
    "clean_address = extract_address_info(max_distance_row['address'])\n",
    "\n",
    "# Print the clean address\n",
    "print(\"Clean Address for the row with max distance to nearest station:\")\n",
    "print(clean_address)\n"
   ]
  }
 ],
 "metadata": {
  "kernelspec": {
   "display_name": "Python 3 (ipykernel)",
   "language": "python",
   "name": "python3"
  },
  "language_info": {
   "codemirror_mode": {
    "name": "ipython",
    "version": 3
   },
   "file_extension": ".py",
   "mimetype": "text/x-python",
   "name": "python",
   "nbconvert_exporter": "python",
   "pygments_lexer": "ipython3",
   "version": "3.11.7"
  }
 },
 "nbformat": 4,
 "nbformat_minor": 5
}
